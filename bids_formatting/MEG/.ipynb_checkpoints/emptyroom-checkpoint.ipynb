{
 "cells": [
  {
   "cell_type": "code",
   "execution_count": 1,
   "id": "4ebdfde9",
   "metadata": {},
   "outputs": [],
   "source": [
    "import os.path as op\n",
    "import shutil\n",
    "\n",
    "from datetime import datetime, timezone\n",
    "\n",
    "import mne\n",
    "from mne.datasets import sample\n",
    "\n",
    "from mne_bids import (write_raw_bids, read_raw_bids,\n",
    "                      BIDSPath, print_dir_tree)\n",
    "\n"
   ]
  },
  {
   "cell_type": "code",
   "execution_count": 2,
   "id": "f3b8edae",
   "metadata": {},
   "outputs": [],
   "source": [
    "bids_root = '/home/is153802/workspace_LPP/data/MEG/LPP/LPP_bids'"
   ]
  },
  {
   "cell_type": "code",
   "execution_count": 5,
   "id": "927e9616",
   "metadata": {},
   "outputs": [
    {
     "name": "stdout",
     "output_type": "stream",
     "text": [
      "Opening raw data file /home/is153802/workspace_LPP/data/MEG/LPP/empty_room/220628/empty_raw.fif...\n",
      "Isotrak not found\n",
      "    Read a total of 13 projection items:\n",
      "        grad_ssp_upright.fif : PCA-v1 (1 x 306)  idle\n",
      "        grad_ssp_upright.fif : PCA-v2 (1 x 306)  idle\n",
      "        grad_ssp_upright.fif : PCA-v3 (1 x 306)  idle\n",
      "        grad_ssp_upright.fif : PCA-v4 (1 x 306)  idle\n",
      "        grad_ssp_upright.fif : PCA-v5 (1 x 306)  idle\n",
      "        mag_ssp_upright.fif : PCA-v1 (1 x 306)  idle\n",
      "        mag_ssp_upright.fif : PCA-v2 (1 x 306)  idle\n",
      "        mag_ssp_upright.fif : PCA-v3 (1 x 306)  idle\n",
      "        mag_ssp_upright.fif : PCA-v4 (1 x 306)  idle\n",
      "        mag_ssp_upright.fif : PCA-v5 (1 x 306)  idle\n",
      "        mag_ssp_upright.fif : PCA-v6 (1 x 306)  idle\n",
      "        mag_ssp_upright.fif : PCA-v7 (1 x 306)  idle\n",
      "        mag_ssp_upright.fif : PCA-v8 (1 x 306)  idle\n",
      "    Range : 7000 ... 130999 =      7.000 ...   130.999 secs\n",
      "Ready.\n"
     ]
    },
    {
     "name": "stderr",
     "output_type": "stream",
     "text": [
      "/tmp/ipykernel_251430/1050360460.py:2: RuntimeWarning: This file contains raw Internal Active Shielding data. It may be distorted. Elekta recommends it be run through MaxFilter to produce reliable results. Consider closing the file and running MaxFilter on the data.\n",
      "  er_raw = mne.io.read_raw_fif(raw_er,allow_maxshield = True)\n"
     ]
    }
   ],
   "source": [
    "raw_er = '/home/is153802/workspace_LPP/data/MEG/LPP/empty_room/220628/empty_raw.fif'\n",
    "er_raw = mne.io.read_raw_fif(raw_er,allow_maxshield = True)"
   ]
  },
  {
   "cell_type": "code",
   "execution_count": 8,
   "id": "ac314f9c",
   "metadata": {},
   "outputs": [
    {
     "name": "stdout",
     "output_type": "stream",
     "text": [
      "20220628\n"
     ]
    }
   ],
   "source": [
    "er_raw.info['line_freq'] = 60\n",
    "er_date = er_raw.info['meas_date'].strftime('%Y%m%d')\n",
    "print(er_date)\n",
    "\n"
   ]
  },
  {
   "cell_type": "code",
   "execution_count": 9,
   "id": "e08a08dc",
   "metadata": {},
   "outputs": [
    {
     "name": "stdout",
     "output_type": "stream",
     "text": [
      "Opening raw data file /home/is153802/workspace_LPP/data/MEG/LPP/empty_room/220628/empty_raw.fif...\n",
      "Isotrak not found\n",
      "    Read a total of 13 projection items:\n",
      "        grad_ssp_upright.fif : PCA-v1 (1 x 306)  idle\n",
      "        grad_ssp_upright.fif : PCA-v2 (1 x 306)  idle\n",
      "        grad_ssp_upright.fif : PCA-v3 (1 x 306)  idle\n",
      "        grad_ssp_upright.fif : PCA-v4 (1 x 306)  idle\n",
      "        grad_ssp_upright.fif : PCA-v5 (1 x 306)  idle\n",
      "        mag_ssp_upright.fif : PCA-v1 (1 x 306)  idle\n",
      "        mag_ssp_upright.fif : PCA-v2 (1 x 306)  idle\n",
      "        mag_ssp_upright.fif : PCA-v3 (1 x 306)  idle\n",
      "        mag_ssp_upright.fif : PCA-v4 (1 x 306)  idle\n",
      "        mag_ssp_upright.fif : PCA-v5 (1 x 306)  idle\n",
      "        mag_ssp_upright.fif : PCA-v6 (1 x 306)  idle\n",
      "        mag_ssp_upright.fif : PCA-v7 (1 x 306)  idle\n",
      "        mag_ssp_upright.fif : PCA-v8 (1 x 306)  idle\n",
      "    Range : 7000 ... 130999 =      7.000 ...   130.999 secs\n",
      "Ready.\n",
      "Writing '/home/is153802/workspace_LPP/data/MEG/LPP/LPP_bids/participants.tsv'...\n",
      "Writing '/home/is153802/workspace_LPP/data/MEG/LPP/LPP_bids/participants.json'...\n",
      "Writing of electrodes.tsv is not supported for data type \"meg\". Skipping ...\n",
      "Writing '/home/is153802/workspace_LPP/data/MEG/LPP/LPP_bids/dataset_description.json'...\n",
      "Writing '/home/is153802/workspace_LPP/data/MEG/LPP/LPP_bids/sub-emptyroom/ses-20220628/meg/sub-emptyroom_ses-20220628_task-noise_meg.json'...\n",
      "Writing '/home/is153802/workspace_LPP/data/MEG/LPP/LPP_bids/sub-emptyroom/ses-20220628/meg/sub-emptyroom_ses-20220628_task-noise_channels.tsv'...\n",
      "Copying data files to sub-emptyroom_ses-20220628_task-noise_meg.fif\n",
      "Reserving possible split file sub-emptyroom_ses-20220628_task-noise_split-01_meg.fif\n",
      "Writing /home/is153802/workspace_LPP/data/MEG/LPP/LPP_bids/sub-emptyroom/ses-20220628/meg/sub-emptyroom_ses-20220628_task-noise_meg.fif\n"
     ]
    },
    {
     "name": "stderr",
     "output_type": "stream",
     "text": [
      "/tmp/ipykernel_251430/782972896.py:3: RuntimeWarning: This file contains raw Internal Active Shielding data. It may be distorted. Elekta recommends it be run through MaxFilter to produce reliable results. Consider closing the file and running MaxFilter on the data.\n",
      "  write_raw_bids(er_raw, er_bids_path, overwrite=True)\n"
     ]
    },
    {
     "name": "stdout",
     "output_type": "stream",
     "text": [
      "Closing /home/is153802/workspace_LPP/data/MEG/LPP/LPP_bids/sub-emptyroom/ses-20220628/meg/sub-emptyroom_ses-20220628_task-noise_meg.fif\n",
      "[done]\n",
      "Writing '/home/is153802/workspace_LPP/data/MEG/LPP/LPP_bids/sub-emptyroom/ses-20220628/sub-emptyroom_ses-20220628_scans.tsv'...\n",
      "Wrote /home/is153802/workspace_LPP/data/MEG/LPP/LPP_bids/sub-emptyroom/ses-20220628/sub-emptyroom_ses-20220628_scans.tsv entry with meg/sub-emptyroom_ses-20220628_task-noise_meg.fif.\n"
     ]
    },
    {
     "data": {
      "text/plain": [
       "BIDSPath(\n",
       "root: /home/is153802/workspace_LPP/data/MEG/LPP/LPP_bids\n",
       "datatype: meg\n",
       "basename: sub-emptyroom_ses-20220628_task-noise_meg.fif)"
      ]
     },
     "execution_count": 9,
     "metadata": {},
     "output_type": "execute_result"
    }
   ],
   "source": [
    "er_bids_path = BIDSPath(subject='emptyroom', session=er_date,\n",
    "                        task='noise', root=bids_root)\n",
    "write_raw_bids(er_raw, er_bids_path, overwrite=True)"
   ]
  },
  {
   "cell_type": "code",
   "execution_count": null,
   "id": "1c06cf50",
   "metadata": {},
   "outputs": [],
   "source": []
  }
 ],
 "metadata": {
  "kernelspec": {
   "display_name": "Python 3 (ipykernel)",
   "language": "python",
   "name": "python3"
  },
  "language_info": {
   "codemirror_mode": {
    "name": "ipython",
    "version": 3
   },
   "file_extension": ".py",
   "mimetype": "text/x-python",
   "name": "python",
   "nbconvert_exporter": "python",
   "pygments_lexer": "ipython3",
   "version": "3.10.4"
  }
 },
 "nbformat": 4,
 "nbformat_minor": 5
}
