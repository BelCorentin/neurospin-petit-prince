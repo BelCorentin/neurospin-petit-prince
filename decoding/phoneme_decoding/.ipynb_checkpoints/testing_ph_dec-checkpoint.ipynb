{
 "cells": [
  {
   "cell_type": "code",
   "execution_count": 27,
   "id": "c55ec974",
   "metadata": {},
   "outputs": [],
   "source": [
    "# Neuro\n",
    "import mne\n",
    "import mne_bids\n",
    "\n",
    "# ML/Data\n",
    "import numpy as np\n",
    "import pandas as pd\n",
    "from sklearn.model_selection import KFold, cross_val_predict\n",
    "from sklearn.pipeline import make_pipeline\n",
    "from sklearn.preprocessing import StandardScaler, RobustScaler\n",
    "from sklearn.linear_model import RidgeCV\n",
    "from wordfreq import zipf_frequency\n",
    "from Levenshtein import editops\n",
    "\n",
    "\n",
    "# Tools\n",
    "import matplotlib.pyplot as plt\n",
    "from pathlib import Path\n",
    "import matplotlib\n",
    "\n",
    "\n",
    "mne.set_log_level(False)\n"
   ]
  },
  {
   "cell_type": "code",
   "execution_count": 2,
   "id": "e4ad892d",
   "metadata": {},
   "outputs": [],
   "source": [
    "\n",
    "def decod(X, y):\n",
    "    assert len(X) == len(y)\n",
    "    # define data\n",
    "    model = make_pipeline(StandardScaler(), RidgeCV(alphas=np.logspace(-3, 8, 10)))\n",
    "    cv = KFold(5, shuffle=True, random_state=0)\n",
    "\n",
    "    # fit predict\n",
    "    n, n_chans, n_times = X.shape\n",
    "    R = np.zeros(n_times)\n",
    "    for t in range(n_times):\n",
    "        print(\".\", end=\"\")\n",
    "        y_pred = cross_val_predict(model, X[:, :, t], y, cv=cv)\n",
    "        R[t] = correlate(y, y_pred)\n",
    "    return R\n",
    "\n",
    "\n",
    "# Function to correlate\n",
    "def correlate(X, Y):\n",
    "    if X.ndim == 1:\n",
    "        X = X[:, None]\n",
    "    if Y.ndim == 1:\n",
    "        Y = Y[:, None]\n",
    "    X = X - X.mean(0)\n",
    "    Y = Y - Y.mean(0)\n",
    "\n",
    "    SX2 = (X**2).sum(0) ** 0.5\n",
    "    SY2 = (Y**2).sum(0) ** 0.5\n",
    "    SXY = (X * Y).sum(0)\n",
    "    return SXY / (SX2 * SY2)\n",
    "\n",
    "\n",
    "# Utils\n",
    "def match_list(A, B, on_replace=\"delete\"):\n",
    "    \"\"\"Match two lists of different sizes and return corresponding indice\n",
    "    Parameters\n",
    "    ----------\n",
    "    A: list | array, shape (n,)\n",
    "        The values of the first list\n",
    "    B: list | array: shape (m, )\n",
    "        The values of the second list\n",
    "    Returns\n",
    "    -------\n",
    "    A_idx : array\n",
    "        The indices of the A list that match those of the B\n",
    "    B_idx : array\n",
    "        The indices of the B list that match those of the A\n",
    "    \"\"\"\n",
    "\n",
    "    if not isinstance(A, str):\n",
    "        unique = np.unique(np.r_[A, B])\n",
    "        label_encoder = dict((k, v) for v, k in enumerate(unique))\n",
    "\n",
    "        def int_to_unicode(array: np.ndarray) -> str:\n",
    "            return \"\".join([str(chr(label_encoder[ii])) for ii in array])\n",
    "\n",
    "        A = int_to_unicode(A)\n",
    "        B = int_to_unicode(B)\n",
    "\n",
    "    changes = editops(A, B)\n",
    "    B_sel = np.arange(len(B)).astype(float)\n",
    "    A_sel = np.arange(len(A)).astype(float)\n",
    "    for type_, val_a, val_b in changes:\n",
    "        if type_ == \"insert\":\n",
    "            B_sel[val_b] = np.nan\n",
    "        elif type_ == \"delete\":\n",
    "            A_sel[val_a] = np.nan\n",
    "        elif on_replace == \"delete\":\n",
    "            # print('delete replace')\n",
    "            A_sel[val_a] = np.nan\n",
    "            B_sel[val_b] = np.nan\n",
    "        elif on_replace == \"keep\":\n",
    "            # print('keep replace')\n",
    "            pass\n",
    "        else:\n",
    "            raise NotImplementedError\n",
    "    B_sel = B_sel[np.where(~np.isnan(B_sel))]\n",
    "    A_sel = A_sel[np.where(~np.isnan(A_sel))]\n",
    "    assert len(B_sel) == len(A_sel)\n",
    "    return A_sel.astype(int), B_sel.astype(int)\n",
    "\n",
    "\n",
    "def get_subjects():\n",
    "    subjects = pd.read_csv(str(PATHS.data) + \"/participants.tsv\", sep=\"\\t\")\n",
    "    subjects = subjects.participant_id.apply(lambda x: x.split(\"-\")[1]).values\n",
    "    # subjects = np.delete(subjects, subjects.shape[0]-1)\n",
    "    # Let's sort this array before outputting it!\n",
    "    int_subjects = np.sort([int(subj) for subj in subjects])\n",
    "    subjects = [str(subj) for subj in int_subjects]\n",
    "\n",
    "    return subjects\n",
    "\n"
   ]
  },
  {
   "cell_type": "code",
   "execution_count": 3,
   "id": "89e5f5d3",
   "metadata": {},
   "outputs": [
    {
     "name": "stdout",
     "output_type": "stream",
     "text": [
      "File opened: /home/is153802/code/phoneme_decoding/stimuli\n"
     ]
    }
   ],
   "source": [
    "\n",
    "class PATHS:\n",
    "    path_file = Path(\"./data_path.txt\")\n",
    "    if not path_file.exists():\n",
    "        data = Path(input(\"data_path?\"))\n",
    "        # assert data.exists()\n",
    "        with open(path_file, \"w\") as f:\n",
    "            f.write(str(data) + \"\\n\")\n",
    "    with open(path_file, \"r\") as f:\n",
    "        data = Path(f.readlines()[0].strip(\"\\n\"))\n",
    "        print(f\"File opened: {data}\")\n",
    "        if str(data).__contains__(\"final\"):\n",
    "            print(\"Processed data (Maxwell filtered) used\")\n",
    "        if str(data).__contains__(\"BIDS\"):\n",
    "            print(\"Raw data (no filtering) used\")\n",
    "    # assert data.exists()\n",
    "\n",
    "\n",
    "TASK = \"rest\"\n",
    "# To simplify for the time being\n",
    "# To run on the Neurospin workstation\n",
    "PATHS.data = Path(\"/home/co/workspace_LPP/data/MEG/LPP/LPP_bids\")"
   ]
  },
  {
   "cell_type": "code",
   "execution_count": 4,
   "id": "c7317c3b",
   "metadata": {},
   "outputs": [],
   "source": [
    "bids_path = mne_bids.BIDSPath(\n",
    "            subject=\"220628\",\n",
    "            session=\"01\",\n",
    "            task=TASK,\n",
    "            datatype=\"meg\",\n",
    "            root=PATHS.data,\n",
    "            run='01',\n",
    "        )"
   ]
  },
  {
   "cell_type": "code",
   "execution_count": 5,
   "id": "bced5f9e",
   "metadata": {},
   "outputs": [
    {
     "name": "stderr",
     "output_type": "stream",
     "text": [
      "<ipython-input-5-8f377d55b42d>:1: RuntimeWarning: This file contains raw Internal Active Shielding data. It may be distorted. Elekta recommends it be run through MaxFilter to produce reliable results. Consider closing the file and running MaxFilter on the data.\n",
      "  raw = mne_bids.read_raw_bids(bids_path)\n",
      "<ipython-input-5-8f377d55b42d>:1: RuntimeWarning: The unit for channel(s) STI001, STI002, STI003, STI004, STI005, STI006, STI007, STI008, STI009, STI010, STI011, STI012, STI013, STI014, STI015, STI016, STI101, STI201, STI301 has changed from V to NA.\n",
      "  raw = mne_bids.read_raw_bids(bids_path)\n"
     ]
    }
   ],
   "source": [
    "raw = mne_bids.read_raw_bids(bids_path)\n",
    "raw.pick_types(meg=True, stim=True)\n",
    "raw.load_data()\n",
    "raw = raw.filter(0.5, 20)\n",
    "\n",
    "event_file = PATHS.data / f\"sub-{bids_path.subject}\"\n",
    "event_file = event_file / f\"ses-{bids_path.session}\"\n",
    "event_file = event_file / \"meg\"\n",
    "event_file = str(event_file / f\"sub-{bids_path.subject}\")\n",
    "event_file += f\"_ses-{bids_path.session}\"\n",
    "event_file += f\"_task-{bids_path.task}\"\n",
    "event_file += f\"_run-{bids_path.run}_events.tsv\"\n",
    "assert Path(event_file).exists()\n",
    "# read events\n",
    "meta = pd.read_csv(event_file, sep=\"\\t\")\n",
    "events = mne.find_events(raw, stim_channel=\"STI101\", shortest_event=1)\n",
    "\n",
    "phonemes = meta[meta.trial_type.str.contains('phoneme')]\n",
    "words = meta[meta.trial_type.str.contains('word')]"
   ]
  },
  {
   "cell_type": "code",
   "execution_count": 6,
   "id": "146650fb",
   "metadata": {},
   "outputs": [
    {
     "data": {
      "text/html": [
       "<div>\n",
       "<style scoped>\n",
       "    .dataframe tbody tr th:only-of-type {\n",
       "        vertical-align: middle;\n",
       "    }\n",
       "\n",
       "    .dataframe tbody tr th {\n",
       "        vertical-align: top;\n",
       "    }\n",
       "\n",
       "    .dataframe thead th {\n",
       "        text-align: right;\n",
       "    }\n",
       "</style>\n",
       "<table border=\"1\" class=\"dataframe\">\n",
       "  <thead>\n",
       "    <tr style=\"text-align: right;\">\n",
       "      <th></th>\n",
       "      <th>onset</th>\n",
       "      <th>duration</th>\n",
       "      <th>trial_type</th>\n",
       "    </tr>\n",
       "  </thead>\n",
       "  <tbody>\n",
       "    <tr>\n",
       "      <th>0</th>\n",
       "      <td>3.05</td>\n",
       "      <td>0.37</td>\n",
       "      <td>{'kind': 'word', 'word': 'lorsque'}</td>\n",
       "    </tr>\n",
       "    <tr>\n",
       "      <th>1</th>\n",
       "      <td>3.42</td>\n",
       "      <td>0.02</td>\n",
       "      <td>{'kind': 'word', 'word': 'j'}</td>\n",
       "    </tr>\n",
       "    <tr>\n",
       "      <th>2</th>\n",
       "      <td>3.53</td>\n",
       "      <td>0.23</td>\n",
       "      <td>{'kind': 'word', 'word': 'avais'}</td>\n",
       "    </tr>\n",
       "    <tr>\n",
       "      <th>3</th>\n",
       "      <td>3.93</td>\n",
       "      <td>0.25</td>\n",
       "      <td>{'kind': 'word', 'word': 'six'}</td>\n",
       "    </tr>\n",
       "    <tr>\n",
       "      <th>4</th>\n",
       "      <td>4.18</td>\n",
       "      <td>0.18</td>\n",
       "      <td>{'kind': 'word', 'word': 'ans'}</td>\n",
       "    </tr>\n",
       "    <tr>\n",
       "      <th>...</th>\n",
       "      <td>...</td>\n",
       "      <td>...</td>\n",
       "      <td>...</td>\n",
       "    </tr>\n",
       "    <tr>\n",
       "      <th>1627</th>\n",
       "      <td>609.51</td>\n",
       "      <td>0.14</td>\n",
       "      <td>{'kind': 'word', 'word': 'peut'}</td>\n",
       "    </tr>\n",
       "    <tr>\n",
       "      <th>1628</th>\n",
       "      <td>609.65</td>\n",
       "      <td>0.22</td>\n",
       "      <td>{'kind': 'word', 'word': 'pas'}</td>\n",
       "    </tr>\n",
       "    <tr>\n",
       "      <th>1629</th>\n",
       "      <td>609.87</td>\n",
       "      <td>0.17</td>\n",
       "      <td>{'kind': 'word', 'word': 'aller'}</td>\n",
       "    </tr>\n",
       "    <tr>\n",
       "      <th>1630</th>\n",
       "      <td>610.04</td>\n",
       "      <td>0.16</td>\n",
       "      <td>{'kind': 'word', 'word': 'bien'}</td>\n",
       "    </tr>\n",
       "    <tr>\n",
       "      <th>1631</th>\n",
       "      <td>610.20</td>\n",
       "      <td>0.18</td>\n",
       "      <td>{'kind': 'word', 'word': 'loin'}</td>\n",
       "    </tr>\n",
       "  </tbody>\n",
       "</table>\n",
       "<p>1632 rows × 3 columns</p>\n",
       "</div>"
      ],
      "text/plain": [
       "       onset  duration                           trial_type\n",
       "0       3.05      0.37  {'kind': 'word', 'word': 'lorsque'}\n",
       "1       3.42      0.02        {'kind': 'word', 'word': 'j'}\n",
       "2       3.53      0.23    {'kind': 'word', 'word': 'avais'}\n",
       "3       3.93      0.25      {'kind': 'word', 'word': 'six'}\n",
       "4       4.18      0.18      {'kind': 'word', 'word': 'ans'}\n",
       "...      ...       ...                                  ...\n",
       "1627  609.51      0.14     {'kind': 'word', 'word': 'peut'}\n",
       "1628  609.65      0.22      {'kind': 'word', 'word': 'pas'}\n",
       "1629  609.87      0.17    {'kind': 'word', 'word': 'aller'}\n",
       "1630  610.04      0.16     {'kind': 'word', 'word': 'bien'}\n",
       "1631  610.20      0.18     {'kind': 'word', 'word': 'loin'}\n",
       "\n",
       "[1632 rows x 3 columns]"
      ]
     },
     "execution_count": 6,
     "metadata": {},
     "output_type": "execute_result"
    }
   ],
   "source": [
    "words"
   ]
  },
  {
   "cell_type": "code",
   "execution_count": 7,
   "id": "f7d40f2e",
   "metadata": {},
   "outputs": [
    {
     "name": "stdout",
     "output_type": "stream",
     "text": [
      "[[ 32447      0      1]\n",
      " [ 35703      0    128]\n",
      " [ 36073      0    128]\n",
      " ...\n",
      " [643204      0    128]\n",
      " [643364      0    128]\n",
      " [646526      0      1]]\n",
      "[  3.05       3.42       3.53     ... 610.38     610.415    611.972347]\n",
      "Len i : 1610 for run 01\n"
     ]
    }
   ],
   "source": [
    "subject = '220628'\n",
    "run_id = '01'\n",
    "\n",
    "# match events and metadata\n",
    "word_events = events[events[:, 2] > 1]\n",
    "meg_delta = np.round(np.diff(word_events[:, 0] / raw.info[\"sfreq\"]))\n",
    "meta_delta = np.round(np.diff(meta.onset.values))\n",
    "\n",
    "print(events)\n",
    "print(meta.onset.values)\n",
    "i, j = match_list(meg_delta, meta_delta)\n",
    "print(f\"Len i : {len(i)} for run {run_id}\")\n",
    "assert len(i) > 500\n",
    "events = word_events[i]\n",
    "# events = events[i]  # events = words_events[i]\n",
    "meta = meta.iloc[j].reset_index()"
   ]
  },
  {
   "cell_type": "code",
   "execution_count": 8,
   "id": "91a9a954",
   "metadata": {},
   "outputs": [
    {
     "data": {
      "text/plain": [
       "(1610, 3)"
      ]
     },
     "execution_count": 8,
     "metadata": {},
     "output_type": "execute_result"
    }
   ],
   "source": [
    "events.shape"
   ]
  },
  {
   "cell_type": "code",
   "execution_count": 9,
   "id": "78374e94",
   "metadata": {},
   "outputs": [
    {
     "data": {
      "text/html": [
       "<div>\n",
       "<style scoped>\n",
       "    .dataframe tbody tr th:only-of-type {\n",
       "        vertical-align: middle;\n",
       "    }\n",
       "\n",
       "    .dataframe tbody tr th {\n",
       "        vertical-align: top;\n",
       "    }\n",
       "\n",
       "    .dataframe thead th {\n",
       "        text-align: right;\n",
       "    }\n",
       "</style>\n",
       "<table border=\"1\" class=\"dataframe\">\n",
       "  <thead>\n",
       "    <tr style=\"text-align: right;\">\n",
       "      <th></th>\n",
       "      <th>onset</th>\n",
       "      <th>duration</th>\n",
       "      <th>trial_type</th>\n",
       "    </tr>\n",
       "  </thead>\n",
       "  <tbody>\n",
       "    <tr>\n",
       "      <th>1632</th>\n",
       "      <td>3.050000</td>\n",
       "      <td>0.02</td>\n",
       "      <td>{'kind': 'phoneme', 'voice': 'non-voiced'}</td>\n",
       "    </tr>\n",
       "    <tr>\n",
       "      <th>1633</th>\n",
       "      <td>3.145000</td>\n",
       "      <td>0.02</td>\n",
       "      <td>{'kind': 'phoneme', 'voice': 'non-voiced'}</td>\n",
       "    </tr>\n",
       "    <tr>\n",
       "      <th>1634</th>\n",
       "      <td>3.215000</td>\n",
       "      <td>0.02</td>\n",
       "      <td>{'kind': 'phoneme', 'voice': 'non-voiced'}</td>\n",
       "    </tr>\n",
       "    <tr>\n",
       "      <th>1635</th>\n",
       "      <td>3.245000</td>\n",
       "      <td>0.02</td>\n",
       "      <td>{'kind': 'phoneme', 'voice': 'voiced'}</td>\n",
       "    </tr>\n",
       "    <tr>\n",
       "      <th>1636</th>\n",
       "      <td>3.280000</td>\n",
       "      <td>0.02</td>\n",
       "      <td>{'kind': 'phoneme', 'voice': 'non-voiced'}</td>\n",
       "    </tr>\n",
       "    <tr>\n",
       "      <th>...</th>\n",
       "      <td>...</td>\n",
       "      <td>...</td>\n",
       "      <td>...</td>\n",
       "    </tr>\n",
       "    <tr>\n",
       "      <th>7856</th>\n",
       "      <td>610.295000</td>\n",
       "      <td>0.02</td>\n",
       "      <td>{'kind': 'phoneme', 'voice': 'non-voiced'}</td>\n",
       "    </tr>\n",
       "    <tr>\n",
       "      <th>7857</th>\n",
       "      <td>610.345000</td>\n",
       "      <td>0.02</td>\n",
       "      <td>{'kind': 'phoneme', 'voice': 'non-voiced'}</td>\n",
       "    </tr>\n",
       "    <tr>\n",
       "      <th>7858</th>\n",
       "      <td>610.380000</td>\n",
       "      <td>0.02</td>\n",
       "      <td>{'kind': 'phoneme', 'voice': 'non-voiced'}</td>\n",
       "    </tr>\n",
       "    <tr>\n",
       "      <th>7859</th>\n",
       "      <td>610.415000</td>\n",
       "      <td>0.02</td>\n",
       "      <td>{'kind': 'phoneme', 'voice': 'non-voiced'}</td>\n",
       "    </tr>\n",
       "    <tr>\n",
       "      <th>7860</th>\n",
       "      <td>611.972347</td>\n",
       "      <td>0.02</td>\n",
       "      <td>{'kind': 'phoneme', 'voice': 'non-voiced'}</td>\n",
       "    </tr>\n",
       "  </tbody>\n",
       "</table>\n",
       "<p>6229 rows × 3 columns</p>\n",
       "</div>"
      ],
      "text/plain": [
       "           onset  duration                                  trial_type\n",
       "1632    3.050000      0.02  {'kind': 'phoneme', 'voice': 'non-voiced'}\n",
       "1633    3.145000      0.02  {'kind': 'phoneme', 'voice': 'non-voiced'}\n",
       "1634    3.215000      0.02  {'kind': 'phoneme', 'voice': 'non-voiced'}\n",
       "1635    3.245000      0.02      {'kind': 'phoneme', 'voice': 'voiced'}\n",
       "1636    3.280000      0.02  {'kind': 'phoneme', 'voice': 'non-voiced'}\n",
       "...          ...       ...                                         ...\n",
       "7856  610.295000      0.02  {'kind': 'phoneme', 'voice': 'non-voiced'}\n",
       "7857  610.345000      0.02  {'kind': 'phoneme', 'voice': 'non-voiced'}\n",
       "7858  610.380000      0.02  {'kind': 'phoneme', 'voice': 'non-voiced'}\n",
       "7859  610.415000      0.02  {'kind': 'phoneme', 'voice': 'non-voiced'}\n",
       "7860  611.972347      0.02  {'kind': 'phoneme', 'voice': 'non-voiced'}\n",
       "\n",
       "[6229 rows x 3 columns]"
      ]
     },
     "execution_count": 9,
     "metadata": {},
     "output_type": "execute_result"
    }
   ],
   "source": [
    "phonemes"
   ]
  },
  {
   "cell_type": "code",
   "execution_count": 10,
   "id": "84f139a0",
   "metadata": {},
   "outputs": [
    {
     "data": {
      "text/plain": [
       "array([0., 0., 0., ..., 0., 0., 0.])"
      ]
     },
     "execution_count": 10,
     "metadata": {},
     "output_type": "execute_result"
    }
   ],
   "source": [
    " np.round(np.diff(meta.onset.values))"
   ]
  },
  {
   "cell_type": "code",
   "execution_count": 11,
   "id": "ad19b83a",
   "metadata": {},
   "outputs": [],
   "source": [
    "x = (events[0][0]/raw.info[\"sfreq\"])-list(meta.onset)[0]"
   ]
  },
  {
   "cell_type": "code",
   "execution_count": 12,
   "id": "376f7665",
   "metadata": {},
   "outputs": [
    {
     "data": {
      "text/plain": [
       "36583.00000000001"
      ]
     },
     "execution_count": 12,
     "metadata": {},
     "output_type": "execute_result"
    }
   ],
   "source": [
    "test_i = 3\n",
    "(list(meta.onset)[test_i]+x)*raw.info[\"sfreq\"]"
   ]
  },
  {
   "cell_type": "code",
   "execution_count": 13,
   "id": "b3dbdb0e",
   "metadata": {},
   "outputs": [
    {
     "data": {
      "text/plain": [
       "36583"
      ]
     },
     "execution_count": 13,
     "metadata": {},
     "output_type": "execute_result"
    }
   ],
   "source": [
    "events[test_i][0]"
   ]
  },
  {
   "cell_type": "code",
   "execution_count": 14,
   "id": "e3b527ea",
   "metadata": {},
   "outputs": [
    {
     "data": {
      "text/plain": [
       "3.05"
      ]
     },
     "execution_count": 14,
     "metadata": {},
     "output_type": "execute_result"
    }
   ],
   "source": [
    "first_word = meta.onset[0]\n",
    "first_word"
   ]
  },
  {
   "cell_type": "code",
   "execution_count": 15,
   "id": "72d0f2ad",
   "metadata": {},
   "outputs": [
    {
     "data": {
      "text/plain": [
       "610.04"
      ]
     },
     "execution_count": 15,
     "metadata": {},
     "output_type": "execute_result"
    }
   ],
   "source": [
    "last_word = list(meta.onset)[-1]\n",
    "last_word"
   ]
  },
  {
   "cell_type": "code",
   "execution_count": 16,
   "id": "518a9c5f",
   "metadata": {},
   "outputs": [
    {
     "data": {
      "text/plain": [
       "(1610,)"
      ]
     },
     "execution_count": 16,
     "metadata": {},
     "output_type": "execute_result"
    }
   ],
   "source": [
    "np.sort(meta.onset).shape"
   ]
  },
  {
   "cell_type": "code",
   "execution_count": 17,
   "id": "d23363b8",
   "metadata": {},
   "outputs": [
    {
     "data": {
      "text/plain": [
       "array([[ 35703,      0,    128],\n",
       "       [ 36073,      0,    128],\n",
       "       [ 36183,      0,    128],\n",
       "       ...,\n",
       "       [642814,      0,    128],\n",
       "       [643034,      0,    128],\n",
       "       [643204,      0,    128]])"
      ]
     },
     "execution_count": 17,
     "metadata": {},
     "output_type": "execute_result"
    }
   ],
   "source": [
    "events"
   ]
  },
  {
   "cell_type": "code",
   "execution_count": 18,
   "id": "8fcb1f8f",
   "metadata": {
    "scrolled": true
   },
   "outputs": [
    {
     "data": {
      "text/plain": [
       "array([[ 35703,      0,    128],\n",
       "       [ 35798,      0,    128],\n",
       "       [ 35868,      0,    128],\n",
       "       ...,\n",
       "       [643033,      0,    128],\n",
       "       [643068,      0,    128],\n",
       "       [644625,      0,    128]])"
      ]
     },
     "execution_count": 18,
     "metadata": {},
     "output_type": "execute_result"
    }
   ],
   "source": [
    "events_ph = ((phonemes.onset+x)*raw.info[\"sfreq\"]).to_numpy(dtype='int')\n",
    "zeros = np.zeros(events_ph.shape)\n",
    "last_c = np.ones(events_ph.shape)*128\n",
    "events_ph = np.stack((events_ph,zeros,last_c),axis=1)\n",
    "events_ph = events_ph.astype('int')\n",
    "events_ph"
   ]
  },
  {
   "cell_type": "code",
   "execution_count": 90,
   "id": "f9376b48",
   "metadata": {},
   "outputs": [
    {
     "data": {
      "text/plain": [
       "array([35703, 35798, 35868, 35898, 35933, 35983, 36028, 36073, 36123,\n",
       "       36203, 36278, 36343, 36483, 36593, 36693, 36788, 36818, 36913,\n",
       "       37033, 37088, 37163, 37453, 37788, 37908, 37948, 37993, 38058,\n",
       "       38133, 38208, 38303, 38413, 38488, 38638, 38808, 38863, 38933,\n",
       "       39038, 39193, 39353, 39433, 39473, 39538, 39643, 39733, 39798,\n",
       "       39863, 39938, 40008, 40108, 40223])"
      ]
     },
     "execution_count": 90,
     "metadata": {},
     "output_type": "execute_result"
    }
   ],
   "source": [
    "events_ph[:50,0]"
   ]
  },
  {
   "cell_type": "code",
   "execution_count": 88,
   "id": "c3b1adaa",
   "metadata": {},
   "outputs": [
    {
     "data": {
      "text/plain": [
       "array([35703, 36073, 36183, 36583, 36834, 37055, 37195, 37514, 37805,\n",
       "       38155, 38795, 39256, 39867, 40517, 40838, 41038, 41308, 41508,\n",
       "       41608, 41988, 42468, 42648, 42778, 43469, 44009, 45300, 45610,\n",
       "       46200, 46330, 46820, 47431, 47611, 48071, 48211, 49381, 49792,\n",
       "       49922, 50312, 50462, 52135, 52195, 52606, 52776, 52926, 53646,\n",
       "       53836, 54317, 54807, 55357, 55547])"
      ]
     },
     "execution_count": 88,
     "metadata": {},
     "output_type": "execute_result"
    }
   ],
   "source": [
    "events[:50,0]"
   ]
  },
  {
   "cell_type": "code",
   "execution_count": 103,
   "id": "ed1d2259",
   "metadata": {},
   "outputs": [],
   "source": [
    "plt.figure()\n",
    "plt.vlines(events[790:795,0],ymin=0,ymax=1,color='green',linestyle='dashed')\n",
    "plt.vlines([i for i in events_ph[:,0] if i < events[795,0] and i > events[790,0]],ymin=0,ymax=1,color='red',linestyle='dashdot')\n",
    "plt.savefig('./test.png')"
   ]
  },
  {
   "cell_type": "code",
   "execution_count": 72,
   "id": "b9e1948a",
   "metadata": {},
   "outputs": [],
   "source": [
    "epochs = mne.Epochs(\n",
    "        raw, events_ph, metadata=phonemes, tmin=-0.1, tmax=0.2, decim=10, baseline=(-0.1, 0.0)\n",
    "    )\n",
    "\n",
    "data = epochs.get_data()\n",
    "epochs.load_data()\n",
    "\n",
    "# Scaling the data\n",
    "n_words, n_chans, n_times = data.shape\n",
    "vec = data.transpose(0, 2, 1).reshape(-1, n_chans)\n",
    "scaler = RobustScaler()\n",
    "idx = np.arange(len(vec))\n",
    "np.random.shuffle(idx)\n",
    "vec = scaler.fit(vec[idx[:20_000]]).transform(vec)\n",
    "# To try: sigmas = 7 or 15\n",
    "sigma = 7\n",
    "vec = np.clip(vec, -sigma, sigma)\n",
    "epochs._data[:, :, :] = (\n",
    "    scaler.inverse_transform(vec)\n",
    "    .reshape(n_words, n_times, n_chans)\n",
    "    .transpose(0, 2, 1)\n",
    ")\n"
   ]
  },
  {
   "cell_type": "code",
   "execution_count": 73,
   "id": "13bb3a7b",
   "metadata": {},
   "outputs": [],
   "source": [
    "epo = epochs.copy()\n",
    "epochs = []\n",
    "epo.metadata[\"label\"] = f\"run_{run_id}\"\n",
    "epochs.append(epo)\n"
   ]
  },
  {
   "cell_type": "code",
   "execution_count": 74,
   "id": "cd0400c8",
   "metadata": {},
   "outputs": [],
   "source": [
    "for epo in epochs:\n",
    "    epo.info[\"dev_head_t\"] = epochs[0].info[\"dev_head_t\"]\n",
    "    # epo.info['nchan'] = epochs[0].info['nchan']\n",
    "\n",
    "#epochs = mne.concatenate_epochs(epochs)\n"
   ]
  },
  {
   "cell_type": "code",
   "execution_count": 75,
   "id": "f0abfa7d",
   "metadata": {},
   "outputs": [
    {
     "data": {
      "text/html": [
       "<table class=\"table table-hover table-striped table-sm table-responsive small\">\n",
       "    <tr>\n",
       "        <th>Number of events</th>\n",
       "        <td>6229</td>\n",
       "    </tr>\n",
       "    <tr>\n",
       "        <th>Events</th>\n",
       "        \n",
       "        <td>128: 6229</td>\n",
       "        \n",
       "    </tr>\n",
       "    <tr>\n",
       "        <th>Time range</th>\n",
       "        <td>-0.100 – 0.200 sec</td>\n",
       "    </tr>\n",
       "    <tr>\n",
       "        <th>Baseline</th>\n",
       "        <td>-0.100 – 0.000 sec</td>\n",
       "    </tr>\n",
       "</table>"
      ],
      "text/plain": [
       "<Epochs |  6229 events (all good), -0.1 - 0.2 sec, baseline -0.1 – 0 sec, ~484.2 MB, data loaded, with metadata,\n",
       " '128': 6229>"
      ]
     },
     "execution_count": 75,
     "metadata": {},
     "output_type": "execute_result"
    }
   ],
   "source": [
    "epochs[0]"
   ]
  },
  {
   "cell_type": "code",
   "execution_count": 76,
   "id": "59e1a22c",
   "metadata": {},
   "outputs": [
    {
     "data": {
      "text/plain": [
       "<Figure size 640x400 with 4 Axes>"
      ]
     },
     "execution_count": 76,
     "metadata": {},
     "output_type": "execute_result"
    }
   ],
   "source": [
    "\n",
    "# Get the evoked potential averaged on all epochs for each channel\n",
    "evo = epochs[0].average(method=\"median\")\n",
    "evo.plot(spatial_colors=True)\n"
   ]
  },
  {
   "cell_type": "code",
   "execution_count": 77,
   "id": "74d17bbf",
   "metadata": {},
   "outputs": [],
   "source": [
    "plt.savefig('./fig_evoked.png')"
   ]
  },
  {
   "cell_type": "code",
   "execution_count": 78,
   "id": "84aa79ac",
   "metadata": {},
   "outputs": [
    {
     "name": "stdout",
     "output_type": "stream",
     "text": [
      "..............................."
     ]
    }
   ],
   "source": [
    "X = epochs[0].get_data()  # Both mag and grad\n",
    "y = np.array([str(tupl).__contains__('non-voiced') for tupl in phonemes.iterrows()])\n",
    "R = decod(X, y)\n",
    "\n",
    "fig, ax = plt.subplots(1, figsize=[6, 6])\n",
    "dec = plt.fill_between(epochs[0].times, R)"
   ]
  },
  {
   "cell_type": "code",
   "execution_count": 79,
   "id": "e0c225c1",
   "metadata": {},
   "outputs": [],
   "source": [
    "plt.savefig('./fig_decode.png')"
   ]
  },
  {
   "cell_type": "code",
   "execution_count": null,
   "id": "a927fb83",
   "metadata": {},
   "outputs": [],
   "source": []
  }
 ],
 "metadata": {
  "kernelspec": {
   "display_name": "Python 3",
   "language": "python",
   "name": "python3"
  },
  "language_info": {
   "codemirror_mode": {
    "name": "ipython",
    "version": 3
   },
   "file_extension": ".py",
   "mimetype": "text/x-python",
   "name": "python",
   "nbconvert_exporter": "python",
   "pygments_lexer": "ipython3",
   "version": "3.9.13"
  }
 },
 "nbformat": 4,
 "nbformat_minor": 5
}
