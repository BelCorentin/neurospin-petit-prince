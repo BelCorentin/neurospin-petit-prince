{
 "cells": [
  {
   "cell_type": "code",
   "execution_count": 35,
   "id": "28a0030c",
   "metadata": {},
   "outputs": [],
   "source": [
    "from utils import *\n",
    "\n",
    "from plot import *\n",
    "\n",
    "from dataset import *"
   ]
  },
  {
   "cell_type": "code",
   "execution_count": 34,
   "id": "edf330ba",
   "metadata": {},
   "outputs": [
    {
     "ename": "NameError",
     "evalue": "name 'get_path' is not defined",
     "output_type": "error",
     "traceback": [
      "\u001b[0;31m---------------------------------------------------------------------------\u001b[0m",
      "\u001b[0;31mNameError\u001b[0m                                 Traceback (most recent call last)",
      "Cell \u001b[0;32mIn [34], line 1\u001b[0m\n\u001b[0;32m----> 1\u001b[0m path \u001b[38;5;241m=\u001b[39m get_path(\u001b[38;5;124m'\u001b[39m\u001b[38;5;124mLPP_read\u001b[39m\u001b[38;5;124m'\u001b[39m)\n\u001b[1;32m      3\u001b[0m subjects \u001b[38;5;241m=\u001b[39m get_subjects(path)\n\u001b[1;32m      5\u001b[0m subject \u001b[38;5;241m=\u001b[39m subjects[\u001b[38;5;241m0\u001b[39m]\n",
      "\u001b[0;31mNameError\u001b[0m: name 'get_path' is not defined"
     ]
    }
   ],
   "source": [
    "path = get_path('LPP_read')\n",
    "\n",
    "subjects = get_subjects(path)\n",
    "\n",
    "subject = subjects[0]"
   ]
  },
  {
   "cell_type": "code",
   "execution_count": null,
   "id": "cb084fbb",
   "metadata": {},
   "outputs": [],
   "source": [
    "epochs = concac_runs(subject, 'read', filter = False)"
   ]
  },
  {
   "cell_type": "code",
   "execution_count": null,
   "id": "a9c4bcb6",
   "metadata": {},
   "outputs": [],
   "source": [
    "X = epochs.get_data()\n",
    "y = epochs.metadata.word.apply(len)"
   ]
  },
  {
   "cell_type": "code",
   "execution_count": null,
   "id": "5a9fd8ae",
   "metadata": {},
   "outputs": [],
   "source": [
    "R = decod(X,y)"
   ]
  },
  {
   "cell_type": "code",
   "execution_count": null,
   "id": "854469f9",
   "metadata": {},
   "outputs": [],
   "source": [
    "%matplotlib inline\n",
    "\n",
    "plt.fill_between(epochs.times,np.squeeze(R))"
   ]
  }
 ],
 "metadata": {
  "kernelspec": {
   "display_name": "Python 3 (ipykernel)",
   "language": "python",
   "name": "python3"
  },
  "language_info": {
   "codemirror_mode": {
    "name": "ipython",
    "version": 3
   },
   "file_extension": ".py",
   "mimetype": "text/x-python",
   "name": "python",
   "nbconvert_exporter": "python",
   "pygments_lexer": "ipython3",
   "version": "3.10.6"
  }
 },
 "nbformat": 4,
 "nbformat_minor": 5
}
