{
 "cells": [
  {
   "cell_type": "markdown",
   "id": "4e966777",
   "metadata": {},
   "source": [
    "# Testing\n",
    "\n",
    "## Dataset functions\n"
   ]
  },
  {
   "cell_type": "code",
   "execution_count": 8,
   "id": "3eb8783a",
   "metadata": {},
   "outputs": [],
   "source": [
    "from dataset import epoch_add_metadata, get_path, get_subjects, \\\n",
    "    read_raw, enrich_metadata, add_embeddings, get_code_path\n",
    "\n",
    "import mne \n",
    "\n",
    "mne.set_log_level(verbose='error')"
   ]
  },
  {
   "cell_type": "markdown",
   "id": "74907b11",
   "metadata": {},
   "source": [
    "### Path"
   ]
  },
  {
   "cell_type": "code",
   "execution_count": 2,
   "id": "8f60c97a",
   "metadata": {},
   "outputs": [],
   "source": [
    "modality = \"visual\"\n",
    "path = get_path(modality)\n",
    "subjects = get_subjects(path)"
   ]
  },
  {
   "cell_type": "markdown",
   "id": "07baede5",
   "metadata": {},
   "source": [
    "### Epoching and reading"
   ]
  },
  {
   "cell_type": "code",
   "execution_count": 3,
   "id": "642a1bad",
   "metadata": {
    "scrolled": true
   },
   "outputs": [
    {
     "name": "stdout",
     "output_type": "stream",
     "text": [
      "Reading raw files for modality: visual\n",
      "\n",
      " Epoching for run 1, subject: 1\n",
      "\n"
     ]
    }
   ],
   "source": [
    "subjects = get_subjects(path)\n",
    "runs = 1\n",
    "raw, meta = read_raw(subjects[0], runs)"
   ]
  },
  {
   "cell_type": "code",
   "execution_count": 4,
   "id": "0630564d",
   "metadata": {
    "scrolled": true
   },
   "outputs": [
    {
     "name": "stdout",
     "output_type": "stream",
     "text": [
      "Reading raw files for modality: visual\n",
      "\n",
      " Epoching for run 1, subject: 1\n",
      "\n"
     ]
    }
   ],
   "source": [
    "epoch_windows = {\"word\": {\"onset_min\": -0.3, \"onset_max\": 1.0, \"offset_min\": -1.0, \"offset_max\": 0.3},\n",
    "                  \"constituent\": {\"offset_min\": -2.0, \"offset_max\": 0.5, \"onset_min\": -0.5, \"onset_max\": 2.0},\n",
    "                  \"sentence\": {\"offset_min\": -4.0, \"offset_max\": 1.0, \"onset_min\": -1.0, \"onset_max\": 4.0}}\n",
    "levels = ('word','constituent','sentence')\n",
    "starts = ('onset', 'offset')\n",
    "decoding_criterion = 'embeddings_word_non_const_end'\n",
    "\n",
    "epoch_add_metadata = epoch_add_metadata(\n",
    "    modality,\n",
    "    subjects[0],\n",
    "    levels,\n",
    "    starts,\n",
    "    runs,\n",
    "    epoch_windows,\n",
    "    decoding_criterion\n",
    ")\n"
   ]
  },
  {
   "cell_type": "markdown",
   "id": "e1b43440",
   "metadata": {},
   "source": [
    "### Metadata "
   ]
  },
  {
   "cell_type": "code",
   "execution_count": null,
   "id": "88b0994e",
   "metadata": {},
   "outputs": [],
   "source": [
    "meta_enriched = enrich_metadata(meta)\n"
   ]
  },
  {
   "cell_type": "code",
   "execution_count": null,
   "id": "2119d5cf",
   "metadata": {},
   "outputs": [],
   "source": [
    "meta_emb = add_embeddings(meta, runs, 'sentence')"
   ]
  },
  {
   "cell_type": "markdown",
   "id": "ae245d6e",
   "metadata": {},
   "source": [
    "## Utils functions"
   ]
  },
  {
   "cell_type": "code",
   "execution_count": 5,
   "id": "f8c67e09",
   "metadata": {},
   "outputs": [],
   "source": [
    "from utils import mne_events, decoding_from_criterion, add_syntax, plot_scores"
   ]
  },
  {
   "cell_type": "code",
   "execution_count": null,
   "id": "929b3427",
   "metadata": {},
   "outputs": [
    {
     "ename": "AttributeError",
     "evalue": "'list' object has no attribute 'pick_types'",
     "output_type": "error",
     "traceback": [
      "\u001b[0;31m---------------------------------------------------------------------------\u001b[0m",
      "\u001b[0;31mAttributeError\u001b[0m                            Traceback (most recent call last)",
      "Cell \u001b[0;32mIn [8], line 1\u001b[0m\n\u001b[0;32m----> 1\u001b[0m decoding_from_criterion(\u001b[38;5;124m'\u001b[39m\u001b[38;5;124membeddings\u001b[39m\u001b[38;5;124m'\u001b[39m, epoch_add_metadata, starts, levels, subjects[\u001b[38;5;241m0\u001b[39m])\n",
      "File \u001b[0;32m/mnt/localdrive/workspace-LPP/code/neurospin-petit-prince/decoding/local_testing/utils.py:362\u001b[0m, in \u001b[0;36mdecoding_from_criterion\u001b[0;34m(criterion, dict_epochs, starts, levels, subject)\u001b[0m\n\u001b[1;32m    360\u001b[0m epochs \u001b[38;5;241m=\u001b[39m dict_epochs[epoch_key]\n\u001b[1;32m    361\u001b[0m \u001b[38;5;66;03m# mean\u001b[39;00m\n\u001b[0;32m--> 362\u001b[0m evo \u001b[38;5;241m=\u001b[39m \u001b[43mepochs\u001b[49m\u001b[38;5;241;43m.\u001b[39;49m\u001b[43mcopy\u001b[49m\u001b[43m(\u001b[49m\u001b[43m)\u001b[49m\u001b[38;5;241;43m.\u001b[39;49m\u001b[43mpick_types\u001b[49m(meg\u001b[38;5;241m=\u001b[39m\u001b[38;5;28;01mTrue\u001b[39;00m)\u001b[38;5;241m.\u001b[39maverage(method\u001b[38;5;241m=\u001b[39m\u001b[38;5;124m'\u001b[39m\u001b[38;5;124mmedian\u001b[39m\u001b[38;5;124m'\u001b[39m)\n\u001b[1;32m    363\u001b[0m all_evos\u001b[38;5;241m.\u001b[39mappend(\u001b[38;5;28mdict\u001b[39m(subject\u001b[38;5;241m=\u001b[39msubject, evo\u001b[38;5;241m=\u001b[39mevo, start\u001b[38;5;241m=\u001b[39mstart, level\u001b[38;5;241m=\u001b[39mlevel))\n\u001b[1;32m    366\u001b[0m \u001b[38;5;66;03m# decoding word emb\u001b[39;00m\n",
      "\u001b[0;31mAttributeError\u001b[0m: 'list' object has no attribute 'pick_types'"
     ]
    }
   ],
   "source": [
    "decoding_from_criterion('embeddings', epoch_add_metadata, starts, levels, subjects[0])"
   ]
  },
  {
   "cell_type": "code",
   "execution_count": 9,
   "id": "a9795008",
   "metadata": {},
   "outputs": [
    {
     "name": "stdout",
     "output_type": "stream",
     "text": [
      "Reading raw files for modality: auditory\n",
      "\n",
      " Epoching for run 1, subject: 18\n",
      "\n",
      "Reading raw files for modality: auditory\n",
      "\n",
      " Epoching for run 2, subject: 18\n",
      "\n",
      "Reading raw files for modality: auditory\n",
      "\n",
      " Epoching for run 3, subject: 18\n",
      "\n",
      "Reading raw files for modality: auditory\n",
      "\n",
      " Epoching for run 4, subject: 18\n",
      "\n",
      "Reading raw files for modality: auditory\n",
      "\n",
      " Epoching for run 5, subject: 18\n",
      "\n",
      "Reading raw files for modality: auditory\n",
      "\n",
      " Epoching for run 6, subject: 18\n",
      "\n",
      "Reading raw files for modality: auditory\n",
      "\n",
      " Epoching for run 7, subject: 18\n",
      "\n",
      "Reading raw files for modality: auditory\n",
      "\n",
      " Epoching for run 8, subject: 18\n",
      "\n",
      "Reading raw files for modality: auditory\n",
      "\n",
      " Epoching for run 9, subject: 18\n",
      "\n"
     ]
    },
    {
     "ename": "ValueError",
     "evalue": "epochs[1].info['nchan'] must match",
     "output_type": "error",
     "traceback": [
      "\u001b[0;31m---------------------------------------------------------------------------\u001b[0m",
      "\u001b[0;31mValueError\u001b[0m                                Traceback (most recent call last)",
      "Cell \u001b[0;32mIn [9], line 2\u001b[0m\n\u001b[1;32m      1\u001b[0m \u001b[38;5;28;01mfrom\u001b[39;00m \u001b[38;5;21;01mdataset\u001b[39;00m \u001b[38;5;28;01mimport\u001b[39;00m analysis_subject\n\u001b[0;32m----> 2\u001b[0m analysis_subject(\u001b[38;5;124m'\u001b[39m\u001b[38;5;124m18\u001b[39m\u001b[38;5;124m'\u001b[39m, \u001b[38;5;124m'\u001b[39m\u001b[38;5;124mauditory\u001b[39m\u001b[38;5;124m'\u001b[39m, \u001b[38;5;124m'\u001b[39m\u001b[38;5;124membeddings_word_non_const_end\u001b[39m\u001b[38;5;124m'\u001b[39m)\n",
      "File \u001b[0;32m/mnt/localdrive/workspace-LPP/code/neurospin-petit-prince/decoding/local_testing/dataset.py:553\u001b[0m, in \u001b[0;36manalysis_subject\u001b[0;34m(subject, modality, decoding_criterion)\u001b[0m\n\u001b[1;32m    550\u001b[0m levels, starts \u001b[38;5;241m=\u001b[39m sanitize(levels, starts)\n\u001b[1;32m    551\u001b[0m \u001b[38;5;66;03m# Iterate on subjects to epochs, and mean later\u001b[39;00m\n\u001b[0;32m--> 553\u001b[0m dict_epochs \u001b[38;5;241m=\u001b[39m \u001b[43mepoch_add_metadata\u001b[49m\u001b[43m(\u001b[49m\n\u001b[1;32m    554\u001b[0m \u001b[43m    \u001b[49m\u001b[43mmodality\u001b[49m\u001b[43m,\u001b[49m\u001b[43m \u001b[49m\u001b[43msubject\u001b[49m\u001b[43m,\u001b[49m\u001b[43m \u001b[49m\u001b[43mlevels\u001b[49m\u001b[43m,\u001b[49m\u001b[43m \u001b[49m\u001b[43mstarts\u001b[49m\u001b[43m,\u001b[49m\u001b[43m \u001b[49m\u001b[43mruns\u001b[49m\u001b[43m,\u001b[49m\u001b[43m \u001b[49m\u001b[43mepoch_windows\u001b[49m\u001b[43m,\u001b[49m\u001b[43m \u001b[49m\u001b[43mdecoding_criterion\u001b[49m\n\u001b[1;32m    555\u001b[0m \u001b[43m\u001b[49m\u001b[43m)\u001b[49m\n\u001b[1;32m    557\u001b[0m all_scores \u001b[38;5;241m=\u001b[39m decoding_from_criterion(\n\u001b[1;32m    558\u001b[0m     decoding_criterion, dict_epochs, starts, levels, subject, all_scores\n\u001b[1;32m    559\u001b[0m )\n\u001b[1;32m    561\u001b[0m pd\u001b[38;5;241m.\u001b[39mDataFrame(all_scores)\u001b[38;5;241m.\u001b[39mto_csv(file_path, index\u001b[38;5;241m=\u001b[39m\u001b[38;5;28;01mFalse\u001b[39;00m)\n",
      "File \u001b[0;32m/mnt/localdrive/workspace-LPP/code/neurospin-petit-prince/decoding/local_testing/dataset.py:479\u001b[0m, in \u001b[0;36mepoch_add_metadata\u001b[0;34m(modality, subject, levels, starts, runs, epoch_windows, decoding_criterion)\u001b[0m\n\u001b[1;32m    476\u001b[0m         \u001b[38;5;28;01mfor\u001b[39;00m epo \u001b[38;5;129;01min\u001b[39;00m all_epochs_chosen:\n\u001b[1;32m    477\u001b[0m             epo\u001b[38;5;241m.\u001b[39minfo[\u001b[38;5;124m\"\u001b[39m\u001b[38;5;124mdev_head_t\u001b[39m\u001b[38;5;124m\"\u001b[39m] \u001b[38;5;241m=\u001b[39m all_epochs_chosen[\u001b[38;5;241m1\u001b[39m]\u001b[38;5;241m.\u001b[39minfo[\u001b[38;5;124m\"\u001b[39m\u001b[38;5;124mdev_head_t\u001b[39m\u001b[38;5;124m\"\u001b[39m]\n\u001b[0;32m--> 479\u001b[0m         dict_epochs[epoch_key] \u001b[38;5;241m=\u001b[39m \u001b[43mmne\u001b[49m\u001b[38;5;241;43m.\u001b[39;49m\u001b[43mconcatenate_epochs\u001b[49m\u001b[43m(\u001b[49m\u001b[43mall_epochs_chosen\u001b[49m\u001b[43m)\u001b[49m\n\u001b[1;32m    481\u001b[0m \u001b[38;5;28;01mreturn\u001b[39;00m dict_epochs\n",
      "File \u001b[0;32m<decorator-gen-285>:12\u001b[0m, in \u001b[0;36mconcatenate_epochs\u001b[0;34m(epochs_list, add_offset, on_mismatch, verbose)\u001b[0m\n",
      "File \u001b[0;32m~/.pyenv/versions/meg-masc/lib/python3.10/site-packages/mne/epochs.py:3600\u001b[0m, in \u001b[0;36mconcatenate_epochs\u001b[0;34m(epochs_list, add_offset, on_mismatch, verbose)\u001b[0m\n\u001b[1;32m   3569\u001b[0m \u001b[38;5;129m@verbose\u001b[39m\n\u001b[1;32m   3570\u001b[0m \u001b[38;5;28;01mdef\u001b[39;00m \u001b[38;5;21mconcatenate_epochs\u001b[39m(epochs_list, add_offset\u001b[38;5;241m=\u001b[39m\u001b[38;5;28;01mTrue\u001b[39;00m, \u001b[38;5;241m*\u001b[39m, on_mismatch\u001b[38;5;241m=\u001b[39m\u001b[38;5;124m'\u001b[39m\u001b[38;5;124mraise\u001b[39m\u001b[38;5;124m'\u001b[39m,\n\u001b[1;32m   3571\u001b[0m                        verbose\u001b[38;5;241m=\u001b[39m\u001b[38;5;28;01mNone\u001b[39;00m):\n\u001b[1;32m   3572\u001b[0m     \u001b[38;5;124;03m\"\"\"Concatenate a list of `~mne.Epochs` into one `~mne.Epochs` object.\u001b[39;00m\n\u001b[1;32m   3573\u001b[0m \n\u001b[1;32m   3574\u001b[0m \u001b[38;5;124;03m    .. note:: Unlike `~mne.concatenate_raws`, this function does **not**\u001b[39;00m\n\u001b[0;32m   (...)\u001b[0m\n\u001b[1;32m   3598\u001b[0m \u001b[38;5;124;03m    .. versionadded:: 0.9.0\u001b[39;00m\n\u001b[1;32m   3599\u001b[0m \u001b[38;5;124;03m    \"\"\"\u001b[39;00m\n\u001b[0;32m-> 3600\u001b[0m     \u001b[38;5;28;01mreturn\u001b[39;00m _finish_concat(\u001b[38;5;241m*\u001b[39m\u001b[43m_concatenate_epochs\u001b[49m\u001b[43m(\u001b[49m\u001b[43mepochs_list\u001b[49m\u001b[43m,\u001b[49m\n\u001b[1;32m   3601\u001b[0m \u001b[43m                                               \u001b[49m\u001b[43madd_offset\u001b[49m\u001b[38;5;241;43m=\u001b[39;49m\u001b[43madd_offset\u001b[49m\u001b[43m,\u001b[49m\n\u001b[1;32m   3602\u001b[0m \u001b[43m                                               \u001b[49m\u001b[43mon_mismatch\u001b[49m\u001b[38;5;241;43m=\u001b[39;49m\u001b[43mon_mismatch\u001b[49m\u001b[43m)\u001b[49m)\n",
      "File \u001b[0;32m~/.pyenv/versions/meg-masc/lib/python3.10/site-packages/mne/epochs.py:3477\u001b[0m, in \u001b[0;36m_concatenate_epochs\u001b[0;34m(epochs_list, with_data, add_offset, on_mismatch)\u001b[0m\n\u001b[1;32m   3475\u001b[0m warned \u001b[38;5;241m=\u001b[39m \u001b[38;5;28;01mFalse\u001b[39;00m\n\u001b[1;32m   3476\u001b[0m \u001b[38;5;28;01mfor\u001b[39;00m ii, epochs \u001b[38;5;129;01min\u001b[39;00m \u001b[38;5;28menumerate\u001b[39m(epochs_list[\u001b[38;5;241m1\u001b[39m:], \u001b[38;5;241m1\u001b[39m):\n\u001b[0;32m-> 3477\u001b[0m     \u001b[43m_ensure_infos_match\u001b[49m\u001b[43m(\u001b[49m\u001b[43mepochs\u001b[49m\u001b[38;5;241;43m.\u001b[39;49m\u001b[43minfo\u001b[49m\u001b[43m,\u001b[49m\u001b[43m \u001b[49m\u001b[43minfo\u001b[49m\u001b[43m,\u001b[49m\u001b[43m \u001b[49m\u001b[38;5;124;43mf\u001b[39;49m\u001b[38;5;124;43m'\u001b[39;49m\u001b[38;5;124;43mepochs[\u001b[39;49m\u001b[38;5;132;43;01m{\u001b[39;49;00m\u001b[43mii\u001b[49m\u001b[38;5;132;43;01m}\u001b[39;49;00m\u001b[38;5;124;43m]\u001b[39;49m\u001b[38;5;124;43m'\u001b[39;49m\u001b[43m,\u001b[49m\n\u001b[1;32m   3478\u001b[0m \u001b[43m                        \u001b[49m\u001b[43mon_mismatch\u001b[49m\u001b[38;5;241;43m=\u001b[39;49m\u001b[43mon_mismatch\u001b[49m\u001b[43m)\u001b[49m\n\u001b[1;32m   3479\u001b[0m     \u001b[38;5;28;01mif\u001b[39;00m \u001b[38;5;129;01mnot\u001b[39;00m np\u001b[38;5;241m.\u001b[39mallclose(epochs\u001b[38;5;241m.\u001b[39mtimes, epochs_list[\u001b[38;5;241m0\u001b[39m]\u001b[38;5;241m.\u001b[39mtimes):\n\u001b[1;32m   3480\u001b[0m         \u001b[38;5;28;01mraise\u001b[39;00m \u001b[38;5;167;01mValueError\u001b[39;00m(\u001b[38;5;124m'\u001b[39m\u001b[38;5;124mEpochs must have same times\u001b[39m\u001b[38;5;124m'\u001b[39m)\n",
      "File \u001b[0;32m~/.pyenv/versions/meg-masc/lib/python3.10/site-packages/mne/io/meas_info.py:2880\u001b[0m, in \u001b[0;36m_ensure_infos_match\u001b[0;34m(info1, info2, name, on_mismatch)\u001b[0m\n\u001b[1;32m   2877\u001b[0m info2\u001b[38;5;241m.\u001b[39m_check_consistency()\n\u001b[1;32m   2879\u001b[0m \u001b[38;5;28;01mif\u001b[39;00m info1[\u001b[38;5;124m'\u001b[39m\u001b[38;5;124mnchan\u001b[39m\u001b[38;5;124m'\u001b[39m] \u001b[38;5;241m!=\u001b[39m info2[\u001b[38;5;124m'\u001b[39m\u001b[38;5;124mnchan\u001b[39m\u001b[38;5;124m'\u001b[39m]:\n\u001b[0;32m-> 2880\u001b[0m     \u001b[38;5;28;01mraise\u001b[39;00m \u001b[38;5;167;01mValueError\u001b[39;00m(\u001b[38;5;124mf\u001b[39m\u001b[38;5;124m'\u001b[39m\u001b[38;5;132;01m{\u001b[39;00mname\u001b[38;5;132;01m}\u001b[39;00m\u001b[38;5;124m.info[\u001b[39m\u001b[38;5;130;01m\\'\u001b[39;00m\u001b[38;5;124mnchan\u001b[39m\u001b[38;5;130;01m\\'\u001b[39;00m\u001b[38;5;124m] must match\u001b[39m\u001b[38;5;124m'\u001b[39m)\n\u001b[1;32m   2881\u001b[0m \u001b[38;5;28;01mif\u001b[39;00m \u001b[38;5;28mset\u001b[39m(info1[\u001b[38;5;124m'\u001b[39m\u001b[38;5;124mbads\u001b[39m\u001b[38;5;124m'\u001b[39m]) \u001b[38;5;241m!=\u001b[39m \u001b[38;5;28mset\u001b[39m(info2[\u001b[38;5;124m'\u001b[39m\u001b[38;5;124mbads\u001b[39m\u001b[38;5;124m'\u001b[39m]):\n\u001b[1;32m   2882\u001b[0m     \u001b[38;5;28;01mraise\u001b[39;00m \u001b[38;5;167;01mValueError\u001b[39;00m(\u001b[38;5;124mf\u001b[39m\u001b[38;5;124m'\u001b[39m\u001b[38;5;132;01m{\u001b[39;00mname\u001b[38;5;132;01m}\u001b[39;00m\u001b[38;5;124m.info[\u001b[39m\u001b[38;5;130;01m\\'\u001b[39;00m\u001b[38;5;124mbads\u001b[39m\u001b[38;5;130;01m\\'\u001b[39;00m\u001b[38;5;124m] must match\u001b[39m\u001b[38;5;124m'\u001b[39m)\n",
      "\u001b[0;31mValueError\u001b[0m: epochs[1].info['nchan'] must match"
     ]
    }
   ],
   "source": [
    "from dataset import analysis_subject\n",
    "analysis_subject('18', 'auditory', 'embeddings_word_non_const_end')"
   ]
  },
  {
   "cell_type": "code",
   "execution_count": null,
   "id": "d4611ebc",
   "metadata": {},
   "outputs": [
    {
     "name": "stdout",
     "output_type": "stream",
     "text": [
      "> \u001b[0;32m/home/is153802/.pyenv/versions/meg-masc/lib/python3.10/site-packages/mne/io/meas_info.py\u001b[0m(2880)\u001b[0;36m_ensure_infos_match\u001b[0;34m()\u001b[0m\n",
      "\u001b[0;32m   2878 \u001b[0;31m\u001b[0;34m\u001b[0m\u001b[0m\n",
      "\u001b[0m\u001b[0;32m   2879 \u001b[0;31m    \u001b[0;32mif\u001b[0m \u001b[0minfo1\u001b[0m\u001b[0;34m[\u001b[0m\u001b[0;34m'nchan'\u001b[0m\u001b[0;34m]\u001b[0m \u001b[0;34m!=\u001b[0m \u001b[0minfo2\u001b[0m\u001b[0;34m[\u001b[0m\u001b[0;34m'nchan'\u001b[0m\u001b[0;34m]\u001b[0m\u001b[0;34m:\u001b[0m\u001b[0;34m\u001b[0m\u001b[0;34m\u001b[0m\u001b[0m\n",
      "\u001b[0m\u001b[0;32m-> 2880 \u001b[0;31m        \u001b[0;32mraise\u001b[0m \u001b[0mValueError\u001b[0m\u001b[0;34m(\u001b[0m\u001b[0;34mf'{name}.info[\\'nchan\\'] must match'\u001b[0m\u001b[0;34m)\u001b[0m\u001b[0;34m\u001b[0m\u001b[0;34m\u001b[0m\u001b[0m\n",
      "\u001b[0m\u001b[0;32m   2881 \u001b[0;31m    \u001b[0;32mif\u001b[0m \u001b[0mset\u001b[0m\u001b[0;34m(\u001b[0m\u001b[0minfo1\u001b[0m\u001b[0;34m[\u001b[0m\u001b[0;34m'bads'\u001b[0m\u001b[0;34m]\u001b[0m\u001b[0;34m)\u001b[0m \u001b[0;34m!=\u001b[0m \u001b[0mset\u001b[0m\u001b[0;34m(\u001b[0m\u001b[0minfo2\u001b[0m\u001b[0;34m[\u001b[0m\u001b[0;34m'bads'\u001b[0m\u001b[0;34m]\u001b[0m\u001b[0;34m)\u001b[0m\u001b[0;34m:\u001b[0m\u001b[0;34m\u001b[0m\u001b[0;34m\u001b[0m\u001b[0m\n",
      "\u001b[0m\u001b[0;32m   2882 \u001b[0;31m        \u001b[0;32mraise\u001b[0m \u001b[0mValueError\u001b[0m\u001b[0;34m(\u001b[0m\u001b[0;34mf'{name}.info[\\'bads\\'] must match'\u001b[0m\u001b[0;34m)\u001b[0m\u001b[0;34m\u001b[0m\u001b[0;34m\u001b[0m\u001b[0m\n",
      "\u001b[0m\n",
      "ipdb> u\n",
      "> \u001b[0;32m/home/is153802/.pyenv/versions/meg-masc/lib/python3.10/site-packages/mne/epochs.py\u001b[0m(3477)\u001b[0;36m_concatenate_epochs\u001b[0;34m()\u001b[0m\n",
      "\u001b[0;32m   3475 \u001b[0;31m    \u001b[0mwarned\u001b[0m \u001b[0;34m=\u001b[0m \u001b[0;32mFalse\u001b[0m\u001b[0;34m\u001b[0m\u001b[0;34m\u001b[0m\u001b[0m\n",
      "\u001b[0m\u001b[0;32m   3476 \u001b[0;31m    \u001b[0;32mfor\u001b[0m \u001b[0mii\u001b[0m\u001b[0;34m,\u001b[0m \u001b[0mepochs\u001b[0m \u001b[0;32min\u001b[0m \u001b[0menumerate\u001b[0m\u001b[0;34m(\u001b[0m\u001b[0mepochs_list\u001b[0m\u001b[0;34m[\u001b[0m\u001b[0;36m1\u001b[0m\u001b[0;34m:\u001b[0m\u001b[0;34m]\u001b[0m\u001b[0;34m,\u001b[0m \u001b[0;36m1\u001b[0m\u001b[0;34m)\u001b[0m\u001b[0;34m:\u001b[0m\u001b[0;34m\u001b[0m\u001b[0;34m\u001b[0m\u001b[0m\n",
      "\u001b[0m\u001b[0;32m-> 3477 \u001b[0;31m        _ensure_infos_match(epochs.info, info, f'epochs[{ii}]',\n",
      "\u001b[0m\u001b[0;32m   3478 \u001b[0;31m                            on_mismatch=on_mismatch)\n",
      "\u001b[0m\u001b[0;32m   3479 \u001b[0;31m        \u001b[0;32mif\u001b[0m \u001b[0;32mnot\u001b[0m \u001b[0mnp\u001b[0m\u001b[0;34m.\u001b[0m\u001b[0mallclose\u001b[0m\u001b[0;34m(\u001b[0m\u001b[0mepochs\u001b[0m\u001b[0;34m.\u001b[0m\u001b[0mtimes\u001b[0m\u001b[0;34m,\u001b[0m \u001b[0mepochs_list\u001b[0m\u001b[0;34m[\u001b[0m\u001b[0;36m0\u001b[0m\u001b[0;34m]\u001b[0m\u001b[0;34m.\u001b[0m\u001b[0mtimes\u001b[0m\u001b[0;34m)\u001b[0m\u001b[0;34m:\u001b[0m\u001b[0;34m\u001b[0m\u001b[0;34m\u001b[0m\u001b[0m\n",
      "\u001b[0m\n",
      "ipdb> \n",
      "> \u001b[0;32m/home/is153802/.pyenv/versions/meg-masc/lib/python3.10/site-packages/mne/epochs.py\u001b[0m(3600)\u001b[0;36mconcatenate_epochs\u001b[0;34m()\u001b[0m\n",
      "\u001b[0;32m   3598 \u001b[0;31m    \u001b[0;34m.\u001b[0m\u001b[0;34m.\u001b[0m \u001b[0mversionadded\u001b[0m\u001b[0;34m:\u001b[0m\u001b[0;34m:\u001b[0m \u001b[0;36m0.9\u001b[0m\u001b[0;36m.0\u001b[0m\u001b[0;34m\u001b[0m\u001b[0;34m\u001b[0m\u001b[0m\n",
      "\u001b[0m\u001b[0;32m   3599 \u001b[0;31m    \"\"\"\n",
      "\u001b[0m\u001b[0;32m-> 3600 \u001b[0;31m    return _finish_concat(*_concatenate_epochs(epochs_list,\n",
      "\u001b[0m\u001b[0;32m   3601 \u001b[0;31m                                               \u001b[0madd_offset\u001b[0m\u001b[0;34m=\u001b[0m\u001b[0madd_offset\u001b[0m\u001b[0;34m,\u001b[0m\u001b[0;34m\u001b[0m\u001b[0;34m\u001b[0m\u001b[0m\n",
      "\u001b[0m\u001b[0;32m   3602 \u001b[0;31m                                               on_mismatch=on_mismatch))\n",
      "\u001b[0m\n",
      "ipdb> \n",
      "> \u001b[0;32m<decorator-gen-285>\u001b[0m(12)\u001b[0;36mconcatenate_epochs\u001b[0;34m()\u001b[0m\n",
      "\n",
      "ipdb> \n",
      "> \u001b[0;32m/mnt/localdrive/workspace-LPP/code/neurospin-petit-prince/decoding/local_testing/dataset.py\u001b[0m(479)\u001b[0;36mepoch_add_metadata\u001b[0;34m()\u001b[0m\n",
      "\u001b[0;32m    477 \u001b[0;31m                \u001b[0mepo\u001b[0m\u001b[0;34m.\u001b[0m\u001b[0minfo\u001b[0m\u001b[0;34m[\u001b[0m\u001b[0;34m\"dev_head_t\"\u001b[0m\u001b[0;34m]\u001b[0m \u001b[0;34m=\u001b[0m \u001b[0mall_epochs_chosen\u001b[0m\u001b[0;34m[\u001b[0m\u001b[0;36m1\u001b[0m\u001b[0;34m]\u001b[0m\u001b[0;34m.\u001b[0m\u001b[0minfo\u001b[0m\u001b[0;34m[\u001b[0m\u001b[0;34m\"dev_head_t\"\u001b[0m\u001b[0;34m]\u001b[0m\u001b[0;34m\u001b[0m\u001b[0;34m\u001b[0m\u001b[0m\n",
      "\u001b[0m\u001b[0;32m    478 \u001b[0;31m\u001b[0;34m\u001b[0m\u001b[0m\n",
      "\u001b[0m\u001b[0;32m--> 479 \u001b[0;31m            \u001b[0mdict_epochs\u001b[0m\u001b[0;34m[\u001b[0m\u001b[0mepoch_key\u001b[0m\u001b[0;34m]\u001b[0m \u001b[0;34m=\u001b[0m \u001b[0mmne\u001b[0m\u001b[0;34m.\u001b[0m\u001b[0mconcatenate_epochs\u001b[0m\u001b[0;34m(\u001b[0m\u001b[0mall_epochs_chosen\u001b[0m\u001b[0;34m)\u001b[0m\u001b[0;34m\u001b[0m\u001b[0;34m\u001b[0m\u001b[0m\n",
      "\u001b[0m\u001b[0;32m    480 \u001b[0;31m\u001b[0;34m\u001b[0m\u001b[0m\n",
      "\u001b[0m\u001b[0;32m    481 \u001b[0;31m    \u001b[0;32mreturn\u001b[0m \u001b[0mdict_epochs\u001b[0m\u001b[0;34m\u001b[0m\u001b[0;34m\u001b[0m\u001b[0m\n",
      "\u001b[0m\n",
      "ipdb> epochs[1]\n",
      "<Epochs |  1 events (all good), -1 - 0.3 sec, baseline off, ~5.1 MB, data loaded, with metadata,\n",
      " '1': 1>\n",
      "ipdb> epochs[1].n_chans\n",
      "*** AttributeError: 'Epochs' object has no attribute 'n_chans'\n",
      "ipdb> epochs[1].info\n",
      "<Info | 24 non-empty values\n",
      " acq_pars: ACQch001 110113 ACQch002 110112 ACQch003 110111 ACQch004 110122 ...\n",
      " bads: []\n",
      " ch_names: MEG0113, MEG0112, MEG0111, MEG0122, MEG0123, MEG0121, MEG0132, ...\n",
      " chs: 204 Gradiometers, 102 Magnetometers, 19 Stimulus\n",
      " custom_ref_applied: False\n",
      " description: Anonymized using a time shift to preserve age at acquisition\n",
      " dev_head_t: MEG device -> head transform\n",
      " dig: 61 items (3 Cardinal, 4 HPI, 54 Extra)\n",
      " events: 1 item (list)\n",
      " experimenter: mne_anonymize\n",
      " file_id: 4 items (dict)\n",
      " highpass: 0.5 Hz\n",
      " hpi_meas: 1 item (list)\n",
      " hpi_results: 1 item (list)\n",
      " hpi_subsystem: 3 items (dict)\n",
      " line_freq: 50.0\n",
      " lowpass: 20.0 Hz\n",
      " maxshield: True\n",
      " meas_date: 2022-10-04 13:51:57 UTC\n",
      " meas_id: 4 items (dict)\n",
      " nchan: 325\n",
      " proc_history: 1 item (list)\n",
      " proj_id: 1 item (ndarray)\n",
      " proj_name: mne_anonymize\n",
      " projs: []\n",
      " sfreq: 10.0 Hz\n",
      " subject_info: 4 items (dict)\n",
      ">\n",
      "ipdb> epochs[1].info['nchan']\n",
      "325\n",
      "ipdb> epochs[0].info['nchan']\n",
      "325\n",
      "ipdb> epochs[3].info['nchan']\n",
      "325\n",
      "ipdb> epochs[9].info['nchan']\n",
      "325\n",
      "ipdb> all_epochs_chosen\n",
      "[<Epochs |  1453 events (all good), -0.3 - 1 sec, baseline off, ~53.0 MB, data loaded, with metadata,\n",
      " '1': 1453>, <Epochs |  1625 events (all good), -0.3 - 1 sec, baseline off, ~61.5 MB, data loaded, with metadata,\n",
      " '1': 1625>, <Epochs |  1661 events (all good), -0.3 - 1 sec, baseline off, ~62.8 MB, data loaded, with metadata,\n",
      " '1': 1661>, <Epochs |  1481 events (all good), -0.3 - 1 sec, baseline off, ~56.5 MB, data loaded, with metadata,\n",
      " '1': 1481>, <Epochs |  1339 events (all good), -0.3 - 1 sec, baseline off, ~51.6 MB, data loaded, with metadata,\n",
      " '1': 1339>, <Epochs |  1651 events (all good), -0.3 - 1 sec, baseline off, ~62.4 MB, data loaded, with metadata,\n",
      " '1': 1651>, <Epochs |  1506 events (all good), -0.3 - 1 sec, baseline off, ~57.4 MB, data loaded, with metadata,\n",
      " '1': 1506>, <Epochs |  1358 events (all good), -0.3 - 1 sec, baseline off, ~52.2 MB, data loaded, with metadata,\n",
      " '1': 1358>, <Epochs |  1589 events (all good), -0.3 - 1 sec, baseline off, ~60.3 MB, data loaded, with metadata,\n",
      " '1': 1589>]\n",
      "ipdb> all_epochs_chosen[1].info['nchan']\n",
      "325\n",
      "ipdb> for i, epochs in all_epochs_chosen: print(all_epochs_chosen[i].info['nchan'])\n",
      "*** ValueError: too many values to unpack (expected 2)\n",
      "ipdb> all_epochs_chosen[1].info['nchan']\n",
      "325\n",
      "ipdb> all_epochs_chosen[0].info['nchan']\n",
      "309\n",
      "ipdb> all_epochs_chosen[0].info\n",
      "<Info | 24 non-empty values\n",
      " acq_pars: ACQch001 110113 ACQch002 110112 ACQch003 110111 ACQch004 110122 ...\n",
      " bads: []\n",
      " ch_names: MEG0113, MEG0112, MEG0111, MEG0122, MEG0123, MEG0121, MEG0132, ...\n",
      " chs: 204 Gradiometers, 102 Magnetometers, 3 Stimulus\n",
      " custom_ref_applied: False\n",
      " description: Anonymized using a time shift to preserve age at acquisition\n",
      " dev_head_t: MEG device -> head transform\n",
      " dig: 61 items (3 Cardinal, 4 HPI, 54 Extra)\n",
      " events: 1 item (list)\n",
      " experimenter: mne_anonymize\n",
      " file_id: 4 items (dict)\n",
      " highpass: 0.5 Hz\n",
      " hpi_meas: 1 item (list)\n",
      " hpi_results: 1 item (list)\n",
      " hpi_subsystem: 3 items (dict)\n",
      " line_freq: 50.0\n",
      " lowpass: 20.0 Hz\n",
      " maxshield: True\n",
      " meas_date: 2022-10-04 12:04:10 UTC\n",
      " meas_id: 4 items (dict)\n",
      " nchan: 309\n",
      " proc_history: 1 item (list)\n",
      " proj_id: 1 item (ndarray)\n",
      " proj_name: mne_anonymize\n",
      " projs: []\n",
      " sfreq: 10.0 Hz\n",
      " subject_info: 4 items (dict)\n",
      ">\n"
     ]
    }
   ],
   "source": [
    "%debug"
   ]
  },
  {
   "cell_type": "code",
   "execution_count": null,
   "id": "351d350d",
   "metadata": {},
   "outputs": [],
   "source": [
    "# todo: add STIM information to subject 18, run 1\n",
    "from pathlib import Path\n",
    "\n",
    "file = '/home/is153802/data/LPP_MEG_auditory/sub-18/ses-01/meg'\n",
    "file_add1 = 'sub-18_ses-01_task-listen_run-01_meg.fif'\n",
    "file_add2 = 'sub-18_ses-01_task-listen_run-02_meg.fif'\n"
   ]
  }
 ],
 "metadata": {
  "kernelspec": {
   "display_name": "Python 3 (ipykernel)",
   "language": "python",
   "name": "python3"
  },
  "language_info": {
   "codemirror_mode": {
    "name": "ipython",
    "version": 3
   },
   "file_extension": ".py",
   "mimetype": "text/x-python",
   "name": "python",
   "nbconvert_exporter": "python",
   "pygments_lexer": "ipython3",
   "version": "3.10.6"
  }
 },
 "nbformat": 4,
 "nbformat_minor": 5
}
