{
 "cells": [
  {
   "cell_type": "markdown",
   "id": "4e966777",
   "metadata": {},
   "source": [
    "# Testing\n",
    "\n",
    "## Dataset functions\n"
   ]
  },
  {
   "cell_type": "code",
   "execution_count": 8,
   "id": "3eb8783a",
   "metadata": {},
   "outputs": [],
   "source": [
    "from dataset import epoch_add_metadata, get_path, get_subjects, \\\n",
    "    read_raw, enrich_metadata, add_embeddings, get_code_path\n",
    "\n",
    "import mne \n",
    "\n",
    "mne.set_log_level(verbose='error')"
   ]
  },
  {
   "cell_type": "markdown",
   "id": "74907b11",
   "metadata": {},
   "source": [
    "### Path"
   ]
  },
  {
   "cell_type": "code",
   "execution_count": 2,
   "id": "8f60c97a",
   "metadata": {},
   "outputs": [],
   "source": [
    "modality = \"visual\"\n",
    "path = get_path(modality)\n",
    "subjects = get_subjects(path)"
   ]
  },
  {
   "cell_type": "markdown",
   "id": "07baede5",
   "metadata": {},
   "source": [
    "### Epoching and reading"
   ]
  },
  {
   "cell_type": "code",
   "execution_count": 3,
   "id": "642a1bad",
   "metadata": {
    "scrolled": true
   },
   "outputs": [
    {
     "name": "stdout",
     "output_type": "stream",
     "text": [
      "Reading raw files for modality: visual\n",
      "\n",
      " Epoching for run 1, subject: 1\n",
      "\n"
     ]
    }
   ],
   "source": [
    "subjects = get_subjects(path)\n",
    "runs = 1\n",
    "raw, meta = read_raw(subjects[0], runs)"
   ]
  },
  {
   "cell_type": "code",
   "execution_count": 4,
   "id": "0630564d",
   "metadata": {
    "scrolled": true
   },
   "outputs": [
    {
     "name": "stdout",
     "output_type": "stream",
     "text": [
      "Reading raw files for modality: visual\n",
      "\n",
      " Epoching for run 1, subject: 1\n",
      "\n"
     ]
    }
   ],
   "source": [
    "epoch_windows = {\"word\": {\"onset_min\": -0.3, \"onset_max\": 1.0, \"offset_min\": -1.0, \"offset_max\": 0.3},\n",
    "                  \"constituent\": {\"offset_min\": -2.0, \"offset_max\": 0.5, \"onset_min\": -0.5, \"onset_max\": 2.0},\n",
    "                  \"sentence\": {\"offset_min\": -4.0, \"offset_max\": 1.0, \"onset_min\": -1.0, \"onset_max\": 4.0}}\n",
    "levels = ('word','constituent','sentence')\n",
    "starts = ('onset', 'offset')\n",
    "decoding_criterion = 'embeddings_word_non_const_end'\n",
    "\n",
    "epoch_add_metadata = epoch_add_metadata(\n",
    "    modality,\n",
    "    subjects[0],\n",
    "    levels,\n",
    "    starts,\n",
    "    runs,\n",
    "    epoch_windows,\n",
    "    decoding_criterion\n",
    ")\n"
   ]
  },
  {
   "cell_type": "markdown",
   "id": "e1b43440",
   "metadata": {},
   "source": [
    "### Metadata "
   ]
  },
  {
   "cell_type": "code",
   "execution_count": null,
   "id": "88b0994e",
   "metadata": {},
   "outputs": [],
   "source": [
    "meta_enriched = enrich_metadata(meta)\n"
   ]
  },
  {
   "cell_type": "code",
   "execution_count": null,
   "id": "2119d5cf",
   "metadata": {},
   "outputs": [],
   "source": [
    "meta_emb = add_embeddings(meta, runs, 'sentence')"
   ]
  },
  {
   "cell_type": "markdown",
   "id": "ae245d6e",
   "metadata": {},
   "source": [
    "## Utils functions"
   ]
  },
  {
   "cell_type": "code",
   "execution_count": 5,
   "id": "f8c67e09",
   "metadata": {},
   "outputs": [],
   "source": [
    "from utils import mne_events, decoding_from_criterion, add_syntax"
   ]
  },
  {
   "cell_type": "code",
   "execution_count": null,
   "id": "929b3427",
   "metadata": {},
   "outputs": [
    {
     "ename": "AttributeError",
     "evalue": "'list' object has no attribute 'pick_types'",
     "output_type": "error",
     "traceback": [
      "\u001b[0;31m---------------------------------------------------------------------------\u001b[0m",
      "\u001b[0;31mAttributeError\u001b[0m                            Traceback (most recent call last)",
      "Cell \u001b[0;32mIn [8], line 1\u001b[0m\n\u001b[0;32m----> 1\u001b[0m decoding_from_criterion(\u001b[38;5;124m'\u001b[39m\u001b[38;5;124membeddings\u001b[39m\u001b[38;5;124m'\u001b[39m, epoch_add_metadata, starts, levels, subjects[\u001b[38;5;241m0\u001b[39m])\n",
      "File \u001b[0;32m/mnt/localdrive/workspace-LPP/code/neurospin-petit-prince/decoding/local_testing/utils.py:362\u001b[0m, in \u001b[0;36mdecoding_from_criterion\u001b[0;34m(criterion, dict_epochs, starts, levels, subject)\u001b[0m\n\u001b[1;32m    360\u001b[0m epochs \u001b[38;5;241m=\u001b[39m dict_epochs[epoch_key]\n\u001b[1;32m    361\u001b[0m \u001b[38;5;66;03m# mean\u001b[39;00m\n\u001b[0;32m--> 362\u001b[0m evo \u001b[38;5;241m=\u001b[39m \u001b[43mepochs\u001b[49m\u001b[38;5;241;43m.\u001b[39;49m\u001b[43mcopy\u001b[49m\u001b[43m(\u001b[49m\u001b[43m)\u001b[49m\u001b[38;5;241;43m.\u001b[39;49m\u001b[43mpick_types\u001b[49m(meg\u001b[38;5;241m=\u001b[39m\u001b[38;5;28;01mTrue\u001b[39;00m)\u001b[38;5;241m.\u001b[39maverage(method\u001b[38;5;241m=\u001b[39m\u001b[38;5;124m'\u001b[39m\u001b[38;5;124mmedian\u001b[39m\u001b[38;5;124m'\u001b[39m)\n\u001b[1;32m    363\u001b[0m all_evos\u001b[38;5;241m.\u001b[39mappend(\u001b[38;5;28mdict\u001b[39m(subject\u001b[38;5;241m=\u001b[39msubject, evo\u001b[38;5;241m=\u001b[39mevo, start\u001b[38;5;241m=\u001b[39mstart, level\u001b[38;5;241m=\u001b[39mlevel))\n\u001b[1;32m    366\u001b[0m \u001b[38;5;66;03m# decoding word emb\u001b[39;00m\n",
      "\u001b[0;31mAttributeError\u001b[0m: 'list' object has no attribute 'pick_types'"
     ]
    }
   ],
   "source": [
    "decoding_from_criterion('embeddings', epoch_add_metadata, starts, levels, subjects[0])"
   ]
  },
  {
   "cell_type": "code",
   "execution_count": 35,
   "id": "a9795008",
   "metadata": {
    "scrolled": true
   },
   "outputs": [
    {
     "name": "stdout",
     "output_type": "stream",
     "text": [
      "Reading raw files for modality: auditory\n",
      "\n",
      " Epoching for run 1, subject: 18\n",
      "\n",
      "Reading raw files for modality: auditory\n",
      "\n",
      " Epoching for run 2, subject: 18\n",
      "\n",
      "Reading raw files for modality: auditory\n",
      "\n",
      " Epoching for run 3, subject: 18\n",
      "\n",
      "Reading raw files for modality: auditory\n",
      "\n",
      " Epoching for run 4, subject: 18\n",
      "\n",
      "Reading raw files for modality: auditory\n",
      "\n",
      " Epoching for run 5, subject: 18\n",
      "\n",
      "Reading raw files for modality: auditory\n",
      "\n",
      " Epoching for run 6, subject: 18\n",
      "\n",
      "Reading raw files for modality: auditory\n",
      "\n",
      " Epoching for run 7, subject: 18\n",
      "\n",
      "Reading raw files for modality: auditory\n",
      "\n",
      " Epoching for run 8, subject: 18\n",
      "\n",
      "Reading raw files for modality: auditory\n",
      "\n",
      " Epoching for run 9, subject: 18\n",
      "\n"
     ]
    },
    {
     "ename": "UnboundLocalError",
     "evalue": "local variable 'scores' referenced before assignment",
     "output_type": "error",
     "traceback": [
      "\u001b[0;31m---------------------------------------------------------------------------\u001b[0m",
      "\u001b[0;31mUnboundLocalError\u001b[0m                         Traceback (most recent call last)",
      "Cell \u001b[0;32mIn [35], line 2\u001b[0m\n\u001b[1;32m      1\u001b[0m \u001b[38;5;28;01mfrom\u001b[39;00m \u001b[38;5;21;01mdataset\u001b[39;00m \u001b[38;5;28;01mimport\u001b[39;00m analysis_subject\n\u001b[0;32m----> 2\u001b[0m analysis_subject(\u001b[38;5;124m'\u001b[39m\u001b[38;5;124m18\u001b[39m\u001b[38;5;124m'\u001b[39m, \u001b[38;5;124m'\u001b[39m\u001b[38;5;124mauditory\u001b[39m\u001b[38;5;124m'\u001b[39m, \u001b[38;5;124m'\u001b[39m\u001b[38;5;124membeddings_word_non_const_end\u001b[39m\u001b[38;5;124m'\u001b[39m)\n",
      "File \u001b[0;32m/mnt/localdrive/workspace-LPP/code/neurospin-petit-prince/decoding/local_testing/dataset.py:557\u001b[0m, in \u001b[0;36manalysis_subject\u001b[0;34m(subject, modality, decoding_criterion)\u001b[0m\n\u001b[1;32m    551\u001b[0m \u001b[38;5;66;03m# Iterate on subjects to epochs, and mean later\u001b[39;00m\n\u001b[1;32m    553\u001b[0m dict_epochs \u001b[38;5;241m=\u001b[39m epoch_add_metadata(\n\u001b[1;32m    554\u001b[0m     modality, subject, levels, starts, runs, epoch_windows, decoding_criterion\n\u001b[1;32m    555\u001b[0m )\n\u001b[0;32m--> 557\u001b[0m all_scores \u001b[38;5;241m=\u001b[39m \u001b[43mdecoding_from_criterion\u001b[49m\u001b[43m(\u001b[49m\n\u001b[1;32m    558\u001b[0m \u001b[43m    \u001b[49m\u001b[43mdecoding_criterion\u001b[49m\u001b[43m,\u001b[49m\u001b[43m \u001b[49m\u001b[43mdict_epochs\u001b[49m\u001b[43m,\u001b[49m\u001b[43m \u001b[49m\u001b[43mstarts\u001b[49m\u001b[43m,\u001b[49m\u001b[43m \u001b[49m\u001b[43mlevels\u001b[49m\u001b[43m,\u001b[49m\u001b[43m \u001b[49m\u001b[43msubject\u001b[49m\u001b[43m,\u001b[49m\u001b[43m \u001b[49m\u001b[43mall_scores\u001b[49m\n\u001b[1;32m    559\u001b[0m \u001b[43m\u001b[49m\u001b[43m)\u001b[49m\n\u001b[1;32m    561\u001b[0m pd\u001b[38;5;241m.\u001b[39mDataFrame(all_scores)\u001b[38;5;241m.\u001b[39mto_csv(file_path, index\u001b[38;5;241m=\u001b[39m\u001b[38;5;28;01mFalse\u001b[39;00m)\n\u001b[1;32m    563\u001b[0m \u001b[38;5;28;01mreturn\u001b[39;00m all_scores\n",
      "File \u001b[0;32m/mnt/localdrive/workspace-LPP/code/neurospin-petit-prince/decoding/local_testing/utils.py:389\u001b[0m, in \u001b[0;36mdecoding_from_criterion\u001b[0;34m(criterion, dict_epochs, starts, levels, subject, all_scores)\u001b[0m\n\u001b[1;32m    386\u001b[0m             R_vec \u001b[38;5;241m=\u001b[39m decod_xy(X, y)\n\u001b[1;32m    387\u001b[0m             scores \u001b[38;5;241m=\u001b[39m R_vec\n\u001b[0;32m--> 389\u001b[0m         \u001b[38;5;28;01mfor\u001b[39;00m t, score \u001b[38;5;129;01min\u001b[39;00m \u001b[38;5;28menumerate\u001b[39m(\u001b[43mscores\u001b[49m):\n\u001b[1;32m    390\u001b[0m             all_scores\u001b[38;5;241m.\u001b[39mappend(\n\u001b[1;32m    391\u001b[0m                 \u001b[38;5;28mdict\u001b[39m(\n\u001b[1;32m    392\u001b[0m                     subject\u001b[38;5;241m=\u001b[39msubject,\n\u001b[0;32m   (...)\u001b[0m\n\u001b[1;32m    397\u001b[0m                 )\n\u001b[1;32m    398\u001b[0m             )\n\u001b[1;32m    400\u001b[0m \u001b[38;5;28;01mreturn\u001b[39;00m all_scores\n",
      "\u001b[0;31mUnboundLocalError\u001b[0m: local variable 'scores' referenced before assignment"
     ]
    }
   ],
   "source": [
    "from dataset import analysis_subject\n",
    "analysis_subject('18', 'auditory', 'embeddings_word_non_const_end')"
   ]
  },
  {
   "cell_type": "code",
   "execution_count": 24,
   "id": "00aaf8fe",
   "metadata": {},
   "outputs": [],
   "source": [
    "file = '/home/is153802/data/LPP_MEG_auditory/sub-18/ses-01/meg/sub-18_ses-01_task-listen_run-01_meg.fif'\n",
    "file2 = '/home/is153802/data/LPP_MEG_auditory/sub-18/ses-01/meg/sub-18_ses-01_task-listen_run-02_meg.fif'\n",
    "\n",
    "raw1 = mne.io.read_raw_fif(file, allow_maxshield=True)\n",
    "raw2 = mne.io.read_raw_fif(file2, allow_maxshield=True)"
   ]
  },
  {
   "cell_type": "code",
   "execution_count": 43,
   "id": "2025e446",
   "metadata": {},
   "outputs": [
    {
     "ename": "ImportError",
     "evalue": "cannot import name 'plot_scores_debug' from 'dataset' (/mnt/localdrive/workspace-LPP/code/neurospin-petit-prince/decoding/local_testing/dataset.py)",
     "output_type": "error",
     "traceback": [
      "\u001b[0;31m---------------------------------------------------------------------------\u001b[0m",
      "\u001b[0;31mImportError\u001b[0m                               Traceback (most recent call last)",
      "Cell \u001b[0;32mIn [43], line 1\u001b[0m\n\u001b[0;32m----> 1\u001b[0m \u001b[38;5;28;01mfrom\u001b[39;00m \u001b[38;5;21;01mdataset\u001b[39;00m \u001b[38;5;28;01mimport\u001b[39;00m plot_scores_debug\n\u001b[1;32m      2\u001b[0m plot_scores(\u001b[38;5;124m'\u001b[39m\u001b[38;5;124mauditory\u001b[39m\u001b[38;5;124m'\u001b[39m, \u001b[38;5;124m'\u001b[39m\u001b[38;5;124membeddings\u001b[39m\u001b[38;5;124m'\u001b[39m)\n",
      "\u001b[0;31mImportError\u001b[0m: cannot import name 'plot_scores_debug' from 'dataset' (/mnt/localdrive/workspace-LPP/code/neurospin-petit-prince/decoding/local_testing/dataset.py)"
     ]
    }
   ],
   "source": [
    "from dataset import plot_scores_debug\n",
    "plot_scores('auditory', 'embeddings')"
   ]
  },
  {
   "cell_type": "code",
   "execution_count": null,
   "id": "0a3ef4bf",
   "metadata": {},
   "outputs": [],
   "source": []
  },
  {
   "cell_type": "code",
   "execution_count": null,
   "id": "3537e477",
   "metadata": {},
   "outputs": [],
   "source": []
  }
 ],
 "metadata": {
  "kernelspec": {
   "display_name": "Python 3 (ipykernel)",
   "language": "python",
   "name": "python3"
  },
  "language_info": {
   "codemirror_mode": {
    "name": "ipython",
    "version": 3
   },
   "file_extension": ".py",
   "mimetype": "text/x-python",
   "name": "python",
   "nbconvert_exporter": "python",
   "pygments_lexer": "ipython3",
   "version": "3.10.6"
  }
 },
 "nbformat": 4,
 "nbformat_minor": 5
}
