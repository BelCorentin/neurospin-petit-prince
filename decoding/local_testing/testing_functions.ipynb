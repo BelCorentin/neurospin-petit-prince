{
 "cells": [
  {
   "cell_type": "markdown",
   "id": "4e966777",
   "metadata": {},
   "source": [
    "# Testing\n",
    "\n",
    "## Dataset functions\n"
   ]
  },
  {
   "cell_type": "code",
   "execution_count": 2,
   "id": "3eb8783a",
   "metadata": {},
   "outputs": [
    {
     "ename": "ImportError",
     "evalue": "cannot import name 'epoch_add_metadata' from 'dataset' (/mnt/localdrive/workspace-LPP/code/neurospin-petit-prince/decoding/local_testing/dataset.py)",
     "output_type": "error",
     "traceback": [
      "\u001b[0;31m---------------------------------------------------------------------------\u001b[0m",
      "\u001b[0;31mImportError\u001b[0m                               Traceback (most recent call last)",
      "Cell \u001b[0;32mIn [2], line 1\u001b[0m\n\u001b[0;32m----> 1\u001b[0m \u001b[38;5;28;01mfrom\u001b[39;00m \u001b[38;5;21;01mdataset\u001b[39;00m \u001b[38;5;28;01mimport\u001b[39;00m epoch_add_metadata, get_path, get_subjects, \\\n\u001b[1;32m      2\u001b[0m     read_raw, enrich_metadata, add_embeddings, get_code_path, populate_metadata_epochs\n\u001b[1;32m      4\u001b[0m \u001b[38;5;28;01mimport\u001b[39;00m \u001b[38;5;21;01mmne\u001b[39;00m \n\u001b[1;32m      6\u001b[0m mne\u001b[38;5;241m.\u001b[39mset_log_level(verbose\u001b[38;5;241m=\u001b[39m\u001b[38;5;124m'\u001b[39m\u001b[38;5;124merror\u001b[39m\u001b[38;5;124m'\u001b[39m)\n",
      "\u001b[0;31mImportError\u001b[0m: cannot import name 'epoch_add_metadata' from 'dataset' (/mnt/localdrive/workspace-LPP/code/neurospin-petit-prince/decoding/local_testing/dataset.py)"
     ]
    }
   ],
   "source": [
    "from dataset import get_path, get_subjects, \\\n",
    "    read_raw, enrich_metadata, add_embeddings, get_code_path, populate_metadata_epochs\n",
    "\n",
    "import mne \n",
    "\n",
    "mne.set_log_level(verbose='error')"
   ]
  },
  {
   "cell_type": "markdown",
   "id": "74907b11",
   "metadata": {},
   "source": [
    "### Path"
   ]
  },
  {
   "cell_type": "code",
   "execution_count": null,
   "id": "8f60c97a",
   "metadata": {},
   "outputs": [],
   "source": [
    "modality = \"visual\"\n",
    "path = get_path(modality)\n",
    "subjects = get_subjects(path)"
   ]
  },
  {
   "cell_type": "markdown",
   "id": "07baede5",
   "metadata": {},
   "source": [
    "### Epoching and reading"
   ]
  },
  {
   "cell_type": "code",
   "execution_count": 3,
   "id": "642a1bad",
   "metadata": {
    "scrolled": true
   },
   "outputs": [
    {
     "name": "stdout",
     "output_type": "stream",
     "text": [
      "Reading raw files for modality: visual\n",
      "\n",
      " Epoching for run 1, subject: 1\n",
      "\n"
     ]
    }
   ],
   "source": [
    "subjects = get_subjects(path)\n",
    "runs = 1\n",
    "raw, meta = read_raw(subjects[0], runs)"
   ]
  },
  {
   "cell_type": "code",
   "execution_count": null,
   "id": "0630564d",
   "metadata": {
    "scrolled": true
   },
   "outputs": [],
   "source": [
    "level = ('sentence')\n",
    "start = ('onset')\n",
    "decoding_criterion = 'embeddings'\n",
    "runs = 1\n",
    "epochs = populate_metadata_epochs(\n",
    "    modality,\n",
    "    subjects[0],\n",
    "    level,\n",
    "    start,\n",
    "    runs,\n",
    "    decoding_criterion\n",
    ")\n"
   ]
  },
  {
   "cell_type": "code",
   "execution_count": null,
   "id": "ea550912",
   "metadata": {
    "scrolled": true
   },
   "outputs": [],
   "source": [
    "epochs.metadata"
   ]
  },
  {
   "cell_type": "code",
   "execution_count": null,
   "id": "f0906a36",
   "metadata": {
    "scrolled": false
   },
   "outputs": [],
   "source": [
    "meta = epochs.metadata\n",
    "from utils import get_embeddings\n",
    "all_embeddings = []\n",
    "for level_id, df in meta.groupby(f'{level}_id'):\n",
    "        \n",
    "        complete_string =' '.join(df[f'{level}_words'].values[0])\n",
    "        embeddings = get_embeddings(complete_string)\n",
    "        all_embeddings.append(embeddings)"
   ]
  },
  {
   "cell_type": "code",
   "execution_count": 25,
   "id": "18229666",
   "metadata": {},
   "outputs": [
    {
     "data": {
      "text/plain": [
       "2"
      ]
     },
     "execution_count": 25,
     "metadata": {},
     "output_type": "execute_result"
    }
   ],
   "source": [
    "all_emb"
   ]
  },
  {
   "cell_type": "code",
   "execution_count": null,
   "id": "45daefea",
   "metadata": {},
   "outputs": [],
   "source": [
    "def generate_embeddings(meta, level):\n",
    "    # Group by sentence / constituent id:\n",
    "    for string in \n",
    "    for level_id, df in meta.groupby(f'{level}_id'):\n",
    "        \n",
    "        complete_string = ''\n",
    "        bsl = epochs.data[df.index[0], :, bsl_time].mean(-2)\n",
    "        # Remove basline to all words in the sentence\n",
    "        epochs._data[df.index] -= bsl[None, :, None]\n",
    "    return embeddings"
   ]
  },
  {
   "cell_type": "markdown",
   "id": "e1b43440",
   "metadata": {},
   "source": [
    "### Metadata "
   ]
  },
  {
   "cell_type": "code",
   "execution_count": null,
   "id": "88b0994e",
   "metadata": {},
   "outputs": [],
   "source": [
    "meta_enriched = enrich_metadata(meta)\n"
   ]
  },
  {
   "cell_type": "code",
   "execution_count": null,
   "id": "2119d5cf",
   "metadata": {},
   "outputs": [],
   "source": [
    "meta_emb = add_embeddings(meta, runs, 'sentence')"
   ]
  },
  {
   "cell_type": "markdown",
   "id": "ae245d6e",
   "metadata": {},
   "source": [
    "## Utils functions"
   ]
  },
  {
   "cell_type": "code",
   "execution_count": 5,
   "id": "f8c67e09",
   "metadata": {},
   "outputs": [],
   "source": [
    "from utils import mne_events, decoding_from_criterion, add_syntax"
   ]
  },
  {
   "cell_type": "code",
   "execution_count": 6,
   "id": "ba3ee78a",
   "metadata": {},
   "outputs": [
    {
     "name": "stdout",
     "output_type": "stream",
     "text": [
      "Collecting sentence-transformers\n",
      "  Downloading sentence-transformers-2.2.2.tar.gz (85 kB)\n",
      "\u001b[2K     \u001b[38;2;114;156;31m━━━━━━━━━━━━━━━━━━━━━━━━━━━━━━━━━━━━━━━━\u001b[0m \u001b[32m86.0/86.0 kB\u001b[0m \u001b[31m2.5 MB/s\u001b[0m eta \u001b[36m0:00:00\u001b[0m\n",
      "\u001b[?25h  Preparing metadata (setup.py) ... \u001b[?25ldone\n",
      "\u001b[?25hCollecting transformers<5.0.0,>=4.6.0\n",
      "  Downloading transformers-4.30.2-py3-none-any.whl (7.2 MB)\n",
      "\u001b[2K     \u001b[38;2;114;156;31m━━━━━━━━━━━━━━━━━━━━━━━━━━━━━━━━━━━━━━━━\u001b[0m \u001b[32m7.2/7.2 MB\u001b[0m \u001b[31m17.3 MB/s\u001b[0m eta \u001b[36m0:00:00\u001b[0mm eta \u001b[36m0:00:01\u001b[0m[36m0:00:01\u001b[0m\n",
      "\u001b[?25hRequirement already satisfied: tqdm in /home/is153802/.pyenv/versions/3.10.6/envs/meg-masc/lib/python3.10/site-packages (from sentence-transformers) (4.64.0)\n",
      "Requirement already satisfied: torch>=1.6.0 in /home/is153802/.pyenv/versions/3.10.6/envs/meg-masc/lib/python3.10/site-packages (from sentence-transformers) (2.0.0)\n",
      "Collecting torchvision\n",
      "  Downloading torchvision-0.15.2-cp310-cp310-manylinux1_x86_64.whl (6.0 MB)\n",
      "\u001b[2K     \u001b[38;2;114;156;31m━━━━━━━━━━━━━━━━━━━━━━━━━━━━━━━━━━━━━━━━\u001b[0m \u001b[32m6.0/6.0 MB\u001b[0m \u001b[31m42.9 MB/s\u001b[0m eta \u001b[36m0:00:00\u001b[0mm eta \u001b[36m0:00:01\u001b[0m0:01\u001b[0m\n",
      "\u001b[?25hRequirement already satisfied: numpy in /home/is153802/.pyenv/versions/3.10.6/envs/meg-masc/lib/python3.10/site-packages (from sentence-transformers) (1.23.2)\n",
      "Requirement already satisfied: scikit-learn in /home/is153802/.pyenv/versions/3.10.6/envs/meg-masc/lib/python3.10/site-packages (from sentence-transformers) (1.1.2)\n",
      "Requirement already satisfied: scipy in /home/is153802/.pyenv/versions/3.10.6/envs/meg-masc/lib/python3.10/site-packages (from sentence-transformers) (1.9.1)\n",
      "Collecting nltk\n",
      "  Using cached nltk-3.8.1-py3-none-any.whl (1.5 MB)\n",
      "Collecting sentencepiece\n",
      "  Downloading sentencepiece-0.1.99-cp310-cp310-manylinux_2_17_x86_64.manylinux2014_x86_64.whl (1.3 MB)\n",
      "\u001b[2K     \u001b[38;2;114;156;31m━━━━━━━━━━━━━━━━━━━━━━━━━━━━━━━━━━━━━━━━\u001b[0m \u001b[32m1.3/1.3 MB\u001b[0m \u001b[31m44.1 MB/s\u001b[0m eta \u001b[36m0:00:00\u001b[0m\n",
      "\u001b[?25hCollecting huggingface-hub>=0.4.0\n",
      "  Downloading huggingface_hub-0.15.1-py3-none-any.whl (236 kB)\n",
      "\u001b[2K     \u001b[38;2;114;156;31m━━━━━━━━━━━━━━━━━━━━━━━━━━━━━━━━━━━━━━\u001b[0m \u001b[32m236.8/236.8 kB\u001b[0m \u001b[31m32.5 MB/s\u001b[0m eta \u001b[36m0:00:00\u001b[0m\n",
      "\u001b[?25hRequirement already satisfied: fsspec in /home/is153802/.pyenv/versions/3.10.6/envs/meg-masc/lib/python3.10/site-packages (from huggingface-hub>=0.4.0->sentence-transformers) (2022.8.2)\n",
      "Requirement already satisfied: pyyaml>=5.1 in /home/is153802/.pyenv/versions/3.10.6/envs/meg-masc/lib/python3.10/site-packages (from huggingface-hub>=0.4.0->sentence-transformers) (6.0)\n",
      "Requirement already satisfied: filelock in /home/is153802/.pyenv/versions/3.10.6/envs/meg-masc/lib/python3.10/site-packages (from huggingface-hub>=0.4.0->sentence-transformers) (3.10.1)\n",
      "Requirement already satisfied: packaging>=20.9 in /home/is153802/.pyenv/versions/3.10.6/envs/meg-masc/lib/python3.10/site-packages (from huggingface-hub>=0.4.0->sentence-transformers) (21.3)\n",
      "Requirement already satisfied: requests in /home/is153802/.pyenv/versions/3.10.6/envs/meg-masc/lib/python3.10/site-packages (from huggingface-hub>=0.4.0->sentence-transformers) (2.28.1)\n",
      "Requirement already satisfied: typing-extensions>=3.7.4.3 in /home/is153802/.pyenv/versions/3.10.6/envs/meg-masc/lib/python3.10/site-packages (from huggingface-hub>=0.4.0->sentence-transformers) (4.3.0)\n",
      "Requirement already satisfied: nvidia-cuda-nvrtc-cu11==11.7.99 in /home/is153802/.pyenv/versions/3.10.6/envs/meg-masc/lib/python3.10/site-packages (from torch>=1.6.0->sentence-transformers) (11.7.99)\n",
      "Requirement already satisfied: sympy in /home/is153802/.pyenv/versions/3.10.6/envs/meg-masc/lib/python3.10/site-packages (from torch>=1.6.0->sentence-transformers) (1.11.1)\n",
      "Requirement already satisfied: nvidia-cufft-cu11==10.9.0.58 in /home/is153802/.pyenv/versions/3.10.6/envs/meg-masc/lib/python3.10/site-packages (from torch>=1.6.0->sentence-transformers) (10.9.0.58)\n",
      "Requirement already satisfied: nvidia-cuda-runtime-cu11==11.7.99 in /home/is153802/.pyenv/versions/3.10.6/envs/meg-masc/lib/python3.10/site-packages (from torch>=1.6.0->sentence-transformers) (11.7.99)\n",
      "Requirement already satisfied: triton==2.0.0 in /home/is153802/.pyenv/versions/3.10.6/envs/meg-masc/lib/python3.10/site-packages (from torch>=1.6.0->sentence-transformers) (2.0.0)\n",
      "Requirement already satisfied: nvidia-cusparse-cu11==11.7.4.91 in /home/is153802/.pyenv/versions/3.10.6/envs/meg-masc/lib/python3.10/site-packages (from torch>=1.6.0->sentence-transformers) (11.7.4.91)\n",
      "Requirement already satisfied: nvidia-nvtx-cu11==11.7.91 in /home/is153802/.pyenv/versions/3.10.6/envs/meg-masc/lib/python3.10/site-packages (from torch>=1.6.0->sentence-transformers) (11.7.91)\n",
      "Requirement already satisfied: networkx in /home/is153802/.pyenv/versions/3.10.6/envs/meg-masc/lib/python3.10/site-packages (from torch>=1.6.0->sentence-transformers) (3.0)\n",
      "Requirement already satisfied: jinja2 in /home/is153802/.pyenv/versions/3.10.6/envs/meg-masc/lib/python3.10/site-packages (from torch>=1.6.0->sentence-transformers) (3.1.2)\n",
      "Requirement already satisfied: nvidia-cuda-cupti-cu11==11.7.101 in /home/is153802/.pyenv/versions/3.10.6/envs/meg-masc/lib/python3.10/site-packages (from torch>=1.6.0->sentence-transformers) (11.7.101)\n",
      "Requirement already satisfied: nvidia-cublas-cu11==11.10.3.66 in /home/is153802/.pyenv/versions/3.10.6/envs/meg-masc/lib/python3.10/site-packages (from torch>=1.6.0->sentence-transformers) (11.10.3.66)\n",
      "Requirement already satisfied: nvidia-nccl-cu11==2.14.3 in /home/is153802/.pyenv/versions/3.10.6/envs/meg-masc/lib/python3.10/site-packages (from torch>=1.6.0->sentence-transformers) (2.14.3)\n",
      "Requirement already satisfied: nvidia-cusolver-cu11==11.4.0.1 in /home/is153802/.pyenv/versions/3.10.6/envs/meg-masc/lib/python3.10/site-packages (from torch>=1.6.0->sentence-transformers) (11.4.0.1)\n",
      "Requirement already satisfied: nvidia-curand-cu11==10.2.10.91 in /home/is153802/.pyenv/versions/3.10.6/envs/meg-masc/lib/python3.10/site-packages (from torch>=1.6.0->sentence-transformers) (10.2.10.91)\n",
      "Requirement already satisfied: nvidia-cudnn-cu11==8.5.0.96 in /home/is153802/.pyenv/versions/3.10.6/envs/meg-masc/lib/python3.10/site-packages (from torch>=1.6.0->sentence-transformers) (8.5.0.96)\n",
      "Requirement already satisfied: wheel in /home/is153802/.pyenv/versions/3.10.6/envs/meg-masc/lib/python3.10/site-packages (from nvidia-cublas-cu11==11.10.3.66->torch>=1.6.0->sentence-transformers) (0.40.0)\n",
      "Requirement already satisfied: setuptools in /home/is153802/.pyenv/versions/3.10.6/envs/meg-masc/lib/python3.10/site-packages (from nvidia-cublas-cu11==11.10.3.66->torch>=1.6.0->sentence-transformers) (63.2.0)\n",
      "Requirement already satisfied: cmake in /home/is153802/.pyenv/versions/3.10.6/envs/meg-masc/lib/python3.10/site-packages (from triton==2.0.0->torch>=1.6.0->sentence-transformers) (3.26.0)\n",
      "Requirement already satisfied: lit in /home/is153802/.pyenv/versions/3.10.6/envs/meg-masc/lib/python3.10/site-packages (from triton==2.0.0->torch>=1.6.0->sentence-transformers) (16.0.0)\n",
      "Collecting tokenizers!=0.11.3,<0.14,>=0.11.1\n",
      "  Downloading tokenizers-0.13.3-cp310-cp310-manylinux_2_17_x86_64.manylinux2014_x86_64.whl (7.8 MB)\n",
      "\u001b[2K     \u001b[38;2;114;156;31m━━━━━━━━━━━━━━━━━━━━━━━━━━━━━━━━━━━━━━━━\u001b[0m \u001b[32m7.8/7.8 MB\u001b[0m \u001b[31m43.6 MB/s\u001b[0m eta \u001b[36m0:00:00\u001b[0mm eta \u001b[36m0:00:01\u001b[0m0:01\u001b[0m\n",
      "\u001b[?25hRequirement already satisfied: regex!=2019.12.17 in /home/is153802/.pyenv/versions/3.10.6/envs/meg-masc/lib/python3.10/site-packages (from transformers<5.0.0,>=4.6.0->sentence-transformers) (2022.8.17)\n",
      "Collecting safetensors>=0.3.1\n",
      "  Downloading safetensors-0.3.1-cp310-cp310-manylinux_2_17_x86_64.manylinux2014_x86_64.whl (1.3 MB)\n",
      "\u001b[2K     \u001b[38;2;114;156;31m━━━━━━━━━━━━━━━━━━━━━━━━━━━━━━━━━━━━━━━━\u001b[0m \u001b[32m1.3/1.3 MB\u001b[0m \u001b[31m42.0 MB/s\u001b[0m eta \u001b[36m0:00:00\u001b[0m\n",
      "\u001b[?25hRequirement already satisfied: click in /home/is153802/.pyenv/versions/3.10.6/envs/meg-masc/lib/python3.10/site-packages (from nltk->sentence-transformers) (8.1.3)\n",
      "Requirement already satisfied: joblib in /home/is153802/.pyenv/versions/3.10.6/envs/meg-masc/lib/python3.10/site-packages (from nltk->sentence-transformers) (1.1.0)\n",
      "Requirement already satisfied: threadpoolctl>=2.0.0 in /home/is153802/.pyenv/versions/3.10.6/envs/meg-masc/lib/python3.10/site-packages (from scikit-learn->sentence-transformers) (3.1.0)\n"
     ]
    },
    {
     "name": "stdout",
     "output_type": "stream",
     "text": [
      "Requirement already satisfied: pillow!=8.3.*,>=5.3.0 in /home/is153802/.pyenv/versions/3.10.6/envs/meg-masc/lib/python3.10/site-packages (from torchvision->sentence-transformers) (9.2.0)\n",
      "Collecting torch>=1.6.0\n",
      "  Downloading torch-2.0.1-cp310-cp310-manylinux1_x86_64.whl (619.9 MB)\n",
      "\u001b[2K     \u001b[38;2;114;156;31m━━━━━━━━━━━━━━━━━━━━━━━━━━━━━━━━━━━━━━━\u001b[0m \u001b[32m619.9/619.9 MB\u001b[0m \u001b[31m3.1 MB/s\u001b[0m eta \u001b[36m0:00:00\u001b[0mm eta \u001b[36m0:00:01\u001b[0m[36m0:00:01\u001b[0m\n",
      "\u001b[?25hRequirement already satisfied: pyparsing!=3.0.5,>=2.0.2 in /home/is153802/.pyenv/versions/3.10.6/envs/meg-masc/lib/python3.10/site-packages (from packaging>=20.9->huggingface-hub>=0.4.0->sentence-transformers) (3.0.9)\n",
      "Requirement already satisfied: MarkupSafe>=2.0 in /home/is153802/.pyenv/versions/3.10.6/envs/meg-masc/lib/python3.10/site-packages (from jinja2->torch>=1.6.0->sentence-transformers) (2.1.1)\n",
      "Requirement already satisfied: charset-normalizer<3,>=2 in /home/is153802/.pyenv/versions/3.10.6/envs/meg-masc/lib/python3.10/site-packages (from requests->huggingface-hub>=0.4.0->sentence-transformers) (2.1.1)\n",
      "Requirement already satisfied: certifi>=2017.4.17 in /home/is153802/.pyenv/versions/3.10.6/envs/meg-masc/lib/python3.10/site-packages (from requests->huggingface-hub>=0.4.0->sentence-transformers) (2022.6.15)\n",
      "Requirement already satisfied: idna<4,>=2.5 in /home/is153802/.pyenv/versions/3.10.6/envs/meg-masc/lib/python3.10/site-packages (from requests->huggingface-hub>=0.4.0->sentence-transformers) (3.3)\n",
      "Requirement already satisfied: urllib3<1.27,>=1.21.1 in /home/is153802/.pyenv/versions/3.10.6/envs/meg-masc/lib/python3.10/site-packages (from requests->huggingface-hub>=0.4.0->sentence-transformers) (1.26.12)\n",
      "Requirement already satisfied: mpmath>=0.19 in /home/is153802/.pyenv/versions/3.10.6/envs/meg-masc/lib/python3.10/site-packages (from sympy->torch>=1.6.0->sentence-transformers) (1.3.0)\n",
      "Building wheels for collected packages: sentence-transformers\n",
      "  Building wheel for sentence-transformers (setup.py) ... \u001b[?25ldone\n",
      "\u001b[?25h  Created wheel for sentence-transformers: filename=sentence_transformers-2.2.2-py3-none-any.whl size=125926 sha256=b3768bf9e6f7427b0fc7272fae897755865f40bb6a6126402174c316d4e8f40e\n",
      "  Stored in directory: /home/is153802/.cache/pip/wheels/62/f2/10/1e606fd5f02395388f74e7462910fe851042f97238cbbd902f\n",
      "Successfully built sentence-transformers\n",
      "Installing collected packages: tokenizers, sentencepiece, safetensors, nltk, huggingface-hub, transformers, torch, torchvision, sentence-transformers\n",
      "  Attempting uninstall: torch\n",
      "    Found existing installation: torch 2.0.0\n",
      "    Uninstalling torch-2.0.0:\n",
      "      Successfully uninstalled torch-2.0.0\n",
      "\u001b[31mERROR: pip's dependency resolver does not currently take into account all the packages that are installed. This behaviour is the source of the following dependency conflicts.\n",
      "torchaudio 2.0.1 requires torch==2.0.0, but you have torch 2.0.1 which is incompatible.\n",
      "fairseq 0.12.2 requires hydra-core<1.1,>=1.0.7, but you have hydra-core 1.3.2 which is incompatible.\n",
      "fairseq 0.12.2 requires omegaconf<2.1, but you have omegaconf 2.3.0 which is incompatible.\u001b[0m\u001b[31m\n",
      "\u001b[0mSuccessfully installed huggingface-hub-0.15.1 nltk-3.8.1 safetensors-0.3.1 sentence-transformers-2.2.2 sentencepiece-0.1.99 tokenizers-0.13.3 torch-2.0.1 torchvision-0.15.2 transformers-4.30.2\n",
      "\n",
      "\u001b[1m[\u001b[0m\u001b[34;49mnotice\u001b[0m\u001b[1;39;49m]\u001b[0m\u001b[39;49m A new release of pip available: \u001b[0m\u001b[31;49m22.2.2\u001b[0m\u001b[39;49m -> \u001b[0m\u001b[32;49m23.1.2\u001b[0m\n",
      "\u001b[1m[\u001b[0m\u001b[34;49mnotice\u001b[0m\u001b[1;39;49m]\u001b[0m\u001b[39;49m To update, run: \u001b[0m\u001b[32;49mpip install --upgrade pip\u001b[0m\n",
      "Note: you may need to restart the kernel to use updated packages.\n"
     ]
    }
   ],
   "source": [
    "pip install -U sentence-transformers"
   ]
  },
  {
   "cell_type": "code",
   "execution_count": 8,
   "id": "43ee1ee0",
   "metadata": {},
   "outputs": [
    {
     "data": {
      "application/json": {
       "ascii": false,
       "bar_format": null,
       "colour": null,
       "elapsed": 0.033448219299316406,
       "initial": 0,
       "n": 0,
       "ncols": null,
       "nrows": 75,
       "postfix": null,
       "prefix": "Downloading (…)e9125/.gitattributes",
       "rate": null,
       "total": null,
       "unit": "B",
       "unit_divisor": 1000,
       "unit_scale": true
      },
      "application/vnd.jupyter.widget-view+json": {
       "model_id": "37c03ba20131402596b2bd26ce3ea2a8",
       "version_major": 2,
       "version_minor": 0
      },
      "text/plain": [
       "Downloading (…)e9125/.gitattributes: 0.00B [00:00, ?B/s]"
      ]
     },
     "metadata": {},
     "output_type": "display_data"
    },
    {
     "data": {
      "application/json": {
       "ascii": false,
       "bar_format": null,
       "colour": null,
       "elapsed": 0.04884481430053711,
       "initial": 0,
       "n": 0,
       "ncols": null,
       "nrows": 75,
       "postfix": null,
       "prefix": "Downloading (…)_Pooling/config.json",
       "rate": null,
       "total": 190,
       "unit": "B",
       "unit_divisor": 1000,
       "unit_scale": true
      },
      "application/vnd.jupyter.widget-view+json": {
       "model_id": "78ce30eacbd044bb9ea36abcc719ae15",
       "version_major": 2,
       "version_minor": 0
      },
      "text/plain": [
       "Downloading (…)_Pooling/config.json:   0%|          | 0.00/190 [00:00<?, ?B/s]"
      ]
     },
     "metadata": {},
     "output_type": "display_data"
    },
    {
     "data": {
      "application/json": {
       "ascii": false,
       "bar_format": null,
       "colour": null,
       "elapsed": 0.050642967224121094,
       "initial": 0,
       "n": 0,
       "ncols": null,
       "nrows": 75,
       "postfix": null,
       "prefix": "Downloading (…)7e55de9125/README.md",
       "rate": null,
       "total": null,
       "unit": "B",
       "unit_divisor": 1000,
       "unit_scale": true
      },
      "application/vnd.jupyter.widget-view+json": {
       "model_id": "75e921c878cc4c9ba7577bafba17c28c",
       "version_major": 2,
       "version_minor": 0
      },
      "text/plain": [
       "Downloading (…)7e55de9125/README.md: 0.00B [00:00, ?B/s]"
      ]
     },
     "metadata": {},
     "output_type": "display_data"
    },
    {
     "data": {
      "application/json": {
       "ascii": false,
       "bar_format": null,
       "colour": null,
       "elapsed": 0.04492354393005371,
       "initial": 0,
       "n": 0,
       "ncols": null,
       "nrows": 75,
       "postfix": null,
       "prefix": "Downloading (…)55de9125/config.json",
       "rate": null,
       "total": 612,
       "unit": "B",
       "unit_divisor": 1000,
       "unit_scale": true
      },
      "application/vnd.jupyter.widget-view+json": {
       "model_id": "1ef2a96f869a414d894b1df43492569e",
       "version_major": 2,
       "version_minor": 0
      },
      "text/plain": [
       "Downloading (…)55de9125/config.json:   0%|          | 0.00/612 [00:00<?, ?B/s]"
      ]
     },
     "metadata": {},
     "output_type": "display_data"
    },
    {
     "data": {
      "application/json": {
       "ascii": false,
       "bar_format": null,
       "colour": null,
       "elapsed": 0.04446601867675781,
       "initial": 0,
       "n": 0,
       "ncols": null,
       "nrows": 75,
       "postfix": null,
       "prefix": "Downloading (…)ce_transformers.json",
       "rate": null,
       "total": 116,
       "unit": "B",
       "unit_divisor": 1000,
       "unit_scale": true
      },
      "application/vnd.jupyter.widget-view+json": {
       "model_id": "8efe562e565d4e14b00a1d70645a0c20",
       "version_major": 2,
       "version_minor": 0
      },
      "text/plain": [
       "Downloading (…)ce_transformers.json:   0%|          | 0.00/116 [00:00<?, ?B/s]"
      ]
     },
     "metadata": {},
     "output_type": "display_data"
    },
    {
     "data": {
      "application/json": {
       "ascii": false,
       "bar_format": null,
       "colour": null,
       "elapsed": 0.04671311378479004,
       "initial": 0,
       "n": 0,
       "ncols": null,
       "nrows": 75,
       "postfix": null,
       "prefix": "Downloading (…)125/data_config.json",
       "rate": null,
       "total": null,
       "unit": "B",
       "unit_divisor": 1000,
       "unit_scale": true
      },
      "application/vnd.jupyter.widget-view+json": {
       "model_id": "25d5af11f4e54a7cb253cf8ac421162d",
       "version_major": 2,
       "version_minor": 0
      },
      "text/plain": [
       "Downloading (…)125/data_config.json: 0.00B [00:00, ?B/s]"
      ]
     },
     "metadata": {},
     "output_type": "display_data"
    },
    {
     "data": {
      "application/json": {
       "ascii": false,
       "bar_format": null,
       "colour": null,
       "elapsed": 0.033744096755981445,
       "initial": 0,
       "n": 0,
       "ncols": null,
       "nrows": 75,
       "postfix": null,
       "prefix": "Downloading pytorch_model.bin",
       "rate": null,
       "total": 90888945,
       "unit": "B",
       "unit_divisor": 1000,
       "unit_scale": true
      },
      "application/vnd.jupyter.widget-view+json": {
       "model_id": "d0c7c406fc034486941ee247cae50c30",
       "version_major": 2,
       "version_minor": 0
      },
      "text/plain": [
       "Downloading pytorch_model.bin:   0%|          | 0.00/90.9M [00:00<?, ?B/s]"
      ]
     },
     "metadata": {},
     "output_type": "display_data"
    },
    {
     "data": {
      "application/json": {
       "ascii": false,
       "bar_format": null,
       "colour": null,
       "elapsed": 0.04478168487548828,
       "initial": 0,
       "n": 0,
       "ncols": null,
       "nrows": 75,
       "postfix": null,
       "prefix": "Downloading (…)nce_bert_config.json",
       "rate": null,
       "total": 53,
       "unit": "B",
       "unit_divisor": 1000,
       "unit_scale": true
      },
      "application/vnd.jupyter.widget-view+json": {
       "model_id": "3a56d8f8c55546dc8c5281649b25227b",
       "version_major": 2,
       "version_minor": 0
      },
      "text/plain": [
       "Downloading (…)nce_bert_config.json:   0%|          | 0.00/53.0 [00:00<?, ?B/s]"
      ]
     },
     "metadata": {},
     "output_type": "display_data"
    },
    {
     "data": {
      "application/json": {
       "ascii": false,
       "bar_format": null,
       "colour": null,
       "elapsed": 0.049138784408569336,
       "initial": 0,
       "n": 0,
       "ncols": null,
       "nrows": 75,
       "postfix": null,
       "prefix": "Downloading (…)cial_tokens_map.json",
       "rate": null,
       "total": 112,
       "unit": "B",
       "unit_divisor": 1000,
       "unit_scale": true
      },
      "application/vnd.jupyter.widget-view+json": {
       "model_id": "bba6ba2988334fe1b86c84bd622801d7",
       "version_major": 2,
       "version_minor": 0
      },
      "text/plain": [
       "Downloading (…)cial_tokens_map.json:   0%|          | 0.00/112 [00:00<?, ?B/s]"
      ]
     },
     "metadata": {},
     "output_type": "display_data"
    },
    {
     "data": {
      "application/json": {
       "ascii": false,
       "bar_format": null,
       "colour": null,
       "elapsed": 0.04701709747314453,
       "initial": 0,
       "n": 0,
       "ncols": null,
       "nrows": 75,
       "postfix": null,
       "prefix": "Downloading (…)e9125/tokenizer.json",
       "rate": null,
       "total": null,
       "unit": "B",
       "unit_divisor": 1000,
       "unit_scale": true
      },
      "application/vnd.jupyter.widget-view+json": {
       "model_id": "2927ae6efad44148bdd80ba1c5655ca9",
       "version_major": 2,
       "version_minor": 0
      },
      "text/plain": [
       "Downloading (…)e9125/tokenizer.json: 0.00B [00:00, ?B/s]"
      ]
     },
     "metadata": {},
     "output_type": "display_data"
    },
    {
     "data": {
      "application/json": {
       "ascii": false,
       "bar_format": null,
       "colour": null,
       "elapsed": 0.049669742584228516,
       "initial": 0,
       "n": 0,
       "ncols": null,
       "nrows": 75,
       "postfix": null,
       "prefix": "Downloading (…)okenizer_config.json",
       "rate": null,
       "total": 350,
       "unit": "B",
       "unit_divisor": 1000,
       "unit_scale": true
      },
      "application/vnd.jupyter.widget-view+json": {
       "model_id": "c86003fdfd8f48e88b662f89550691fe",
       "version_major": 2,
       "version_minor": 0
      },
      "text/plain": [
       "Downloading (…)okenizer_config.json:   0%|          | 0.00/350 [00:00<?, ?B/s]"
      ]
     },
     "metadata": {},
     "output_type": "display_data"
    },
    {
     "data": {
      "application/json": {
       "ascii": false,
       "bar_format": null,
       "colour": null,
       "elapsed": 0.046617746353149414,
       "initial": 0,
       "n": 0,
       "ncols": null,
       "nrows": 75,
       "postfix": null,
       "prefix": "Downloading (…)9125/train_script.py",
       "rate": null,
       "total": null,
       "unit": "B",
       "unit_divisor": 1000,
       "unit_scale": true
      },
      "application/vnd.jupyter.widget-view+json": {
       "model_id": "cee0d4d3d13840a389f24aa64f88c106",
       "version_major": 2,
       "version_minor": 0
      },
      "text/plain": [
       "Downloading (…)9125/train_script.py: 0.00B [00:00, ?B/s]"
      ]
     },
     "metadata": {},
     "output_type": "display_data"
    },
    {
     "data": {
      "application/json": {
       "ascii": false,
       "bar_format": null,
       "colour": null,
       "elapsed": 0.04896378517150879,
       "initial": 0,
       "n": 0,
       "ncols": null,
       "nrows": 75,
       "postfix": null,
       "prefix": "Downloading (…)7e55de9125/vocab.txt",
       "rate": null,
       "total": null,
       "unit": "B",
       "unit_divisor": 1000,
       "unit_scale": true
      },
      "application/vnd.jupyter.widget-view+json": {
       "model_id": "2994b66bcafb4d1f9153e0fd7e339843",
       "version_major": 2,
       "version_minor": 0
      },
      "text/plain": [
       "Downloading (…)7e55de9125/vocab.txt: 0.00B [00:00, ?B/s]"
      ]
     },
     "metadata": {},
     "output_type": "display_data"
    },
    {
     "data": {
      "application/json": {
       "ascii": false,
       "bar_format": null,
       "colour": null,
       "elapsed": 0.0597233772277832,
       "initial": 0,
       "n": 0,
       "ncols": null,
       "nrows": 75,
       "postfix": null,
       "prefix": "Downloading (…)5de9125/modules.json",
       "rate": null,
       "total": 349,
       "unit": "B",
       "unit_divisor": 1000,
       "unit_scale": true
      },
      "application/vnd.jupyter.widget-view+json": {
       "model_id": "19b876af40ac44b49973fe60a2ca7dc6",
       "version_major": 2,
       "version_minor": 0
      },
      "text/plain": [
       "Downloading (…)5de9125/modules.json:   0%|          | 0.00/349 [00:00<?, ?B/s]"
      ]
     },
     "metadata": {},
     "output_type": "display_data"
    },
    {
     "name": "stdout",
     "output_type": "stream",
     "text": [
      "[[ 5.04831076e-02  8.80059898e-02  4.87487484e-03  3.62688638e-02\n",
      "  -1.01818773e-03  1.91537552e-02  1.42318606e-02 -1.87865216e-02\n",
      "   8.15250948e-02  3.72195020e-02  7.04155639e-02 -5.87073416e-02\n",
      "  -1.68796070e-02 -6.29133731e-03 -6.76172040e-03  1.66975856e-02\n",
      "   4.88559529e-02 -1.96751002e-02 -8.74321237e-02 -4.07177117e-03\n",
      "  -2.66327970e-02  9.24725980e-02 -4.52924706e-03  4.63860953e-04\n",
      "  -1.51137253e-02  9.12253652e-03 -4.32257727e-02  6.41979575e-02\n",
      "   6.78998083e-02 -2.08255593e-02 -5.01751713e-02 -1.19767636e-02\n",
      "   7.04679415e-02  4.77322526e-02  2.37133615e-02 -1.37240943e-02\n",
      "  -5.71306283e-03  4.22920361e-02  1.38044208e-02 -1.28268758e-02\n",
      "   1.07330028e-02 -3.87284569e-02  1.76633168e-02  4.59722010e-03\n",
      "   9.40082688e-03 -6.47608284e-03 -1.21737123e-02 -1.49171008e-02\n",
      "   3.76650179e-03  6.78852759e-03 -1.10231712e-01 -8.56065825e-02\n",
      "  -3.18822674e-02 -4.43562642e-02  7.68914027e-03  5.64846173e-02\n",
      "   5.19265421e-02  2.53148694e-02  4.83741499e-02 -2.65171309e-03\n",
      "  -2.37623439e-03 -8.66078399e-03 -8.94937739e-02  2.51101274e-02\n",
      "   1.49816498e-01  4.85334992e-02 -9.16065928e-03 -5.52047901e-02\n",
      "  -4.20984589e-02 -2.88926810e-03 -3.65284737e-03  2.28409264e-02\n",
      "  -1.63064171e-02 -7.09250523e-03 -7.29422942e-02 -2.07471419e-02\n",
      "   8.66173487e-03 -1.01017118e-01  1.37274384e-01  1.22867875e-01\n",
      "  -6.94448501e-02 -9.59142894e-02  7.19035137e-03  5.58931939e-02\n",
      "  -7.53519777e-03 -4.81152199e-02  6.52559176e-02 -1.30856842e-01\n",
      "  -3.31788585e-02  3.04119865e-04  2.09720936e-02 -8.69323313e-02\n",
      "   4.31096628e-02  2.70983540e-02 -4.93196696e-02 -4.17647809e-02\n",
      "  -7.12176934e-02  4.51637944e-03 -1.46362111e-02  1.57159939e-01\n",
      "  -1.17400773e-02  2.99708191e-02  3.57161611e-02  4.36475500e-02\n",
      "   2.39209346e-02 -1.27851248e-01 -4.72775437e-02 -6.62317360e-03\n",
      "   7.27517856e-03 -4.66801040e-02 -2.48455051e-02 -1.63577646e-02\n",
      "   4.89815325e-02  1.91886462e-02  2.08820887e-02 -1.45446602e-02\n",
      "  -5.21480516e-02  3.67902871e-03 -5.27637172e-03  1.26619032e-02\n",
      "   1.51406610e-02  7.48553351e-02 -3.23326699e-02  2.39526201e-02\n",
      "  -7.04500452e-02 -1.10204905e-01  5.68123348e-03 -5.73320774e-33\n",
      "   1.39311526e-03 -3.60029042e-02 -1.54672703e-02  2.19823178e-02\n",
      "  -1.61431376e-02  9.65735037e-03 -2.15976126e-02  1.24100344e-02\n",
      "  -5.25612421e-02 -6.88253567e-02 -8.88739601e-02 -5.17662317e-02\n",
      "   1.73262730e-02 -1.42023517e-02  1.42640501e-01  7.46337175e-02\n",
      "  -2.81961486e-02  1.03345126e-01 -9.97901987e-03  6.43509254e-02\n",
      "  -4.51490395e-02  2.36024540e-02 -4.21999767e-03 -4.66014743e-02\n",
      "  -2.94489413e-02 -1.03517108e-01 -2.13654409e-03  3.69467214e-02\n",
      "  -3.12234238e-02  4.23671752e-02  1.91748235e-02  7.43960217e-02\n",
      "   2.20400970e-02 -4.35132496e-02 -2.31324229e-03 -2.35759672e-02\n",
      "   3.52911316e-02 -5.39605469e-02  1.49501823e-02  3.00801769e-02\n",
      "  -5.94107844e-02 -2.71293856e-02 -2.58139297e-02 -4.51093689e-02\n",
      "   1.64606199e-02  9.20470953e-02  6.61716387e-02  9.30621522e-04\n",
      "  -1.05083045e-02 -2.73445668e-03 -1.29451882e-02 -1.50477595e-03\n",
      "   6.50182553e-03 -7.51944259e-03  5.88618517e-02  5.00669777e-02\n",
      "   7.39213824e-03  1.36685064e-02  4.55646813e-02  1.87852476e-02\n",
      "   3.87003720e-02  6.36330396e-02 -8.08619410e-02 -1.20391948e-02\n",
      "  -9.08588525e-03  3.52759892e-03  2.16394681e-02  2.85428832e-03\n",
      "   5.99418394e-02 -2.00693756e-02 -4.38488498e-02 -7.84095898e-02\n",
      "   1.27116367e-02  7.20900148e-02 -3.10916863e-02 -2.71461457e-02\n",
      "   7.83433542e-02  3.89254056e-02 -3.18102129e-02  7.95191973e-02\n",
      "  -1.98683720e-02 -1.24497846e-01  8.98395758e-03  2.45690830e-02\n",
      "  -3.71936224e-02 -2.81966925e-02 -3.30827571e-02 -6.80302233e-02\n",
      "  -2.85927951e-02  4.79169190e-02 -6.04338152e-03 -1.53860135e-03\n",
      "   6.45274371e-02 -1.63300410e-02  8.04326683e-03  2.14753212e-33\n",
      "  -5.92269637e-02  4.04993482e-02 -5.78154214e-02  3.38011459e-02\n",
      "   9.63150710e-02 -6.83977455e-02 -2.76839454e-03 -2.56037600e-02\n",
      "   2.18071118e-02  1.47108197e-01 -1.07954465e-01  3.84087972e-02\n",
      "   6.66677132e-02  1.25159994e-02  8.11289772e-02  3.44879366e-02\n",
      "   1.00534089e-01  2.46628243e-02 -1.00556342e-02  2.21705367e-03\n",
      "  -4.14824970e-02  9.00898352e-02  1.85215729e-03  9.31568295e-02\n",
      "  -2.13649292e-02  2.86610909e-02  2.71971226e-02 -6.77857324e-02\n",
      "  -1.06805183e-01  3.00117265e-02 -1.15065342e-02 -9.26792547e-02\n",
      "  -5.25678471e-02 -3.85038406e-02  1.46688391e-02  1.56115005e-02\n",
      "   2.78478563e-02  2.07789111e-04 -8.55325684e-02  7.17692003e-02\n",
      "   1.33464402e-02 -1.76618099e-02  8.61052610e-03  7.52131566e-02\n",
      "   3.39165032e-02 -5.20691201e-02 -5.56588694e-02 -6.36813119e-02\n",
      "   1.42084723e-02  7.00202212e-02 -4.22475822e-02  3.92932706e-02\n",
      "   1.49143199e-02  2.55064527e-03 -8.22809339e-02  4.89617214e-02\n",
      "  -6.54866593e-03 -7.71208927e-02 -5.69231948e-03 -1.85904764e-02\n",
      "  -6.95103928e-02  3.65388542e-02 -8.45980868e-02  4.30176668e-02\n",
      "   9.33022127e-02 -5.05992658e-02 -4.30710390e-02  6.53093606e-02\n",
      "   3.33406180e-02 -6.16929792e-02  8.86233449e-02  3.64648104e-02\n",
      "  -1.69119626e-01 -7.54082762e-03 -6.05422184e-02 -1.12739421e-01\n",
      "  -9.52498689e-02 -1.59995258e-02 -4.23233844e-02 -5.63425049e-02\n",
      "   6.31659403e-02 -3.79157364e-02  4.62836586e-02 -6.29651621e-02\n",
      "  -1.59172714e-02 -5.86448563e-03 -9.53779928e-03 -6.11202009e-02\n",
      "  -1.50041888e-02 -9.14272666e-03 -6.89627882e-03 -6.45994172e-02\n",
      "   7.64143765e-02 -1.78152579e-03  3.10687954e-03 -1.92766887e-08\n",
      "  -4.63187369e-03 -4.64684032e-02 -2.26609949e-02 -9.82618053e-03\n",
      "  -1.62666268e-03  9.87736061e-02  6.26984388e-02 -6.40737265e-03\n",
      "  -1.34245008e-02 -6.70606131e-03  9.84168202e-02  3.84999402e-02\n",
      "  -4.63836528e-02  2.55521499e-02  5.51126935e-02  5.25264814e-03\n",
      "   3.22489217e-02 -2.41959151e-02 -1.80134196e-02  3.52098905e-02\n",
      "  -1.41049447e-02  1.49304848e-02  2.72567365e-02  4.30009626e-02\n",
      "   2.54380684e-02 -8.76443833e-03  5.85092045e-02  1.33166707e-03\n",
      "  -2.07240460e-03  6.76801428e-02  3.66928391e-02  9.54307541e-02\n",
      "   6.60705939e-03  3.82937826e-02  1.05968574e-02 -1.35623394e-02\n",
      "   4.38291989e-02 -8.64702389e-02  7.34615475e-02 -8.47234875e-02\n",
      "   6.88451109e-03  4.36817668e-02 -4.74911034e-02  1.22206897e-01\n",
      "  -3.91493812e-02 -2.97042616e-02  1.50088146e-02 -1.87455844e-02\n",
      "  -3.48825976e-02  2.22376059e-03  9.76779684e-03  1.01477616e-02\n",
      "   6.32847920e-02  1.69122554e-02  3.17677110e-02 -2.92120539e-02\n",
      "  -2.70066131e-02 -2.90826876e-02 -4.84699123e-02 -4.63794693e-02\n",
      "   1.53714661e-02 -2.86259279e-02  4.39718552e-02 -1.05010256e-01]\n",
      " [ 4.36174609e-02  7.53714740e-02  1.20758740e-02  8.88254046e-02\n",
      "   1.89570040e-02  2.21711118e-02  9.58723724e-02 -3.99354510e-02\n",
      "   1.04871869e-01 -4.32910100e-02  9.78642553e-02 -7.88708851e-02\n",
      "  -2.52407938e-02 -3.33687998e-02 -1.32114990e-02  4.26494740e-02\n",
      "  -1.94738081e-04 -2.90241446e-02 -1.04302526e-01 -2.34544352e-02\n",
      "  -3.86784673e-02  3.16662379e-02  1.82509739e-02  4.09264341e-02\n",
      "  -4.83155698e-02  7.87983090e-02 -4.47402261e-02  8.17462653e-02\n",
      "   5.52600548e-02 -1.74354408e-02 -2.81685721e-02  3.01865581e-02\n",
      "  -3.79445553e-02  4.67388779e-02  3.21298279e-02 -5.24412207e-02\n",
      "  -2.32234560e-02  7.70227835e-02 -3.86923254e-02 -5.29086627e-02\n",
      "   3.87191400e-02 -8.14643428e-02 -3.20160054e-02  3.66129503e-02\n",
      "  -2.44822260e-02 -4.96299341e-02 -1.37758888e-02 -3.07931490e-02\n",
      "   1.25321420e-02  6.80172071e-03 -9.86977667e-02 -5.46830632e-02\n",
      "  -1.35207579e-01 -7.58232251e-02  3.07151694e-02  8.55273977e-02\n",
      "   4.82586259e-03  8.77557788e-03  4.61057499e-02 -2.98282802e-02\n",
      "   1.27999224e-02  1.54411998e-02 -2.23538466e-02  3.06374170e-02\n",
      "   1.24754697e-01 -3.28846388e-02  2.23386399e-02 -6.22519515e-02\n",
      "  -8.29957053e-02  6.78866804e-02  2.00908352e-02  1.80786196e-02\n",
      "  -7.53225759e-02 -1.64532885e-02 -5.82634099e-02 -7.33120814e-02\n",
      "   1.32553475e-02 -9.02368203e-02  9.72834527e-02 -9.30598937e-03\n",
      "  -2.33923774e-02 -9.54246521e-02 -3.07646971e-02  2.67589893e-02\n",
      "  -2.51467191e-02 -2.60585342e-02  1.81367807e-02 -1.41018480e-01\n",
      "  -3.05181574e-02 -1.65776033e-02 -2.17250995e-02 -6.54157102e-02\n",
      "   7.52437562e-02  7.00932369e-02 -8.83318111e-02 -2.29218043e-02\n",
      "  -7.52125680e-02  7.95116276e-02 -3.15738805e-02  1.33972138e-01\n",
      "  -1.99944656e-02  3.31452526e-02  4.77837361e-02  6.82019442e-03\n",
      "  -4.58768941e-02 -8.52811038e-02 -2.10742578e-02 -1.21435029e-02\n",
      "   8.01418722e-03 -1.38887363e-02 -5.44078238e-02  6.42951624e-03\n",
      "  -3.41904908e-02  6.34731650e-02  8.48714821e-03  5.37473001e-02\n",
      "   3.62747721e-02  3.95230278e-02 -4.19034995e-02  2.16783825e-02\n",
      "   1.19662657e-02  5.04931100e-02 -4.73302975e-02  6.96013346e-02\n",
      "  -1.11453738e-02 -1.01806380e-01  1.59816106e-03 -5.63868257e-33\n",
      "   1.32996179e-02 -5.98056242e-02  1.73772257e-02 -6.73575699e-02\n",
      "   5.09412363e-02 -3.51043534e-03 -6.39840914e-03 -1.68650523e-02\n",
      "  -6.82789907e-02 -3.62818092e-02 -6.01394959e-02 -3.44532244e-02\n",
      "  -2.55175345e-02 -1.29893851e-02  4.23769653e-02  2.59067304e-02\n",
      "   5.03670308e-04  2.83759348e-02  4.92231548e-03  7.68612027e-02\n",
      "   1.12033784e-02  4.56306711e-03 -1.36105958e-02 -3.60558890e-02\n",
      "  -3.10518034e-03 -5.49546517e-02  6.58505931e-02  1.04316836e-03\n",
      "  -4.23918925e-02  4.08584662e-02  4.16927226e-02  7.14238808e-02\n",
      "   1.49017498e-02  2.89383670e-03  4.50378545e-02  4.41971608e-02\n",
      "   1.48076368e-02 -4.83230874e-02  8.76569469e-03 -8.97615962e-03\n",
      "  -4.85359579e-02  9.00753832e-04 -4.14859466e-02 -3.87411527e-02\n",
      "   4.59534451e-02  7.08667338e-02  8.05470869e-02  2.54355222e-02\n",
      "  -3.20690013e-02  2.98650842e-02 -3.04747410e-02  6.95315525e-02\n",
      "   4.07854766e-02  4.45072204e-02  3.41674536e-02  2.50363611e-02\n",
      "  -2.50878464e-02  5.99717349e-02  7.27349520e-03 -5.09868003e-02\n",
      "   1.36272199e-02  2.18379940e-03 -8.38791952e-02  1.08399671e-02\n",
      "  -6.14186004e-03 -1.87583435e-02  9.30830662e-04 -3.76995355e-02\n",
      "   4.15237248e-02  2.15753820e-03 -6.36635050e-02 -2.38776822e-02\n",
      "  -5.67555092e-02  7.13741556e-02 -1.37028387e-02 -2.60697510e-02\n",
      "   5.34626134e-02  1.92543920e-02  3.98507621e-03  2.44334452e-02\n",
      "  -1.78277176e-02 -1.45840079e-01 -5.68423001e-03  3.75054479e-02\n",
      "  -1.05634434e-02  3.38740125e-02  2.55177505e-02 -7.49248117e-02\n",
      "  -6.95907921e-02  1.27441511e-01 -6.59129098e-02  3.36981524e-04\n",
      "   2.94517297e-02 -1.37247331e-02  1.47456513e-03  5.63611659e-34\n",
      "  -4.98266183e-02 -8.34312569e-03 -1.74698997e-02  2.92145573e-02\n",
      "   8.21396559e-02 -3.48164551e-02 -2.88919918e-02 -9.08005387e-02\n",
      "  -2.15126202e-02  5.24830706e-02 -9.58255231e-02  2.92328708e-02\n",
      "   3.79733071e-02 -3.61749828e-02  4.20010947e-02  4.84026298e-02\n",
      "   1.14100307e-01  4.47023958e-02 -8.97299871e-03  5.17524667e-02\n",
      "  -1.56432800e-02  5.13083562e-02  5.80706038e-02  1.15430340e-01\n",
      "  -6.97410777e-02  2.10165363e-02 -1.91359669e-02 -2.71657687e-02\n",
      "  -1.60474107e-01  2.24708505e-02  9.78863891e-03 -9.22299549e-02\n",
      "  -5.19583859e-02 -5.04401699e-02  1.43584665e-02  3.68417241e-02\n",
      "   1.30449295e-01 -1.56722479e-02 -8.85377228e-02  6.40042871e-02\n",
      "   1.37816146e-02 -4.01899256e-02  2.41822973e-02  3.48642059e-02\n",
      "   5.37305214e-02 -4.34996113e-02 -6.49653673e-02 -3.99975069e-02\n",
      "  -2.77082101e-02  5.64404279e-02 -6.39980882e-02  1.88796949e-02\n",
      "  -2.57158242e-02  5.29661123e-03 -5.95256835e-02 -6.44898741e-04\n",
      "  -2.47748792e-02 -6.43199086e-02  4.85689789e-02 -2.54455842e-02\n",
      "  -5.41071370e-02  4.84025031e-02 -9.63670760e-02  6.17915876e-02\n",
      "   9.09810960e-02 -6.81529343e-02 -2.64706872e-02  2.93388367e-02\n",
      "  -9.31984105e-04  2.69676093e-02  2.96194255e-02 -4.36035246e-02\n",
      "  -1.04496509e-01 -5.95974661e-02 -4.18999456e-02 -3.11292266e-03\n",
      "  -8.34538043e-02 -4.84044962e-02 -6.76846430e-02 -4.05333526e-02\n",
      "   1.93052553e-02 -5.78314066e-02  6.26797751e-02 -1.29151028e-02\n",
      "  -1.17079460e-03 -1.11618405e-02  6.86307102e-02 -5.54033779e-02\n",
      "  -3.02741136e-02  2.60024657e-03 -3.24471854e-02 -1.82649773e-02\n",
      "   5.04497103e-02 -5.91952866e-03 -1.18956389e-02 -2.08959854e-08\n",
      "   1.87732354e-02 -9.14398804e-02 -5.00034168e-02 -2.74419300e-02\n",
      "   6.98458776e-02  3.91609855e-02  5.16059808e-03 -6.36048689e-02\n",
      "  -8.58262181e-03 -2.36116908e-02  9.28483158e-02  3.18897218e-02\n",
      "   1.66519952e-03  9.57416520e-02  6.38273731e-02  4.71228585e-02\n",
      "  -7.44946897e-02  7.24965939e-03  4.96928231e-04  1.63815878e-02\n",
      "  -1.63476337e-02  7.50075269e-05  3.45351286e-02  2.63612848e-02\n",
      "   3.57208145e-03 -1.04993880e-02  2.66373120e-02  2.97750384e-02\n",
      "  -1.03964964e-02  6.08310848e-02  5.27966954e-02  7.90925696e-02\n",
      "  -5.49635179e-02  2.05741799e-03  9.31616931e-04 -4.91482913e-02\n",
      "   5.86919598e-02 -3.83687243e-02  5.75858727e-02 -8.83382708e-02\n",
      "  -9.32395086e-03 -2.43240912e-02  2.18507048e-04  1.10010885e-01\n",
      "   6.27630651e-02 -3.34685035e-02  3.31815965e-02  1.88964270e-02\n",
      "  -2.52085384e-02  2.62796953e-02  1.01736886e-02  3.56155611e-03\n",
      "   7.71199167e-02  6.34218529e-02  8.09803829e-02  2.33428385e-02\n",
      "   3.14275101e-02 -2.12494121e-03 -7.99784511e-02  1.83265805e-02\n",
      "   4.05927142e-03 -5.21240495e-02  8.77962112e-02 -4.44511063e-02]]\n"
     ]
    }
   ],
   "source": [
    "from sentence_transformers import SentenceTransformer\n",
    "model = SentenceTransformer('all-MiniLM-L6-v2')\n",
    "\n",
    "strings = [\"This is a sentence\", \"Here is another sentence\"]\n",
    "\n",
    "embeddings = model.encode(strings)\n",
    "\n",
    "print(embeddings)"
   ]
  },
  {
   "cell_type": "code",
   "execution_count": 9,
   "id": "02ffc216",
   "metadata": {},
   "outputs": [
    {
     "data": {
      "text/plain": [
       "(2, 384)"
      ]
     },
     "execution_count": 9,
     "metadata": {},
     "output_type": "execute_result"
    }
   ],
   "source": [
    "embeddings.shape"
   ]
  },
  {
   "cell_type": "code",
   "execution_count": null,
   "id": "929b3427",
   "metadata": {
    "scrolled": false
   },
   "outputs": [
    {
     "ename": "AttributeError",
     "evalue": "'list' object has no attribute 'pick_types'",
     "output_type": "error",
     "traceback": [
      "\u001b[0;31m---------------------------------------------------------------------------\u001b[0m",
      "\u001b[0;31mAttributeError\u001b[0m                            Traceback (most recent call last)",
      "Cell \u001b[0;32mIn [8], line 1\u001b[0m\n\u001b[0;32m----> 1\u001b[0m decoding_from_criterion(\u001b[38;5;124m'\u001b[39m\u001b[38;5;124membeddings\u001b[39m\u001b[38;5;124m'\u001b[39m, epoch_add_metadata, starts, levels, subjects[\u001b[38;5;241m0\u001b[39m])\n",
      "File \u001b[0;32m/mnt/localdrive/workspace-LPP/code/neurospin-petit-prince/decoding/local_testing/utils.py:362\u001b[0m, in \u001b[0;36mdecoding_from_criterion\u001b[0;34m(criterion, dict_epochs, starts, levels, subject)\u001b[0m\n\u001b[1;32m    360\u001b[0m epochs \u001b[38;5;241m=\u001b[39m dict_epochs[epoch_key]\n\u001b[1;32m    361\u001b[0m \u001b[38;5;66;03m# mean\u001b[39;00m\n\u001b[0;32m--> 362\u001b[0m evo \u001b[38;5;241m=\u001b[39m \u001b[43mepochs\u001b[49m\u001b[38;5;241;43m.\u001b[39;49m\u001b[43mcopy\u001b[49m\u001b[43m(\u001b[49m\u001b[43m)\u001b[49m\u001b[38;5;241;43m.\u001b[39;49m\u001b[43mpick_types\u001b[49m(meg\u001b[38;5;241m=\u001b[39m\u001b[38;5;28;01mTrue\u001b[39;00m)\u001b[38;5;241m.\u001b[39maverage(method\u001b[38;5;241m=\u001b[39m\u001b[38;5;124m'\u001b[39m\u001b[38;5;124mmedian\u001b[39m\u001b[38;5;124m'\u001b[39m)\n\u001b[1;32m    363\u001b[0m all_evos\u001b[38;5;241m.\u001b[39mappend(\u001b[38;5;28mdict\u001b[39m(subject\u001b[38;5;241m=\u001b[39msubject, evo\u001b[38;5;241m=\u001b[39mevo, start\u001b[38;5;241m=\u001b[39mstart, level\u001b[38;5;241m=\u001b[39mlevel))\n\u001b[1;32m    366\u001b[0m \u001b[38;5;66;03m# decoding word emb\u001b[39;00m\n",
      "\u001b[0;31mAttributeError\u001b[0m: 'list' object has no attribute 'pick_types'"
     ]
    }
   ],
   "source": [
    "decoding_from_criterion('embeddings', epoch_add_metadata, starts, levels, subjects[0])"
   ]
  },
  {
   "cell_type": "code",
   "execution_count": 1,
   "id": "d6f5dfab",
   "metadata": {},
   "outputs": [
    {
     "data": {
      "text/plain": [
       "['auditory', 'visual']"
      ]
     },
     "execution_count": 1,
     "metadata": {},
     "output_type": "execute_result"
    }
   ],
   "source": [
    "from dataset import check_plotting_possible\n",
    "check_plotting_possible()"
   ]
  },
  {
   "cell_type": "code",
   "execution_count": null,
   "id": "438b4dbd",
   "metadata": {},
   "outputs": [],
   "source": [
    "a = range"
   ]
  },
  {
   "cell_type": "code",
   "execution_count": null,
   "id": "501a3ae5",
   "metadata": {},
   "outputs": [],
   "source": []
  },
  {
   "cell_type": "code",
   "execution_count": 1,
   "id": "2051c767",
   "metadata": {},
   "outputs": [
    {
     "data": {
      "text/plain": [
       "<Figure size 1280x800 with 0 Axes>"
      ]
     },
     "metadata": {},
     "output_type": "display_data"
    },
    {
     "data": {
      "image/png": "[encoded data removed]",
      "text/plain": [
       "<Figure size 640x480 with 6 Axes>"
      ]
     },
     "metadata": {},
     "output_type": "display_data"
    }
   ],
   "source": [
    "from dataset import plot_scores_debug\n",
    "plot_scores_debug('auditory', 'embeddings')"
   ]
  },
  {
   "cell_type": "code",
   "execution_count": 3,
   "id": "51ff0479",
   "metadata": {
    "scrolled": false
   },
   "outputs": [
    {
     "data": {
      "text/plain": [
       "<Figure size 1280x800 with 0 Axes>"
      ]
     },
     "metadata": {},
     "output_type": "display_data"
    },
    {
     "data": {
      "image/png": "[encoded data removed]",
      "text/plain": [
       "<Figure size 640x480 with 6 Axes>"
      ]
     },
     "metadata": {},
     "output_type": "display_data"
    }
   ],
   "source": [
    "from dataset import plot_scores\n",
    "modality = 'visual'; decoding = 'embeddings'\n",
    "# load_scores('visual','embeddings')\n",
    "plot_scores(modality, decoding)"
   ]
  },
  {
   "cell_type": "code",
   "execution_count": null,
   "id": "147398ae",
   "metadata": {},
   "outputs": [],
   "source": []
  },
  {
   "cell_type": "code",
   "execution_count": null,
   "id": "e0a3a576",
   "metadata": {},
   "outputs": [],
   "source": []
  }
 ],
 "metadata": {
  "kernelspec": {
   "display_name": "Python 3 (ipykernel)",
   "language": "python",
   "name": "python3"
  },
  "language_info": {
   "codemirror_mode": {
    "name": "ipython",
    "version": 3
   },
   "file_extension": ".py",
   "mimetype": "text/x-python",
   "name": "python",
   "nbconvert_exporter": "python",
   "pygments_lexer": "ipython3",
   "version": "3.10.6"
  }
 },
 "nbformat": 4,
 "nbformat_minor": 5
}
