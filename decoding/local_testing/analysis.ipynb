{
 "cells": [
  {
   "cell_type": "markdown",
   "id": "7274bc36",
   "metadata": {},
   "source": [
    "# Analysis and plotting Notebook"
   ]
  },
  {
   "cell_type": "markdown",
   "id": "1c3bc4b3",
   "metadata": {},
   "source": []
  },
  {
   "cell_type": "markdown",
   "id": "84fb0e8d",
   "metadata": {},
   "source": [
    "### TODO\n",
    "\n",
    "Investigate why the auditory analysis crashes\n",
    "\n",
    "Do a second decoding job for the word only, depending on whether the word is the last word of a constituent or not \n"
   ]
  },
  {
   "cell_type": "markdown",
   "id": "4831351b",
   "metadata": {},
   "source": [
    "### Debug\n",
    "\n",
    "Try to create new analyses:\n",
    "\n",
    "- Word embedding decoding based on constituent position"
   ]
  },
  {
   "cell_type": "code",
   "execution_count": null,
   "id": "1b2c75a9",
   "metadata": {
    "scrolled": true
   },
   "outputs": [],
   "source": [
    "from dataset import analysis\n",
    "analysis(modality = \"visual\", decoding_criterion = \"embeddings_word_non_const_end\")\n",
    "analysis(modality = \"visual\", decoding_criterion = \"embeddings_word_const_end\")\n"
   ]
  },
  {
   "cell_type": "code",
   "execution_count": null,
   "id": "b66c817d",
   "metadata": {},
   "outputs": [
    {
     "name": "stdout",
     "output_type": "stream",
     "text": [
      "> \u001b[0;32m/tmp/ipykernel_777343/2958595035.py\u001b[0m(1)\u001b[0;36m<module>\u001b[0;34m()\u001b[0m\n",
      "\u001b[0;32m----> 1 \u001b[0;31m\u001b[0;32mfrom\u001b[0m \u001b[0mdataset\u001b[0m \u001b[0;32mimport\u001b[0m \u001b[0mplot_scores_debug\u001b[0m\u001b[0;34m\u001b[0m\u001b[0;34m\u001b[0m\u001b[0m\n",
      "\u001b[0m\u001b[0;32m      2 \u001b[0;31m\u001b[0mplot_scores\u001b[0m\u001b[0;34m(\u001b[0m\u001b[0;34m'auditory'\u001b[0m\u001b[0;34m,\u001b[0m \u001b[0;34m'embeddings'\u001b[0m\u001b[0;34m)\u001b[0m\u001b[0;34m\u001b[0m\u001b[0;34m\u001b[0m\u001b[0m\n",
      "\u001b[0m\n",
      "ipdb> u\n",
      "*** Oldest frame\n",
      "ipdb> d\n",
      "*** Newest frame\n",
      "ipdb> d\n",
      "*** Newest frame\n"
     ]
    }
   ],
   "source": [
    "%debug"
   ]
  },
  {
   "cell_type": "code",
   "execution_count": null,
   "id": "caadeaf7",
   "metadata": {},
   "outputs": [],
   "source": [
    "from dataset import analysis\n",
    "\n",
    "analysis(modality = \"auditory\", decoding_criterion = \"embeddings\")"
   ]
  },
  {
   "cell_type": "code",
   "execution_count": null,
   "id": "b0f4fd06",
   "metadata": {},
   "outputs": [],
   "source": [
    "modality = 'visual'; decoding = 'embeddings'\n",
    "# load_scores('visual','embeddings')\n",
    "plot_scores(modality, decoding)"
   ]
  },
  {
   "cell_type": "code",
   "execution_count": 2,
   "id": "f34193c5",
   "metadata": {},
   "outputs": [
    {
     "ename": "ImportError",
     "evalue": "cannot import name 'plot_scores_debug' from 'dataset' (/mnt/localdrive/workspace-LPP/code/neurospin-petit-prince/decoding/local_testing/dataset.py)",
     "output_type": "error",
     "traceback": [
      "\u001b[0;31m---------------------------------------------------------------------------\u001b[0m",
      "\u001b[0;31mImportError\u001b[0m                               Traceback (most recent call last)",
      "Cell \u001b[0;32mIn [2], line 1\u001b[0m\n\u001b[0;32m----> 1\u001b[0m \u001b[38;5;28;01mfrom\u001b[39;00m \u001b[38;5;21;01mdataset\u001b[39;00m \u001b[38;5;28;01mimport\u001b[39;00m plot_scores_debug\n\u001b[1;32m      2\u001b[0m plot_scores(\u001b[38;5;124m'\u001b[39m\u001b[38;5;124mauditory\u001b[39m\u001b[38;5;124m'\u001b[39m, \u001b[38;5;124m'\u001b[39m\u001b[38;5;124membeddings\u001b[39m\u001b[38;5;124m'\u001b[39m)\n",
      "\u001b[0;31mImportError\u001b[0m: cannot import name 'plot_scores_debug' from 'dataset' (/mnt/localdrive/workspace-LPP/code/neurospin-petit-prince/decoding/local_testing/dataset.py)"
     ]
    }
   ],
   "source": [
    "from dataset import plot_scores_debug\n",
    "plot_scores('auditory', 'embeddings')"
   ]
  },
  {
   "cell_type": "code",
   "execution_count": null,
   "id": "f2e3a08d",
   "metadata": {},
   "outputs": [],
   "source": []
  }
 ],
 "metadata": {
  "kernelspec": {
   "display_name": "Python 3 (ipykernel)",
   "language": "python",
   "name": "python3"
  },
  "language_info": {
   "codemirror_mode": {
    "name": "ipython",
    "version": 3
   },
   "file_extension": ".py",
   "mimetype": "text/x-python",
   "name": "python",
   "nbconvert_exporter": "python",
   "pygments_lexer": "ipython3",
   "version": "3.10.6"
  }
 },
 "nbformat": 4,
 "nbformat_minor": 5
}
