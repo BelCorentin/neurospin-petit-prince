{
 "cells": [
  {
   "cell_type": "markdown",
   "id": "2a67a6a0",
   "metadata": {},
   "source": [
    "# GFP for sentence - epoching on sentence end and go from there"
   ]
  },
  {
   "cell_type": "code",
   "execution_count": 1,
   "id": "7a9c5cce",
   "metadata": {},
   "outputs": [],
   "source": [
    "# Homemade imports\n",
    "from dataset import get_path, get_subjects, epoch_runs\n",
    "from plot import plot_subject\n",
    "\n",
    "# General imports\n",
    "import numpy as np\n",
    "import mne\n",
    "import hydra\n",
    "from omegaconf import DictConfig\n"
   ]
  },
  {
   "cell_type": "code",
   "execution_count": 2,
   "id": "ffa49be8",
   "metadata": {},
   "outputs": [],
   "source": [
    "path = get_path(\"LPP_read\")\n",
    "subjects = get_subjects(path)\n",
    "RUN = 1\n",
    "task = \"read\"\n",
    "subject = subjects[4]\n",
    "baseline_min = -4.0\n",
    "baseline_max = 0.5\n",
    "epoch_on = 'sentence'\n",
    "reference = \"end\""
   ]
  },
  {
   "cell_type": "code",
   "execution_count": 3,
   "id": "327068d4",
   "metadata": {},
   "outputs": [
    {
     "name": "stdout",
     "output_type": "stream",
     "text": [
      ".\n",
      " Epoching for run 01, subject: 5\n",
      "\n",
      "Opening raw data file /home/co/data/BIDS_lecture/sub-5/ses-01/meg/sub-5_ses-01_task-read_run-01_meg.fif...\n",
      "    Read a total of 13 projection items:\n",
      "        grad_ssp_upright.fif : PCA-v1 (1 x 306)  idle\n",
      "        grad_ssp_upright.fif : PCA-v2 (1 x 306)  idle\n",
      "        grad_ssp_upright.fif : PCA-v3 (1 x 306)  idle\n",
      "        grad_ssp_upright.fif : PCA-v4 (1 x 306)  idle\n",
      "        grad_ssp_upright.fif : PCA-v5 (1 x 306)  idle\n",
      "        mag_ssp_upright.fif : PCA-v1 (1 x 306)  idle\n",
      "        mag_ssp_upright.fif : PCA-v2 (1 x 306)  idle\n",
      "        mag_ssp_upright.fif : PCA-v3 (1 x 306)  idle\n",
      "        mag_ssp_upright.fif : PCA-v4 (1 x 306)  idle\n",
      "        mag_ssp_upright.fif : PCA-v5 (1 x 306)  idle\n",
      "        mag_ssp_upright.fif : PCA-v6 (1 x 306)  idle\n",
      "        mag_ssp_upright.fif : PCA-v7 (1 x 306)  idle\n",
      "        mag_ssp_upright.fif : PCA-v8 (1 x 306)  idle\n",
      "    Range : 89000 ... 554999 =     89.000 ...   554.999 secs\n",
      "Ready.\n",
      "Reading events from /home/co/data/BIDS_lecture/sub-5/ses-01/meg/sub-5_ses-01_task-read_run-01_events.tsv.\n",
      "Reading channel info from /home/co/data/BIDS_lecture/sub-5/ses-01/meg/sub-5_ses-01_task-read_run-01_channels.tsv.\n",
      "Using 4 HPI coils: 293 307 314 321 Hz\n",
      "Not fully anonymizing info - keeping his_id, sex, and hand info\n",
      "Reading 0 ... 465999  =      0.000 ...   465.999 secs...\n"
     ]
    },
    {
     "name": "stderr",
     "output_type": "stream",
     "text": [
      "/home/co/workspace_LPP/code/neurospin-petit-prince/decoding/reading/dataset.py:99: RuntimeWarning: This file contains raw Internal Active Shielding data. It may be distorted. Elekta recommends it be run through MaxFilter to produce reliable results. Consider closing the file and running MaxFilter on the data.\n",
      "  raw = mne_bids.read_raw_bids(bids_path)\n",
      "/home/co/workspace_LPP/code/neurospin-petit-prince/decoding/reading/dataset.py:99: RuntimeWarning: Omitted 128 annotation(s) that were outside data range.\n",
      "  raw = mne_bids.read_raw_bids(bids_path)\n",
      "/home/co/workspace_LPP/code/neurospin-petit-prince/decoding/reading/dataset.py:99: RuntimeWarning: Limited 1 annotation(s) that were expanding outside the data range.\n",
      "  raw = mne_bids.read_raw_bids(bids_path)\n",
      "/home/co/workspace_LPP/code/neurospin-petit-prince/decoding/reading/dataset.py:99: RuntimeWarning: The unit for channel(s) STI001, STI002, STI003, STI004, STI005, STI006, STI007, STI008, STI009, STI010, STI011, STI012, STI013, STI014, STI015, STI016, STI101, STI201, STI301 has changed from V to NA.\n",
      "  raw = mne_bids.read_raw_bids(bids_path)\n"
     ]
    },
    {
     "name": "stdout",
     "output_type": "stream",
     "text": [
      "Filtering raw data in 1 contiguous segment\n",
      "Setting up band-pass filter from 0.5 - 20 Hz\n",
      "\n",
      "FIR filter parameters\n",
      "---------------------\n",
      "Designing a one-pass, zero-phase, non-causal bandpass filter:\n",
      "- Windowed time-domain design (firwin) method\n",
      "- Hamming window with 0.0194 passband ripple and 53 dB stopband attenuation\n",
      "- Lower passband edge: 0.50\n",
      "- Lower transition bandwidth: 0.50 Hz (-6 dB cutoff frequency: 0.25 Hz)\n",
      "- Upper passband edge: 20.00 Hz\n",
      "- Upper transition bandwidth: 5.00 Hz (-6 dB cutoff frequency: 22.50 Hz)\n",
      "- Filter length: 6601 samples (6.601 sec)\n",
      "\n"
     ]
    },
    {
     "name": "stderr",
     "output_type": "stream",
     "text": [
      "[Parallel(n_jobs=1)]: Using backend SequentialBackend with 1 concurrent workers.\n",
      "[Parallel(n_jobs=1)]: Done   1 out of   1 | elapsed:    0.0s remaining:    0.0s\n",
      "[Parallel(n_jobs=1)]: Done   2 out of   2 | elapsed:    0.0s remaining:    0.0s\n",
      "[Parallel(n_jobs=1)]: Done   3 out of   3 | elapsed:    0.1s remaining:    0.0s\n",
      "[Parallel(n_jobs=1)]: Done   4 out of   4 | elapsed:    0.1s remaining:    0.0s\n",
      "[Parallel(n_jobs=1)]: Done 306 out of 306 | elapsed:    5.6s finished\n"
     ]
    },
    {
     "name": "stdout",
     "output_type": "stream",
     "text": [
      "1468 events found\n",
      "Event IDs: [ 1  2  3  4  5  6  7  8  9 10 11 12 13 14 15]\n",
      "Adding metadata with 14 columns\n",
      "18 matching events found\n",
      "Setting baseline interval to [-4.0, 0.0] sec\n",
      "Applying baseline correction (mode: mean)\n",
      "0 projection items activated\n",
      "Using data from preloaded Raw for 18 events and 4501 original time points (prior to decimation) ...\n",
      "0 bad epochs dropped\n"
     ]
    },
    {
     "name": "stderr",
     "output_type": "stream",
     "text": [
      "/home/co/workspace_LPP/code/neurospin-petit-prince/decoding/reading/dataset.py:213: RuntimeWarning: The measurement information indicates a low-pass frequency of 20.0 Hz. The decim=20 parameter will result in a sampling frequency of 50.0 Hz, which can cause aliasing artifacts.\n",
      "  epochs = mne.Epochs(\n"
     ]
    },
    {
     "name": "stdout",
     "output_type": "stream",
     "text": [
      "Adding metadata with 15 columns\n",
      "18 matching events found\n",
      "Applying baseline correction (mode: mean)\n"
     ]
    },
    {
     "name": "stderr",
     "output_type": "stream",
     "text": [
      "/home/co/workspace_LPP/code/neurospin-petit-prince/decoding/reading/dataset.py:300: RuntimeWarning: Concatenation of Annotations within Epochs is not supported yet. All annotations will be dropped.\n",
      "  epochs = mne.concatenate_epochs(epochs)\n"
     ]
    }
   ],
   "source": [
    "epochs = epoch_runs(subject, RUN, task, path, baseline_min,baseline_max, epoch_on=epoch_on ,reference=reference)"
   ]
  },
  {
   "cell_type": "code",
   "execution_count": 14,
   "id": "d50b813f",
   "metadata": {},
   "outputs": [
    {
     "data": {
      "text/html": [
       "<div>\n",
       "<style scoped>\n",
       "    .dataframe tbody tr th:only-of-type {\n",
       "        vertical-align: middle;\n",
       "    }\n",
       "\n",
       "    .dataframe tbody tr th {\n",
       "        vertical-align: top;\n",
       "    }\n",
       "\n",
       "    .dataframe thead th {\n",
       "        text-align: right;\n",
       "    }\n",
       "</style>\n",
       "<table border=\"1\" class=\"dataframe\">\n",
       "  <thead>\n",
       "    <tr style=\"text-align: right;\">\n",
       "      <th></th>\n",
       "      <th>level_0</th>\n",
       "      <th>index</th>\n",
       "      <th>Unnamed: 0</th>\n",
       "      <th>word</th>\n",
       "      <th>onset</th>\n",
       "      <th>duration</th>\n",
       "      <th>trial_type</th>\n",
       "      <th>start</th>\n",
       "      <th>condition</th>\n",
       "      <th>n_closing</th>\n",
       "      <th>is_last_word</th>\n",
       "      <th>pos</th>\n",
       "      <th>content_word</th>\n",
       "      <th>sentence_start</th>\n",
       "      <th>label</th>\n",
       "      <th>kind</th>\n",
       "    </tr>\n",
       "  </thead>\n",
       "  <tbody>\n",
       "    <tr>\n",
       "      <th>0</th>\n",
       "      <td>34</td>\n",
       "      <td>34</td>\n",
       "      <td>34</td>\n",
       "      <td>du</td>\n",
       "      <td>11.9</td>\n",
       "      <td>0.25</td>\n",
       "      <td>{'kind': 'word', 'word': 'du'}</td>\n",
       "      <td>101.536</td>\n",
       "      <td>sentence</td>\n",
       "      <td>1</td>\n",
       "      <td>False</td>\n",
       "      <td>P+D</td>\n",
       "      <td>False</td>\n",
       "      <td>True</td>\n",
       "      <td>run_1</td>\n",
       "      <td>word</td>\n",
       "    </tr>\n",
       "    <tr>\n",
       "      <th>1</th>\n",
       "      <td>250</td>\n",
       "      <td>254</td>\n",
       "      <td>254</td>\n",
       "      <td>des</td>\n",
       "      <td>84.9</td>\n",
       "      <td>0.25</td>\n",
       "      <td>{'kind': 'word', 'word': 'des'}</td>\n",
       "      <td>167.235</td>\n",
       "      <td>sentence</td>\n",
       "      <td>1</td>\n",
       "      <td>False</td>\n",
       "      <td>DET</td>\n",
       "      <td>False</td>\n",
       "      <td>True</td>\n",
       "      <td>run_1</td>\n",
       "      <td>word</td>\n",
       "    </tr>\n",
       "    <tr>\n",
       "      <th>2</th>\n",
       "      <td>301</td>\n",
       "      <td>305</td>\n",
       "      <td>305</td>\n",
       "      <td>la</td>\n",
       "      <td>102.7</td>\n",
       "      <td>0.25</td>\n",
       "      <td>{'kind': 'word', 'word': 'la'}</td>\n",
       "      <td>183.251</td>\n",
       "      <td>sentence</td>\n",
       "      <td>1</td>\n",
       "      <td>False</td>\n",
       "      <td>DET</td>\n",
       "      <td>False</td>\n",
       "      <td>True</td>\n",
       "      <td>run_1</td>\n",
       "      <td>word</td>\n",
       "    </tr>\n",
       "    <tr>\n",
       "      <th>3</th>\n",
       "      <td>340</td>\n",
       "      <td>344</td>\n",
       "      <td>344</td>\n",
       "      <td>mon</td>\n",
       "      <td>116.4</td>\n",
       "      <td>0.25</td>\n",
       "      <td>{'kind': 'word', 'word': 'mon'}</td>\n",
       "      <td>195.601</td>\n",
       "      <td>sentence</td>\n",
       "      <td>1</td>\n",
       "      <td>False</td>\n",
       "      <td>DET</td>\n",
       "      <td>False</td>\n",
       "      <td>True</td>\n",
       "      <td>run_1</td>\n",
       "      <td>word</td>\n",
       "    </tr>\n",
       "    <tr>\n",
       "      <th>4</th>\n",
       "      <td>424</td>\n",
       "      <td>430</td>\n",
       "      <td>430</td>\n",
       "      <td>aussi</td>\n",
       "      <td>145.2</td>\n",
       "      <td>0.25</td>\n",
       "      <td>{'kind': 'word', 'word': 'aussi'}</td>\n",
       "      <td>221.517</td>\n",
       "      <td>sentence</td>\n",
       "      <td>1</td>\n",
       "      <td>False</td>\n",
       "      <td>ADV</td>\n",
       "      <td>True</td>\n",
       "      <td>True</td>\n",
       "      <td>run_1</td>\n",
       "      <td>word</td>\n",
       "    </tr>\n",
       "    <tr>\n",
       "      <th>5</th>\n",
       "      <td>496</td>\n",
       "      <td>502</td>\n",
       "      <td>502</td>\n",
       "      <td>huit</td>\n",
       "      <td>171.3</td>\n",
       "      <td>0.25</td>\n",
       "      <td>{'kind': 'word', 'word': 'huit'}</td>\n",
       "      <td>245.000</td>\n",
       "      <td>sentence</td>\n",
       "      <td>1</td>\n",
       "      <td>False</td>\n",
       "      <td>DET</td>\n",
       "      <td>False</td>\n",
       "      <td>True</td>\n",
       "      <td>run_1</td>\n",
       "      <td>word</td>\n",
       "    </tr>\n",
       "    <tr>\n",
       "      <th>6</th>\n",
       "      <td>551</td>\n",
       "      <td>558</td>\n",
       "      <td>558</td>\n",
       "      <td>un</td>\n",
       "      <td>190.6</td>\n",
       "      <td>0.25</td>\n",
       "      <td>{'kind': 'word', 'word': 'un'}</td>\n",
       "      <td>262.366</td>\n",
       "      <td>sentence</td>\n",
       "      <td>1</td>\n",
       "      <td>False</td>\n",
       "      <td>DET</td>\n",
       "      <td>False</td>\n",
       "      <td>True</td>\n",
       "      <td>run_1</td>\n",
       "      <td>word</td>\n",
       "    </tr>\n",
       "    <tr>\n",
       "      <th>7</th>\n",
       "      <td>651</td>\n",
       "      <td>659</td>\n",
       "      <td>659</td>\n",
       "      <td>boas</td>\n",
       "      <td>225.9</td>\n",
       "      <td>0.25</td>\n",
       "      <td>{'kind': 'word', 'word': 'boas'}</td>\n",
       "      <td>294.132</td>\n",
       "      <td>sentence</td>\n",
       "      <td>1</td>\n",
       "      <td>False</td>\n",
       "      <td>NC</td>\n",
       "      <td>True</td>\n",
       "      <td>True</td>\n",
       "      <td>run_1</td>\n",
       "      <td>word</td>\n",
       "    </tr>\n",
       "    <tr>\n",
       "      <th>8</th>\n",
       "      <td>728</td>\n",
       "      <td>736</td>\n",
       "      <td>736</td>\n",
       "      <td>lui</td>\n",
       "      <td>251.5</td>\n",
       "      <td>0.25</td>\n",
       "      <td>{'kind': 'word', 'word': 'lui'}</td>\n",
       "      <td>317.181</td>\n",
       "      <td>sentence</td>\n",
       "      <td>1</td>\n",
       "      <td>False</td>\n",
       "      <td>CLO-A_OBJ</td>\n",
       "      <td>False</td>\n",
       "      <td>True</td>\n",
       "      <td>run_1</td>\n",
       "      <td>word</td>\n",
       "    </tr>\n",
       "    <tr>\n",
       "      <th>9</th>\n",
       "      <td>1014</td>\n",
       "      <td>1039</td>\n",
       "      <td>1039</td>\n",
       "      <td>ce</td>\n",
       "      <td>357.4</td>\n",
       "      <td>0.25</td>\n",
       "      <td>{'kind': 'word', 'word': 'ce'}</td>\n",
       "      <td>412.496</td>\n",
       "      <td>sentence</td>\n",
       "      <td>1</td>\n",
       "      <td>False</td>\n",
       "      <td>DET</td>\n",
       "      <td>False</td>\n",
       "      <td>True</td>\n",
       "      <td>run_1</td>\n",
       "      <td>word</td>\n",
       "    </tr>\n",
       "    <tr>\n",
       "      <th>10</th>\n",
       "      <td>1022</td>\n",
       "      <td>1047</td>\n",
       "      <td>1047</td>\n",
       "      <td>tout</td>\n",
       "      <td>360.8</td>\n",
       "      <td>0.25</td>\n",
       "      <td>{'kind': 'word', 'word': 'tout'}</td>\n",
       "      <td>415.546</td>\n",
       "      <td>sentence</td>\n",
       "      <td>1</td>\n",
       "      <td>False</td>\n",
       "      <td>ADV</td>\n",
       "      <td>True</td>\n",
       "      <td>True</td>\n",
       "      <td>run_1</td>\n",
       "      <td>word</td>\n",
       "    </tr>\n",
       "    <tr>\n",
       "      <th>11</th>\n",
       "      <td>1056</td>\n",
       "      <td>1084</td>\n",
       "      <td>1084</td>\n",
       "      <td>petit</td>\n",
       "      <td>374.9</td>\n",
       "      <td>0.25</td>\n",
       "      <td>{'kind': 'word', 'word': 'petit'}</td>\n",
       "      <td>428.229</td>\n",
       "      <td>sentence</td>\n",
       "      <td>1</td>\n",
       "      <td>False</td>\n",
       "      <td>ADJ</td>\n",
       "      <td>True</td>\n",
       "      <td>True</td>\n",
       "      <td>run_1</td>\n",
       "      <td>word</td>\n",
       "    </tr>\n",
       "    <tr>\n",
       "      <th>12</th>\n",
       "      <td>1126</td>\n",
       "      <td>1155</td>\n",
       "      <td>1155</td>\n",
       "      <td>cette</td>\n",
       "      <td>400.2</td>\n",
       "      <td>0.25</td>\n",
       "      <td>{'kind': 'word', 'word': 'cette'}</td>\n",
       "      <td>450.995</td>\n",
       "      <td>sentence</td>\n",
       "      <td>1</td>\n",
       "      <td>False</td>\n",
       "      <td>DET</td>\n",
       "      <td>False</td>\n",
       "      <td>True</td>\n",
       "      <td>run_1</td>\n",
       "      <td>word</td>\n",
       "    </tr>\n",
       "    <tr>\n",
       "      <th>13</th>\n",
       "      <td>1155</td>\n",
       "      <td>1186</td>\n",
       "      <td>1186</td>\n",
       "      <td>du</td>\n",
       "      <td>413.0</td>\n",
       "      <td>0.25</td>\n",
       "      <td>{'kind': 'word', 'word': 'du'}</td>\n",
       "      <td>462.511</td>\n",
       "      <td>sentence</td>\n",
       "      <td>1</td>\n",
       "      <td>False</td>\n",
       "      <td>P+D</td>\n",
       "      <td>False</td>\n",
       "      <td>True</td>\n",
       "      <td>run_1</td>\n",
       "      <td>word</td>\n",
       "    </tr>\n",
       "    <tr>\n",
       "      <th>14</th>\n",
       "      <td>1158</td>\n",
       "      <td>1189</td>\n",
       "      <td>1189</td>\n",
       "      <td>fisje</td>\n",
       "      <td>414.4</td>\n",
       "      <td>0.25</td>\n",
       "      <td>{'kind': 'word', 'word': 'fisje'}</td>\n",
       "      <td>463.778</td>\n",
       "      <td>sentence</td>\n",
       "      <td>1</td>\n",
       "      <td>False</td>\n",
       "      <td>V</td>\n",
       "      <td>True</td>\n",
       "      <td>True</td>\n",
       "      <td>run_1</td>\n",
       "      <td>word</td>\n",
       "    </tr>\n",
       "    <tr>\n",
       "      <th>15</th>\n",
       "      <td>1264</td>\n",
       "      <td>1302</td>\n",
       "      <td>1302</td>\n",
       "      <td>son</td>\n",
       "      <td>453.8</td>\n",
       "      <td>0.25</td>\n",
       "      <td>{'kind': 'word', 'word': 'son'}</td>\n",
       "      <td>499.244</td>\n",
       "      <td>sentence</td>\n",
       "      <td>1</td>\n",
       "      <td>False</td>\n",
       "      <td>DET</td>\n",
       "      <td>False</td>\n",
       "      <td>True</td>\n",
       "      <td>run_1</td>\n",
       "      <td>word</td>\n",
       "    </tr>\n",
       "    <tr>\n",
       "      <th>16</th>\n",
       "      <td>1319</td>\n",
       "      <td>1364</td>\n",
       "      <td>1364</td>\n",
       "      <td>de</td>\n",
       "      <td>474.9</td>\n",
       "      <td>0.25</td>\n",
       "      <td>{'kind': 'word', 'word': 'de'}</td>\n",
       "      <td>518.227</td>\n",
       "      <td>sentence</td>\n",
       "      <td>1</td>\n",
       "      <td>False</td>\n",
       "      <td>P</td>\n",
       "      <td>False</td>\n",
       "      <td>True</td>\n",
       "      <td>run_1</td>\n",
       "      <td>word</td>\n",
       "    </tr>\n",
       "    <tr>\n",
       "      <th>17</th>\n",
       "      <td>1375</td>\n",
       "      <td>1424</td>\n",
       "      <td>1424</td>\n",
       "      <td>quil</td>\n",
       "      <td>496.4</td>\n",
       "      <td>0.25</td>\n",
       "      <td>{'kind': 'word', 'word': 'quil'}</td>\n",
       "      <td>537.576</td>\n",
       "      <td>sentence</td>\n",
       "      <td>1</td>\n",
       "      <td>False</td>\n",
       "      <td>XXX</td>\n",
       "      <td>False</td>\n",
       "      <td>True</td>\n",
       "      <td>run_1</td>\n",
       "      <td>word</td>\n",
       "    </tr>\n",
       "  </tbody>\n",
       "</table>\n",
       "</div>"
      ],
      "text/plain": [
       "    level_0  index  Unnamed: 0   word  onset  duration  \\\n",
       "0        34     34          34     du   11.9      0.25   \n",
       "1       250    254         254    des   84.9      0.25   \n",
       "2       301    305         305     la  102.7      0.25   \n",
       "3       340    344         344    mon  116.4      0.25   \n",
       "4       424    430         430  aussi  145.2      0.25   \n",
       "5       496    502         502   huit  171.3      0.25   \n",
       "6       551    558         558     un  190.6      0.25   \n",
       "7       651    659         659   boas  225.9      0.25   \n",
       "8       728    736         736    lui  251.5      0.25   \n",
       "9      1014   1039        1039     ce  357.4      0.25   \n",
       "10     1022   1047        1047   tout  360.8      0.25   \n",
       "11     1056   1084        1084  petit  374.9      0.25   \n",
       "12     1126   1155        1155  cette  400.2      0.25   \n",
       "13     1155   1186        1186     du  413.0      0.25   \n",
       "14     1158   1189        1189  fisje  414.4      0.25   \n",
       "15     1264   1302        1302    son  453.8      0.25   \n",
       "16     1319   1364        1364     de  474.9      0.25   \n",
       "17     1375   1424        1424   quil  496.4      0.25   \n",
       "\n",
       "                           trial_type    start condition  n_closing  \\\n",
       "0      {'kind': 'word', 'word': 'du'}  101.536  sentence          1   \n",
       "1     {'kind': 'word', 'word': 'des'}  167.235  sentence          1   \n",
       "2      {'kind': 'word', 'word': 'la'}  183.251  sentence          1   \n",
       "3     {'kind': 'word', 'word': 'mon'}  195.601  sentence          1   \n",
       "4   {'kind': 'word', 'word': 'aussi'}  221.517  sentence          1   \n",
       "5    {'kind': 'word', 'word': 'huit'}  245.000  sentence          1   \n",
       "6      {'kind': 'word', 'word': 'un'}  262.366  sentence          1   \n",
       "7    {'kind': 'word', 'word': 'boas'}  294.132  sentence          1   \n",
       "8     {'kind': 'word', 'word': 'lui'}  317.181  sentence          1   \n",
       "9      {'kind': 'word', 'word': 'ce'}  412.496  sentence          1   \n",
       "10   {'kind': 'word', 'word': 'tout'}  415.546  sentence          1   \n",
       "11  {'kind': 'word', 'word': 'petit'}  428.229  sentence          1   \n",
       "12  {'kind': 'word', 'word': 'cette'}  450.995  sentence          1   \n",
       "13     {'kind': 'word', 'word': 'du'}  462.511  sentence          1   \n",
       "14  {'kind': 'word', 'word': 'fisje'}  463.778  sentence          1   \n",
       "15    {'kind': 'word', 'word': 'son'}  499.244  sentence          1   \n",
       "16     {'kind': 'word', 'word': 'de'}  518.227  sentence          1   \n",
       "17   {'kind': 'word', 'word': 'quil'}  537.576  sentence          1   \n",
       "\n",
       "    is_last_word        pos  content_word  sentence_start  label  kind  \n",
       "0          False        P+D         False            True  run_1  word  \n",
       "1          False        DET         False            True  run_1  word  \n",
       "2          False        DET         False            True  run_1  word  \n",
       "3          False        DET         False            True  run_1  word  \n",
       "4          False        ADV          True            True  run_1  word  \n",
       "5          False        DET         False            True  run_1  word  \n",
       "6          False        DET         False            True  run_1  word  \n",
       "7          False         NC          True            True  run_1  word  \n",
       "8          False  CLO-A_OBJ         False            True  run_1  word  \n",
       "9          False        DET         False            True  run_1  word  \n",
       "10         False        ADV          True            True  run_1  word  \n",
       "11         False        ADJ          True            True  run_1  word  \n",
       "12         False        DET         False            True  run_1  word  \n",
       "13         False        P+D         False            True  run_1  word  \n",
       "14         False          V          True            True  run_1  word  \n",
       "15         False        DET         False            True  run_1  word  \n",
       "16         False          P         False            True  run_1  word  \n",
       "17         False        XXX         False            True  run_1  word  "
      ]
     },
     "execution_count": 14,
     "metadata": {},
     "output_type": "execute_result"
    }
   ],
   "source": [
    "\n",
    "epochs.metadata"
   ]
  },
  {
   "cell_type": "code",
   "execution_count": 5,
   "id": "46a88503",
   "metadata": {
    "scrolled": true
   },
   "outputs": [],
   "source": [
    "dim = 1024\n",
    "X = np.fromfile(\"./../../data/laser_embeddings/emb_1-3.bin\", dtype=np.float32, count=-1) \n",
    "X.resize(X.shape[0] // dim, dim) "
   ]
  },
  {
   "cell_type": "code",
   "execution_count": 6,
   "id": "5baaba24",
   "metadata": {},
   "outputs": [
    {
     "data": {
      "text/plain": [
       "(157, 1024)"
      ]
     },
     "execution_count": 6,
     "metadata": {},
     "output_type": "execute_result"
    }
   ],
   "source": [
    "X.shape"
   ]
  },
  {
   "cell_type": "code",
   "execution_count": 7,
   "id": "fb81fe4b",
   "metadata": {},
   "outputs": [
    {
     "name": "stdout",
     "output_type": "stream",
     "text": [
      "\u001b[0m\u001b[01;34mdata\u001b[0m/      \u001b[01;34mdocumentation\u001b[0m/  \u001b[01;34mformatting\u001b[0m/  \u001b[01;34mtesting\u001b[0m/\r\n",
      "\u001b[01;34mdecoding\u001b[0m/  \u001b[01;34mexperiments\u001b[0m/    README.md\r\n"
     ]
    }
   ],
   "source": [
    "ls ./../.."
   ]
  },
  {
   "cell_type": "code",
   "execution_count": 8,
   "id": "7ec9a8ec",
   "metadata": {
    "scrolled": true
   },
   "outputs": [
    {
     "data": {
      "image/png": "[encoded data removed]",
      "text/plain": [
       "<Figure size 640x400 with 2 Axes>"
      ]
     },
     "metadata": {},
     "output_type": "display_data"
    },
    {
     "data": {
      "image/png": "[encoded data removed]",
      "text/plain": [
       "<Figure size 640x400 with 2 Axes>"
      ]
     },
     "execution_count": 8,
     "metadata": {},
     "output_type": "execute_result"
    }
   ],
   "source": [
    "evo = epochs.average(method=\"median\")\n",
    "evo.plot(gfp='only')"
   ]
  },
  {
   "cell_type": "code",
   "execution_count": 9,
   "id": "a8dae2ef",
   "metadata": {},
   "outputs": [
    {
     "data": {
      "text/plain": [
       "array([[101536,      1,      1],\n",
       "       [167235,      1,      1],\n",
       "       [183251,      1,      1],\n",
       "       [195601,      1,      1],\n",
       "       [221517,      1,      1],\n",
       "       [245000,      1,      1],\n",
       "       [262366,      1,      1],\n",
       "       [294132,      1,      1],\n",
       "       [317181,      1,      1],\n",
       "       [412496,      1,      1],\n",
       "       [415546,      1,      1],\n",
       "       [428229,      1,      1],\n",
       "       [450995,      1,      1],\n",
       "       [462511,      1,      1],\n",
       "       [463778,      1,      1],\n",
       "       [499244,      1,      1],\n",
       "       [518227,      1,      1],\n",
       "       [537576,      1,      1]])"
      ]
     },
     "execution_count": 9,
     "metadata": {},
     "output_type": "execute_result"
    }
   ],
   "source": [
    "epochs.events"
   ]
  },
  {
   "cell_type": "code",
   "execution_count": 10,
   "id": "1f15b86e",
   "metadata": {},
   "outputs": [],
   "source": [
    "def epochs_(epochs, column, value):\n",
    "    meta  = epochs.metadata\n",
    "    subset = meta[meta[column]==value].level_0\n",
    "    return epochs[subset]\n"
   ]
  },
  {
   "cell_type": "code",
   "execution_count": 11,
   "id": "62ba0ee8",
   "metadata": {
    "scrolled": false
   },
   "outputs": [
    {
     "data": {
      "text/plain": [
       "0     1\n",
       "1     1\n",
       "2     1\n",
       "3     1\n",
       "4     1\n",
       "5     1\n",
       "6     1\n",
       "7     1\n",
       "8     1\n",
       "9     1\n",
       "10    1\n",
       "11    1\n",
       "12    1\n",
       "13    1\n",
       "14    1\n",
       "15    1\n",
       "16    1\n",
       "17    1\n",
       "Name: n_closing, dtype: int64"
      ]
     },
     "execution_count": 11,
     "metadata": {},
     "output_type": "execute_result"
    }
   ],
   "source": [
    "epochs.metadata['n_closing'][:50]"
   ]
  },
  {
   "cell_type": "code",
   "execution_count": 12,
   "id": "69967734",
   "metadata": {},
   "outputs": [
    {
     "data": {
      "text/html": [
       "<table class=\"table table-hover table-striped table-sm table-responsive small\">\n",
       "    <tr>\n",
       "        <th>Number of events</th>\n",
       "        <td>0</td>\n",
       "    </tr>\n",
       "    <tr>\n",
       "        <th>Events</th>\n",
       "        \n",
       "        <td></td>\n",
       "        \n",
       "    </tr>\n",
       "    <tr>\n",
       "        <th>Time range</th>\n",
       "        <td>-4.000 – 0.500 sec</td>\n",
       "    </tr>\n",
       "    <tr>\n",
       "        <th>Baseline</th>\n",
       "        <td>-4.000 – 0.000 sec</td>\n",
       "    </tr>\n",
       "</table>"
      ],
      "text/plain": [
       "<Epochs |  0 events (all good), -4 - 0.5 sec, baseline -4 – 0 sec, ~5.1 MB, data loaded, with metadata>"
      ]
     },
     "execution_count": 12,
     "metadata": {},
     "output_type": "execute_result"
    }
   ],
   "source": [
    "epochs_(epochs,'is_last_word',True)"
   ]
  },
  {
   "cell_type": "code",
   "execution_count": 13,
   "id": "95c0cbc3",
   "metadata": {
    "scrolled": true
   },
   "outputs": [
    {
     "ename": "NameError",
     "evalue": "name 'fig' is not defined",
     "output_type": "error",
     "traceback": [
      "\u001b[0;31m---------------------------------------------------------------------------\u001b[0m",
      "\u001b[0;31mNameError\u001b[0m                                 Traceback (most recent call last)",
      "Cell \u001b[0;32mIn[13], line 14\u001b[0m\n\u001b[1;32m     12\u001b[0m \u001b[38;5;28;01mfor\u001b[39;00m case \u001b[38;5;129;01min\u001b[39;00m cases:\n\u001b[1;32m     13\u001b[0m     ep \u001b[38;5;241m=\u001b[39m epochs_(epochs, cond[condi][\u001b[38;5;124m'\u001b[39m\u001b[38;5;124mcolumn\u001b[39m\u001b[38;5;124m'\u001b[39m], cond[condi][\u001b[38;5;124m'\u001b[39m\u001b[38;5;124mtarget\u001b[39m\u001b[38;5;124m'\u001b[39m])\n\u001b[0;32m---> 14\u001b[0m     ax \u001b[38;5;241m=\u001b[39m \u001b[43mfig\u001b[49m\u001b[38;5;241m.\u001b[39madd_subplot(\u001b[38;5;241m3\u001b[39m, \u001b[38;5;241m2\u001b[39m, i)\n\u001b[1;32m     15\u001b[0m     \u001b[38;5;66;03m#ep.average().plot(gfp='only')\u001b[39;00m\n\u001b[1;32m     16\u001b[0m     evo \u001b[38;5;241m=\u001b[39m ep\u001b[38;5;241m.\u001b[39maverage(method\u001b[38;5;241m=\u001b[39m\u001b[38;5;124m\"\u001b[39m\u001b[38;5;124mmedian\u001b[39m\u001b[38;5;124m\"\u001b[39m)\n",
      "\u001b[0;31mNameError\u001b[0m: name 'fig' is not defined"
     ]
    }
   ],
   "source": [
    "import matplotlib.pyplot as plt\n",
    "# Build a 3x2 plot, with for each condition (sentence, word, constituent), and for (start, end),\n",
    "# the ERP associated\n",
    "cond = {'sentence': {'column':'is_last_word','target':True},\n",
    "        'word': {'column':'kind','target':'word'},\n",
    "        'constituent': {'column':'n_closing','target':2}}\n",
    "\n",
    "cases = {'start', 'end'}\n",
    "\n",
    "i = 1\n",
    "for condi in cond:\n",
    "    for case in cases:\n",
    "        ep = epochs_(epochs, cond[condi]['column'], cond[condi]['target'])\n",
    "        ax = fig.add_subplot(3, 2, i)\n",
    "        #ep.average().plot(gfp='only')\n",
    "        evo = ep.average(method=\"median\")\n",
    "        evo.plot(spatial_colors=True)\n",
    "        i = i + 1\n",
    "        ax.set_title(f'Plot {cond}')\n",
    "\n",
    "\n",
    "plt.show()\n"
   ]
  },
  {
   "cell_type": "code",
   "execution_count": null,
   "id": "f3217312",
   "metadata": {},
   "outputs": [],
   "source": [
    "epochs_4 = epochs_(epochs, 'n_closing', 4)"
   ]
  },
  {
   "cell_type": "code",
   "execution_count": null,
   "id": "d9bb4772",
   "metadata": {},
   "outputs": [],
   "source": [
    "epochs_4.average().plot(gfp='only')"
   ]
  },
  {
   "cell_type": "code",
   "execution_count": null,
   "id": "135d50c8",
   "metadata": {},
   "outputs": [],
   "source": [
    "evo = epochs.average(method=\"median\")\n",
    "evo.plot(spatial_colors=True)"
   ]
  },
  {
   "cell_type": "code",
   "execution_count": null,
   "id": "13f5e02d",
   "metadata": {
    "scrolled": true
   },
   "outputs": [],
   "source": [
    "metadata_subset"
   ]
  },
  {
   "cell_type": "code",
   "execution_count": null,
   "id": "f7a87839",
   "metadata": {},
   "outputs": [],
   "source": [
    "from mne import Epochs\n",
    "\n",
    "class CustomEpochs(Epochs):\n",
    "\n",
    "    def __getitem__(self, key):\n",
    "        # Parse the key into metadata field name and value\n",
    "        field, value = key.split('==')\n",
    "        field = field.strip()\n",
    "        value = value.strip()\n",
    "\n",
    "        # Get the indices of the epochs that match the metadata query\n",
    "        indices = [i for i, metadata in enumerate(self.metadata[field]) if metadata == value]\n",
    "\n",
    "        # Return a new Epochs object containing only the matching epochs\n",
    "        return self.__class__(self._data[indices], self.events[indices], self.event_id,\n",
    "                              tmin=self.tmin, tmax=self.tmax, baseline=self.baseline,\n",
    "                              metadata=self.metadata.iloc[indices], info=self.info)\n",
    "\n"
   ]
  },
  {
   "cell_type": "code",
   "execution_count": null,
   "id": "9a7c8177",
   "metadata": {},
   "outputs": [],
   "source": [
    "custom_epochs = CustomEpochs(epochs, epochs.events, \"1\", -0.2, 0.8, epochs.baseline, epochs.metadata)\n",
    "\n",
    "# Get all epochs where the 'kind' metadata field is 'word':\n",
    "word_epochs = custom_epochs['kind==word']"
   ]
  },
  {
   "cell_type": "code",
   "execution_count": null,
   "id": "07344132",
   "metadata": {},
   "outputs": [],
   "source": [
    "custom_epochs['kind==\"word\"']"
   ]
  },
  {
   "cell_type": "code",
   "execution_count": null,
   "id": "614e9b74",
   "metadata": {},
   "outputs": [],
   "source": [
    "# epoch\n",
    "def mne_events(meta):\n",
    "    events = np.ones((len(meta), 3), dtype=int)\n",
    "    events[:, 0] = meta.start*raw.info['sfreq']\n",
    "    return dict(events=events, metadata=meta.reset_index())\n",
    "\n",
    "epochs = mne.Epochs(raw, **mne_events(meta), decim=20, tmin=-.2, tmax=1.5, preload=True)\n",
    "epochs = epochs['kind==\"word\"']"
   ]
  },
  {
   "cell_type": "code",
   "execution_count": null,
   "id": "242e0658",
   "metadata": {},
   "outputs": [],
   "source": [
    "from dataset import get_path, get_subjects, epoch_data, epoch_runs\n",
    "from utils import (\n",
    "    decod,\n",
    "    correlate,\n",
    "    match_list,\n",
    "    create_target,\n",
    "    analysis,\n",
    "    save_decoding_results,\n",
    ")\n",
    "from plot import plot_subject\n",
    "import mne_bids\n",
    "from pathlib import Path\n",
    "import pandas as pd\n",
    "import numpy as np\n",
    "import mne\n",
    "import spacy\n",
    "from sklearn.model_selection import KFold, cross_val_predict\n",
    "from sklearn.pipeline import make_pipeline\n",
    "from sklearn.preprocessing import StandardScaler, RobustScaler\n",
    "from sklearn.linear_model import RidgeCV\n",
    "from wordfreq import zipf_frequency\n",
    "from Levenshtein import editops\n",
    "import matplotlib.pyplot as plt"
   ]
  },
  {
   "cell_type": "code",
   "execution_count": null,
   "id": "9d07ec8d",
   "metadata": {},
   "outputs": [],
   "source": [
    "path = get_path(\"LPP_read\")\n",
    "subjects = get_subjects(path)\n",
    "RUN = 9\n",
    "task = \"read\"\n",
    "subject = subjects[4]"
   ]
  },
  {
   "cell_type": "code",
   "execution_count": null,
   "id": "c856d515",
   "metadata": {
    "scrolled": true
   },
   "outputs": [],
   "source": [
    "epochs = epoch_runs(subject, RUN, task, path)"
   ]
  },
  {
   "cell_type": "code",
   "execution_count": null,
   "id": "5b0915f9",
   "metadata": {},
   "outputs": [],
   "source": [
    "(epochs.metadata).dtype"
   ]
  },
  {
   "cell_type": "code",
   "execution_count": null,
   "id": "ddb1ca34",
   "metadata": {},
   "outputs": [],
   "source": [
    "epochs.load_data()\n",
    "epochs = epochs['kind==\"word\"']\n",
    "epochs[\"content_word == False\"]"
   ]
  },
  {
   "cell_type": "code",
   "execution_count": null,
   "id": "a7298b07",
   "metadata": {},
   "outputs": [],
   "source": []
  }
 ],
 "metadata": {
  "kernelspec": {
   "display_name": "Python 3 (ipykernel)",
   "language": "python",
   "name": "python3"
  },
  "language_info": {
   "codemirror_mode": {
    "name": "ipython",
    "version": 3
   },
   "file_extension": ".py",
   "mimetype": "text/x-python",
   "name": "python",
   "nbconvert_exporter": "python",
   "pygments_lexer": "ipython3",
   "version": "3.10.4"
  }
 },
 "nbformat": 4,
 "nbformat_minor": 5
}
