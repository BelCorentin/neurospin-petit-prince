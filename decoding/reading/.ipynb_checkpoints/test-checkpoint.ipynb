{
 "cells": [
  {
   "cell_type": "markdown",
   "id": "29a1a77c",
   "metadata": {},
   "source": [
    "# Reformat the txt file for LASER handling"
   ]
  },
  {
   "cell_type": "code",
   "execution_count": 30,
   "id": "f34870ba",
   "metadata": {},
   "outputs": [],
   "source": [
    "# Good code, to do for all chapers\n",
    "\n",
    "from dataset import get_code_path\n",
    "for chapter in np.arange(1,10):\n",
    "\n",
    "    with open(f\"{get_code_path()}/experiments/formatting/text_lpp/new_test_run{chapter}.txt\", 'r') as file:\n",
    "        data = file.read()\n",
    "    text = \" \".join(data.split())\n",
    "    # Split text into sentences with regex\n",
    "    sentences = re.findall(r'[\\w\\s\\S]+?[.?!][\"\\']?(?=\\s|$)', text)\n",
    "    with open(f\"{get_code_path()}/data/txt_laser/run{chapter}.txt\", \"w\") as file:\n",
    "        for sentence in sentences:\n",
    "            file.write(sentence + '\\n')\n",
    "\n"
   ]
  },
  {
   "cell_type": "code",
   "execution_count": 26,
   "id": "f8dc65d3",
   "metadata": {},
   "outputs": [
    {
     "data": {
      "text/plain": [
       "[\"lorsque j'avais six ans, j'ai vu, une fois, une magnifique image, dans un livre sur la forêt vierge qui s'appelait histoires vécues.\",\n",
       " ' ça représentait un serpent boa qui avalait un fauve.',\n",
       " ' voilà la copie du dessin.',\n",
       " ' on disait dans le livre: \"les serpents boas avalent leur proie tout entière, sans la mâcher.',\n",
       " ' ensuite ils ne peuvent plus bouger et ils dorment pendant les six mois de leur digestion.\"',\n",
       " \" j'ai alors beaucoup réfléchi sur les aventures de la jungle et, à mon tour, j'ai réussi, avec un crayon de couleur, à tracer mon premier dessin.\",\n",
       " ' mon dessin numéro 1.',\n",
       " \" il était comme ça: j'ai montré mon chef-d'oeuvre aux grandes personnes et je leur ai demandé si mon dessin leur faisait peur.\",\n",
       " ' elles m\\'ont répondu: \"pourquoi un chapeau ferait-il peur?\"',\n",
       " ' mon dessin ne représentait pas un chapeau.',\n",
       " ' il représentait un serpent boa qui digérait un éléphant.',\n",
       " \" j'ai alors dessiné l'intérieur du serpent boa, afin que les grandes personnes puissent comprendre.\",\n",
       " \" elles ont toujours besoin d'explications.\",\n",
       " \" mon dessin numéro 2 était comme ça: les grandes personnes m'ont conseillé de laisser de côté les dessins de serpents boas ouverts ou fermés, et de m'intéresser plutôt à la géographie, à l'histoire, au calcul et à la grammaire.\",\n",
       " \" c'est ainsi que j'ai abandonné, à l'âge de six ans, une magnifique carrière de peintre.\",\n",
       " \" j'avais été découragé par l'insuccès de mon dessin numéro 1 et de mon dessin numéro 2.\",\n",
       " \" les grandes personnes ne comprennent jamais rien toutes seules, et c'est fatigant, pour les enfants, de toujours et toujours leur donner des explications...\",\n",
       " \" j'ai donc dû choisir un autre métier et j'ai appris à piloter des avions.\",\n",
       " \" j'ai volé un peu partout dans le monde.\",\n",
       " \" et la géographie, c'est exact, m'a beaucoup servi.\",\n",
       " \" je savais reconnaître, du premier coup d'oeil, la chine de l'arizona.\",\n",
       " \" c'est très utile, si l'on s'est égaré pendant la nuit.\",\n",
       " \" j'ai ainsi eu, au cours de ma vie, des tas de contacts avec des tas de gens sérieux.\",\n",
       " \" j'ai beaucoup vécu chez les grandes personnes.\",\n",
       " ' je les ai vues de très près.',\n",
       " \" ça n'a pas trop amélioré mon opinion.\",\n",
       " \" quand j'en rencontrais une qui me paraissait un peu lucide, je faisais l'expérience sur elle de mon dessin numéro 1 que j'ai toujours conservé je voulais savoir si elle était vraiment compréhensive.\",\n",
       " ' mais toujours elle me répondait: \"c\\'est un chapeau.\"',\n",
       " \" alors je ne lui parlais ni de serpents boas, ni de forêts vierges, ni d'étoiles.\",\n",
       " ' je me mettais à sa portée.',\n",
       " ' je lui parlais de bridge, de golf, de politique et de cravates.',\n",
       " ' et la grande personne était bien contente de connaître un homme aussi raisonnable...',\n",
       " \" j'ai ainsi vécu seul, sans personne avec qui parler véritablement, jusqu'à une panne dans le désert du sahara, il y a six ans.\",\n",
       " \" quelque chose s'était cassé dans mon moteur.\",\n",
       " \" et comme je n'avais avec moi ni mécanicien, ni passagers, je me préparai à essayer de réussir, tout seul, une réparation difficile.\",\n",
       " \" c'était pour moi une question de vie ou de mort.\",\n",
       " \" j'avais à peine de l'eau à boire pour huit jours.\",\n",
       " ' le premier soir je me suis donc endormi sur le sable à mille milles de toute terre habitée.',\n",
       " \" j'étais bien plus isolé qu'un naufragé sur un radeau au milieu de l'océan.\",\n",
       " \" alors vous imaginez ma surprise, au lever du jour, quand une drôle de petite voix m'a réveillé.\",\n",
       " ' elle disait: \"s\\'il vous plaît...',\n",
       " ' dessine-moi un mouton!',\n",
       " ' -hein!',\n",
       " ' -dessine-moi un mouton...\"',\n",
       " \" j'ai sauté sur mes pieds comme si j'avais été frappé par la foudre.\",\n",
       " \" j'ai bien frotté mes yeux.\",\n",
       " \" j'ai bien regardé.\",\n",
       " \" et j'ai vu un petit bonhomme tout à fait extraordinaire qui me considérait gravement.\",\n",
       " \" voilà le meilleur portrait que, plus tard, j'ai réussi à faire de lui.\",\n",
       " ' mais mon dessin, bien sûr, est beaucoup moins ravissant que le modèle.',\n",
       " \" ce n'est pas ma faute.\",\n",
       " \" j'avais été découragé dans ma carrière de peintre par les grandes personnes, à l'âge de six ans, et je n'avais rien appris à dessiner, sauf les boas fermés et les boas ouverts.\",\n",
       " \" je regardai donc cette apparition avec des yeux tout ronds d'étonnement.\",\n",
       " \" n'oubliez pas que je me trouvais à mille milles de toute région habitée.\",\n",
       " ' or mon petit bonhomme ne me semblait ni égaré, ni mort de fatigue, ni mort de faim, ni mort de soif, ni mort de peur.',\n",
       " \" il n'avait en rien l'apparence d'un enfant perdu au milieu du désert, à mille milles de toute région habitée.\",\n",
       " ' quand je réussis enfin à parler, je lui dis: \"mais...',\n",
       " ' qu\\'est-ce que tu fais là?\"',\n",
       " ' et il me répéta alors, tout doucement, comme une chose très sérieuse: \"s\\'il vous plaît...',\n",
       " ' dessine-moi un mouton...\"',\n",
       " \" quand le mystère est trop impressionnant, on n'ose pas désobéir.\",\n",
       " ' aussi absurde que cela me semblât à mille milles de tous les endroits habités et en danger de mort, je sortis de ma poche une feuille de papier et un stylographe.',\n",
       " \" mais je me rappelai alors que j'avais surtout étudié la géographie, l'histoire, le calcul et la grammaire et je dis au petit bonhomme avec un peu de mauvaise humeur que je ne savais pas dessiner.\",\n",
       " ' il me répondit: \"ça ne fait rien.',\n",
       " ' dessine-moi un mouton.\"',\n",
       " \" comme je n'avais jamais dessiné un mouton je refis, pour lui, l'un des deux seuls dessins dont j'étais capable.\",\n",
       " ' celui du boa fermé.',\n",
       " ' et je fus stupéfait d\\'entendre le petit bonhomme me répondre: \"non!',\n",
       " ' non!',\n",
       " \" je ne veux pas d'un éléphant dans un boa.\",\n",
       " \" un boa c'est très dangereux, et un éléphant c'est très encombrant.\",\n",
       " \" chez moi c'est tout petit.\",\n",
       " \" j'ai besoin d'un mouton.\",\n",
       " ' dessine-moi un mouton.\"',\n",
       " \" alors j'ai dessiné.\",\n",
       " ' il regarda attentivement, puis: \"non!',\n",
       " ' celui-là est très malade.',\n",
       " ' fais-en un autre.\"',\n",
       " ' je dessinai: mon ami sourit gentiment, avec indulgence: \"tu vois bien...',\n",
       " \" ce n'est pas un mouton, c'est un bélier.\",\n",
       " ' il a des cornes...\"',\n",
       " ' je refis donc encore mon dessin: mais il fut refusé, comme les précédents: \"celui-là est trop vieux.',\n",
       " ' je veux un mouton qui vive longtemps.\"',\n",
       " ' alors, faute de patience, comme j\\'avais hâte de commencer le démontage de mon moteur, je griffonnai ce dessin-ci: et je lançai: \"ça c\\'est la caisse.',\n",
       " ' le mouton que tu veux est dedans.\"',\n",
       " ' mais je fus bien surpris de voir s\\'illuminer le visage de mon jeune juge: \"c\\'est tout a fait comme ça que je le voulais!',\n",
       " \" crois-tu qu'il faille beaucoup d'herbe à ce mouton?\",\n",
       " ' -pourquoi?',\n",
       " \" -parce que chez moi c'est tout petit...\",\n",
       " ' -ça suffira sûrement.',\n",
       " ' je t\\'ai donné un tout petit mouton.\"',\n",
       " ' il pencha la tête vers le dessin: \"pas si petit que ça...',\n",
       " ' tiens!',\n",
       " ' il s\\'est endormi...\"',\n",
       " \" et c'est ainsi que je fis la connaissance du petit prince.\",\n",
       " \" il me fallut longtemps pour comprendre d'où il venait.\",\n",
       " ' le petit prince, qui me posait beaucoup de questions, ne semblait jamais entendre les miennes.',\n",
       " \" ce sont des mots prononcés par hasard qui, peu à peu, m'ont tout révélé.\",\n",
       " ' ainsi, quand il aperçut pour la première fois mon avion, je ne dessinerai pas mon avion, c\\'est un dessin beaucoup trop compliqué pour moi, il me demanda: \"qu\\'est-ce que c\\'est que cette chose-là?',\n",
       " \" -ce n'est pas une chose.\",\n",
       " ' ça vole.',\n",
       " \" c'est un avion.\",\n",
       " ' c\\'est mon avion.\"',\n",
       " \" et j'étais fier de lui apprendre que je volais.\",\n",
       " ' alors il s\\'écria: \"comment!',\n",
       " ' tu es tombé du ciel!',\n",
       " ' -oui, fis-je modestement.',\n",
       " ' -ah!',\n",
       " ' ça c\\'est drôle!...\"',\n",
       " \" et le petit prince eut un très joli éclat de rire qui m'irrita beaucoup.\",\n",
       " \" je désire que l'on prenne mes malheurs au sérieux.\",\n",
       " ' puis il ajouta: \"alors, toi aussi tu viens du ciel!',\n",
       " ' de quelle planète es-tu?\"',\n",
       " ' j\\'entrevis aussitôt une lueur, dans le mystère de sa présence, et j\\'interrogeai brusquement: \"tu viens donc d\\'une autre planète?\"',\n",
       " ' mais il ne me répondit pas.',\n",
       " ' il hochait la tête doucement tout en regardant mon avion: \"c\\'est vrai que, là-dessus, tu ne peux pas venir de bien loin...\"',\n",
       " \" et il s'enfonça dans une rêverie qui dura longtemps.\",\n",
       " ' puis, sortant mon mouton de sa poche, il se plongea dans la contemplation de son trésor.',\n",
       " ' vous imaginez combien j\\'avais pu être intrigué par cette demi-confidence sur \"les autres planètes\".',\n",
       " ' je m\\'efforçai donc d\\'en savoir plus long: \"d\\'où viens-tu, mon petit bonhomme?',\n",
       " ' où est-ce \"chez toi\"?',\n",
       " ' où veux-tu emporter mon mouton?\"',\n",
       " ' il me répondit après un silence méditatif: \"ce qui est bien, avec la caisse que tu m\\'as donnée, c\\'est que, la nuit, ça lui servira de maison.',\n",
       " ' -bien sûr.',\n",
       " \" et si tu es gentil, je te donnerai aussi une corde pour l'attacher pendant le jour.\",\n",
       " ' et un piquet.\"',\n",
       " ' la proposition parut choquer le petit prince: \"l\\'attacher?',\n",
       " \" quelle drôle d'idée!\",\n",
       " ' -mais si tu ne l\\'attaches pas, il ira n\\'importe où, et il se perdra.\"',\n",
       " ' et mon ami eut un nouvel éclat de rire: \"mais où veux-tu qu\\'il aille!',\n",
       " \" -n'importe où.\",\n",
       " ' droit devant lui...\"',\n",
       " ' alors le petit prince remarqua gravement: \"ça ne fait rien, c\\'est tellement petit, chez moi!\"',\n",
       " ' et, avec un peu de mélancolie, peut-être, il ajouta: \"droit devant soi on ne peut pas aller bien loin...\"']"
      ]
     },
     "execution_count": 26,
     "metadata": {},
     "output_type": "execute_result"
    }
   ],
   "source": []
  },
  {
   "cell_type": "code",
   "execution_count": 27,
   "id": "14f8eb8f",
   "metadata": {},
   "outputs": [
    {
     "ename": "error",
     "evalue": "look-behind requires fixed-width pattern",
     "output_type": "error",
     "traceback": [
      "\u001b[0;31m---------------------------------------------------------------------------\u001b[0m",
      "\u001b[0;31merror\u001b[0m                                     Traceback (most recent call last)",
      "Cell \u001b[0;32mIn[27], line 2\u001b[0m\n\u001b[1;32m      1\u001b[0m \u001b[38;5;28;01mimport\u001b[39;00m \u001b[38;5;21;01mre\u001b[39;00m \n\u001b[0;32m----> 2\u001b[0m sentences \u001b[38;5;241m=\u001b[39m \u001b[43mre\u001b[49m\u001b[38;5;241;43m.\u001b[39;49m\u001b[43msplit\u001b[49m\u001b[43m(\u001b[49m\u001b[38;5;124;43mr\u001b[39;49m\u001b[38;5;124;43m'\u001b[39;49m\u001b[38;5;124;43m(?<=[\u001b[39;49m\u001b[38;5;124;43m\\\u001b[39;49m\u001b[38;5;124;43mw|\u001b[39;49m\u001b[38;5;124;43m\\\u001b[39;49m\u001b[38;5;124;43m)]\u001b[39;49m\u001b[38;5;124;43m\\\u001b[39;49m\u001b[38;5;124;43m?|[\u001b[39;49m\u001b[38;5;124;43m\\\u001b[39;49m\u001b[38;5;124;43mw|\u001b[39;49m\u001b[38;5;124;43m\\\u001b[39;49m\u001b[38;5;124;43m)]\u001b[39;49m\u001b[38;5;124;43m\\\u001b[39;49m\u001b[38;5;124;43m!|[\u001b[39;49m\u001b[38;5;124;43m\\\u001b[39;49m\u001b[38;5;124;43mw|\u001b[39;49m\u001b[38;5;124;43m\\\u001b[39;49m\u001b[38;5;124;43m)]\u001b[39;49m\u001b[38;5;124;43m\\\u001b[39;49m\u001b[38;5;124;43m.|\u001b[39;49m\u001b[38;5;124;43m\"\u001b[39;49m\u001b[38;5;124;43m|-)(- )\u001b[39;49m\u001b[38;5;124;43m{\u001b[39;49m\u001b[38;5;124;43m0,1}\u001b[39;49m\u001b[38;5;124;43m\\\u001b[39;49m\u001b[38;5;124;43ms\u001b[39;49m\u001b[38;5;124;43m'\u001b[39;49m\u001b[43m,\u001b[49m\u001b[43m \u001b[49m\u001b[43mdata\u001b[49m\u001b[43m)\u001b[49m\n\u001b[1;32m      3\u001b[0m data \u001b[38;5;241m=\u001b[39m \u001b[38;5;124m\"\u001b[39m\u001b[38;5;130;01m\\n\u001b[39;00m\u001b[38;5;124m\"\u001b[39m\u001b[38;5;241m.\u001b[39mjoin(sentences)\n\u001b[1;32m      4\u001b[0m data\n",
      "File \u001b[0;32m~/miniconda3/envs/meg-masc/lib/python3.10/re.py:230\u001b[0m, in \u001b[0;36msplit\u001b[0;34m(pattern, string, maxsplit, flags)\u001b[0m\n\u001b[1;32m    222\u001b[0m \u001b[38;5;28;01mdef\u001b[39;00m \u001b[38;5;21msplit\u001b[39m(pattern, string, maxsplit\u001b[38;5;241m=\u001b[39m\u001b[38;5;241m0\u001b[39m, flags\u001b[38;5;241m=\u001b[39m\u001b[38;5;241m0\u001b[39m):\n\u001b[1;32m    223\u001b[0m     \u001b[38;5;124;03m\"\"\"Split the source string by the occurrences of the pattern,\u001b[39;00m\n\u001b[1;32m    224\u001b[0m \u001b[38;5;124;03m    returning a list containing the resulting substrings.  If\u001b[39;00m\n\u001b[1;32m    225\u001b[0m \u001b[38;5;124;03m    capturing parentheses are used in pattern, then the text of all\u001b[39;00m\n\u001b[0;32m   (...)\u001b[0m\n\u001b[1;32m    228\u001b[0m \u001b[38;5;124;03m    and the remainder of the string is returned as the final element\u001b[39;00m\n\u001b[1;32m    229\u001b[0m \u001b[38;5;124;03m    of the list.\"\"\"\u001b[39;00m\n\u001b[0;32m--> 230\u001b[0m     \u001b[38;5;28;01mreturn\u001b[39;00m \u001b[43m_compile\u001b[49m\u001b[43m(\u001b[49m\u001b[43mpattern\u001b[49m\u001b[43m,\u001b[49m\u001b[43m \u001b[49m\u001b[43mflags\u001b[49m\u001b[43m)\u001b[49m\u001b[38;5;241m.\u001b[39msplit(string, maxsplit)\n",
      "File \u001b[0;32m~/miniconda3/envs/meg-masc/lib/python3.10/re.py:303\u001b[0m, in \u001b[0;36m_compile\u001b[0;34m(pattern, flags)\u001b[0m\n\u001b[1;32m    301\u001b[0m \u001b[38;5;28;01mif\u001b[39;00m \u001b[38;5;129;01mnot\u001b[39;00m sre_compile\u001b[38;5;241m.\u001b[39misstring(pattern):\n\u001b[1;32m    302\u001b[0m     \u001b[38;5;28;01mraise\u001b[39;00m \u001b[38;5;167;01mTypeError\u001b[39;00m(\u001b[38;5;124m\"\u001b[39m\u001b[38;5;124mfirst argument must be string or compiled pattern\u001b[39m\u001b[38;5;124m\"\u001b[39m)\n\u001b[0;32m--> 303\u001b[0m p \u001b[38;5;241m=\u001b[39m \u001b[43msre_compile\u001b[49m\u001b[38;5;241;43m.\u001b[39;49m\u001b[43mcompile\u001b[49m\u001b[43m(\u001b[49m\u001b[43mpattern\u001b[49m\u001b[43m,\u001b[49m\u001b[43m \u001b[49m\u001b[43mflags\u001b[49m\u001b[43m)\u001b[49m\n\u001b[1;32m    304\u001b[0m \u001b[38;5;28;01mif\u001b[39;00m \u001b[38;5;129;01mnot\u001b[39;00m (flags \u001b[38;5;241m&\u001b[39m DEBUG):\n\u001b[1;32m    305\u001b[0m     \u001b[38;5;28;01mif\u001b[39;00m \u001b[38;5;28mlen\u001b[39m(_cache) \u001b[38;5;241m>\u001b[39m\u001b[38;5;241m=\u001b[39m _MAXCACHE:\n\u001b[1;32m    306\u001b[0m         \u001b[38;5;66;03m# Drop the oldest item\u001b[39;00m\n",
      "File \u001b[0;32m~/miniconda3/envs/meg-masc/lib/python3.10/sre_compile.py:768\u001b[0m, in \u001b[0;36mcompile\u001b[0;34m(p, flags)\u001b[0m\n\u001b[1;32m    765\u001b[0m \u001b[38;5;28;01melse\u001b[39;00m:\n\u001b[1;32m    766\u001b[0m     pattern \u001b[38;5;241m=\u001b[39m \u001b[38;5;28;01mNone\u001b[39;00m\n\u001b[0;32m--> 768\u001b[0m code \u001b[38;5;241m=\u001b[39m \u001b[43m_code\u001b[49m\u001b[43m(\u001b[49m\u001b[43mp\u001b[49m\u001b[43m,\u001b[49m\u001b[43m \u001b[49m\u001b[43mflags\u001b[49m\u001b[43m)\u001b[49m\n\u001b[1;32m    770\u001b[0m \u001b[38;5;28;01mif\u001b[39;00m flags \u001b[38;5;241m&\u001b[39m SRE_FLAG_DEBUG:\n\u001b[1;32m    771\u001b[0m     \u001b[38;5;28mprint\u001b[39m()\n",
      "File \u001b[0;32m~/miniconda3/envs/meg-masc/lib/python3.10/sre_compile.py:607\u001b[0m, in \u001b[0;36m_code\u001b[0;34m(p, flags)\u001b[0m\n\u001b[1;32m    604\u001b[0m _compile_info(code, p, flags)\n\u001b[1;32m    606\u001b[0m \u001b[38;5;66;03m# compile the pattern\u001b[39;00m\n\u001b[0;32m--> 607\u001b[0m \u001b[43m_compile\u001b[49m\u001b[43m(\u001b[49m\u001b[43mcode\u001b[49m\u001b[43m,\u001b[49m\u001b[43m \u001b[49m\u001b[43mp\u001b[49m\u001b[38;5;241;43m.\u001b[39;49m\u001b[43mdata\u001b[49m\u001b[43m,\u001b[49m\u001b[43m \u001b[49m\u001b[43mflags\u001b[49m\u001b[43m)\u001b[49m\n\u001b[1;32m    609\u001b[0m code\u001b[38;5;241m.\u001b[39mappend(SUCCESS)\n\u001b[1;32m    611\u001b[0m \u001b[38;5;28;01mreturn\u001b[39;00m code\n",
      "File \u001b[0;32m~/miniconda3/envs/meg-masc/lib/python3.10/sre_compile.py:182\u001b[0m, in \u001b[0;36m_compile\u001b[0;34m(code, pattern, flags)\u001b[0m\n\u001b[1;32m    180\u001b[0m     lo, hi \u001b[38;5;241m=\u001b[39m av[\u001b[38;5;241m1\u001b[39m]\u001b[38;5;241m.\u001b[39mgetwidth()\n\u001b[1;32m    181\u001b[0m     \u001b[38;5;28;01mif\u001b[39;00m lo \u001b[38;5;241m!=\u001b[39m hi:\n\u001b[0;32m--> 182\u001b[0m         \u001b[38;5;28;01mraise\u001b[39;00m error(\u001b[38;5;124m\"\u001b[39m\u001b[38;5;124mlook-behind requires fixed-width pattern\u001b[39m\u001b[38;5;124m\"\u001b[39m)\n\u001b[1;32m    183\u001b[0m     emit(lo) \u001b[38;5;66;03m# look behind\u001b[39;00m\n\u001b[1;32m    184\u001b[0m _compile(code, av[\u001b[38;5;241m1\u001b[39m], flags)\n",
      "\u001b[0;31merror\u001b[0m: look-behind requires fixed-width pattern"
     ]
    }
   ],
   "source": [
    "import re \n",
    "sentences = re.split(r'(?<=[\\w|\\)]\\?|[\\w|\\)]\\!|[\\w|\\)]\\.|\"|-)(- ){0,1}\\s', data)\n",
    "data = \"\\n\".join(sentences)\n",
    "data\n"
   ]
  },
  {
   "cell_type": "code",
   "execution_count": 29,
   "id": "e9778ac2",
   "metadata": {},
   "outputs": [],
   "source": []
  },
  {
   "cell_type": "code",
   "execution_count": 11,
   "id": "7a4fa288",
   "metadata": {},
   "outputs": [
    {
     "data": {
      "text/plain": [
       "'lorsque j\\'avais six ans, j\\'ai vu, une fois, une magnifique image, dans un livre sur la forêt vierge qui s\\'appelait histoires vécues.\\nça représentait un serpent boa qui avalait un fauve.\\nvoilà la copie du dessin.on disait dans le livre : \"les serpents boas avalent leur proie tout entière, sans la mâcher.\\nensuite ils ne peuvent plus bouger et ils dorment pendant les six mois de leur digestion.\"j\\'ai alors beaucoup réfléchi sur les aventures de la jungle et, à mon tour, j\\'ai réussi, avec un crayon de couleur, à tracer mon premier dessin.\\nmon dessin numéro 1.\\nil était comme ça :j\\'ai montré mon chef-d\\'oeuvre aux grandes personnes et je leur ai demandé si mon dessin leur faisait peur.\\nelles m\\'ont répondu : \"pourquoi un chapeau ferait-il peur?\"mon dessin ne représentait pas un chapeau.\\nil représentait un serpent boa qui digérait un éléphant.\\nj\\'ai alors dessiné l\\'intérieur du serpent boa, afin que les grandes personnes puissent comprendre.\\nelles ont toujours besoin d\\'explications.\\nmon dessin numéro 2 était comme ça : les grandes personnes m\\'ont conseillé de laisser de côté les dessins de serpents boas ouverts ou fermés, et de m\\'intéresser plutôt à la géographie, à l\\'histoire, au calcul et à la grammaire.\\nc\\'est ainsi que j\\'ai abandonné, à l\\'âge de six ans, une magnifique carrière de peintre.\\nj\\'avais été découragé par l\\'insuccès de mon dessin numéro 1 et de mon dessin numéro 2.\\nles grandes personnes ne comprennent jamais rien toutes seules, et c\\'est fatigant, pour les enfants, de toujours et toujours leur donner des explications...j\\'ai donc dû choisir un autre métier et j\\'ai appris à piloter des avions.\\nj\\'ai volé un peu partout dans le monde.\\net la géographie, c\\'est exact, m\\'a beaucoup servi.\\nje savais reconnaître, du premier coup d\\'oeil, la chine de l\\'arizona.\\nc\\'est très utile, si l\\'on s\\'est égaré pendant la nuit.j\\'ai ainsi eu, au cours de ma vie, des tas de contacts avec des tas de gens sérieux.\\nj\\'ai beaucoup vécu chez les grandes personnes.\\nje les ai vues de très près.\\nça n\\'a pas trop amélioré mon opinion.quand j\\'en rencontrais une qui me paraissait un peu lucide, je faisais l\\'expérience sur elle de mon dessin numéro 1 que j\\'ai toujours conservé je voulais savoir si elle était vraiment compréhensive.\\nmais toujours elle me répondait : \"c\\'est un chapeau.\" alors je ne lui parlais ni de serpents boas, ni de forêts vierges, ni d\\'étoiles.\\nje me mettais à sa portée.\\nje lui parlais de bridge, de golf, de politique et de cravates.\\net la grande personne était bien contente de connaître un homme aussi raisonnable...j\\'ai ainsi vécu seul, sans personne avec qui parler véritablement, jusqu\\'à une panne dans le désert du sahara, il y a six ans.\\nquelque chose s\\'était cassé dans mon moteur.\\net comme je n\\'avais avec moi ni mécanicien, ni passagers, je me préparai à essayer de réussir, tout seul, une réparation difficile.\\nc\\'était pour moi une question de vie ou de mort.\\nj\\'avais à peine de l\\'eau à boire pour huit jours.le premier soir je me suis donc endormi sur le sable à mille milles de toute terre habitée.\\nj\\'étais bien plus isolé qu\\'un naufragé sur un radeau au milieu de l\\'océan.\\nalors vous imaginez ma surprise, au lever du jour, quand une drôle de petite voix m\\'a réveillé.\\nelle disait : \"s\\'il vous plaît... dessine-moi un mouton!- hein!- dessine-moi un mouton...\"j\\'ai sauté sur mes pieds comme si j\\'avais été frappé par la foudre.\\nj\\'ai bien frotté mes yeux.\\nj\\'ai bien regardé.\\net j\\'ai vu un petit bonhomme tout à fait extraordinaire qui me considérait gravement.\\nvoilà le meilleur portrait que, plus tard, j\\'ai réussi à faire de lui.\\nmais mon dessin, bien sûr, est beaucoup moins ravissant que le modèle.\\nce n\\'est pas ma faute.\\nj\\'avais été découragé dans ma carrière de peintre par les grandes personnes, à l\\'âge de six ans, et je n\\'avais rien appris à dessiner, sauf les boas fermés et les boas ouverts.je regardai donc cette apparition avec des yeux tout ronds d\\'étonnement.\\nn\\'oubliez pas que je me trouvais à mille milles de toute région habitée.\\nor mon petit bonhomme ne me semblait ni égaré, ni mort de fatigue, ni mort de faim, ni mort de soif, ni mort de peur.\\nil n\\'avait en rien l\\'apparence d\\'un enfant perdu au milieu du désert, à mille milles de toute région habitée.\\nquand je réussis enfin à parler, je lui dis:\"mais... qu\\'est-ce que tu fais là?\"et il me répéta alors, tout doucement, comme une chose très sérieuse :\"s\\'il vous plaît... dessine-moi un mouton...\"quand le mystère est trop impressionnant, on n\\'ose pas désobéir.\\naussi absurde que cela me semblât à mille milles de tous les endroits habités et en danger de mort, je sortis de ma poche une feuille de papier et un stylographe.\\nmais je me rappelai alors que j\\'avais surtout étudié la géographie, l\\'histoire, le calcul et la grammaire et je dis au petit bonhomme avec un peu de mauvaise humeur que je ne savais pas dessiner.\\nil me répondit :\"ça ne fait rien.\\ndessine-moi un mouton.\"comme je n\\'avais jamais dessiné un mouton je refis, pour lui, l\\'un des deux seuls dessins dont j\\'étais capable.\\ncelui du boa fermé.\\net je fus stupéfait d\\'entendre le petit bonhomme me répondre : \"non!\\nnon!\\nje ne veux pas d\\'un éléphant dans un boa.\\nun boa c\\'est très dangereux, et un éléphant c\\'est très encombrant.\\nchez moi c\\'est tout petit.\\nj\\'ai besoin d\\'un mouton.\\ndessine-moi un mouton.\"alors j\\'ai dessiné.\\nil regarda attentivement, puis : \"non!\\ncelui-là est très malade.\\nfais-en un autre.\" je dessinai : mon ami sourit gentiment, avec indulgence :\"tu vois bien... ce n\\'est pas un mouton, c\\'est un bélier.\\nil a des cornes...\" je refis donc encore mon dessin : mais il fut refusé, comme les précédents : \"celui-là est trop vieux.\\nje veux un mouton qui vive longtemps.\"alors, faute de patience, comme j\\'avais hâte de commencer le démontage de mon moteur, je griffonnai ce dessin-ci : et je lançai : \"ça c\\'est la caisse.\\nle mouton que tu veux est dedans.\" mais je fus bien surpris de voir s\\'illuminer le visage de mon jeune juge : \"c\\'est tout a fait comme ça que je le voulais!\\ncrois-tu qu\\'il faille beaucoup d\\'herbe à ce mouton?- pourquoi?- parce que chez moi c\\'est tout petit...- ça suffira sûrement.\\nje t\\'ai donné un tout petit mouton.\"il pencha la tête vers le dessin : \"pas si petit que ça... tiens!\\nil s\\'est endormi...\"et c\\'est ainsi que je fis la connaissance du petit prince.il me fallut longtemps pour comprendre d\\'où il venait.\\nle petit prince, qui me posait beaucoup de questions, ne semblait jamais entendre les miennes.\\nce sont des mots prononcés par hasard qui, peu à peu, m\\'ont tout révélé.\\nainsi, quand il aperçut pour la première fois mon avion, je ne dessinerai pas mon avion, c\\'est un dessin beaucoup trop compliqué pour moi, il me demanda :\"qu\\'est-ce que c\\'est que cette chose-là?- ce n\\'est pas une chose.\\nça vole.\\nc\\'est un avion.\\nc\\'est mon avion.\"et j\\'étais fier de lui apprendre que je volais.\\nalors il s\\'écria :\"comment!\\ntu es tombé du ciel!\\n- oui, fis-je modestement.- ah!\\nça c\\'est drôle!...\"et le petit prince eut un très joli éclat de rire qui m\\'irrita beaucoup.\\nje désire que l\\'on prenne mes malheurs au sérieux.\\npuis il ajouta : \"alors, toi aussi tu viens du ciel!\\nde quelle planète es-tu?\"j\\'entrevis aussitôt une lueur, dans le mystère de sa présence, et j\\'interrogeai brusquement :\"tu viens donc d\\'une autre planète?\"mais il ne me répondit pas.\\nil hochait la tête doucement tout en regardant mon avion :\"c\\'est vrai que, là-dessus, tu ne peux pas venir de bien loin...\"et il s\\'enfonça dans une rêverie qui dura longtemps.\\npuis, sortant mon mouton de sa poche, il se plongea dans la contemplation de son trésor.vous imaginez combien j\\'avais pu être intrigué par cette demi-confidence sur \"les autres planètes\". je m\\'efforçai donc d\\'en savoir plus long :\"d\\'où viens-tu, mon petit bonhomme?\\noù est-ce \"chez toi\"? où veux-tu emporter mon mouton?\"il me répondit après un silence méditatif : \"ce qui est bien, avec la caisse que tu m\\'as donnée, c\\'est que, la nuit, ça lui servira de maison.- bien sûr.\\net si tu es gentil, je te donnerai aussi une corde pour l\\'attacher pendant le jour.\\net un piquet.\"la proposition parut choquer le petit prince :\"l\\'attacher?\\nquelle drôle d\\'idée!- mais si tu ne l\\'attaches pas, il ira n\\'importe où, et il se perdra.\"et mon ami eut un nouvel éclat de rire :\"mais où veux-tu qu\\'il aille!- n\\'importe où.\\ndroit devant lui...\"alors le petit prince remarqua gravement :\"ça ne fait rien, c\\'est tellement petit, chez moi!\"et, avec un peu de mélancolie, peut-être, il ajouta :\"droit devant soi on ne peut pas aller bien loin...\"'"
      ]
     },
     "execution_count": 11,
     "metadata": {},
     "output_type": "execute_result"
    }
   ],
   "source": [
    "data"
   ]
  },
  {
   "cell_type": "markdown",
   "id": "2a67a6a0",
   "metadata": {},
   "source": [
    "# GFP for sentence - epoching on sentence end and go from there"
   ]
  },
  {
   "cell_type": "code",
   "execution_count": null,
   "id": "f6b9f650",
   "metadata": {},
   "outputs": [],
   "source": []
  },
  {
   "cell_type": "code",
   "execution_count": 1,
   "id": "7a9c5cce",
   "metadata": {},
   "outputs": [],
   "source": [
    "# Homemade imports\n",
    "from dataset import get_path, get_subjects, epoch_runs\n",
    "from plot import plot_subject\n",
    "\n",
    "# General imports\n",
    "import numpy as np\n",
    "import mne\n",
    "import hydra\n",
    "from omegaconf import DictConfig\n"
   ]
  },
  {
   "cell_type": "code",
   "execution_count": 32,
   "id": "ffa49be8",
   "metadata": {},
   "outputs": [],
   "source": [
    "path = get_path(\"LPP_read\")\n",
    "subjects = get_subjects(path)\n",
    "RUN = 1\n",
    "task = \"read\"\n",
    "subject = subjects[4]\n",
    "baseline_min = -4.0\n",
    "baseline_max = 0.5\n",
    "epoch_on = 'sentence'\n",
    "reference = \"end\""
   ]
  },
  {
   "cell_type": "code",
   "execution_count": 33,
   "id": "327068d4",
   "metadata": {},
   "outputs": [
    {
     "name": "stdout",
     "output_type": "stream",
     "text": [
      ".\n",
      " Epoching for run 01, subject: 5\n",
      "\n",
      "Opening raw data file /home/co/data/BIDS_lecture/sub-5/ses-01/meg/sub-5_ses-01_task-read_run-01_meg.fif...\n",
      "    Read a total of 13 projection items:\n",
      "        grad_ssp_upright.fif : PCA-v1 (1 x 306)  idle\n",
      "        grad_ssp_upright.fif : PCA-v2 (1 x 306)  idle\n",
      "        grad_ssp_upright.fif : PCA-v3 (1 x 306)  idle\n",
      "        grad_ssp_upright.fif : PCA-v4 (1 x 306)  idle\n",
      "        grad_ssp_upright.fif : PCA-v5 (1 x 306)  idle\n",
      "        mag_ssp_upright.fif : PCA-v1 (1 x 306)  idle\n",
      "        mag_ssp_upright.fif : PCA-v2 (1 x 306)  idle\n",
      "        mag_ssp_upright.fif : PCA-v3 (1 x 306)  idle\n",
      "        mag_ssp_upright.fif : PCA-v4 (1 x 306)  idle\n",
      "        mag_ssp_upright.fif : PCA-v5 (1 x 306)  idle\n",
      "        mag_ssp_upright.fif : PCA-v6 (1 x 306)  idle\n",
      "        mag_ssp_upright.fif : PCA-v7 (1 x 306)  idle\n",
      "        mag_ssp_upright.fif : PCA-v8 (1 x 306)  idle\n",
      "    Range : 89000 ... 554999 =     89.000 ...   554.999 secs\n",
      "Ready.\n",
      "Reading events from /home/co/data/BIDS_lecture/sub-5/ses-01/meg/sub-5_ses-01_task-read_run-01_events.tsv.\n",
      "Reading channel info from /home/co/data/BIDS_lecture/sub-5/ses-01/meg/sub-5_ses-01_task-read_run-01_channels.tsv.\n",
      "Using 4 HPI coils: 293 307 314 321 Hz\n",
      "Not fully anonymizing info - keeping his_id, sex, and hand info\n",
      "Reading 0 ... 465999  =      0.000 ...   465.999 secs...\n"
     ]
    },
    {
     "name": "stderr",
     "output_type": "stream",
     "text": [
      "/home/co/workspace_LPP/code/neurospin-petit-prince/decoding/reading/dataset.py:99: RuntimeWarning: This file contains raw Internal Active Shielding data. It may be distorted. Elekta recommends it be run through MaxFilter to produce reliable results. Consider closing the file and running MaxFilter on the data.\n",
      "  raw = mne_bids.read_raw_bids(bids_path)\n",
      "/home/co/workspace_LPP/code/neurospin-petit-prince/decoding/reading/dataset.py:99: RuntimeWarning: Omitted 128 annotation(s) that were outside data range.\n",
      "  raw = mne_bids.read_raw_bids(bids_path)\n",
      "/home/co/workspace_LPP/code/neurospin-petit-prince/decoding/reading/dataset.py:99: RuntimeWarning: Limited 1 annotation(s) that were expanding outside the data range.\n",
      "  raw = mne_bids.read_raw_bids(bids_path)\n",
      "/home/co/workspace_LPP/code/neurospin-petit-prince/decoding/reading/dataset.py:99: RuntimeWarning: The unit for channel(s) STI001, STI002, STI003, STI004, STI005, STI006, STI007, STI008, STI009, STI010, STI011, STI012, STI013, STI014, STI015, STI016, STI101, STI201, STI301 has changed from V to NA.\n",
      "  raw = mne_bids.read_raw_bids(bids_path)\n"
     ]
    },
    {
     "name": "stdout",
     "output_type": "stream",
     "text": [
      "Filtering raw data in 1 contiguous segment\n",
      "Setting up band-pass filter from 0.5 - 20 Hz\n",
      "\n",
      "FIR filter parameters\n",
      "---------------------\n",
      "Designing a one-pass, zero-phase, non-causal bandpass filter:\n",
      "- Windowed time-domain design (firwin) method\n",
      "- Hamming window with 0.0194 passband ripple and 53 dB stopband attenuation\n",
      "- Lower passband edge: 0.50\n",
      "- Lower transition bandwidth: 0.50 Hz (-6 dB cutoff frequency: 0.25 Hz)\n",
      "- Upper passband edge: 20.00 Hz\n",
      "- Upper transition bandwidth: 5.00 Hz (-6 dB cutoff frequency: 22.50 Hz)\n",
      "- Filter length: 6601 samples (6.601 sec)\n",
      "\n"
     ]
    },
    {
     "name": "stderr",
     "output_type": "stream",
     "text": [
      "[Parallel(n_jobs=1)]: Using backend SequentialBackend with 1 concurrent workers.\n",
      "[Parallel(n_jobs=1)]: Done   1 out of   1 | elapsed:    0.0s remaining:    0.0s\n",
      "[Parallel(n_jobs=1)]: Done   2 out of   2 | elapsed:    0.0s remaining:    0.0s\n",
      "[Parallel(n_jobs=1)]: Done   3 out of   3 | elapsed:    0.1s remaining:    0.0s\n",
      "[Parallel(n_jobs=1)]: Done   4 out of   4 | elapsed:    0.1s remaining:    0.0s\n"
     ]
    },
    {
     "name": "stdout",
     "output_type": "stream",
     "text": [
      "1468 events found\n",
      "Event IDs: [ 1  2  3  4  5  6  7  8  9 10 11 12 13 14 15]\n"
     ]
    },
    {
     "name": "stderr",
     "output_type": "stream",
     "text": [
      "[Parallel(n_jobs=1)]: Done 306 out of 306 | elapsed:    7.1s finished\n"
     ]
    },
    {
     "name": "stdout",
     "output_type": "stream",
     "text": [
      "155 157\n"
     ]
    },
    {
     "ename": "AssertionError",
     "evalue": "",
     "output_type": "error",
     "traceback": [
      "\u001b[0;31m---------------------------------------------------------------------------\u001b[0m",
      "\u001b[0;31mAssertionError\u001b[0m                            Traceback (most recent call last)",
      "Cell \u001b[0;32mIn[33], line 1\u001b[0m\n\u001b[0;32m----> 1\u001b[0m epochs \u001b[38;5;241m=\u001b[39m \u001b[43mepoch_runs\u001b[49m\u001b[43m(\u001b[49m\u001b[43msubject\u001b[49m\u001b[43m,\u001b[49m\u001b[43m \u001b[49m\u001b[43mRUN\u001b[49m\u001b[43m,\u001b[49m\u001b[43m \u001b[49m\u001b[43mtask\u001b[49m\u001b[43m,\u001b[49m\u001b[43m \u001b[49m\u001b[43mpath\u001b[49m\u001b[43m,\u001b[49m\u001b[43m \u001b[49m\u001b[43mbaseline_min\u001b[49m\u001b[43m,\u001b[49m\u001b[43mbaseline_max\u001b[49m\u001b[43m,\u001b[49m\u001b[43m \u001b[49m\u001b[43mepoch_on\u001b[49m\u001b[38;5;241;43m=\u001b[39;49m\u001b[43mepoch_on\u001b[49m\u001b[43m \u001b[49m\u001b[43m,\u001b[49m\u001b[43mreference\u001b[49m\u001b[38;5;241;43m=\u001b[39;49m\u001b[43mreference\u001b[49m\u001b[43m)\u001b[49m\n",
      "File \u001b[0;32m~/workspace_LPP/code/neurospin-petit-prince/decoding/reading/dataset.py:296\u001b[0m, in \u001b[0;36mepoch_runs\u001b[0;34m(subject, run, task, path, baseline_min, baseline_max, epoch_on, reference)\u001b[0m\n\u001b[1;32m    294\u001b[0m \u001b[38;5;28;01mfor\u001b[39;00m run_id \u001b[38;5;129;01min\u001b[39;00m \u001b[38;5;28mrange\u001b[39m(\u001b[38;5;241m1\u001b[39m, run \u001b[38;5;241m+\u001b[39m \u001b[38;5;241m1\u001b[39m):\n\u001b[1;32m    295\u001b[0m     \u001b[38;5;28mprint\u001b[39m(\u001b[38;5;124m\"\u001b[39m\u001b[38;5;124m.\u001b[39m\u001b[38;5;124m\"\u001b[39m, end\u001b[38;5;241m=\u001b[39m\u001b[38;5;124m\"\u001b[39m\u001b[38;5;124m\"\u001b[39m)\n\u001b[0;32m--> 296\u001b[0m     epo \u001b[38;5;241m=\u001b[39m \u001b[43mepoch_data\u001b[49m\u001b[43m(\u001b[49m\n\u001b[1;32m    297\u001b[0m \u001b[43m        \u001b[49m\u001b[43msubject\u001b[49m\u001b[43m,\u001b[49m\n\u001b[1;32m    298\u001b[0m \u001b[43m        \u001b[49m\u001b[38;5;124;43m\"\u001b[39;49m\u001b[38;5;132;43;01m%.2i\u001b[39;49;00m\u001b[38;5;124;43m\"\u001b[39;49m\u001b[43m \u001b[49m\u001b[38;5;241;43m%\u001b[39;49m\u001b[43m \u001b[49m\u001b[43mrun_id\u001b[49m\u001b[43m,\u001b[49m\n\u001b[1;32m    299\u001b[0m \u001b[43m        \u001b[49m\u001b[43mtask\u001b[49m\u001b[43m,\u001b[49m\n\u001b[1;32m    300\u001b[0m \u001b[43m        \u001b[49m\u001b[43mpath\u001b[49m\u001b[43m,\u001b[49m\n\u001b[1;32m    301\u001b[0m \u001b[43m        \u001b[49m\u001b[43mbaseline_min\u001b[49m\u001b[43m,\u001b[49m\n\u001b[1;32m    302\u001b[0m \u001b[43m        \u001b[49m\u001b[43mbaseline_max\u001b[49m\u001b[43m,\u001b[49m\n\u001b[1;32m    303\u001b[0m \u001b[43m        \u001b[49m\u001b[43mepoch_on\u001b[49m\u001b[38;5;241;43m=\u001b[39;49m\u001b[43mepoch_on\u001b[49m\u001b[43m,\u001b[49m\n\u001b[1;32m    304\u001b[0m \u001b[43m        \u001b[49m\u001b[43mreference\u001b[49m\u001b[38;5;241;43m=\u001b[39;49m\u001b[43mreference\u001b[49m\u001b[43m,\u001b[49m\n\u001b[1;32m    305\u001b[0m \u001b[43m    \u001b[49m\u001b[43m)\u001b[49m\n\u001b[1;32m    306\u001b[0m     epo\u001b[38;5;241m.\u001b[39mmetadata[\u001b[38;5;124m\"\u001b[39m\u001b[38;5;124mlabel\u001b[39m\u001b[38;5;124m\"\u001b[39m] \u001b[38;5;241m=\u001b[39m \u001b[38;5;124mf\u001b[39m\u001b[38;5;124m\"\u001b[39m\u001b[38;5;124mrun_\u001b[39m\u001b[38;5;132;01m{\u001b[39;00mrun_id\u001b[38;5;132;01m}\u001b[39;00m\u001b[38;5;124m\"\u001b[39m\n\u001b[1;32m    307\u001b[0m     epochs\u001b[38;5;241m.\u001b[39mappend(epo)\n",
      "File \u001b[0;32m~/workspace_LPP/code/neurospin-petit-prince/decoding/reading/dataset.py:183\u001b[0m, in \u001b[0;36mepoch_data\u001b[0;34m(subject, run_id, task, path, baseline_min, baseline_max, filter, epoch_on, reference)\u001b[0m\n\u001b[1;32m    181\u001b[0m meta \u001b[38;5;241m=\u001b[39m meta[meta[column] \u001b[38;5;241m==\u001b[39m value]\n\u001b[1;32m    182\u001b[0m \u001b[38;5;28mprint\u001b[39m(meta\u001b[38;5;241m.\u001b[39mshape[\u001b[38;5;241m0\u001b[39m], embeds\u001b[38;5;241m.\u001b[39mshape[\u001b[38;5;241m0\u001b[39m])\n\u001b[0;32m--> 183\u001b[0m \u001b[38;5;28;01massert\u001b[39;00m embeds\u001b[38;5;241m.\u001b[39mshape[\u001b[38;5;241m0\u001b[39m] \u001b[38;5;241m==\u001b[39m meta\u001b[38;5;241m.\u001b[39mshape[\u001b[38;5;241m0\u001b[39m]\n\u001b[1;32m    184\u001b[0m meta[\u001b[38;5;124m\"\u001b[39m\u001b[38;5;124mlaser\u001b[39m\u001b[38;5;124m\"\u001b[39m] \u001b[38;5;241m=\u001b[39m [emb \u001b[38;5;28;01mfor\u001b[39;00m emb \u001b[38;5;129;01min\u001b[39;00m embeds]\n\u001b[1;32m    185\u001b[0m \u001b[38;5;28mprint\u001b[39m(\u001b[38;5;124m\"\u001b[39m\u001b[38;5;124mAdded embeddings\u001b[39m\u001b[38;5;124m\"\u001b[39m)\n",
      "\u001b[0;31mAssertionError\u001b[0m: "
     ]
    }
   ],
   "source": [
    "epochs = epoch_runs(subject, RUN, task, path, baseline_min,baseline_max, epoch_on=epoch_on ,reference=reference)"
   ]
  },
  {
   "cell_type": "code",
   "execution_count": 31,
   "id": "d50b813f",
   "metadata": {
    "scrolled": true
   },
   "outputs": [
    {
     "ename": "NameError",
     "evalue": "name 'epochs' is not defined",
     "output_type": "error",
     "traceback": [
      "\u001b[0;31m---------------------------------------------------------------------------\u001b[0m",
      "\u001b[0;31mNameError\u001b[0m                                 Traceback (most recent call last)",
      "Cell \u001b[0;32mIn[31], line 1\u001b[0m\n\u001b[0;32m----> 1\u001b[0m \u001b[43mepochs\u001b[49m\u001b[38;5;241m.\u001b[39mmetadata\n\u001b[1;32m      3\u001b[0m test \u001b[38;5;241m=\u001b[39m [\u001b[38;5;28;01mTrue\u001b[39;00m \u001b[38;5;28;01mif\u001b[39;00m epochs\u001b[38;5;241m.\u001b[39mmetadata\u001b[38;5;241m.\u001b[39monset\u001b[38;5;241m.\u001b[39miloc[i\u001b[38;5;241m+\u001b[39m\u001b[38;5;241m1\u001b[39m]\u001b[38;5;241m-\u001b[39mepochs\u001b[38;5;241m.\u001b[39mmetadata\u001b[38;5;241m.\u001b[39monset\u001b[38;5;241m.\u001b[39miloc[i]\u001b[38;5;241m>\u001b[39m\u001b[38;5;241m0.4\u001b[39m \u001b[38;5;28;01melse\u001b[39;00m \u001b[38;5;28;01mFalse\u001b[39;00m \u001b[38;5;28;01mfor\u001b[39;00m i, _ \u001b[38;5;129;01min\u001b[39;00m \u001b[38;5;28menumerate\u001b[39m(epochs\u001b[38;5;241m.\u001b[39mmetadata\u001b[38;5;241m.\u001b[39mvalues[:\u001b[38;5;241m-\u001b[39m\u001b[38;5;241m1\u001b[39m])]\n\u001b[1;32m      4\u001b[0m \u001b[38;5;28msum\u001b[39m(test)\n",
      "\u001b[0;31mNameError\u001b[0m: name 'epochs' is not defined"
     ]
    }
   ],
   "source": [
    "epochs.metadata\n",
    "\n",
    "test = [True if epochs.metadata.onset.iloc[i+1]-epochs.metadata.onset.iloc[i]>0.4 else False for i, _ in enumerate(epochs.metadata.values[:-1])]\n",
    "sum(test)\n",
    "test.append(True)\n",
    "sum(test)"
   ]
  },
  {
   "cell_type": "code",
   "execution_count": null,
   "id": "c933a2fb",
   "metadata": {},
   "outputs": [],
   "source": [
    "epochs.metadata[:-1]"
   ]
  },
  {
   "cell_type": "code",
   "execution_count": null,
   "id": "db0470ab",
   "metadata": {},
   "outputs": [],
   "source": [
    "for i, _ in enumerate(epochs.metadata.values[:-1]):\n",
    "    print(_)"
   ]
  },
  {
   "cell_type": "code",
   "execution_count": null,
   "id": "1432d2c1",
   "metadata": {},
   "outputs": [],
   "source": [
    "from dataset import get_code_path\n",
    "import pandas as pd\n",
    "i = 1\n",
    "timings = pd.read_csv(f'{get_code_path()}/experiments/formatting/decoding_tsv_v2/run{i}_v2.tsv', sep='\\t')"
   ]
  },
  {
   "cell_type": "code",
   "execution_count": null,
   "id": "37a6b74e",
   "metadata": {},
   "outputs": [],
   "source": [
    "timings"
   ]
  },
  {
   "cell_type": "code",
   "execution_count": null,
   "id": "6b59cf72",
   "metadata": {
    "scrolled": true
   },
   "outputs": [],
   "source": [
    "dim = 1024\n",
    "X = np.fromfile(\"./../../data/laser_embeddings/emb_1-3.bin\", dtype=np.float32, count=-1) \n",
    "X.resize(X.shape[0] // dim, dim) "
   ]
  },
  {
   "cell_type": "code",
   "execution_count": null,
   "id": "8aa89a7c",
   "metadata": {},
   "outputs": [],
   "source": [
    "X.shape"
   ]
  },
  {
   "cell_type": "code",
   "execution_count": null,
   "id": "3002f114",
   "metadata": {},
   "outputs": [],
   "source": [
    "ls ./../.."
   ]
  },
  {
   "cell_type": "code",
   "execution_count": null,
   "id": "7ec9a8ec",
   "metadata": {
    "scrolled": true
   },
   "outputs": [],
   "source": [
    "evo = epochs.average(method=\"median\")\n",
    "evo.plot(gfp='only')"
   ]
  },
  {
   "cell_type": "code",
   "execution_count": null,
   "id": "a8dae2ef",
   "metadata": {},
   "outputs": [],
   "source": [
    "epochs.events"
   ]
  },
  {
   "cell_type": "code",
   "execution_count": null,
   "id": "1f15b86e",
   "metadata": {},
   "outputs": [],
   "source": [
    "def epochs_(epochs, column, value):\n",
    "    meta  = epochs.metadata\n",
    "    subset = meta[meta[column]==value].level_0\n",
    "    return epochs[subset]\n"
   ]
  },
  {
   "cell_type": "code",
   "execution_count": null,
   "id": "62ba0ee8",
   "metadata": {
    "scrolled": false
   },
   "outputs": [],
   "source": [
    "epochs.metadata['n_closing'][:50]"
   ]
  },
  {
   "cell_type": "code",
   "execution_count": null,
   "id": "69967734",
   "metadata": {},
   "outputs": [],
   "source": [
    "epochs_(epochs,'is_last_word',True)"
   ]
  },
  {
   "cell_type": "code",
   "execution_count": null,
   "id": "95c0cbc3",
   "metadata": {
    "scrolled": true
   },
   "outputs": [],
   "source": [
    "import matplotlib.pyplot as plt\n",
    "# Build a 3x2 plot, with for each condition (sentence, word, constituent), and for (start, end),\n",
    "# the ERP associated\n",
    "cond = {'sentence': {'column':'is_last_word','target':True},\n",
    "        'word': {'column':'kind','target':'word'},\n",
    "        'constituent': {'column':'n_closing','target':2}}\n",
    "\n",
    "cases = {'start', 'end'}\n",
    "\n",
    "i = 1\n",
    "for condi in cond:\n",
    "    for case in cases:\n",
    "        ep = epochs_(epochs, cond[condi]['column'], cond[condi]['target'])\n",
    "        ax = fig.add_subplot(3, 2, i)\n",
    "        #ep.average().plot(gfp='only')\n",
    "        evo = ep.average(method=\"median\")\n",
    "        evo.plot(spatial_colors=True)\n",
    "        i = i + 1\n",
    "        ax.set_title(f'Plot {cond}')\n",
    "\n",
    "\n",
    "plt.show()\n"
   ]
  },
  {
   "cell_type": "code",
   "execution_count": null,
   "id": "f3217312",
   "metadata": {},
   "outputs": [],
   "source": [
    "epochs_4 = epochs_(epochs, 'n_closing', 4)"
   ]
  },
  {
   "cell_type": "code",
   "execution_count": null,
   "id": "d9bb4772",
   "metadata": {},
   "outputs": [],
   "source": [
    "epochs_4.average().plot(gfp='only')"
   ]
  },
  {
   "cell_type": "code",
   "execution_count": null,
   "id": "135d50c8",
   "metadata": {},
   "outputs": [],
   "source": [
    "evo = epochs.average(method=\"median\")\n",
    "evo.plot(spatial_colors=True)"
   ]
  },
  {
   "cell_type": "code",
   "execution_count": null,
   "id": "13f5e02d",
   "metadata": {
    "scrolled": true
   },
   "outputs": [],
   "source": [
    "metadata_subset"
   ]
  },
  {
   "cell_type": "code",
   "execution_count": null,
   "id": "f7a87839",
   "metadata": {},
   "outputs": [],
   "source": [
    "from mne import Epochs\n",
    "\n",
    "class CustomEpochs(Epochs):\n",
    "\n",
    "    def __getitem__(self, key):\n",
    "        # Parse the key into metadata field name and value\n",
    "        field, value = key.split('==')\n",
    "        field = field.strip()\n",
    "        value = value.strip()\n",
    "\n",
    "        # Get the indices of the epochs that match the metadata query\n",
    "        indices = [i for i, metadata in enumerate(self.metadata[field]) if metadata == value]\n",
    "\n",
    "        # Return a new Epochs object containing only the matching epochs\n",
    "        return self.__class__(self._data[indices], self.events[indices], self.event_id,\n",
    "                              tmin=self.tmin, tmax=self.tmax, baseline=self.baseline,\n",
    "                              metadata=self.metadata.iloc[indices], info=self.info)\n",
    "\n"
   ]
  },
  {
   "cell_type": "code",
   "execution_count": null,
   "id": "9a7c8177",
   "metadata": {},
   "outputs": [],
   "source": [
    "custom_epochs = CustomEpochs(epochs, epochs.events, \"1\", -0.2, 0.8, epochs.baseline, epochs.metadata)\n",
    "\n",
    "# Get all epochs where the 'kind' metadata field is 'word':\n",
    "word_epochs = custom_epochs['kind==word']"
   ]
  },
  {
   "cell_type": "code",
   "execution_count": null,
   "id": "07344132",
   "metadata": {},
   "outputs": [],
   "source": [
    "custom_epochs['kind==\"word\"']"
   ]
  },
  {
   "cell_type": "code",
   "execution_count": null,
   "id": "614e9b74",
   "metadata": {},
   "outputs": [],
   "source": [
    "# epoch\n",
    "def mne_events(meta):\n",
    "    events = np.ones((len(meta), 3), dtype=int)\n",
    "    events[:, 0] = meta.start*raw.info['sfreq']\n",
    "    return dict(events=events, metadata=meta.reset_index())\n",
    "\n",
    "epochs = mne.Epochs(raw, **mne_events(meta), decim=20, tmin=-.2, tmax=1.5, preload=True)\n",
    "epochs = epochs['kind==\"word\"']"
   ]
  },
  {
   "cell_type": "code",
   "execution_count": null,
   "id": "242e0658",
   "metadata": {},
   "outputs": [],
   "source": [
    "from dataset import get_path, get_subjects, epoch_data, epoch_runs\n",
    "from utils import (\n",
    "    decod,\n",
    "    correlate,\n",
    "    match_list,\n",
    "    create_target,\n",
    "    analysis,\n",
    "    save_decoding_results,\n",
    ")\n",
    "from plot import plot_subject\n",
    "import mne_bids\n",
    "from pathlib import Path\n",
    "import pandas as pd\n",
    "import numpy as np\n",
    "import mne\n",
    "import spacy\n",
    "from sklearn.model_selection import KFold, cross_val_predict\n",
    "from sklearn.pipeline import make_pipeline\n",
    "from sklearn.preprocessing import StandardScaler, RobustScaler\n",
    "from sklearn.linear_model import RidgeCV\n",
    "from wordfreq import zipf_frequency\n",
    "from Levenshtein import editops\n",
    "import matplotlib.pyplot as plt"
   ]
  },
  {
   "cell_type": "code",
   "execution_count": null,
   "id": "9d07ec8d",
   "metadata": {},
   "outputs": [],
   "source": [
    "path = get_path(\"LPP_read\")\n",
    "subjects = get_subjects(path)\n",
    "RUN = 9\n",
    "task = \"read\"\n",
    "subject = subjects[4]"
   ]
  },
  {
   "cell_type": "code",
   "execution_count": null,
   "id": "c856d515",
   "metadata": {
    "scrolled": true
   },
   "outputs": [],
   "source": [
    "epochs = epoch_runs(subject, RUN, task, path)"
   ]
  },
  {
   "cell_type": "code",
   "execution_count": null,
   "id": "5b0915f9",
   "metadata": {},
   "outputs": [],
   "source": [
    "(epochs.metadata).dtype"
   ]
  },
  {
   "cell_type": "code",
   "execution_count": null,
   "id": "ddb1ca34",
   "metadata": {},
   "outputs": [],
   "source": [
    "epochs.load_data()\n",
    "epochs = epochs['kind==\"word\"']\n",
    "epochs[\"content_word == False\"]"
   ]
  },
  {
   "cell_type": "code",
   "execution_count": null,
   "id": "a7298b07",
   "metadata": {},
   "outputs": [],
   "source": []
  }
 ],
 "metadata": {
  "kernelspec": {
   "display_name": "Python 3 (ipykernel)",
   "language": "python",
   "name": "python3"
  },
  "language_info": {
   "codemirror_mode": {
    "name": "ipython",
    "version": 3
   },
   "file_extension": ".py",
   "mimetype": "text/x-python",
   "name": "python",
   "nbconvert_exporter": "python",
   "pygments_lexer": "ipython3",
   "version": "3.10.4"
  }
 },
 "nbformat": 4,
 "nbformat_minor": 5
}
