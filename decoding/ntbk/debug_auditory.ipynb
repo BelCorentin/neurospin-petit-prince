{
 "cells": [
  {
   "cell_type": "markdown",
   "id": "265b5bb5-3e49-4624-b42d-583ad1100997",
   "metadata": {},
   "source": [
    "# Table of contents\n",
    "\n",
    "## Testing triggers in metadata vs audio file\n",
    "\n",
    "We test here whether there is a difference between the triggers encoded in the audio file (that is played and we get in the MEG) and the metadata.\n",
    "Conclusion: no differences...\n",
    "\n",
    "\n",
    "## MEG Triggers Vs the others\n",
    "\n",
    "Now we test, for multiple runs / subjects, what is the length of the measured triggers (bad news: it's bad, the number of triggers is almost always more in the MEG than in the original audio...). Same for the length: the difference between the first and the last trigger is always longer in the MEG triggers...\n",
    "\n",
    "## Testing the shortest event parameter\n",
    "\n",
    "No difference in the amount of triggers, whether the shortest_event parameter is [0.001;10]\n"
   ]
  },
  {
   "cell_type": "code",
   "execution_count": 2,
   "id": "998fb940-2909-4442-ac0a-5a008b032679",
   "metadata": {},
   "outputs": [],
   "source": [
    "# Constants\n",
    "from pathlib import Path\n",
    "\n",
    "# Neuro\n",
    "import mne\n",
    "import mne_bids\n",
    "\n",
    "# ML/Data\n",
    "import numpy as np\n",
    "import pandas as pd\n",
    "\n",
    "# Tools\n",
    "from pathlib import Path\n",
    "import os\n",
    "import matplotlib.pyplot as plt\n",
    "\n",
    "from utils import get_path\n",
    "from utils import (\n",
    "    match_list,\n",
    "    add_syntax,\n",
    "    mne_events,\n",
    "    decoding_from_criterion,\n",
    "    get_code_path,\n",
    "    get_path,\n",
    ")\n",
    "\n",
    "\n",
    "modality = \"auditory\"\n",
    "subject = '2'\n",
    "run_id = \"01\"\n",
    "\n",
    "t7_folder = Path(\"/media/co/T7/workspace-LPP/data/MEG/LPP/PallierListen2023/download\")\n",
    "\n",
    "modality = 'auditory'"
   ]
  },
  {
   "cell_type": "code",
   "execution_count": 5,
   "id": "aa57d583-117c-44a8-b062-5c0a34e7989d",
   "metadata": {},
   "outputs": [],
   "source": [
    "# Create a function so that we can iterate on subjects / runs\n",
    "\n",
    "def epochs_and_match(subject, run):\n",
    "    \n",
    "    path = t7_folder\n",
    "    task_map = {\"auditory\": \"listen\", \"visual\": \"read\", \"fmri\": \"listen\"}\n",
    "    task = task_map[modality]\n",
    "    print(f\"\\n Epoching for run {run}, subject: {subject}\\n\")\n",
    "    run_id = '0' + str(run) \n",
    "    bids_path = mne_bids.BIDSPath(\n",
    "        subject=subject,\n",
    "        session=\"01\",\n",
    "        task=task,\n",
    "        datatype=\"meg\",\n",
    "        root=path,\n",
    "        run=run_id,\n",
    "    )\n",
    "\n",
    "    raw = mne_bids.read_raw_bids(bids_path)\n",
    "    # triggers = mne.find_events(raw, stim_channel=\"STI101\", shortest_event=1)\n",
    "    triggers = mne.find_events(raw, stim_channel=\"STI101\", shortest_event=1)\n",
    "\n",
    "    raw.del_proj()  # To fix proj issues\n",
    "    raw.pick_types(meg=True, stim=True, misc=True)\n",
    "    raw.load_data()\n",
    "\n",
    "    # Generate event_file path\n",
    "    event_file = path / f\"sub-{bids_path.subject}\"\n",
    "    event_file = event_file / f\"ses-{bids_path.session}\"\n",
    "    event_file = event_file / \"meg\"\n",
    "    event_file = str(event_file / f\"sub-{bids_path.subject}\")\n",
    "    event_file += f\"_ses-{bids_path.session}\"\n",
    "    event_file += f\"_task-{bids_path.task}\"\n",
    "    event_file += f\"_run-{bids_path.run}_events.tsv\"\n",
    "    assert Path(event_file).exists()\n",
    "\n",
    "    meta = pd.read_csv(event_file, sep=\"\\t\")\n",
    "\n",
    "    meta['start'] = meta.onset\n",
    "    \n",
    "    words = meta\n",
    "\n",
    "    events_df = meta\n",
    "    # Triggers from the MEG: :, 2 is the trigger value: 1 is a word, 128 is the start / end\n",
    "    word_triggers = triggers[triggers[:, 2] > 1]\n",
    "    \n",
    "    \"\"\"\n",
    "    # What's the point of epoching first? Since we epoch using the metadata anyway...\n",
    "    # Look further: when epoching like that, the STI channel is messed up / not aligned\n",
    "    first_meg_trigger = triggers[0][0]\n",
    "\n",
    "    def mne_events(meta):\n",
    "        events = np.ones((len(meta), 3), dtype=int)\n",
    "        #events[:, 0] = (meta.start*raw.info['sfreq'])\n",
    "        events[:, 0] = first_meg_trigger + (meta.start*raw.info['sfreq'])\n",
    "        return dict(events=events, metadata=meta.reset_index())\n",
    "\n",
    "    raw.filter(.5, 20., n_jobs=-1)\n",
    "\n",
    "    epochs = mne.Epochs(raw, **mne_events(meta), decim=10, tmin=-.2, tmax=.8)\n",
    "    \n",
    "    \n",
    "    epochs.load_data()\n",
    "    \"\"\"\n",
    "    \n",
    "    events_df[\"word\"] = meta[\"trial_type\"].apply(\n",
    "            lambda x: eval(x)[\"word\"] if type(eval(x)) == dict else np.nan)\n",
    "\n",
    "    decimals = 2\n",
    "    triggers_delta = np.round(np.diff(word_triggers[:, 0] / raw.info[\"sfreq\"]), decimals=decimals)  # type: ignore\n",
    "    events_delta = np.round(np.diff(words.start.values), decimals=decimals)  # type: ignore\n",
    "    i, j = match_list(triggers_delta, events_delta)\n",
    "\n",
    "    assert len(i) / len(words) > 0.7, (\n",
    "        error_msg_prefix\n",
    "        + f\"only {len(i)/len(words)} of the words were found in the triggers\"\n",
    "    )\n",
    "    print(f\"Found {len(i)/len(words)} of the words in the triggers\")\n",
    "\n",
    "    true_indices = words.iloc[j].index\n",
    "\n",
    "    # Find the missing words df\n",
    "    opposite_indices = events_df.index.difference(true_indices)\n",
    "    opposite_events_df = events_df.loc[opposite_indices]\n",
    "\n",
    "\n",
    "    events_df = events_df.loc[true_indices].copy()\n",
    "\n",
    "    events_df.loc[true_indices, \"start\"] = (\n",
    "        word_triggers[i, 0] / raw.info[\"sfreq\"]\n",
    "    )\n",
    "\n",
    "    metadata_words = meta\n",
    "    matched_words = events_df\n",
    "\n",
    "    # Match list between the two events arrays\n",
    "    idx2, idx = match_list((metadata_words.word.values), (matched_words.word.values))\n",
    "\n",
    "    # Plot the two matched arrays\n",
    "    plt.title(\"Trigger shift, over {len(i)}\")\n",
    "    plt.plot(metadata_words.start.values[idx2]- matched_words.start.values[idx])\n",
    "    plt.save_fig(f'plot_shift_{run}_{subject}.png')\n"
   ]
  },
  {
   "cell_type": "code",
   "execution_count": 6,
   "id": "52991c7c-5ffe-4da7-9643-e5622750dec5",
   "metadata": {},
   "outputs": [
    {
     "name": "stdout",
     "output_type": "stream",
     "text": [
      "\n",
      " Epoching for run 1, subject: 0\n",
      "\n"
     ]
    },
    {
     "ename": "TypeError",
     "evalue": "subject must be an instance of None or str, got <class 'int'> instead.",
     "output_type": "error",
     "traceback": [
      "\u001b[0;31m---------------------------------------------------------------------------\u001b[0m",
      "\u001b[0;31mTypeError\u001b[0m                                 Traceback (most recent call last)",
      "Cell \u001b[0;32mIn [6], line 3\u001b[0m\n\u001b[1;32m      1\u001b[0m \u001b[38;5;28;01mfor\u001b[39;00m subject \u001b[38;5;129;01min\u001b[39;00m \u001b[38;5;28mrange\u001b[39m(\u001b[38;5;241m58\u001b[39m):\n\u001b[1;32m      2\u001b[0m     \u001b[38;5;28;01mfor\u001b[39;00m run \u001b[38;5;129;01min\u001b[39;00m \u001b[38;5;28mrange\u001b[39m(\u001b[38;5;241m1\u001b[39m,\u001b[38;5;241m10\u001b[39m):\n\u001b[0;32m----> 3\u001b[0m         epochs \u001b[38;5;241m=\u001b[39m \u001b[43mepochs_and_match\u001b[49m\u001b[43m(\u001b[49m\u001b[43msubject\u001b[49m\u001b[43m,\u001b[49m\u001b[43m \u001b[49m\u001b[43mrun\u001b[49m\u001b[43m)\u001b[49m\n",
      "Cell \u001b[0;32mIn [5], line 10\u001b[0m, in \u001b[0;36mepochs_and_match\u001b[0;34m(subject, run)\u001b[0m\n\u001b[1;32m      8\u001b[0m \u001b[38;5;28mprint\u001b[39m(\u001b[38;5;124mf\u001b[39m\u001b[38;5;124m\"\u001b[39m\u001b[38;5;130;01m\\n\u001b[39;00m\u001b[38;5;124m Epoching for run \u001b[39m\u001b[38;5;132;01m{\u001b[39;00mrun\u001b[38;5;132;01m}\u001b[39;00m\u001b[38;5;124m, subject: \u001b[39m\u001b[38;5;132;01m{\u001b[39;00msubject\u001b[38;5;132;01m}\u001b[39;00m\u001b[38;5;130;01m\\n\u001b[39;00m\u001b[38;5;124m\"\u001b[39m)\n\u001b[1;32m      9\u001b[0m run_id \u001b[38;5;241m=\u001b[39m \u001b[38;5;124m'\u001b[39m\u001b[38;5;124m0\u001b[39m\u001b[38;5;124m'\u001b[39m \u001b[38;5;241m+\u001b[39m \u001b[38;5;28mstr\u001b[39m(run) \n\u001b[0;32m---> 10\u001b[0m bids_path \u001b[38;5;241m=\u001b[39m \u001b[43mmne_bids\u001b[49m\u001b[38;5;241;43m.\u001b[39;49m\u001b[43mBIDSPath\u001b[49m\u001b[43m(\u001b[49m\n\u001b[1;32m     11\u001b[0m \u001b[43m    \u001b[49m\u001b[43msubject\u001b[49m\u001b[38;5;241;43m=\u001b[39;49m\u001b[43msubject\u001b[49m\u001b[43m,\u001b[49m\n\u001b[1;32m     12\u001b[0m \u001b[43m    \u001b[49m\u001b[43msession\u001b[49m\u001b[38;5;241;43m=\u001b[39;49m\u001b[38;5;124;43m\"\u001b[39;49m\u001b[38;5;124;43m01\u001b[39;49m\u001b[38;5;124;43m\"\u001b[39;49m\u001b[43m,\u001b[49m\n\u001b[1;32m     13\u001b[0m \u001b[43m    \u001b[49m\u001b[43mtask\u001b[49m\u001b[38;5;241;43m=\u001b[39;49m\u001b[43mtask\u001b[49m\u001b[43m,\u001b[49m\n\u001b[1;32m     14\u001b[0m \u001b[43m    \u001b[49m\u001b[43mdatatype\u001b[49m\u001b[38;5;241;43m=\u001b[39;49m\u001b[38;5;124;43m\"\u001b[39;49m\u001b[38;5;124;43mmeg\u001b[39;49m\u001b[38;5;124;43m\"\u001b[39;49m\u001b[43m,\u001b[49m\n\u001b[1;32m     15\u001b[0m \u001b[43m    \u001b[49m\u001b[43mroot\u001b[49m\u001b[38;5;241;43m=\u001b[39;49m\u001b[43mpath\u001b[49m\u001b[43m,\u001b[49m\n\u001b[1;32m     16\u001b[0m \u001b[43m    \u001b[49m\u001b[43mrun\u001b[49m\u001b[38;5;241;43m=\u001b[39;49m\u001b[43mrun_id\u001b[49m\u001b[43m,\u001b[49m\n\u001b[1;32m     17\u001b[0m \u001b[43m\u001b[49m\u001b[43m)\u001b[49m\n\u001b[1;32m     19\u001b[0m raw \u001b[38;5;241m=\u001b[39m mne_bids\u001b[38;5;241m.\u001b[39mread_raw_bids(bids_path)\n\u001b[1;32m     20\u001b[0m \u001b[38;5;66;03m# triggers = mne.find_events(raw, stim_channel=\"STI101\", shortest_event=1)\u001b[39;00m\n",
      "File \u001b[0;32m~/miniconda3/envs/meg/lib/python3.9/site-packages/mne_bids/path.py:304\u001b[0m, in \u001b[0;36mBIDSPath.__init__\u001b[0;34m(self, subject, session, task, acquisition, run, processing, recording, space, split, root, suffix, extension, datatype, check)\u001b[0m\n\u001b[1;32m    300\u001b[0m     \u001b[38;5;28;01mraise\u001b[39;00m \u001b[38;5;167;01mValueError\u001b[39;00m(\u001b[38;5;124m\"\u001b[39m\u001b[38;5;124mAt least one parameter must be given.\u001b[39m\u001b[38;5;124m\"\u001b[39m)\n\u001b[1;32m    302\u001b[0m \u001b[38;5;28mself\u001b[39m\u001b[38;5;241m.\u001b[39mcheck \u001b[38;5;241m=\u001b[39m check\n\u001b[0;32m--> 304\u001b[0m \u001b[38;5;28;43mself\u001b[39;49m\u001b[38;5;241;43m.\u001b[39;49m\u001b[43mupdate\u001b[49m\u001b[43m(\u001b[49m\u001b[43msubject\u001b[49m\u001b[38;5;241;43m=\u001b[39;49m\u001b[43msubject\u001b[49m\u001b[43m,\u001b[49m\u001b[43m \u001b[49m\u001b[43msession\u001b[49m\u001b[38;5;241;43m=\u001b[39;49m\u001b[43msession\u001b[49m\u001b[43m,\u001b[49m\u001b[43m \u001b[49m\u001b[43mtask\u001b[49m\u001b[38;5;241;43m=\u001b[39;49m\u001b[43mtask\u001b[49m\u001b[43m,\u001b[49m\n\u001b[1;32m    305\u001b[0m \u001b[43m            \u001b[49m\u001b[43macquisition\u001b[49m\u001b[38;5;241;43m=\u001b[39;49m\u001b[43macquisition\u001b[49m\u001b[43m,\u001b[49m\u001b[43m \u001b[49m\u001b[43mrun\u001b[49m\u001b[38;5;241;43m=\u001b[39;49m\u001b[43mrun\u001b[49m\u001b[43m,\u001b[49m\u001b[43m \u001b[49m\u001b[43mprocessing\u001b[49m\u001b[38;5;241;43m=\u001b[39;49m\u001b[43mprocessing\u001b[49m\u001b[43m,\u001b[49m\n\u001b[1;32m    306\u001b[0m \u001b[43m            \u001b[49m\u001b[43mrecording\u001b[49m\u001b[38;5;241;43m=\u001b[39;49m\u001b[43mrecording\u001b[49m\u001b[43m,\u001b[49m\u001b[43m \u001b[49m\u001b[43mspace\u001b[49m\u001b[38;5;241;43m=\u001b[39;49m\u001b[43mspace\u001b[49m\u001b[43m,\u001b[49m\u001b[43m \u001b[49m\u001b[43msplit\u001b[49m\u001b[38;5;241;43m=\u001b[39;49m\u001b[43msplit\u001b[49m\u001b[43m,\u001b[49m\n\u001b[1;32m    307\u001b[0m \u001b[43m            \u001b[49m\u001b[43mroot\u001b[49m\u001b[38;5;241;43m=\u001b[39;49m\u001b[43mroot\u001b[49m\u001b[43m,\u001b[49m\u001b[43m \u001b[49m\u001b[43mdatatype\u001b[49m\u001b[38;5;241;43m=\u001b[39;49m\u001b[43mdatatype\u001b[49m\u001b[43m,\u001b[49m\n\u001b[1;32m    308\u001b[0m \u001b[43m            \u001b[49m\u001b[43msuffix\u001b[49m\u001b[38;5;241;43m=\u001b[39;49m\u001b[43msuffix\u001b[49m\u001b[43m,\u001b[49m\u001b[43m \u001b[49m\u001b[43mextension\u001b[49m\u001b[38;5;241;43m=\u001b[39;49m\u001b[43mextension\u001b[49m\u001b[43m)\u001b[49m\n",
      "File \u001b[0;32m~/miniconda3/envs/meg/lib/python3.9/site-packages/mne_bids/path.py:700\u001b[0m, in \u001b[0;36mBIDSPath.update\u001b[0;34m(self, check, **kwargs)\u001b[0m\n\u001b[1;32m    696\u001b[0m     \u001b[38;5;28;01mraise\u001b[39;00m \u001b[38;5;167;01mValueError\u001b[39;00m(\u001b[38;5;124mf\u001b[39m\u001b[38;5;124m'\u001b[39m\u001b[38;5;124mKey must be one of \u001b[39m\u001b[38;5;124m'\u001b[39m\n\u001b[1;32m    697\u001b[0m                      \u001b[38;5;124mf\u001b[39m\u001b[38;5;124m'\u001b[39m\u001b[38;5;132;01m{\u001b[39;00mALLOWED_PATH_ENTITIES\u001b[38;5;132;01m}\u001b[39;00m\u001b[38;5;124m, got \u001b[39m\u001b[38;5;132;01m{\u001b[39;00mkey\u001b[38;5;132;01m}\u001b[39;00m\u001b[38;5;124m'\u001b[39m)\n\u001b[1;32m    699\u001b[0m \u001b[38;5;28;01mif\u001b[39;00m ENTITY_VALUE_TYPE[key] \u001b[38;5;241m==\u001b[39m \u001b[38;5;124m'\u001b[39m\u001b[38;5;124mlabel\u001b[39m\u001b[38;5;124m'\u001b[39m:\n\u001b[0;32m--> 700\u001b[0m     \u001b[43m_validate_type\u001b[49m\u001b[43m(\u001b[49m\u001b[43mval\u001b[49m\u001b[43m,\u001b[49m\u001b[43m \u001b[49m\u001b[43mtypes\u001b[49m\u001b[38;5;241;43m=\u001b[39;49m\u001b[43m(\u001b[49m\u001b[38;5;28;43;01mNone\u001b[39;49;00m\u001b[43m,\u001b[49m\u001b[43m \u001b[49m\u001b[38;5;28;43mstr\u001b[39;49m\u001b[43m)\u001b[49m\u001b[43m,\u001b[49m\n\u001b[1;32m    701\u001b[0m \u001b[43m                   \u001b[49m\u001b[43mitem_name\u001b[49m\u001b[38;5;241;43m=\u001b[39;49m\u001b[43mkey\u001b[49m\u001b[43m)\u001b[49m\n\u001b[1;32m    702\u001b[0m \u001b[38;5;28;01melse\u001b[39;00m:\n\u001b[1;32m    703\u001b[0m     \u001b[38;5;28;01massert\u001b[39;00m ENTITY_VALUE_TYPE[key] \u001b[38;5;241m==\u001b[39m \u001b[38;5;124m'\u001b[39m\u001b[38;5;124mindex\u001b[39m\u001b[38;5;124m'\u001b[39m\n",
      "File \u001b[0;32m~/miniconda3/envs/meg/lib/python3.9/site-packages/mne/utils/check.py:542\u001b[0m, in \u001b[0;36m_validate_type\u001b[0;34m(item, types, item_name, type_name, extra)\u001b[0m\n\u001b[1;32m    540\u001b[0m         type_name \u001b[38;5;241m=\u001b[39m \u001b[38;5;124m'\u001b[39m\u001b[38;5;124m, \u001b[39m\u001b[38;5;124m'\u001b[39m\u001b[38;5;241m.\u001b[39mjoin(type_name)\n\u001b[1;32m    541\u001b[0m _item_name \u001b[38;5;241m=\u001b[39m \u001b[38;5;124m'\u001b[39m\u001b[38;5;124mItem\u001b[39m\u001b[38;5;124m'\u001b[39m \u001b[38;5;28;01mif\u001b[39;00m item_name \u001b[38;5;129;01mis\u001b[39;00m \u001b[38;5;28;01mNone\u001b[39;00m \u001b[38;5;28;01melse\u001b[39;00m item_name\n\u001b[0;32m--> 542\u001b[0m \u001b[38;5;28;01mraise\u001b[39;00m \u001b[38;5;167;01mTypeError\u001b[39;00m(\n\u001b[1;32m    543\u001b[0m     \u001b[38;5;124mf\u001b[39m\u001b[38;5;124m\"\u001b[39m\u001b[38;5;132;01m{\u001b[39;00m_item_name\u001b[38;5;132;01m}\u001b[39;00m\u001b[38;5;124m must be an instance of \u001b[39m\u001b[38;5;132;01m{\u001b[39;00mtype_name\u001b[38;5;132;01m}\u001b[39;00m\u001b[38;5;132;01m{\u001b[39;00mextra\u001b[38;5;132;01m}\u001b[39;00m\u001b[38;5;124m, \u001b[39m\u001b[38;5;124m\"\u001b[39m\n\u001b[1;32m    544\u001b[0m     \u001b[38;5;124mf\u001b[39m\u001b[38;5;124m\"\u001b[39m\u001b[38;5;124mgot \u001b[39m\u001b[38;5;132;01m{\u001b[39;00m\u001b[38;5;28mtype\u001b[39m(item)\u001b[38;5;132;01m}\u001b[39;00m\u001b[38;5;124m instead.\u001b[39m\u001b[38;5;124m\"\u001b[39m)\n",
      "\u001b[0;31mTypeError\u001b[0m: subject must be an instance of None or str, got <class 'int'> instead."
     ]
    }
   ],
   "source": [
    "for subject in range(58):\n",
    "    for run in range(1,10):\n",
    "        epochs = epochs_and_match(subject, run)"
   ]
  },
  {
   "cell_type": "markdown",
   "id": "d377d3f7-ce2f-4140-8738-b1b658995b41",
   "metadata": {},
   "source": [
    "# Opening a different TextGrid file from LPP IRM"
   ]
  },
  {
   "cell_type": "code",
   "execution_count": 1,
   "id": "16afc914-af39-4dc7-800f-135315bd0bc3",
   "metadata": {},
   "outputs": [],
   "source": [
    "file = '/home/co/tmp/testing_code/1.TextGrid'\n",
    "\n"
   ]
  },
  {
   "cell_type": "code",
   "execution_count": 2,
   "id": "65367de8-a839-482f-963a-e696d15ea648",
   "metadata": {},
   "outputs": [],
   "source": [
    "import textgrids as tg\n",
    "import pandas as pd\n",
    "\n",
    "\n",
    "textgrid = tg.TextGrid(file)\n",
    "\n",
    "\n",
    "words = [interval.text for interval in (textgrid['text words']) if interval.text != \"\"]"
   ]
  },
  {
   "cell_type": "code",
   "execution_count": 3,
   "id": "6461d66a-02f1-4427-be90-eb455d054256",
   "metadata": {},
   "outputs": [
    {
     "data": {
      "text/plain": [
       "1614"
      ]
     },
     "execution_count": 3,
     "metadata": {},
     "output_type": "execute_result"
    }
   ],
   "source": [
    "len(words)"
   ]
  },
  {
   "cell_type": "markdown",
   "id": "44cfa706-92bd-41f0-a93a-9374468769da",
   "metadata": {
    "tags": []
   },
   "source": [
    "# Testing triggers in metadata / audio file\n",
    "\n",
    "Exploring the audio file triggers that are sent to the MEG on the audio channel to verify if they are well-encoded in the first place, compared to the event defined in the metadata"
   ]
  },
  {
   "cell_type": "code",
   "execution_count": null,
   "id": "62048b28-8396-4503-8490-b913d200b316",
   "metadata": {},
   "outputs": [],
   "source": [
    "import numpy as np \n",
    "\n",
    "from scipy.io import wavfile\n",
    "\n",
    "import matplotlib.pyplot as plt\n",
    "\n",
    "\n",
    "# Opening the wav file for the first chapter\n",
    "wav_file = '/home/co/data/neuralset/LPP_copy/PallierListen2023/download/sourcedata/stimuli/audio/ch1-3.wav'\n",
    "\n",
    "fs, data = wavfile.read(wav_file)\n",
    "\n",
    "# Getting the channel for the triggers encoded in the 2nd part of the wav\n",
    "data = data[:,1]\n",
    "data = np.round(data / 30000)"
   ]
  },
  {
   "cell_type": "code",
   "execution_count": null,
   "id": "ec1337cb-54f9-43da-8160-c98308a6ab5a",
   "metadata": {},
   "outputs": [],
   "source": [
    "indices = np.where(data == 1)[0]\n",
    "# Calculate the differences between consecutive indices\n",
    "differences = np.diff(data)\n",
    "\n",
    "plus = np.where(differences == 1)[0]\n",
    "minus = np.where(differences == -1)[0]\n",
    "\n",
    "plus, minus\n",
    "\n",
    "diffs = []\n",
    "for p, m in zip(plus, minus):\n",
    "    # Take the min of the substraction to see if some triggers are under 300 / 44100 s long\n",
    "    diffs.append(m-p)\n",
    "    "
   ]
  },
  {
   "cell_type": "code",
   "execution_count": null,
   "id": "3ae34137-1471-47af-826e-cc228550f094",
   "metadata": {},
   "outputs": [],
   "source": [
    "np.unique(diffs)"
   ]
  },
  {
   "cell_type": "code",
   "execution_count": null,
   "id": "f605da61-a249-4991-a7a2-c2351a4fb21a",
   "metadata": {},
   "outputs": [],
   "source": [
    "# All good"
   ]
  },
  {
   "cell_type": "code",
   "execution_count": null,
   "id": "13452fa4-b8c9-4474-b9e6-3585f9b0c201",
   "metadata": {},
   "outputs": [],
   "source": [
    "diff = np.diff(data)"
   ]
  },
  {
   "cell_type": "code",
   "execution_count": null,
   "id": "eb3b3e8d-38a0-4c87-9836-023b4bfdb811",
   "metadata": {},
   "outputs": [],
   "source": [
    "audio_triggers = np.where(diff == 1)[0]\n",
    "\n",
    "# Get the amount of triggers in the metadata file\n",
    "\n",
    "file = \"/home/co/sub-1_ses-01_task-listen_run-01_events.tsv\"\n",
    "\n",
    "import pandas as pd\n",
    "\n",
    "df = pd.read_csv(file, sep='\\t')\n",
    "\n",
    "meta_triggers = df.onset\n",
    "\n",
    "print(\"Number of triggers in the audio file : \", len(audio_triggers))\n",
    "print(\"Number of triggers in the meta file : \", len(meta_triggers))\n",
    "\n",
    "\n",
    "print(\"Length of the audio file : \", (audio_triggers[-1] - audio_triggers[0] )/ fs)\n",
    "print(\"Length of the meta file : \", (meta_triggers.iloc[-1] - meta_triggers.iloc[0]))\n",
    "      \n",
    "#Number of triggers in the audio file :  1614\n",
    "#Number of triggers in the meta file :  1632\n",
    "#Length of the audio file :  607.15\n",
    "#Length of the meta file :  607.1500000000001\n",
    "\n",
    "# We have the same length (end - start), which is a good thing: there is no problem at this point\n",
    "\n",
    "# We have a small difference (18 words that might have been split in the metadata file, and be only one\n",
    "# trigger in the wav file..."
   ]
  },
  {
   "cell_type": "markdown",
   "id": "f7b3ae6c-54b3-468c-8ccb-aed0c046e071",
   "metadata": {
    "tags": []
   },
   "source": [
    "# From the MEG triggers now\n",
    "\n",
    "Let's try to investigate what's the difference with the triggers saved in the raw file now, that seem to be quite differents"
   ]
  },
  {
   "cell_type": "code",
   "execution_count": 33,
   "id": "f91db480-2ded-4d91-bd59-1cf39f1f517a",
   "metadata": {},
   "outputs": [],
   "source": [
    "# Neuro\n",
    "import mne\n",
    "import mne_bids\n",
    "\n",
    "# ML/Data\n",
    "import numpy as np\n",
    "import pandas as pd\n",
    "\n",
    "# Tools\n",
    "from pathlib import Path\n",
    "import os\n",
    "import matplotlib.pyplot as plt\n",
    "\n",
    "from utils import get_path\n",
    "from utils import (\n",
    "    match_list,\n",
    "    add_syntax,\n",
    "    mne_events,\n",
    "    decoding_from_criterion,\n",
    "    get_code_path,\n",
    "    get_path,\n",
    ")\n",
    "\n",
    "\n",
    "modality = \"auditory\"\n",
    "subject = '3'\n",
    "run_id = \"01\"\n"
   ]
  },
  {
   "cell_type": "code",
   "execution_count": 34,
   "id": "1260a882-7f4b-4d1d-b9f8-6a236acac3c1",
   "metadata": {
    "tags": []
   },
   "outputs": [
    {
     "name": "stdout",
     "output_type": "stream",
     "text": [
      "\n",
      " Epoching for run 01, subject: 3\n",
      "\n",
      "Opening raw data file /home/co/data/LPP_MEG_auditory/sub-3/ses-01/meg/sub-3_ses-01_task-listen_run-01_meg.fif...\n",
      "    Read a total of 13 projection items:\n",
      "        grad_ssp_upright.fif : PCA-v1 (1 x 306)  idle\n",
      "        grad_ssp_upright.fif : PCA-v2 (1 x 306)  idle\n",
      "        grad_ssp_upright.fif : PCA-v3 (1 x 306)  idle\n",
      "        grad_ssp_upright.fif : PCA-v4 (1 x 306)  idle\n",
      "        grad_ssp_upright.fif : PCA-v5 (1 x 306)  idle\n",
      "        mag_ssp_upright.fif : PCA-v1 (1 x 306)  idle\n",
      "        mag_ssp_upright.fif : PCA-v2 (1 x 306)  idle\n",
      "        mag_ssp_upright.fif : PCA-v3 (1 x 306)  idle\n",
      "        mag_ssp_upright.fif : PCA-v4 (1 x 306)  idle\n",
      "        mag_ssp_upright.fif : PCA-v5 (1 x 306)  idle\n",
      "        mag_ssp_upright.fif : PCA-v6 (1 x 306)  idle\n",
      "        mag_ssp_upright.fif : PCA-v7 (1 x 306)  idle\n",
      "        mag_ssp_upright.fif : PCA-v8 (1 x 306)  idle\n",
      "    Range : 28000 ... 658999 =     28.000 ...   658.999 secs\n",
      "Ready.\n",
      "Reading events from /home/co/data/LPP_MEG_auditory/sub-3/ses-01/meg/sub-3_ses-01_task-listen_run-01_events.tsv.\n",
      "Reading channel info from /home/co/data/LPP_MEG_auditory/sub-3/ses-01/meg/sub-3_ses-01_task-listen_run-01_channels.tsv.\n",
      "Using 4 HPI coils: 293 307 314 321 Hz\n",
      "Not fully anonymizing info - keeping his_id, sex, and hand info\n"
     ]
    },
    {
     "name": "stderr",
     "output_type": "stream",
     "text": [
      "<ipython-input-34-f6508f5db537>:16: RuntimeWarning: This file contains raw Internal Active Shielding data. It may be distorted. Elekta recommends it be run through MaxFilter to produce reliable results. Consider closing the file and running MaxFilter on the data.\n",
      "  raw = mne_bids.read_raw_bids(bids_path)\n",
      "<ipython-input-34-f6508f5db537>:16: RuntimeWarning: The unit for channel(s) STI001, STI002, STI003, STI004, STI005, STI006, STI007, STI008, STI009, STI010, STI011, STI012, STI013, STI014, STI015, STI016, STI101, STI201, STI301 has changed from V to NA.\n",
      "  raw = mne_bids.read_raw_bids(bids_path)\n"
     ]
    },
    {
     "name": "stdout",
     "output_type": "stream",
     "text": [
      "1954 events found\n",
      "Event IDs: [  1 129]\n",
      "Reading 0 ... 630999  =      0.000 ...   630.999 secs...\n"
     ]
    }
   ],
   "source": [
    "from pathlib import Path\n",
    "#path = Path(\"/media/co/T7/workspace-LPP/data/MEG/LPP/PallierListen2023/download\")\n",
    "path = get_path(modality)\n",
    "task_map = {\"auditory\": \"listen\", \"visual\": \"read\", \"fmri\": \"listen\"}\n",
    "task = task_map[modality]\n",
    "print(f\"\\n Epoching for run {run_id}, subject: {subject}\\n\")\n",
    "bids_path = mne_bids.BIDSPath(\n",
    "    subject=subject,\n",
    "    session=\"01\",\n",
    "    task=task,\n",
    "    datatype=\"meg\",\n",
    "    root=path,\n",
    "    run=run_id,\n",
    ")\n",
    "\n",
    "raw = mne_bids.read_raw_bids(bids_path)\n",
    "# triggers = mne.find_events(raw, stim_channel=\"STI101\", shortest_event=1)\n",
    "triggers = mne.find_events(raw, stim_channel=\"STI101\", shortest_event=1)\n",
    "\n",
    "raw.del_proj()  # To fix proj issues\n",
    "raw.pick_types(meg=True, stim=True, misc=True)\n",
    "raw.load_data()\n",
    "\n",
    "# Generate event_file path\n",
    "event_file = path / f\"sub-{bids_path.subject}\"\n",
    "event_file = event_file / f\"ses-{bids_path.session}\"\n",
    "event_file = event_file / \"meg\"\n",
    "event_file = str(event_file / f\"sub-{bids_path.subject}\")\n",
    "event_file += f\"_ses-{bids_path.session}\"\n",
    "event_file += f\"_task-{bids_path.task}\"\n",
    "event_file += f\"_run-{bids_path.run}_events.tsv\"\n",
    "assert Path(event_file).exists()\n",
    "\n",
    "meta = pd.read_csv(event_file, sep=\"\\t\")\n",
    "\n",
    "meta['start'] = meta.onset"
   ]
  },
  {
   "cell_type": "code",
   "execution_count": 35,
   "id": "18322af2-7e5f-4aa7-996c-14a029d3a28f",
   "metadata": {},
   "outputs": [],
   "source": [
    "words = meta\n",
    "\n",
    "events_df = meta\n",
    "# Triggers from the MEG: :, 2 is the trigger value: 1 is a word, 128 is the start / end\n",
    "word_triggers = triggers[triggers[:, 2] > 1]"
   ]
  },
  {
   "cell_type": "markdown",
   "id": "8fed7fa7-bcc3-4fc7-b720-a35974400a45",
   "metadata": {},
   "source": [
    "## Conclusion\n",
    "\n",
    "We find that the length of the trigger from MEG is at least one second longer than the meta file / audio file...\n",
    "They are calculated by simply takign the last word trigger, \n",
    "There must be something that makes the triggers happen slower.. or "
   ]
  },
  {
   "cell_type": "code",
   "execution_count": 80,
   "id": "807b19e6-fab1-4ff3-9324-7fce2e998e3d",
   "metadata": {},
   "outputs": [
    {
     "ename": "NameError",
     "evalue": "name 'audio_triggers' is not defined",
     "output_type": "error",
     "traceback": [
      "\u001b[0;31m---------------------------------------------------------------------------\u001b[0m",
      "\u001b[0;31mNameError\u001b[0m                                 Traceback (most recent call last)",
      "Cell \u001b[0;32mIn [80], line 1\u001b[0m\n\u001b[0;32m----> 1\u001b[0m \u001b[38;5;28mprint\u001b[39m(\u001b[38;5;124m\"\u001b[39m\u001b[38;5;124mNumber of triggers in the audio file : \u001b[39m\u001b[38;5;124m\"\u001b[39m, \u001b[38;5;28mlen\u001b[39m(\u001b[43maudio_triggers\u001b[49m))\n\u001b[1;32m      2\u001b[0m \u001b[38;5;28mprint\u001b[39m(\u001b[38;5;124m\"\u001b[39m\u001b[38;5;124mNumber of triggers in the meta file : \u001b[39m\u001b[38;5;124m\"\u001b[39m, \u001b[38;5;28mlen\u001b[39m(meta_triggers))\n\u001b[1;32m      3\u001b[0m \u001b[38;5;28mprint\u001b[39m(\u001b[38;5;124m\"\u001b[39m\u001b[38;5;124mNumber of triggers in the MEG triggers : \u001b[39m\u001b[38;5;124m\"\u001b[39m, word_triggers\u001b[38;5;241m.\u001b[39mshape[\u001b[38;5;241m0\u001b[39m])\n",
      "\u001b[0;31mNameError\u001b[0m: name 'audio_triggers' is not defined"
     ]
    }
   ],
   "source": [
    "print(\"Number of triggers in the audio file : \", len(audio_triggers))\n",
    "print(\"Number of triggers in the meta file : \", len(meta_triggers))\n",
    "print(\"Number of triggers in the MEG triggers : \", word_triggers.shape[0])\n",
    "\n",
    "print('\\n')\n",
    "\n",
    "print(\"Duration of the audio file (s): \", (audio_triggers[-1] - audio_triggers[0] )/ fs)\n",
    "print(\"Duration of the meta file (s): \", (meta_triggers.iloc[-1] - meta_triggers.iloc[0]))\n",
    "print(\"Duration of the trigger from MEG (first word to last word) : \", (word_triggers[-1][0] - word_triggers[0][0]) / raw.info['sfreq'])\n",
    "\n",
    "print('\\n')\n",
    "\n",
    "print(\"Time from the start of the audio to the first word IN THE TRIGGERS: \", (triggers[1,0] - triggers[0,0]) / raw.info['sfreq'])\n",
    "print(\"Time from the start of the audio to the first word IN THE METADATA: \", meta_triggers[0] )\n",
    "\n"
   ]
  },
  {
   "cell_type": "markdown",
   "id": "782466a9-eb4a-45fa-8799-28ce944c010e",
   "metadata": {
    "tags": []
   },
   "source": [
    "# Trying the JR plot\n",
    "make mne Epochs from from these events, (and not from trigger channel)\n",
    "1. show matrix x=time from word-onset, y=single trial misc channel\n"
   ]
  },
  {
   "cell_type": "code",
   "execution_count": 8,
   "id": "6bb2296d-285c-4b6f-8c7d-e4a70a15ce0a",
   "metadata": {},
   "outputs": [],
   "source": [
    "audio_triggers = raw.get_data(picks=[\"MISC004\"])[0,:]\n"
   ]
  },
  {
   "cell_type": "code",
   "execution_count": 16,
   "id": "71c3633b-f475-49bf-aef0-c251035d2869",
   "metadata": {},
   "outputs": [
    {
     "data": {
      "text/plain": [
       "[<matplotlib.lines.Line2D at 0x7efb93dc4f40>]"
      ]
     },
     "execution_count": 16,
     "metadata": {},
     "output_type": "execute_result"
    },
    {
     "data": {
      "image/png": "[encoded data removed]",
      "text/plain": [
       "<Figure size 432x288 with 1 Axes>"
      ]
     },
     "metadata": {
      "needs_background": "light"
     },
     "output_type": "display_data"
    }
   ],
   "source": [
    "plt.plot(audio_triggers[:100000])"
   ]
  },
  {
   "cell_type": "code",
   "execution_count": 20,
   "id": "fd859fa0-297c-453c-8dd7-3c176ce45abe",
   "metadata": {},
   "outputs": [
    {
     "name": "stdout",
     "output_type": "stream",
     "text": [
      "1645 events found\n",
      "Event IDs: [5]\n"
     ]
    }
   ],
   "source": [
    "word_triggers = mne.find_events(raw, stim_channel=\"STI008\", shortest_event=1)"
   ]
  },
  {
   "cell_type": "code",
   "execution_count": 21,
   "id": "301eaff3-4fee-4174-ada5-dbff47b5b570",
   "metadata": {},
   "outputs": [
    {
     "data": {
      "text/plain": [
       "array([608175,      0,      0])"
      ]
     },
     "execution_count": 21,
     "metadata": {},
     "output_type": "execute_result"
    }
   ],
   "source": [
    "word_triggers[-1] - word_triggers[0]"
   ]
  },
  {
   "cell_type": "code",
   "execution_count": 4,
   "id": "741e02c4-5712-432a-ace5-076691a0ce6e",
   "metadata": {},
   "outputs": [
    {
     "data": {
      "text/plain": [
       "42046"
      ]
     },
     "execution_count": 4,
     "metadata": {},
     "output_type": "execute_result"
    }
   ],
   "source": [
    "first_meg_trigger = triggers[0][0]\n",
    "first_meg_trigger"
   ]
  },
  {
   "cell_type": "code",
   "execution_count": 5,
   "id": "197d57cd-cde1-4d76-b14f-04cd49104788",
   "metadata": {},
   "outputs": [],
   "source": [
    "def mne_events(meta):\n",
    "    events = np.ones((len(meta), 3), dtype=int)\n",
    "    #events[:, 0] = (meta.start*raw.info['sfreq'])\n",
    "    events[:, 0] = first_meg_trigger + (meta.start*raw.info['sfreq'])\n",
    "    return dict(events=events, metadata=meta.reset_index())"
   ]
  },
  {
   "cell_type": "code",
   "execution_count": 6,
   "id": "61760225-e7f6-42b6-87ec-81e5e8d9c593",
   "metadata": {},
   "outputs": [
    {
     "name": "stdout",
     "output_type": "stream",
     "text": [
      "Filtering raw data in 1 contiguous segment\n",
      "Setting up band-pass filter from 0.5 - 20 Hz\n",
      "\n",
      "FIR filter parameters\n",
      "---------------------\n",
      "Designing a one-pass, zero-phase, non-causal bandpass filter:\n",
      "- Windowed time-domain design (firwin) method\n",
      "- Hamming window with 0.0194 passband ripple and 53 dB stopband attenuation\n",
      "- Lower passband edge: 0.50\n",
      "- Lower transition bandwidth: 0.50 Hz (-6 dB cutoff frequency: 0.25 Hz)\n",
      "- Upper passband edge: 20.00 Hz\n",
      "- Upper transition bandwidth: 5.00 Hz (-6 dB cutoff frequency: 22.50 Hz)\n",
      "- Filter length: 6601 samples (6.601 sec)\n",
      "\n"
     ]
    },
    {
     "name": "stderr",
     "output_type": "stream",
     "text": [
      "[Parallel(n_jobs=-1)]: Using backend LokyBackend with 12 concurrent workers.\n",
      "[Parallel(n_jobs=-1)]: Done   6 tasks      | elapsed:    1.4s\n",
      "[Parallel(n_jobs=-1)]: Done  60 tasks      | elapsed:    2.3s\n",
      "[Parallel(n_jobs=-1)]: Done 228 tasks      | elapsed:    5.0s\n",
      "[Parallel(n_jobs=-1)]: Done 306 out of 306 | elapsed:    6.1s finished\n"
     ]
    },
    {
     "name": "stdout",
     "output_type": "stream",
     "text": [
      "Adding metadata with 6 columns\n",
      "1632 matching events found\n",
      "Setting baseline interval to [-0.2, 0.0] sec\n",
      "Applying baseline correction (mode: mean)\n",
      "0 projection items activated\n"
     ]
    },
    {
     "data": {
      "text/html": [
       "<table class=\"table table-hover table-striped table-sm table-responsive small\">\n",
       "    <tr>\n",
       "        <th>Number of events</th>\n",
       "        <td>1632</td>\n",
       "    </tr>\n",
       "    <tr>\n",
       "        <th>Events</th>\n",
       "        \n",
       "        <td>1: 1632</td>\n",
       "        \n",
       "    </tr>\n",
       "    <tr>\n",
       "        <th>Time range</th>\n",
       "        <td>-0.200 – 0.800 sec</td>\n",
       "    </tr>\n",
       "    <tr>\n",
       "        <th>Baseline</th>\n",
       "        <td>-0.200 – 0.000 sec</td>\n",
       "    </tr>\n",
       "</table>"
      ],
      "text/plain": [
       "<Epochs |  1632 events (good & bad), -0.2 - 0.8 sec, baseline -0.2 – 0 sec, ~5.1 MB, data not loaded, with metadata,\n",
       " '1': 1632>"
      ]
     },
     "execution_count": 6,
     "metadata": {},
     "output_type": "execute_result"
    }
   ],
   "source": [
    "raw.filter(.5, 20., n_jobs=-1)\n",
    "\n",
    "epochs = mne.Epochs(raw, **mne_events(meta), decim=10, tmin=-.2, tmax=.8)\n",
    "epochs "
   ]
  },
  {
   "cell_type": "code",
   "execution_count": 7,
   "id": "6fb62f91",
   "metadata": {},
   "outputs": [
    {
     "name": "stdout",
     "output_type": "stream",
     "text": [
      "Using data from preloaded Raw for 1632 events and 1001 original time points (prior to decimation) ...\n",
      "56 bad epochs dropped\n"
     ]
    },
    {
     "data": {
      "text/html": [
       "<table class=\"table table-hover table-striped table-sm table-responsive small\">\n",
       "    <tr>\n",
       "        <th>Number of events</th>\n",
       "        <td>1576</td>\n",
       "    </tr>\n",
       "    <tr>\n",
       "        <th>Events</th>\n",
       "        \n",
       "        <td>1: 1576</td>\n",
       "        \n",
       "    </tr>\n",
       "    <tr>\n",
       "        <th>Time range</th>\n",
       "        <td>-0.200 – 0.800 sec</td>\n",
       "    </tr>\n",
       "    <tr>\n",
       "        <th>Baseline</th>\n",
       "        <td>-0.200 – 0.000 sec</td>\n",
       "    </tr>\n",
       "</table>"
      ],
      "text/plain": [
       "<Epochs |  1576 events (all good), -0.2 - 0.8 sec, baseline -0.2 – 0 sec, ~421.7 MB, data loaded, with metadata,\n",
       " '1': 1576>"
      ]
     },
     "execution_count": 7,
     "metadata": {},
     "output_type": "execute_result"
    }
   ],
   "source": [
    "epochs.load_data()"
   ]
  },
  {
   "cell_type": "markdown",
   "id": "674e391f-2518-4b0f-94f7-7e8ef2428fff",
   "metadata": {},
   "source": [
    "Plotting the information of for each trigger: the metadata time expected vs the time found in the triggers."
   ]
  },
  {
   "cell_type": "markdown",
   "id": "9f19d83b",
   "metadata": {},
   "source": [
    "We want here, to plot:\n",
    "\n",
    "for each epoch, basically the time when the trigger happens (1632 epochs) = find the stim channel for each epoch\n",
    "\n",
    "vs the time when the trigger is supposed to happen (simply metadata[epochs_number]"
   ]
  },
  {
   "cell_type": "markdown",
   "id": "2c4b028e-4fc0-4f69-9226-598437e9a204",
   "metadata": {},
   "source": [
    "# Studying the audio waveform in MEG, and its timings"
   ]
  },
  {
   "cell_type": "code",
   "execution_count": 12,
   "id": "55d4e58d-c15e-4a35-931b-8bccdbb38c51",
   "metadata": {},
   "outputs": [
    {
     "data": {
      "text/plain": [
       "<MNEBrowseFigure size 1850x1016 with 4 Axes>"
      ]
     },
     "execution_count": 12,
     "metadata": {},
     "output_type": "execute_result"
    }
   ],
   "source": [
    "epochs.plot()"
   ]
  },
  {
   "cell_type": "code",
   "execution_count": 36,
   "id": "f5b383f1-82a9-4ea6-9c91-e3793eb54564",
   "metadata": {},
   "outputs": [],
   "source": [
    "wav_channel = \"MISC004\" # Each audio starts with a mini dirac before the waveform appears\n",
    "\n",
    "start_channel = \"STI001\"\n",
    "\n",
    "word_channel = \"STI008\""
   ]
  },
  {
   "cell_type": "code",
   "execution_count": 37,
   "id": "3707372f-77d9-4c22-92f3-b7f2049a8653",
   "metadata": {},
   "outputs": [
    {
     "data": {
      "text/plain": [
       "614.577"
      ]
     },
     "execution_count": 37,
     "metadata": {},
     "output_type": "execute_result"
    }
   ],
   "source": [
    "start_triggers = raw.get_data(picks=[\"STI001\"])[0,:]\n",
    "indices_start = np.where(start_triggers == 5)\n",
    "duration_from_001 = (indices_start[0][-1] - indices_start[0][0]) / raw.info['sfreq'] # Coudl be done better\n",
    "duration_from_001"
   ]
  },
  {
   "cell_type": "code",
   "execution_count": 38,
   "id": "65fa6265-06ad-49b3-9604-5348a55c48cd",
   "metadata": {},
   "outputs": [],
   "source": [
    "word_triggers = raw.get_data(picks=[\"STI008\"])[0,:]\n",
    "indices_word = np.where(word_triggers == 5)\n",
    "duration_from_008 = (indices_word[0][-1] - indices_word[0][0]) / raw.info['sfreq']\n"
   ]
  },
  {
   "cell_type": "code",
   "execution_count": 39,
   "id": "3b56aff8-8e3e-41fe-a2a0-c1eba6f7d097",
   "metadata": {},
   "outputs": [
    {
     "data": {
      "text/plain": [
       "608.204"
      ]
     },
     "execution_count": 39,
     "metadata": {},
     "output_type": "execute_result"
    }
   ],
   "source": [
    "duration_from_008"
   ]
  },
  {
   "cell_type": "code",
   "execution_count": 40,
   "id": "8821b779-6acc-47cc-a270-8d8cef0c4a5e",
   "metadata": {},
   "outputs": [
    {
     "data": {
      "text/plain": [
       "3211"
      ]
     },
     "execution_count": 40,
     "metadata": {},
     "output_type": "execute_result"
    }
   ],
   "source": [
    "# Calculating first samp diff\n",
    "indices_word[0][0] - indices_start[0][0]"
   ]
  },
  {
   "cell_type": "code",
   "execution_count": 90,
   "id": "75acb57f-86dc-4324-af86-efa7d8fb02e5",
   "metadata": {},
   "outputs": [
    {
     "data": {
      "text/plain": [
       "20049"
      ]
     },
     "execution_count": 90,
     "metadata": {},
     "output_type": "execute_result"
    }
   ],
   "source": [
    "word_triggers = raw.get_data(picks=[\"STI008\"])[0,:]\n",
    "len(indices[0])"
   ]
  },
  {
   "cell_type": "code",
   "execution_count": 17,
   "id": "98a29f1d-62e2-40ad-a47b-312d67c283de",
   "metadata": {},
   "outputs": [
    {
     "name": "stdout",
     "output_type": "stream",
     "text": [
      "Using matplotlib as 2D backend.\n",
      "Channels marked as bad:\n",
      "none\n"
     ]
    },
    {
     "data": {
      "image/png": "[encoded data removed]",
      "text/plain": [
       "<MNEBrowseFigure size 1850x1016 with 4 Axes>"
      ]
     },
     "execution_count": 17,
     "metadata": {},
     "output_type": "execute_result"
    }
   ],
   "source": [
    "import matplotlib\n",
    "matplotlib.use('Qt5Agg')\n",
    "\n",
    "raw.pick_types(stim=True, misc=True).plot(block=True, start=0, duration=10., precompute='auto')"
   ]
  },
  {
   "cell_type": "code",
   "execution_count": 19,
   "id": "b7d08f64-c256-4aa2-8fc8-d35081e1f7e9",
   "metadata": {},
   "outputs": [
    {
     "data": {
      "text/plain": [
       "608.25"
      ]
     },
     "execution_count": 19,
     "metadata": {},
     "output_type": "execute_result"
    }
   ],
   "source": [
    "628.5-20.25"
   ]
  },
  {
   "cell_type": "code",
   "execution_count": 22,
   "id": "ee13f50d-218b-46ff-bf79-c28d0c11f4cc",
   "metadata": {},
   "outputs": [
    {
     "data": {
      "text/plain": [
       "array([[[0., 0., 0., 0., 0., 0., 0., 0., 0., 0., 0., 0., 0., 0., 0., 0.,\n",
       "         0., 0., 0., 0.],\n",
       "        [0., 0., 0., 0., 0., 0., 0., 0., 0., 0., 0., 0., 0., 0., 0., 0.,\n",
       "         0., 0., 0., 0.],\n",
       "        [0., 0., 0., 0., 0., 0., 0., 0., 0., 0., 0., 0., 0., 0., 0., 0.,\n",
       "         0., 0., 0., 0.],\n",
       "        [0., 0., 0., 0., 0., 0., 0., 0., 0., 0., 0., 0., 0., 0., 0., 0.,\n",
       "         0., 0., 0., 0.],\n",
       "        [0., 0., 0., 0., 0., 0., 0., 0., 0., 0., 0., 0., 0., 0., 0., 0.,\n",
       "         0., 0., 0., 0.],\n",
       "        [0., 0., 0., 0., 0., 0., 0., 0., 0., 0., 0., 0., 0., 0., 0., 0.,\n",
       "         0., 0., 0., 0.],\n",
       "        [0., 0., 0., 0., 0., 0., 0., 0., 0., 0., 0., 0., 0., 0., 0., 0.,\n",
       "         0., 0., 0., 0.],\n",
       "        [0., 0., 0., 0., 0., 0., 0., 0., 0., 0., 0., 0., 0., 0., 0., 0.,\n",
       "         0., 0., 0., 0.],\n",
       "        [0., 0., 0., 0., 0., 0., 0., 0., 0., 0., 0., 0., 0., 0., 0., 0.,\n",
       "         0., 0., 0., 0.],\n",
       "        [0., 0., 0., 0., 0., 0., 0., 0., 0., 0., 0., 0., 0., 0., 0., 0.,\n",
       "         0., 0., 0., 0.],\n",
       "        [0., 0., 0., 0., 0., 0., 0., 0., 0., 0., 0., 0., 0., 0., 0., 0.,\n",
       "         0., 0., 0., 0.],\n",
       "        [0., 0., 0., 0., 0., 0., 0., 0., 0., 0., 0., 0., 0., 0., 0., 0.,\n",
       "         0., 0., 0., 0.],\n",
       "        [0., 0., 0., 0., 0., 0., 0., 0., 0., 0., 0., 0., 0., 0., 0., 0.,\n",
       "         0., 0., 0., 0.],\n",
       "        [0., 0., 0., 0., 0., 0., 0., 0., 0., 0., 0., 0., 0., 0., 0., 0.,\n",
       "         0., 0., 0., 0.],\n",
       "        [0., 0., 0., 0., 0., 0., 0., 0., 0., 0., 0., 0., 0., 0., 0., 0.,\n",
       "         0., 0., 0., 0.],\n",
       "        [0., 0., 0., 0., 0., 0., 0., 0., 0., 0., 0., 0., 0., 0., 0., 0.,\n",
       "         0., 0., 0., 0.]]])"
      ]
     },
     "execution_count": 22,
     "metadata": {},
     "output_type": "execute_result"
    }
   ],
   "source": [
    "epochs[0].get_data(picks=['STI001',\n",
    " 'STI002',\n",
    " 'STI003',\n",
    " 'STI004',\n",
    " 'STI005',\n",
    " 'STI006',\n",
    " 'STI007',\n",
    " 'STI008',\n",
    " 'STI009',\n",
    " 'STI010',\n",
    " 'STI011',\n",
    " 'STI012',\n",
    " 'STI013',\n",
    " 'STI014',\n",
    " 'STI015',\n",
    " 'STI016'], tmin=-0.1, tmax=0.1)"
   ]
  },
  {
   "cell_type": "code",
   "execution_count": 23,
   "id": "47625eb2-ecf5-4816-8986-e84a6f2e5ba4",
   "metadata": {},
   "outputs": [
    {
     "data": {
      "text/plain": [
       "array([[[-1.27944946, -0.74634552, -0.21324158,  0.31986237,\n",
       "          0.85296631,  1.38607025,  1.91917419,  2.45227814,\n",
       "          2.98538208,  3.51848602,  4.05158997,  4.58469391,\n",
       "          5.11779785,  5.65090179,  6.18400574,  6.71710968,\n",
       "          7.25021362,  7.78331757,  8.31642151,  8.84952545]]])"
      ]
     },
     "execution_count": 23,
     "metadata": {},
     "output_type": "execute_result"
    }
   ],
   "source": [
    "epochs[0].get_data(picks=['STI301'], tmin=-0.1, tmax=0.1)"
   ]
  },
  {
   "cell_type": "code",
   "execution_count": 82,
   "id": "c3e2ab5f",
   "metadata": {},
   "outputs": [
    {
     "data": {
      "text/plain": [
       "array([[[0., 0., 0., 0., 0., 0., 0., 0., 0., 0., 0., 0., 0., 0., 0., 0.,\n",
       "         0., 0., 0., 0.]]])"
      ]
     },
     "execution_count": 82,
     "metadata": {},
     "output_type": "execute_result"
    }
   ],
   "source": [
    "epochs[153].get_data(picks=['STI101'], tmin=-0.1, tmax=0.1)"
   ]
  },
  {
   "cell_type": "code",
   "execution_count": 80,
   "id": "999996d5",
   "metadata": {},
   "outputs": [
    {
     "data": {
      "text/plain": [
       "array([[[  0., 128.,   0.,   0.,   0.,   0.,   0.,   0.,   0.,   0.,\n",
       "         128.,   0.,   0.,   0.,   0.,   0.,   0.,   0.,   0.,   0.,\n",
       "           0.,   0.,   0.,   0.,   0.,   0.,   0.,   0.,   0.,   0.,\n",
       "           0.,   0.,   0.,   0.,   0.,   0.,   0.,   0.,   0.,   0.,\n",
       "           0.,   0.,   0.,   0.,   0.,   0.,   0.,   0.,   0.,   0.,\n",
       "           0.,   0., 128.,   0.,   0.,   0.,   0.,   0.,   0.,   0.,\n",
       "           0.,   0.,   0.,   0.,   0.,   0.,   0.,   0.,   0.,   0.,\n",
       "           0.,   0.,   0.,   0.,   0.,   0.,   0.,   0.,   0.,   0.,\n",
       "           0.,   0.,   0.,   0.,   0.,   0.,   0.,   0.,   0.,   0.,\n",
       "           0.,   0., 128.,   0.,   0.,   0.,   0.,   0.,   0.,   0.,\n",
       "           0.]]])"
      ]
     },
     "execution_count": 80,
     "metadata": {},
     "output_type": "execute_result"
    }
   ],
   "source": [
    "epochs[151].get_data(picks=['STI101'])"
   ]
  },
  {
   "cell_type": "code",
   "execution_count": null,
   "id": "a2c28363",
   "metadata": {},
   "outputs": [],
   "source": []
  },
  {
   "cell_type": "code",
   "execution_count": 17,
   "id": "85628c1c-a91b-4dde-a522-499b9510ccfb",
   "metadata": {},
   "outputs": [
    {
     "data": {
      "text/plain": [
       "Text(0.5, 1.0, 'Comparing the time from the supposed trigger sample to sample')"
      ]
     },
     "execution_count": 17,
     "metadata": {},
     "output_type": "execute_result"
    },
    {
     "data": {
      "image/png": "[encoded data removed]",
      "text/plain": [
       "<Figure size 432x288 with 1 Axes>"
      ]
     },
     "metadata": {
      "needs_background": "light"
     },
     "output_type": "display_data"
    }
   ],
   "source": [
    "import matplotlib.pyplot as plt\n",
    "\n",
    "x_to_plot = []\n",
    "y_to_plot = []\n",
    "\n",
    "for i in range(1,epochs.events.shape[0]):\n",
    "    epoch = epochs[i]\n",
    "    theoritical_metadata_time = epoch.events[0][0]\n",
    "    trigger_time = triggers[i][0]\n",
    "    x_to_plot.append((theoritical_metadata_time - trigger_time) / raw.info['sfreq'])\n",
    "    y_to_plot.append(i)\n",
    "\n",
    "plt.plot(x_to_plot[:], y_to_plot[:], 'r')\n",
    "#plt.plot(trigger_time, i, color='b')\n",
    "plt.xlabel(\"Time to trigger (theoritical trigger time using metadata - actual trigger time)\")\n",
    "plt.ylabel(\"Sample number\")\n",
    "plt.title(\"Comparing the time from the supposed trigger sample to sample\")"
   ]
  },
  {
   "cell_type": "markdown",
   "id": "d34719a0-4c52-4867-a8a3-073fdfde9054",
   "metadata": {},
   "source": [
    "Might want to do it by matching all the samples, as we have a diff in the number of samples... \n",
    "\n",
    "N_triggers_MEG > N_triggers_metadata > N_triggers_audio...."
   ]
  },
  {
   "cell_type": "markdown",
   "id": "e77ef129-d634-4c4b-8b5c-6110615201a5",
   "metadata": {},
   "source": [
    "## Using the match list\n",
    "\n",
    "Let's investigate what kind of word is removed when using the match list technique???"
   ]
  },
  {
   "cell_type": "code",
   "execution_count": 14,
   "id": "4bfdd75a-9662-48d1-bf5d-1c7875f8b14a",
   "metadata": {},
   "outputs": [
    {
     "name": "stdout",
     "output_type": "stream",
     "text": [
      "Found 0.9258578431372549 of the words in the triggers\n"
     ]
    }
   ],
   "source": [
    "events_df[\"word\"] = meta[\"trial_type\"].apply(\n",
    "            lambda x: eval(x)[\"word\"] if type(eval(x)) == dict else np.nan)\n",
    "\n",
    "decimals = 2\n",
    "triggers_delta = np.round(np.diff(word_triggers[:, 0] / raw.info[\"sfreq\"]), decimals=decimals)  # type: ignore\n",
    "events_delta = np.round(np.diff(words.start.values), decimals=decimals)  # type: ignore\n",
    "i, j = match_list(triggers_delta, events_delta)\n",
    "\n",
    "assert len(i) / len(words) > 0.7, (\n",
    "    error_msg_prefix\n",
    "    + f\"only {len(i)/len(words)} of the words were found in the triggers\"\n",
    ")\n",
    "print(f\"Found {len(i)/len(words)} of the words in the triggers\")\n",
    "\n",
    "true_indices = words.iloc[j].index\n",
    "\n",
    "# Find the missing words df\n",
    "opposite_indices = events_df.index.difference(true_indices)\n",
    "opposite_events_df = events_df.loc[opposite_indices]\n",
    "\n",
    "\n",
    "events_df = events_df.loc[true_indices].copy()\n",
    "\n",
    "events_df.loc[true_indices, \"start\"] = (\n",
    "    word_triggers[i, 0] / raw.info[\"sfreq\"]\n",
    ")"
   ]
  },
  {
   "cell_type": "code",
   "execution_count": 16,
   "id": "567bd7e6",
   "metadata": {},
   "outputs": [
    {
     "data": {
      "text/plain": [
       "0       lorsque\n",
       "1             j\n",
       "2         avais\n",
       "3           six\n",
       "4           ans\n",
       "         ...   \n",
       "1627       peut\n",
       "1628        pas\n",
       "1629      aller\n",
       "1630       bien\n",
       "1631       loin\n",
       "Name: word, Length: 1632, dtype: object"
      ]
     },
     "execution_count": 16,
     "metadata": {},
     "output_type": "execute_result"
    }
   ],
   "source": [
    "meta.word"
   ]
  },
  {
   "cell_type": "code",
   "execution_count": 27,
   "id": "3b34d7be",
   "metadata": {},
   "outputs": [
    {
     "data": {
      "text/plain": [
       "[<matplotlib.lines.Line2D at 0x7fb7cb81a2b0>]"
      ]
     },
     "execution_count": 27,
     "metadata": {},
     "output_type": "execute_result"
    },
    {
     "data": {
      "image/png": "[encoded data removed]",
      "text/plain": [
       "<Figure size 432x288 with 1 Axes>"
      ]
     },
     "metadata": {
      "needs_background": "light"
     },
     "output_type": "display_data"
    }
   ],
   "source": [
    "# Match on text the events_df df with the initial metadata, to have info how it shifts\n",
    "\n",
    "metadata_words = meta\n",
    "matched_words = events_df\n",
    "\n",
    "# Match list between the two events arrays\n",
    "idx2, idx = match_list((metadata_words.word.values), (matched_words.word.values))\n",
    "\n",
    "# Plot the two matched arrays\n",
    "plt.plot(metadata_words.start.values[idx2]- matched_words.start.values[idx])\n"
   ]
  },
  {
   "cell_type": "markdown",
   "id": "389e7986-264f-4199-b3eb-82fb94efab9a",
   "metadata": {},
   "source": [
    "## Words missing and their timing"
   ]
  },
  {
   "cell_type": "markdown",
   "id": "f59b455d-21ed-4daa-bf6d-5a5387da12f4",
   "metadata": {},
   "source": [
    "Whenever we get the triggers matched, there is still the shift of 1s"
   ]
  },
  {
   "cell_type": "code",
   "execution_count": 42,
   "id": "1fca45f5-39a0-45ab-b710-65d2f12fa738",
   "metadata": {},
   "outputs": [
    {
     "data": {
      "text/plain": [
       "1629    608.015\n",
       "dtype: float64"
      ]
     },
     "execution_count": 42,
     "metadata": {},
     "output_type": "execute_result"
    }
   ],
   "source": [
    "events_df.start[-2:-1] + events_df.duration[-2:-1] - events_df.start[0] "
   ]
  },
  {
   "cell_type": "markdown",
   "id": "b49bf60a-34b5-4ecf-9c3e-fa3e0579eff2",
   "metadata": {},
   "source": [
    "Define a function to retrieve missing words"
   ]
  },
  {
   "cell_type": "code",
   "execution_count": 43,
   "id": "71d05f41-cba9-49c4-b7ea-8fe2ab6d5874",
   "metadata": {
    "tags": []
   },
   "outputs": [],
   "source": [
    "def find_missing_words2(array1, array2):\n",
    "    dict1 = {}\n",
    "    dict2 = {}\n",
    "\n",
    "    for word in array1:\n",
    "        if word in dict1:\n",
    "            dict1[word] += 1\n",
    "        else:\n",
    "            dict1[word] = 1\n",
    "\n",
    "    for word in array2:\n",
    "        if word in dict2:\n",
    "            dict2[word] += 1\n",
    "        else:\n",
    "            dict2[word] = 1\n",
    "\n",
    "    missing_words = []\n",
    "    total_missing = 0\n",
    "    for word in dict1:\n",
    "        if word not in dict2:\n",
    "            missing_words.append((word, dict1[word]))\n",
    "            total_missing += dict1[word]\n",
    "        elif dict1[word] > dict2[word]:\n",
    "            missing_words.append((word, dict1[word] - dict2[word]))\n",
    "            total_missing += dict1[word] - dict2[word]\n",
    "\n",
    "    return missing_words, total_missing\n"
   ]
  },
  {
   "cell_type": "code",
   "execution_count": 44,
   "id": "de93cd3b-e709-441c-b5d4-991f23ffb386",
   "metadata": {},
   "outputs": [],
   "source": [
    "all_words = words.word # Initial metadata\n",
    "word_left_after_match = events_df.word # After matchlist\n",
    "missing, total= find_missing_words2(words.word, word_left_after_match)"
   ]
  },
  {
   "cell_type": "code",
   "execution_count": 45,
   "id": "8b652525-3c06-4c2f-8513-3960f2a84a52",
   "metadata": {},
   "outputs": [
    {
     "data": {
      "text/plain": [
       "(121,\n",
       " [('j', 1),\n",
       "  ('avais', 3),\n",
       "  ('ai', 1),\n",
       "  ('un', 2),\n",
       "  ('la', 3),\n",
       "  ('s', 1),\n",
       "  ('ça', 1),\n",
       "  ('du', 10),\n",
       "  (' ', 18),\n",
       "  ('on', 2),\n",
       "  ('les', 1),\n",
       "  ('boas', 1),\n",
       "  ('leur', 1),\n",
       "  ('bouger', 1),\n",
       "  ('de', 1),\n",
       "  ('beaucoup', 1),\n",
       "  ('à', 1),\n",
       "  ('mon', 1),\n",
       "  ('il', 1),\n",
       "  ('aux', 1),\n",
       "  ('je', 2),\n",
       "  ('ont', 1),\n",
       "  ('répondu', 1),\n",
       "  ('chapeau', 1),\n",
       "  ('pas', 2),\n",
       "  ('éléphant', 1),\n",
       "  ('que', 1),\n",
       "  ('conseillé', 1),\n",
       "  ('géographie', 1),\n",
       "  ('histoire', 1),\n",
       "  ('au', 7),\n",
       "  ('est', 4),\n",
       "  ('abandonné', 1),\n",
       "  ('rien', 1),\n",
       "  ('oeil', 1),\n",
       "  ('arizona', 1),\n",
       "  ('très', 2),\n",
       "  ('égaré', 1),\n",
       "  ('chez', 1),\n",
       "  ('n', 1),\n",
       "  ('lui', 1),\n",
       "  ('étoiles', 1),\n",
       "  ('cravates', 1),\n",
       "  ('connaître', 1),\n",
       "  ('parler', 1),\n",
       "  ('endormi', 1),\n",
       "  ('étais', 1),\n",
       "  ('milieu', 1),\n",
       "  ('océan', 1),\n",
       "  ('mouton', 1),\n",
       "  ('sérieuse', 1),\n",
       "  ('ose', 1),\n",
       "  ('répondit', 1),\n",
       "  ('fus', 1),\n",
       "  ('répondre', 1),\n",
       "  ('veux', 1),\n",
       "  ('dangereux', 1),\n",
       "  ('encombrant', 1),\n",
       "  ('cornes', 1),\n",
       "  ('caisse', 1),\n",
       "  ('herbe', 1),\n",
       "  ('donné', 1),\n",
       "  ('venait', 1),\n",
       "  ('avion', 1),\n",
       "  ('prenne', 1),\n",
       "  ('ajouta', 1),\n",
       "  ('planète', 1),\n",
       "  ('loin', 1),\n",
       "  ('enfonça', 1),\n",
       "  ('se', 1),\n",
       "  ('as', 1),\n",
       "  ('donnée', 1),\n",
       "  ('attacher', 1),\n",
       "  ('idée', 1),\n",
       "  ('attaches', 1),\n",
       "  ('importe', 1),\n",
       "  ('perdra', 1)])"
      ]
     },
     "execution_count": 45,
     "metadata": {},
     "output_type": "execute_result"
    }
   ],
   "source": [
    "total, missing\n",
    "# It matches perfectly with the number of words missing"
   ]
  },
  {
   "cell_type": "markdown",
   "id": "1087cf41-c5ca-4dd6-9081-bc239458bb2f",
   "metadata": {},
   "source": [
    "Next step: understanding which starts are linked with the words so I could see if it's regular / linked to a particular type of word / etc\n",
    "\n",
    "To do so, let's get the indices that didn't survive match list, and get information on both:\n",
    "\n",
    "words (confirm it's the same as previously found)\n",
    "\n",
    "their starts: is it constant, linear, etc.."
   ]
  },
  {
   "cell_type": "code",
   "execution_count": 46,
   "id": "2299b4fe-a537-4ec9-beaf-095e4745907e",
   "metadata": {},
   "outputs": [
    {
     "data": {
      "text/html": [
       "<div>\n",
       "<style scoped>\n",
       "    .dataframe tbody tr th:only-of-type {\n",
       "        vertical-align: middle;\n",
       "    }\n",
       "\n",
       "    .dataframe tbody tr th {\n",
       "        vertical-align: top;\n",
       "    }\n",
       "\n",
       "    .dataframe thead th {\n",
       "        text-align: right;\n",
       "    }\n",
       "</style>\n",
       "<table border=\"1\" class=\"dataframe\">\n",
       "  <thead>\n",
       "    <tr style=\"text-align: right;\">\n",
       "      <th></th>\n",
       "      <th>Unnamed: 0</th>\n",
       "      <th>onset</th>\n",
       "      <th>duration</th>\n",
       "      <th>trial_type</th>\n",
       "      <th>start</th>\n",
       "      <th>word</th>\n",
       "    </tr>\n",
       "  </thead>\n",
       "  <tbody>\n",
       "    <tr>\n",
       "      <th>37</th>\n",
       "      <td>37</td>\n",
       "      <td>17.650</td>\n",
       "      <td>0.07500</td>\n",
       "      <td>{'kind': 'word', 'word': 'du'}</td>\n",
       "      <td>17.650</td>\n",
       "      <td>du</td>\n",
       "    </tr>\n",
       "    <tr>\n",
       "      <th>38</th>\n",
       "      <td>38</td>\n",
       "      <td>17.725</td>\n",
       "      <td>0.07500</td>\n",
       "      <td>{'kind': 'word', 'word': ' '}</td>\n",
       "      <td>17.725</td>\n",
       "      <td></td>\n",
       "    </tr>\n",
       "    <tr>\n",
       "      <th>61</th>\n",
       "      <td>61</td>\n",
       "      <td>27.060</td>\n",
       "      <td>0.46424</td>\n",
       "      <td>{'kind': 'word', 'word': 'bouger'}</td>\n",
       "      <td>27.060</td>\n",
       "      <td>bouger</td>\n",
       "    </tr>\n",
       "    <tr>\n",
       "      <th>107</th>\n",
       "      <td>107</td>\n",
       "      <td>45.690</td>\n",
       "      <td>0.26000</td>\n",
       "      <td>{'kind': 'word', 'word': 'ça'}</td>\n",
       "      <td>45.690</td>\n",
       "      <td>ça</td>\n",
       "    </tr>\n",
       "    <tr>\n",
       "      <th>115</th>\n",
       "      <td>115</td>\n",
       "      <td>48.910</td>\n",
       "      <td>0.06000</td>\n",
       "      <td>{'kind': 'word', 'word': 'aux'}</td>\n",
       "      <td>48.910</td>\n",
       "      <td>aux</td>\n",
       "    </tr>\n",
       "    <tr>\n",
       "      <th>...</th>\n",
       "      <td>...</td>\n",
       "      <td>...</td>\n",
       "      <td>...</td>\n",
       "      <td>...</td>\n",
       "      <td>...</td>\n",
       "      <td>...</td>\n",
       "    </tr>\n",
       "    <tr>\n",
       "      <th>1563</th>\n",
       "      <td>1563</td>\n",
       "      <td>586.240</td>\n",
       "      <td>0.37000</td>\n",
       "      <td>{'kind': 'word', 'word': 'attaches'}</td>\n",
       "      <td>586.240</td>\n",
       "      <td>attaches</td>\n",
       "    </tr>\n",
       "    <tr>\n",
       "      <th>1568</th>\n",
       "      <td>1568</td>\n",
       "      <td>587.340</td>\n",
       "      <td>0.39000</td>\n",
       "      <td>{'kind': 'word', 'word': 'importe'}</td>\n",
       "      <td>587.340</td>\n",
       "      <td>importe</td>\n",
       "    </tr>\n",
       "    <tr>\n",
       "      <th>1572</th>\n",
       "      <td>1572</td>\n",
       "      <td>588.280</td>\n",
       "      <td>0.20000</td>\n",
       "      <td>{'kind': 'word', 'word': 'se'}</td>\n",
       "      <td>588.280</td>\n",
       "      <td>se</td>\n",
       "    </tr>\n",
       "    <tr>\n",
       "      <th>1573</th>\n",
       "      <td>1573</td>\n",
       "      <td>588.480</td>\n",
       "      <td>0.45000</td>\n",
       "      <td>{'kind': 'word', 'word': 'perdra'}</td>\n",
       "      <td>588.480</td>\n",
       "      <td>perdra</td>\n",
       "    </tr>\n",
       "    <tr>\n",
       "      <th>1631</th>\n",
       "      <td>1631</td>\n",
       "      <td>610.200</td>\n",
       "      <td>0.18000</td>\n",
       "      <td>{'kind': 'word', 'word': 'loin'}</td>\n",
       "      <td>610.200</td>\n",
       "      <td>loin</td>\n",
       "    </tr>\n",
       "  </tbody>\n",
       "</table>\n",
       "<p>121 rows × 6 columns</p>\n",
       "</div>"
      ],
      "text/plain": [
       "      Unnamed: 0    onset  duration                            trial_type  \\\n",
       "37            37   17.650   0.07500        {'kind': 'word', 'word': 'du'}   \n",
       "38            38   17.725   0.07500         {'kind': 'word', 'word': ' '}   \n",
       "61            61   27.060   0.46424    {'kind': 'word', 'word': 'bouger'}   \n",
       "107          107   45.690   0.26000        {'kind': 'word', 'word': 'ça'}   \n",
       "115          115   48.910   0.06000       {'kind': 'word', 'word': 'aux'}   \n",
       "...          ...      ...       ...                                   ...   \n",
       "1563        1563  586.240   0.37000  {'kind': 'word', 'word': 'attaches'}   \n",
       "1568        1568  587.340   0.39000   {'kind': 'word', 'word': 'importe'}   \n",
       "1572        1572  588.280   0.20000        {'kind': 'word', 'word': 'se'}   \n",
       "1573        1573  588.480   0.45000    {'kind': 'word', 'word': 'perdra'}   \n",
       "1631        1631  610.200   0.18000      {'kind': 'word', 'word': 'loin'}   \n",
       "\n",
       "        start      word  \n",
       "37     17.650        du  \n",
       "38     17.725            \n",
       "61     27.060    bouger  \n",
       "107    45.690        ça  \n",
       "115    48.910       aux  \n",
       "...       ...       ...  \n",
       "1563  586.240  attaches  \n",
       "1568  587.340   importe  \n",
       "1572  588.280        se  \n",
       "1573  588.480    perdra  \n",
       "1631  610.200      loin  \n",
       "\n",
       "[121 rows x 6 columns]"
      ]
     },
     "execution_count": 46,
     "metadata": {},
     "output_type": "execute_result"
    }
   ],
   "source": [
    "opposite_events_df"
   ]
  },
  {
   "cell_type": "code",
   "execution_count": 54,
   "id": "8681d2ff-2025-45ab-adfa-0d6199647d79",
   "metadata": {},
   "outputs": [
    {
     "data": {
      "text/plain": [
       "array(['du', ' ', 'bouger', 'ça', 'aux', 'je', 'leur', 'répondu', 'ont',\n",
       "       'conseillé', 'histoire', 'au', 'abandonné', 'j', 'ai', 'la',\n",
       "       'géographie', 'beaucoup', 'oeil', 'arizona', 'on', 's', 'est',\n",
       "       'égaré', 'chapeau', 'lui', 'étoiles', 'de', 'cravates',\n",
       "       'connaître', 'avais', 'milieu', 'océan', 'pas', 'n', 'rien', 'les',\n",
       "       'boas', 'parler', 'sérieuse', 'ose', 'répondre', 'veux', 'un',\n",
       "       'éléphant', 'très', 'dangereux', 'encombrant', 'mouton', 'cornes',\n",
       "       'caisse', 'fus', 'herbe', 'à', 'donné', 'endormi', 'il', 'venait',\n",
       "       'mon', 'étais', 'prenne', 'ajouta', 'planète', 'répondit', 'avion',\n",
       "       'enfonça', 'chez', 'as', 'donnée', 'que', 'attacher', 'idée',\n",
       "       'attaches', 'importe', 'se', 'perdra', 'loin'], dtype=object)"
      ]
     },
     "execution_count": 54,
     "metadata": {},
     "output_type": "execute_result"
    }
   ],
   "source": [
    "# Verify that they are the right words\n",
    "pd.unique(opposite_events_df.word)"
   ]
  },
  {
   "cell_type": "code",
   "execution_count": 57,
   "id": "16b423aa-58a7-4219-b628-9137314c9359",
   "metadata": {},
   "outputs": [
    {
     "name": "stdout",
     "output_type": "stream",
     "text": [
      "            18\n",
      "du          10\n",
      "au           7\n",
      "est          4\n",
      "la           3\n",
      "            ..\n",
      "les          1\n",
      "boas         1\n",
      "sérieuse     1\n",
      "ose          1\n",
      "loin         1\n",
      "Name: word, Length: 77, dtype: int64\n"
     ]
    },
    {
     "data": {
      "text/plain": [
       "121"
      ]
     },
     "execution_count": 57,
     "metadata": {},
     "output_type": "execute_result"
    }
   ],
   "source": [
    "print(opposite_events_df.word.value_counts())\n",
    "opposite_events_df.word.value_counts().sum()"
   ]
  },
  {
   "cell_type": "code",
   "execution_count": 48,
   "id": "7588f6d4-31d4-48b3-ab03-b6e5d3932ef9",
   "metadata": {},
   "outputs": [
    {
     "data": {
      "text/plain": [
       "(121,)"
      ]
     },
     "execution_count": 48,
     "metadata": {},
     "output_type": "execute_result"
    }
   ],
   "source": [
    "opposite_indices.shape"
   ]
  },
  {
   "cell_type": "code",
   "execution_count": 63,
   "id": "e0869f1d-8cc0-401a-b249-c8e9e069dd41",
   "metadata": {},
   "outputs": [
    {
     "data": {
      "text/plain": [
       "Text(0, 0.5, 'Difference between two starts in seconds')"
      ]
     },
     "execution_count": 63,
     "metadata": {},
     "output_type": "execute_result"
    },
    {
     "data": {
      "image/png": "[encoded data removed]",
      "text/plain": [
       "<Figure size 432x288 with 1 Axes>"
      ]
     },
     "metadata": {
      "needs_background": "light"
     },
     "output_type": "display_data"
    }
   ],
   "source": [
    "# Let's plot their start distribution, to see if the points are evenly \n",
    "\n",
    "messed_up_starts = opposite_events_df.start\n",
    "\n",
    "plt.plot(messed_up_starts.index[:-1], np.diff(messed_up_starts))\n",
    "plt.xlabel(\"Sample N° of missed word\")\n",
    "plt.ylabel(\"Difference between two starts in seconds\")\n"
   ]
  },
  {
   "cell_type": "markdown",
   "id": "e8a954f9-c61d-4f11-ba4a-ae3f976bf053",
   "metadata": {
    "tags": []
   },
   "source": [
    "# Problem on trigger numbers\n",
    "\n",
    "Let's iterate on subjects and see how many triggers there are for each"
   ]
  },
  {
   "cell_type": "code",
   "execution_count": 32,
   "id": "0cd152e1-e2c7-4d1b-ad57-0fadc70c7122",
   "metadata": {},
   "outputs": [],
   "source": [
    "from pathlib import Path \n",
    "def testing_nb_triggers(subject, modality=\"auditory\", run_id=1, shortest_event=1):\n",
    "    path = Path(\"/media/co/T7/workspace-LPP/data/MEG/LPP/PallierListen2023/download\")\n",
    "    task_map = {\"auditory\": \"listen\", \"visual\": \"read\", \"fmri\": \"listen\"}\n",
    "    task = task_map[modality]\n",
    "    print(f\"\\n Epoching for run {run_id}, subject: {subject}\\n\")\n",
    "    bids_path = mne_bids.BIDSPath(\n",
    "        subject=subject,\n",
    "        session=\"01\",\n",
    "        task=task,\n",
    "        datatype=\"meg\",\n",
    "        root=path,\n",
    "        run=run_id,\n",
    "    )\n",
    "\n",
    "    raw = mne_bids.read_raw_bids(bids_path)\n",
    "    # triggers = mne.find_events(raw, stim_channel=\"STI101\", shortest_event=1)\n",
    "    triggers = mne.find_events(raw, stim_channel=\"STI101\", shortest_event=shortest_event)\n",
    "\n",
    "    raw.del_proj()  # To fix proj issues\n",
    "    raw.pick_types(meg=True, stim=False)\n",
    "    raw.load_data()\n",
    "\n",
    "    # Generate event_file path\n",
    "    event_file = path / f\"sub-{bids_path.subject}\"\n",
    "    event_file = event_file / f\"ses-{bids_path.session}\"\n",
    "    event_file = event_file / \"meg\"\n",
    "    event_file = str(event_file / f\"sub-{bids_path.subject}\")\n",
    "    event_file += f\"_ses-{bids_path.session}\"\n",
    "    event_file += f\"_task-{bids_path.task}\"\n",
    "    event_file += f\"_run-{bids_path.run}_events.tsv\"\n",
    "    assert Path(event_file).exists()\n",
    "\n",
    "    meta = pd.read_csv(event_file, sep=\"\\t\")\n",
    "\n",
    "    meta['start'] = meta.onset\n",
    "\n",
    "    words = meta\n",
    "\n",
    "    events_df = meta\n",
    "    # Triggers from the MEG: :, 2 is the trigger value: 1 is a word, 128 is the start / end\n",
    "    word_triggers = triggers[triggers[:, 2] > 1]\n",
    "    \n",
    "    length = (word_triggers[-1][0] - word_triggers[0][0]) / raw.info['sfreq']\n",
    "    \n",
    "    first_stop = (triggers[1,0] - triggers[0,0]) / raw.info['sfreq']\n",
    "    \n",
    "    if True:\n",
    "        ## DOING THE MATCH LIST\n",
    "\n",
    "        events_df[\"word\"] = meta[\"trial_type\"].apply(\n",
    "                lambda x: eval(x)[\"word\"] if type(eval(x)) == dict else np.nan)\n",
    "\n",
    "        decimals = 2\n",
    "        triggers_delta = np.round(np.diff(word_triggers[:, 0] / raw.info[\"sfreq\"]), decimals=decimals)  # type: ignore\n",
    "        events_delta = np.round(np.diff(words.start.values), decimals=decimals)  # type: ignore\n",
    "        i, j = match_list(triggers_delta, events_delta)\n",
    "\n",
    "        assert len(i) / len(words) > 0.7, (\n",
    "             f\"only {len(i)/len(words)} of the words were found in the triggers\"\n",
    "        )\n",
    "        print(f\"Found {len(i)/len(words)} of the words in the triggers\")\n",
    "\n",
    "        true_indices = words.iloc[j].index\n",
    "\n",
    "        # Find the missing words df\n",
    "        opposite_indices = events_df.index.difference(true_indices)\n",
    "        opposite_events_df = events_df.loc[opposite_indices]\n",
    "\n",
    "\n",
    "        events_df = events_df.loc[true_indices].copy()\n",
    "\n",
    "        events_df.loc[true_indices, \"start\"] = (\n",
    "            word_triggers[i, 0] / raw.info[\"sfreq\"]\n",
    "        )\n",
    "\n",
    "    return word_triggers.shape[0], length, first_stop, len(i)"
   ]
  },
  {
   "cell_type": "markdown",
   "id": "166a5623-7869-4789-a809-91608c85d2de",
   "metadata": {
    "tags": []
   },
   "source": [
    "# Testing the shortest event"
   ]
  },
  {
   "cell_type": "code",
   "execution_count": 41,
   "id": "d2a25cba-e006-4688-8566-1bbe685a9406",
   "metadata": {
    "tags": []
   },
   "outputs": [
    {
     "name": "stdout",
     "output_type": "stream",
     "text": [
      "\n",
      " Epoching for run 1, subject: 24\n",
      "\n"
     ]
    },
    {
     "ename": "AssertionError",
     "evalue": "only 0.5661764705882353 of the words were found in the triggers",
     "output_type": "error",
     "traceback": [
      "\u001b[0;31m---------------------------------------------------------------------------\u001b[0m",
      "\u001b[0;31mAssertionError\u001b[0m                            Traceback (most recent call last)",
      "Cell \u001b[0;32mIn [41], line 7\u001b[0m\n\u001b[1;32m      4\u001b[0m nb_trigg \u001b[38;5;241m=\u001b[39m {}\n\u001b[1;32m      5\u001b[0m \u001b[38;5;28;01mfor\u001b[39;00m shortest \u001b[38;5;129;01min\u001b[39;00m shortest_events:\n\u001b[0;32m----> 7\u001b[0m     triggs, _, _ \u001b[38;5;241m=\u001b[39m \u001b[43mtesting_nb_triggers\u001b[49m\u001b[43m(\u001b[49m\u001b[43msubject\u001b[49m\u001b[43m \u001b[49m\u001b[38;5;241;43m=\u001b[39;49m\u001b[43m \u001b[49m\u001b[38;5;28;43mstr\u001b[39;49m\u001b[43m(\u001b[49m\u001b[43msubject\u001b[49m\u001b[43m)\u001b[49m\u001b[43m,\u001b[49m\u001b[43m \u001b[49m\u001b[43mshortest_event\u001b[49m\u001b[38;5;241;43m=\u001b[39;49m\u001b[43mshortest\u001b[49m\u001b[43m)\u001b[49m\n\u001b[1;32m      8\u001b[0m     nb_trigg[shortest] \u001b[38;5;241m=\u001b[39m triggs\n",
      "Cell \u001b[0;32mIn [40], line 59\u001b[0m, in \u001b[0;36mtesting_nb_triggers\u001b[0;34m(subject, modality, run_id, shortest_event)\u001b[0m\n\u001b[1;32m     56\u001b[0m events_delta \u001b[38;5;241m=\u001b[39m np\u001b[38;5;241m.\u001b[39mround(np\u001b[38;5;241m.\u001b[39mdiff(words\u001b[38;5;241m.\u001b[39mstart\u001b[38;5;241m.\u001b[39mvalues), decimals\u001b[38;5;241m=\u001b[39mdecimals)  \u001b[38;5;66;03m# type: ignore\u001b[39;00m\n\u001b[1;32m     57\u001b[0m i, j \u001b[38;5;241m=\u001b[39m match_list(triggers_delta, events_delta)\n\u001b[0;32m---> 59\u001b[0m \u001b[38;5;28;01massert\u001b[39;00m \u001b[38;5;28mlen\u001b[39m(i) \u001b[38;5;241m/\u001b[39m \u001b[38;5;28mlen\u001b[39m(words) \u001b[38;5;241m>\u001b[39m \u001b[38;5;241m0.7\u001b[39m, (\n\u001b[1;32m     60\u001b[0m      \u001b[38;5;124mf\u001b[39m\u001b[38;5;124m\"\u001b[39m\u001b[38;5;124monly \u001b[39m\u001b[38;5;132;01m{\u001b[39;00m\u001b[38;5;28mlen\u001b[39m(i)\u001b[38;5;241m/\u001b[39m\u001b[38;5;28mlen\u001b[39m(words)\u001b[38;5;132;01m}\u001b[39;00m\u001b[38;5;124m of the words were found in the triggers\u001b[39m\u001b[38;5;124m\"\u001b[39m\n\u001b[1;32m     61\u001b[0m )\n\u001b[1;32m     62\u001b[0m \u001b[38;5;28mprint\u001b[39m(\u001b[38;5;124mf\u001b[39m\u001b[38;5;124m\"\u001b[39m\u001b[38;5;124mFound \u001b[39m\u001b[38;5;132;01m{\u001b[39;00m\u001b[38;5;28mlen\u001b[39m(i)\u001b[38;5;241m/\u001b[39m\u001b[38;5;28mlen\u001b[39m(words)\u001b[38;5;132;01m}\u001b[39;00m\u001b[38;5;124m of the words in the triggers\u001b[39m\u001b[38;5;124m\"\u001b[39m)\n\u001b[1;32m     64\u001b[0m true_indices \u001b[38;5;241m=\u001b[39m words\u001b[38;5;241m.\u001b[39miloc[j]\u001b[38;5;241m.\u001b[39mindex\n",
      "\u001b[0;31mAssertionError\u001b[0m: only 0.5661764705882353 of the words were found in the triggers"
     ]
    }
   ],
   "source": [
    "# Test the impact of shortest event\n",
    "shortest_events = [0.01, 0.1, 1, 1.00000001, 10]\n",
    "subject = '24'\n",
    "nb_trigg = {}\n",
    "for shortest in shortest_events:\n",
    "    \n",
    "    triggs, _, _ = testing_nb_triggers(subject = str(subject), shortest_event=shortest)\n",
    "    nb_trigg[shortest] = triggs"
   ]
  },
  {
   "cell_type": "code",
   "execution_count": 33,
   "id": "f6e0524c-1def-4660-9eb4-69557d75ed08",
   "metadata": {},
   "outputs": [
    {
     "data": {
      "text/plain": [
       "{0.01: 2148, 0.1: 2148, 1: 2148, 1.00000001: 2148, 10: 2148}"
      ]
     },
     "execution_count": 33,
     "metadata": {},
     "output_type": "execute_result"
    }
   ],
   "source": [
    "nb_trigg"
   ]
  },
  {
   "cell_type": "code",
   "execution_count": 45,
   "id": "49599895-2efe-4afd-b91a-fbe947223df5",
   "metadata": {},
   "outputs": [
    {
     "name": "stdout",
     "output_type": "stream",
     "text": [
      "\n",
      " Epoching for run 02, subject: 2\n",
      "\n",
      "Found 0.9876888640179071 of the words in the triggers\n",
      "\n",
      " Epoching for run 02, subject: 3\n",
      "\n",
      "Found 0.987129266927812 of the words in the triggers\n",
      "\n",
      " Epoching for run 02, subject: 4\n",
      "\n",
      "Found 0.9865696698377169 of the words in the triggers\n",
      "\n",
      " Epoching for run 02, subject: 5\n",
      "\n",
      "Found 0.9904868494683827 of the words in the triggers\n",
      "\n",
      " Epoching for run 02, subject: 6\n",
      "\n",
      "Found 0.9888080581980974 of the words in the triggers\n",
      "\n",
      " Epoching for run 02, subject: 7\n",
      "\n",
      "Found 0.9882484611080022 of the words in the triggers\n",
      "\n",
      " Epoching for run 02, subject: 8\n",
      "\n",
      "Found 0.9826524902070509 of the words in the triggers\n",
      "\n",
      " Epoching for run 02, subject: 9\n",
      "\n",
      "Found 0.9854504756575265 of the words in the triggers\n"
     ]
    }
   ],
   "source": [
    "import mne\n",
    "import logging\n",
    "import mne_bids\n",
    "# Set the logger level to WARNING to reduce verbosity\n",
    "logger = logging.getLogger('mne')\n",
    "logger.setLevel(logging.ERROR)\n",
    "\n",
    "number_of_triggers = []\n",
    "length_total = []\n",
    "first_stops = []\n",
    "after_matches = []\n",
    "\n",
    "for subject in range(2,10):\n",
    "    if subject == 23:\n",
    "        continue\n",
    "    nb_triggers, length, first, after_match = testing_nb_triggers(subject = str(subject), run_id = '02')\n",
    "    number_of_triggers.append(nb_triggers)\n",
    "    length_total.append(length)\n",
    "    first_stops.append(first)\n",
    "    after_matches.append(after_match)\n",
    "    \n",
    "    "
   ]
  },
  {
   "cell_type": "markdown",
   "id": "02a8aeb9-14f5-4016-b2ce-d328dcef3754",
   "metadata": {},
   "source": [
    "Now plotting the information found, iterating on the subjects, understanding:\n",
    "\n",
    "- How many triggers are present originally\n",
    "\n",
    "- How many are left after the match list"
   ]
  },
  {
   "cell_type": "code",
   "execution_count": 50,
   "id": "d3c8b1d6-7503-4018-9380-626870ee68f7",
   "metadata": {},
   "outputs": [
    {
     "data": {
      "text/plain": [
       "[1800, 1768, 1768, 1893, 1768, 1768, 2614, 1776]"
      ]
     },
     "execution_count": 50,
     "metadata": {},
     "output_type": "execute_result"
    }
   ],
   "source": [
    "number_of_triggers"
   ]
  },
  {
   "cell_type": "code",
   "execution_count": 51,
   "id": "3e74f733-7883-4e65-901c-22bb9eaca481",
   "metadata": {},
   "outputs": [
    {
     "data": {
      "text/plain": [
       "[1765, 1764, 1763, 1770, 1767, 1766, 1756, 1761]"
      ]
     },
     "execution_count": 51,
     "metadata": {},
     "output_type": "execute_result"
    }
   ],
   "source": [
    "after_matches"
   ]
  },
  {
   "cell_type": "code",
   "execution_count": 46,
   "id": "e077c0f9-19f1-413b-8cc3-b417f84b98cb",
   "metadata": {},
   "outputs": [
    {
     "data": {
      "text/plain": [
       "Text(0.5, 1.0, 'Number of triggers before and after match list')"
      ]
     },
     "execution_count": 46,
     "metadata": {},
     "output_type": "execute_result"
    },
    {
     "data": {
      "image/png": "[encoded data removed]",
      "text/plain": [
       "<Figure size 432x288 with 1 Axes>"
      ]
     },
     "metadata": {
      "needs_background": "light"
     },
     "output_type": "display_data"
    }
   ],
   "source": [
    "plt.plot(number_of_triggers)\n",
    "plt.plot(after_matches)\n",
    "plt.title(\"Number of triggers before and after match list\")"
   ]
  },
  {
   "cell_type": "code",
   "execution_count": 47,
   "id": "eb713e8b-0ece-4bae-bfd1-b7212a26dbb0",
   "metadata": {},
   "outputs": [
    {
     "data": {
      "text/plain": [
       "Text(0.5, 1.0, 'Average time of the initial stop')"
      ]
     },
     "execution_count": 47,
     "metadata": {},
     "output_type": "execute_result"
    },
    {
     "data": {
      "image/png": "[encoded data removed]",
      "text/plain": [
       "<Figure size 432x288 with 1 Axes>"
      ]
     },
     "metadata": {
      "needs_background": "light"
     },
     "output_type": "display_data"
    }
   ],
   "source": [
    "plt.plot(first_stops)\n",
    "plt.title(\"Average time of the initial stop\")"
   ]
  },
  {
   "cell_type": "code",
   "execution_count": 48,
   "id": "7ce87f2c-6f36-409e-8559-2467514e900b",
   "metadata": {},
   "outputs": [
    {
     "data": {
      "text/plain": [
       "Text(0.5, 1.0, 'Length')"
      ]
     },
     "execution_count": 48,
     "metadata": {},
     "output_type": "execute_result"
    },
    {
     "data": {
      "image/png": "[encoded data removed]",
      "text/plain": [
       "<Figure size 432x288 with 1 Axes>"
      ]
     },
     "metadata": {
      "needs_background": "light"
     },
     "output_type": "display_data"
    }
   ],
   "source": [
    "plt.plot(length_total)\n",
    "plt.title(\"Length\")"
   ]
  },
  {
   "cell_type": "code",
   "execution_count": 49,
   "id": "ca42d520-0654-4f23-8948-74bfe7ca8630",
   "metadata": {},
   "outputs": [
    {
     "data": {
      "text/plain": [
       "[641.663, 641.25, 641.404, 642.023, 640.674, 640.889, 641.159, 641.303]"
      ]
     },
     "execution_count": 49,
     "metadata": {},
     "output_type": "execute_result"
    }
   ],
   "source": [
    "length_total"
   ]
  },
  {
   "cell_type": "code",
   "execution_count": 29,
   "id": "17814cd1-17c9-4a97-8f1c-3c0e07d54939",
   "metadata": {},
   "outputs": [
    {
     "data": {
      "text/plain": [
       "3.211"
      ]
     },
     "execution_count": 29,
     "metadata": {},
     "output_type": "execute_result"
    }
   ],
   "source": [
    "_"
   ]
  },
  {
   "cell_type": "code",
   "execution_count": null,
   "id": "eca6f6b9-8489-473b-b8d6-b087405f5375",
   "metadata": {},
   "outputs": [],
   "source": []
  }
 ],
 "metadata": {
  "kernelspec": {
   "display_name": "Python 3",
   "language": "python",
   "name": "python3"
  },
  "language_info": {
   "codemirror_mode": {
    "name": "ipython",
    "version": 3
   },
   "file_extension": ".py",
   "mimetype": "text/x-python",
   "name": "python",
   "nbconvert_exporter": "python",
   "pygments_lexer": "ipython3",
   "version": "3.9.18"
  }
 },
 "nbformat": 4,
 "nbformat_minor": 5
}
