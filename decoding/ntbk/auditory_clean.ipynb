{
 "cells": [
  {
   "cell_type": "markdown",
   "id": "8c94f2ac-eafd-4ef3-b240-048cf7e432ae",
   "metadata": {},
   "source": [
    "# Clean version of the auditory debug ntbk"
   ]
  },
  {
   "cell_type": "markdown",
   "id": "96bbc2f3-5b97-4497-b2d2-038585319af5",
   "metadata": {},
   "source": [
    "# Text Grid testing"
   ]
  },
  {
   "cell_type": "code",
   "execution_count": 67,
   "id": "5c16d48c-dcd8-4e47-ae98-9b8123f0a6d4",
   "metadata": {},
   "outputs": [
    {
     "name": "stdout",
     "output_type": "stream",
     "text": [
      "For run 1\n",
      "Word count: 1614\n",
      "Grid length from Praat textgrids: 607.1500000000001 \n",
      "Grid start from audio start to first word: 3.05 \n",
      "For run 2\n",
      "Word count: 1768\n",
      "Grid length from Praat textgrids: 640.64 \n",
      "Grid start from audio start to first word: 3.11 \n",
      "For run 3\n",
      "Word count: 1861\n",
      "Grid length from Praat textgrids: 695.36 \n",
      "Grid start from audio start to first word: 3.06 \n"
     ]
    }
   ],
   "source": [
    "import textgrids as tg\n",
    "import pandas as pd\n",
    "\n",
    "\n",
    "files = [f'/home/co/tmp/testing_code/{i}.TextGrid' for i in range(1,4)]\n",
    "\n",
    "all_starts = []\n",
    "grid_starts = []\n",
    "grid_word_count = []\n",
    "\n",
    "for file in files:\n",
    "    textgrid = tg.TextGrid(file)\n",
    "    words = [interval.text for interval in (textgrid['text words']) if interval.text != \"\"]\n",
    "    starts = [interval.xmin for interval in (textgrid['text words']) if interval.text != \"\"]\n",
    "    all_starts.append(starts)\n",
    "    grid_word_count.append(len(words))\n",
    "    \n",
    "    first_pause = textgrid['text words'][0].xmax\n",
    "    grid_starts.append(first_pause)\n",
    "    \n",
    "grid_length = [starts[-1] - starts[0] for starts in all_starts]\n",
    "\n",
    "for i in range(len(grid_length)):\n",
    "    print(f'For run {i+1}')\n",
    "    print(f'Word count: {grid_word_count[i]}')\n",
    "    print(f'Grids word length from Praat textgrids: {grid_length[i]} ') \n",
    "    print(f'Grid start from audio start to first word: {grid_starts[i]} ') \n"
   ]
  },
  {
   "cell_type": "markdown",
   "id": "04ffe7d3-856a-4f31-a9b9-eb281ad4001b",
   "metadata": {},
   "source": [
    "# Wav File testing"
   ]
  },
  {
   "cell_type": "code",
   "execution_count": 83,
   "id": "a8ba3d83-c873-43dd-b7d6-2de3b7187e36",
   "metadata": {},
   "outputs": [
    {
     "name": "stdout",
     "output_type": "stream",
     "text": [
      "For run: 1\n",
      "Word count: 1614\n",
      "Length of word triggers in the audio file :  607.15\n",
      "TOTAL Length of the audio file :  613.5172789115646\n",
      "Wav start from audio start to first word: 3.0499773242630384 \n",
      "For run: 2\n",
      "Word count: 1768\n",
      "Length of word triggers in the audio file :  640.64\n",
      "TOTAL Length of the audio file :  647.0398412698413\n",
      "Wav start from audio start to first word: 3.1099773242630384 \n",
      "For run: 3\n",
      "Word count: 1861\n",
      "Length of word triggers in the audio file :  695.36\n",
      "TOTAL Length of the audio file :  702.2595011337869\n",
      "Wav start from audio start to first word: 3.0599773242630386 \n",
      "For run: 4\n",
      "Word count: 1641\n",
      "Length of word triggers in the audio file :  617.63\n",
      "TOTAL Length of the audio file :  624.4917233560091\n",
      "Wav start from audio start to first word: 3.0699773242630384 \n",
      "For run: 5\n",
      "Word count: 1520\n",
      "Length of word triggers in the audio file :  574.5\n",
      "TOTAL Length of the audio file :  580.9757596371882\n",
      "Wav start from audio start to first word: 3.0799773242630386 \n",
      "For run: 6\n",
      "Word count: 1845\n",
      "Length of word triggers in the audio file :  743.53\n",
      "TOTAL Length of the audio file :  750.3795011337869\n",
      "Wav start from audio start to first word: 3.1299773242630384 \n",
      "For run: 7\n",
      "Word count: 1696\n",
      "Length of word triggers in the audio file :  651.27\n",
      "TOTAL Length of the audio file :  658.472403628118\n",
      "Wav start from audio start to first word: 3.1199773242630386 \n",
      "For run: 8\n",
      "Word count: 1516\n",
      "Length of word triggers in the audio file :  575.98\n",
      "TOTAL Length of the audio file :  583.1757596371882\n",
      "Wav start from audio start to first word: 3.0999773242630386 \n",
      "For run: 9\n",
      "Word count: 1797\n",
      "Length of word triggers in the audio file :  659.02\n",
      "TOTAL Length of the audio file :  667.9828798185941\n",
      "Wav start from audio start to first word: 3.3999773242630384 \n"
     ]
    }
   ],
   "source": [
    "import numpy as np \n",
    "from scipy.io import wavfile\n",
    "import matplotlib.pyplot as plt\n",
    "\n",
    "CHAPTER_PATHS = [\n",
    "    \"ch1-3.wav\",\n",
    "    \"ch4-6.wav\",\n",
    "    \"ch7-9.wav\",\n",
    "    \"ch10-12.wav\",\n",
    "    \"ch13-14.wav\",\n",
    "    \"ch15-19.wav\",\n",
    "    \"ch20-22.wav\",\n",
    "    \"ch23-25.wav\",\n",
    "    \"ch26-27.wav\",\n",
    "]\n",
    "\n",
    "audio_word_trigger_length = []\n",
    "\n",
    "for i, chapter in enumerate(CHAPTER_PATHS):\n",
    "    wav_file = f'/home/co/data/neuralset/LPP_copy/PallierListen2023/download/sourcedata/stimuli/audio/{chapter}'\n",
    "    duration = get_wav_duration(wav_file)\n",
    "    fs, data = wavfile.read(wav_file)\n",
    "\n",
    "    # Getting the channel for the triggers encoded in the 2nd part of the wav\n",
    "    data = data[:,1]\n",
    "    data = np.round(data / 30000)\n",
    "    diff = np.diff(data)\n",
    "    audio_triggers = np.where(diff == 1)[0]\n",
    "    word_total_length =  (audio_triggers[-1] - audio_triggers[0] )/ fs\n",
    "    \n",
    "    audio_word_trigger_length.append(word_total_length)\n",
    "    print(f'For run: {i+1}')\n",
    "    print(f'Word count:' , len(audio_triggers))\n",
    "    print(\"Length of word triggers in the audio file : \", word_total_length)\n",
    "    print(\"TOTAL Length of the audio file : \", duration)\n",
    "    print(f'Wav start from audio start to first word: {audio_triggers[0] / fs} ') \n",
    "\n",
    "    "
   ]
  },
  {
   "cell_type": "markdown",
   "id": "72997aad-14cf-4a12-9ace-837bce58de48",
   "metadata": {},
   "source": [
    "# Metadata testing"
   ]
  },
  {
   "cell_type": "markdown",
   "id": "df564b5d-e83e-4e0f-b3d5-82569fb3e437",
   "metadata": {},
   "source": [
    "There is an inherent problem that I could fix with the metadata. In the textgrid, there is a weird jump with du (it is always followed by an empty event \"\").\n",
    "\n",
    "I added it to the metadata, but it is not present in the triggers. It means a difference of ~40 words that are missed when matching on metadata with triggers. "
   ]
  },
  {
   "cell_type": "code",
   "execution_count": 80,
   "id": "0638bbd6-cd8f-4e46-b3a9-dc99cd8f597d",
   "metadata": {},
   "outputs": [
    {
     "name": "stdout",
     "output_type": "stream",
     "text": [
      "For run 1\n",
      "Word count: 1632\n",
      "Meta length from metadata file: 607.1500000000001 \n",
      "Metadata start from audio start to first word: 3.05 \n",
      "For run 2\n",
      "Word count: 1787\n",
      "Meta length from metadata file: 640.64 \n",
      "Metadata start from audio start to first word: 3.11 \n",
      "For run 3\n",
      "Word count: 1876\n",
      "Meta length from metadata file: 695.36 \n",
      "Metadata start from audio start to first word: 3.06 \n",
      "For run 4\n",
      "Word count: 1650\n",
      "Meta length from metadata file: 617.63 \n",
      "Metadata start from audio start to first word: 3.07 \n",
      "For run 5\n",
      "Word count: 1527\n",
      "Meta length from metadata file: 574.5 \n",
      "Metadata start from audio start to first word: 3.08 \n",
      "For run 6\n",
      "Word count: 1858\n",
      "Meta length from metadata file: 743.53 \n",
      "Metadata start from audio start to first word: 3.13 \n",
      "For run 7\n",
      "Word count: 1712\n",
      "Meta length from metadata file: 651.27 \n",
      "Metadata start from audio start to first word: 3.12 \n",
      "For run 8\n",
      "Word count: 1539\n",
      "Meta length from metadata file: 575.98 \n",
      "Metadata start from audio start to first word: 3.1 \n",
      "For run 9\n",
      "Word count: 1810\n",
      "Meta length from metadata file: 659.02 \n",
      "Metadata start from audio start to first word: 3.4 \n"
     ]
    }
   ],
   "source": [
    "path = \"/home/co/data/LPP_MEG_auditory/sub-1/ses-01/meg/sub-1_ses-01_task-listen_run-\"\n",
    "\n",
    "for run in range(1,10):\n",
    "    file = path + f'0{run}_events.tsv'\n",
    "    meta = pd.read_csv(file, sep='\\t')\n",
    "    meta['start'] = meta.onset\n",
    "    \n",
    "    # Trying to remove the additional empty word\n",
    "    \n",
    "    meta_triggers = meta.start\n",
    "    print(f'For run {run}')\n",
    "    print(f'Word count: {meta.shape[0]}')\n",
    "    print(f'Meta length from metadata file: {(meta_triggers.iloc[-1] - meta_triggers.iloc[0])} ') \n",
    "    print(f'Metadata start from audio start to first word: {meta_triggers[0]} ') "
   ]
  },
  {
   "cell_type": "markdown",
   "id": "b72912ad-4fe1-4f9e-8c49-4405bcce1836",
   "metadata": {},
   "source": [
    "# Triggers testing"
   ]
  },
  {
   "cell_type": "code",
   "execution_count": 38,
   "id": "a18a4a43-36a3-4652-a1ae-a34c6cd77998",
   "metadata": {},
   "outputs": [
    {
     "name": "stdout",
     "output_type": "stream",
     "text": [
      "For run 0\n",
      "Number of word triggers: 1645 \n",
      "Trigger start from audio start to first word: 3.272 \n",
      "Total length of words triggers: 608.175\n",
      "Total length from first triger to the last: 614609\n",
      "For run 1\n",
      "Number of word triggers: 1800 \n",
      "Trigger start from audio start to first word: 3.292 \n",
      "Total length of words triggers: 641.663\n",
      "Total length from first triger to the last: 648093\n",
      "For run 2\n",
      "Number of word triggers: 1948 \n",
      "Trigger start from audio start to first word: 3.273 \n",
      "Total length of words triggers: 696.693\n",
      "Total length from first triger to the last: 703656\n",
      "For run 3\n",
      "Number of word triggers: 1786 \n",
      "Trigger start from audio start to first word: 3.264 \n",
      "Total length of words triggers: 618.564\n",
      "Total length from first triger to the last: 625497\n",
      "For run 4\n",
      "Number of word triggers: 1636 \n",
      "Trigger start from audio start to first word: 3.282 \n",
      "Total length of words triggers: 575.206\n",
      "Total length from first triger to the last: 581768\n",
      "For run 5\n",
      "Number of word triggers: 1972 \n",
      "Trigger start from audio start to first word: 3.344 \n",
      "Total length of words triggers: 744.281\n",
      "Total length from first triger to the last: 751240\n",
      "For run 6\n",
      "Number of word triggers: 1828 \n",
      "Trigger start from audio start to first word: 3.311 \n",
      "Total length of words triggers: 652.071\n",
      "Total length from first triger to the last: 659313\n",
      "For run 7\n",
      "Number of word triggers: 1625 \n",
      "Trigger start from audio start to first word: 3.332 \n",
      "Total length of words triggers: 576.04\n",
      "Total length from first triger to the last: 583618\n",
      "For run 8\n",
      "Number of word triggers: 1934 \n",
      "Trigger start from audio start to first word: 3.624 \n",
      "Total length of words triggers: 659.357\n",
      "Total length from first triger to the last: 668361\n"
     ]
    }
   ],
   "source": [
    "import mne\n",
    "import logging\n",
    "import mne_bids\n",
    "# Set the logger level to WARNING to reduce verbosity\n",
    "logger = logging.getLogger('mne')\n",
    "logger.setLevel(logging.ERROR)\n",
    "\n",
    "subject = '2'\n",
    "\n",
    "all_triggers = []  # All the trigger timings\n",
    "all_word_triggers = []  # All the word triggers\n",
    "trigger_starts = []  # The time of between first trigger (beginning of audio) and first word\n",
    "triggers_word_count = []  # The total number of word triggers for each run\n",
    "all_word_trigger_length = []  # The total length from the first word trigger to the last one\n",
    "all_trigger_length = []  # The total length from the first trigger to the last one (the whole audio file)\n",
    "\n",
    "for run in range(1,10):\n",
    "    run_id = '0'+ str(run)\n",
    "    # Audio data\n",
    "    \n",
    "    audio_data = get_audio_timestamps(subject, run_id)\n",
    "    \n",
    "    # Triggers words\n",
    "    f, triggers = get_triggers(subject, run_id)\n",
    "    all_triggers.append(triggers)\n",
    "    \n",
    "    word_triggers = triggers[triggers[:, 2] > 1][:,0]\n",
    "    all_word_triggers.append(word_triggers)\n",
    "    \n",
    "    first_diff = (triggers[1][0] - triggers[0][0]) / f\n",
    "    trigger_starts.append(first_diff)\n",
    "    \n",
    "    triggers_word_count.append(word_triggers.shape[0])\n",
    "    \n",
    "    word_trigger_length = (word_triggers[-1] - word_triggers[0]) / f\n",
    "    all_word_trigger_length.append(word_trigger_length)\n",
    "    \n",
    "    total_length = triggers[-1][0] - triggers[0][0]\n",
    "    all_trigger_length.append(total_length)\n",
    "        \n",
    "for i in range(len(all_word_trigger_length)):\n",
    "    print(f'For run {i}')\n",
    "    print(f'Number of word triggers: {triggers_word_count[i]} ') \n",
    "    print(f'Trigger start from audio start to first word: {trigger_starts[i]} ') \n",
    "    print(f'Total length of words triggers: {all_word_trigger_length[i]}')\n",
    "    print(f'Total length from first triger to the last: {all_trigger_length[i] / f}')"
   ]
  },
  {
   "cell_type": "markdown",
   "id": "f1fb3e5d-8ab6-4974-a2f9-25f07443e0b8",
   "metadata": {},
   "source": [
    "# Comparaisons\n",
    "\n",
    "Let's compare the difference between the trigger length recorded vs theoritical, between runs / subjects"
   ]
  },
  {
   "cell_type": "code",
   "execution_count": 84,
   "id": "8ab511d3-6cd6-46ad-9a99-cfced73ad5e2",
   "metadata": {},
   "outputs": [
    {
     "data": {
      "text/plain": [
       "[<matplotlib.lines.Line2D at 0x7f94f37252e0>]"
      ]
     },
     "execution_count": 84,
     "metadata": {},
     "output_type": "execute_result"
    },
    {
     "data": {
      "image/png": "[encoded data removed]",
      "text/plain": [
       "<Figure size 432x288 with 1 Axes>"
      ]
     },
     "metadata": {
      "needs_background": "light"
     },
     "output_type": "display_data"
    }
   ],
   "source": [
    "timing_diff = [all_word_trigger_length[run] - audio_word_trigger_length[run] for run in range(9)]\n",
    "\n",
    "plt.plot(timing_diff)"
   ]
  },
  {
   "cell_type": "markdown",
   "id": "718e58f0-ab6f-4e8b-bc45-f780bd06baef",
   "metadata": {},
   "source": [
    "# Subject analysis\n"
   ]
  },
  {
   "cell_type": "code",
   "execution_count": 108,
   "id": "406256c9-a684-4d50-8881-c6a1a62b042d",
   "metadata": {},
   "outputs": [],
   "source": [
    "import mne\n",
    "import logging\n",
    "import mne_bids\n",
    "# Set the logger level to WARNING to reduce verbosity\n",
    "logger = logging.getLogger('mne')\n",
    "logger.setLevel(logging.ERROR)\n",
    "\n",
    "\n",
    "all_results = []\n",
    "\n",
    "for subject in range(1,10):\n",
    "    subject = str(subject)\n",
    "    all_triggers = []  # All the trigger timings\n",
    "    all_word_triggers = []  # All the word triggers\n",
    "    trigger_starts = []  # The time of between first trigger (beginning of audio) and first word\n",
    "    triggers_word_count = []  # The total number of word triggers for each run\n",
    "    all_word_trigger_length = []  # The total length from the first word trigger to the last one\n",
    "    all_trigger_length = []  # The total length from the first trigger to the last one (the whole audio file)\n",
    "\n",
    "    subject_results = {}  # Create an empty dictionary for the subject results\n",
    "    \n",
    "    for run in range(1,10):\n",
    "        run_id = '0'+ str(run)\n",
    "\n",
    "        # Triggers words\n",
    "        f, triggers = get_triggers(subject, run_id)\n",
    "        all_triggers.append(triggers)\n",
    "\n",
    "        word_triggers = triggers[triggers[:, 2] > 1][:,0]\n",
    "        all_word_triggers.append(word_triggers)\n",
    "\n",
    "        first_diff = (triggers[1][0] - triggers[0][0]) / f\n",
    "        trigger_starts.append(first_diff)\n",
    "\n",
    "        triggers_word_count.append(word_triggers.shape[0])\n",
    "\n",
    "        word_trigger_length = (word_triggers[-1] - word_triggers[0]) / f\n",
    "        all_word_trigger_length.append(word_trigger_length)\n",
    "\n",
    "        total_length = triggers[-1][0] - triggers[0][0]\n",
    "        all_trigger_length.append(total_length)\n",
    "\n",
    "    # Add the results to the subject dictionary\n",
    "    subject_results['all_triggers'] = all_triggers\n",
    "    subject_results['all_word_triggers'] = all_word_triggers\n",
    "    subject_results['trigger_starts'] = trigger_starts\n",
    "    subject_results['triggers_word_count'] = triggers_word_count\n",
    "    subject_results['all_word_trigger_length'] = all_word_trigger_length\n",
    "    subject_results['all_trigger_length'] = all_trigger_length\n",
    "\n",
    "    all_results.append(subject_results)\n"
   ]
  },
  {
   "cell_type": "code",
   "execution_count": 124,
   "id": "e01e8293-5c4a-42e9-b67d-93be36f786be",
   "metadata": {},
   "outputs": [
    {
     "data": {
      "image/png": "[encoded data removed]",
      "text/plain": [
       "<Figure size 432x288 with 1 Axes>"
      ]
     },
     "metadata": {
      "needs_background": "light"
     },
     "output_type": "display_data"
    }
   ],
   "source": [
    "plot_timing_diff(all_results)"
   ]
  },
  {
   "cell_type": "code",
   "execution_count": null,
   "id": "c52dd4ed-804f-44cc-b3ad-76915ef04e5e",
   "metadata": {},
   "outputs": [],
   "source": []
  },
  {
   "cell_type": "markdown",
   "id": "69d85fb2-abab-42c3-ae80-3db522ccd355",
   "metadata": {},
   "source": [
    "# Functions"
   ]
  },
  {
   "cell_type": "code",
   "execution_count": 123,
   "id": "c7a379ca-3f6c-43d6-96a6-f10142aac954",
   "metadata": {},
   "outputs": [],
   "source": [
    "from pathlib import Path\n",
    "import mne_bids\n",
    "import mne\n",
    "\n",
    "#path = '/home/co/data/LPP_MEG_auditory'\n",
    "path = Path(\"/media/co/T7/workspace-LPP/data/MEG/LPP/PallierListen2023/download\")\n",
    "\n",
    "def get_triggers(subject, run_id):\n",
    "    task = 'listen'\n",
    "    bids_path = mne_bids.BIDSPath(\n",
    "        subject=subject,\n",
    "        session=\"01\",\n",
    "        task=task,\n",
    "        datatype=\"meg\",\n",
    "        root=path,\n",
    "        run=run_id,\n",
    "    )\n",
    "    raw = mne_bids.read_raw_bids(bids_path)\n",
    "    triggers = mne.find_events(raw, stim_channel=\"STI101\", shortest_event=1)\n",
    "    sfreq = raw.info['sfreq']\n",
    "    \n",
    "    return sfreq, triggers\n",
    "\n",
    "def get_audio_timestamps(subject, run_id):\n",
    "    task = 'listen'\n",
    "    bids_path = mne_bids.BIDSPath(\n",
    "        subject=subject,\n",
    "        session=\"01\",\n",
    "        task=task,\n",
    "        datatype=\"meg\",\n",
    "        root=path,\n",
    "        run=run_id,\n",
    "    )\n",
    "    raw = mne_bids.read_raw_bids(bids_path)\n",
    "    audio_data = raw.get_data(picks=[\"MISC004\"])[0,:]\n",
    "\n",
    "    sfreq = raw.info['sfreq']\n",
    "    \n",
    "    return sfreq, audio_data\n",
    "\n",
    "def get_raw(subject, run_id):\n",
    "    task = 'listen'\n",
    "    bids_path = mne_bids.BIDSPath(\n",
    "        subject=subject,\n",
    "        session=\"01\",\n",
    "        task=task,\n",
    "        datatype=\"meg\",\n",
    "        root=path,\n",
    "        run=run_id,\n",
    "    )\n",
    "    raw = mne_bids.read_raw_bids(bids_path)\n",
    "    return raw\n",
    "\n",
    "\n",
    "import wave\n",
    "\n",
    "def get_wav_duration(filename):\n",
    "    with wave.open(filename, 'rb') as wav_file:\n",
    "        # Get the total number of frames in the WAV file\n",
    "        frames = wav_file.getnframes()\n",
    "        \n",
    "        # Get the frame rate (number of frames per second)\n",
    "        frame_rate = wav_file.getframerate()\n",
    "        \n",
    "        # Calculate the duration in seconds\n",
    "        duration = frames / float(frame_rate)\n",
    "        \n",
    "        return duration\n",
    "    \n",
    "    import matplotlib.pyplot as plt\n",
    "\n",
    "def plot_timing_diff(all_results):\n",
    "    num_subjects = len(all_results)\n",
    "    num_runs = 9\n",
    "\n",
    "    # Create an empty list to store the timing differences for all subjects and runs\n",
    "    timing_diffs = [[] for _ in range(num_subjects)]\n",
    "\n",
    "    # Loop over all subjects and runs\n",
    "    for subject_idx, subject_results in enumerate(all_results):\n",
    "        for run in range(1, num_runs + 1):\n",
    "            # Extract the word trigger length and audio word trigger length for the current run\n",
    "            word_trigger_length = subject_results['all_word_trigger_length'][run - 1]\n",
    "            audio_word_trigger_length_ = audio_word_trigger_length[run - 1]\n",
    "\n",
    "            # Calculate the timing difference\n",
    "            timing_diff_ = word_trigger_length - audio_word_trigger_length_\n",
    "\n",
    "            # Add the timing difference to the list for the current subject\n",
    "            timing_diffs[subject_idx].append(timing_diff_)\n",
    "\n",
    "    # Loop over all subjects and plot the timing differences for each run\n",
    "    for subject_idx, timing_diff in enumerate(timing_diffs):\n",
    "        plt.plot(range(1, num_runs + 1), timing_diff, label=f'Subject {subject_idx + 1}')\n",
    "\n",
    "    # Add a legend and labels to the plot\n",
    "    plt.legend()\n",
    "    plt.xlabel('Run')\n",
    "    plt.ylabel('Timing difference (s)')\n",
    "    plt.show()\n",
    "\n"
   ]
  },
  {
   "cell_type": "code",
   "execution_count": null,
   "id": "ba68e28b-d473-4099-aad6-07774a5eea76",
   "metadata": {},
   "outputs": [],
   "source": []
  }
 ],
 "metadata": {
  "kernelspec": {
   "display_name": "Python 3",
   "language": "python",
   "name": "python3"
  },
  "language_info": {
   "codemirror_mode": {
    "name": "ipython",
    "version": 3
   },
   "file_extension": ".py",
   "mimetype": "text/x-python",
   "name": "python",
   "nbconvert_exporter": "python",
   "pygments_lexer": "ipython3",
   "version": "3.9.18"
  }
 },
 "nbformat": 4,
 "nbformat_minor": 5
}
