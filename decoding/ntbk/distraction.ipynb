{
 "cells": [
  {
   "cell_type": "markdown",
   "metadata": {},
   "source": [
    "# Decoding distraction LPP runs vs non distraction ones"
   ]
  },
  {
   "cell_type": "markdown",
   "metadata": {},
   "source": [
    "## Getting the data, Epoching "
   ]
  },
  {
   "cell_type": "code",
   "execution_count": 2,
   "metadata": {},
   "outputs": [],
   "source": [
    "from pathlib import Path\n",
    "\n",
    "path = Path('/home/co/data/meg_distraction/240620/')\n",
    "\n",
    "instructions = path / 'sub-3_instructions.tsv'\n",
    "# Open it with pandas\n",
    "import pandas as pd\n",
    "instructions = pd.read_csv(instructions, sep='\\t')\n"
   ]
  },
  {
   "cell_type": "markdown",
   "metadata": {},
   "source": [
    "## Cropping 3 runs"
   ]
  },
  {
   "cell_type": "markdown",
   "metadata": {},
   "source": [
    "Run 2 and even: no tasks: let's try to decode from it"
   ]
  },
  {
   "cell_type": "code",
   "execution_count": 2,
   "metadata": {},
   "outputs": [
    {
     "name": "stdout",
     "output_type": "stream",
     "text": [
      "Opening raw data file /home/co/data/meg_distraction/240620/run1_2_3.fif...\n",
      "    Read a total of 13 projection items:\n",
      "        generated with dossp-2.1 (1 x 306)  idle\n",
      "        generated with dossp-2.1 (1 x 306)  idle\n",
      "        generated with dossp-2.1 (1 x 306)  idle\n",
      "        generated with dossp-2.1 (1 x 306)  idle\n",
      "        generated with dossp-2.1 (1 x 306)  idle\n",
      "        generated with dossp-2.1 (1 x 306)  idle\n",
      "        generated with dossp-2.1 (1 x 306)  idle\n",
      "        generated with dossp-2.1 (1 x 306)  idle\n",
      "        generated with dossp-2.1 (1 x 306)  idle\n",
      "        generated with dossp-2.1 (1 x 306)  idle\n",
      "        generated with dossp-2.1 (1 x 306)  idle\n",
      "        generated with dossp-2.1 (1 x 306)  idle\n",
      "        generated with dossp-2.1 (1 x 306)  idle\n",
      "    Range : 166000 ... 1019999 =    166.000 ...  1019.999 secs\n",
      "Ready.\n"
     ]
    },
    {
     "name": "stderr",
     "output_type": "stream",
     "text": [
      "<ipython-input-2-93e0913675e9>:6: RuntimeWarning: This filename (/home/co/data/meg_distraction/240620/run1_2_3.fif) does not conform to MNE naming conventions. All raw files should end with raw.fif, raw_sss.fif, raw_tsss.fif, _meg.fif, _eeg.fif, _ieeg.fif, raw.fif.gz, raw_sss.fif.gz, raw_tsss.fif.gz, _meg.fif.gz, _eeg.fif.gz or _ieeg.fif.gz\n",
      "  raw = mne.io.read_raw_fif(path / 'run1_2_3.fif', preload=True, allow_maxshield=True)\n",
      "<ipython-input-2-93e0913675e9>:6: RuntimeWarning: This file contains raw Internal Active Shielding data. It may be distorted. Elekta recommends it be run through MaxFilter to produce reliable results. Consider closing the file and running MaxFilter on the data.\n",
      "  raw = mne.io.read_raw_fif(path / 'run1_2_3.fif', preload=True, allow_maxshield=True)\n"
     ]
    },
    {
     "name": "stdout",
     "output_type": "stream",
     "text": [
      "Reading 0 ... 853999  =      0.000 ...   853.999 secs...\n",
      "3641 events found\n",
      "Event IDs: [128]\n"
     ]
    }
   ],
   "source": [
    "# It is possible to open the run1_2_3.fif file, and crop only the middle part, based on the triggers\n",
    "\n",
    "# First, extract the triggers from this file\n",
    "import mne\n",
    "\n",
    "raw = mne.io.read_raw_fif(path / 'run1_2_3.fif', preload=True, allow_maxshield=True)\n",
    "events = mne.find_events(raw)\n"
   ]
  },
  {
   "cell_type": "markdown",
   "metadata": {},
   "source": [
    "No sound triggers: we don't know exactly when the runs start and stop: we only have the word onset information.\n",
    "\n",
    "We'll have to guess using the word onset triggers when there is an inter run pause."
   ]
  },
  {
   "cell_type": "code",
   "execution_count": 3,
   "metadata": {},
   "outputs": [
    {
     "data": {
      "text/plain": [
       "[0, 938, 2367, 3640]"
      ]
     },
     "execution_count": 3,
     "metadata": {},
     "output_type": "execute_result"
    }
   ],
   "source": [
    "# We need to crop the raw file into 3 sub-runs. The way to do that is by computing the time difference between the triggers, and if it's larger than for eg.\n",
    "# 20 seconds, we can assume that it's a new run. We can then crop the raw file into 3 parts, and save them as separate files.\n",
    "\n",
    "thresh_old = 30\n",
    "\n",
    "# We can compute the time difference between the triggers\n",
    "time_diff = events[1:, 0] - events[:-1, 0]\n",
    "time_diff = time_diff / raw.info['sfreq'] # Convert to seconds\n",
    "\n",
    "# We can then find the indices where the time difference is larger than the threshold\n",
    "run_indices = [0] + list((time_diff > thresh_old).nonzero()[0] + 1) + [len(events)-1]\n",
    "run_indices"
   ]
  },
  {
   "cell_type": "code",
   "execution_count": 54,
   "metadata": {},
   "outputs": [
    {
     "name": "stdout",
     "output_type": "stream",
     "text": [
      "Overwriting existing file.\n",
      "Writing /home/co/data/meg_distraction/240620/run_1.fif\n"
     ]
    },
    {
     "name": "stderr",
     "output_type": "stream",
     "text": [
      "<ipython-input-54-3dfb706917a3>:4: RuntimeWarning: This filename (/home/co/data/meg_distraction/240620/run_1.fif) does not conform to MNE naming conventions. All raw files should end with raw.fif, raw_sss.fif, raw_tsss.fif, _meg.fif, _eeg.fif, _ieeg.fif, raw.fif.gz, raw_sss.fif.gz, raw_tsss.fif.gz, _meg.fif.gz, _eeg.fif.gz or _ieeg.fif.gz\n",
      "  raw_part.save(path / f'run_{i+1}.fif', overwrite=True)\n"
     ]
    },
    {
     "name": "stdout",
     "output_type": "stream",
     "text": [
      "Closing /home/co/data/meg_distraction/240620/run_1.fif\n",
      "[done]\n",
      "Overwriting existing file.\n",
      "Writing /home/co/data/meg_distraction/240620/run_2.fif\n"
     ]
    },
    {
     "name": "stderr",
     "output_type": "stream",
     "text": [
      "<ipython-input-54-3dfb706917a3>:4: RuntimeWarning: This filename (/home/co/data/meg_distraction/240620/run_2.fif) does not conform to MNE naming conventions. All raw files should end with raw.fif, raw_sss.fif, raw_tsss.fif, _meg.fif, _eeg.fif, _ieeg.fif, raw.fif.gz, raw_sss.fif.gz, raw_tsss.fif.gz, _meg.fif.gz, _eeg.fif.gz or _ieeg.fif.gz\n",
      "  raw_part.save(path / f'run_{i+1}.fif', overwrite=True)\n"
     ]
    },
    {
     "name": "stdout",
     "output_type": "stream",
     "text": [
      "Closing /home/co/data/meg_distraction/240620/run_2.fif\n",
      "[done]\n",
      "Overwriting existing file.\n",
      "Writing /home/co/data/meg_distraction/240620/run_3.fif\n"
     ]
    },
    {
     "name": "stderr",
     "output_type": "stream",
     "text": [
      "<ipython-input-54-3dfb706917a3>:4: RuntimeWarning: This filename (/home/co/data/meg_distraction/240620/run_3.fif) does not conform to MNE naming conventions. All raw files should end with raw.fif, raw_sss.fif, raw_tsss.fif, _meg.fif, _eeg.fif, _ieeg.fif, raw.fif.gz, raw_sss.fif.gz, raw_tsss.fif.gz, _meg.fif.gz, _eeg.fif.gz or _ieeg.fif.gz\n",
      "  raw_part.save(path / f'run_{i+1}.fif', overwrite=True)\n"
     ]
    },
    {
     "name": "stdout",
     "output_type": "stream",
     "text": [
      "Closing /home/co/data/meg_distraction/240620/run_3.fif\n",
      "[done]\n"
     ]
    }
   ],
   "source": [
    "\n",
    "# We can then loop over the run_indices, and crop the raw file into 3 parts\n",
    "for i, (start, end) in enumerate(zip(run_indices[:-1], run_indices[1:])):\n",
    "    raw_part = raw.copy().crop(tmin=(events[start, 0] - raw.first_samp - 1000)/ raw.info['sfreq'], tmax=(((events[end, 0] -raw.first_samp) / raw.info['sfreq']) + 1))  # Add 1 second at the end\n",
    "    raw_part.save(path / f'run_{i+1}.fif', overwrite=True)"
   ]
  },
  {
   "cell_type": "markdown",
   "metadata": {},
   "source": [
    "## Opening the resulting file"
   ]
  },
  {
   "cell_type": "code",
   "execution_count": 3,
   "metadata": {},
   "outputs": [
    {
     "name": "stdout",
     "output_type": "stream",
     "text": [
      "Opening raw data file /home/co/data/meg_distraction/240620/run_2.fif...\n",
      "    Read a total of 13 projection items:\n",
      "        generated with dossp-2.1 (1 x 306)  idle\n",
      "        generated with dossp-2.1 (1 x 306)  idle\n",
      "        generated with dossp-2.1 (1 x 306)  idle\n",
      "        generated with dossp-2.1 (1 x 306)  idle\n",
      "        generated with dossp-2.1 (1 x 306)  idle\n",
      "        generated with dossp-2.1 (1 x 306)  idle\n",
      "        generated with dossp-2.1 (1 x 306)  idle\n",
      "        generated with dossp-2.1 (1 x 306)  idle\n",
      "        generated with dossp-2.1 (1 x 306)  idle\n",
      "        generated with dossp-2.1 (1 x 306)  idle\n",
      "        generated with dossp-2.1 (1 x 306)  idle\n",
      "        generated with dossp-2.1 (1 x 306)  idle\n",
      "        generated with dossp-2.1 (1 x 306)  idle\n"
     ]
    },
    {
     "name": "stdout",
     "output_type": "stream",
     "text": [
      "    Range : 405492 ... 749577 =    405.492 ...   749.577 secs\n",
      "Ready.\n"
     ]
    },
    {
     "name": "stderr",
     "output_type": "stream",
     "text": [
      "/tmp/ipykernel_99255/4263984186.py:3: RuntimeWarning: This filename (/home/co/data/meg_distraction/240620/run_2.fif) does not conform to MNE naming conventions. All raw files should end with raw.fif, raw_sss.fif, raw_tsss.fif, _meg.fif, _eeg.fif, _ieeg.fif, raw.fif.gz, raw_sss.fif.gz, raw_tsss.fif.gz, _meg.fif.gz, _eeg.fif.gz or _ieeg.fif.gz\n",
      "  raw1 = mne.io.read_raw_fif(path / 'run_2.fif', preload=True, allow_maxshield=True)\n",
      "/tmp/ipykernel_99255/4263984186.py:3: RuntimeWarning: This file contains raw Internal Active Shielding data. It may be distorted. Elekta recommends it be run through MaxFilter to produce reliable results. Consider closing the file and running MaxFilter on the data.\n",
      "  raw1 = mne.io.read_raw_fif(path / 'run_2.fif', preload=True, allow_maxshield=True)\n"
     ]
    },
    {
     "name": "stdout",
     "output_type": "stream",
     "text": [
      "Reading 0 ... 344085  =      0.000 ...   344.085 secs...\n",
      "1437 events found on stim channel STI101\n",
      "Event IDs: [128]\n"
     ]
    },
    {
     "ename": "IndexError",
     "evalue": "index 719 is out of bounds for axis 0 with size 719",
     "output_type": "error",
     "traceback": [
      "\u001b[0;31m---------------------------------------------------------------------------\u001b[0m",
      "\u001b[0;31mIndexError\u001b[0m                                Traceback (most recent call last)",
      "Cell \u001b[0;32mIn[3], line 38\u001b[0m\n\u001b[1;32m     35\u001b[0m meta\u001b[38;5;241m.\u001b[39mloc[j, \u001b[38;5;124m\"\u001b[39m\u001b[38;5;124mhas_trigger\u001b[39m\u001b[38;5;124m\"\u001b[39m] \u001b[38;5;241m=\u001b[39m \u001b[38;5;28;01mTrue\u001b[39;00m\n\u001b[1;32m     37\u001b[0m \u001b[38;5;66;03m# integrate events to meta for simplicity\u001b[39;00m\n\u001b[0;32m---> 38\u001b[0m meta\u001b[38;5;241m.\u001b[39mloc[j, \u001b[38;5;124m\"\u001b[39m\u001b[38;5;124mstart\u001b[39m\u001b[38;5;124m\"\u001b[39m] \u001b[38;5;241m=\u001b[39m \u001b[43mevents1\u001b[49m\u001b[43m[\u001b[49m\u001b[43mi\u001b[49m\u001b[43m,\u001b[49m\u001b[43m \u001b[49m\u001b[38;5;241;43m0\u001b[39;49m\u001b[43m]\u001b[49m \u001b[38;5;241m/\u001b[39m raw1\u001b[38;5;241m.\u001b[39minfo[\u001b[38;5;124m\"\u001b[39m\u001b[38;5;124msfreq\u001b[39m\u001b[38;5;124m\"\u001b[39m]\n\u001b[1;32m     39\u001b[0m \u001b[38;5;66;03m# preproc raw\u001b[39;00m\n\u001b[1;32m     40\u001b[0m raw1\u001b[38;5;241m.\u001b[39mload_data()\n",
      "\u001b[0;31mIndexError\u001b[0m: index 719 is out of bounds for axis 0 with size 719"
     ]
    }
   ],
   "source": [
    "# Open the raw file again, run1\n",
    "import mne\n",
    "raw1 = mne.io.read_raw_fif(path / 'run_2.fif', preload=True, allow_maxshield=True)  \n",
    "import matplotlib.pyplot as plt\n",
    "events1 = mne.find_events(raw1)\n",
    "\n",
    "# Take one out of two since they are duplicated\n",
    "events1 = events1[::2]\n",
    "import numpy as np \n",
    "event_file = path / 'run2_distraction.csv'\n",
    "meta = pd.read_csv(event_file, sep=\"\\t\")\n",
    "meta[\"word\"] = meta[\"trial_type\"].apply(\n",
    "    lambda x: eval(x)[\"word\"] if type(eval(x)) == dict else np.nan\n",
    ")\n"
   ]
  },
  {
   "cell_type": "code",
   "execution_count": 9,
   "metadata": {},
   "outputs": [
    {
     "name": "stdout",
     "output_type": "stream",
     "text": [
      "Multiple event values for single event times found. Keeping the first occurrence and dropping all others.\n",
      "Adding metadata with 8 columns\n",
      "716 matching events found\n",
      "No baseline correction applied\n",
      "Created an SSP operator (subspace dimension = 13)\n"
     ]
    },
    {
     "name": "stderr",
     "output_type": "stream",
     "text": [
      "/home/co/miniconda3/envs/nrst/lib/python3.10/site-packages/pandas/core/series.py:1022: RuntimeWarning: invalid value encountered in cast\n",
      "  arr = np.asarray(values, dtype=dtype)\n",
      "/tmp/ipykernel_99255/984287560.py:27: RuntimeWarning: The events passed to the Epochs constructor are not chronologically ordered.\n",
      "  epochs = mne.Epochs(\n",
      "/tmp/ipykernel_99255/984287560.py:27: RuntimeWarning: The measurement information indicates a low-pass frequency of 20.0 Hz. The decim=100 parameter will result in a sampling frequency of 10.0 Hz, which can cause aliasing artifacts.\n",
      "  epochs = mne.Epochs(\n"
     ]
    }
   ],
   "source": [
    "\n",
    "\n",
    "from utils_distraction import match_list, approx_match_samples\n",
    "word_events = events1[events1[:, 2] > 1]\n",
    "meg_delta = np.diff(word_events[:, 0].astype(float) / raw1.info[\"sfreq\"])\n",
    "meta_delta = np.diff(meta.onset.values)\n",
    "pres = 1e2\n",
    "# i, j = match_list(np.round(meg_delta*pres), np.round(meta_delta*pres))\n",
    "# assert len(i) / len(meg_delta) > .70\n",
    "\n",
    "i, j = approx_match_samples(\n",
    "    word_events[:, 0],\n",
    "    (meta.onset * 1000).tolist(),\n",
    "    abs_tol=30,\n",
    "    max_missing=5,\n",
    ")\n",
    "assert len(i) / len(meg_delta) > .90\n",
    "\n",
    "\n",
    "meta[\"has_trigger\"] = False\n",
    "meta.loc[j, \"has_trigger\"] = True\n",
    "\n",
    "# integrate events to meta for simplicity\n",
    "meta.loc[j, \"start\"] = events1[i, 0] / raw1.info[\"sfreq\"]\n",
    "# preproc raw\n",
    "raw1.load_data()\n",
    "raw1 = raw1.filter(0.5, 20)\n",
    "from utils_distraction import mne_events\n",
    "epochs = mne.Epochs(\n",
    "    raw1,\n",
    "    **mne_events(meta, raw1, start=\"onset\", level=\"XXX\"),\n",
    "    decim=100,\n",
    "    tmin=0.,\n",
    "    tmax=1.,\n",
    "    preload=False,\n",
    "    baseline=None,\n",
    "    verbose=True,\n",
    "    proj=False,\n",
    "    event_repeated='drop',\n",
    ")\n"
   ]
  },
  {
   "cell_type": "code",
   "execution_count": 10,
   "metadata": {},
   "outputs": [
    {
     "data": {
      "text/plain": [
       "715"
      ]
     },
     "execution_count": 10,
     "metadata": {},
     "output_type": "execute_result"
    }
   ],
   "source": [
    "len(i)"
   ]
  },
  {
   "cell_type": "code",
   "execution_count": 23,
   "metadata": {},
   "outputs": [
    {
     "name": "stderr",
     "output_type": "stream",
     "text": [
      "/home/co/miniconda3/envs/nrst/lib/python3.10/site-packages/pandas/core/series.py:1022: RuntimeWarning: invalid value encountered in cast\n",
      "  arr = np.asarray(values, dtype=dtype)\n"
     ]
    },
    {
     "data": {
      "text/plain": [
       "array([[              406492,                    1,                    1],\n",
       "       [              406663,                    1,                    1],\n",
       "       [              406833,                    1,                    1],\n",
       "       ...,\n",
       "       [-9223372036854775808,                    1,                    1],\n",
       "       [              673222,                    1,                    1],\n",
       "       [-9223372036854775808,                    1,                    1]])"
      ]
     },
     "execution_count": 23,
     "metadata": {},
     "output_type": "execute_result"
    }
   ],
   "source": [
    "mne_events(meta, raw1, start=\"onset\", level=\"XXX\")['events']"
   ]
  },
  {
   "cell_type": "markdown",
   "metadata": {},
   "source": [
    "## Decoding"
   ]
  },
  {
   "cell_type": "code",
   "execution_count": 11,
   "metadata": {},
   "outputs": [
    {
     "name": "stdout",
     "output_type": "stream",
     "text": [
      "Word embeddings decoding\n",
      "..........."
     ]
    }
   ],
   "source": [
    "import spacy\n",
    "from utils import decod_xy\n",
    "print(\"Word embeddings decoding\")\n",
    "nlp = spacy.load(\"fr_core_news_sm\")\n",
    "\n",
    "epochs = epochs.load_data().pick_types(meg=True, stim=False, misc=False)\n",
    "X = epochs.get_data()\n",
    "\n",
    "embeddings = epochs.metadata.word.apply(lambda word: nlp(word).vector).values\n",
    "embeddings = np.array([emb for emb in embeddings])\n",
    "R_vec = decod_xy(X, embeddings)\n",
    "scores = np.mean(R_vec, axis=1)"
   ]
  },
  {
   "cell_type": "code",
   "execution_count": 12,
   "metadata": {},
   "outputs": [
    {
     "data": {
      "text/plain": [
       "[<matplotlib.lines.Line2D at 0x7b2089a15720>]"
      ]
     },
     "execution_count": 12,
     "metadata": {},
     "output_type": "execute_result"
    },
    {
     "data": {
      "image/png": "[encoded data removed]",
      "text/plain": [
       "<Figure size 640x480 with 1 Axes>"
      ]
     },
     "metadata": {},
     "output_type": "display_data"
    }
   ],
   "source": [
    "plt.plot(scores)"
   ]
  },
  {
   "cell_type": "code",
   "execution_count": 12,
   "metadata": {},
   "outputs": [
    {
     "data": {
      "text/plain": [
       "[<matplotlib.lines.Line2D at 0x796576b46ce0>]"
      ]
     },
     "execution_count": 12,
     "metadata": {},
     "output_type": "execute_result"
    },
    {
     "data": {
      "image/png": "[encoded data removed]",
      "text/plain": [
       "<Figure size 640x480 with 1 Axes>"
      ]
     },
     "metadata": {},
     "output_type": "display_data"
    }
   ],
   "source": [
    "plt.plot(scores)"
   ]
  },
  {
   "cell_type": "code",
   "execution_count": 16,
   "metadata": {},
   "outputs": [],
   "source": [
    "from utils_distraction import match_list\n",
    "import numpy as np \n",
    "import mne\n",
    "import matplotlib.pyplot as plt\n",
    "from utils_distraction import mne_events\n",
    "\n",
    "import spacy\n",
    "from utils import decod_xy\n",
    "\n",
    "\n",
    "def score_subj(run: int):\n",
    "    # Open the raw file again, run1\n",
    "    raw1 = mne.io.read_raw_fif(path / f'run_{run}.fif', preload=True, allow_maxshield=True)  \n",
    "    events1 = mne.find_events(raw1)\n",
    "    # Take one out of two since they are duplicated\n",
    "    events1 = events1[::2]\n",
    "    event_file = path / f'run{run}_distraction.csv'\n",
    "    meta = pd.read_csv(event_file, sep=\"\\t\")\n",
    "    meta[\"word\"] = meta[\"trial_type\"].apply(\n",
    "        lambda x: eval(x)[\"word\"] if type(eval(x)) == dict else np.nan\n",
    "    )\n",
    "\n",
    "    word_events = events1[events1[:, 2] > 1]\n",
    "    meg_delta = np.diff(word_events[:, 0].astype(float) / raw1.info[\"sfreq\"])\n",
    "    meta_delta = np.diff(meta.onset.values)\n",
    "    pres = 1e2\n",
    "    # i, j = match_list(np.round(meg_delta*pres), np.round(meta_delta*pres))\n",
    "\n",
    "\n",
    "    i, j = approx_match_samples(\n",
    "        word_events[:, 0],\n",
    "        (meta.onset * 1000).tolist(),\n",
    "        abs_tol=30,\n",
    "        max_missing=5,\n",
    "    )\n",
    "    assert len(i) / len(meg_delta) > .70\n",
    "\n",
    "    meta[\"has_trigger\"] = False\n",
    "    meta.loc[j, \"has_trigger\"] = True\n",
    "\n",
    "    # integrate events to meta for simplicity\n",
    "    meta.loc[j, \"start\"] = events1[i, 0] / raw1.info[\"sfreq\"]\n",
    "    # preproc raw\n",
    "    raw1.load_data()\n",
    "    raw1 = raw1.filter(0.5, 20)\n",
    "    epochs = mne.Epochs(\n",
    "        raw1,\n",
    "        **mne_events(meta, raw1, start=\"onset\", level=\"XXX\"),\n",
    "        decim=100,\n",
    "        tmin=-1.,\n",
    "        tmax=1.,\n",
    "        preload=False,\n",
    "        baseline=None,\n",
    "        verbose=True,\n",
    "        proj=False,\n",
    "        event_repeated='drop',\n",
    "    )\n",
    "    nlp = spacy.load(\"fr_core_news_sm\")\n",
    "\n",
    "    epochs = epochs.load_data().pick_types(meg=True, stim=False, misc=False)\n",
    "    X = epochs.get_data()\n",
    "\n",
    "    embeddings = epochs.metadata.word.apply(lambda word: nlp(word).vector).values\n",
    "    embeddings = np.array([emb for emb in embeddings])\n",
    "    R_vec = decod_xy(X, embeddings)\n",
    "    scores = np.mean(R_vec, axis=1)\n",
    "    return scores"
   ]
  },
  {
   "cell_type": "code",
   "execution_count": 17,
   "metadata": {},
   "outputs": [
    {
     "name": "stdout",
     "output_type": "stream",
     "text": [
      "Multiple event values for single event times found. Keeping the first occurrence and dropping all others.\n",
      "Adding metadata with 8 columns\n",
      "470 matching events found\n",
      "No baseline correction applied\n",
      "Created an SSP operator (subspace dimension = 13)\n"
     ]
    },
    {
     "name": "stderr",
     "output_type": "stream",
     "text": [
      "/home/co/miniconda3/envs/nrst/lib/python3.10/site-packages/pandas/core/series.py:1022: RuntimeWarning: invalid value encountered in cast\n",
      "  arr = np.asarray(values, dtype=dtype)\n",
      "/tmp/ipykernel_99255/2614526289.py:46: RuntimeWarning: The events passed to the Epochs constructor are not chronologically ordered.\n",
      "  epochs = mne.Epochs(\n",
      "/tmp/ipykernel_99255/2614526289.py:46: RuntimeWarning: The measurement information indicates a low-pass frequency of 20.0 Hz. The decim=100 parameter will result in a sampling frequency of 10.0 Hz, which can cause aliasing artifacts.\n",
      "  epochs = mne.Epochs(\n"
     ]
    },
    {
     "name": "stdout",
     "output_type": "stream",
     "text": [
      "....................."
     ]
    }
   ],
   "source": [
    "scores = score_subj(1)"
   ]
  },
  {
   "cell_type": "code",
   "execution_count": 18,
   "metadata": {},
   "outputs": [
    {
     "data": {
      "text/plain": [
       "[<matplotlib.lines.Line2D at 0x7b2080a174f0>]"
      ]
     },
     "execution_count": 18,
     "metadata": {},
     "output_type": "execute_result"
    },
    {
     "data": {
      "image/png": "[encoded data removed]",
      "text/plain": [
       "<Figure size 640x480 with 1 Axes>"
      ]
     },
     "metadata": {},
     "output_type": "display_data"
    }
   ],
   "source": [
    "plt.plot(scores)"
   ]
  },
  {
   "cell_type": "code",
   "execution_count": null,
   "metadata": {},
   "outputs": [],
   "source": []
  }
 ],
 "metadata": {
  "kernelspec": {
   "display_name": "meg",
   "language": "python",
   "name": "python3"
  },
  "language_info": {
   "codemirror_mode": {
    "name": "ipython",
    "version": 3
   },
   "file_extension": ".py",
   "mimetype": "text/x-python",
   "name": "python",
   "nbconvert_exporter": "python",
   "pygments_lexer": "ipython3",
   "version": "3.10.13"
  }
 },
 "nbformat": 4,
 "nbformat_minor": 2
}
