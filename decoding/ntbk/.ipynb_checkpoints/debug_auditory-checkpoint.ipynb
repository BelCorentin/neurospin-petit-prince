{
 "cells": [
  {
   "cell_type": "markdown",
   "id": "44cfa706-92bd-41f0-a93a-9374468769da",
   "metadata": {},
   "source": [
    "# Testing triggers in metadata / audio file\n",
    "\n",
    "Exploring the audio file triggers that are sent to the MEG on the audio channel to verify if they are well-encoded in the first place, compared to the event defined in the metadata"
   ]
  },
  {
   "cell_type": "code",
   "execution_count": 112,
   "id": "62048b28-8396-4503-8490-b913d200b316",
   "metadata": {},
   "outputs": [],
   "source": [
    "import numpy as np \n",
    "\n",
    "from scipy.io import wavfile\n",
    "\n",
    "import matplotlib.pyplot as plt\n",
    "\n",
    "\n",
    "# Opening the wav file for the first chapter\n",
    "wav_file = '/media/co/T7/workspace-LPP/data/MEG/LPP/PallierListen2023/download/sourcedata/stimuli/audio/ch1-3.wav'\n",
    "\n",
    "fs, data = wavfile.read(wav_file)\n",
    "\n",
    "# Getting the channel for the triggers encoded in the 2nd part of the wav\n",
    "data = data[:,1]\n",
    "data = np.round(data / 30000)"
   ]
  },
  {
   "cell_type": "code",
   "execution_count": 113,
   "id": "ec1337cb-54f9-43da-8160-c98308a6ab5a",
   "metadata": {},
   "outputs": [],
   "source": [
    "indices = np.where(data == 1)[0]\n",
    "# Calculate the differences between consecutive indices\n",
    "differences = np.diff(data)\n",
    "\n",
    "plus = np.where(differences == 1)[0]\n",
    "minus = np.where(differences == -1)[0]\n",
    "\n",
    "plus, minus\n",
    "\n",
    "diffs = []\n",
    "for p, m in zip(plus, minus):\n",
    "    # Take the min of the substraction to see if some triggers are under 300 / 44100 s long\n",
    "    diffs.append(m-p)\n",
    "    "
   ]
  },
  {
   "cell_type": "code",
   "execution_count": 114,
   "id": "3ae34137-1471-47af-826e-cc228550f094",
   "metadata": {},
   "outputs": [
    {
     "data": {
      "text/plain": [
       "array([300])"
      ]
     },
     "execution_count": 114,
     "metadata": {},
     "output_type": "execute_result"
    }
   ],
   "source": [
    "np.unique(diffs)"
   ]
  },
  {
   "cell_type": "code",
   "execution_count": 115,
   "id": "f605da61-a249-4991-a7a2-c2351a4fb21a",
   "metadata": {},
   "outputs": [],
   "source": [
    "# All good"
   ]
  },
  {
   "cell_type": "code",
   "execution_count": 117,
   "id": "13452fa4-b8c9-4474-b9e6-3585f9b0c201",
   "metadata": {},
   "outputs": [],
   "source": [
    "diff = np.diff(data)"
   ]
  },
  {
   "cell_type": "code",
   "execution_count": 118,
   "id": "eb3b3e8d-38a0-4c87-9836-023b4bfdb811",
   "metadata": {},
   "outputs": [
    {
     "name": "stdout",
     "output_type": "stream",
     "text": [
      "Number of triggers in the audio file :  1614\n",
      "Number of triggers in the meta file :  1632\n",
      "Length of the audio file :  607.15\n",
      "Length of the meta file :  607.1500000000001\n"
     ]
    }
   ],
   "source": [
    "audio_triggers = np.where(diff == 1)[0]\n",
    "\n",
    "# Get the amount of triggers in the metadata file\n",
    "\n",
    "file = \"/home/co/sub-1_ses-01_task-listen_run-01_events.tsv\"\n",
    "\n",
    "import pandas as pd\n",
    "\n",
    "df = pd.read_csv(file, sep='\\t')\n",
    "\n",
    "meta_triggers = df.onset\n",
    "\n",
    "print(\"Number of triggers in the audio file : \", len(audio_triggers))\n",
    "print(\"Number of triggers in the meta file : \", len(meta_triggers))\n",
    "\n",
    "\n",
    "print(\"Length of the audio file : \", (audio_triggers[-1] - audio_triggers[0] )/ fs)\n",
    "print(\"Length of the meta file : \", (meta_triggers.iloc[-1] - meta_triggers.iloc[0]))\n",
    "      \n",
    "#Number of triggers in the audio file :  1614\n",
    "#Number of triggers in the meta file :  1632\n",
    "#Length of the audio file :  607.15\n",
    "#Length of the meta file :  607.1500000000001\n",
    "\n",
    "# We have the same length (end - start), which is a good thing: there is no problem at this point\n",
    "\n",
    "# We have a small difference (18 words that might have been split in the metadata file, and be only one\n",
    "# trigger in the wav file..."
   ]
  },
  {
   "cell_type": "markdown",
   "id": "f7b3ae6c-54b3-468c-8ccb-aed0c046e071",
   "metadata": {},
   "source": [
    "# From the MEG triggers now\n",
    "\n",
    "Let's try to investigate what's the difference with the triggers saved in the raw file now, that seem to be quite differents"
   ]
  },
  {
   "cell_type": "code",
   "execution_count": 5,
   "id": "f91db480-2ded-4d91-bd59-1cf39f1f517a",
   "metadata": {},
   "outputs": [],
   "source": [
    "# Neuro\n",
    "import mne\n",
    "import mne_bids\n",
    "\n",
    "# ML/Data\n",
    "import numpy as np\n",
    "import pandas as pd\n",
    "\n",
    "# Tools\n",
    "from pathlib import Path\n",
    "import os\n",
    "import matplotlib.pyplot as plt\n",
    "\n",
    "from utils import get_path\n",
    "from utils import (\n",
    "    match_list,\n",
    "    add_syntax,\n",
    "    mne_events,\n",
    "    decoding_from_criterion,\n",
    "    get_code_path,\n",
    "    get_path,\n",
    ")\n",
    "\n",
    "\n",
    "modality = \"auditory\"\n",
    "subject = '2'\n",
    "run_id = \"01\"\n"
   ]
  },
  {
   "cell_type": "code",
   "execution_count": 155,
   "id": "1260a882-7f4b-4d1d-b9f8-6a236acac3c1",
   "metadata": {
    "tags": []
   },
   "outputs": [
    {
     "name": "stdout",
     "output_type": "stream",
     "text": [
      "\n",
      " Epoching for run 01, subject: 2\n",
      "\n",
      "Opening raw data file /home/co/data/LPP_MEG_auditory/sub-2/ses-01/meg/sub-2_ses-01_task-listen_run-01_meg.fif...\n",
      "    Read a total of 13 projection items:\n",
      "        grad_ssp_upright.fif : PCA-v1 (1 x 306)  idle\n",
      "        grad_ssp_upright.fif : PCA-v2 (1 x 306)  idle\n",
      "        grad_ssp_upright.fif : PCA-v3 (1 x 306)  idle\n",
      "        grad_ssp_upright.fif : PCA-v4 (1 x 306)  idle\n",
      "        grad_ssp_upright.fif : PCA-v5 (1 x 306)  idle\n",
      "        mag_ssp_upright.fif : PCA-v1 (1 x 306)  idle\n",
      "        mag_ssp_upright.fif : PCA-v2 (1 x 306)  idle\n",
      "        mag_ssp_upright.fif : PCA-v3 (1 x 306)  idle\n",
      "        mag_ssp_upright.fif : PCA-v4 (1 x 306)  idle\n",
      "        mag_ssp_upright.fif : PCA-v5 (1 x 306)  idle\n",
      "        mag_ssp_upright.fif : PCA-v6 (1 x 306)  idle\n",
      "        mag_ssp_upright.fif : PCA-v7 (1 x 306)  idle\n",
      "        mag_ssp_upright.fif : PCA-v8 (1 x 306)  idle\n",
      "    Range : 25000 ... 659999 =     25.000 ...   659.999 secs\n",
      "Ready.\n",
      "Reading events from /home/co/data/LPP_MEG_auditory/sub-2/ses-01/meg/sub-2_ses-01_task-listen_run-01_events.tsv.\n",
      "Reading channel info from /home/co/data/LPP_MEG_auditory/sub-2/ses-01/meg/sub-2_ses-01_task-listen_run-01_channels.tsv.\n",
      "Using 4 HPI coils: 293 307 314 321 Hz\n",
      "Not fully anonymizing info - keeping his_id, sex, and hand info\n"
     ]
    },
    {
     "name": "stderr",
     "output_type": "stream",
     "text": [
      "<ipython-input-155-ca59e5dcf264>:14: RuntimeWarning: This file contains raw Internal Active Shielding data. It may be distorted. Elekta recommends it be run through MaxFilter to produce reliable results. Consider closing the file and running MaxFilter on the data.\n",
      "  raw = mne_bids.read_raw_bids(bids_path)\n",
      "<ipython-input-155-ca59e5dcf264>:14: RuntimeWarning: The unit for channel(s) STI001, STI002, STI003, STI004, STI005, STI006, STI007, STI008, STI009, STI010, STI011, STI012, STI013, STI014, STI015, STI016, STI101, STI201, STI301 has changed from V to NA.\n",
      "  raw = mne_bids.read_raw_bids(bids_path)\n"
     ]
    },
    {
     "name": "stdout",
     "output_type": "stream",
     "text": [
      "1647 events found\n",
      "Event IDs: [  1 128]\n",
      "Reading 0 ... 634999  =      0.000 ...   634.999 secs...\n"
     ]
    }
   ],
   "source": [
    "path = get_path(modality)\n",
    "task_map = {\"auditory\": \"listen\", \"visual\": \"read\", \"fmri\": \"listen\"}\n",
    "task = task_map[modality]\n",
    "print(f\"\\n Epoching for run {run_id}, subject: {subject}\\n\")\n",
    "bids_path = mne_bids.BIDSPath(\n",
    "    subject=subject,\n",
    "    session=\"01\",\n",
    "    task=task,\n",
    "    datatype=\"meg\",\n",
    "    root=path,\n",
    "    run=run_id,\n",
    ")\n",
    "\n",
    "raw = mne_bids.read_raw_bids(bids_path)\n",
    "# triggers = mne.find_events(raw, stim_channel=\"STI101\", shortest_event=1)\n",
    "triggers = mne.find_events(raw, stim_channel=\"STI101\", shortest_event=10)\n",
    "\n",
    "raw.del_proj()  # To fix proj issues\n",
    "raw.pick_types(meg=True, stim=False)\n",
    "raw.load_data()\n",
    "\n",
    "# Generate event_file path\n",
    "event_file = path / f\"sub-{bids_path.subject}\"\n",
    "event_file = event_file / f\"ses-{bids_path.session}\"\n",
    "event_file = event_file / \"meg\"\n",
    "event_file = str(event_file / f\"sub-{bids_path.subject}\")\n",
    "event_file += f\"_ses-{bids_path.session}\"\n",
    "event_file += f\"_task-{bids_path.task}\"\n",
    "event_file += f\"_run-{bids_path.run}_events.tsv\"\n",
    "assert Path(event_file).exists()\n",
    "\n",
    "meta = pd.read_csv(event_file, sep=\"\\t\")\n",
    "\n",
    "meta['start'] = meta.onset"
   ]
  },
  {
   "cell_type": "code",
   "execution_count": 156,
   "id": "18322af2-7e5f-4aa7-996c-14a029d3a28f",
   "metadata": {},
   "outputs": [],
   "source": [
    "words = meta\n",
    "\n",
    "events_df = meta\n",
    "# Triggers from the MEG: :, 2 is the trigger value: 1 is a word, 128 is the start / end\n",
    "word_triggers = triggers[triggers[:, 2] > 1]"
   ]
  },
  {
   "cell_type": "markdown",
   "id": "8fed7fa7-bcc3-4fc7-b720-a35974400a45",
   "metadata": {},
   "source": [
    "## Conclusion\n",
    "\n",
    "We find that the length of the trigger from MEG is at least one second longer than the meta file / audio file...\n",
    "They are calculated by simply takign the last word trigger, \n",
    "There must be something that makes the triggers happen slower.. or "
   ]
  },
  {
   "cell_type": "code",
   "execution_count": 62,
   "id": "807b19e6-fab1-4ff3-9324-7fce2e998e3d",
   "metadata": {},
   "outputs": [
    {
     "name": "stdout",
     "output_type": "stream",
     "text": [
      "Number of triggers in the audio file :  1614\n",
      "Number of triggers in the meta file :  1632\n",
      "Number of triggers in the MEG triggers :  1645\n",
      "\n",
      "\n",
      "Length of the audio file :  607.15\n",
      "Length of the meta file :  607.1500000000001\n",
      "Length of the trigger from MEG (first word to last word) :  608.175\n",
      "\n",
      "\n",
      "Time from the start of the audio to the first word IN THE TRIGGERS:  3.272\n",
      "Time from the start of the audio to the first word IN THE METADATA:  3.05\n"
     ]
    }
   ],
   "source": [
    "print(\"Number of triggers in the audio file : \", len(audio_triggers))\n",
    "print(\"Number of triggers in the meta file : \", len(meta_triggers))\n",
    "print(\"Number of triggers in the MEG triggers : \", word_triggers.shape[0])\n",
    "\n",
    "print('\\n')\n",
    "\n",
    "print(\"Duration of the audio file (s): \", (audio_triggers[-1] - audio_triggers[0] )/ fs)\n",
    "print(\"Duration of the meta file (s): \", (meta_triggers.iloc[-1] - meta_triggers.iloc[0]))\n",
    "print(\"Duration of the trigger from MEG (first word to last word) : \", (word_triggers[-1][0] - word_triggers[0][0]) / raw.info['sfreq'])\n",
    "\n",
    "print('\\n')\n",
    "\n",
    "print(\"Time from the start of the audio to the first word IN THE TRIGGERS: \", (triggers[1,0] - triggers[0,0]) / raw.info['sfreq'])\n",
    "print(\"Time from the start of the audio to the first word IN THE METADATA: \", meta_triggers[0] )\n",
    "\n"
   ]
  },
  {
   "cell_type": "markdown",
   "id": "782466a9-eb4a-45fa-8799-28ce944c010e",
   "metadata": {},
   "source": [
    "# define events from first meg channel trigger + text_grid.starts\n",
    "make mne Epochs from from these events, (and not from trigger channel)\n",
    "1. show matrix x=time from word-onset, y=single trial misc channel\n"
   ]
  },
  {
   "cell_type": "code",
   "execution_count": 53,
   "id": "741e02c4-5712-432a-ace5-076691a0ce6e",
   "metadata": {},
   "outputs": [
    {
     "data": {
      "text/plain": [
       "42046"
      ]
     },
     "execution_count": 53,
     "metadata": {},
     "output_type": "execute_result"
    }
   ],
   "source": [
    "first_meg_trigger = triggers[0][0]\n",
    "first_meg_trigger"
   ]
  },
  {
   "cell_type": "code",
   "execution_count": 11,
   "id": "197d57cd-cde1-4d76-b14f-04cd49104788",
   "metadata": {},
   "outputs": [],
   "source": [
    "def mne_events(meta):\n",
    "    events = np.ones((len(meta), 3), dtype=int)\n",
    "    events[:, 0] = first_meg_trigger + (meta.start*raw.info['sfreq'])\n",
    "    return dict(events=events, metadata=meta.reset_index())"
   ]
  },
  {
   "cell_type": "code",
   "execution_count": 12,
   "id": "61760225-e7f6-42b6-87ec-81e5e8d9c593",
   "metadata": {},
   "outputs": [
    {
     "name": "stdout",
     "output_type": "stream",
     "text": [
      "Filtering raw data in 1 contiguous segment\n",
      "Setting up band-pass filter from 0.5 - 20 Hz\n",
      "\n",
      "FIR filter parameters\n",
      "---------------------\n",
      "Designing a one-pass, zero-phase, non-causal bandpass filter:\n",
      "- Windowed time-domain design (firwin) method\n",
      "- Hamming window with 0.0194 passband ripple and 53 dB stopband attenuation\n",
      "- Lower passband edge: 0.50\n",
      "- Lower transition bandwidth: 0.50 Hz (-6 dB cutoff frequency: 0.25 Hz)\n",
      "- Upper passband edge: 20.00 Hz\n",
      "- Upper transition bandwidth: 5.00 Hz (-6 dB cutoff frequency: 22.50 Hz)\n",
      "- Filter length: 6601 samples (6.601 sec)\n",
      "\n"
     ]
    },
    {
     "name": "stderr",
     "output_type": "stream",
     "text": [
      "[Parallel(n_jobs=-1)]: Using backend LokyBackend with 12 concurrent workers.\n",
      "[Parallel(n_jobs=-1)]: Done   6 tasks      | elapsed:    1.2s\n",
      "[Parallel(n_jobs=-1)]: Done  60 tasks      | elapsed:    2.2s\n",
      "[Parallel(n_jobs=-1)]: Done 228 tasks      | elapsed:    4.8s\n",
      "[Parallel(n_jobs=-1)]: Done 306 out of 306 | elapsed:    5.9s finished\n"
     ]
    },
    {
     "name": "stdout",
     "output_type": "stream",
     "text": [
      "Adding metadata with 6 columns\n",
      "1632 matching events found\n",
      "Setting baseline interval to [-0.2, 0.0] sec\n",
      "Applying baseline correction (mode: mean)\n",
      "0 projection items activated\n"
     ]
    },
    {
     "data": {
      "text/html": [
       "<table class=\"table table-hover table-striped table-sm table-responsive small\">\n",
       "    <tr>\n",
       "        <th>Number of events</th>\n",
       "        <td>1632</td>\n",
       "    </tr>\n",
       "    <tr>\n",
       "        <th>Events</th>\n",
       "        \n",
       "        <td>1: 1632</td>\n",
       "        \n",
       "    </tr>\n",
       "    <tr>\n",
       "        <th>Time range</th>\n",
       "        <td>-0.200 – 0.800 sec</td>\n",
       "    </tr>\n",
       "    <tr>\n",
       "        <th>Baseline</th>\n",
       "        <td>-0.200 – 0.000 sec</td>\n",
       "    </tr>\n",
       "</table>"
      ],
      "text/plain": [
       "<Epochs |  1632 events (good & bad), -0.2 - 0.8 sec, baseline -0.2 – 0 sec, ~5.1 MB, data not loaded, with metadata,\n",
       " '1': 1632>"
      ]
     },
     "execution_count": 12,
     "metadata": {},
     "output_type": "execute_result"
    }
   ],
   "source": [
    "raw.filter(.5, 20., n_jobs=-1)\n",
    "\n",
    "epochs = mne.Epochs(raw, **mne_events(meta), decim=10, tmin=-.2, tmax=.8)\n",
    "epochs "
   ]
  },
  {
   "cell_type": "code",
   "execution_count": 13,
   "id": "98d74c1b-b726-4b99-87cd-2fb7c5a47cc1",
   "metadata": {},
   "outputs": [
    {
     "data": {
      "text/html": [
       "<table class=\"table table-hover table-striped table-sm table-responsive small\">\n",
       "    <tr>\n",
       "        <th>Measurement date</th>\n",
       "        \n",
       "        <td>September 22, 2022  12:44:54 GMT</td>\n",
       "        \n",
       "    </tr>\n",
       "    <tr>\n",
       "        <th>Experimenter</th>\n",
       "        \n",
       "        <td>mne_anonymize</td>\n",
       "        \n",
       "    </tr>\n",
       "        <th>Participant</th>\n",
       "        \n",
       "            \n",
       "            <td>sub-2</td>\n",
       "            \n",
       "        \n",
       "    </tr>\n",
       "    <tr>\n",
       "        <th>Digitized points</th>\n",
       "        \n",
       "        <td>59 points</td>\n",
       "        \n",
       "    </tr>\n",
       "    <tr>\n",
       "        <th>Good channels</th>\n",
       "        <td>204 Gradiometers, 102 Magnetometers</td>\n",
       "    </tr>\n",
       "    <tr>\n",
       "        <th>Bad channels</th>\n",
       "        <td>None</td>\n",
       "    </tr>\n",
       "    <tr>\n",
       "        <th>EOG channels</th>\n",
       "        <td>Not available</td>\n",
       "    </tr>\n",
       "    <tr>\n",
       "        <th>ECG channels</th>\n",
       "        <td>Not available</td>\n",
       "    \n",
       "    <tr>\n",
       "        <th>Sampling frequency</th>\n",
       "        <td>100.00 Hz</td>\n",
       "    </tr>\n",
       "    \n",
       "    \n",
       "    <tr>\n",
       "        <th>Highpass</th>\n",
       "        <td>0.50 Hz</td>\n",
       "    </tr>\n",
       "    \n",
       "    \n",
       "    <tr>\n",
       "        <th>Lowpass</th>\n",
       "        <td>20.00 Hz</td>\n",
       "    </tr>\n",
       "    \n",
       "    \n",
       "</table>"
      ],
      "text/plain": [
       "<Info | 24 non-empty values\n",
       " acq_pars: ACQch001 110113 ACQch002 110112 ACQch003 110111 ACQch004 110122 ...\n",
       " bads: []\n",
       " ch_names: MEG0113, MEG0112, MEG0111, MEG0122, MEG0123, MEG0121, MEG0132, ...\n",
       " chs: 204 Gradiometers, 102 Magnetometers\n",
       " custom_ref_applied: False\n",
       " description: Anonymized using a time shift to preserve age at acquisition\n",
       " dev_head_t: MEG device -> head transform\n",
       " dig: 59 items (3 Cardinal, 4 HPI, 52 Extra)\n",
       " events: 1 item (list)\n",
       " experimenter: mne_anonymize\n",
       " file_id: 4 items (dict)\n",
       " highpass: 0.5 Hz\n",
       " hpi_meas: 1 item (list)\n",
       " hpi_results: 1 item (list)\n",
       " hpi_subsystem: 3 items (dict)\n",
       " line_freq: 50.0\n",
       " lowpass: 20.0 Hz\n",
       " maxshield: True\n",
       " meas_date: 2022-09-22 12:44:54 UTC\n",
       " meas_id: 4 items (dict)\n",
       " nchan: 306\n",
       " proc_history: 1 item (list)\n",
       " proj_id: 1 item (ndarray)\n",
       " proj_name: mne_anonymize\n",
       " projs: []\n",
       " sfreq: 100.0 Hz\n",
       " subject_info: 9 items (dict)\n",
       ">"
      ]
     },
     "execution_count": 13,
     "metadata": {},
     "output_type": "execute_result"
    }
   ],
   "source": [
    "epochs.info"
   ]
  },
  {
   "cell_type": "markdown",
   "id": "674e391f-2518-4b0f-94f7-7e8ef2428fff",
   "metadata": {},
   "source": [
    "Plotting the information of for each trigger: the metadata time expected vs the time found in the triggers."
   ]
  },
  {
   "cell_type": "code",
   "execution_count": 79,
   "id": "85628c1c-a91b-4dde-a522-499b9510ccfb",
   "metadata": {},
   "outputs": [
    {
     "data": {
      "text/plain": [
       "Text(0.5, 1.0, 'Comparing the time from the supposed trigger sample to sample')"
      ]
     },
     "execution_count": 79,
     "metadata": {},
     "output_type": "execute_result"
    },
    {
     "data": {
      "image/png": "[encoded data removed]",
      "text/plain": [
       "<Figure size 432x288 with 1 Axes>"
      ]
     },
     "metadata": {
      "needs_background": "light"
     },
     "output_type": "display_data"
    }
   ],
   "source": [
    "import matplotlib.pyplot as plt\n",
    "\n",
    "x_to_plot = []\n",
    "y_to_plot = []\n",
    "\n",
    "for i in range(1,epochs.events.shape[0]):\n",
    "    epoch = epochs[i]\n",
    "    theoritical_metadata_time = epoch.events[0][0]\n",
    "    trigger_time = triggers[i][0]\n",
    "    x_to_plot.append((theoritical_metadata_time - trigger_time) / raw.info['sfreq'])\n",
    "    y_to_plot.append(i)\n",
    "\n",
    "plt.plot(x_to_plot[:], y_to_plot[:], 'r')\n",
    "#plt.plot(trigger_time, i, color='b')\n",
    "plt.xlabel(\"Time to trigger\")\n",
    "plt.ylabel(\"Sample number\")\n",
    "plt.title(\"Comparing the time from the supposed trigger sample to sample\")"
   ]
  },
  {
   "cell_type": "markdown",
   "id": "d34719a0-4c52-4867-a8a3-073fdfde9054",
   "metadata": {},
   "source": [
    "Might want to do it by matching all the samples, as we have a diff in the number of samples... \n",
    "\n",
    "N_triggers_MEG > N_triggers_metadata > N_triggers_audio...."
   ]
  },
  {
   "cell_type": "markdown",
   "id": "e77ef129-d634-4c4b-8b5c-6110615201a5",
   "metadata": {},
   "source": [
    "## Using the match list\n",
    "\n",
    "Let's investigate what kind of word is removed when using the match list technique???"
   ]
  },
  {
   "cell_type": "code",
   "execution_count": 157,
   "id": "4bfdd75a-9662-48d1-bf5d-1c7875f8b14a",
   "metadata": {},
   "outputs": [
    {
     "name": "stdout",
     "output_type": "stream",
     "text": [
      "Found 0.9258578431372549 of the words in the triggers\n"
     ]
    }
   ],
   "source": [
    "events_df[\"word\"] = meta[\"trial_type\"].apply(\n",
    "            lambda x: eval(x)[\"word\"] if type(eval(x)) == dict else np.nan)\n",
    "\n",
    "decimals = 2\n",
    "triggers_delta = np.round(np.diff(word_triggers[:, 0] / raw.info[\"sfreq\"]), decimals=decimals)  # type: ignore\n",
    "events_delta = np.round(np.diff(words.start.values), decimals=decimals)  # type: ignore\n",
    "i, j = match_list(triggers_delta, events_delta)\n",
    "\n",
    "assert len(i) / len(words) > 0.7, (\n",
    "    error_msg_prefix\n",
    "    + f\"only {len(i)/len(words)} of the words were found in the triggers\"\n",
    ")\n",
    "print(f\"Found {len(i)/len(words)} of the words in the triggers\")\n",
    "\n",
    "true_indices = words.iloc[j].index\n",
    "# Le problème que l'on a en audio et pas en lecture: quand on set les true_indices\n",
    "# et qu'on fait le loc, on réécrit pas mal de start, mais on en garde des anciens (qui n'ont pas survécu\n",
    "# au match list) qui gardent leur valeur, donc la ligne suivante ne leur est pas appliquée, et ils\n",
    "# deviennet de fausses epochs.\n",
    "\n",
    "# Solution: on drop les tuples qui ne font pas partie des true indices ? ou on met leur start à Nan ?\n",
    "\n",
    "# Set the start for true indices, and remove the one that are not true indices\n",
    "\n",
    "events_df = events_df.loc[true_indices].copy()\n",
    "\n",
    "events_df.loc[true_indices, \"start\"] = (\n",
    "    word_triggers[i, 0] / raw.info[\"sfreq\"]\n",
    ")"
   ]
  },
  {
   "cell_type": "code",
   "execution_count": 158,
   "id": "09649ad8-6281-44ac-9ead-bbe1b54ebd7d",
   "metadata": {},
   "outputs": [
    {
     "data": {
      "text/plain": [
       "(1511, 6)"
      ]
     },
     "execution_count": 158,
     "metadata": {},
     "output_type": "execute_result"
    }
   ],
   "source": [
    "events_df.shape"
   ]
  },
  {
   "cell_type": "code",
   "execution_count": 142,
   "id": "3fc28f2c-c256-491a-a9dc-9a22407f4b19",
   "metadata": {},
   "outputs": [],
   "source": [
    "events_df = events_df.sort_values(by=\"start\").reset_index(drop=True)"
   ]
  },
  {
   "cell_type": "code",
   "execution_count": 145,
   "id": "bb4c4a40-ef5d-47f7-a200-9f8b95bc269e",
   "metadata": {},
   "outputs": [
    {
     "data": {
      "text/plain": [
       "(1632, 6)"
      ]
     },
     "execution_count": 145,
     "metadata": {},
     "output_type": "execute_result"
    }
   ],
   "source": [
    "events_df.shape"
   ]
  },
  {
   "cell_type": "code",
   "execution_count": 144,
   "id": "ea966094-e1c8-4f5d-ad3d-94444820fe23",
   "metadata": {},
   "outputs": [],
   "source": [
    "events_df.loc[true_indices, \"start\"] = (\n",
    "    word_triggers[i, 0] / raw.info[\"sfreq\"]\n",
    ")"
   ]
  },
  {
   "cell_type": "code",
   "execution_count": 168,
   "id": "1fca45f5-39a0-45ab-b710-65d2f12fa738",
   "metadata": {},
   "outputs": [
    {
     "data": {
      "text/plain": [
       "1629    608.015\n",
       "dtype: float64"
      ]
     },
     "execution_count": 168,
     "metadata": {},
     "output_type": "execute_result"
    }
   ],
   "source": [
    "events_df.start[-2:-1] + events_df.duration[-2:-1] - events_df.start[0] "
   ]
  },
  {
   "cell_type": "code",
   "execution_count": 164,
   "id": "3fa8d7b2-f527-4599-b3eb-66af7a774344",
   "metadata": {},
   "outputs": [
    {
     "data": {
      "text/plain": [
       "0       lorsque\n",
       "1             j\n",
       "2         avais\n",
       "3           six\n",
       "4           ans\n",
       "         ...   \n",
       "1626         ne\n",
       "1627       peut\n",
       "1628        pas\n",
       "1629      aller\n",
       "1630       bien\n",
       "Name: word, Length: 1511, dtype: object"
      ]
     },
     "execution_count": 164,
     "metadata": {},
     "output_type": "execute_result"
    }
   ],
   "source": [
    "events_df.word"
   ]
  },
  {
   "cell_type": "code",
   "execution_count": 177,
   "id": "75b26bfe-1c46-4177-a35c-2d58407c06e1",
   "metadata": {},
   "outputs": [
    {
     "name": "stdout",
     "output_type": "stream",
     "text": [
      "[' ' 'abandonné' 'arizona' 'as' 'attaches' 'au' 'aux' 'bouger' 'connaître'\n",
      " 'conseillé' 'cornes' 'cravates' 'dangereux' 'donné' 'donnée' 'du'\n",
      " 'encombrant' 'enfonça' 'herbe' 'idée' 'océan' 'oeil' 'ose' 'perdra'\n",
      " 'prenne' 'répondre' 'répondu' 'sérieuse' 'venait' 'étoiles']\n"
     ]
    }
   ],
   "source": [
    "word_left_after_match = np.array(events_df.word)\n",
    "\n",
    "all_words = words.word.values\n",
    "\n",
    "missing_words = np.setdiff1d(all_words, word_left_after_match)\n",
    "\n",
    "# Print the missing words\n",
    "print(missing_words)"
   ]
  },
  {
   "cell_type": "code",
   "execution_count": 187,
   "id": "71d05f41-cba9-49c4-b7ea-8fe2ab6d5874",
   "metadata": {
    "tags": []
   },
   "outputs": [],
   "source": [
    "def find_missing_words2(array1, array2):\n",
    "    dict1 = {}\n",
    "    dict2 = {}\n",
    "\n",
    "    for word in array1:\n",
    "        if word in dict1:\n",
    "            dict1[word] += 1\n",
    "        else:\n",
    "            dict1[word] = 1\n",
    "\n",
    "    for word in array2:\n",
    "        if word in dict2:\n",
    "            dict2[word] += 1\n",
    "        else:\n",
    "            dict2[word] = 1\n",
    "\n",
    "    missing_words = []\n",
    "    total_missing = 0\n",
    "    for word in dict1:\n",
    "        if word not in dict2:\n",
    "            missing_words.append((word, dict1[word]))\n",
    "            total_missing += dict1[word]\n",
    "        elif dict1[word] > dict2[word]:\n",
    "            missing_words.append((word, dict1[word] - dict2[word]))\n",
    "            total_missing += dict1[word] - dict2[word]\n",
    "\n",
    "    return missing_words, total_missing\n"
   ]
  },
  {
   "cell_type": "code",
   "execution_count": 188,
   "id": "de93cd3b-e709-441c-b5d4-991f23ffb386",
   "metadata": {},
   "outputs": [],
   "source": [
    "missing, total= find_missing_words2(all_words, word_left_after_match)"
   ]
  },
  {
   "cell_type": "code",
   "execution_count": 189,
   "id": "8b652525-3c06-4c2f-8513-3960f2a84a52",
   "metadata": {},
   "outputs": [
    {
     "data": {
      "text/plain": [
       "121"
      ]
     },
     "execution_count": 189,
     "metadata": {},
     "output_type": "execute_result"
    }
   ],
   "source": [
    "total\n",
    "# It matches perfectly with the number of words missing"
   ]
  },
  {
   "cell_type": "markdown",
   "id": "1087cf41-c5ca-4dd6-9081-bc239458bb2f",
   "metadata": {},
   "source": [
    "Next step: understanding which starts are linked with the words so I could see if it's regular / linked to a particular type of word / etc"
   ]
  },
  {
   "cell_type": "code",
   "execution_count": null,
   "id": "8805b511-2430-4e34-b4c4-60778e2a50e7",
   "metadata": {},
   "outputs": [],
   "source": []
  }
 ],
 "metadata": {
  "kernelspec": {
   "display_name": "Python 3",
   "language": "python",
   "name": "python3"
  },
  "language_info": {
   "codemirror_mode": {
    "name": "ipython",
    "version": 3
   },
   "file_extension": ".py",
   "mimetype": "text/x-python",
   "name": "python",
   "nbconvert_exporter": "python",
   "pygments_lexer": "ipython3",
   "version": "3.9.18"
  }
 },
 "nbformat": 4,
 "nbformat_minor": 5
}
