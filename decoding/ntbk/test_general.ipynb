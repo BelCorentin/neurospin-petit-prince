{
 "cells": [
  {
   "cell_type": "markdown",
   "metadata": {},
   "source": [
    "# Testing audio"
   ]
  },
  {
   "cell_type": "code",
   "execution_count": 1,
   "metadata": {},
   "outputs": [],
   "source": [
    "# Neuro\n",
    "import mne\n",
    "import mne_bids\n",
    "\n",
    "# ML/Data\n",
    "import numpy as np\n",
    "import pandas as pd\n",
    "\n",
    "# Tools\n",
    "from pathlib import Path\n",
    "import os\n",
    "import spacy\n",
    "import matplotlib.pyplot as plt\n",
    "from functools import lru_cache\n"
   ]
  },
  {
   "cell_type": "code",
   "execution_count": 2,
   "metadata": {},
   "outputs": [],
   "source": [
    "modality = \"auditory\"\n",
    "decoding_criterion = 'wlength'\n",
    "start = 'onset'\n",
    "level = 'word'\n",
    "subject = '2'\n",
    "run_id = \"01\""
   ]
  },
  {
   "cell_type": "code",
   "execution_count": 3,
   "metadata": {},
   "outputs": [],
   "source": [
    "from utils import (\n",
    "    match_list,\n",
    "    add_syntax,\n",
    "    mne_events,\n",
    "    decoding_from_criterion,\n",
    "    get_code_path,\n",
    "    get_path,\n",
    ")\n"
   ]
  },
  {
   "cell_type": "markdown",
   "metadata": {},
   "source": [
    "# Testing using basic code"
   ]
  },
  {
   "cell_type": "code",
   "execution_count": 9,
   "metadata": {},
   "outputs": [
    {
     "name": "stdout",
     "output_type": "stream",
     "text": [
      "\n",
      " Epoching for run 01, subject: 2\n",
      "\n",
      "Opening raw data file /home/co/data/LPP_MEG_auditory/sub-2/ses-01/meg/sub-2_ses-01_task-listen_run-01_meg.fif...\n",
      "    Read a total of 13 projection items:\n",
      "        grad_ssp_upright.fif : PCA-v1 (1 x 306)  idle\n",
      "        grad_ssp_upright.fif : PCA-v2 (1 x 306)  idle\n",
      "        grad_ssp_upright.fif : PCA-v3 (1 x 306)  idle\n",
      "        grad_ssp_upright.fif : PCA-v4 (1 x 306)  idle\n",
      "        grad_ssp_upright.fif : PCA-v5 (1 x 306)  idle\n",
      "        mag_ssp_upright.fif : PCA-v1 (1 x 306)  idle\n",
      "        mag_ssp_upright.fif : PCA-v2 (1 x 306)  idle\n",
      "        mag_ssp_upright.fif : PCA-v3 (1 x 306)  idle\n",
      "        mag_ssp_upright.fif : PCA-v4 (1 x 306)  idle\n",
      "        mag_ssp_upright.fif : PCA-v5 (1 x 306)  idle\n",
      "        mag_ssp_upright.fif : PCA-v6 (1 x 306)  idle\n",
      "        mag_ssp_upright.fif : PCA-v7 (1 x 306)  idle\n",
      "        mag_ssp_upright.fif : PCA-v8 (1 x 306)  idle\n",
      "    Range : 25000 ... 659999 =     25.000 ...   659.999 secs\n",
      "Ready.\n",
      "Reading events from /home/co/data/LPP_MEG_auditory/sub-2/ses-01/meg/sub-2_ses-01_task-listen_run-01_events.tsv.\n",
      "Reading channel info from /home/co/data/LPP_MEG_auditory/sub-2/ses-01/meg/sub-2_ses-01_task-listen_run-01_channels.tsv.\n",
      "Using 4 HPI coils: 293 307 314 321 Hz\n",
      "Not fully anonymizing info - keeping his_id, sex, and hand info\n"
     ]
    },
    {
     "name": "stderr",
     "output_type": "stream",
     "text": [
      "<ipython-input-9-43f27d9a7ab8>:14: RuntimeWarning: This file contains raw Internal Active Shielding data. It may be distorted. Elekta recommends it be run through MaxFilter to produce reliable results. Consider closing the file and running MaxFilter on the data.\n",
      "  raw = mne_bids.read_raw_bids(bids_path)\n",
      "<ipython-input-9-43f27d9a7ab8>:14: RuntimeWarning: The unit for channel(s) STI001, STI002, STI003, STI004, STI005, STI006, STI007, STI008, STI009, STI010, STI011, STI012, STI013, STI014, STI015, STI016, STI101, STI201, STI301 has changed from V to NA.\n",
      "  raw = mne_bids.read_raw_bids(bids_path)\n"
     ]
    },
    {
     "name": "stdout",
     "output_type": "stream",
     "text": [
      "1647 events found\n",
      "Event IDs: [  1 128]\n",
      "Reading 0 ... 634999  =      0.000 ...   634.999 secs...\n"
     ]
    }
   ],
   "source": [
    "path = get_path(modality)\n",
    "task_map = {\"auditory\": \"listen\", \"visual\": \"read\", \"fmri\": \"listen\"}\n",
    "task = task_map[modality]\n",
    "print(f\"\\n Epoching for run {run_id}, subject: {subject}\\n\")\n",
    "bids_path = mne_bids.BIDSPath(\n",
    "    subject=subject,\n",
    "    session=\"01\",\n",
    "    task=task,\n",
    "    datatype=\"meg\",\n",
    "    root=path,\n",
    "    run=run_id,\n",
    ")\n",
    "\n",
    "raw = mne_bids.read_raw_bids(bids_path)\n",
    "events = mne.find_events(raw, stim_channel=\"STI101\", shortest_event=1)\n",
    "\n",
    "raw.del_proj()  # To fix proj issues\n",
    "raw.pick_types(meg=True, stim=False)\n",
    "raw.load_data()\n",
    "\n",
    "# Generate event_file path\n",
    "event_file = path / f\"sub-{bids_path.subject}\"\n",
    "event_file = event_file / f\"ses-{bids_path.session}\"\n",
    "event_file = event_file / \"meg\"\n",
    "event_file = str(event_file / f\"sub-{bids_path.subject}\")\n",
    "event_file += f\"_ses-{bids_path.session}\"\n",
    "event_file += f\"_task-{bids_path.task}\"\n",
    "event_file += f\"_run-{bids_path.run}_events.tsv\"\n",
    "assert Path(event_file).exists()\n",
    "\n"
   ]
  },
  {
   "cell_type": "code",
   "execution_count": 10,
   "metadata": {},
   "outputs": [],
   "source": [
    "triggers = events"
   ]
  },
  {
   "cell_type": "code",
   "execution_count": 50,
   "metadata": {},
   "outputs": [],
   "source": [
    "events = list()\n",
    "for annot in raw.annotations:\n",
    "    description = annot.pop(\"description\")\n",
    "    if \"BAD_ACQ_SKIP\" in description:\n",
    "        continue\n",
    "    event = eval(description)\n",
    "    event[\"condition\"] = \"sentence\"\n",
    "    event[\"type\"] = event.pop(\"kind\").capitalize()\n",
    "    event[\"start\"] = annot[\"onset\"]\n",
    "    event[\"duration\"] = annot[\"duration\"]\n",
    "    event[\"stop\"] = annot[\"onset\"] + annot[\"duration\"]\n",
    "    event[\"language\"] = \"french\"\n",
    "    events.append(event)\n",
    "\n",
    "events_df = pd.DataFrame(events).rename(columns=dict(word=\"text\"))\n",
    "# remove empty words\n",
    "events_df = events_df.loc[events_df.text != \"\"]"
   ]
  },
  {
   "cell_type": "code",
   "execution_count": 51,
   "metadata": {},
   "outputs": [
    {
     "data": {
      "text/html": [
       "<div>\n",
       "<style scoped>\n",
       "    .dataframe tbody tr th:only-of-type {\n",
       "        vertical-align: middle;\n",
       "    }\n",
       "\n",
       "    .dataframe tbody tr th {\n",
       "        vertical-align: top;\n",
       "    }\n",
       "\n",
       "    .dataframe thead th {\n",
       "        text-align: right;\n",
       "    }\n",
       "</style>\n",
       "<table border=\"1\" class=\"dataframe\">\n",
       "  <thead>\n",
       "    <tr style=\"text-align: right;\">\n",
       "      <th></th>\n",
       "      <th>text</th>\n",
       "      <th>condition</th>\n",
       "      <th>type</th>\n",
       "      <th>start</th>\n",
       "      <th>duration</th>\n",
       "      <th>stop</th>\n",
       "      <th>language</th>\n",
       "    </tr>\n",
       "  </thead>\n",
       "  <tbody>\n",
       "    <tr>\n",
       "      <th>0</th>\n",
       "      <td>lorsque</td>\n",
       "      <td>sentence</td>\n",
       "      <td>Word</td>\n",
       "      <td>28.05</td>\n",
       "      <td>0.37</td>\n",
       "      <td>28.42</td>\n",
       "      <td>french</td>\n",
       "    </tr>\n",
       "    <tr>\n",
       "      <th>1</th>\n",
       "      <td>j</td>\n",
       "      <td>sentence</td>\n",
       "      <td>Word</td>\n",
       "      <td>28.42</td>\n",
       "      <td>0.02</td>\n",
       "      <td>28.44</td>\n",
       "      <td>french</td>\n",
       "    </tr>\n",
       "    <tr>\n",
       "      <th>2</th>\n",
       "      <td>avais</td>\n",
       "      <td>sentence</td>\n",
       "      <td>Word</td>\n",
       "      <td>28.53</td>\n",
       "      <td>0.23</td>\n",
       "      <td>28.76</td>\n",
       "      <td>french</td>\n",
       "    </tr>\n",
       "    <tr>\n",
       "      <th>3</th>\n",
       "      <td>six</td>\n",
       "      <td>sentence</td>\n",
       "      <td>Word</td>\n",
       "      <td>28.93</td>\n",
       "      <td>0.25</td>\n",
       "      <td>29.18</td>\n",
       "      <td>french</td>\n",
       "    </tr>\n",
       "    <tr>\n",
       "      <th>4</th>\n",
       "      <td>ans</td>\n",
       "      <td>sentence</td>\n",
       "      <td>Word</td>\n",
       "      <td>29.18</td>\n",
       "      <td>0.18</td>\n",
       "      <td>29.36</td>\n",
       "      <td>french</td>\n",
       "    </tr>\n",
       "    <tr>\n",
       "      <th>...</th>\n",
       "      <td>...</td>\n",
       "      <td>...</td>\n",
       "      <td>...</td>\n",
       "      <td>...</td>\n",
       "      <td>...</td>\n",
       "      <td>...</td>\n",
       "      <td>...</td>\n",
       "    </tr>\n",
       "    <tr>\n",
       "      <th>1627</th>\n",
       "      <td>peut</td>\n",
       "      <td>sentence</td>\n",
       "      <td>Word</td>\n",
       "      <td>634.51</td>\n",
       "      <td>0.14</td>\n",
       "      <td>634.65</td>\n",
       "      <td>french</td>\n",
       "    </tr>\n",
       "    <tr>\n",
       "      <th>1628</th>\n",
       "      <td>pas</td>\n",
       "      <td>sentence</td>\n",
       "      <td>Word</td>\n",
       "      <td>634.65</td>\n",
       "      <td>0.22</td>\n",
       "      <td>634.87</td>\n",
       "      <td>french</td>\n",
       "    </tr>\n",
       "    <tr>\n",
       "      <th>1629</th>\n",
       "      <td>aller</td>\n",
       "      <td>sentence</td>\n",
       "      <td>Word</td>\n",
       "      <td>634.87</td>\n",
       "      <td>0.17</td>\n",
       "      <td>635.04</td>\n",
       "      <td>french</td>\n",
       "    </tr>\n",
       "    <tr>\n",
       "      <th>1630</th>\n",
       "      <td>bien</td>\n",
       "      <td>sentence</td>\n",
       "      <td>Word</td>\n",
       "      <td>635.04</td>\n",
       "      <td>0.16</td>\n",
       "      <td>635.20</td>\n",
       "      <td>french</td>\n",
       "    </tr>\n",
       "    <tr>\n",
       "      <th>1631</th>\n",
       "      <td>loin</td>\n",
       "      <td>sentence</td>\n",
       "      <td>Word</td>\n",
       "      <td>635.20</td>\n",
       "      <td>0.18</td>\n",
       "      <td>635.38</td>\n",
       "      <td>french</td>\n",
       "    </tr>\n",
       "  </tbody>\n",
       "</table>\n",
       "<p>1632 rows × 7 columns</p>\n",
       "</div>"
      ],
      "text/plain": [
       "         text condition  type   start  duration    stop language\n",
       "0     lorsque  sentence  Word   28.05      0.37   28.42   french\n",
       "1           j  sentence  Word   28.42      0.02   28.44   french\n",
       "2       avais  sentence  Word   28.53      0.23   28.76   french\n",
       "3         six  sentence  Word   28.93      0.25   29.18   french\n",
       "4         ans  sentence  Word   29.18      0.18   29.36   french\n",
       "...       ...       ...   ...     ...       ...     ...      ...\n",
       "1627     peut  sentence  Word  634.51      0.14  634.65   french\n",
       "1628      pas  sentence  Word  634.65      0.22  634.87   french\n",
       "1629    aller  sentence  Word  634.87      0.17  635.04   french\n",
       "1630     bien  sentence  Word  635.04      0.16  635.20   french\n",
       "1631     loin  sentence  Word  635.20      0.18  635.38   french\n",
       "\n",
       "[1632 rows x 7 columns]"
      ]
     },
     "execution_count": 51,
     "metadata": {},
     "output_type": "execute_result"
    }
   ],
   "source": [
    "events_df = pd.DataFrame(events).rename(columns=dict(word=\"text\"))\n",
    "events_df"
   ]
  },
  {
   "cell_type": "code",
   "execution_count": null,
   "metadata": {},
   "outputs": [],
   "source": [
    "events_df"
   ]
  },
  {
   "cell_type": "code",
   "execution_count": 52,
   "metadata": {},
   "outputs": [],
   "source": [
    "words = events_df.loc[events_df.type == \"Word\"]\n",
    "word_triggers = triggers[triggers[:, 2] > 1]\n",
    "\n",
    "# Old version\n",
    "# triggers_delta = np.round(np.diff(word_triggers[:, 0] / raw.info[\"sfreq\"]), decimals=0)  # type: ignore\n",
    "# events_delta = np.round(np.diff(words.start.values), decimals=0)  # type: ignore\n",
    "# i, j = match_list(triggers_delta, events_delta)\n",
    "\n",
    "# New version\n",
    "triggers_delta = np.diff(word_triggers[:, 0].astype(float) / raw.info[\"sfreq\"])\n",
    "events_delta = np.diff(words.start.values)\n",
    "pres = 1e2\n",
    "i, j = match_list(np.round(triggers_delta*pres), np.round(events_delta*pres))\n",
    "\n",
    "assert len(i) / len(words) > 0.8\n",
    "true_indices = words.iloc[j].index\n",
    "events_df.loc[true_indices, \"start\"] = word_triggers[i, 0] / raw.info[\"sfreq\"]"
   ]
  },
  {
   "cell_type": "code",
   "execution_count": 64,
   "metadata": {},
   "outputs": [
    {
     "data": {
      "text/plain": [
       "array([ 370,  110,  401,  251,  220,  140,  320,  290,  351,  642,  460,\n",
       "        611,  651,  320,  200,  270,  201,  100,  380,  480,  180,  131,\n",
       "        690,  541, 1291,  310,  591,  130,  491,  611,  180,  461,  140,\n",
       "       1171,  411,  130,  391,  151, 1671,   60,  412,  170,  150,  721,\n",
       "        190,  480,  492,  550,  190,  520])"
      ]
     },
     "execution_count": 64,
     "metadata": {},
     "output_type": "execute_result"
    }
   ],
   "source": [
    "np.diff(word_triggers[:, 0])[:50]"
   ]
  },
  {
   "cell_type": "code",
   "execution_count": 61,
   "metadata": {},
   "outputs": [
    {
     "data": {
      "text/plain": [
       "37              du\n",
       "38                \n",
       "0          lorsque\n",
       "1                j\n",
       "2            avais\n",
       "3              six\n",
       "4              ans\n",
       "5                j\n",
       "6               ai\n",
       "7               vu\n",
       "8              une\n",
       "9             fois\n",
       "10             une\n",
       "11      magnifique\n",
       "12           image\n",
       "13            dans\n",
       "14              un\n",
       "15           livre\n",
       "16             sur\n",
       "17              la\n",
       "18           forêt\n",
       "19          vierge\n",
       "61          bouger\n",
       "20             qui\n",
       "21               s\n",
       "22        appelait\n",
       "23       histoires\n",
       "24          vécues\n",
       "25              ça\n",
       "26    représentait\n",
       "27              un\n",
       "28         serpent\n",
       "29             boa\n",
       "30             qui\n",
       "31         avalait\n",
       "32              un\n",
       "33           fauve\n",
       "34           voilà\n",
       "35              la\n",
       "36           copie\n",
       "39          dessin\n",
       "40              on\n",
       "41          disait\n",
       "42            dans\n",
       "43              le\n",
       "44           livre\n",
       "45             les\n",
       "46        serpents\n",
       "47            boas\n",
       "48         avalent\n",
       "Name: text, dtype: object"
      ]
     },
     "execution_count": 61,
     "metadata": {},
     "output_type": "execute_result"
    }
   ],
   "source": [
    "events_df.sort_values(by=\"start\").text[:50]"
   ]
  },
  {
   "cell_type": "code",
   "execution_count": 56,
   "metadata": {},
   "outputs": [
    {
     "data": {
      "text/plain": [
       "array([0.37 , 0.11 , 0.401, 0.251, 0.22 , 0.14 , 0.32 , 0.29 , 0.351,\n",
       "       0.642, 0.46 , 0.611, 0.651, 0.32 , 0.2  , 0.27 , 0.201, 0.1  ,\n",
       "       0.38 , 0.48 , 0.18 , 0.131, 0.69 , 0.541, 1.291, 0.31 , 0.591,\n",
       "       0.13 , 0.491, 0.611, 0.18 , 0.461, 0.14 , 1.171, 0.411, 0.13 ,\n",
       "       0.391, 0.151, 1.671, 0.06 , 0.412, 0.17 , 0.15 , 0.721, 0.19 ,\n",
       "       0.48 , 0.492, 0.55 , 0.19 , 0.52 ])"
      ]
     },
     "execution_count": 56,
     "metadata": {},
     "output_type": "execute_result"
    }
   ],
   "source": [
    "triggers_delta[:50]"
   ]
  },
  {
   "cell_type": "code",
   "execution_count": 57,
   "metadata": {},
   "outputs": [
    {
     "data": {
      "text/plain": [
       "array([0.37    , 0.11    , 0.4     , 0.25    , 0.22    , 0.14    ,\n",
       "       0.319433, 0.290429, 0.350138, 0.64    , 0.46    , 0.61    ,\n",
       "       0.65    , 0.32    , 0.2     , 0.27    , 0.2     , 0.1     ,\n",
       "       0.38    , 0.48    , 0.18    , 0.13    , 0.69    , 0.54    ,\n",
       "       1.29    , 0.31    , 0.59    , 0.13    , 0.49    , 0.61    ,\n",
       "       0.18    , 0.46    , 0.14    , 1.17    , 0.41    , 0.13    ,\n",
       "       0.39    , 0.075   , 0.075   , 1.67    , 0.06    , 0.41    ,\n",
       "       0.17    , 0.15    , 0.72    , 0.19    , 0.48    , 0.49    ,\n",
       "       0.55    , 0.19    ])"
      ]
     },
     "execution_count": 57,
     "metadata": {},
     "output_type": "execute_result"
    }
   ],
   "source": [
    "events_delta[:50]"
   ]
  },
  {
   "cell_type": "code",
   "execution_count": 49,
   "metadata": {},
   "outputs": [
    {
     "data": {
      "text/plain": [
       "array([ 42.046,  45.318,  45.688, ..., 652.803, 652.943, 653.163])"
      ]
     },
     "execution_count": 49,
     "metadata": {},
     "output_type": "execute_result"
    }
   ],
   "source": [
    "triggers[i,0]/ raw.info[\"sfreq\"]"
   ]
  },
  {
   "cell_type": "code",
   "execution_count": 35,
   "metadata": {},
   "outputs": [
    {
     "data": {
      "text/plain": [
       "array([   0,    1,    2, ..., 1641, 1642, 1643])"
      ]
     },
     "execution_count": 35,
     "metadata": {},
     "output_type": "execute_result"
    }
   ],
   "source": [
    "i"
   ]
  },
  {
   "cell_type": "code",
   "execution_count": 36,
   "metadata": {},
   "outputs": [
    {
     "data": {
      "text/plain": [
       "array([   0,    1,    2, ..., 1628, 1629, 1630])"
      ]
     },
     "execution_count": 36,
     "metadata": {},
     "output_type": "execute_result"
    }
   ],
   "source": [
    "j"
   ]
  },
  {
   "cell_type": "code",
   "execution_count": 21,
   "metadata": {},
   "outputs": [
    {
     "data": {
      "text/plain": [
       "Int64Index([   1,    2,    3,    4,    5,    6,    7,    8,    9,   10,\n",
       "            ...\n",
       "            1620, 1621, 1622, 1623, 1624, 1625, 1626, 1627, 1628, 1629],\n",
       "           dtype='int64', length=1546)"
      ]
     },
     "execution_count": 21,
     "metadata": {},
     "output_type": "execute_result"
    }
   ],
   "source": [
    "true_indices"
   ]
  },
  {
   "cell_type": "code",
   "execution_count": 47,
   "metadata": {},
   "outputs": [
    {
     "data": {
      "text/html": [
       "<div>\n",
       "<style scoped>\n",
       "    .dataframe tbody tr th:only-of-type {\n",
       "        vertical-align: middle;\n",
       "    }\n",
       "\n",
       "    .dataframe tbody tr th {\n",
       "        vertical-align: top;\n",
       "    }\n",
       "\n",
       "    .dataframe thead th {\n",
       "        text-align: right;\n",
       "    }\n",
       "</style>\n",
       "<table border=\"1\" class=\"dataframe\">\n",
       "  <thead>\n",
       "    <tr style=\"text-align: right;\">\n",
       "      <th></th>\n",
       "      <th>text</th>\n",
       "      <th>condition</th>\n",
       "      <th>type</th>\n",
       "      <th>start</th>\n",
       "      <th>duration</th>\n",
       "      <th>stop</th>\n",
       "      <th>language</th>\n",
       "    </tr>\n",
       "  </thead>\n",
       "  <tbody>\n",
       "    <tr>\n",
       "      <th>0</th>\n",
       "      <td>lorsque</td>\n",
       "      <td>sentence</td>\n",
       "      <td>Word</td>\n",
       "      <td>28.05</td>\n",
       "      <td>0.37</td>\n",
       "      <td>28.42</td>\n",
       "      <td>french</td>\n",
       "    </tr>\n",
       "    <tr>\n",
       "      <th>1</th>\n",
       "      <td>j</td>\n",
       "      <td>sentence</td>\n",
       "      <td>Word</td>\n",
       "      <td>28.42</td>\n",
       "      <td>0.02</td>\n",
       "      <td>28.44</td>\n",
       "      <td>french</td>\n",
       "    </tr>\n",
       "    <tr>\n",
       "      <th>2</th>\n",
       "      <td>avais</td>\n",
       "      <td>sentence</td>\n",
       "      <td>Word</td>\n",
       "      <td>28.53</td>\n",
       "      <td>0.23</td>\n",
       "      <td>28.76</td>\n",
       "      <td>french</td>\n",
       "    </tr>\n",
       "    <tr>\n",
       "      <th>3</th>\n",
       "      <td>six</td>\n",
       "      <td>sentence</td>\n",
       "      <td>Word</td>\n",
       "      <td>28.93</td>\n",
       "      <td>0.25</td>\n",
       "      <td>29.18</td>\n",
       "      <td>french</td>\n",
       "    </tr>\n",
       "    <tr>\n",
       "      <th>4</th>\n",
       "      <td>ans</td>\n",
       "      <td>sentence</td>\n",
       "      <td>Word</td>\n",
       "      <td>29.18</td>\n",
       "      <td>0.18</td>\n",
       "      <td>29.36</td>\n",
       "      <td>french</td>\n",
       "    </tr>\n",
       "    <tr>\n",
       "      <th>...</th>\n",
       "      <td>...</td>\n",
       "      <td>...</td>\n",
       "      <td>...</td>\n",
       "      <td>...</td>\n",
       "      <td>...</td>\n",
       "      <td>...</td>\n",
       "      <td>...</td>\n",
       "    </tr>\n",
       "    <tr>\n",
       "      <th>1626</th>\n",
       "      <td>ne</td>\n",
       "      <td>sentence</td>\n",
       "      <td>Word</td>\n",
       "      <td>634.40</td>\n",
       "      <td>0.11</td>\n",
       "      <td>634.51</td>\n",
       "      <td>french</td>\n",
       "    </tr>\n",
       "    <tr>\n",
       "      <th>1627</th>\n",
       "      <td>peut</td>\n",
       "      <td>sentence</td>\n",
       "      <td>Word</td>\n",
       "      <td>634.51</td>\n",
       "      <td>0.14</td>\n",
       "      <td>634.65</td>\n",
       "      <td>french</td>\n",
       "    </tr>\n",
       "    <tr>\n",
       "      <th>1628</th>\n",
       "      <td>pas</td>\n",
       "      <td>sentence</td>\n",
       "      <td>Word</td>\n",
       "      <td>634.65</td>\n",
       "      <td>0.22</td>\n",
       "      <td>634.87</td>\n",
       "      <td>french</td>\n",
       "    </tr>\n",
       "    <tr>\n",
       "      <th>1629</th>\n",
       "      <td>aller</td>\n",
       "      <td>sentence</td>\n",
       "      <td>Word</td>\n",
       "      <td>634.87</td>\n",
       "      <td>0.17</td>\n",
       "      <td>635.04</td>\n",
       "      <td>french</td>\n",
       "    </tr>\n",
       "    <tr>\n",
       "      <th>1630</th>\n",
       "      <td>bien</td>\n",
       "      <td>sentence</td>\n",
       "      <td>Word</td>\n",
       "      <td>635.04</td>\n",
       "      <td>0.16</td>\n",
       "      <td>635.20</td>\n",
       "      <td>french</td>\n",
       "    </tr>\n",
       "  </tbody>\n",
       "</table>\n",
       "<p>1511 rows × 7 columns</p>\n",
       "</div>"
      ],
      "text/plain": [
       "         text condition  type   start  duration    stop language\n",
       "0     lorsque  sentence  Word   28.05      0.37   28.42   french\n",
       "1           j  sentence  Word   28.42      0.02   28.44   french\n",
       "2       avais  sentence  Word   28.53      0.23   28.76   french\n",
       "3         six  sentence  Word   28.93      0.25   29.18   french\n",
       "4         ans  sentence  Word   29.18      0.18   29.36   french\n",
       "...       ...       ...   ...     ...       ...     ...      ...\n",
       "1626       ne  sentence  Word  634.40      0.11  634.51   french\n",
       "1627     peut  sentence  Word  634.51      0.14  634.65   french\n",
       "1628      pas  sentence  Word  634.65      0.22  634.87   french\n",
       "1629    aller  sentence  Word  634.87      0.17  635.04   french\n",
       "1630     bien  sentence  Word  635.04      0.16  635.20   french\n",
       "\n",
       "[1511 rows x 7 columns]"
      ]
     },
     "execution_count": 47,
     "metadata": {},
     "output_type": "execute_result"
    }
   ],
   "source": [
    "words.iloc[j]"
   ]
  },
  {
   "cell_type": "code",
   "execution_count": 18,
   "metadata": {},
   "outputs": [
    {
     "data": {
      "text/plain": [
       "array([  3.272,   0.37 ,   0.11 , ...,   0.14 ,   0.22 , -17.963])"
      ]
     },
     "execution_count": 18,
     "metadata": {},
     "output_type": "execute_result"
    }
   ],
   "source": [
    "events_delta"
   ]
  },
  {
   "cell_type": "code",
   "execution_count": 37,
   "metadata": {},
   "outputs": [
    {
     "data": {
      "text/html": [
       "<div>\n",
       "<style scoped>\n",
       "    .dataframe tbody tr th:only-of-type {\n",
       "        vertical-align: middle;\n",
       "    }\n",
       "\n",
       "    .dataframe tbody tr th {\n",
       "        vertical-align: top;\n",
       "    }\n",
       "\n",
       "    .dataframe thead th {\n",
       "        text-align: right;\n",
       "    }\n",
       "</style>\n",
       "<table border=\"1\" class=\"dataframe\">\n",
       "  <thead>\n",
       "    <tr style=\"text-align: right;\">\n",
       "      <th></th>\n",
       "      <th>text</th>\n",
       "      <th>condition</th>\n",
       "      <th>type</th>\n",
       "      <th>start</th>\n",
       "      <th>duration</th>\n",
       "      <th>stop</th>\n",
       "      <th>language</th>\n",
       "    </tr>\n",
       "  </thead>\n",
       "  <tbody>\n",
       "    <tr>\n",
       "      <th>0</th>\n",
       "      <td>lorsque</td>\n",
       "      <td>sentence</td>\n",
       "      <td>Word</td>\n",
       "      <td>42.046</td>\n",
       "      <td>0.37</td>\n",
       "      <td>28.42</td>\n",
       "      <td>french</td>\n",
       "    </tr>\n",
       "    <tr>\n",
       "      <th>1</th>\n",
       "      <td>j</td>\n",
       "      <td>sentence</td>\n",
       "      <td>Word</td>\n",
       "      <td>45.318</td>\n",
       "      <td>0.02</td>\n",
       "      <td>28.44</td>\n",
       "      <td>french</td>\n",
       "    </tr>\n",
       "    <tr>\n",
       "      <th>2</th>\n",
       "      <td>avais</td>\n",
       "      <td>sentence</td>\n",
       "      <td>Word</td>\n",
       "      <td>45.688</td>\n",
       "      <td>0.23</td>\n",
       "      <td>28.76</td>\n",
       "      <td>french</td>\n",
       "    </tr>\n",
       "    <tr>\n",
       "      <th>3</th>\n",
       "      <td>six</td>\n",
       "      <td>sentence</td>\n",
       "      <td>Word</td>\n",
       "      <td>45.798</td>\n",
       "      <td>0.25</td>\n",
       "      <td>29.18</td>\n",
       "      <td>french</td>\n",
       "    </tr>\n",
       "    <tr>\n",
       "      <th>4</th>\n",
       "      <td>ans</td>\n",
       "      <td>sentence</td>\n",
       "      <td>Word</td>\n",
       "      <td>46.199</td>\n",
       "      <td>0.18</td>\n",
       "      <td>29.36</td>\n",
       "      <td>french</td>\n",
       "    </tr>\n",
       "    <tr>\n",
       "      <th>...</th>\n",
       "      <td>...</td>\n",
       "      <td>...</td>\n",
       "      <td>...</td>\n",
       "      <td>...</td>\n",
       "      <td>...</td>\n",
       "      <td>...</td>\n",
       "      <td>...</td>\n",
       "    </tr>\n",
       "    <tr>\n",
       "      <th>1627</th>\n",
       "      <td>peut</td>\n",
       "      <td>sentence</td>\n",
       "      <td>Word</td>\n",
       "      <td>652.693</td>\n",
       "      <td>0.14</td>\n",
       "      <td>634.65</td>\n",
       "      <td>french</td>\n",
       "    </tr>\n",
       "    <tr>\n",
       "      <th>1628</th>\n",
       "      <td>pas</td>\n",
       "      <td>sentence</td>\n",
       "      <td>Word</td>\n",
       "      <td>652.803</td>\n",
       "      <td>0.22</td>\n",
       "      <td>634.87</td>\n",
       "      <td>french</td>\n",
       "    </tr>\n",
       "    <tr>\n",
       "      <th>1629</th>\n",
       "      <td>aller</td>\n",
       "      <td>sentence</td>\n",
       "      <td>Word</td>\n",
       "      <td>652.943</td>\n",
       "      <td>0.17</td>\n",
       "      <td>635.04</td>\n",
       "      <td>french</td>\n",
       "    </tr>\n",
       "    <tr>\n",
       "      <th>1630</th>\n",
       "      <td>bien</td>\n",
       "      <td>sentence</td>\n",
       "      <td>Word</td>\n",
       "      <td>653.163</td>\n",
       "      <td>0.16</td>\n",
       "      <td>635.20</td>\n",
       "      <td>french</td>\n",
       "    </tr>\n",
       "    <tr>\n",
       "      <th>1631</th>\n",
       "      <td>loin</td>\n",
       "      <td>sentence</td>\n",
       "      <td>Word</td>\n",
       "      <td>635.200</td>\n",
       "      <td>0.18</td>\n",
       "      <td>635.38</td>\n",
       "      <td>french</td>\n",
       "    </tr>\n",
       "  </tbody>\n",
       "</table>\n",
       "<p>1632 rows × 7 columns</p>\n",
       "</div>"
      ],
      "text/plain": [
       "         text condition  type    start  duration    stop language\n",
       "0     lorsque  sentence  Word   42.046      0.37   28.42   french\n",
       "1           j  sentence  Word   45.318      0.02   28.44   french\n",
       "2       avais  sentence  Word   45.688      0.23   28.76   french\n",
       "3         six  sentence  Word   45.798      0.25   29.18   french\n",
       "4         ans  sentence  Word   46.199      0.18   29.36   french\n",
       "...       ...       ...   ...      ...       ...     ...      ...\n",
       "1627     peut  sentence  Word  652.693      0.14  634.65   french\n",
       "1628      pas  sentence  Word  652.803      0.22  634.87   french\n",
       "1629    aller  sentence  Word  652.943      0.17  635.04   french\n",
       "1630     bien  sentence  Word  653.163      0.16  635.20   french\n",
       "1631     loin  sentence  Word  635.200      0.18  635.38   french\n",
       "\n",
       "[1632 rows x 7 columns]"
      ]
     },
     "execution_count": 37,
     "metadata": {},
     "output_type": "execute_result"
    }
   ],
   "source": [
    "events_df"
   ]
  },
  {
   "cell_type": "code",
   "execution_count": 14,
   "metadata": {},
   "outputs": [
    {
     "data": {
      "text/plain": [
       "25000"
      ]
     },
     "execution_count": 14,
     "metadata": {},
     "output_type": "execute_result"
    }
   ],
   "source": [
    "raw.first_samp"
   ]
  },
  {
   "cell_type": "code",
   "execution_count": null,
   "metadata": {},
   "outputs": [],
   "source": []
  },
  {
   "cell_type": "code",
   "execution_count": 8,
   "metadata": {},
   "outputs": [],
   "source": [
    "# read events\n",
    "meta = pd.read_csv(event_file, sep=\"\\t\")\n",
    "meta['word'] = [eval(w)['word'] for w in meta.trial_type]\n"
   ]
  },
  {
   "cell_type": "markdown",
   "metadata": {},
   "source": [
    "# Events / triggers matching"
   ]
  },
  {
   "cell_type": "code",
   "execution_count": 21,
   "metadata": {},
   "outputs": [],
   "source": [
    "# word events\n",
    "# match events and metadata\n",
    "word_events = events[events[:, 2] > 1]\n",
    "meg_delta = np.diff(word_events[:, 0].astype(float) / raw.info[\"sfreq\"])\n",
    "meta_delta = np.diff(meta.onset.values)\n",
    "\n",
    "pres = 1e2\n",
    "i, j = match_list(np.round(meg_delta*pres), np.round(meta_delta*pres))\n",
    "assert len(i) / len(meg_delta) > .85\n",
    "assert len(i) > 500\n",
    "meta = meta.iloc[j].reset_index(drop=True)\n",
    "meta[\"start\"] = word_events[i, 0] / raw.info[\"sfreq\"]"
   ]
  },
  {
   "cell_type": "code",
   "execution_count": 13,
   "metadata": {},
   "outputs": [
    {
     "ename": "ValueError",
     "evalue": "Length of values (1599) does not match length of index (1632)",
     "output_type": "error",
     "traceback": [
      "\u001b[0;31m---------------------------------------------------------------------------\u001b[0m",
      "\u001b[0;31mValueError\u001b[0m                                Traceback (most recent call last)",
      "Cell \u001b[0;32mIn [13], line 8\u001b[0m\n\u001b[1;32m      5\u001b[0m events_delta \u001b[38;5;241m=\u001b[39m np\u001b[38;5;241m.\u001b[39mround(np\u001b[38;5;241m.\u001b[39mdiff(meta\u001b[38;5;241m.\u001b[39monset\u001b[38;5;241m.\u001b[39mvalues), decimals\u001b[38;5;241m=\u001b[39m\u001b[38;5;241m0\u001b[39m)  \u001b[38;5;66;03m# type: ignore\u001b[39;00m\n\u001b[1;32m      6\u001b[0m i, j \u001b[38;5;241m=\u001b[39m match_list(triggers_delta, events_delta)\n\u001b[0;32m----> 8\u001b[0m \u001b[43mmeta\u001b[49m\u001b[43m[\u001b[49m\u001b[38;5;124;43m\"\u001b[39;49m\u001b[38;5;124;43mstart\u001b[39;49m\u001b[38;5;124;43m\"\u001b[39;49m\u001b[43m]\u001b[49m \u001b[38;5;241m=\u001b[39m word_events[i, \u001b[38;5;241m0\u001b[39m] \u001b[38;5;241m/\u001b[39m raw\u001b[38;5;241m.\u001b[39minfo[\u001b[38;5;124m\"\u001b[39m\u001b[38;5;124msfreq\u001b[39m\u001b[38;5;124m\"\u001b[39m]\n\u001b[1;32m     10\u001b[0m meta[\u001b[38;5;124m\"\u001b[39m\u001b[38;5;124mhas_trigger\u001b[39m\u001b[38;5;124m\"\u001b[39m] \u001b[38;5;241m=\u001b[39m \u001b[38;5;28;01mFalse\u001b[39;00m\n\u001b[1;32m     11\u001b[0m meta\u001b[38;5;241m.\u001b[39mloc[j, \u001b[38;5;124m\"\u001b[39m\u001b[38;5;124mhas_trigger\u001b[39m\u001b[38;5;124m\"\u001b[39m] \u001b[38;5;241m=\u001b[39m \u001b[38;5;28;01mTrue\u001b[39;00m\n",
      "File \u001b[0;32m~/miniconda3/envs/meg/lib/python3.9/site-packages/pandas/core/frame.py:3655\u001b[0m, in \u001b[0;36mDataFrame.__setitem__\u001b[0;34m(self, key, value)\u001b[0m\n\u001b[1;32m   3652\u001b[0m     \u001b[38;5;28mself\u001b[39m\u001b[38;5;241m.\u001b[39m_setitem_array([key], value)\n\u001b[1;32m   3653\u001b[0m \u001b[38;5;28;01melse\u001b[39;00m:\n\u001b[1;32m   3654\u001b[0m     \u001b[38;5;66;03m# set column\u001b[39;00m\n\u001b[0;32m-> 3655\u001b[0m     \u001b[38;5;28;43mself\u001b[39;49m\u001b[38;5;241;43m.\u001b[39;49m\u001b[43m_set_item\u001b[49m\u001b[43m(\u001b[49m\u001b[43mkey\u001b[49m\u001b[43m,\u001b[49m\u001b[43m \u001b[49m\u001b[43mvalue\u001b[49m\u001b[43m)\u001b[49m\n",
      "File \u001b[0;32m~/miniconda3/envs/meg/lib/python3.9/site-packages/pandas/core/frame.py:3832\u001b[0m, in \u001b[0;36mDataFrame._set_item\u001b[0;34m(self, key, value)\u001b[0m\n\u001b[1;32m   3822\u001b[0m \u001b[38;5;28;01mdef\u001b[39;00m \u001b[38;5;21m_set_item\u001b[39m(\u001b[38;5;28mself\u001b[39m, key, value) \u001b[38;5;241m-\u001b[39m\u001b[38;5;241m>\u001b[39m \u001b[38;5;28;01mNone\u001b[39;00m:\n\u001b[1;32m   3823\u001b[0m     \u001b[38;5;124;03m\"\"\"\u001b[39;00m\n\u001b[1;32m   3824\u001b[0m \u001b[38;5;124;03m    Add series to DataFrame in specified column.\u001b[39;00m\n\u001b[1;32m   3825\u001b[0m \n\u001b[0;32m   (...)\u001b[0m\n\u001b[1;32m   3830\u001b[0m \u001b[38;5;124;03m    ensure homogeneity.\u001b[39;00m\n\u001b[1;32m   3831\u001b[0m \u001b[38;5;124;03m    \"\"\"\u001b[39;00m\n\u001b[0;32m-> 3832\u001b[0m     value \u001b[38;5;241m=\u001b[39m \u001b[38;5;28;43mself\u001b[39;49m\u001b[38;5;241;43m.\u001b[39;49m\u001b[43m_sanitize_column\u001b[49m\u001b[43m(\u001b[49m\u001b[43mvalue\u001b[49m\u001b[43m)\u001b[49m\n\u001b[1;32m   3834\u001b[0m     \u001b[38;5;28;01mif\u001b[39;00m (\n\u001b[1;32m   3835\u001b[0m         key \u001b[38;5;129;01min\u001b[39;00m \u001b[38;5;28mself\u001b[39m\u001b[38;5;241m.\u001b[39mcolumns\n\u001b[1;32m   3836\u001b[0m         \u001b[38;5;129;01mand\u001b[39;00m value\u001b[38;5;241m.\u001b[39mndim \u001b[38;5;241m==\u001b[39m \u001b[38;5;241m1\u001b[39m\n\u001b[1;32m   3837\u001b[0m         \u001b[38;5;129;01mand\u001b[39;00m \u001b[38;5;129;01mnot\u001b[39;00m is_extension_array_dtype(value)\n\u001b[1;32m   3838\u001b[0m     ):\n\u001b[1;32m   3839\u001b[0m         \u001b[38;5;66;03m# broadcast across multiple columns if necessary\u001b[39;00m\n\u001b[1;32m   3840\u001b[0m         \u001b[38;5;28;01mif\u001b[39;00m \u001b[38;5;129;01mnot\u001b[39;00m \u001b[38;5;28mself\u001b[39m\u001b[38;5;241m.\u001b[39mcolumns\u001b[38;5;241m.\u001b[39mis_unique \u001b[38;5;129;01mor\u001b[39;00m \u001b[38;5;28misinstance\u001b[39m(\u001b[38;5;28mself\u001b[39m\u001b[38;5;241m.\u001b[39mcolumns, MultiIndex):\n",
      "File \u001b[0;32m~/miniconda3/envs/meg/lib/python3.9/site-packages/pandas/core/frame.py:4535\u001b[0m, in \u001b[0;36mDataFrame._sanitize_column\u001b[0;34m(self, value)\u001b[0m\n\u001b[1;32m   4532\u001b[0m     \u001b[38;5;28;01mreturn\u001b[39;00m _reindex_for_setitem(value, \u001b[38;5;28mself\u001b[39m\u001b[38;5;241m.\u001b[39mindex)\n\u001b[1;32m   4534\u001b[0m \u001b[38;5;28;01mif\u001b[39;00m is_list_like(value):\n\u001b[0;32m-> 4535\u001b[0m     \u001b[43mcom\u001b[49m\u001b[38;5;241;43m.\u001b[39;49m\u001b[43mrequire_length_match\u001b[49m\u001b[43m(\u001b[49m\u001b[43mvalue\u001b[49m\u001b[43m,\u001b[49m\u001b[43m \u001b[49m\u001b[38;5;28;43mself\u001b[39;49m\u001b[38;5;241;43m.\u001b[39;49m\u001b[43mindex\u001b[49m\u001b[43m)\u001b[49m\n\u001b[1;32m   4536\u001b[0m \u001b[38;5;28;01mreturn\u001b[39;00m sanitize_array(value, \u001b[38;5;28mself\u001b[39m\u001b[38;5;241m.\u001b[39mindex, copy\u001b[38;5;241m=\u001b[39m\u001b[38;5;28;01mTrue\u001b[39;00m, allow_2d\u001b[38;5;241m=\u001b[39m\u001b[38;5;28;01mTrue\u001b[39;00m)\n",
      "File \u001b[0;32m~/miniconda3/envs/meg/lib/python3.9/site-packages/pandas/core/common.py:557\u001b[0m, in \u001b[0;36mrequire_length_match\u001b[0;34m(data, index)\u001b[0m\n\u001b[1;32m    553\u001b[0m \u001b[38;5;124;03m\"\"\"\u001b[39;00m\n\u001b[1;32m    554\u001b[0m \u001b[38;5;124;03mCheck the length of data matches the length of the index.\u001b[39;00m\n\u001b[1;32m    555\u001b[0m \u001b[38;5;124;03m\"\"\"\u001b[39;00m\n\u001b[1;32m    556\u001b[0m \u001b[38;5;28;01mif\u001b[39;00m \u001b[38;5;28mlen\u001b[39m(data) \u001b[38;5;241m!=\u001b[39m \u001b[38;5;28mlen\u001b[39m(index):\n\u001b[0;32m--> 557\u001b[0m     \u001b[38;5;28;01mraise\u001b[39;00m \u001b[38;5;167;01mValueError\u001b[39;00m(\n\u001b[1;32m    558\u001b[0m         \u001b[38;5;124m\"\u001b[39m\u001b[38;5;124mLength of values \u001b[39m\u001b[38;5;124m\"\u001b[39m\n\u001b[1;32m    559\u001b[0m         \u001b[38;5;124mf\u001b[39m\u001b[38;5;124m\"\u001b[39m\u001b[38;5;124m(\u001b[39m\u001b[38;5;132;01m{\u001b[39;00m\u001b[38;5;28mlen\u001b[39m(data)\u001b[38;5;132;01m}\u001b[39;00m\u001b[38;5;124m) \u001b[39m\u001b[38;5;124m\"\u001b[39m\n\u001b[1;32m    560\u001b[0m         \u001b[38;5;124m\"\u001b[39m\u001b[38;5;124mdoes not match length of index \u001b[39m\u001b[38;5;124m\"\u001b[39m\n\u001b[1;32m    561\u001b[0m         \u001b[38;5;124mf\u001b[39m\u001b[38;5;124m\"\u001b[39m\u001b[38;5;124m(\u001b[39m\u001b[38;5;132;01m{\u001b[39;00m\u001b[38;5;28mlen\u001b[39m(index)\u001b[38;5;132;01m}\u001b[39;00m\u001b[38;5;124m)\u001b[39m\u001b[38;5;124m\"\u001b[39m\n\u001b[1;32m    562\u001b[0m     )\n",
      "\u001b[0;31mValueError\u001b[0m: Length of values (1599) does not match length of index (1632)"
     ]
    }
   ],
   "source": [
    "# # STephane\n",
    "# word_events = events[events[:, 2] > 1]\n",
    "\n",
    "# triggers_delta = np.round(np.diff(word_events[:, 0] / raw.info[\"sfreq\"]), decimals=0)  # type: ignore\n",
    "# events_delta = np.round(np.diff(meta.onset.values), decimals=0)  # type: ignore\n",
    "# i, j = match_list(triggers_delta, events_delta)\n",
    "\n",
    "# meta[\"start\"] = word_events[i, 0] / raw.info[\"sfreq\"]\n",
    "\n",
    "# meta[\"has_trigger\"] = False\n",
    "# meta.loc[j, \"has_trigger\"] = True\n",
    "\n",
    "# # integrate events to meta for simplicity\n",
    "# meta.loc[j, \"start\"] = events[i, 0] / raw.info[\"sfreq\"]"
   ]
  },
  {
   "cell_type": "code",
   "execution_count": 18,
   "metadata": {},
   "outputs": [],
   "source": [
    "# word events\n",
    "# # match events and metadata\n",
    "# word_events = events[events[:, 2] > 1]\n",
    "# meg_delta = np.diff(word_events[:, 0].astype(float) / raw.info[\"sfreq\"])\n",
    "# meta_delta = np.diff(meta.onset.values)\n",
    "\n",
    "# pres = 1e2\n",
    "# i, j = match_list(np.round(meg_delta*pres), np.round(meta_delta*pres))\n",
    "# assert len(i) / len(meg_delta) > .85\n",
    "# assert len(i) > 500\n",
    "# # meta = meta.iloc[j].reset_index(drop=True)\n",
    "# # meta[\"start\"] = word_events[i, 0] / raw.info[\"sfreq\"]\n",
    "\n",
    "# meta[\"start\"] = 0\n",
    "\n",
    "# meta[\"has_trigger\"] = False\n",
    "# meta.loc[j, \"has_trigger\"] = True\n",
    "\n",
    "# # integrate events to meta for simplicity\n",
    "# meta.loc[j, \"start\"] = events[i, 0] / raw.info[\"sfreq\"]\n",
    "\n"
   ]
  },
  {
   "cell_type": "code",
   "execution_count": 22,
   "metadata": {},
   "outputs": [],
   "source": [
    "def mne_events(meta):\n",
    "    events = np.ones((len(meta), 3), dtype=int)\n",
    "    events[:, 0] = meta.start*raw.info['sfreq']\n",
    "    return dict(events=events, metadata=meta.reset_index())"
   ]
  },
  {
   "cell_type": "code",
   "execution_count": 23,
   "metadata": {},
   "outputs": [
    {
     "name": "stdout",
     "output_type": "stream",
     "text": [
      "Filtering raw data in 1 contiguous segment\n",
      "Setting up band-pass filter from 0.5 - 20 Hz\n",
      "\n",
      "FIR filter parameters\n",
      "---------------------\n",
      "Designing a one-pass, zero-phase, non-causal bandpass filter:\n",
      "- Windowed time-domain design (firwin) method\n",
      "- Hamming window with 0.0194 passband ripple and 53 dB stopband attenuation\n",
      "- Lower passband edge: 0.50\n",
      "- Lower transition bandwidth: 0.50 Hz (-6 dB cutoff frequency: 0.25 Hz)\n",
      "- Upper passband edge: 20.00 Hz\n",
      "- Upper transition bandwidth: 5.00 Hz (-6 dB cutoff frequency: 22.50 Hz)\n",
      "- Filter length: 6601 samples (6.601 sec)\n",
      "\n"
     ]
    },
    {
     "name": "stderr",
     "output_type": "stream",
     "text": [
      "[Parallel(n_jobs=-1)]: Using backend LokyBackend with 12 concurrent workers.\n",
      "[Parallel(n_jobs=-1)]: Done   6 tasks      | elapsed:    0.2s\n",
      "[Parallel(n_jobs=-1)]: Done 108 tasks      | elapsed:    2.4s\n",
      "[Parallel(n_jobs=-1)]: Done 288 tasks      | elapsed:    6.4s\n"
     ]
    },
    {
     "name": "stdout",
     "output_type": "stream",
     "text": [
      "Adding metadata with 8 columns\n",
      "1511 matching events found\n"
     ]
    },
    {
     "name": "stderr",
     "output_type": "stream",
     "text": [
      "[Parallel(n_jobs=-1)]: Done 306 out of 306 | elapsed:    6.7s finished\n"
     ]
    },
    {
     "name": "stdout",
     "output_type": "stream",
     "text": [
      "Setting baseline interval to [-0.2, 0.0] sec\n",
      "Applying baseline correction (mode: mean)\n",
      "0 projection items activated\n"
     ]
    },
    {
     "data": {
      "text/html": [
       "<table class=\"table table-hover table-striped table-sm table-responsive small\">\n",
       "    <tr>\n",
       "        <th>Number of events</th>\n",
       "        <td>1511</td>\n",
       "    </tr>\n",
       "    <tr>\n",
       "        <th>Events</th>\n",
       "        \n",
       "        <td>1: 1511</td>\n",
       "        \n",
       "    </tr>\n",
       "    <tr>\n",
       "        <th>Time range</th>\n",
       "        <td>-0.200 – 0.800 sec</td>\n",
       "    </tr>\n",
       "    <tr>\n",
       "        <th>Baseline</th>\n",
       "        <td>-0.200 – 0.000 sec</td>\n",
       "    </tr>\n",
       "</table>"
      ],
      "text/plain": [
       "<Epochs |  1511 events (good & bad), -0.2 - 0.8 sec, baseline -0.2 – 0 sec, ~5.1 MB, data not loaded, with metadata,\n",
       " '1': 1511>"
      ]
     },
     "execution_count": 23,
     "metadata": {},
     "output_type": "execute_result"
    }
   ],
   "source": [
    "raw.filter(.5, 20., n_jobs=-1)\n",
    "\n",
    "\n",
    "epochs = mne.Epochs(raw, **mne_events(meta), decim=10, tmin=-.2, tmax=.8)\n",
    "epochs "
   ]
  },
  {
   "cell_type": "code",
   "execution_count": 26,
   "metadata": {},
   "outputs": [
    {
     "name": "stdout",
     "output_type": "stream",
     "text": [
      "Using data from preloaded Raw for 1511 events and 1001 original time points (prior to decimation) ...\n",
      "0 bad epochs dropped\n"
     ]
    },
    {
     "data": {
      "text/html": [
       "<table class=\"table table-hover table-striped table-sm table-responsive small\">\n",
       "    <tr>\n",
       "        <th>Number of events</th>\n",
       "        <td>1511</td>\n",
       "    </tr>\n",
       "    <tr>\n",
       "        <th>Events</th>\n",
       "        \n",
       "        <td>1: 1511</td>\n",
       "        \n",
       "    </tr>\n",
       "    <tr>\n",
       "        <th>Time range</th>\n",
       "        <td>-0.200 – 0.800 sec</td>\n",
       "    </tr>\n",
       "    <tr>\n",
       "        <th>Baseline</th>\n",
       "        <td>-0.200 – 0.000 sec</td>\n",
       "    </tr>\n",
       "</table>"
      ],
      "text/plain": [
       "<Epochs |  1511 events (all good), -0.2 - 0.8 sec, baseline -0.2 – 0 sec, ~361.4 MB, data loaded, with metadata,\n",
       " '1': 1511>"
      ]
     },
     "execution_count": 26,
     "metadata": {},
     "output_type": "execute_result"
    }
   ],
   "source": [
    "epochs.load_data()"
   ]
  },
  {
   "cell_type": "code",
   "execution_count": 27,
   "metadata": {},
   "outputs": [],
   "source": [
    "\n",
    "from sklearn.linear_model import RidgeCV\n",
    "from sklearn.pipeline import make_pipeline\n",
    "from sklearn.preprocessing import StandardScaler\n",
    "from tqdm.notebook import trange\n",
    "from sklearn.model_selection import KFold\n",
    "from scipy.stats import pearsonr\n",
    "from wordfreq import zipf_frequency\n",
    "\n",
    "\n",
    "def decod(epochs, target):\n",
    "    model = make_pipeline(StandardScaler(), RidgeCV())\n",
    "    cv = KFold(n_splits=5)\n",
    "    y = epochs.metadata[target].values\n",
    "    r = np.zeros(len(epochs.times))\n",
    "    for t in trange(len(epochs.times)):\n",
    "        X = epochs.get_data()[:, :, t]\n",
    "        for train, test in cv.split(X, y):\n",
    "            model.fit(X[train], y[train])\n",
    "            y_pred = model.predict(X[test])\n",
    "            r[t] += pearsonr(y_pred, y[test])[0]\n",
    "    r /= cv.n_splits\n",
    "    return r\n"
   ]
  },
  {
   "cell_type": "code",
   "execution_count": 28,
   "metadata": {},
   "outputs": [],
   "source": [
    "epochs.metadata['wfreq'] = epochs.metadata.word.apply(lambda w: zipf_frequency(w, 'fr')).values"
   ]
  },
  {
   "cell_type": "code",
   "execution_count": 29,
   "metadata": {},
   "outputs": [
    {
     "data": {
      "application/vnd.jupyter.widget-view+json": {
       "model_id": "486ebee54700402eb306acb2bd4846c2",
       "version_major": 2,
       "version_minor": 0
      },
      "text/plain": [
       "  0%|          | 0/101 [00:00<?, ?it/s]"
      ]
     },
     "metadata": {},
     "output_type": "display_data"
    },
    {
     "data": {
      "text/plain": [
       "<matplotlib.collections.PolyCollection at 0x7fda2b5fd3d0>"
      ]
     },
     "execution_count": 29,
     "metadata": {},
     "output_type": "execute_result"
    },
    {
     "data": {
      "image/png": "[encoded data removed]",
      "text/plain": [
       "<Figure size 432x288 with 1 Axes>"
      ]
     },
     "metadata": {
      "needs_background": "light"
     },
     "output_type": "display_data"
    }
   ],
   "source": [
    "import matplotlib.pyplot as plt\n",
    "r = decod(epochs, 'wfreq')\n",
    "plt.fill_between(epochs.times, r)"
   ]
  },
  {
   "cell_type": "code",
   "execution_count": 48,
   "metadata": {},
   "outputs": [
    {
     "data": {
      "application/vnd.jupyter.widget-view+json": {
       "model_id": "627ad1b71033491991ebc9a6a564d472",
       "version_major": 2,
       "version_minor": 0
      },
      "text/plain": [
       "  0%|          | 0/101 [00:00<?, ?it/s]"
      ]
     },
     "metadata": {},
     "output_type": "display_data"
    },
    {
     "data": {
      "text/plain": [
       "<matplotlib.collections.PolyCollection at 0x7ff94060e250>"
      ]
     },
     "execution_count": 48,
     "metadata": {},
     "output_type": "execute_result"
    },
    {
     "data": {
      "image/png": "[encoded data removed]",
      "text/plain": [
       "<Figure size 432x288 with 1 Axes>"
      ]
     },
     "metadata": {
      "needs_background": "light"
     },
     "output_type": "display_data"
    }
   ],
   "source": [
    "import matplotlib.pyplot as plt\n",
    "plt.fill_between(epochs.times, r)\n",
    "r = decod(epochs, 'wfreq')"
   ]
  },
  {
   "cell_type": "markdown",
   "metadata": {},
   "source": [
    "## seems to work!"
   ]
  },
  {
   "cell_type": "markdown",
   "metadata": {},
   "source": [
    "# Now testing with code integration"
   ]
  },
  {
   "cell_type": "code",
   "execution_count": 56,
   "metadata": {},
   "outputs": [],
   "source": [
    "from dataset import populate_metadata_epochs"
   ]
  },
  {
   "cell_type": "code",
   "execution_count": 57,
   "metadata": {},
   "outputs": [],
   "source": [
    "modality = \"auditory\"\n",
    "decoding_criterion = 'wlength'\n",
    "start = 'onset'\n",
    "level = 'word'\n",
    "subject = '2'\n",
    "run_id = \"01\"\n",
    "runs = 1\n",
    "\n"
   ]
  },
  {
   "cell_type": "code",
   "execution_count": 58,
   "metadata": {},
   "outputs": [
    {
     "name": "stdout",
     "output_type": "stream",
     "text": [
      "\n",
      " Epoching for run 1, subject: 2\n",
      "\n"
     ]
    }
   ],
   "source": [
    "epochs = populate_metadata_epochs(\n",
    "    modality,\n",
    "    subject,\n",
    "    level,\n",
    "    start,\n",
    "    runs,\n",
    "    decoding_criterion\n",
    ")"
   ]
  },
  {
   "cell_type": "code",
   "execution_count": 59,
   "metadata": {},
   "outputs": [],
   "source": [
    "epochs.metadata['wfreq'] = epochs.metadata.word.apply(lambda w: zipf_frequency(w, 'fr')).values"
   ]
  },
  {
   "cell_type": "code",
   "execution_count": 63,
   "metadata": {},
   "outputs": [
    {
     "data": {
      "text/html": [
       "<table class=\"table table-hover table-striped table-sm table-responsive small\">\n",
       "    <tr>\n",
       "        <th>Number of events</th>\n",
       "        <td>1511</td>\n",
       "    </tr>\n",
       "    <tr>\n",
       "        <th>Events</th>\n",
       "        \n",
       "        <td>1: 1511</td>\n",
       "        \n",
       "    </tr>\n",
       "    <tr>\n",
       "        <th>Time range</th>\n",
       "        <td>-0.300 – 1.000 sec</td>\n",
       "    </tr>\n",
       "    <tr>\n",
       "        <th>Baseline</th>\n",
       "        <td>off</td>\n",
       "    </tr>\n",
       "</table>"
      ],
      "text/plain": [
       "<Epochs |  1511 events (all good), -0.3 - 1 sec, baseline off, ~495.9 MB, data loaded, with metadata,\n",
       " '1': 1511>"
      ]
     },
     "execution_count": 63,
     "metadata": {},
     "output_type": "execute_result"
    }
   ],
   "source": [
    "epochs"
   ]
  },
  {
   "cell_type": "code",
   "execution_count": 60,
   "metadata": {},
   "outputs": [
    {
     "data": {
      "application/vnd.jupyter.widget-view+json": {
       "model_id": "99bdcd0901164045b3019cc2ff7d7891",
       "version_major": 2,
       "version_minor": 0
      },
      "text/plain": [
       "  0%|          | 0/131 [00:00<?, ?it/s]"
      ]
     },
     "metadata": {},
     "output_type": "display_data"
    },
    {
     "data": {
      "text/plain": [
       "<matplotlib.collections.PolyCollection at 0x7ff93e766880>"
      ]
     },
     "execution_count": 60,
     "metadata": {},
     "output_type": "execute_result"
    },
    {
     "data": {
      "image/png": "[encoded data removed]",
      "text/plain": [
       "<Figure size 432x288 with 1 Axes>"
      ]
     },
     "metadata": {
      "needs_background": "light"
     },
     "output_type": "display_data"
    }
   ],
   "source": [
    "import matplotlib.pyplot as plt\n",
    "r = decod(epochs, 'wfreq')\n",
    "plt.fill_between(epochs.times, r)"
   ]
  },
  {
   "cell_type": "code",
   "execution_count": 62,
   "metadata": {},
   "outputs": [
    {
     "data": {
      "text/html": [
       "<div>\n",
       "<style scoped>\n",
       "    .dataframe tbody tr th:only-of-type {\n",
       "        vertical-align: middle;\n",
       "    }\n",
       "\n",
       "    .dataframe tbody tr th {\n",
       "        vertical-align: top;\n",
       "    }\n",
       "\n",
       "    .dataframe thead th {\n",
       "        text-align: right;\n",
       "    }\n",
       "</style>\n",
       "<table border=\"1\" class=\"dataframe\">\n",
       "  <thead>\n",
       "    <tr style=\"text-align: right;\">\n",
       "      <th></th>\n",
       "      <th>index</th>\n",
       "      <th>Unnamed: 0</th>\n",
       "      <th>onset</th>\n",
       "      <th>duration</th>\n",
       "      <th>trial_type</th>\n",
       "      <th>word</th>\n",
       "      <th>wlength</th>\n",
       "      <th>run</th>\n",
       "      <th>n_closing</th>\n",
       "      <th>is_last_word</th>\n",
       "      <th>...</th>\n",
       "      <th>sentence_start</th>\n",
       "      <th>sentence_stop</th>\n",
       "      <th>sentence_words</th>\n",
       "      <th>constituent_id</th>\n",
       "      <th>const_word_id</th>\n",
       "      <th>constituent_length</th>\n",
       "      <th>constituent_start</th>\n",
       "      <th>constituent_stop</th>\n",
       "      <th>constituent_words</th>\n",
       "      <th>wfreq</th>\n",
       "    </tr>\n",
       "  </thead>\n",
       "  <tbody>\n",
       "    <tr>\n",
       "      <th>0</th>\n",
       "      <td>1</td>\n",
       "      <td>1</td>\n",
       "      <td>3.42</td>\n",
       "      <td>0.02</td>\n",
       "      <td>{'kind': 'word', 'word': 'j'}</td>\n",
       "      <td>j</td>\n",
       "      <td>1</td>\n",
       "      <td>1</td>\n",
       "      <td>1</td>\n",
       "      <td>False</td>\n",
       "      <td>...</td>\n",
       "      <td>42.046</td>\n",
       "      <td>53.527</td>\n",
       "      <td>NaN</td>\n",
       "      <td>0</td>\n",
       "      <td>1.0</td>\n",
       "      <td>3.0</td>\n",
       "      <td>42.046</td>\n",
       "      <td>45.918000</td>\n",
       "      <td>NaN</td>\n",
       "      <td>6.65</td>\n",
       "    </tr>\n",
       "    <tr>\n",
       "      <th>1</th>\n",
       "      <td>2</td>\n",
       "      <td>2</td>\n",
       "      <td>3.53</td>\n",
       "      <td>0.23</td>\n",
       "      <td>{'kind': 'word', 'word': 'avais'}</td>\n",
       "      <td>avais</td>\n",
       "      <td>5</td>\n",
       "      <td>1</td>\n",
       "      <td>2</td>\n",
       "      <td>False</td>\n",
       "      <td>...</td>\n",
       "      <td>42.046</td>\n",
       "      <td>53.527</td>\n",
       "      <td>NaN</td>\n",
       "      <td>0</td>\n",
       "      <td>2.0</td>\n",
       "      <td>3.0</td>\n",
       "      <td>42.046</td>\n",
       "      <td>45.918000</td>\n",
       "      <td>NaN</td>\n",
       "      <td>5.53</td>\n",
       "    </tr>\n",
       "    <tr>\n",
       "      <th>2</th>\n",
       "      <td>3</td>\n",
       "      <td>3</td>\n",
       "      <td>3.93</td>\n",
       "      <td>0.25</td>\n",
       "      <td>{'kind': 'word', 'word': 'six'}</td>\n",
       "      <td>six</td>\n",
       "      <td>3</td>\n",
       "      <td>1</td>\n",
       "      <td>1</td>\n",
       "      <td>False</td>\n",
       "      <td>...</td>\n",
       "      <td>42.046</td>\n",
       "      <td>53.527</td>\n",
       "      <td>NaN</td>\n",
       "      <td>1</td>\n",
       "      <td>0.0</td>\n",
       "      <td>2.0</td>\n",
       "      <td>45.798</td>\n",
       "      <td>46.379000</td>\n",
       "      <td>[six, ans]</td>\n",
       "      <td>5.15</td>\n",
       "    </tr>\n",
       "    <tr>\n",
       "      <th>3</th>\n",
       "      <td>4</td>\n",
       "      <td>4</td>\n",
       "      <td>4.18</td>\n",
       "      <td>0.18</td>\n",
       "      <td>{'kind': 'word', 'word': 'ans'}</td>\n",
       "      <td>ans</td>\n",
       "      <td>3</td>\n",
       "      <td>1</td>\n",
       "      <td>4</td>\n",
       "      <td>False</td>\n",
       "      <td>...</td>\n",
       "      <td>42.046</td>\n",
       "      <td>53.527</td>\n",
       "      <td>NaN</td>\n",
       "      <td>1</td>\n",
       "      <td>1.0</td>\n",
       "      <td>2.0</td>\n",
       "      <td>45.798</td>\n",
       "      <td>46.379000</td>\n",
       "      <td>NaN</td>\n",
       "      <td>6.00</td>\n",
       "    </tr>\n",
       "    <tr>\n",
       "      <th>4</th>\n",
       "      <td>5</td>\n",
       "      <td>5</td>\n",
       "      <td>4.40</td>\n",
       "      <td>0.14</td>\n",
       "      <td>{'kind': 'word', 'word': 'j'}</td>\n",
       "      <td>j</td>\n",
       "      <td>1</td>\n",
       "      <td>1</td>\n",
       "      <td>1</td>\n",
       "      <td>False</td>\n",
       "      <td>...</td>\n",
       "      <td>42.046</td>\n",
       "      <td>53.527</td>\n",
       "      <td>NaN</td>\n",
       "      <td>2</td>\n",
       "      <td>0.0</td>\n",
       "      <td>3.0</td>\n",
       "      <td>46.450</td>\n",
       "      <td>47.100429</td>\n",
       "      <td>[j, ai, vu]</td>\n",
       "      <td>6.65</td>\n",
       "    </tr>\n",
       "    <tr>\n",
       "      <th>...</th>\n",
       "      <td>...</td>\n",
       "      <td>...</td>\n",
       "      <td>...</td>\n",
       "      <td>...</td>\n",
       "      <td>...</td>\n",
       "      <td>...</td>\n",
       "      <td>...</td>\n",
       "      <td>...</td>\n",
       "      <td>...</td>\n",
       "      <td>...</td>\n",
       "      <td>...</td>\n",
       "      <td>...</td>\n",
       "      <td>...</td>\n",
       "      <td>...</td>\n",
       "      <td>...</td>\n",
       "      <td>...</td>\n",
       "      <td>...</td>\n",
       "      <td>...</td>\n",
       "      <td>...</td>\n",
       "      <td>...</td>\n",
       "      <td>...</td>\n",
       "    </tr>\n",
       "    <tr>\n",
       "      <th>1626</th>\n",
       "      <td>1626</td>\n",
       "      <td>1626</td>\n",
       "      <td>609.40</td>\n",
       "      <td>0.11</td>\n",
       "      <td>{'kind': 'word', 'word': 'ne'}</td>\n",
       "      <td>ne</td>\n",
       "      <td>2</td>\n",
       "      <td>1</td>\n",
       "      <td>1</td>\n",
       "      <td>False</td>\n",
       "      <td>...</td>\n",
       "      <td>650.238</td>\n",
       "      <td>653.343</td>\n",
       "      <td>NaN</td>\n",
       "      <td>490</td>\n",
       "      <td>1.0</td>\n",
       "      <td>3.0</td>\n",
       "      <td>652.121</td>\n",
       "      <td>652.833000</td>\n",
       "      <td>NaN</td>\n",
       "      <td>6.69</td>\n",
       "    </tr>\n",
       "    <tr>\n",
       "      <th>1627</th>\n",
       "      <td>1627</td>\n",
       "      <td>1627</td>\n",
       "      <td>609.51</td>\n",
       "      <td>0.14</td>\n",
       "      <td>{'kind': 'word', 'word': 'peut'}</td>\n",
       "      <td>peut</td>\n",
       "      <td>4</td>\n",
       "      <td>1</td>\n",
       "      <td>2</td>\n",
       "      <td>False</td>\n",
       "      <td>...</td>\n",
       "      <td>650.238</td>\n",
       "      <td>653.343</td>\n",
       "      <td>NaN</td>\n",
       "      <td>490</td>\n",
       "      <td>2.0</td>\n",
       "      <td>3.0</td>\n",
       "      <td>652.121</td>\n",
       "      <td>652.833000</td>\n",
       "      <td>NaN</td>\n",
       "      <td>6.19</td>\n",
       "    </tr>\n",
       "    <tr>\n",
       "      <th>1628</th>\n",
       "      <td>1628</td>\n",
       "      <td>1628</td>\n",
       "      <td>609.65</td>\n",
       "      <td>0.22</td>\n",
       "      <td>{'kind': 'word', 'word': 'pas'}</td>\n",
       "      <td>pas</td>\n",
       "      <td>3</td>\n",
       "      <td>1</td>\n",
       "      <td>1</td>\n",
       "      <td>False</td>\n",
       "      <td>...</td>\n",
       "      <td>650.238</td>\n",
       "      <td>653.343</td>\n",
       "      <td>NaN</td>\n",
       "      <td>491</td>\n",
       "      <td>0.0</td>\n",
       "      <td>2.0</td>\n",
       "      <td>652.803</td>\n",
       "      <td>653.113000</td>\n",
       "      <td>[pas, aller]</td>\n",
       "      <td>7.00</td>\n",
       "    </tr>\n",
       "    <tr>\n",
       "      <th>1629</th>\n",
       "      <td>1629</td>\n",
       "      <td>1629</td>\n",
       "      <td>609.87</td>\n",
       "      <td>0.17</td>\n",
       "      <td>{'kind': 'word', 'word': 'aller'}</td>\n",
       "      <td>aller</td>\n",
       "      <td>5</td>\n",
       "      <td>1</td>\n",
       "      <td>2</td>\n",
       "      <td>False</td>\n",
       "      <td>...</td>\n",
       "      <td>650.238</td>\n",
       "      <td>653.343</td>\n",
       "      <td>NaN</td>\n",
       "      <td>491</td>\n",
       "      <td>1.0</td>\n",
       "      <td>2.0</td>\n",
       "      <td>652.803</td>\n",
       "      <td>653.113000</td>\n",
       "      <td>NaN</td>\n",
       "      <td>5.61</td>\n",
       "    </tr>\n",
       "    <tr>\n",
       "      <th>1630</th>\n",
       "      <td>1630</td>\n",
       "      <td>1630</td>\n",
       "      <td>610.04</td>\n",
       "      <td>0.16</td>\n",
       "      <td>{'kind': 'word', 'word': 'bien'}</td>\n",
       "      <td>bien</td>\n",
       "      <td>4</td>\n",
       "      <td>1</td>\n",
       "      <td>1</td>\n",
       "      <td>False</td>\n",
       "      <td>...</td>\n",
       "      <td>650.238</td>\n",
       "      <td>653.343</td>\n",
       "      <td>NaN</td>\n",
       "      <td>492</td>\n",
       "      <td>0.0</td>\n",
       "      <td>2.0</td>\n",
       "      <td>653.163</td>\n",
       "      <td>653.343000</td>\n",
       "      <td>[bien, loin]</td>\n",
       "      <td>6.37</td>\n",
       "    </tr>\n",
       "  </tbody>\n",
       "</table>\n",
       "<p>1511 rows × 34 columns</p>\n",
       "</div>"
      ],
      "text/plain": [
       "      index  Unnamed: 0   onset  duration                         trial_type  \\\n",
       "0         1           1    3.42      0.02      {'kind': 'word', 'word': 'j'}   \n",
       "1         2           2    3.53      0.23  {'kind': 'word', 'word': 'avais'}   \n",
       "2         3           3    3.93      0.25    {'kind': 'word', 'word': 'six'}   \n",
       "3         4           4    4.18      0.18    {'kind': 'word', 'word': 'ans'}   \n",
       "4         5           5    4.40      0.14      {'kind': 'word', 'word': 'j'}   \n",
       "...     ...         ...     ...       ...                                ...   \n",
       "1626   1626        1626  609.40      0.11     {'kind': 'word', 'word': 'ne'}   \n",
       "1627   1627        1627  609.51      0.14   {'kind': 'word', 'word': 'peut'}   \n",
       "1628   1628        1628  609.65      0.22    {'kind': 'word', 'word': 'pas'}   \n",
       "1629   1629        1629  609.87      0.17  {'kind': 'word', 'word': 'aller'}   \n",
       "1630   1630        1630  610.04      0.16   {'kind': 'word', 'word': 'bien'}   \n",
       "\n",
       "       word  wlength  run  n_closing  is_last_word  ... sentence_start  \\\n",
       "0         j        1    1          1         False  ...         42.046   \n",
       "1     avais        5    1          2         False  ...         42.046   \n",
       "2       six        3    1          1         False  ...         42.046   \n",
       "3       ans        3    1          4         False  ...         42.046   \n",
       "4         j        1    1          1         False  ...         42.046   \n",
       "...     ...      ...  ...        ...           ...  ...            ...   \n",
       "1626     ne        2    1          1         False  ...        650.238   \n",
       "1627   peut        4    1          2         False  ...        650.238   \n",
       "1628    pas        3    1          1         False  ...        650.238   \n",
       "1629  aller        5    1          2         False  ...        650.238   \n",
       "1630   bien        4    1          1         False  ...        650.238   \n",
       "\n",
       "      sentence_stop  sentence_words  constituent_id  const_word_id  \\\n",
       "0            53.527             NaN               0            1.0   \n",
       "1            53.527             NaN               0            2.0   \n",
       "2            53.527             NaN               1            0.0   \n",
       "3            53.527             NaN               1            1.0   \n",
       "4            53.527             NaN               2            0.0   \n",
       "...             ...             ...             ...            ...   \n",
       "1626        653.343             NaN             490            1.0   \n",
       "1627        653.343             NaN             490            2.0   \n",
       "1628        653.343             NaN             491            0.0   \n",
       "1629        653.343             NaN             491            1.0   \n",
       "1630        653.343             NaN             492            0.0   \n",
       "\n",
       "      constituent_length  constituent_start  constituent_stop  \\\n",
       "0                    3.0             42.046         45.918000   \n",
       "1                    3.0             42.046         45.918000   \n",
       "2                    2.0             45.798         46.379000   \n",
       "3                    2.0             45.798         46.379000   \n",
       "4                    3.0             46.450         47.100429   \n",
       "...                  ...                ...               ...   \n",
       "1626                 3.0            652.121        652.833000   \n",
       "1627                 3.0            652.121        652.833000   \n",
       "1628                 2.0            652.803        653.113000   \n",
       "1629                 2.0            652.803        653.113000   \n",
       "1630                 2.0            653.163        653.343000   \n",
       "\n",
       "      constituent_words  wfreq  \n",
       "0                   NaN   6.65  \n",
       "1                   NaN   5.53  \n",
       "2            [six, ans]   5.15  \n",
       "3                   NaN   6.00  \n",
       "4           [j, ai, vu]   6.65  \n",
       "...                 ...    ...  \n",
       "1626                NaN   6.69  \n",
       "1627                NaN   6.19  \n",
       "1628       [pas, aller]   7.00  \n",
       "1629                NaN   5.61  \n",
       "1630       [bien, loin]   6.37  \n",
       "\n",
       "[1511 rows x 34 columns]"
      ]
     },
     "execution_count": 62,
     "metadata": {},
     "output_type": "execute_result"
    }
   ],
   "source": [
    "epochs.metadata"
   ]
  },
  {
   "cell_type": "code",
   "execution_count": 61,
   "metadata": {},
   "outputs": [
    {
     "data": {
      "text/html": [
       "<div>\n",
       "<style scoped>\n",
       "    .dataframe tbody tr th:only-of-type {\n",
       "        vertical-align: middle;\n",
       "    }\n",
       "\n",
       "    .dataframe tbody tr th {\n",
       "        vertical-align: top;\n",
       "    }\n",
       "\n",
       "    .dataframe thead th {\n",
       "        text-align: right;\n",
       "    }\n",
       "</style>\n",
       "<table border=\"1\" class=\"dataframe\">\n",
       "  <thead>\n",
       "    <tr style=\"text-align: right;\">\n",
       "      <th></th>\n",
       "      <th>Unnamed: 0</th>\n",
       "      <th>onset</th>\n",
       "      <th>duration</th>\n",
       "      <th>trial_type</th>\n",
       "      <th>word</th>\n",
       "      <th>start</th>\n",
       "    </tr>\n",
       "  </thead>\n",
       "  <tbody>\n",
       "    <tr>\n",
       "      <th>0</th>\n",
       "      <td>0</td>\n",
       "      <td>3.05</td>\n",
       "      <td>0.37</td>\n",
       "      <td>{'kind': 'word', 'word': 'lorsque'}</td>\n",
       "      <td>lorsque</td>\n",
       "      <td>45.318</td>\n",
       "    </tr>\n",
       "    <tr>\n",
       "      <th>1</th>\n",
       "      <td>1</td>\n",
       "      <td>3.42</td>\n",
       "      <td>0.02</td>\n",
       "      <td>{'kind': 'word', 'word': 'j'}</td>\n",
       "      <td>j</td>\n",
       "      <td>45.688</td>\n",
       "    </tr>\n",
       "    <tr>\n",
       "      <th>2</th>\n",
       "      <td>2</td>\n",
       "      <td>3.53</td>\n",
       "      <td>0.23</td>\n",
       "      <td>{'kind': 'word', 'word': 'avais'}</td>\n",
       "      <td>avais</td>\n",
       "      <td>45.798</td>\n",
       "    </tr>\n",
       "    <tr>\n",
       "      <th>3</th>\n",
       "      <td>3</td>\n",
       "      <td>3.93</td>\n",
       "      <td>0.25</td>\n",
       "      <td>{'kind': 'word', 'word': 'six'}</td>\n",
       "      <td>six</td>\n",
       "      <td>46.199</td>\n",
       "    </tr>\n",
       "    <tr>\n",
       "      <th>4</th>\n",
       "      <td>4</td>\n",
       "      <td>4.18</td>\n",
       "      <td>0.18</td>\n",
       "      <td>{'kind': 'word', 'word': 'ans'}</td>\n",
       "      <td>ans</td>\n",
       "      <td>46.450</td>\n",
       "    </tr>\n",
       "    <tr>\n",
       "      <th>...</th>\n",
       "      <td>...</td>\n",
       "      <td>...</td>\n",
       "      <td>...</td>\n",
       "      <td>...</td>\n",
       "      <td>...</td>\n",
       "      <td>...</td>\n",
       "    </tr>\n",
       "    <tr>\n",
       "      <th>1430</th>\n",
       "      <td>1625</td>\n",
       "      <td>609.20</td>\n",
       "      <td>0.20</td>\n",
       "      <td>{'kind': 'word', 'word': 'on'}</td>\n",
       "      <td>on</td>\n",
       "      <td>652.492</td>\n",
       "    </tr>\n",
       "    <tr>\n",
       "      <th>1431</th>\n",
       "      <td>1626</td>\n",
       "      <td>609.40</td>\n",
       "      <td>0.11</td>\n",
       "      <td>{'kind': 'word', 'word': 'ne'}</td>\n",
       "      <td>ne</td>\n",
       "      <td>652.693</td>\n",
       "    </tr>\n",
       "    <tr>\n",
       "      <th>1432</th>\n",
       "      <td>1627</td>\n",
       "      <td>609.51</td>\n",
       "      <td>0.14</td>\n",
       "      <td>{'kind': 'word', 'word': 'peut'}</td>\n",
       "      <td>peut</td>\n",
       "      <td>652.803</td>\n",
       "    </tr>\n",
       "    <tr>\n",
       "      <th>1433</th>\n",
       "      <td>1628</td>\n",
       "      <td>609.65</td>\n",
       "      <td>0.22</td>\n",
       "      <td>{'kind': 'word', 'word': 'pas'}</td>\n",
       "      <td>pas</td>\n",
       "      <td>652.943</td>\n",
       "    </tr>\n",
       "    <tr>\n",
       "      <th>1434</th>\n",
       "      <td>1629</td>\n",
       "      <td>609.87</td>\n",
       "      <td>0.17</td>\n",
       "      <td>{'kind': 'word', 'word': 'aller'}</td>\n",
       "      <td>aller</td>\n",
       "      <td>653.163</td>\n",
       "    </tr>\n",
       "  </tbody>\n",
       "</table>\n",
       "<p>1435 rows × 6 columns</p>\n",
       "</div>"
      ],
      "text/plain": [
       "      Unnamed: 0   onset  duration                           trial_type  \\\n",
       "0              0    3.05      0.37  {'kind': 'word', 'word': 'lorsque'}   \n",
       "1              1    3.42      0.02        {'kind': 'word', 'word': 'j'}   \n",
       "2              2    3.53      0.23    {'kind': 'word', 'word': 'avais'}   \n",
       "3              3    3.93      0.25      {'kind': 'word', 'word': 'six'}   \n",
       "4              4    4.18      0.18      {'kind': 'word', 'word': 'ans'}   \n",
       "...          ...     ...       ...                                  ...   \n",
       "1430        1625  609.20      0.20       {'kind': 'word', 'word': 'on'}   \n",
       "1431        1626  609.40      0.11       {'kind': 'word', 'word': 'ne'}   \n",
       "1432        1627  609.51      0.14     {'kind': 'word', 'word': 'peut'}   \n",
       "1433        1628  609.65      0.22      {'kind': 'word', 'word': 'pas'}   \n",
       "1434        1629  609.87      0.17    {'kind': 'word', 'word': 'aller'}   \n",
       "\n",
       "         word    start  \n",
       "0     lorsque   45.318  \n",
       "1           j   45.688  \n",
       "2       avais   45.798  \n",
       "3         six   46.199  \n",
       "4         ans   46.450  \n",
       "...       ...      ...  \n",
       "1430       on  652.492  \n",
       "1431       ne  652.693  \n",
       "1432     peut  652.803  \n",
       "1433      pas  652.943  \n",
       "1434    aller  653.163  \n",
       "\n",
       "[1435 rows x 6 columns]"
      ]
     },
     "execution_count": 61,
     "metadata": {},
     "output_type": "execute_result"
    }
   ],
   "source": [
    "meta"
   ]
  },
  {
   "cell_type": "code",
   "execution_count": null,
   "metadata": {},
   "outputs": [],
   "source": []
  },
  {
   "cell_type": "code",
   "execution_count": null,
   "metadata": {},
   "outputs": [],
   "source": []
  },
  {
   "cell_type": "code",
   "execution_count": null,
   "metadata": {},
   "outputs": [],
   "source": []
  },
  {
   "cell_type": "code",
   "execution_count": 13,
   "metadata": {},
   "outputs": [],
   "source": [
    "evo = epochs.average(method='median')"
   ]
  },
  {
   "cell_type": "code",
   "execution_count": 14,
   "metadata": {},
   "outputs": [
    {
     "data": {
      "image/png": "[encoded data removed]",
      "text/plain": [
       "<Figure size 460.8x288 with 4 Axes>"
      ]
     },
     "metadata": {
      "needs_background": "light"
     },
     "output_type": "display_data"
    },
    {
     "data": {
      "image/png": "[encoded data removed]",
      "text/plain": [
       "<Figure size 460.8x288 with 4 Axes>"
      ]
     },
     "execution_count": 14,
     "metadata": {},
     "output_type": "execute_result"
    }
   ],
   "source": [
    "evo.plot(spatial_colors=True)"
   ]
  },
  {
   "cell_type": "code",
   "execution_count": 22,
   "metadata": {},
   "outputs": [
    {
     "data": {
      "text/html": [
       "<table class=\"table table-hover table-striped table-sm table-responsive small\">\n",
       "    <tr>\n",
       "        <th>Number of events</th>\n",
       "        <td>4813</td>\n",
       "    </tr>\n",
       "    <tr>\n",
       "        <th>Events</th>\n",
       "        \n",
       "        <td>1: 4813</td>\n",
       "        \n",
       "    </tr>\n",
       "    <tr>\n",
       "        <th>Time range</th>\n",
       "        <td>-0.300 – 1.000 sec</td>\n",
       "    </tr>\n",
       "    <tr>\n",
       "        <th>Baseline</th>\n",
       "        <td>off</td>\n",
       "    </tr>\n",
       "</table>"
      ],
      "text/plain": [
       "<Epochs |  4813 events (all good), -0.3 - 1 sec, baseline off, ~1.53 GB, data loaded, with metadata,\n",
       " '1': 4813>"
      ]
     },
     "execution_count": 22,
     "metadata": {},
     "output_type": "execute_result"
    }
   ],
   "source": [
    "epochs"
   ]
  },
  {
   "cell_type": "code",
   "execution_count": null,
   "metadata": {},
   "outputs": [],
   "source": []
  },
  {
   "cell_type": "code",
   "execution_count": null,
   "metadata": {},
   "outputs": [],
   "source": []
  },
  {
   "cell_type": "code",
   "execution_count": null,
   "metadata": {},
   "outputs": [],
   "source": []
  },
  {
   "cell_type": "code",
   "execution_count": null,
   "metadata": {},
   "outputs": [],
   "source": []
  },
  {
   "cell_type": "code",
   "execution_count": null,
   "metadata": {},
   "outputs": [],
   "source": []
  },
  {
   "cell_type": "code",
   "execution_count": 9,
   "metadata": {},
   "outputs": [
    {
     "name": "stdout",
     "output_type": "stream",
     "text": [
      "Adding metadata with 5 columns\n",
      "1599 matching events found\n",
      "Setting baseline interval to [-0.3, 0.0] sec\n",
      "Applying baseline correction (mode: mean)\n",
      "0 projection items activated\n"
     ]
    },
    {
     "name": "stderr",
     "output_type": "stream",
     "text": [
      "<ipython-input-9-cd04c69a72ca>:10: RuntimeWarning: The measurement information indicates a low-pass frequency of 330.0 Hz. The decim=10 parameter will result in a sampling frequency of 100.0 Hz, which can cause aliasing artifacts.\n",
      "  epochs = mne.Epochs(raw, events, metadata=meta, tmin=-.3, tmax=.8, decim=10)\n"
     ]
    }
   ],
   "source": [
    "# match events and metadata\n",
    "word_events = events[events[:, 2]==128]\n",
    "meg_delta = np.round(np.diff(word_events[:, 0]/raw.info['sfreq']))\n",
    "meta_delta = np.round(np.diff(meta.onset.values))\n",
    "i, j = match_list(meg_delta, meta_delta)\n",
    "assert len(i) > 1000\n",
    "events = events[i]\n",
    "meta = meta.iloc[j].reset_index()\n",
    "\n",
    "epochs = mne.Epochs(raw, events, metadata=meta, tmin=-.3, tmax=.8, decim=10)"
   ]
  },
  {
   "cell_type": "code",
   "execution_count": 5,
   "metadata": {},
   "outputs": [
    {
     "data": {
      "text/html": [
       "<div>\n",
       "<style scoped>\n",
       "    .dataframe tbody tr th:only-of-type {\n",
       "        vertical-align: middle;\n",
       "    }\n",
       "\n",
       "    .dataframe tbody tr th {\n",
       "        vertical-align: top;\n",
       "    }\n",
       "\n",
       "    .dataframe thead th {\n",
       "        text-align: right;\n",
       "    }\n",
       "</style>\n",
       "<table border=\"1\" class=\"dataframe\">\n",
       "  <thead>\n",
       "    <tr style=\"text-align: right;\">\n",
       "      <th></th>\n",
       "      <th>index</th>\n",
       "      <th>Unnamed: 0</th>\n",
       "      <th>onset</th>\n",
       "      <th>duration</th>\n",
       "      <th>trial_type</th>\n",
       "      <th>word</th>\n",
       "      <th>wlength</th>\n",
       "      <th>run</th>\n",
       "      <th>n_closing</th>\n",
       "      <th>is_last_word</th>\n",
       "      <th>...</th>\n",
       "      <th>sentence_length</th>\n",
       "      <th>sentence_start</th>\n",
       "      <th>sentence_stop</th>\n",
       "      <th>sentence_words</th>\n",
       "      <th>constituent_id</th>\n",
       "      <th>const_word_id</th>\n",
       "      <th>constituent_length</th>\n",
       "      <th>constituent_start</th>\n",
       "      <th>constituent_stop</th>\n",
       "      <th>constituent_words</th>\n",
       "    </tr>\n",
       "  </thead>\n",
       "  <tbody>\n",
       "    <tr>\n",
       "      <th>0</th>\n",
       "      <td>1</td>\n",
       "      <td>1</td>\n",
       "      <td>3.420000</td>\n",
       "      <td>0.020000</td>\n",
       "      <td>{'kind': 'word', 'word': 'j'}</td>\n",
       "      <td>j</td>\n",
       "      <td>1</td>\n",
       "      <td>1</td>\n",
       "      <td>1</td>\n",
       "      <td>False</td>\n",
       "      <td>...</td>\n",
       "      <td>25.0</td>\n",
       "      <td>42.046</td>\n",
       "      <td>53.527</td>\n",
       "      <td>NaN</td>\n",
       "      <td>0</td>\n",
       "      <td>1.0</td>\n",
       "      <td>3.0</td>\n",
       "      <td>42.046</td>\n",
       "      <td>45.918000</td>\n",
       "      <td>NaN</td>\n",
       "    </tr>\n",
       "    <tr>\n",
       "      <th>1</th>\n",
       "      <td>2</td>\n",
       "      <td>2</td>\n",
       "      <td>3.530000</td>\n",
       "      <td>0.230000</td>\n",
       "      <td>{'kind': 'word', 'word': 'avais'}</td>\n",
       "      <td>avais</td>\n",
       "      <td>5</td>\n",
       "      <td>1</td>\n",
       "      <td>2</td>\n",
       "      <td>False</td>\n",
       "      <td>...</td>\n",
       "      <td>25.0</td>\n",
       "      <td>42.046</td>\n",
       "      <td>53.527</td>\n",
       "      <td>NaN</td>\n",
       "      <td>0</td>\n",
       "      <td>2.0</td>\n",
       "      <td>3.0</td>\n",
       "      <td>42.046</td>\n",
       "      <td>45.918000</td>\n",
       "      <td>NaN</td>\n",
       "    </tr>\n",
       "    <tr>\n",
       "      <th>2</th>\n",
       "      <td>3</td>\n",
       "      <td>3</td>\n",
       "      <td>3.930000</td>\n",
       "      <td>0.250000</td>\n",
       "      <td>{'kind': 'word', 'word': 'six'}</td>\n",
       "      <td>six</td>\n",
       "      <td>3</td>\n",
       "      <td>1</td>\n",
       "      <td>1</td>\n",
       "      <td>False</td>\n",
       "      <td>...</td>\n",
       "      <td>25.0</td>\n",
       "      <td>42.046</td>\n",
       "      <td>53.527</td>\n",
       "      <td>NaN</td>\n",
       "      <td>1</td>\n",
       "      <td>0.0</td>\n",
       "      <td>2.0</td>\n",
       "      <td>45.798</td>\n",
       "      <td>46.379000</td>\n",
       "      <td>[six, ans]</td>\n",
       "    </tr>\n",
       "    <tr>\n",
       "      <th>3</th>\n",
       "      <td>4</td>\n",
       "      <td>4</td>\n",
       "      <td>4.180000</td>\n",
       "      <td>0.180000</td>\n",
       "      <td>{'kind': 'word', 'word': 'ans'}</td>\n",
       "      <td>ans</td>\n",
       "      <td>3</td>\n",
       "      <td>1</td>\n",
       "      <td>4</td>\n",
       "      <td>False</td>\n",
       "      <td>...</td>\n",
       "      <td>25.0</td>\n",
       "      <td>42.046</td>\n",
       "      <td>53.527</td>\n",
       "      <td>NaN</td>\n",
       "      <td>1</td>\n",
       "      <td>1.0</td>\n",
       "      <td>2.0</td>\n",
       "      <td>45.798</td>\n",
       "      <td>46.379000</td>\n",
       "      <td>NaN</td>\n",
       "    </tr>\n",
       "    <tr>\n",
       "      <th>4</th>\n",
       "      <td>5</td>\n",
       "      <td>5</td>\n",
       "      <td>4.400000</td>\n",
       "      <td>0.140000</td>\n",
       "      <td>{'kind': 'word', 'word': 'j'}</td>\n",
       "      <td>j</td>\n",
       "      <td>1</td>\n",
       "      <td>1</td>\n",
       "      <td>1</td>\n",
       "      <td>False</td>\n",
       "      <td>...</td>\n",
       "      <td>25.0</td>\n",
       "      <td>42.046</td>\n",
       "      <td>53.527</td>\n",
       "      <td>NaN</td>\n",
       "      <td>2</td>\n",
       "      <td>0.0</td>\n",
       "      <td>3.0</td>\n",
       "      <td>46.450</td>\n",
       "      <td>47.100429</td>\n",
       "      <td>[j, ai, vu]</td>\n",
       "    </tr>\n",
       "    <tr>\n",
       "      <th>5</th>\n",
       "      <td>6</td>\n",
       "      <td>6</td>\n",
       "      <td>4.540000</td>\n",
       "      <td>0.234013</td>\n",
       "      <td>{'kind': 'word', 'word': 'ai'}</td>\n",
       "      <td>ai</td>\n",
       "      <td>2</td>\n",
       "      <td>1</td>\n",
       "      <td>1</td>\n",
       "      <td>False</td>\n",
       "      <td>...</td>\n",
       "      <td>25.0</td>\n",
       "      <td>42.046</td>\n",
       "      <td>53.527</td>\n",
       "      <td>NaN</td>\n",
       "      <td>2</td>\n",
       "      <td>1.0</td>\n",
       "      <td>3.0</td>\n",
       "      <td>46.450</td>\n",
       "      <td>47.100429</td>\n",
       "      <td>NaN</td>\n",
       "    </tr>\n",
       "    <tr>\n",
       "      <th>6</th>\n",
       "      <td>7</td>\n",
       "      <td>7</td>\n",
       "      <td>4.859433</td>\n",
       "      <td>0.290429</td>\n",
       "      <td>{'kind': 'word', 'word': 'vu'}</td>\n",
       "      <td>vu</td>\n",
       "      <td>2</td>\n",
       "      <td>1</td>\n",
       "      <td>2</td>\n",
       "      <td>False</td>\n",
       "      <td>...</td>\n",
       "      <td>25.0</td>\n",
       "      <td>42.046</td>\n",
       "      <td>53.527</td>\n",
       "      <td>NaN</td>\n",
       "      <td>2</td>\n",
       "      <td>2.0</td>\n",
       "      <td>3.0</td>\n",
       "      <td>46.450</td>\n",
       "      <td>47.100429</td>\n",
       "      <td>NaN</td>\n",
       "    </tr>\n",
       "    <tr>\n",
       "      <th>7</th>\n",
       "      <td>8</td>\n",
       "      <td>8</td>\n",
       "      <td>5.149862</td>\n",
       "      <td>0.350138</td>\n",
       "      <td>{'kind': 'word', 'word': 'une'}</td>\n",
       "      <td>une</td>\n",
       "      <td>3</td>\n",
       "      <td>1</td>\n",
       "      <td>1</td>\n",
       "      <td>False</td>\n",
       "      <td>...</td>\n",
       "      <td>25.0</td>\n",
       "      <td>42.046</td>\n",
       "      <td>53.527</td>\n",
       "      <td>NaN</td>\n",
       "      <td>3</td>\n",
       "      <td>0.0</td>\n",
       "      <td>2.0</td>\n",
       "      <td>47.130</td>\n",
       "      <td>47.750000</td>\n",
       "      <td>[une, fois]</td>\n",
       "    </tr>\n",
       "    <tr>\n",
       "      <th>8</th>\n",
       "      <td>9</td>\n",
       "      <td>9</td>\n",
       "      <td>5.500000</td>\n",
       "      <td>0.330000</td>\n",
       "      <td>{'kind': 'word', 'word': 'fois'}</td>\n",
       "      <td>fois</td>\n",
       "      <td>4</td>\n",
       "      <td>1</td>\n",
       "      <td>2</td>\n",
       "      <td>False</td>\n",
       "      <td>...</td>\n",
       "      <td>25.0</td>\n",
       "      <td>42.046</td>\n",
       "      <td>53.527</td>\n",
       "      <td>NaN</td>\n",
       "      <td>3</td>\n",
       "      <td>1.0</td>\n",
       "      <td>2.0</td>\n",
       "      <td>47.130</td>\n",
       "      <td>47.750000</td>\n",
       "      <td>NaN</td>\n",
       "    </tr>\n",
       "    <tr>\n",
       "      <th>9</th>\n",
       "      <td>10</td>\n",
       "      <td>10</td>\n",
       "      <td>6.140000</td>\n",
       "      <td>0.460000</td>\n",
       "      <td>{'kind': 'word', 'word': 'une'}</td>\n",
       "      <td>une</td>\n",
       "      <td>3</td>\n",
       "      <td>1</td>\n",
       "      <td>1</td>\n",
       "      <td>False</td>\n",
       "      <td>...</td>\n",
       "      <td>25.0</td>\n",
       "      <td>42.046</td>\n",
       "      <td>53.527</td>\n",
       "      <td>NaN</td>\n",
       "      <td>4</td>\n",
       "      <td>0.0</td>\n",
       "      <td>3.0</td>\n",
       "      <td>47.771</td>\n",
       "      <td>49.373000</td>\n",
       "      <td>[une, magnifique, image]</td>\n",
       "    </tr>\n",
       "  </tbody>\n",
       "</table>\n",
       "<p>10 rows × 33 columns</p>\n",
       "</div>"
      ],
      "text/plain": [
       "   index  Unnamed: 0     onset  duration                         trial_type  \\\n",
       "0      1           1  3.420000  0.020000      {'kind': 'word', 'word': 'j'}   \n",
       "1      2           2  3.530000  0.230000  {'kind': 'word', 'word': 'avais'}   \n",
       "2      3           3  3.930000  0.250000    {'kind': 'word', 'word': 'six'}   \n",
       "3      4           4  4.180000  0.180000    {'kind': 'word', 'word': 'ans'}   \n",
       "4      5           5  4.400000  0.140000      {'kind': 'word', 'word': 'j'}   \n",
       "5      6           6  4.540000  0.234013     {'kind': 'word', 'word': 'ai'}   \n",
       "6      7           7  4.859433  0.290429     {'kind': 'word', 'word': 'vu'}   \n",
       "7      8           8  5.149862  0.350138    {'kind': 'word', 'word': 'une'}   \n",
       "8      9           9  5.500000  0.330000   {'kind': 'word', 'word': 'fois'}   \n",
       "9     10          10  6.140000  0.460000    {'kind': 'word', 'word': 'une'}   \n",
       "\n",
       "    word  wlength  run  n_closing  is_last_word  ... sentence_length  \\\n",
       "0      j        1    1          1         False  ...            25.0   \n",
       "1  avais        5    1          2         False  ...            25.0   \n",
       "2    six        3    1          1         False  ...            25.0   \n",
       "3    ans        3    1          4         False  ...            25.0   \n",
       "4      j        1    1          1         False  ...            25.0   \n",
       "5     ai        2    1          1         False  ...            25.0   \n",
       "6     vu        2    1          2         False  ...            25.0   \n",
       "7    une        3    1          1         False  ...            25.0   \n",
       "8   fois        4    1          2         False  ...            25.0   \n",
       "9    une        3    1          1         False  ...            25.0   \n",
       "\n",
       "   sentence_start  sentence_stop  sentence_words  constituent_id  \\\n",
       "0          42.046         53.527             NaN               0   \n",
       "1          42.046         53.527             NaN               0   \n",
       "2          42.046         53.527             NaN               1   \n",
       "3          42.046         53.527             NaN               1   \n",
       "4          42.046         53.527             NaN               2   \n",
       "5          42.046         53.527             NaN               2   \n",
       "6          42.046         53.527             NaN               2   \n",
       "7          42.046         53.527             NaN               3   \n",
       "8          42.046         53.527             NaN               3   \n",
       "9          42.046         53.527             NaN               4   \n",
       "\n",
       "   const_word_id  constituent_length  constituent_start  constituent_stop  \\\n",
       "0            1.0                 3.0             42.046         45.918000   \n",
       "1            2.0                 3.0             42.046         45.918000   \n",
       "2            0.0                 2.0             45.798         46.379000   \n",
       "3            1.0                 2.0             45.798         46.379000   \n",
       "4            0.0                 3.0             46.450         47.100429   \n",
       "5            1.0                 3.0             46.450         47.100429   \n",
       "6            2.0                 3.0             46.450         47.100429   \n",
       "7            0.0                 2.0             47.130         47.750000   \n",
       "8            1.0                 2.0             47.130         47.750000   \n",
       "9            0.0                 3.0             47.771         49.373000   \n",
       "\n",
       "          constituent_words  \n",
       "0                       NaN  \n",
       "1                       NaN  \n",
       "2                [six, ans]  \n",
       "3                       NaN  \n",
       "4               [j, ai, vu]  \n",
       "5                       NaN  \n",
       "6                       NaN  \n",
       "7               [une, fois]  \n",
       "8                       NaN  \n",
       "9  [une, magnifique, image]  \n",
       "\n",
       "[10 rows x 33 columns]"
      ]
     },
     "execution_count": 5,
     "metadata": {},
     "output_type": "execute_result"
    }
   ],
   "source": [
    "epochs.metadata.head(10)"
   ]
  },
  {
   "cell_type": "code",
   "execution_count": 2,
   "metadata": {},
   "outputs": [
    {
     "name": "stdout",
     "output_type": "stream",
     "text": [
      "Decoding word length for: word\n",
      "..................................................................................................................................."
     ]
    }
   ],
   "source": [
    "all_scores = decoding_from_criterion(decoding_criterion, epochs, level, subject)\n"
   ]
  },
  {
   "cell_type": "code",
   "execution_count": 3,
   "metadata": {},
   "outputs": [
    {
     "data": {
      "text/plain": [
       "Text(0.5, 0.98, 'Decoding Performance for wlength and auditory for sub-2, epoched on word onset')"
      ]
     },
     "execution_count": 3,
     "metadata": {},
     "output_type": "execute_result"
    },
    {
     "data": {
      "image/png": "[encoded data removed]",
      "text/plain": [
       "<Figure size 432x288 with 1 Axes>"
      ]
     },
     "metadata": {
      "needs_background": "light"
     },
     "output_type": "display_data"
    }
   ],
   "source": [
    "import pandas as pd\n",
    "data = pd.DataFrame(all_scores)\n",
    "y = []\n",
    "x = []\n",
    "for s, t in data.groupby(\"t\"):\n",
    "    score_avg = t.score.mean()\n",
    "    y.append(score_avg)\n",
    "    x.append(s)\n",
    "\n",
    "import matplotlib.pyplot as plt\n",
    "plt.plot(x, y)\n",
    "plt.axhline(y=0, color=\"r\", linestyle=\"-\")\n",
    "plt.suptitle(\n",
    "f\"Decoding Performance for {decoding_criterion} and {modality} for sub-{subject}, epoched on {level} {start}\"\n",
    ")"
   ]
  },
  {
   "cell_type": "code",
   "execution_count": 1,
   "metadata": {},
   "outputs": [
    {
     "name": "stderr",
     "output_type": "stream",
     "text": [
      "/home/co/miniconda3/envs/meg/lib/python3.9/site-packages/tqdm/auto.py:22: TqdmWarning: IProgress not found. Please update jupyter and ipywidgets. See https://ipywidgets.readthedocs.io/en/stable/user_install.html\n",
      "  from .autonotebook import tqdm as notebook_tqdm\n"
     ]
    }
   ],
   "source": [
    "from dataset import read_raw, populate_metadata_epochs, decoding_from_criterion\n",
    "\n",
    "modality = \"visual\"\n",
    "decoding_criterion = 'embeddings'\n",
    "start = 'onset'\n",
    "level = 'word'\n",
    "subject = '5'"
   ]
  },
  {
   "cell_type": "code",
   "execution_count": 2,
   "metadata": {},
   "outputs": [
    {
     "name": "stdout",
     "output_type": "stream",
     "text": [
      "\n",
      " Epoching for run 1, subject: 5\n",
      "\n",
      "\n",
      " Epoching for run 2, subject: 5\n",
      "\n",
      "\n",
      " Epoching for run 3, subject: 5\n",
      "\n"
     ]
    }
   ],
   "source": [
    "epochs = populate_metadata_epochs(modality, subject, level, start, runs=3, decoding_criterion=decoding_criterion)"
   ]
  },
  {
   "cell_type": "code",
   "execution_count": 3,
   "metadata": {},
   "outputs": [
    {
     "name": "stdout",
     "output_type": "stream",
     "text": [
      "Word embeddings decoding\n",
      "For: word\n",
      "..................................................................................................................................."
     ]
    }
   ],
   "source": [
    "all_scores = decoding_from_criterion(decoding_criterion, epochs, level, subject)\n"
   ]
  },
  {
   "cell_type": "code",
   "execution_count": 5,
   "metadata": {},
   "outputs": [
    {
     "data": {
      "text/plain": [
       "Text(0.5, 0.98, 'Decoding Performance for embeddings and visual for sub-5, epoched on word onset')"
      ]
     },
     "execution_count": 5,
     "metadata": {},
     "output_type": "execute_result"
    },
    {
     "data": {
      "image/png": "[encoded data removed]",
      "text/plain": [
       "<Figure size 432x288 with 1 Axes>"
      ]
     },
     "metadata": {
      "needs_background": "light"
     },
     "output_type": "display_data"
    }
   ],
   "source": [
    "import pandas as pd\n",
    "data = pd.DataFrame(all_scores)\n",
    "y = []\n",
    "x = []\n",
    "for s, t in data.groupby(\"t\"):\n",
    "    score_avg = t.score.mean()\n",
    "    y.append(score_avg)\n",
    "    x.append(s)\n",
    "\n",
    "import matplotlib.pyplot as plt\n",
    "plt.plot(x, y)\n",
    "plt.axhline(y=0, color=\"r\", linestyle=\"-\")\n",
    "plt.suptitle(\n",
    "f\"Decoding Performance for {decoding_criterion} and {modality} for sub-{subject}, epoched on {level} {start}\"\n",
    ")"
   ]
  },
  {
   "cell_type": "code",
   "execution_count": 7,
   "metadata": {},
   "outputs": [
    {
     "data": {
      "text/html": [
       "<div>\n",
       "<style scoped>\n",
       "    .dataframe tbody tr th:only-of-type {\n",
       "        vertical-align: middle;\n",
       "    }\n",
       "\n",
       "    .dataframe tbody tr th {\n",
       "        vertical-align: top;\n",
       "    }\n",
       "\n",
       "    .dataframe thead th {\n",
       "        text-align: right;\n",
       "    }\n",
       "</style>\n",
       "<table border=\"1\" class=\"dataframe\">\n",
       "  <thead>\n",
       "    <tr style=\"text-align: right;\">\n",
       "      <th></th>\n",
       "      <th>subject</th>\n",
       "      <th>score</th>\n",
       "      <th>t</th>\n",
       "    </tr>\n",
       "  </thead>\n",
       "  <tbody>\n",
       "    <tr>\n",
       "      <th>0</th>\n",
       "      <td>5</td>\n",
       "      <td>0.012652</td>\n",
       "      <td>-0.30</td>\n",
       "    </tr>\n",
       "    <tr>\n",
       "      <th>1</th>\n",
       "      <td>5</td>\n",
       "      <td>0.011062</td>\n",
       "      <td>-0.29</td>\n",
       "    </tr>\n",
       "    <tr>\n",
       "      <th>2</th>\n",
       "      <td>5</td>\n",
       "      <td>0.009865</td>\n",
       "      <td>-0.28</td>\n",
       "    </tr>\n",
       "    <tr>\n",
       "      <th>3</th>\n",
       "      <td>5</td>\n",
       "      <td>0.008395</td>\n",
       "      <td>-0.27</td>\n",
       "    </tr>\n",
       "    <tr>\n",
       "      <th>4</th>\n",
       "      <td>5</td>\n",
       "      <td>0.007737</td>\n",
       "      <td>-0.26</td>\n",
       "    </tr>\n",
       "    <tr>\n",
       "      <th>...</th>\n",
       "      <td>...</td>\n",
       "      <td>...</td>\n",
       "      <td>...</td>\n",
       "    </tr>\n",
       "    <tr>\n",
       "      <th>126</th>\n",
       "      <td>5</td>\n",
       "      <td>0.019300</td>\n",
       "      <td>0.96</td>\n",
       "    </tr>\n",
       "    <tr>\n",
       "      <th>127</th>\n",
       "      <td>5</td>\n",
       "      <td>0.018036</td>\n",
       "      <td>0.97</td>\n",
       "    </tr>\n",
       "    <tr>\n",
       "      <th>128</th>\n",
       "      <td>5</td>\n",
       "      <td>0.023537</td>\n",
       "      <td>0.98</td>\n",
       "    </tr>\n",
       "    <tr>\n",
       "      <th>129</th>\n",
       "      <td>5</td>\n",
       "      <td>0.024821</td>\n",
       "      <td>0.99</td>\n",
       "    </tr>\n",
       "    <tr>\n",
       "      <th>130</th>\n",
       "      <td>5</td>\n",
       "      <td>0.020038</td>\n",
       "      <td>1.00</td>\n",
       "    </tr>\n",
       "  </tbody>\n",
       "</table>\n",
       "<p>131 rows × 3 columns</p>\n",
       "</div>"
      ],
      "text/plain": [
       "    subject     score     t\n",
       "0         5  0.012652 -0.30\n",
       "1         5  0.011062 -0.29\n",
       "2         5  0.009865 -0.28\n",
       "3         5  0.008395 -0.27\n",
       "4         5  0.007737 -0.26\n",
       "..      ...       ...   ...\n",
       "126       5  0.019300  0.96\n",
       "127       5  0.018036  0.97\n",
       "128       5  0.023537  0.98\n",
       "129       5  0.024821  0.99\n",
       "130       5  0.020038  1.00\n",
       "\n",
       "[131 rows x 3 columns]"
      ]
     },
     "execution_count": 7,
     "metadata": {},
     "output_type": "execute_result"
    }
   ],
   "source": [
    "data"
   ]
  },
  {
   "cell_type": "code",
   "execution_count": null,
   "metadata": {},
   "outputs": [],
   "source": [
    "decoding_criterion = 'embeddings'\n",
    "all_scores = decoding_from_criterion(decoding_criterion, epochs, level, subject)"
   ]
  },
  {
   "cell_type": "code",
   "execution_count": null,
   "metadata": {},
   "outputs": [],
   "source": []
  },
  {
   "cell_type": "code",
   "execution_count": null,
   "metadata": {},
   "outputs": [],
   "source": []
  },
  {
   "cell_type": "code",
   "execution_count": 8,
   "metadata": {},
   "outputs": [
    {
     "name": "stdout",
     "output_type": "stream",
     "text": [
      "\n",
      " Epoching for run 1, subject: 5\n",
      "\n",
      "\n",
      " Epoching for run 1, subject: 6\n",
      "\n"
     ]
    }
   ],
   "source": [
    "import mne\n",
    "\n",
    "report = mne.Report()\n",
    "\n",
    "for subject in range(3,7):\n",
    "    epochs = populate_metadata_epochs(modality, str(subject), level, start, runs=3, decoding_criterion=decoding_criterion)\n",
    "    evo = epochs.average(method=\"median\")\n",
    "    report.add_evokeds(evo)\n",
    "    report.save(\"report_evoked.html\", overwrite=True)\n"
   ]
  },
  {
   "cell_type": "code",
   "execution_count": null,
   "metadata": {},
   "outputs": [],
   "source": []
  }
 ],
 "metadata": {
  "kernelspec": {
   "display_name": "Python 3 (ipykernel)",
   "language": "python",
   "name": "python3"
  },
  "language_info": {
   "codemirror_mode": {
    "name": "ipython",
    "version": 3
   },
   "file_extension": ".py",
   "mimetype": "text/x-python",
   "name": "python",
   "nbconvert_exporter": "python",
   "pygments_lexer": "ipython3",
   "version": "3.10.13"
  }
 },
 "nbformat": 4,
 "nbformat_minor": 4
}
