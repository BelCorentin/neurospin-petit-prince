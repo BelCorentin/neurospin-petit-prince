{
 "cells": [
  {
   "cell_type": "code",
   "execution_count": 1,
   "id": "834e6df1-9c26-4eb6-96c2-60cbd422412e",
   "metadata": {},
   "outputs": [],
   "source": [
    "from align import online_MAUS_aligner\n",
    "from pathlib import Path"
   ]
  },
  {
   "cell_type": "code",
   "execution_count": null,
   "id": "539590b7",
   "metadata": {},
   "outputs": [],
   "source": [
    "## TODO : rename all wave files into the txt format (run_X.wav instead of ch14-18.wav)"
   ]
  },
  {
   "cell_type": "code",
   "execution_count": null,
   "id": "c1122ca2",
   "metadata": {},
   "outputs": [],
   "source": [
    "class PATHS:\n",
    "    path_file = Path(\"./data_path.txt\")\n",
    "    if not path_file.exists():\n",
    "        data = Path(input(\"data_path?\"))\n",
    "        with open(path_file, \"w\") as f:\n",
    "            f.write(str(data) + \"\\n\")\n",
    "    with open(path_file, \"r\") as f:\n",
    "        wav = Path(f.readlines()[0].strip(\"\\n\")) / 'wav'\n",
    "        txt = Path(f.readlines()[0].strip(\"\\n\")) / 'txt'\n",
    "        print(f'Wav files: {wav}')\n",
    "        print(f'Txt files: {txt}')"
   ]
  },
  {
   "cell_type": "code",
   "execution_count": null,
   "id": "08d89c4c",
   "metadata": {},
   "outputs": [],
   "source": [
    "txt_folder = ''"
   ]
  },
  {
   "cell_type": "code",
   "execution_count": 3,
   "id": "55586e72-fa1b-4b52-a0bb-4e90966cd4e0",
   "metadata": {},
   "outputs": [
    {
     "ename": "TypeError",
     "evalue": "online_MAUS_aligner() missing 3 required positional arguments: 'txt_files', 'wav_files', and 'language'",
     "output_type": "error",
     "traceback": [
      "\u001b[0;31m---------------------------------------------------------------------------\u001b[0m",
      "\u001b[0;31mTypeError\u001b[0m                                 Traceback (most recent call last)",
      "Cell \u001b[0;32mIn [3], line 1\u001b[0m\n\u001b[0;32m----> 1\u001b[0m online_MAUS_aligner()\n",
      "\u001b[0;31mTypeError\u001b[0m: online_MAUS_aligner() missing 3 required positional arguments: 'txt_files', 'wav_files', and 'language'"
     ]
    }
   ],
   "source": [
    "online_MAUS_aligner()"
   ]
  },
  {
   "cell_type": "code",
   "execution_count": null,
   "id": "d4144635-d0be-498d-8d67-053d3ce04356",
   "metadata": {},
   "outputs": [],
   "source": []
  }
 ],
 "metadata": {
  "kernelspec": {
   "display_name": "Python 3.10.6 64-bit ('meg-masc')",
   "language": "python",
   "name": "python3"
  },
  "language_info": {
   "codemirror_mode": {
    "name": "ipython",
    "version": 3
   },
   "file_extension": ".py",
   "mimetype": "text/x-python",
   "name": "python",
   "nbconvert_exporter": "python",
   "pygments_lexer": "ipython3",
   "version": "3.10.6"
  },
  "vscode": {
   "interpreter": {
    "hash": "1541b2a7ce6718fb850c7e31854a9840c1a445a51449da7ae9469c30a41f28d5"
   }
  }
 },
 "nbformat": 4,
 "nbformat_minor": 5
}
