{
 "cells": [
  {
   "cell_type": "code",
   "execution_count": 11,
   "id": "834e6df1-9c26-4eb6-96c2-60cbd422412e",
   "metadata": {},
   "outputs": [],
   "source": [
    "from align import online_MAUS_aligner as OMA\n",
    "from pathlib import Path\n"
   ]
  },
  {
   "cell_type": "code",
   "execution_count": 12,
   "id": "539590b7",
   "metadata": {},
   "outputs": [],
   "source": [
    "## TODO : rename all wave files into the txt format (run_X.wav instead of ch14-18.wav)\n",
    "\n",
    "BASE = Path('/home/is153802/code/phoneme_decoding/stimuli')\n",
    "TXT_PATH = BASE / 'txt'\n",
    "WAV_PATH = BASE / 'wav'"
   ]
  },
  {
   "cell_type": "code",
   "execution_count": 13,
   "id": "e5fe9f7f",
   "metadata": {},
   "outputs": [],
   "source": [
    "# Renaming all the wav files (from Y.wav to text_french_runY.wav)\n",
    "# for i in range(1,10):\n",
    "#     !mv ./stimuli/wav/{i}.wav stimuli/wav/text_french_run{i}.wav"
   ]
  },
  {
   "cell_type": "code",
   "execution_count": 14,
   "id": "c1122ca2",
   "metadata": {},
   "outputs": [],
   "source": [
    "# class PATHS:\n",
    "#     path_file = Path(\"./data_path.txt\")\n",
    "#     if not path_file.exists():\n",
    "#         data = Path(input(\"data_path?\"))\n",
    "#         with open(path_file, \"w\") as f:\n",
    "#             f.write(str(data) + \"\\n\")\n",
    "#     with open(path_file, \"r\") as f:\n",
    "#         wav = Path(f.readlines()[0].strip(\"\\n\")) / 'wav'\n",
    "#         txt = Path(f.readlines()[0].strip(\"\\n\")) / 'txt'\n",
    "#         print(f'Wav files: {wav}')\n",
    "#         print(f'Txt files: {txt}')"
   ]
  },
  {
   "cell_type": "code",
   "execution_count": 15,
   "id": "55586e72-fa1b-4b52-a0bb-4e90966cd4e0",
   "metadata": {},
   "outputs": [
    {
     "name": "stdout",
     "output_type": "stream",
     "text": [
      "/home/is153802/code/phoneme_decoding/stimuli/txt/text_french_run9.txt\n"
     ]
    },
    {
     "ename": "AssertionError",
     "evalue": "",
     "output_type": "error",
     "traceback": [
      "\u001b[0;31m---------------------------------------------------------------------------\u001b[0m",
      "\u001b[0;31mAssertionError\u001b[0m                            Traceback (most recent call last)",
      "Cell \u001b[0;32mIn [15], line 1\u001b[0m\n\u001b[0;32m----> 1\u001b[0m OMA(\u001b[38;5;28mlist\u001b[39m((TXT_PATH)\u001b[38;5;241m.\u001b[39miterdir()),\u001b[38;5;28mlist\u001b[39m((WAV_PATH)\u001b[38;5;241m.\u001b[39miterdir()),\u001b[38;5;124m'\u001b[39m\u001b[38;5;124mfr\u001b[39m\u001b[38;5;124m'\u001b[39m)\n",
      "File \u001b[0;32m/media/cb271805/272a9f9d-f140-48d6-b390-094ccc29aae0/workspace-LPP/code/neurospin-petit-prince/phoneme_decoding/align.py:28\u001b[0m, in \u001b[0;36monline_MAUS_aligner\u001b[0;34m(txt_files, wav_files, language, ext, save_dir)\u001b[0m\n\u001b[1;32m     26\u001b[0m \u001b[39massert\u001b[39;00m txt_file\u001b[39m.\u001b[39mexists()\n\u001b[1;32m     27\u001b[0m \u001b[39massert\u001b[39;00m wav_file\u001b[39m.\u001b[39mexists()\n\u001b[0;32m---> 28\u001b[0m \u001b[39massert\u001b[39;00m txt_file\u001b[39m.\u001b[39mname[:\u001b[39m-\u001b[39m\u001b[39m4\u001b[39m] \u001b[39m==\u001b[39m wav_file\u001b[39m.\u001b[39mname[:\u001b[39m-\u001b[39m\u001b[39m4\u001b[39m]\n\u001b[1;32m     30\u001b[0m \u001b[39m# FIXME save_dir_ should be compulsory\u001b[39;00m\n\u001b[1;32m     31\u001b[0m save_dir_ \u001b[39m=\u001b[39m wav_file\u001b[39m.\u001b[39mparent \u001b[39mif\u001b[39;00m save_dir \u001b[39mis\u001b[39;00m \u001b[39mNone\u001b[39;00m \u001b[39melse\u001b[39;00m save_dir\n",
      "\u001b[0;31mAssertionError\u001b[0m: "
     ]
    }
   ],
   "source": [
    "OMA(list((TXT_PATH).iterdir()),list((WAV_PATH).iterdir()),'fr')"
   ]
  },
  {
   "cell_type": "code",
   "execution_count": null,
   "id": "d4144635-d0be-498d-8d67-053d3ce04356",
   "metadata": {},
   "outputs": [],
   "source": []
  }
 ],
 "metadata": {
  "kernelspec": {
   "display_name": "Python 3.10.6 64-bit ('meg-masc')",
   "language": "python",
   "name": "python3"
  },
  "language_info": {
   "codemirror_mode": {
    "name": "ipython",
    "version": 3
   },
   "file_extension": ".py",
   "mimetype": "text/x-python",
   "name": "python",
   "nbconvert_exporter": "python",
   "pygments_lexer": "ipython3",
   "version": "3.10.6"
  },
  "vscode": {
   "interpreter": {
    "hash": "1541b2a7ce6718fb850c7e31854a9840c1a445a51449da7ae9469c30a41f28d5"
   }
  }
 },
 "nbformat": 4,
 "nbformat_minor": 5
}
