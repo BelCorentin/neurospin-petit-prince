{
 "cells": [
  {
   "cell_type": "code",
   "execution_count": 2,
   "id": "834e6df1-9c26-4eb6-96c2-60cbd422412e",
   "metadata": {},
   "outputs": [],
   "source": [
    "from align import online_MAUS_aligner as OMA\n",
    "from pathlib import Path\n"
   ]
  },
  {
   "cell_type": "code",
   "execution_count": 3,
   "id": "539590b7",
   "metadata": {},
   "outputs": [],
   "source": [
    "## TODO : rename all wave files into the txt format (run_X.wav instead of ch14-18.wav)\n",
    "\n",
    "BASE = Path('/home/is153802/code/phoneme_decoding/stimuli')\n",
    "TXT_PATH = BASE / 'txt'\n",
    "WAV_PATH = BASE / 'wav'\n",
    "txt_files = sorted([str(file) for file in TXT_PATH.iterdir()])\n",
    "wav_files = sorted([str(file) for file in WAV_PATH.iterdir()])"
   ]
  },
  {
   "cell_type": "code",
   "execution_count": 4,
   "id": "e5fe9f7f",
   "metadata": {},
   "outputs": [],
   "source": [
    "# Renaming all the wav files (from Y.wav to text_french_runY.wav)\n",
    "# for i in range(1,10):\n",
    "#     !mv ./stimuli/wav/{i}.wav stimuli/wav/text_french_run{i}.wav"
   ]
  },
  {
   "cell_type": "code",
   "execution_count": 6,
   "id": "55586e72-fa1b-4b52-a0bb-4e90966cd4e0",
   "metadata": {},
   "outputs": [
    {
     "name": "stdout",
     "output_type": "stream",
     "text": [
      "Retrieving 9 segmentations via BASWebServices...\n"
     ]
    },
    {
     "name": "stderr",
     "output_type": "stream",
     "text": [
      "100%|██████████| 9/9 [11:44<00:00, 78.32s/it]   \n"
     ]
    },
    {
     "data": {
      "text/plain": [
       "[]"
      ]
     },
     "execution_count": 6,
     "metadata": {},
     "output_type": "execute_result"
    }
   ],
   "source": [
    "OMA(txt_files,wav_files,'fr')"
   ]
  }
 ],
 "metadata": {
  "kernelspec": {
   "display_name": "Python 3.10.6 64-bit ('meg-masc')",
   "language": "python",
   "name": "python3"
  },
  "language_info": {
   "codemirror_mode": {
    "name": "ipython",
    "version": 3
   },
   "file_extension": ".py",
   "mimetype": "text/x-python",
   "name": "python",
   "nbconvert_exporter": "python",
   "pygments_lexer": "ipython3",
   "version": "3.10.6"
  },
  "vscode": {
   "interpreter": {
    "hash": "1541b2a7ce6718fb850c7e31854a9840c1a445a51449da7ae9469c30a41f28d5"
   }
  }
 },
 "nbformat": 4,
 "nbformat_minor": 5
}
