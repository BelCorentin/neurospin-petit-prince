{
 "cells": [
  {
   "cell_type": "code",
   "execution_count": 2,
   "metadata": {},
   "outputs": [],
   "source": [
    "# This notebook simply gets all the subjects ids from the raw MEG files for the LPP experiment\n",
    "# and searches for each subject, their MRI anat scan to copy into a folder\n",
    "# Later on, these scans under the DICOM format will be put into the nii.gz format, using dcm2niix\n",
    "\n",
    "import pandas as pd\n",
    "import numpy as np\n",
    "from pathlib import Path\n",
    "import subprocess\n",
    "\n",
    "\n",
    "\n",
    "raw = Path('/home/is153802/neurospin/acquisition/neuromag/data/petit_prince')\n",
    "scan_path = Path('/home/is153802/neurospin/acquisition/database/Prisma_fit')\n",
    "output_folder = Path(\"/home/is153802/workspace_LPP/data/MEG/LPP/anat\")\n",
    "bids_folder = Path(\"/home/is153802/workspace_LPP/data/MEG/LPP/BIDS\")\n",
    "\n",
    "subj = [str(sub) for sub in raw.iterdir()]\n",
    "list_scans = []\n",
    "with open('/home/is153802/code/source-reconstruction/anat_mri.txt', 'r') as fh:\n",
    "    for line in fh:\n",
    "        list_scans.append((line))\n",
    "\n",
    "list_scans = [scan.replace('\\n','') for scan in list_scans]\n",
    "\n",
    "list_scans_subjects = [scan[11:19] for scan in list_scans]\n",
    "\n",
    "# To generate before the txt file with the anat MRI:\n",
    "# cd /neurospin/acquisition/database/Prisma_fit \n",
    "# find -maxdepth 3 -name '*mprage*' -type d > /home/is153802/code/source-reconstruction/anat_mri.txt\n",
    "# chmod 777 /home/is153802/code/source-reconstruction/anat_mri.txt\n"
   ]
  },
  {
   "cell_type": "code",
   "execution_count": 3,
   "metadata": {},
   "outputs": [],
   "source": [
    "# Cleaning the list of subjects\n",
    "subjects = []\n",
    "for sub in subj: \n",
    "    index = sub.rfind(\"petit_prince/\")\n",
    "    subjects.append(sub[index+13:])\n",
    "\n",
    "# Hardcoded fixes for previous subjects with incorrect names, etc..\n",
    "# This should not be a problem in the future, thus stay unchanged \n",
    "subjects.remove('rt220104_rt220104')\n",
    "subjects.remove('ml100438_ml100438')\n",
    "subjects.remove('empty_room')\n",
    "subjects.append('ml_100438')\n",
    "subjects.append('rt_220104')\n",
    "# TODO figure out the ab73???\n",
    "subjects = [subject.replace('_','') for subject in subjects]"
   ]
  },
  {
   "cell_type": "code",
   "execution_count": 4,
   "metadata": {},
   "outputs": [],
   "source": [
    "# Intersecting the subjects for LPP and the scans\n",
    "list_scans_final = [scan for i, scan in enumerate(list_scans) if list_scans_subjects[i] in (subjects)]"
   ]
  },
  {
   "cell_type": "code",
   "execution_count": 5,
   "metadata": {},
   "outputs": [],
   "source": [
    "# For each subject:\n",
    "# Get their subset of scans\n",
    "# Sort it by date, and take the latest\n",
    "scan_to_move = []\n",
    "\n",
    "for sub in subjects:\n",
    "    list_scan_specific = [scan for i, scan in enumerate(list_scans_final) if scan[11:19] == sub]\n",
    "    # If no scan for the subject, skip it\n",
    "    if list_scan_specific == []:\n",
    "        continue\n",
    "    # print(f'Sub {sub} ! list {list_scan_specific}')\n",
    "    list_scan_specific.sort(reverse = True)\n",
    "\n",
    "\n",
    "    scan_to_move.append((list_scan_specific[0]))\n",
    "scan_to_move = [scan.replace('./','') for scan in scan_to_move]"
   ]
  },
  {
   "cell_type": "code",
   "execution_count": 9,
   "metadata": {},
   "outputs": [
    {
     "name": "stdout",
     "output_type": "stream",
     "text": [
      " /home/is153802/workspace_LPP/data/MEG/LPP/anat/pl170230  exists\n",
      " /home/is153802/workspace_LPP/data/MEG/LPP/anat/kp210315  exists\n",
      " /home/is153802/workspace_LPP/data/MEG/LPP/anat/cc150418  exists\n",
      " /home/is153802/workspace_LPP/data/MEG/LPP/anat/mf180020  exists\n",
      " /home/is153802/workspace_LPP/data/MEG/LPP/anat/mb180076  exists\n",
      " /home/is153802/workspace_LPP/data/MEG/LPP/anat/cm180071  exists\n",
      " /home/is153802/workspace_LPP/data/MEG/LPP/anat/kc160388  exists\n",
      " /home/is153802/workspace_LPP/data/MEG/LPP/anat/ch180036  exists\n",
      " /home/is153802/workspace_LPP/data/MEG/LPP/anat/lg170436  exists\n",
      " /home/is153802/workspace_LPP/data/MEG/LPP/anat/ml220421  exists\n",
      " /home/is153802/workspace_LPP/data/MEG/LPP/anat/js180232  exists\n",
      " /home/is153802/workspace_LPP/data/MEG/LPP/anat/fr190151  exists\n",
      " /home/is153802/workspace_LPP/data/MEG/LPP/anat/lq180242  exists\n",
      " /home/is153802/workspace_LPP/data/MEG/LPP/anat/hg220389  exists\n",
      " /home/is153802/workspace_LPP/data/MEG/LPP/anat/ae140329  exists\n",
      " /home/is153802/workspace_LPP/data/MEG/LPP/anat/cl220500  exists\n",
      " /home/is153802/workspace_LPP/data/MEG/LPP/anat/ml180010  exists\n",
      " /home/is153802/workspace_LPP/data/MEG/LPP/anat/ml100438  exists\n",
      " /home/is153802/workspace_LPP/data/MEG/LPP/anat/rt220104  exists\n"
     ]
    }
   ],
   "source": [
    "# Copying the scans to the right folder\n",
    "for scan in scan_to_move:\n",
    "    scan_path_specific = scan_path / scan\n",
    "    sub = scan[9:17]\n",
    "    if((output_folder/sub).exists()):\n",
    "        print(f\" {output_folder/sub}  exists\")\n",
    "        continue\n",
    "    else:\n",
    "        bashCommand = f\"mkdir -p {output_folder} \"\n",
    "        process = subprocess.Popen(bashCommand.split(), stdout=subprocess.PIPE)\n",
    "        output, error = process.communicate()\n",
    "        bashCommand = f\"cp -r   {scan_path_specific} {output_folder/sub}\"\n",
    "        process = subprocess.Popen(bashCommand.split(), stdout=subprocess.PIPE)\n",
    "        output, error = process.communicate()"
   ]
  },
  {
   "cell_type": "code",
   "execution_count": 11,
   "metadata": {},
   "outputs": [
    {
     "data": {
      "text/plain": [
       "['20220927/pl170230-7754_001/000002_mprage-sag-T1-160sl-iPAT2',\n",
       " '20220801/kp210315-7695_001/000002_mprage-sag-T1-160sl',\n",
       " '20151207/cc150418-4939_001/000002_mprage-sag-T1-160sl',\n",
       " '20180130/mf180020-5904_001/000002_mprage-sag-T1-160sl',\n",
       " '20200904/mb180076-6875_001/000025_mprage-sag-T1-160sl-iPat2',\n",
       " '20220511/cm180071-7572_002/000019_mprage-sag-T1-160sl-iPAT2',\n",
       " '20181009/kc160388-6204_001/000018_mprage-sag-T1-160sl-iPat2',\n",
       " '20210602/ch180036-7151_001/000018_mprage-sag-T1-160sl-iPat2',\n",
       " '20200915/lg170436-6897_001/000013_mprage-sag-T1-160sl-iPAT2',\n",
       " '20221004/eg220435-7769_001/000014_mprage-sag-T1-160sl-iPAT2',\n",
       " '20220719/ml220421-7681_001/000014_mprage-sag-T1-160sl',\n",
       " '20191217/js180232-6704_001/000022_mprage-sag-T1-160sl',\n",
       " '20200130/fr190151-6735_001/000024_mprage-sag-T1-160sl',\n",
       " '20190722/cl190429-6553_001/000002_mprage-sag-T1-160sl',\n",
       " '20210429/lq180242-7118_001/000018_mprage-sag-T1-160sl-iPAT2',\n",
       " '20220614/hg220389-7630_001/000002_mprage-sag-T1-0.9mm-176sl-PF7-8',\n",
       " '20200918/ae140329-6903_001/000025_mprage-sag-T1-160sl-iPat2',\n",
       " '20220913/cl220500-7727_001/000016_mprage-sag-T1-160sl',\n",
       " '20180116/ml180010-5890_001/000004_mprage-sag-T1-160sl',\n",
       " '20220621/ml100438-7646_001/000014_mprage-sag-T1-160sl',\n",
       " '20220518/rt220104-7590_001/000014_mprage-sag-T1-160sl']"
      ]
     },
     "execution_count": 11,
     "metadata": {},
     "output_type": "execute_result"
    }
   ],
   "source": [
    "scan_to_move\n"
   ]
  },
  {
   "cell_type": "code",
   "execution_count": null,
   "metadata": {},
   "outputs": [],
   "source": [
    "# Transforming each folder of DICOM scans to the niix format\n",
    "\n",
    "dict_id_to_nip = {}\n",
    "for sub in output_folder.iterdir():\n",
    "    identifiable = str(sub)[-8:]\n",
    "    nip = dict_id_to_nip(identifiable)\n",
    "\n",
    "    dicom_folder_sub = output_folder / identifiable  # where the DICOM files of a sub are stored\n",
    "    output_bids = bids_folder / f'sub-{nip}/ses-01/anat/'  # where the niix file should be stored (BIDS)\n",
    "\n",
    "    bashCommand = f\"dcm2niix -o {output_bids} -z y -b y \\\n",
    "                    /home/is153802/workspace_LPP/data/MEG/LPP/anat/{dicom_folder_sub}\"\n",
    "    process = subprocess.Popen(bashCommand.split(), stdout=subprocess.PIPE)\n",
    "    output, error = process.communicate()"
   ]
  },
  {
   "cell_type": "code",
   "execution_count": 15,
   "metadata": {},
   "outputs": [
    {
     "name": "stdout",
     "output_type": "stream",
     "text": [
      "cl190429\n",
      "hg220389\n",
      "ml220421\n",
      "cm180071\n",
      "eg220435\n",
      "ml100438\n",
      "ch180036\n",
      "ae140329\n",
      "pl170230\n",
      "lq180242\n",
      "kc160388\n",
      "cl220500\n",
      "mb180076\n",
      "fr190151\n",
      "kp210315\n",
      "ml180010\n",
      "cc150418\n",
      "rt220104\n",
      "js180232\n",
      "lg170436\n",
      "mf180020\n"
     ]
    }
   ],
   "source": [
    "for sub in output_folder.iterdir():\n",
    "    print(str(sub)[-8:])"
   ]
  },
  {
   "cell_type": "code",
   "execution_count": null,
   "metadata": {},
   "outputs": [],
   "source": []
  },
  {
   "cell_type": "code",
   "execution_count": null,
   "metadata": {},
   "outputs": [],
   "source": []
  }
 ],
 "metadata": {
  "kernelspec": {
   "display_name": "Python 3.10.6 64-bit ('meg-masc')",
   "language": "python",
   "name": "python3"
  },
  "language_info": {
   "codemirror_mode": {
    "name": "ipython",
    "version": 3
   },
   "file_extension": ".py",
   "mimetype": "text/x-python",
   "name": "python",
   "nbconvert_exporter": "python",
   "pygments_lexer": "ipython3",
   "version": "3.10.6"
  },
  "orig_nbformat": 4,
  "vscode": {
   "interpreter": {
    "hash": "1541b2a7ce6718fb850c7e31854a9840c1a445a51449da7ae9469c30a41f28d5"
   }
  }
 },
 "nbformat": 4,
 "nbformat_minor": 2
}
