{
 "cells": [
  {
   "cell_type": "code",
   "execution_count": 77,
   "metadata": {},
   "outputs": [],
   "source": [
    "import pandas as pd\n",
    "import numpy as np\n",
    "from pathlib import Path\n",
    "import subprocess\n",
    "\n",
    "\n",
    "\n",
    "raw = Path('/home/is153802/neurospin/acquisition/neuromag/data/petit_prince')\n",
    "scan_path = Path('/home/is153802/neurospin/acquisition/database/Prisma_fit')\n",
    "output_folder = Path(\"/home/is153802/workspace_LPP/data/MEG/LPP/anat\")\n",
    "\n",
    "subj = [str(sub) for sub in raw.iterdir()]\n",
    "list_scans = []\n",
    "with open('/home/is153802/code/source-reconstruction/anat_mri.txt', 'r') as fh:\n",
    "    for line in fh:\n",
    "        list_scans.append((line))\n",
    "\n",
    "list_scans = [scan.replace('\\n','') for scan in list_scans]\n",
    "\n",
    "list_scans_subjects = [scan[11:19] for scan in list_scans]\n",
    "\n",
    "# To generate before the txt file with the anat MRI:\n",
    "# cd /neurospin/acquisition/database/Prisma_fit \n",
    "# find -maxdepth 3 -name '*mprage*' -type d > /home/is153802/code/source-reconstruction/anat_mri.txt\n",
    "# chmod 777 /home/is153802/code/source-reconstruction/anat_mri.txt\n"
   ]
  },
  {
   "cell_type": "code",
   "execution_count": 78,
   "metadata": {},
   "outputs": [],
   "source": [
    "subjects = []\n",
    "for sub in subj: \n",
    "    index = sub.rfind(\"petit_prince/\")\n",
    "    subjects.append(sub[index+13:])\n",
    "subjects.remove('rt220104_rt220104')\n",
    "subjects.remove('ml100438_ml100438')\n",
    "subjects.remove('empty_room')\n",
    "subjects.append('ml_100438')\n",
    "subjects.append('rt_220104')\n",
    "# TODO figure out the ab73???\n",
    "subjects = [subject.replace('_','') for subject in subjects]"
   ]
  },
  {
   "cell_type": "code",
   "execution_count": 79,
   "metadata": {},
   "outputs": [],
   "source": [
    "list_scans_final = [scan for i, scan in enumerate(list_scans) if list_scans_subjects[i] in (subjects)]"
   ]
  },
  {
   "cell_type": "code",
   "execution_count": 80,
   "metadata": {},
   "outputs": [],
   "source": [
    "# For each subject:\n",
    "# Get their subset of scans\n",
    "# Sort it by date, and take the latest\n",
    "scan_to_move = []\n",
    "\n",
    "for sub in subjects:\n",
    "    list_scan_specific = [scan for i, scan in enumerate(list_scans_final) if scan[11:19] == sub]\n",
    "    # If no scan for the subject, skip it\n",
    "    if list_scan_specific == []:\n",
    "        continue\n",
    "    # print(f'Sub {sub} ! list {list_scan_specific}')\n",
    "    list_scan_specific.sort(reverse = True)\n",
    "\n",
    "\n",
    "    scan_to_move.append((list_scan_specific[0]))\n",
    "scan_to_move = [scan.replace('./','') for scan in scan_to_move]"
   ]
  },
  {
   "cell_type": "code",
   "execution_count": 83,
   "metadata": {},
   "outputs": [],
   "source": [
    "for scan in scan_to_move:\n",
    "    scan_path_specific = scan_path / scan\n",
    "\n",
    "    sub = scan[9:17]\n",
    "    bashCommand = f\"mkdir -p {output_folder} \"\n",
    "    process = subprocess.Popen(bashCommand.split(), stdout=subprocess.PIPE)\n",
    "    output, error = process.communicate()\n",
    "    bashCommand = f\"cp -r   {scan_path_specific} {output_folder/sub}\"\n",
    "    process = subprocess.Popen(bashCommand.split(), stdout=subprocess.PIPE)\n",
    "    output, error = process.communicate()"
   ]
  },
  {
   "cell_type": "code",
   "execution_count": null,
   "metadata": {},
   "outputs": [],
   "source": []
  },
  {
   "cell_type": "code",
   "execution_count": null,
   "metadata": {},
   "outputs": [],
   "source": []
  }
 ],
 "metadata": {
  "kernelspec": {
   "display_name": "Python 3.10.6 64-bit ('meg-masc')",
   "language": "python",
   "name": "python3"
  },
  "language_info": {
   "codemirror_mode": {
    "name": "ipython",
    "version": 3
   },
   "file_extension": ".py",
   "mimetype": "text/x-python",
   "name": "python",
   "nbconvert_exporter": "python",
   "pygments_lexer": "ipython3",
   "version": "3.10.6"
  },
  "orig_nbformat": 4,
  "vscode": {
   "interpreter": {
    "hash": "1541b2a7ce6718fb850c7e31854a9840c1a445a51449da7ae9469c30a41f28d5"
   }
  }
 },
 "nbformat": 4,
 "nbformat_minor": 2
}
