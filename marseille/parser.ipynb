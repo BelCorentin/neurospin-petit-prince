{
 "cells": [
  {
   "cell_type": "code",
   "execution_count": 3,
   "id": "16c31340",
   "metadata": {
    "scrolled": true
   },
   "outputs": [
    {
     "name": "stdout",
     "output_type": "stream",
     "text": [
      "Collecting fr-core-news-sm==3.3.0\n",
      "  Downloading https://github.com/explosion/spacy-models/releases/download/fr_core_news_sm-3.3.0/fr_core_news_sm-3.3.0-py3-none-any.whl (16.3 MB)\n",
      "     ━━━━━━━━━━━━━━━━━━━━━━━━━━━━━━━━━━━━━━━━ 16.3/16.3 MB 4.6 MB/s eta 0:00:00\n",
      "Requirement already satisfied: spacy<3.4.0,>=3.3.0.dev0 in /home/co/miniconda3/envs/spacy/lib/python3.10/site-packages (from fr-core-news-sm==3.3.0) (3.3.1)\n",
      "Requirement already satisfied: tqdm<5.0.0,>=4.38.0 in /home/co/.local/lib/python3.10/site-packages (from spacy<3.4.0,>=3.3.0.dev0->fr-core-news-sm==3.3.0) (4.64.1)\n",
      "Requirement already satisfied: preshed<3.1.0,>=3.0.2 in /home/co/miniconda3/envs/spacy/lib/python3.10/site-packages (from spacy<3.4.0,>=3.3.0.dev0->fr-core-news-sm==3.3.0) (3.0.6)\n",
      "Requirement already satisfied: srsly<3.0.0,>=2.4.3 in /home/co/miniconda3/envs/spacy/lib/python3.10/site-packages (from spacy<3.4.0,>=3.3.0.dev0->fr-core-news-sm==3.3.0) (2.4.3)\n",
      "Requirement already satisfied: pydantic!=1.8,!=1.8.1,<1.9.0,>=1.7.4 in /home/co/miniconda3/envs/spacy/lib/python3.10/site-packages (from spacy<3.4.0,>=3.3.0.dev0->fr-core-news-sm==3.3.0) (1.8.2)\n",
      "Requirement already satisfied: numpy>=1.15.0 in /home/co/miniconda3/envs/spacy/lib/python3.10/site-packages (from spacy<3.4.0,>=3.3.0.dev0->fr-core-news-sm==3.3.0) (1.23.5)\n",
      "Requirement already satisfied: setuptools in /home/co/miniconda3/envs/spacy/lib/python3.10/site-packages (from spacy<3.4.0,>=3.3.0.dev0->fr-core-news-sm==3.3.0) (65.6.3)\n",
      "Requirement already satisfied: pathy>=0.3.5 in /home/co/miniconda3/envs/spacy/lib/python3.10/site-packages (from spacy<3.4.0,>=3.3.0.dev0->fr-core-news-sm==3.3.0) (0.10.1)\n",
      "Requirement already satisfied: typer<0.5.0,>=0.3.0 in /home/co/miniconda3/envs/spacy/lib/python3.10/site-packages (from spacy<3.4.0,>=3.3.0.dev0->fr-core-news-sm==3.3.0) (0.4.1)\n",
      "Requirement already satisfied: thinc<8.1.0,>=8.0.14 in /home/co/miniconda3/envs/spacy/lib/python3.10/site-packages (from spacy<3.4.0,>=3.3.0.dev0->fr-core-news-sm==3.3.0) (8.0.15)\n",
      "Requirement already satisfied: packaging>=20.0 in /home/co/miniconda3/envs/spacy/lib/python3.10/site-packages (from spacy<3.4.0,>=3.3.0.dev0->fr-core-news-sm==3.3.0) (22.0)\n",
      "Requirement already satisfied: spacy-legacy<3.1.0,>=3.0.9 in /home/co/miniconda3/envs/spacy/lib/python3.10/site-packages (from spacy<3.4.0,>=3.3.0.dev0->fr-core-news-sm==3.3.0) (3.0.9)\n",
      "Requirement already satisfied: catalogue<2.1.0,>=2.0.6 in /home/co/miniconda3/envs/spacy/lib/python3.10/site-packages (from spacy<3.4.0,>=3.3.0.dev0->fr-core-news-sm==3.3.0) (2.0.7)\n",
      "Requirement already satisfied: jinja2 in /home/co/miniconda3/envs/spacy/lib/python3.10/site-packages (from spacy<3.4.0,>=3.3.0.dev0->fr-core-news-sm==3.3.0) (3.1.2)\n",
      "Requirement already satisfied: langcodes<4.0.0,>=3.2.0 in /home/co/miniconda3/envs/spacy/lib/python3.10/site-packages (from spacy<3.4.0,>=3.3.0.dev0->fr-core-news-sm==3.3.0) (3.3.0)\n",
      "Requirement already satisfied: murmurhash<1.1.0,>=0.28.0 in /home/co/miniconda3/envs/spacy/lib/python3.10/site-packages (from spacy<3.4.0,>=3.3.0.dev0->fr-core-news-sm==3.3.0) (1.0.7)\n",
      "Requirement already satisfied: spacy-loggers<2.0.0,>=1.0.0 in /home/co/miniconda3/envs/spacy/lib/python3.10/site-packages (from spacy<3.4.0,>=3.3.0.dev0->fr-core-news-sm==3.3.0) (1.0.1)\n",
      "Requirement already satisfied: blis<0.8.0,>=0.4.0 in /home/co/miniconda3/envs/spacy/lib/python3.10/site-packages (from spacy<3.4.0,>=3.3.0.dev0->fr-core-news-sm==3.3.0) (0.7.7)\n",
      "Requirement already satisfied: cymem<2.1.0,>=2.0.2 in /home/co/miniconda3/envs/spacy/lib/python3.10/site-packages (from spacy<3.4.0,>=3.3.0.dev0->fr-core-news-sm==3.3.0) (2.0.6)\n",
      "Requirement already satisfied: wasabi<1.1.0,>=0.9.1 in /home/co/miniconda3/envs/spacy/lib/python3.10/site-packages (from spacy<3.4.0,>=3.3.0.dev0->fr-core-news-sm==3.3.0) (0.9.1)\n",
      "Requirement already satisfied: requests<3.0.0,>=2.13.0 in /home/co/miniconda3/envs/spacy/lib/python3.10/site-packages (from spacy<3.4.0,>=3.3.0.dev0->fr-core-news-sm==3.3.0) (2.28.1)\n",
      "Requirement already satisfied: smart-open<7.0.0,>=5.2.1 in /home/co/miniconda3/envs/spacy/lib/python3.10/site-packages (from pathy>=0.3.5->spacy<3.4.0,>=3.3.0.dev0->fr-core-news-sm==3.3.0) (5.2.1)\n",
      "Requirement already satisfied: typing-extensions>=3.7.4.3 in /home/co/.local/lib/python3.10/site-packages (from pydantic!=1.8,!=1.8.1,<1.9.0,>=1.7.4->spacy<3.4.0,>=3.3.0.dev0->fr-core-news-sm==3.3.0) (4.4.0)\n",
      "Requirement already satisfied: charset-normalizer<3,>=2 in /home/co/.local/lib/python3.10/site-packages (from requests<3.0.0,>=2.13.0->spacy<3.4.0,>=3.3.0.dev0->fr-core-news-sm==3.3.0) (2.1.1)\n",
      "Requirement already satisfied: idna<4,>=2.5 in /home/co/miniconda3/envs/spacy/lib/python3.10/site-packages (from requests<3.0.0,>=2.13.0->spacy<3.4.0,>=3.3.0.dev0->fr-core-news-sm==3.3.0) (3.4)\n",
      "Requirement already satisfied: certifi>=2017.4.17 in /home/co/miniconda3/envs/spacy/lib/python3.10/site-packages (from requests<3.0.0,>=2.13.0->spacy<3.4.0,>=3.3.0.dev0->fr-core-news-sm==3.3.0) (2022.12.7)\n",
      "Requirement already satisfied: urllib3<1.27,>=1.21.1 in /home/co/miniconda3/envs/spacy/lib/python3.10/site-packages (from requests<3.0.0,>=2.13.0->spacy<3.4.0,>=3.3.0.dev0->fr-core-news-sm==3.3.0) (1.26.14)\n",
      "Requirement already satisfied: click<9.0.0,>=7.1.1 in /home/co/miniconda3/envs/spacy/lib/python3.10/site-packages (from typer<0.5.0,>=0.3.0->spacy<3.4.0,>=3.3.0.dev0->fr-core-news-sm==3.3.0) (8.0.4)\n",
      "Requirement already satisfied: MarkupSafe>=2.0 in /home/co/miniconda3/envs/spacy/lib/python3.10/site-packages (from jinja2->spacy<3.4.0,>=3.3.0.dev0->fr-core-news-sm==3.3.0) (2.1.1)\n",
      "Installing collected packages: fr-core-news-sm\n",
      "Successfully installed fr-core-news-sm-3.3.0\n",
      "\u001b[38;5;2m✔ Download and installation successful\u001b[0m\n",
      "You can now load the package via spacy.load('fr_core_news_sm')\n"
     ]
    },
    {
     "name": "stderr",
     "output_type": "stream",
     "text": [
      "[nltk_data] Downloading package benepar_fr2 to /home/co/nltk_data...\n",
      "[nltk_data]   Unzipping models/benepar_fr2.zip.\n"
     ]
    },
    {
     "ename": "ValueError",
     "evalue": "[E966] `nlp.add_pipe` now takes the string name of the registered component factory, not a callable component. Expected string, but got <benepar.integrations.spacy_plugin.BeneparComponent object at 0x7fe024f1add0> (name: 'None').\n\n- If you created your component with `nlp.create_pipe('name')`: remove nlp.create_pipe and call `nlp.add_pipe('name')` instead.\n\n- If you passed in a component like `TextCategorizer()`: call `nlp.add_pipe` with the string name instead, e.g. `nlp.add_pipe('textcat')`.\n\n- If you're using a custom component: Add the decorator `@Language.component` (for function components) or `@Language.factory` (for class components / factories) to your custom component and assign it a name, e.g. `@Language.component('your_name')`. You can then run `nlp.add_pipe('your_name')` to add it to the pipeline.",
     "output_type": "error",
     "traceback": [
      "\u001b[0;31m---------------------------------------------------------------------------\u001b[0m",
      "\u001b[0;31mValueError\u001b[0m                                Traceback (most recent call last)",
      "Cell \u001b[0;32mIn[3], line 75\u001b[0m\n\u001b[1;32m     72\u001b[0m                     opened \u001b[38;5;241m=\u001b[39m \u001b[38;5;241m0\u001b[39m\n\u001b[1;32m     73\u001b[0m         \u001b[38;5;28;01mreturn\u001b[39;00m labels\n\u001b[0;32m---> 75\u001b[0m const_parser \u001b[38;5;241m=\u001b[39m \u001b[43mConstituentParser\u001b[49m\u001b[43m(\u001b[49m\u001b[43m)\u001b[49m\n\u001b[1;32m     77\u001b[0m dep_parser \u001b[38;5;241m=\u001b[39m DependencyParser()\n\u001b[1;32m     79\u001b[0m sentence \u001b[38;5;241m=\u001b[39m \u001b[38;5;124m\"\u001b[39m\u001b[38;5;124mles petits chats de Mamie suivent la souris verte.\u001b[39m\u001b[38;5;124m\"\u001b[39m\n",
      "Cell \u001b[0;32mIn[3], line 55\u001b[0m, in \u001b[0;36mConstituentParser.__init__\u001b[0;34m(self)\u001b[0m\n\u001b[1;32m     53\u001b[0m benepar\u001b[38;5;241m.\u001b[39mdownload(ben_model)\n\u001b[1;32m     54\u001b[0m os\u001b[38;5;241m.\u001b[39menviron[\u001b[38;5;124m'\u001b[39m\u001b[38;5;124mPROTOCOL_BUFFERS_PYTHON_IMPLEMENTATION\u001b[39m\u001b[38;5;124m'\u001b[39m] \u001b[38;5;241m=\u001b[39m \u001b[38;5;124m'\u001b[39m\u001b[38;5;124mpython\u001b[39m\u001b[38;5;124m'\u001b[39m\n\u001b[0;32m---> 55\u001b[0m \u001b[38;5;28;43mself\u001b[39;49m\u001b[38;5;241;43m.\u001b[39;49m\u001b[43mnlp\u001b[49m\u001b[38;5;241;43m.\u001b[39;49m\u001b[43madd_pipe\u001b[49m\u001b[43m(\u001b[49m\u001b[43mbenepar\u001b[49m\u001b[38;5;241;43m.\u001b[39;49m\u001b[43mBeneparComponent\u001b[49m\u001b[43m(\u001b[49m\u001b[43mben_model\u001b[49m\u001b[43m)\u001b[49m\u001b[43m)\u001b[49m\n",
      "File \u001b[0;32m~/miniconda3/envs/spacy/lib/python3.10/site-packages/spacy/language.py:773\u001b[0m, in \u001b[0;36mLanguage.add_pipe\u001b[0;34m(self, factory_name, name, before, after, first, last, source, config, raw_config, validate)\u001b[0m\n\u001b[1;32m    771\u001b[0m     bad_val \u001b[38;5;241m=\u001b[39m \u001b[38;5;28mrepr\u001b[39m(factory_name)\n\u001b[1;32m    772\u001b[0m     err \u001b[38;5;241m=\u001b[39m Errors\u001b[38;5;241m.\u001b[39mE966\u001b[38;5;241m.\u001b[39mformat(component\u001b[38;5;241m=\u001b[39mbad_val, name\u001b[38;5;241m=\u001b[39mname)\n\u001b[0;32m--> 773\u001b[0m     \u001b[38;5;28;01mraise\u001b[39;00m \u001b[38;5;167;01mValueError\u001b[39;00m(err)\n\u001b[1;32m    774\u001b[0m name \u001b[38;5;241m=\u001b[39m name \u001b[38;5;28;01mif\u001b[39;00m name \u001b[38;5;129;01mis\u001b[39;00m \u001b[38;5;129;01mnot\u001b[39;00m \u001b[38;5;28;01mNone\u001b[39;00m \u001b[38;5;28;01melse\u001b[39;00m factory_name\n\u001b[1;32m    775\u001b[0m \u001b[38;5;28;01mif\u001b[39;00m name \u001b[38;5;129;01min\u001b[39;00m \u001b[38;5;28mself\u001b[39m\u001b[38;5;241m.\u001b[39mcomponent_names:\n",
      "\u001b[0;31mValueError\u001b[0m: [E966] `nlp.add_pipe` now takes the string name of the registered component factory, not a callable component. Expected string, but got <benepar.integrations.spacy_plugin.BeneparComponent object at 0x7fe024f1add0> (name: 'None').\n\n- If you created your component with `nlp.create_pipe('name')`: remove nlp.create_pipe and call `nlp.add_pipe('name')` instead.\n\n- If you passed in a component like `TextCategorizer()`: call `nlp.add_pipe` with the string name instead, e.g. `nlp.add_pipe('textcat')`.\n\n- If you're using a custom component: Add the decorator `@Language.component` (for function components) or `@Language.factory` (for class components / factories) to your custom component and assign it a name, e.g. `@Language.component('your_name')`. You can then run `nlp.add_pipe('your_name')` to add it to the pipeline."
     ]
    }
   ],
   "source": [
    "#pip install benepar\n",
    "#pip install protobuf==3.20.0\n",
    "\n",
    "import spacy\n",
    "import numpy as np\n",
    "\n",
    "class Parser():\n",
    "    \n",
    "    def __init__(self,):\n",
    "        model = 'fr_core_news_sm'\n",
    "        if not spacy.util.is_package(model):\n",
    "            spacy.cli.download(model)\n",
    "    \n",
    "        self.nlp = spacy.load(model)\n",
    "    \n",
    "    def process(self, sentence):\n",
    "        doc = self.nlp(sentence)\n",
    "        assert len(list(doc.sents)) == 1\n",
    "        sent = list(doc.sents)[0]\n",
    "        return sent\n",
    "        \n",
    "class DependencyParser(Parser):\n",
    "    def parse(self, sentence):\n",
    "        sent = self.process(sentence)\n",
    "        closeds = []\n",
    "        for current in range(1, len(sent)+1):\n",
    "            closed = 0\n",
    "            for position, word in enumerate(sent): # [:current]\n",
    "                closed += self._is_closed(word, current)\n",
    "            closeds.append(closed)\n",
    "        \n",
    "        closing = np.r_[np.diff(closeds), closeds[-1]]\n",
    "        return list(zip(sent, closing))\n",
    "    \n",
    "    def _is_closed(self, node, position):\n",
    "        if node.i > position:\n",
    "            return False\n",
    "        \n",
    "        for child in node.children:\n",
    "            if child.i > position:\n",
    "                return False\n",
    "            if not self._is_closed(child, position):\n",
    "                return False\n",
    "\n",
    "        return True\n",
    "\n",
    "class ConstituentParser(Parser):\n",
    "    def __init__(self):\n",
    "        import os\n",
    "        import benepar\n",
    "        super().__init__()\n",
    "        ben_model = 'benepar_fr2'\n",
    "        benepar.download(ben_model)\n",
    "        os.environ['PROTOCOL_BUFFERS_PYTHON_IMPLEMENTATION'] = 'python'\n",
    "        self.nlp.add_pipe(benepar.BeneparComponent(ben_model))\n",
    "        \n",
    "    def parse(self, sentence):\n",
    "        \n",
    "        sent = self.process(sentence)\n",
    "        tree = sent._.parse_string\n",
    "        opening = 0\n",
    "        labels = []\n",
    "        for here in sent._.parse_string.split('('):\n",
    "            split = here.split()\n",
    "            if len(split):\n",
    "                opening += 1\n",
    "                closing = 0\n",
    "                if len(split)>1:\n",
    "                    word = split[1].strip(')')\n",
    "                    closing = split[1].count(')')\n",
    "                    labels.append((word, closing))\n",
    "                    opened = 0\n",
    "        return labels\n",
    "\n",
    "#const_parser = ConstituentParser()\n",
    "\n",
    "dep_parser = DependencyParser()\n",
    "\n",
    "sentence = \"les petits chats de Mamie suivent la souris verte.\"\n",
    "\n",
    "#print(const_parser.parse(sentence))\n",
    "\n",
    "print(dep_parser.parse(sentence))"
   ]
  },
  {
   "cell_type": "code",
   "execution_count": 5,
   "id": "75eed6ff",
   "metadata": {},
   "outputs": [
    {
     "name": "stdout",
     "output_type": "stream",
     "text": [
      "[(les, 0), (petits, 1), (chats, 2), (de, 0), (Mamie, 1), (suivent, 0), (la, 2), (souris, 2), (verte, 0), (., 10)]\n"
     ]
    }
   ],
   "source": [
    "dep_parser = DependencyParser()\n",
    "\n",
    "sentence = \"les petits chats de Mamie suivent la souris verte.\"\n",
    "\n",
    "print(dep_parser.parse(sentence))"
   ]
  },
  {
   "cell_type": "code",
   "execution_count": null,
   "id": "f69c7944",
   "metadata": {},
   "outputs": [],
   "source": []
  }
 ],
 "metadata": {
  "kernelspec": {
   "display_name": "Python 3 (ipykernel)",
   "language": "python",
   "name": "python3"
  },
  "language_info": {
   "codemirror_mode": {
    "name": "ipython",
    "version": 3
   },
   "file_extension": ".py",
   "mimetype": "text/x-python",
   "name": "python",
   "nbconvert_exporter": "python",
   "pygments_lexer": "ipython3",
   "version": "3.10.9"
  }
 },
 "nbformat": 4,
 "nbformat_minor": 5
}
