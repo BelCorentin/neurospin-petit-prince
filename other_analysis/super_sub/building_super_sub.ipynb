{
 "cells": [
  {
   "cell_type": "markdown",
   "id": "524f26bb",
   "metadata": {},
   "source": [
    "# Extracting MEG data from each subject in order to build a generalized one containing all epochs\n",
    "\n",
    "\n",
    "## Purpose\n",
    "Save time and run quick analysis\n"
   ]
  },
  {
   "cell_type": "markdown",
   "id": "146fd96c",
   "metadata": {},
   "source": [
    "# Setup\n",
    "\n",
    "## Library import\n",
    "We import all the required Python libraries"
   ]
  },
  {
   "cell_type": "code",
   "execution_count": 4,
   "id": "f35fcd5f",
   "metadata": {},
   "outputs": [],
   "source": [
    "from dataset import get_path, get_subjects, epoch_data\n",
    "import mne_bids\n",
    "from pathlib import Path\n",
    "import pandas as pd\n",
    "import numpy as np\n",
    "import mne\n",
    "\n",
    "import matplotlib.pyplot as plt\n",
    "import matplotlib"
   ]
  },
  {
   "cell_type": "code",
   "execution_count": null,
   "id": "db896d10",
   "metadata": {},
   "outputs": [],
   "source": [
    "report = mne.Report()\n",
    "path = get_path('LPP_read')\n",
    "subjects = get_subjects(path)\n",
    "RUN = 9\n",
    "task=\"read\"\n",
    "\n",
    "print(\"\\nSubjects for which the decoding will be tested: \\n\")\n",
    "print(subjects)\n",
    "\n",
    "epochs_all = []\n",
    "for subject in subjects:  # Ignore the first one\n",
    "    \n",
    "    epochs = concac_runs(subject, task, path)\n",
    "    \n",
    "    \n",
    "    "
   ]
  },
  {
   "cell_type": "code",
   "execution_count": null,
   "id": "4574b463",
   "metadata": {},
   "outputs": [],
   "source": []
  }
 ],
 "metadata": {
  "kernelspec": {
   "display_name": "Python 3 (ipykernel)",
   "language": "python",
   "name": "python3"
  },
  "language_info": {
   "codemirror_mode": {
    "name": "ipython",
    "version": 3
   },
   "file_extension": ".py",
   "mimetype": "text/x-python",
   "name": "python",
   "nbconvert_exporter": "python",
   "pygments_lexer": "ipython3",
   "version": "3.10.6"
  }
 },
 "nbformat": 4,
 "nbformat_minor": 5
}
