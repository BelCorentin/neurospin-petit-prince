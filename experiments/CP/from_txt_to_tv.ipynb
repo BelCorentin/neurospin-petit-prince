{
 "cells": [
  {
   "cell_type": "code",
   "execution_count": null,
   "metadata": {},
   "outputs": [],
   "source": []
  }
 ],
 "metadata": {
  "kernelspec": {
   "display_name": "Python 3",
   "language": "python",
   "name": "python3"
  },
  "language_info": {
   "name": "python",
   "version": "3.10.6 (main, Sep  1 2022, 15:28:40) [GCC 11.2.0]"
  },
  "orig_nbformat": 4,
  "vscode": {
   "interpreter": {
    "hash": "4ed0148f968d4a59a5a07496187e409d6ae12ee87539a1e33893efad21591df9"
   }
  }
 },
 "nbformat": 4,
 "nbformat_minor": 2
}
