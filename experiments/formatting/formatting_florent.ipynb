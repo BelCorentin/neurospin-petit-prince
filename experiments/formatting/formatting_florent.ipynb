{
 "cells": [
  {
   "attachments": {},
   "cell_type": "markdown",
   "metadata": {},
   "source": [
    "# Run this cell to regenerate the v2 files that are used in the rsvp.py script"
   ]
  },
  {
   "cell_type": "code",
   "execution_count": null,
   "metadata": {},
   "outputs": [],
   "source": [
    "# Just set these parameters:\n",
    "# Normally, for the LPP read script, we use:\n",
    "# black_screen = 0.05\n",
    "# word_duration = 0.25\n",
    "# end_of_sentence_delay = 0.5\n",
    "# word_bs = black_screen + word_duration\n",
    "# end_of_chapter_duration = 2\n",
    "\n",
    "# Here, I setup a bit more word duration"
   ]
  },
  {
   "cell_type": "code",
   "execution_count": null,
   "metadata": {},
   "outputs": [],
   "source": [
    "import pandas as pd\n",
    "import numpy as np\n",
    "\n",
    "black_screen = 0.10\n",
    "word_duration = 0.5\n",
    "end_of_sentence_delay = 0.8\n",
    "word_bs = black_screen + word_duration\n",
    "end_of_chapter_duration = 2\n",
    "\n",
    "dict_end_chapter = {\n",
    "    1:[433,1087],\n",
    "    2:[737,1400],\n",
    "    3:[710,1345],\n",
    "    4:[1090,1357],\n",
    "    5:[753],\n",
    "    6:[716,951,1271,1555],\n",
    "    7:[200,1278],\n",
    "    8:[95,703],\n",
    "    9:[1357],\n",
    "}\n",
    "\n",
    "for i in np.arange(1,10):\n",
    "    with open(f'./text_lpp/new_test_run{i}.txt') as temp_file:\n",
    "\n",
    "        lpp = temp_file.read().splitlines() \n",
    "\n",
    "\n",
    "    df = pd.DataFrame(lpp)\n",
    "    next_cap = False\n",
    "\n",
    "    for index, row in df.iterrows():\n",
    "        # First word\n",
    "        if index == 0:\n",
    "            df.at[index,0] = str(row.str.capitalize()[0])\n",
    "        if next_cap == True:\n",
    "            df.at[index,0] = str(row.str.capitalize()[0])\n",
    "        if str(row).__contains__('.') or str(row).__contains__('?') or str(row).__contains__('!'):\n",
    "            next_cap = True\n",
    "        else:\n",
    "            next_cap = False\n",
    "\n",
    "    df.columns = ['word']\n",
    "    end = (df.shape[0] * word_bs) + 0.7\n",
    "    df['onset'] = np.arange(0.7, end, word_bs)\n",
    "    df['duration'] = np.ones(df.shape[0]) * word_duration\n",
    "    \n",
    "    \n",
    "    \n",
    "    df.to_csv(f'./txt_clean/run{i}_clean.tsv', sep='\\t', index=False)\n",
    "    \n",
    "    \n",
    "    # Create a dataframe where the duration of the black screen after the end of the sentence is longer.\n",
    "\n",
    "    df_sentence_end = pd.DataFrame(columns = df.columns, data = copy.deepcopy(df.values))\n",
    "    for index, row in df.iterrows():\n",
    "        if str(row.word).__contains__('.') or str(row.word).__contains__('?') or str(row.word).__contains__('!'):\n",
    "            # df_sentence_end.at[index, 'onset'] = row.onset + end_of_sentence_delay # Add the delay from this line\n",
    "            # And for every next onset\n",
    "            for j in np.arange(index+1, df.shape[0]):\n",
    "                df_sentence_end.at[j, 'onset'] = df_sentence_end.at[j, 'onset'] + end_of_sentence_delay\n",
    "                ww = df_sentence_end.at[j, 'word']\n",
    "        if index+2 in dict_end_chapter[i]:\n",
    "            print(f'Adding 2s after the word {row.word} \\n')\n",
    "            for j in np.arange(index+1, df.shape[0]):\n",
    "                df_sentence_end.at[j, 'onset'] = df_sentence_end.at[j, 'onset'] + end_of_chapter_duration\n",
    "                ww = df_sentence_end.at[j, 'word']\n",
    "\n",
    "    \n",
    "    df_sentence_end.to_csv(f'./v2/run{i}_v2_0.25_0.5.tsv',sep='\\t',index=False)\n",
    "    \n"
   ]
  }
 ],
 "metadata": {
  "kernelspec": {
   "display_name": "Python 3",
   "language": "python",
   "name": "python3"
  },
  "language_info": {
   "name": "python",
   "version": "3.10.6 (main, Mar 10 2023, 10:55:28) [GCC 11.3.0]"
  },
  "orig_nbformat": 4,
  "vscode": {
   "interpreter": {
    "hash": "e7370f93d1d0cde622a1f8e1c04877d8463912d04d973331ad4851f04de6915a"
   }
  }
 },
 "nbformat": 4,
 "nbformat_minor": 2
}
