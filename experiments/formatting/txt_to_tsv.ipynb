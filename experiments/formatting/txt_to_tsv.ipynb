{
 "cells": [
  {
   "cell_type": "markdown",
   "id": "095af5d6",
   "metadata": {},
   "source": [
    "# Formatting the LPP txt files\n",
    "\n",
    "In this notebook, we'll go from the raw LPP txt files, to a word-based csv file, doing the following steps:\n",
    "- Tokenizing the natural language by words\n",
    "- Remove the blank space between a word and :\n",
    "- Adding capital letters at the beginning of a sentence\n",
    "- Remove the blank space between - and the following word (dialogue) "
   ]
  },
  {
   "cell_type": "markdown",
   "id": "27eb6c7c",
   "metadata": {},
   "source": [
    "### Bash commands preprocessing"
   ]
  },
  {
   "cell_type": "code",
   "execution_count": null,
   "id": "7287a3a3",
   "metadata": {},
   "outputs": [],
   "source": [
    "# For :\n",
    "!perl -pi.bak -e 's/ :/:/g' *.txt\n",
    "\n",
    "# For dash\n",
    "!perl -pi.bak -e 's/- /-/g' *.txt\n",
    "\n",
    "# Word tokenizing\n",
    "!for f in `seq 1 9` ; do sed 's/ /\\n/g' text_french_run$f.txt | awk 'length($0) > 0 ' > new_test_run$f.txt; done\n"
   ]
  },
  {
   "cell_type": "markdown",
   "id": "061c536e",
   "metadata": {},
   "source": [
    "### Python commands tokenizing"
   ]
  },
  {
   "cell_type": "code",
   "execution_count": 100,
   "id": "84676693",
   "metadata": {},
   "outputs": [],
   "source": [
    "import pandas as pd\n",
    "import numpy as np\n",
    "import copy"
   ]
  },
  {
   "cell_type": "code",
   "execution_count": 131,
   "id": "9ac651ac",
   "metadata": {},
   "outputs": [],
   "source": [
    "for i in np.arange(1,10):\n",
    "    with open(f'./text_lpp/new_test_run{i}.txt') as temp_file:\n",
    "\n",
    "        lpp = temp_file.read().splitlines() \n",
    "\n",
    "\n",
    "    df = pd.DataFrame(lpp)\n",
    "    next_cap = False\n",
    "\n",
    "    for index, word in df.iterrows():\n",
    "        # First word\n",
    "        if index == 0:\n",
    "            df.at[index,0] = str(word.str.capitalize()[0])\n",
    "        if next_cap == True:\n",
    "            df.at[index,0] = str(word.str.capitalize()[0])\n",
    "        if str(row.word).__contains__('.') or str(row.word).__contains__('?') or str(row.word).__contains__('!'):\n",
    "            next_cap = True\n",
    "        else:\n",
    "            next_cap = False\n",
    "\n",
    "    df.columns = ['word']\n",
    "    end = (df.shape[0]*0.35)+0.7\n",
    "    df['onset'] = np.arange(0.7,end,0.35)\n",
    "    df['duration'] = np.ones(df.shape[0])*0.3\n",
    "    \n",
    "    df.to_csv(f'./txt_clean/run{i}_clean.tsv',sep='\\t',index=False)\n",
    "    \n",
    "    \n",
    "    # Create a dataframe where the duration of the black screen after the end of the sentence is longer.\n",
    "\n",
    "    df_sentence_end = pd.DataFrame(columns = df.columns, data = copy.deepcopy(df.values))\n",
    "    end_of_sentence_delay = 0.2\n",
    "\n",
    "    for index, row in df.iterrows():\n",
    "        if str(row.word).__contains__('.') or str(row.word).__contains__('?') or str(row.word).__contains__('!'):\n",
    "            # df_sentence_end.at[index, 'onset'] = row.onset + end_of_sentence_delay # Add the delay from this line\n",
    "            # And for every next onset\n",
    "            for j in np.arange(index+1, df.shape[0]):\n",
    "                df_sentence_end.at[j, 'onset'] = df_sentence_end.at[j, 'onset'] + end_of_sentence_delay\n",
    "                ww = df_sentence_end.at[j, 'word']\n",
    "\n",
    "    \n",
    "    df_sentence_end.to_csv(f'./txt_clean_end_of_sentence/run{i}_clean_sentence.tsv',sep='\\t',index=False)\n",
    "\n",
    "        \n",
    "     "
   ]
  },
  {
   "cell_type": "code",
   "execution_count": null,
   "id": "b5fcb8e8",
   "metadata": {},
   "outputs": [],
   "source": []
  }
 ],
 "metadata": {
  "kernelspec": {
   "display_name": "Python 3 (ipykernel)",
   "language": "python",
   "name": "python3"
  },
  "language_info": {
   "codemirror_mode": {
    "name": "ipython",
    "version": 3
   },
   "file_extension": ".py",
   "mimetype": "text/x-python",
   "name": "python",
   "nbconvert_exporter": "python",
   "pygments_lexer": "ipython3",
   "version": "3.10.6"
  }
 },
 "nbformat": 4,
 "nbformat_minor": 5
}
