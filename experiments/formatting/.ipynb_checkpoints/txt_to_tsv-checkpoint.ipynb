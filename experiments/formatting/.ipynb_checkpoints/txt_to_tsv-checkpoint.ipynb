{
 "cells": [
  {
   "cell_type": "markdown",
   "id": "50c3d482",
   "metadata": {},
   "source": [
    "# Formatting the LPP txt files\n",
    "\n",
    "In this notebook, we'll go from the raw LPP txt files, to a word-based csv file, doing the following steps:\n",
    "- Tokenizing the natural language by words\n",
    "- Remove the blank space between a word and :\n",
    "- Adding capital letters at the beginning of a sentence\n",
    "- Remove the blank space between - and the following word (dialogue) "
   ]
  },
  {
   "cell_type": "markdown",
   "id": "b461143b",
   "metadata": {},
   "source": [
    "### Bash commands preprocessing"
   ]
  },
  {
   "cell_type": "code",
   "execution_count": null,
   "id": "d7e4c1d0",
   "metadata": {},
   "outputs": [],
   "source": [
    "# For :\n",
    "!perl -pi.bak -e 's/ :/:/g' *.txt\n",
    "\n",
    "# For dash\n",
    "!perl -pi.bak -e 's/- /-/g' *.txt\n",
    "\n",
    "# Word tokenizing\n",
    "for f in `seq 1 9` ; do sed 's/ /\\n/g' text_french_run$f.txt | awk 'length($0) > 0 ' > new_test_run$f.txt; done\n"
   ]
  },
  {
   "cell_type": "markdown",
   "id": "77af5bd3",
   "metadata": {},
   "source": [
    "### Python commands tokenizing"
   ]
  },
  {
   "cell_type": "code",
   "execution_count": 2,
   "id": "03ea110f",
   "metadata": {},
   "outputs": [],
   "source": [
    "import pandas as pd"
   ]
  },
  {
   "cell_type": "code",
   "execution_count": 50,
   "id": "3df4ef60",
   "metadata": {},
   "outputs": [
    {
     "ename": "IndexError",
     "evalue": "iloc cannot enlarge its target object",
     "output_type": "error",
     "traceback": [
      "\u001b[0;31m---------------------------------------------------------------------------\u001b[0m",
      "\u001b[0;31mIndexError\u001b[0m                                Traceback (most recent call last)",
      "Cell \u001b[0;32mIn [50], line 15\u001b[0m\n\u001b[1;32m     13\u001b[0m     word\u001b[38;5;241m.\u001b[39miloc[index] \u001b[38;5;241m=\u001b[39m word\u001b[38;5;241m.\u001b[39mstr\u001b[38;5;241m.\u001b[39mcapitalize()\n\u001b[1;32m     14\u001b[0m \u001b[38;5;28;01mif\u001b[39;00m next_cap \u001b[38;5;241m==\u001b[39m \u001b[38;5;28;01mTrue\u001b[39;00m:\n\u001b[0;32m---> 15\u001b[0m     \u001b[43mword\u001b[49m\u001b[38;5;241;43m.\u001b[39;49m\u001b[43miloc\u001b[49m\u001b[43m[\u001b[49m\u001b[43mindex\u001b[49m\u001b[43m]\u001b[49m \u001b[38;5;241m=\u001b[39m word\u001b[38;5;241m.\u001b[39mstr\u001b[38;5;241m.\u001b[39mcapitalize()\n\u001b[1;32m     17\u001b[0m \u001b[38;5;28;01mif\u001b[39;00m \u001b[38;5;28mstr\u001b[39m(word)\u001b[38;5;241m.\u001b[39m\u001b[38;5;21m__contains__\u001b[39m(\u001b[38;5;124m'\u001b[39m\u001b[38;5;124m.\u001b[39m\u001b[38;5;124m'\u001b[39m):\n\u001b[1;32m     18\u001b[0m     next_cap \u001b[38;5;241m=\u001b[39m \u001b[38;5;28;01mTrue\u001b[39;00m\n",
      "File \u001b[0;32m~/.local/lib/python3.10/site-packages/pandas/core/indexing.py:816\u001b[0m, in \u001b[0;36m_LocationIndexer.__setitem__\u001b[0;34m(self, key, value)\u001b[0m\n\u001b[1;32m    814\u001b[0m     key \u001b[38;5;241m=\u001b[39m com\u001b[38;5;241m.\u001b[39mapply_if_callable(key, \u001b[38;5;28mself\u001b[39m\u001b[38;5;241m.\u001b[39mobj)\n\u001b[1;32m    815\u001b[0m indexer \u001b[38;5;241m=\u001b[39m \u001b[38;5;28mself\u001b[39m\u001b[38;5;241m.\u001b[39m_get_setitem_indexer(key)\n\u001b[0;32m--> 816\u001b[0m \u001b[38;5;28;43mself\u001b[39;49m\u001b[38;5;241;43m.\u001b[39;49m\u001b[43m_has_valid_setitem_indexer\u001b[49m\u001b[43m(\u001b[49m\u001b[43mkey\u001b[49m\u001b[43m)\u001b[49m\n\u001b[1;32m    818\u001b[0m iloc \u001b[38;5;241m=\u001b[39m \u001b[38;5;28mself\u001b[39m \u001b[38;5;28;01mif\u001b[39;00m \u001b[38;5;28mself\u001b[39m\u001b[38;5;241m.\u001b[39mname \u001b[38;5;241m==\u001b[39m \u001b[38;5;124m\"\u001b[39m\u001b[38;5;124miloc\u001b[39m\u001b[38;5;124m\"\u001b[39m \u001b[38;5;28;01melse\u001b[39;00m \u001b[38;5;28mself\u001b[39m\u001b[38;5;241m.\u001b[39mobj\u001b[38;5;241m.\u001b[39miloc\n\u001b[1;32m    819\u001b[0m iloc\u001b[38;5;241m.\u001b[39m_setitem_with_indexer(indexer, value, \u001b[38;5;28mself\u001b[39m\u001b[38;5;241m.\u001b[39mname)\n",
      "File \u001b[0;32m~/.local/lib/python3.10/site-packages/pandas/core/indexing.py:1519\u001b[0m, in \u001b[0;36m_iLocIndexer._has_valid_setitem_indexer\u001b[0;34m(self, indexer)\u001b[0m\n\u001b[1;32m   1517\u001b[0m \u001b[38;5;28;01melif\u001b[39;00m is_integer(i):\n\u001b[1;32m   1518\u001b[0m     \u001b[38;5;28;01mif\u001b[39;00m i \u001b[38;5;241m>\u001b[39m\u001b[38;5;241m=\u001b[39m \u001b[38;5;28mlen\u001b[39m(ax):\n\u001b[0;32m-> 1519\u001b[0m         \u001b[38;5;28;01mraise\u001b[39;00m \u001b[38;5;167;01mIndexError\u001b[39;00m(\u001b[38;5;124m\"\u001b[39m\u001b[38;5;124miloc cannot enlarge its target object\u001b[39m\u001b[38;5;124m\"\u001b[39m)\n\u001b[1;32m   1520\u001b[0m \u001b[38;5;28;01melif\u001b[39;00m \u001b[38;5;28misinstance\u001b[39m(i, \u001b[38;5;28mdict\u001b[39m):\n\u001b[1;32m   1521\u001b[0m     \u001b[38;5;28;01mraise\u001b[39;00m \u001b[38;5;167;01mIndexError\u001b[39;00m(\u001b[38;5;124m\"\u001b[39m\u001b[38;5;124miloc cannot enlarge its target object\u001b[39m\u001b[38;5;124m\"\u001b[39m)\n",
      "\u001b[0;31mIndexError\u001b[0m: iloc cannot enlarge its target object"
     ]
    }
   ],
   "source": [
    "with open('./text_lpp/new_test_run1.txt') as temp_file:\n",
    "    \n",
    "    lpp = temp_file.read().splitlines() \n",
    "\n",
    "    \n",
    "df = pd.DataFrame(lpp)\n",
    "\n",
    "next_cap = False\n",
    "\n",
    "for index, word in df.iterrows():\n",
    "    # First word\n",
    "    if index == 0:\n",
    "        word.loc[index] = word.str.capitalize()\n",
    "    if next_cap == True:\n",
    "        word.loc[index] = word.str.capitalize()\n",
    "\n",
    "    if str(word).__contains__('.'):\n",
    "        next_cap = True\n",
    "    else:\n",
    "        next_cap = False\n",
    "        continue"
   ]
  },
  {
   "cell_type": "code",
   "execution_count": 49,
   "id": "5db95614",
   "metadata": {},
   "outputs": [
    {
     "name": "stdout",
     "output_type": "stream",
     "text": [
      "               0\n",
      "0        lorsque\n",
      "1        j'avais\n",
      "2            six\n",
      "3           ans,\n",
      "4           j'ai\n",
      "5            vu,\n",
      "6            une\n",
      "7          fois,\n",
      "8            une\n",
      "9     magnifique\n",
      "10        image,\n",
      "11          dans\n",
      "12            un\n",
      "13         livre\n",
      "14           sur\n",
      "15            la\n",
      "16         forêt\n",
      "17        vierge\n",
      "18           qui\n",
      "19    s'appelait\n",
      "20     histoires\n",
      "21       vécues.\n",
      "22            ça\n",
      "23  représentait\n",
      "24            un\n",
      "25       serpent\n",
      "26           boa\n",
      "27           qui\n",
      "28       avalait\n",
      "29            un\n",
      "30        fauve.\n",
      "31         voilà\n",
      "32            la\n",
      "33         copie\n",
      "34            du\n",
      "35       dessin.\n",
      "36            on\n",
      "37        disait\n",
      "38          dans\n",
      "39            le\n",
      "40        livre:\n",
      "41          \"les\n",
      "42      serpents\n",
      "43          boas\n",
      "44       avalent\n",
      "45          leur\n",
      "46         proie\n",
      "47          tout\n",
      "48      entière,\n",
      "49          sans\n"
     ]
    }
   ],
   "source": [
    "print(df.head(50))"
   ]
  },
  {
   "cell_type": "code",
   "execution_count": null,
   "id": "dfa10183",
   "metadata": {},
   "outputs": [],
   "source": []
  }
 ],
 "metadata": {
  "kernelspec": {
   "display_name": "Python 3 (ipykernel)",
   "language": "python",
   "name": "python3"
  },
  "language_info": {
   "codemirror_mode": {
    "name": "ipython",
    "version": 3
   },
   "file_extension": ".py",
   "mimetype": "text/x-python",
   "name": "python",
   "nbconvert_exporter": "python",
   "pygments_lexer": "ipython3",
   "version": "3.10.6"
  }
 },
 "nbformat": 4,
 "nbformat_minor": 5
}
