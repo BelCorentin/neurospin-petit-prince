{
 "cells": [
  {
   "cell_type": "code",
   "execution_count": 9,
   "id": "017ddce9",
   "metadata": {},
   "outputs": [],
   "source": [
    "\n",
    "# Neuro\n",
    "import mne\n",
    "import mne_bids\n",
    "\n",
    "# ML/Data\n",
    "import numpy as np\n",
    "import pandas as pd\n",
    "from sklearn.model_selection import KFold, cross_val_predict\n",
    "from sklearn.pipeline import make_pipeline\n",
    "from sklearn.preprocessing import StandardScaler, RobustScaler\n",
    "from sklearn.linear_model import RidgeCV\n",
    "from wordfreq import zipf_frequency\n",
    "from Levenshtein import editops\n",
    "import spacy\n",
    "\n",
    "# Tools\n",
    "import matplotlib.pyplot as plt\n",
    "from pathlib import Path\n",
    "import matplotlib\n",
    "\n",
    "matplotlib.use(\"Agg\")\n",
    "mne.set_log_level(False)\n",
    "nlp = spacy.load(\"fr_core_news_sm\")\n",
    "\n",
    "\n",
    "class PATHS:\n",
    "    data = Path(\"/media/co/My Passport/to_osf\")\n",
    "\n",
    "\n",
    "TASK = \"listen\"\n",
    "\n",
    "####################################################\n",
    "####################################################\n",
    "# Functions\n",
    "####################################################\n",
    "####################################################\n",
    "\n",
    "\n",
    "# Epoching and decoding\n",
    "def epoch_data(subject, run_id, baseline=True):\n",
    "\n",
    "    bids_path = mne_bids.BIDSPath(\n",
    "        subject=subject,\n",
    "        session=\"01\",\n",
    "        task=TASK,\n",
    "        datatype=\"meg\",\n",
    "        root=PATHS.data,\n",
    "        run=run_id,\n",
    "    )\n",
    "\n",
    "    raw = mne_bids.read_raw_bids(bids_path)\n",
    "    raw.pick_types(meg=True, stim=True)\n",
    "    raw.load_data()\n",
    "    raw = raw.filter(0.5, 20)\n",
    "\n",
    "    event_file = PATHS.data / f\"sub-{bids_path.subject}\"\n",
    "    event_file = event_file / f\"ses-{bids_path.session}\"\n",
    "    event_file = event_file / \"meg\"\n",
    "    event_file = str(event_file / f\"sub-{bids_path.subject}\")\n",
    "    event_file += f\"_ses-{bids_path.session}\"\n",
    "    event_file += f\"_task-{bids_path.task}\"\n",
    "    event_file += f\"_run-{bids_path.run}_events.tsv\"\n",
    "    assert Path(event_file).exists()\n",
    "    # read events\n",
    "    meta = pd.read_csv(event_file, sep=\"\\t\")\n",
    "    events = mne.find_events(\n",
    "        raw, stim_channel=\"STI101\", shortest_event=1, min_duration=0.0010001\n",
    "    )\n",
    "\n",
    "    # match events and metadata\n",
    "    word_events = events[events[:, 2] > 1]\n",
    "    meg_delta = np.round(np.diff(word_events[:, 0] / raw.info[\"sfreq\"]))\n",
    "    meta_delta = np.round(np.diff(meta.onset.values))\n",
    "\n",
    "    print(events)\n",
    "    print(meta.onset.values)\n",
    "    i, j = match_list(meg_delta, meta_delta)\n",
    "    print(f\"Len i : {len(i)} for run {run_id}\")\n",
    "    assert len(i) > 500\n",
    "    events = word_events[i]\n",
    "    # events = events[i]  # events = words_events[i]\n",
    "    meta = meta.iloc[j].reset_index()\n",
    "    if baseline:\n",
    "        epochs = mne.Epochs(\n",
    "            raw,\n",
    "            events,\n",
    "            metadata=meta,\n",
    "            tmin=-0.3,\n",
    "            tmax=0.8,\n",
    "            decim=10,\n",
    "            baseline=(-0.3, 0.0),\n",
    "        )\n",
    "    else:\n",
    "        epochs = mne.Epochs(raw, events, metadata=meta, tmin=-0.3, tmax=0.8, decim=10)\n",
    "    data = epochs.get_data()\n",
    "    epochs.load_data()\n",
    "\n",
    "    # Scaling the data\n",
    "    n_words, n_chans, n_times = data.shape\n",
    "    vec = data.transpose(0, 2, 1).reshape(-1, n_chans)\n",
    "    scaler = RobustScaler()\n",
    "    idx = np.arange(len(vec))\n",
    "    np.random.shuffle(idx)\n",
    "    vec = scaler.fit(vec[idx[:20_000]]).transform(vec)\n",
    "    # To try: sigmas = 7 or 15\n",
    "    sigma = 7\n",
    "    vec = np.clip(vec, -sigma, sigma)\n",
    "    epochs._data[:, :, :] = (\n",
    "        scaler.inverse_transform(vec)\n",
    "        .reshape(n_words, n_times, n_chans)\n",
    "        .transpose(0, 2, 1)\n",
    "    )\n",
    "\n",
    "    return epochs\n",
    "\n",
    "\n",
    "def decod(X, y):\n",
    "    assert len(X) == len(y)\n",
    "    # define data\n",
    "    model = make_pipeline(StandardScaler(), RidgeCV(alphas=np.logspace(-3, 8, 10)))\n",
    "    cv = KFold(5, shuffle=True, random_state=0)\n",
    "\n",
    "    # fit predict\n",
    "    n, n_chans, n_times = X.shape\n",
    "    R = np.zeros(n_times)\n",
    "    for t in range(n_times):\n",
    "        print(\".\", end=\"\")\n",
    "        y_pred = cross_val_predict(model, X[:, :, t], y, cv=cv)\n",
    "        R[t] = np.mean(correlate(y, y_pred))\n",
    "    return R\n",
    "\n",
    "\n",
    "# Function to correlate\n",
    "def correlate(X, Y):\n",
    "    if X.ndim == 1:\n",
    "        X = np.array(X)[:, None]\n",
    "    if Y.ndim == 1:\n",
    "        Y = np.array(Y)[:, None]\n",
    "    X = X - X.mean(0)\n",
    "    Y = Y - Y.mean(0)\n",
    "\n",
    "    SX2 = (X**2).sum(0) ** 0.5\n",
    "    SY2 = (Y**2).sum(0) ** 0.5\n",
    "    SXY = (X * Y).sum(0)\n",
    "    return SXY / (SX2 * SY2)\n",
    "\n",
    "\n",
    "# Utils\n",
    "def match_list(A, B, on_replace=\"delete\"):\n",
    "    \"\"\"Match two lists of different sizes and return corresponding indice\n",
    "    Parameters\n",
    "    ----------\n",
    "    A: list | array, shape (n,)\n",
    "        The values of the first list\n",
    "    B: list | array: shape (m, )\n",
    "        The values of the second list\n",
    "    Returns\n",
    "    -------\n",
    "    A_idx : array\n",
    "        The indices of the A list that match those of the B\n",
    "    B_idx : array\n",
    "        The indices of the B list that match those of the A\n",
    "    \"\"\"\n",
    "\n",
    "    if not isinstance(A, str):\n",
    "        unique = np.unique(np.r_[A, B])\n",
    "        label_encoder = dict((k, v) for v, k in enumerate(unique))\n",
    "\n",
    "        def int_to_unicode(array: np.ndarray) -> str:\n",
    "            return \"\".join([str(chr(label_encoder[ii])) for ii in array])\n",
    "\n",
    "        A = int_to_unicode(A)\n",
    "        B = int_to_unicode(B)\n",
    "\n",
    "    changes = editops(A, B)\n",
    "    B_sel = np.arange(len(B)).astype(float)\n",
    "    A_sel = np.arange(len(A)).astype(float)\n",
    "    for type_, val_a, val_b in changes:\n",
    "        if type_ == \"insert\":\n",
    "            B_sel[val_b] = np.nan\n",
    "        elif type_ == \"delete\":\n",
    "            A_sel[val_a] = np.nan\n",
    "        elif on_replace == \"delete\":\n",
    "            # print('delete replace')\n",
    "            A_sel[val_a] = np.nan\n",
    "            B_sel[val_b] = np.nan\n",
    "        elif on_replace == \"keep\":\n",
    "            # print('keep replace')\n",
    "            pass\n",
    "        else:\n",
    "            raise NotImplementedError\n",
    "    B_sel = B_sel[np.where(~np.isnan(B_sel))]\n",
    "    A_sel = A_sel[np.where(~np.isnan(A_sel))]\n",
    "    assert len(B_sel) == len(A_sel)\n",
    "    return A_sel.astype(int), B_sel.astype(int)\n",
    "\n",
    "\n",
    "def get_subjects():\n",
    "    subjects = pd.read_csv(str(PATHS.data) + \"/participants.tsv\", sep=\"\\t\")\n",
    "    subjects = subjects.participant_id.apply(lambda x: x.split(\"-\")[1]).values\n",
    "    # subjects = np.delete(subjects, subjects.shape[0]-1)\n",
    "    # Let's sort this array before outputting it!\n",
    "    int_subjects = np.sort([int(subj) for subj in subjects])\n",
    "    subjects = [str(subj) for subj in int_subjects]\n",
    "\n",
    "    return subjects\n",
    "\n"
   ]
  },
  {
   "cell_type": "code",
   "execution_count": 2,
   "id": "508c4100",
   "metadata": {},
   "outputs": [],
   "source": [
    "import mne\n",
    "mne.set_log_level(False)"
   ]
  },
  {
   "cell_type": "code",
   "execution_count": 10,
   "id": "71c62413",
   "metadata": {},
   "outputs": [],
   "source": [
    "subjects = get_subjects()"
   ]
  },
  {
   "cell_type": "code",
   "execution_count": 11,
   "id": "0bb3c100",
   "metadata": {},
   "outputs": [],
   "source": [
    "subject = subjects[0]"
   ]
  },
  {
   "cell_type": "code",
   "execution_count": 12,
   "id": "0bd48674",
   "metadata": {},
   "outputs": [],
   "source": [
    "def get_epochs(subject, run_id):\n",
    "    epochs = epoch_data(subject, run_id)\n",
    "\n",
    "    df = []\n",
    "    for entry in epochs.metadata.itertuples():\n",
    "        df.append(eval(entry.trial_type))\n",
    "    df = pd.DataFrame(df)\n",
    "\n",
    "    epochs.metadata['kind'] = df.kind.values\n",
    "    epochs.metadata['word'] = df.word.values\n",
    "    return epochs"
   ]
  },
  {
   "cell_type": "code",
   "execution_count": null,
   "id": "c5ece419",
   "metadata": {
    "scrolled": true
   },
   "outputs": [
    {
     "name": "stdout",
     "output_type": "stream",
     "text": [
      "1\n"
     ]
    },
    {
     "name": "stderr",
     "output_type": "stream",
     "text": [
      "/tmp/ipykernel_159786/3433012602.py:51: RuntimeWarning: This file contains raw Internal Active Shielding data. It may be distorted. Elekta recommends it be run through MaxFilter to produce reliable results. Consider closing the file and running MaxFilter on the data.\n",
      "  raw = mne_bids.read_raw_bids(bids_path)\n",
      "/tmp/ipykernel_159786/3433012602.py:51: RuntimeWarning: The unit for channel(s) STI001, STI002, STI003, STI004, STI005, STI006, STI007, STI008, STI009, STI010, STI011, STI012, STI013, STI014, STI015, STI016, STI101, STI201, STI301 has changed from V to NA.\n",
      "  raw = mne_bids.read_raw_bids(bids_path)\n"
     ]
    },
    {
     "name": "stdout",
     "output_type": "stream",
     "text": [
      "[[ 86949      0      1]\n",
      " [ 90164      0    128]\n",
      " [ 90534      0    128]\n",
      " ...\n",
      " [697143      0    128]\n",
      " [697303      0    128]\n",
      " [700533      0      1]]\n",
      "[  3.05   3.42   3.53 ... 609.87 610.04 610.2 ]\n",
      "Len i : 1612 for run 1\n",
      "2\n"
     ]
    },
    {
     "name": "stderr",
     "output_type": "stream",
     "text": [
      "/tmp/ipykernel_159786/3433012602.py:51: RuntimeWarning: This file contains raw Internal Active Shielding data. It may be distorted. Elekta recommends it be run through MaxFilter to produce reliable results. Consider closing the file and running MaxFilter on the data.\n",
      "  raw = mne_bids.read_raw_bids(bids_path)\n",
      "/tmp/ipykernel_159786/3433012602.py:51: RuntimeWarning: The unit for channel(s) STI001, STI002, STI003, STI004, STI005, STI006, STI007, STI008, STI009, STI010, STI011, STI012, STI013, STI014, STI015, STI016, STI101, STI201, STI301 has changed from V to NA.\n",
      "  raw = mne_bids.read_raw_bids(bids_path)\n"
     ]
    },
    {
     "name": "stdout",
     "output_type": "stream",
     "text": [
      "[[ 22381      0      1]\n",
      " [ 25633      0    128]\n",
      " [ 25743      0    128]\n",
      " ...\n",
      " [665741      0    128]\n",
      " [666261      0    128]\n",
      " [669465      0      1]]\n",
      "[  3.11   3.22   3.52 ... 643.13 643.23 643.75]\n",
      "Len i : 1767 for run 2\n",
      "3\n"
     ]
    }
   ],
   "source": [
    "epochs = []\n",
    "for run_id in range(1, 10):\n",
    "    print(run_id)\n",
    "    epo = get_epochs(subject, run_id)\n",
    "    epochs.append(epo)\n"
   ]
  },
  {
   "cell_type": "code",
   "execution_count": 61,
   "id": "535a5ef7",
   "metadata": {},
   "outputs": [
    {
     "name": "stderr",
     "output_type": "stream",
     "text": [
      "/tmp/ipykernel_3589880/1392339547.py:3: RuntimeWarning: Concatenation of Annotations within Epochs is not supported yet. All annotations will be dropped.\n",
      "  epochs = mne.concatenate_epochs(epochs)\n"
     ]
    }
   ],
   "source": [
    "for epo in epochs:\n",
    "    epo.info['dev_head_t'] = epochs[1].info['dev_head_t']\n",
    "epochs = mne.concatenate_epochs(epochs)"
   ]
  },
  {
   "cell_type": "code",
   "execution_count": null,
   "id": "660a6a0d",
   "metadata": {},
   "outputs": [],
   "source": [
    "%matplotlib inline"
   ]
  },
  {
   "cell_type": "code",
   "execution_count": null,
   "id": "22134c99",
   "metadata": {},
   "outputs": [],
   "source": [
    "import spacy\n",
    "import numpy as np\n",
    "import pandas as pd\n",
    "import matplotlib.pyplot as plt\n",
    "from wordfreq import zipf_frequency"
   ]
  },
  {
   "cell_type": "code",
   "execution_count": null,
   "id": "d8dddf6a",
   "metadata": {},
   "outputs": [],
   "source": [
    "nlp = spacy.load('fr_core_news_sm')"
   ]
  },
  {
   "cell_type": "code",
   "execution_count": null,
   "id": "73273413",
   "metadata": {},
   "outputs": [],
   "source": []
  },
  {
   "cell_type": "code",
   "execution_count": null,
   "id": "d93afa37",
   "metadata": {},
   "outputs": [],
   "source": [
    "evoked = epochs.apply_baseline((-.3, 0)).average(method='median')"
   ]
  },
  {
   "cell_type": "code",
   "execution_count": null,
   "id": "20a8477e",
   "metadata": {},
   "outputs": [],
   "source": [
    "evoked.plot(spatial_colors=True);"
   ]
  },
  {
   "cell_type": "code",
   "execution_count": 51,
   "id": "f94ad09e",
   "metadata": {},
   "outputs": [],
   "source": [
    "\n",
    "\n",
    "def decod(X, y):\n",
    "    assert len(X) == len(y)\n",
    "    # define data\n",
    "    model = make_pipeline(StandardScaler(), RidgeCV(alphas=np.logspace(-3, 8, 10)))\n",
    "    cv = KFold(5, shuffle=True, random_state=0)\n",
    "\n",
    "    # fit predict\n",
    "    n, n_chans, n_times = X.shape\n",
    "    R = np.zeros((n_times, y.shape[1]))\n",
    "    for t in range(n_times):\n",
    "        print(\".\", end=\"\")\n",
    "        y_pred = cross_val_predict(model, X[:, :, t], y, cv=cv)\n",
    "        R[t] = correlate(y, y_pred)\n",
    "    return R\n",
    "\n"
   ]
  },
  {
   "cell_type": "code",
   "execution_count": 74,
   "id": "a285cb9c",
   "metadata": {},
   "outputs": [],
   "source": [
    "epo = epochs['kind==\"word\"']\n",
    "X = epo.get_data()"
   ]
  },
  {
   "cell_type": "code",
   "execution_count": 75,
   "id": "a645e5d1",
   "metadata": {},
   "outputs": [],
   "source": [
    "# \n",
    "y = epo.metadata.word.apply(lambda w: zipf_frequency(w, 'fr'))"
   ]
  },
  {
   "cell_type": "code",
   "execution_count": 76,
   "id": "8cce5cc6",
   "metadata": {},
   "outputs": [
    {
     "name": "stdout",
     "output_type": "stream",
     "text": [
      "..............................................................................................................."
     ]
    }
   ],
   "source": [
    "R = decod(X, y)"
   ]
  },
  {
   "cell_type": "code",
   "execution_count": 78,
   "id": "4198ad43",
   "metadata": {},
   "outputs": [
    {
     "data": {
      "text/plain": [
       "<matplotlib.collections.PolyCollection at 0x7f92cdbdbf10>"
      ]
     },
     "execution_count": 78,
     "metadata": {},
     "output_type": "execute_result"
    },
    {
     "data": {
      "image/png": "[encoded data removed]",
      "text/plain": [
       "<Figure size 640x480 with 1 Axes>"
      ]
     },
     "metadata": {},
     "output_type": "display_data"
    }
   ],
   "source": [
    "plt.fill_between(epochs.times, R)"
   ]
  },
  {
   "cell_type": "code",
   "execution_count": 83,
   "id": "1f7dce87",
   "metadata": {},
   "outputs": [],
   "source": [
    "embeddings = epo.metadata.word.apply(lambda word: nlp(word).vector).values\n",
    "embeddings = np.array([emb for emb in embeddings])\n",
    "y = embeddings"
   ]
  },
  {
   "cell_type": "code",
   "execution_count": 84,
   "id": "4b2c8819",
   "metadata": {},
   "outputs": [
    {
     "name": "stdout",
     "output_type": "stream",
     "text": [
      "..............................................................................................................."
     ]
    }
   ],
   "source": [
    "R_vec = decod(X, y)"
   ]
  },
  {
   "cell_type": "code",
   "execution_count": 88,
   "id": "e37b4937",
   "metadata": {},
   "outputs": [
    {
     "data": {
      "text/plain": [
       "array([-0.0039374 , -0.00212043, -0.00384568, -0.01180736, -0.01240747,\n",
       "       -0.01201316, -0.00145694, -0.00325352, -0.01377342, -0.0143854 ,\n",
       "       -0.01300523, -0.01270523, -0.01330044, -0.01417169, -0.01479769,\n",
       "       -0.01445683, -0.00434414, -0.01205684, -0.00826758, -0.00680486,\n",
       "       -0.01227258, -0.01356388, -0.01403546, -0.0109828 , -0.01433413,\n",
       "       -0.01328135, -0.01295778, -0.01319754, -0.0139065 , -0.014765  ,\n",
       "       -0.01476525, -0.0144617 , -0.00687936,  0.00343256,  0.00483441,\n",
       "        0.00599267,  0.00568084,  0.00778892,  0.00740816,  0.00863707,\n",
       "        0.01168367,  0.0137721 ,  0.03082564,  0.02589343,  0.03151944,\n",
       "        0.03255992,  0.03606594,  0.03613398,  0.03177271,  0.03460587,\n",
       "        0.03570415,  0.03289054,  0.03302877,  0.03394472,  0.03643865,\n",
       "        0.03980222,  0.04096797,  0.04000284,  0.03824926,  0.03600583,\n",
       "        0.03550571,  0.03854799,  0.03983657,  0.03903063,  0.04053826,\n",
       "        0.04131452,  0.04178352,  0.04094206,  0.03904281,  0.03788747,\n",
       "        0.03750814,  0.03795271,  0.04053071,  0.04225792,  0.04292696,\n",
       "        0.04225818,  0.04084132,  0.0401576 ,  0.03806499,  0.03801855,\n",
       "        0.03939506,  0.04024896,  0.0397862 ,  0.03861647,  0.03887023,\n",
       "        0.04129167,  0.04167804,  0.03970711,  0.03810955,  0.03633135,\n",
       "        0.03759046,  0.03825349,  0.03681735,  0.03540449,  0.03512408,\n",
       "        0.0349632 ,  0.03604398,  0.03800744,  0.03826689,  0.03662254,\n",
       "        0.03511555,  0.0344479 ,  0.03362564,  0.03346152,  0.03163356,\n",
       "        0.03103544,  0.03287082,  0.03090305,  0.02853022,  0.02931871,\n",
       "        0.02672418])"
      ]
     },
     "execution_count": 88,
     "metadata": {},
     "output_type": "execute_result"
    }
   ],
   "source": [
    "R_vec"
   ]
  },
  {
   "cell_type": "code",
   "execution_count": 90,
   "id": "0b0bd15b",
   "metadata": {},
   "outputs": [
    {
     "data": {
      "text/plain": [
       "[<matplotlib.lines.Line2D at 0x7f92cac07970>]"
      ]
     },
     "execution_count": 90,
     "metadata": {},
     "output_type": "execute_result"
    },
    {
     "data": {
      "image/png": "[encoded data removed]",
      "text/plain": [
       "<Figure size 640x480 with 1 Axes>"
      ]
     },
     "metadata": {},
     "output_type": "display_data"
    }
   ],
   "source": [
    "plt.plot(epochs.times, R_vec)"
   ]
  }
 ],
 "metadata": {
  "kernelspec": {
   "display_name": "Python 3 (ipykernel)",
   "language": "python",
   "name": "python3"
  },
  "language_info": {
   "codemirror_mode": {
    "name": "ipython",
    "version": 3
   },
   "file_extension": ".py",
   "mimetype": "text/x-python",
   "name": "python",
   "nbconvert_exporter": "python",
   "pygments_lexer": "ipython3",
   "version": "3.10.4"
  }
 },
 "nbformat": 4,
 "nbformat_minor": 5
}
