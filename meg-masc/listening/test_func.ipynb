{
 "cells": [
  {
   "cell_type": "code",
   "execution_count": 1,
   "id": "28a0030c",
   "metadata": {},
   "outputs": [],
   "source": [
    "from utils import *\n",
    "\n",
    "from plot import *\n",
    "\n",
    "from dataset import *"
   ]
  },
  {
   "cell_type": "code",
   "execution_count": 2,
   "id": "edf330ba",
   "metadata": {},
   "outputs": [],
   "source": [
    "path = get_path('LPP_read')\n",
    "\n",
    "subjects = get_subjects(path)\n",
    "\n",
    "subject = subjects[0]"
   ]
  },
  {
   "cell_type": "code",
   "execution_count": 3,
   "id": "cb084fbb",
   "metadata": {},
   "outputs": [
    {
     "name": "stdout",
     "output_type": "stream",
     "text": [
      ".Running the script on RAW data:\n",
      "run 01, subject: 1\n",
      "Opening raw data file /home/is153802/workspace_LPP/data/MEG/LPP/BIDS_lecture/sub-1/ses-01/meg/sub-1_ses-01_task-listen_run-01_meg.fif...\n",
      "    Read a total of 13 projection items:\n",
      "        grad_ssp_upright.fif : PCA-v1 (1 x 306)  idle\n",
      "        grad_ssp_upright.fif : PCA-v2 (1 x 306)  idle\n",
      "        grad_ssp_upright.fif : PCA-v3 (1 x 306)  idle\n",
      "        grad_ssp_upright.fif : PCA-v4 (1 x 306)  idle\n",
      "        grad_ssp_upright.fif : PCA-v5 (1 x 306)  idle\n",
      "        mag_ssp_upright.fif : PCA-v1 (1 x 306)  idle\n",
      "        mag_ssp_upright.fif : PCA-v2 (1 x 306)  idle\n",
      "        mag_ssp_upright.fif : PCA-v3 (1 x 306)  idle\n",
      "        mag_ssp_upright.fif : PCA-v4 (1 x 306)  idle\n",
      "        mag_ssp_upright.fif : PCA-v5 (1 x 306)  idle\n",
      "        mag_ssp_upright.fif : PCA-v6 (1 x 306)  idle\n",
      "        mag_ssp_upright.fif : PCA-v7 (1 x 306)  idle\n",
      "        mag_ssp_upright.fif : PCA-v8 (1 x 306)  idle\n",
      "    Range : 24000 ... 535999 =     24.000 ...   535.999 secs\n",
      "Ready.\n",
      "Reading events from /home/is153802/workspace_LPP/data/MEG/LPP/BIDS_lecture/sub-1/ses-01/meg/sub-1_ses-01_task-listen_run-01_events.tsv.\n",
      "Reading channel info from /home/is153802/workspace_LPP/data/MEG/LPP/BIDS_lecture/sub-1/ses-01/meg/sub-1_ses-01_task-listen_run-01_channels.tsv.\n",
      "Using 4 HPI coils: 293 307 314 321 Hz\n",
      "Not fully anonymizing info - keeping his_id, sex, and hand info\n",
      "Reading 0 ... 511999  =      0.000 ...   511.999 secs...\n"
     ]
    },
    {
     "name": "stderr",
     "output_type": "stream",
     "text": [
      "/media/cb271805/272a9f9d-f140-48d6-b390-094ccc29aae0/workspace-LPP/code/neurospin-petit-prince/meg-masc/listening/dataset.py:55: RuntimeWarning: This file contains raw Internal Active Shielding data. It may be distorted. Elekta recommends it be run through MaxFilter to produce reliable results. Consider closing the file and running MaxFilter on the data.\n",
      "  raw = mne_bids.read_raw_bids(bids_path)\n",
      "/media/cb271805/272a9f9d-f140-48d6-b390-094ccc29aae0/workspace-LPP/code/neurospin-petit-prince/meg-masc/listening/dataset.py:55: RuntimeWarning: Omitted 4 annotation(s) that were outside data range.\n",
      "  raw = mne_bids.read_raw_bids(bids_path)\n",
      "/media/cb271805/272a9f9d-f140-48d6-b390-094ccc29aae0/workspace-LPP/code/neurospin-petit-prince/meg-masc/listening/dataset.py:55: RuntimeWarning: The unit for channel(s) STI001, STI002, STI003, STI004, STI005, STI006, STI007, STI008, STI009, STI010, STI011, STI012, STI013, STI014, STI015, STI016, STI101, STI201, STI301 has changed from V to NA.\n",
      "  raw = mne_bids.read_raw_bids(bids_path)\n"
     ]
    },
    {
     "name": "stdout",
     "output_type": "stream",
     "text": [
      "1466 events found\n",
      "Event IDs: [ 1  2  3  4  5  6  7  8  9 10 11 12 13 14 15]\n",
      "Adding metadata with 6 columns\n",
      "1407 matching events found\n",
      "Applying baseline correction (mode: mean)\n",
      "Created an SSP operator (subspace dimension = 13)\n",
      "13 projection items activated\n"
     ]
    },
    {
     "name": "stderr",
     "output_type": "stream",
     "text": [
      "/media/cb271805/272a9f9d-f140-48d6-b390-094ccc29aae0/workspace-LPP/code/neurospin-petit-prince/meg-masc/listening/dataset.py:93: RuntimeWarning: The measurement information indicates a low-pass frequency of 330.0 Hz. The decim=10 parameter will result in a sampling frequency of 100.0 Hz, which can cause aliasing artifacts.\n",
      "  epochs = mne.Epochs(\n"
     ]
    },
    {
     "ename": "RuntimeError",
     "evalue": "By default, MNE does not load data into main memory to conserve resources. adding, dropping, or reordering channels requires epochs data to be loaded. Use preload=True (or string) in the constructor or epochs.load_data().",
     "output_type": "error",
     "traceback": [
      "\u001b[0;31m---------------------------------------------------------------------------\u001b[0m",
      "\u001b[0;31mRuntimeError\u001b[0m                              Traceback (most recent call last)",
      "Cell \u001b[0;32mIn [3], line 1\u001b[0m\n\u001b[0;32m----> 1\u001b[0m epochs \u001b[38;5;241m=\u001b[39m concac_runs(subject, \u001b[38;5;124m'\u001b[39m\u001b[38;5;124mread\u001b[39m\u001b[38;5;124m'\u001b[39m, \u001b[38;5;28mfilter\u001b[39m \u001b[38;5;241m=\u001b[39m \u001b[38;5;28;01mFalse\u001b[39;00m, path \u001b[38;5;241m=\u001b[39m path)\n",
      "File \u001b[0;32m/media/cb271805/272a9f9d-f140-48d6-b390-094ccc29aae0/workspace-LPP/code/neurospin-petit-prince/meg-masc/listening/dataset.py:136\u001b[0m, in \u001b[0;36mconcac_runs\u001b[0;34m(subject, task, filter, path, RUN)\u001b[0m\n\u001b[1;32m    134\u001b[0m \u001b[38;5;28;01mfor\u001b[39;00m run_id \u001b[38;5;129;01min\u001b[39;00m \u001b[38;5;28mrange\u001b[39m(\u001b[38;5;241m1\u001b[39m, RUN \u001b[38;5;241m+\u001b[39m \u001b[38;5;241m1\u001b[39m):\n\u001b[1;32m    135\u001b[0m     \u001b[38;5;28mprint\u001b[39m(\u001b[38;5;124m\"\u001b[39m\u001b[38;5;124m.\u001b[39m\u001b[38;5;124m\"\u001b[39m, end\u001b[38;5;241m=\u001b[39m\u001b[38;5;124m\"\u001b[39m\u001b[38;5;124m\"\u001b[39m)\n\u001b[0;32m--> 136\u001b[0m     epo \u001b[38;5;241m=\u001b[39m \u001b[43mepoch_data\u001b[49m\u001b[43m(\u001b[49m\u001b[43msubject\u001b[49m\u001b[43m,\u001b[49m\u001b[43m \u001b[49m\u001b[38;5;124;43m\"\u001b[39;49m\u001b[38;5;132;43;01m%.2i\u001b[39;49;00m\u001b[38;5;124;43m\"\u001b[39;49m\u001b[43m \u001b[49m\u001b[38;5;241;43m%\u001b[39;49m\u001b[43m \u001b[49m\u001b[43mrun_id\u001b[49m\u001b[43m,\u001b[49m\u001b[43m \u001b[49m\u001b[43mtask\u001b[49m\u001b[43m,\u001b[49m\u001b[43m \u001b[49m\u001b[43mpath\u001b[49m\u001b[43m,\u001b[49m\u001b[43m \u001b[49m\u001b[38;5;28;43mfilter\u001b[39;49m\u001b[43m)\u001b[49m\n\u001b[1;32m    137\u001b[0m     epo\u001b[38;5;241m.\u001b[39mmetadata[\u001b[38;5;124m\"\u001b[39m\u001b[38;5;124mlabel\u001b[39m\u001b[38;5;124m\"\u001b[39m] \u001b[38;5;241m=\u001b[39m \u001b[38;5;124mf\u001b[39m\u001b[38;5;124m\"\u001b[39m\u001b[38;5;124mrun_\u001b[39m\u001b[38;5;132;01m{\u001b[39;00mrun_id\u001b[38;5;132;01m}\u001b[39;00m\u001b[38;5;124m\"\u001b[39m\n\u001b[1;32m    138\u001b[0m     epochs\u001b[38;5;241m.\u001b[39mappend(epo)\n",
      "File \u001b[0;32m/media/cb271805/272a9f9d-f140-48d6-b390-094ccc29aae0/workspace-LPP/code/neurospin-petit-prince/meg-masc/listening/dataset.py:97\u001b[0m, in \u001b[0;36mepoch_data\u001b[0;34m(subject, run_id, task, path, filter)\u001b[0m\n\u001b[1;32m     91\u001b[0m     meta \u001b[38;5;241m=\u001b[39m meta\u001b[38;5;241m.\u001b[39miloc[j]\u001b[38;5;241m.\u001b[39mreset_index()\n\u001b[1;32m     93\u001b[0m epochs \u001b[38;5;241m=\u001b[39m mne\u001b[38;5;241m.\u001b[39mEpochs(\n\u001b[1;32m     94\u001b[0m         raw, events, metadata\u001b[38;5;241m=\u001b[39mmeta, tmin\u001b[38;5;241m=\u001b[39m\u001b[38;5;241m-\u001b[39m\u001b[38;5;241m0.3\u001b[39m, tmax\u001b[38;5;241m=\u001b[39m\u001b[38;5;241m0.8\u001b[39m, decim\u001b[38;5;241m=\u001b[39m\u001b[38;5;241m10\u001b[39m, baseline\u001b[38;5;241m=\u001b[39m(\u001b[38;5;241m-\u001b[39m\u001b[38;5;241m0.3\u001b[39m, \u001b[38;5;241m0.0\u001b[39m)\n\u001b[1;32m     95\u001b[0m     )\n\u001b[0;32m---> 97\u001b[0m epochs \u001b[38;5;241m=\u001b[39m \u001b[43mepochs\u001b[49m\u001b[38;5;241;43m.\u001b[39;49m\u001b[43mpick_types\u001b[49m\u001b[43m(\u001b[49m\u001b[43mmeg\u001b[49m\u001b[38;5;241;43m=\u001b[39;49m\u001b[38;5;28;43;01mTrue\u001b[39;49;00m\u001b[43m,\u001b[49m\u001b[43m \u001b[49m\u001b[43mstim\u001b[49m\u001b[38;5;241;43m=\u001b[39;49m\u001b[38;5;28;43;01mFalse\u001b[39;49;00m\u001b[43m,\u001b[49m\u001b[43m \u001b[49m\u001b[43mmisc\u001b[49m\u001b[38;5;241;43m=\u001b[39;49m\u001b[38;5;28;43;01mFalse\u001b[39;49;00m\u001b[43m)\u001b[49m\n\u001b[1;32m     98\u001b[0m data \u001b[38;5;241m=\u001b[39m epochs\u001b[38;5;241m.\u001b[39mget_data()\n\u001b[1;32m     99\u001b[0m epochs\u001b[38;5;241m.\u001b[39mload_data()\n",
      "File \u001b[0;32m<decorator-gen-45>:12\u001b[0m, in \u001b[0;36mpick_types\u001b[0;34m(self, meg, eeg, stim, eog, ecg, emg, ref_meg, misc, resp, chpi, exci, ias, syst, seeg, dipole, gof, bio, ecog, fnirs, csd, dbs, temperature, gsr, include, exclude, selection, verbose)\u001b[0m\n",
      "File \u001b[0;32m~/.pyenv/versions/meg-masc/lib/python3.10/site-packages/mne/channels/channels.py:628\u001b[0m, in \u001b[0;36mUpdateChannelsMixin.pick_types\u001b[0;34m(self, meg, eeg, stim, eog, ecg, emg, ref_meg, misc, resp, chpi, exci, ias, syst, seeg, dipole, gof, bio, ecog, fnirs, csd, dbs, temperature, gsr, include, exclude, selection, verbose)\u001b[0m\n\u001b[1;32m    600\u001b[0m \u001b[38;5;124;03m\"\"\"Pick some channels by type and names.\u001b[39;00m\n\u001b[1;32m    601\u001b[0m \n\u001b[1;32m    602\u001b[0m \u001b[38;5;124;03mParameters\u001b[39;00m\n\u001b[0;32m   (...)\u001b[0m\n\u001b[1;32m    618\u001b[0m \u001b[38;5;124;03m.. versionadded:: 0.9.0\u001b[39;00m\n\u001b[1;32m    619\u001b[0m \u001b[38;5;124;03m\"\"\"\u001b[39;00m\n\u001b[1;32m    620\u001b[0m idx \u001b[38;5;241m=\u001b[39m pick_types(\n\u001b[1;32m    621\u001b[0m     \u001b[38;5;28mself\u001b[39m\u001b[38;5;241m.\u001b[39minfo, meg\u001b[38;5;241m=\u001b[39mmeg, eeg\u001b[38;5;241m=\u001b[39meeg, stim\u001b[38;5;241m=\u001b[39mstim, eog\u001b[38;5;241m=\u001b[39meog, ecg\u001b[38;5;241m=\u001b[39mecg, emg\u001b[38;5;241m=\u001b[39memg,\n\u001b[1;32m    622\u001b[0m     ref_meg\u001b[38;5;241m=\u001b[39mref_meg, misc\u001b[38;5;241m=\u001b[39mmisc, resp\u001b[38;5;241m=\u001b[39mresp, chpi\u001b[38;5;241m=\u001b[39mchpi, exci\u001b[38;5;241m=\u001b[39mexci,\n\u001b[0;32m   (...)\u001b[0m\n\u001b[1;32m    625\u001b[0m     exclude\u001b[38;5;241m=\u001b[39mexclude, selection\u001b[38;5;241m=\u001b[39mselection, temperature\u001b[38;5;241m=\u001b[39mtemperature,\n\u001b[1;32m    626\u001b[0m     gsr\u001b[38;5;241m=\u001b[39mgsr)\n\u001b[0;32m--> 628\u001b[0m \u001b[38;5;28;43mself\u001b[39;49m\u001b[38;5;241;43m.\u001b[39;49m\u001b[43m_pick_drop_channels\u001b[49m\u001b[43m(\u001b[49m\u001b[43midx\u001b[49m\u001b[43m)\u001b[49m\n\u001b[1;32m    630\u001b[0m \u001b[38;5;66;03m# remove dropped channel types from reject and flat\u001b[39;00m\n\u001b[1;32m    631\u001b[0m \u001b[38;5;28;01mif\u001b[39;00m \u001b[38;5;28mgetattr\u001b[39m(\u001b[38;5;28mself\u001b[39m, \u001b[38;5;124m'\u001b[39m\u001b[38;5;124mreject\u001b[39m\u001b[38;5;124m'\u001b[39m, \u001b[38;5;28;01mNone\u001b[39;00m) \u001b[38;5;129;01mis\u001b[39;00m \u001b[38;5;129;01mnot\u001b[39;00m \u001b[38;5;28;01mNone\u001b[39;00m:\n\u001b[1;32m    632\u001b[0m     \u001b[38;5;66;03m# use list(self.reject) to avoid RuntimeError for changing\u001b[39;00m\n\u001b[1;32m    633\u001b[0m     \u001b[38;5;66;03m# dictionary size during iteration\u001b[39;00m\n",
      "File \u001b[0;32m<decorator-gen-48>:12\u001b[0m, in \u001b[0;36m_pick_drop_channels\u001b[0;34m(self, idx, verbose)\u001b[0m\n",
      "File \u001b[0;32m~/.pyenv/versions/meg-masc/lib/python3.10/site-packages/mne/channels/channels.py:802\u001b[0m, in \u001b[0;36mUpdateChannelsMixin._pick_drop_channels\u001b[0;34m(self, idx, verbose)\u001b[0m\n\u001b[1;32m    800\u001b[0m         _check_preload(\u001b[38;5;28mself\u001b[39m, \u001b[38;5;124mf\u001b[39m\u001b[38;5;124m'\u001b[39m\u001b[38;5;132;01m{\u001b[39;00mmsg\u001b[38;5;132;01m}\u001b[39;00m\u001b[38;5;124m after calling .apply_proj()\u001b[39m\u001b[38;5;124m'\u001b[39m)\n\u001b[1;32m    801\u001b[0m \u001b[38;5;28;01melse\u001b[39;00m:\n\u001b[0;32m--> 802\u001b[0m     \u001b[43m_check_preload\u001b[49m\u001b[43m(\u001b[49m\u001b[38;5;28;43mself\u001b[39;49m\u001b[43m,\u001b[49m\u001b[43m \u001b[49m\u001b[43mmsg\u001b[49m\u001b[43m)\u001b[49m\n\u001b[1;32m    804\u001b[0m \u001b[38;5;28;01mif\u001b[39;00m \u001b[38;5;28mgetattr\u001b[39m(\u001b[38;5;28mself\u001b[39m, \u001b[38;5;124m'\u001b[39m\u001b[38;5;124mpicks\u001b[39m\u001b[38;5;124m'\u001b[39m, \u001b[38;5;28;01mNone\u001b[39;00m) \u001b[38;5;129;01mis\u001b[39;00m \u001b[38;5;129;01mnot\u001b[39;00m \u001b[38;5;28;01mNone\u001b[39;00m:\n\u001b[1;32m    805\u001b[0m     \u001b[38;5;28mself\u001b[39m\u001b[38;5;241m.\u001b[39mpicks \u001b[38;5;241m=\u001b[39m \u001b[38;5;28mself\u001b[39m\u001b[38;5;241m.\u001b[39mpicks[idx]\n",
      "File \u001b[0;32m~/.pyenv/versions/meg-masc/lib/python3.10/site-packages/mne/utils/check.py:282\u001b[0m, in \u001b[0;36m_check_preload\u001b[0;34m(inst, msg)\u001b[0m\n\u001b[1;32m    280\u001b[0m name \u001b[38;5;241m=\u001b[39m \u001b[38;5;124m\"\u001b[39m\u001b[38;5;124mepochs\u001b[39m\u001b[38;5;124m\"\u001b[39m \u001b[38;5;28;01mif\u001b[39;00m \u001b[38;5;28misinstance\u001b[39m(inst, BaseEpochs) \u001b[38;5;28;01melse\u001b[39;00m \u001b[38;5;124m'\u001b[39m\u001b[38;5;124mraw\u001b[39m\u001b[38;5;124m'\u001b[39m\n\u001b[1;32m    281\u001b[0m \u001b[38;5;28;01mif\u001b[39;00m \u001b[38;5;129;01mnot\u001b[39;00m inst\u001b[38;5;241m.\u001b[39mpreload:\n\u001b[0;32m--> 282\u001b[0m     \u001b[38;5;28;01mraise\u001b[39;00m \u001b[38;5;167;01mRuntimeError\u001b[39;00m(\n\u001b[1;32m    283\u001b[0m         \u001b[38;5;124m\"\u001b[39m\u001b[38;5;124mBy default, MNE does not load data into main memory to \u001b[39m\u001b[38;5;124m\"\u001b[39m\n\u001b[1;32m    284\u001b[0m         \u001b[38;5;124m\"\u001b[39m\u001b[38;5;124mconserve resources. \u001b[39m\u001b[38;5;124m\"\u001b[39m \u001b[38;5;241m+\u001b[39m msg \u001b[38;5;241m+\u001b[39m \u001b[38;5;124m'\u001b[39m\u001b[38;5;124m requires \u001b[39m\u001b[38;5;132;01m%s\u001b[39;00m\u001b[38;5;124m data to be \u001b[39m\u001b[38;5;124m'\u001b[39m\n\u001b[1;32m    285\u001b[0m         \u001b[38;5;124m'\u001b[39m\u001b[38;5;124mloaded. Use preload=True (or string) in the constructor or \u001b[39m\u001b[38;5;124m'\u001b[39m\n\u001b[1;32m    286\u001b[0m         \u001b[38;5;124m'\u001b[39m\u001b[38;5;132;01m%s\u001b[39;00m\u001b[38;5;124m.load_data().\u001b[39m\u001b[38;5;124m'\u001b[39m \u001b[38;5;241m%\u001b[39m (name, name))\n",
      "\u001b[0;31mRuntimeError\u001b[0m: By default, MNE does not load data into main memory to conserve resources. adding, dropping, or reordering channels requires epochs data to be loaded. Use preload=True (or string) in the constructor or epochs.load_data()."
     ]
    }
   ],
   "source": [
    "epochs = concac_runs(subject, 'read', filter = False, path = path)"
   ]
  },
  {
   "cell_type": "code",
   "execution_count": null,
   "id": "a9c4bcb6",
   "metadata": {},
   "outputs": [],
   "source": [
    "X = epochs.get_data()\n",
    "y = epochs.metadata.word.apply(len)"
   ]
  },
  {
   "cell_type": "code",
   "execution_count": null,
   "id": "5a9fd8ae",
   "metadata": {},
   "outputs": [],
   "source": [
    "R = decod(X,y)"
   ]
  },
  {
   "cell_type": "code",
   "execution_count": null,
   "id": "854469f9",
   "metadata": {},
   "outputs": [],
   "source": [
    "%matplotlib inline\n",
    "\n",
    "plt.fill_between(epochs.times,np.squeeze(R))"
   ]
  },
  {
   "cell_type": "code",
   "execution_count": null,
   "id": "bfb78c92",
   "metadata": {},
   "outputs": [],
   "source": []
  }
 ],
 "metadata": {
  "kernelspec": {
   "display_name": "Python 3 (ipykernel)",
   "language": "python",
   "name": "python3"
  },
  "language_info": {
   "codemirror_mode": {
    "name": "ipython",
    "version": 3
   },
   "file_extension": ".py",
   "mimetype": "text/x-python",
   "name": "python",
   "nbconvert_exporter": "python",
   "pygments_lexer": "ipython3",
   "version": "3.10.6"
  }
 },
 "nbformat": 4,
 "nbformat_minor": 5
}
