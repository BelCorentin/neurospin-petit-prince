{
 "cells": [
  {
   "cell_type": "markdown",
   "metadata": {},
   "source": [
    "# Purpose \n",
    "\n",
    "This notebook is meant to quickly understand why the decoding algorithm / other part of the pipeline didn't work for a particular subject / run, using the trigger channels, identifying the bad channels, etc.."
   ]
  },
  {
   "cell_type": "code",
   "execution_count": 69,
   "metadata": {},
   "outputs": [],
   "source": [
    "# Imports\n",
    "\n",
    "import mne\n",
    "import mne_bids\n",
    "import numpy as np\n",
    "import pandas as pd\n",
    "import matplotlib.pyplot as plt\n",
    "import seaborn as sns\n",
    "from pathlib import Path\n",
    "import matplotlib\n",
    "matplotlib.use(\"Agg\")\n",
    "mne.set_log_level(False)\n",
    "import time\n",
    "import os\n",
    "\n",
    "\n",
    "%matplotlib inline"
   ]
  },
  {
   "cell_type": "code",
   "execution_count": 70,
   "metadata": {},
   "outputs": [],
   "source": [
    "# CONST DEFINITION\n",
    "\n",
    "subject_to_debug = '18'\n",
    "bids = Path(\"/home/is153802/workspace_LPP/data/MEG/LPP/BIDS_final\")\n",
    "TASK = 'listen'"
   ]
  },
  {
   "cell_type": "code",
   "execution_count": 91,
   "metadata": {},
   "outputs": [
    {
     "name": "stdout",
     "output_type": "stream",
     "text": [
      "/home/is153802/workspace_LPP/data/MEG/LPP/BIDS_final/sub-18/ses-01/meg/sub-18_ses-01_task-listen_run-01_meg.fif\n"
     ]
    },
    {
     "name": "stderr",
     "output_type": "stream",
     "text": [
      "/tmp/ipykernel_346973/3479951267.py:11: RuntimeWarning: This file contains raw Internal Active Shielding data. It may be distorted. Elekta recommends it be run through MaxFilter to produce reliable results. Consider closing the file and running MaxFilter on the data.\n",
      "  raw_bids = mne_bids.read_raw_bids(bids_path)\n",
      "/tmp/ipykernel_346973/3479951267.py:11: RuntimeWarning: Did not find any events.tsv associated with sub-18_ses-01_task-listen_run-01.\n",
      "\n",
      "The search_str was \"/home/is153802/workspace_LPP/data/MEG/LPP/BIDS_final/sub-18/**/meg/sub-18_ses-01*events.tsv\"\n",
      "  raw_bids = mne_bids.read_raw_bids(bids_path)\n",
      "/tmp/ipykernel_346973/3479951267.py:11: RuntimeWarning: The unit for channel(s) STI101, STI201, STI301 has changed from V to NA.\n",
      "  raw_bids = mne_bids.read_raw_bids(bids_path)\n"
     ]
    },
    {
     "ename": "KeyboardInterrupt",
     "evalue": "",
     "output_type": "error",
     "traceback": [
      "\u001b[0;31m---------------------------------------------------------------------------\u001b[0m",
      "\u001b[0;31mKeyboardInterrupt\u001b[0m                         Traceback (most recent call last)",
      "Cell \u001b[0;32mIn [91], line 13\u001b[0m\n\u001b[1;32m     10\u001b[0m \u001b[38;5;28mprint\u001b[39m(bids_path)\n\u001b[1;32m     11\u001b[0m raw_bids \u001b[38;5;241m=\u001b[39m mne_bids\u001b[38;5;241m.\u001b[39mread_raw_bids(bids_path)\n\u001b[0;32m---> 13\u001b[0m raw_bids\u001b[38;5;241m.\u001b[39mload_data()\n",
      "File \u001b[0;32m<decorator-gen-224>:12\u001b[0m, in \u001b[0;36mload_data\u001b[0;34m(self, verbose)\u001b[0m\n",
      "File \u001b[0;32m~/.pyenv/versions/3.10.6/envs/meg-masc/lib/python3.10/site-packages/mne/io/base.py:497\u001b[0m, in \u001b[0;36mBaseRaw.load_data\u001b[0;34m(self, verbose)\u001b[0m\n\u001b[1;32m    478\u001b[0m \u001b[39m\"\"\"Load raw data.\u001b[39;00m\n\u001b[1;32m    479\u001b[0m \n\u001b[1;32m    480\u001b[0m \u001b[39mParameters\u001b[39;00m\n\u001b[0;32m   (...)\u001b[0m\n\u001b[1;32m    494\u001b[0m \u001b[39m.. versionadded:: 0.10.0\u001b[39;00m\n\u001b[1;32m    495\u001b[0m \u001b[39m\"\"\"\u001b[39;00m\n\u001b[1;32m    496\u001b[0m \u001b[39mif\u001b[39;00m \u001b[39mnot\u001b[39;00m \u001b[39mself\u001b[39m\u001b[39m.\u001b[39mpreload:\n\u001b[0;32m--> 497\u001b[0m     \u001b[39mself\u001b[39;49m\u001b[39m.\u001b[39;49m_preload_data(\u001b[39mTrue\u001b[39;49;00m)\n\u001b[1;32m    498\u001b[0m \u001b[39mreturn\u001b[39;00m \u001b[39mself\u001b[39m\n",
      "File \u001b[0;32m~/.pyenv/versions/3.10.6/envs/meg-masc/lib/python3.10/site-packages/mne/io/base.py:507\u001b[0m, in \u001b[0;36mBaseRaw._preload_data\u001b[0;34m(self, preload)\u001b[0m\n\u001b[1;32m    504\u001b[0m     data_buffer \u001b[39m=\u001b[39m \u001b[39mNone\u001b[39;00m\n\u001b[1;32m    505\u001b[0m logger\u001b[39m.\u001b[39minfo(\u001b[39m'\u001b[39m\u001b[39mReading \u001b[39m\u001b[39m%d\u001b[39;00m\u001b[39m ... \u001b[39m\u001b[39m%d\u001b[39;00m\u001b[39m  =  \u001b[39m\u001b[39m%9.3f\u001b[39;00m\u001b[39m ... \u001b[39m\u001b[39m%9.3f\u001b[39;00m\u001b[39m secs...\u001b[39m\u001b[39m'\u001b[39m \u001b[39m%\u001b[39m\n\u001b[1;32m    506\u001b[0m             (\u001b[39m0\u001b[39m, \u001b[39mlen\u001b[39m(\u001b[39mself\u001b[39m\u001b[39m.\u001b[39mtimes) \u001b[39m-\u001b[39m \u001b[39m1\u001b[39m, \u001b[39m0.\u001b[39m, \u001b[39mself\u001b[39m\u001b[39m.\u001b[39mtimes[\u001b[39m-\u001b[39m\u001b[39m1\u001b[39m]))\n\u001b[0;32m--> 507\u001b[0m \u001b[39mself\u001b[39m\u001b[39m.\u001b[39m_data \u001b[39m=\u001b[39m \u001b[39mself\u001b[39;49m\u001b[39m.\u001b[39;49m_read_segment(\n\u001b[1;32m    508\u001b[0m     data_buffer\u001b[39m=\u001b[39;49mdata_buffer, projector\u001b[39m=\u001b[39;49m\u001b[39mself\u001b[39;49m\u001b[39m.\u001b[39;49m_projector)\n\u001b[1;32m    509\u001b[0m \u001b[39massert\u001b[39;00m \u001b[39mlen\u001b[39m(\u001b[39mself\u001b[39m\u001b[39m.\u001b[39m_data) \u001b[39m==\u001b[39m \u001b[39mself\u001b[39m\u001b[39m.\u001b[39minfo[\u001b[39m'\u001b[39m\u001b[39mnchan\u001b[39m\u001b[39m'\u001b[39m]\n\u001b[1;32m    510\u001b[0m \u001b[39mself\u001b[39m\u001b[39m.\u001b[39mpreload \u001b[39m=\u001b[39m \u001b[39mTrue\u001b[39;00m\n",
      "File \u001b[0;32m<decorator-gen-223>:12\u001b[0m, in \u001b[0;36m_read_segment\u001b[0;34m(self, start, stop, sel, data_buffer, projector, verbose)\u001b[0m\n",
      "File \u001b[0;32m~/.pyenv/versions/3.10.6/envs/meg-masc/lib/python3.10/site-packages/mne/io/base.py:392\u001b[0m, in \u001b[0;36mBaseRaw._read_segment\u001b[0;34m(***failed resolving arguments***)\u001b[0m\n\u001b[1;32m    390\u001b[0m     \u001b[39m# reindex back to original file\u001b[39;00m\n\u001b[1;32m    391\u001b[0m     orig_idx \u001b[39m=\u001b[39m _convert_slice(\u001b[39mself\u001b[39m\u001b[39m.\u001b[39m_read_picks[fi][need_idx])\n\u001b[0;32m--> 392\u001b[0m     _ReadSegmentFileProtector(\u001b[39mself\u001b[39;49m)\u001b[39m.\u001b[39;49m_read_segment_file(\n\u001b[1;32m    393\u001b[0m         data[:, this_sl], orig_idx, fi,\n\u001b[1;32m    394\u001b[0m         \u001b[39mint\u001b[39;49m(start_file), \u001b[39mint\u001b[39;49m(stop_file), cals, mult)\n\u001b[1;32m    395\u001b[0m     offset \u001b[39m+\u001b[39m\u001b[39m=\u001b[39m n_read\n\u001b[1;32m    396\u001b[0m \u001b[39mreturn\u001b[39;00m data\n",
      "File \u001b[0;32m~/.pyenv/versions/3.10.6/envs/meg-masc/lib/python3.10/site-packages/mne/io/base.py:2133\u001b[0m, in \u001b[0;36m_ReadSegmentFileProtector._read_segment_file\u001b[0;34m(self, data, idx, fi, start, stop, cals, mult)\u001b[0m\n\u001b[1;32m   2132\u001b[0m \u001b[39mdef\u001b[39;00m \u001b[39m_read_segment_file\u001b[39m(\u001b[39mself\u001b[39m, data, idx, fi, start, stop, cals, mult):\n\u001b[0;32m-> 2133\u001b[0m     \u001b[39mreturn\u001b[39;00m \u001b[39mself\u001b[39;49m\u001b[39m.\u001b[39;49m__raw\u001b[39m.\u001b[39;49m\u001b[39m__class__\u001b[39;49m\u001b[39m.\u001b[39;49m_read_segment_file(\n\u001b[1;32m   2134\u001b[0m         \u001b[39mself\u001b[39;49m, data, idx, fi, start, stop, cals, mult)\n",
      "File \u001b[0;32m~/.pyenv/versions/3.10.6/envs/meg-masc/lib/python3.10/site-packages/mne/io/fiff/raw.py:368\u001b[0m, in \u001b[0;36mRaw._read_segment_file\u001b[0;34m(self, data, idx, fi, start, stop, cals, mult)\u001b[0m\n\u001b[1;32m    366\u001b[0m \u001b[39m# only read data if it exists\u001b[39;00m\n\u001b[1;32m    367\u001b[0m \u001b[39mif\u001b[39;00m ent \u001b[39mis\u001b[39;00m \u001b[39mnot\u001b[39;00m \u001b[39mNone\u001b[39;00m:\n\u001b[0;32m--> 368\u001b[0m     one \u001b[39m=\u001b[39m read_tag(fid, ent\u001b[39m.\u001b[39;49mpos,\n\u001b[1;32m    369\u001b[0m                    shape\u001b[39m=\u001b[39;49m(nsamp, nchan),\n\u001b[1;32m    370\u001b[0m                    rlims\u001b[39m=\u001b[39;49m(first_pick, last_pick))\u001b[39m.\u001b[39mdata\n\u001b[1;32m    371\u001b[0m     \u001b[39mtry\u001b[39;00m:\n\u001b[1;32m    372\u001b[0m         one\u001b[39m.\u001b[39mshape \u001b[39m=\u001b[39m (picksamp, nchan)\n",
      "File \u001b[0;32m~/.pyenv/versions/3.10.6/envs/meg-masc/lib/python3.10/site-packages/mne/io/tag.py:476\u001b[0m, in \u001b[0;36mread_tag\u001b[0;34m(fid, pos, shape, rlims)\u001b[0m\n\u001b[1;32m    474\u001b[0m         \u001b[39mexcept\u001b[39;00m \u001b[39mKeyError\u001b[39;00m:\n\u001b[1;32m    475\u001b[0m             \u001b[39mraise\u001b[39;00m \u001b[39mException\u001b[39;00m(\u001b[39m'\u001b[39m\u001b[39mUnimplemented tag data type \u001b[39m\u001b[39m%s\u001b[39;00m\u001b[39m'\u001b[39m \u001b[39m%\u001b[39m tag\u001b[39m.\u001b[39mtype)\n\u001b[0;32m--> 476\u001b[0m         tag\u001b[39m.\u001b[39mdata \u001b[39m=\u001b[39m fun(fid, tag, shape, rlims)\n\u001b[1;32m    477\u001b[0m \u001b[39mif\u001b[39;00m tag\u001b[39m.\u001b[39mnext \u001b[39m!=\u001b[39m FIFF\u001b[39m.\u001b[39mFIFFV_NEXT_SEQ:\n\u001b[1;32m    478\u001b[0m     \u001b[39m# f.seek(tag.next,0)\u001b[39;00m\n\u001b[1;32m    479\u001b[0m     fid\u001b[39m.\u001b[39mseek(tag\u001b[39m.\u001b[39mnext, \u001b[39m1\u001b[39m)  \u001b[39m# XXX : fix? pb when tag.next < 0\u001b[39;00m\n",
      "File \u001b[0;32m~/.pyenv/versions/3.10.6/envs/meg-masc/lib/python3.10/site-packages/mne/io/tag.py:265\u001b[0m, in \u001b[0;36m_read_simple\u001b[0;34m(fid, tag, shape, rlims, dtype)\u001b[0m\n\u001b[1;32m    263\u001b[0m \u001b[39mdef\u001b[39;00m \u001b[39m_read_simple\u001b[39m(fid, tag, shape, rlims, dtype):\n\u001b[1;32m    264\u001b[0m     \u001b[39m\"\"\"Read simple datatypes from tag (typically used with partial).\"\"\"\u001b[39;00m\n\u001b[0;32m--> 265\u001b[0m     \u001b[39mreturn\u001b[39;00m _frombuffer_rows(fid, tag\u001b[39m.\u001b[39;49msize, dtype\u001b[39m=\u001b[39;49mdtype, shape\u001b[39m=\u001b[39;49mshape,\n\u001b[1;32m    266\u001b[0m                             rlims\u001b[39m=\u001b[39;49mrlims)\n",
      "File \u001b[0;32m~/.pyenv/versions/3.10.6/envs/meg-masc/lib/python3.10/site-packages/mne/io/tag.py:99\u001b[0m, in \u001b[0;36m_frombuffer_rows\u001b[0;34m(fid, tag_size, dtype, shape, rlims)\u001b[0m\n\u001b[1;32m     97\u001b[0m fid\u001b[39m.\u001b[39mseek(start_skip, \u001b[39m1\u001b[39m)\n\u001b[1;32m     98\u001b[0m \u001b[39m# Do the reading\u001b[39;00m\n\u001b[0;32m---> 99\u001b[0m out \u001b[39m=\u001b[39m np\u001b[39m.\u001b[39mfrombuffer(fid\u001b[39m.\u001b[39;49mread(read_size), dtype\u001b[39m=\u001b[39mdtype)\n\u001b[1;32m    100\u001b[0m \u001b[39m# Move the pointer ahead to the end of the tag\u001b[39;00m\n\u001b[1;32m    101\u001b[0m fid\u001b[39m.\u001b[39mseek(end_pos)\n",
      "\u001b[0;31mKeyboardInterrupt\u001b[0m: "
     ]
    }
   ],
   "source": [
    "bids_path = mne_bids.BIDSPath(\n",
    "                subject=subject_to_debug,\n",
    "                session='01',\n",
    "                task=TASK,\n",
    "                datatype=\"meg\",\n",
    "                root=bids,\n",
    "                run = '01'\n",
    "            )\n",
    "\n",
    "print(bids_path)\n",
    "raw_bids = mne_bids.read_raw_bids(bids_path)\n",
    "\n",
    "raw_bids.load_data()"
   ]
  },
  {
   "cell_type": "code",
   "execution_count": null,
   "metadata": {},
   "outputs": [
    {
     "name": "stdout",
     "output_type": "stream",
     "text": [
      "[[202945      0      1]\n",
      " [206269      0    128]\n",
      " [206379      0    128]\n",
      " ...\n",
      " [846937      0    128]\n",
      " [847458      0    128]\n",
      " [850604      0      1]]\n"
     ]
    }
   ],
   "source": [
    "events = mne.find_events(raw_bids, stim_channel='STI101', shortest_event=1)\n",
    "print(events)"
   ]
  },
  {
   "cell_type": "code",
   "execution_count": null,
   "metadata": {},
   "outputs": [
    {
     "name": "stderr",
     "output_type": "stream",
     "text": [
      "/tmp/ipykernel_346973/2143477150.py:1: RuntimeWarning: The measurement information indicates a low-pass frequency of 330.0 Hz. The decim=10 parameter will result in a sampling frequency of 100.0 Hz, which can cause aliasing artifacts.\n",
      "  epochs = mne.Epochs(raw_bids, events,\n"
     ]
    }
   ],
   "source": [
    "epochs = mne.Epochs(raw_bids, events, \n",
    "                    tmin=-.3, tmax=.8, decim=10, baseline=(-0.2, 0.0))"
   ]
  },
  {
   "cell_type": "code",
   "execution_count": null,
   "metadata": {},
   "outputs": [
    {
     "data": {
      "text/plain": [
       "346"
      ]
     },
     "execution_count": 89,
     "metadata": {},
     "output_type": "execute_result"
    }
   ],
   "source": [
    "epochs.info['nchan']"
   ]
  },
  {
   "cell_type": "code",
   "execution_count": null,
   "metadata": {},
   "outputs": [
    {
     "data": {
      "text/html": [
       "<table class=\"table table-hover table-striped table-sm table-responsive small\">\n",
       "    <tr>\n",
       "        <th>Measurement date</th>\n",
       "        \n",
       "        <td>October 04, 2022  12:16:22 GMT</td>\n",
       "        \n",
       "    </tr>\n",
       "    <tr>\n",
       "        <th>Experimenter</th>\n",
       "        \n",
       "        <td>mne_anonymize</td>\n",
       "        \n",
       "    </tr>\n",
       "        <th>Participant</th>\n",
       "        \n",
       "            \n",
       "            <td>sub-18</td>\n",
       "            \n",
       "        \n",
       "    </tr>\n",
       "    <tr>\n",
       "        <th>Digitized points</th>\n",
       "        \n",
       "        <td>61 points</td>\n",
       "        \n",
       "    </tr>\n",
       "    <tr>\n",
       "        <th>Good channels</th>\n",
       "        <td>204 Gradiometers, 102 Magnetometers, 19 Stimulus, 2 EOG, 1 ECG, 18 misc</td>\n",
       "    </tr>\n",
       "    <tr>\n",
       "        <th>Bad channels</th>\n",
       "        <td>None</td>\n",
       "    </tr>\n",
       "    <tr>\n",
       "        <th>EOG channels</th>\n",
       "        <td>EOG061, EOG062</td>\n",
       "    </tr>\n",
       "    <tr>\n",
       "        <th>ECG channels</th>\n",
       "        <td>ECG063</td>\n",
       "    \n",
       "    <tr>\n",
       "        <th>Sampling frequency</th>\n",
       "        <td>100.00 Hz</td>\n",
       "    </tr>\n",
       "    \n",
       "    \n",
       "    <tr>\n",
       "        <th>Highpass</th>\n",
       "        <td>0.00 Hz</td>\n",
       "    </tr>\n",
       "    \n",
       "    \n",
       "    <tr>\n",
       "        <th>Lowpass</th>\n",
       "        <td>330.00 Hz</td>\n",
       "    </tr>\n",
       "    \n",
       "    \n",
       "    <tr>\n",
       "        <th>Projections</th>\n",
       "        <td>generated with dossp-2.1 : on<br/>generated with dossp-2.1 : on<br/>generated with dossp-2.1 : on<br/>generated with dossp-2.1 : on<br/>generated with dossp-2.1 : on<br/>generated with dossp-2.1 : on<br/>generated with dossp-2.1 : on<br/>generated with dossp-2.1 : on<br/>generated with dossp-2.1 : on<br/>generated with dossp-2.1 : on<br/>generated with dossp-2.1 : on<br/>generated with dossp-2.1 : on<br/>generated with dossp-2.1 : on</td>\n",
       "    </tr>\n",
       "    \n",
       "</table>"
      ],
      "text/plain": [
       "<Info | 25 non-empty values\n",
       " acq_pars: ACQch001 110113 ACQch002 110112 ACQch003 110111 ACQch004 110122 ...\n",
       " bads: []\n",
       " ch_names: MEG0113, MEG0112, MEG0111, MEG0122, MEG0123, MEG0121, MEG0132, ...\n",
       " chs: 204 Gradiometers, 102 Magnetometers, 19 Stimulus, 2 EOG, 1 ECG, 18 misc\n",
       " custom_ref_applied: False\n",
       " description: Anonymized using a time shift to preserve age at acquisition\n",
       " dev_head_t: MEG device -> head transform\n",
       " dig: 61 items (3 Cardinal, 4 HPI, 54 Extra)\n",
       " events: 1 item (list)\n",
       " experimenter: mne_anonymize\n",
       " file_id: 4 items (dict)\n",
       " highpass: 0.0 Hz\n",
       " hpi_meas: 1 item (list)\n",
       " hpi_results: 1 item (list)\n",
       " hpi_subsystem: 3 items (dict)\n",
       " line_freq: 50.0\n",
       " lowpass: 330.0 Hz\n",
       " maxshield: True\n",
       " meas_date: 2022-10-04 12:16:22 UTC\n",
       " meas_id: 4 items (dict)\n",
       " nchan: 346\n",
       " proc_history: 1 item (list)\n",
       " proj_id: 1 item (ndarray)\n",
       " proj_name: mne_anonymize\n",
       " projs: generated with dossp-2.1: on, generated with dossp-2.1: on, ...\n",
       " sfreq: 100.0 Hz\n",
       " subject_info: 4 items (dict)\n",
       ">"
      ]
     },
     "execution_count": 90,
     "metadata": {},
     "output_type": "execute_result"
    }
   ],
   "source": [
    "epochs.info"
   ]
  },
  {
   "cell_type": "code",
   "execution_count": 94,
   "metadata": {},
   "outputs": [
    {
     "name": "stderr",
     "output_type": "stream",
     "text": [
      "/tmp/ipykernel_346973/3726710940.py:1: RuntimeWarning: This file contains raw Internal Active Shielding data. It may be distorted. Elekta recommends it be run through MaxFilter to produce reliable results. Consider closing the file and running MaxFilter on the data.\n",
      "  fif_321 = mne.io.read_raw_fif('/home/is153802/data/BIDS_final/sub-18/ses-01/meg/sub-18_ses-01_task-listen_run-01_meg.fif',allow_maxshield=True)\n"
     ]
    }
   ],
   "source": [
    "file1= '/home/is153802/data/BIDS_final/sub-18/ses-01/meg/sub-18_ses-01_task-listen_run-01_meg.fif'\n",
    "file\n",
    "fif_321 = mne.io.read_raw_fif(file1,allow_maxshield=True)"
   ]
  },
  {
   "cell_type": "code",
   "execution_count": 97,
   "metadata": {},
   "outputs": [
    {
     "ename": "TypeError",
     "evalue": "UpdateChannelsMixin.add_channels() missing 1 required positional argument: 'add_list'",
     "output_type": "error",
     "traceback": [
      "\u001b[0;31m---------------------------------------------------------------------------\u001b[0m",
      "\u001b[0;31mTypeError\u001b[0m                                 Traceback (most recent call last)",
      "Cell \u001b[0;32mIn [97], line 1\u001b[0m\n\u001b[0;32m----> 1\u001b[0m fif_321\u001b[38;5;241m.\u001b[39madd_channels()\n",
      "\u001b[0;31mTypeError\u001b[0m: UpdateChannelsMixin.add_channels() missing 1 required positional argument: 'add_list'"
     ]
    }
   ],
   "source": [
    "fif_321.add_channels()"
   ]
  },
  {
   "cell_type": "code",
   "execution_count": null,
   "metadata": {},
   "outputs": [],
   "source": []
  }
 ],
 "metadata": {
  "kernelspec": {
   "display_name": "Python 3.10.6 64-bit ('meg-masc')",
   "language": "python",
   "name": "python3"
  },
  "language_info": {
   "codemirror_mode": {
    "name": "ipython",
    "version": 3
   },
   "file_extension": ".py",
   "mimetype": "text/x-python",
   "name": "python",
   "nbconvert_exporter": "python",
   "pygments_lexer": "ipython3",
   "version": "3.10.6"
  },
  "orig_nbformat": 4,
  "vscode": {
   "interpreter": {
    "hash": "1541b2a7ce6718fb850c7e31854a9840c1a445a51449da7ae9469c30a41f28d5"
   }
  }
 },
 "nbformat": 4,
 "nbformat_minor": 2
}
