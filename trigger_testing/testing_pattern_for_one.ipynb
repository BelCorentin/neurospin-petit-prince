{
 "cells": [
  {
   "cell_type": "markdown",
   "metadata": {},
   "source": [
    "# Purpose \n",
    "\n",
    "This notebook is meant to quickly understand why the decoding algorithm / other part of the pipeline didn't work for a particular subject / run, using the trigger channels, identifying the bad channels, etc.."
   ]
  },
  {
   "cell_type": "code",
   "execution_count": 40,
   "metadata": {},
   "outputs": [],
   "source": [
    "# Imports\n",
    "\n",
    "import mne\n",
    "import mne_bids\n",
    "import numpy as np\n",
    "import pandas as pd\n",
    "import matplotlib.pyplot as plt\n",
    "import seaborn as sns\n",
    "from pathlib import Path\n",
    "import matplotlib\n",
    "matplotlib.use(\"Agg\")\n",
    "mne.set_log_level(False)\n",
    "import time\n",
    "import os\n",
    "\n",
    "\n",
    "%matplotlib inline"
   ]
  },
  {
   "cell_type": "code",
   "execution_count": 66,
   "metadata": {},
   "outputs": [],
   "source": [
    "# CONST DEFINITION\n",
    "\n",
    "subject_to_debug = '12'\n",
    "bids = Path(\"/home/is153802/workspace_LPP/data/MEG/LPP/BIDS_final\")\n",
    "TASK = 'listen'"
   ]
  },
  {
   "cell_type": "code",
   "execution_count": 67,
   "metadata": {},
   "outputs": [
    {
     "name": "stdout",
     "output_type": "stream",
     "text": [
      "/home/is153802/workspace_LPP/data/MEG/LPP/BIDS_final/sub-12/ses-01/meg/sub-12_ses-01_task-listen_run-06_meg.fif\n"
     ]
    },
    {
     "name": "stderr",
     "output_type": "stream",
     "text": [
      "/tmp/ipykernel_346973/1291375337.py:11: RuntimeWarning: This file contains raw Internal Active Shielding data. It may be distorted. Elekta recommends it be run through MaxFilter to produce reliable results. Consider closing the file and running MaxFilter on the data.\n",
      "  raw_bids = mne_bids.read_raw_bids(bids_path)\n",
      "/tmp/ipykernel_346973/1291375337.py:11: RuntimeWarning: Did not find any events.tsv associated with sub-12_ses-01_task-listen_run-06.\n",
      "\n",
      "The search_str was \"/home/is153802/workspace_LPP/data/MEG/LPP/BIDS_final/sub-12/**/meg/sub-12_ses-01*events.tsv\"\n",
      "  raw_bids = mne_bids.read_raw_bids(bids_path)\n",
      "/tmp/ipykernel_346973/1291375337.py:11: RuntimeWarning: The unit for channel(s) STI001, STI002, STI003, STI004, STI005, STI006, STI007, STI008, STI009, STI010, STI011, STI012, STI013, STI014, STI015, STI016, STI101, STI201, STI301 has changed from V to NA.\n",
      "  raw_bids = mne_bids.read_raw_bids(bids_path)\n"
     ]
    },
    {
     "data": {
      "text/html": [
       "<table class=\"table table-hover table-striped table-sm table-responsive small\">\n",
       "    <tr>\n",
       "        <th>Measurement date</th>\n",
       "        \n",
       "        <td>October 03, 2022  09:03:15 GMT</td>\n",
       "        \n",
       "    </tr>\n",
       "    <tr>\n",
       "        <th>Experimenter</th>\n",
       "        \n",
       "        <td>mne_anonymize</td>\n",
       "        \n",
       "    </tr>\n",
       "        <th>Participant</th>\n",
       "        \n",
       "            \n",
       "            <td>sub-12</td>\n",
       "            \n",
       "        \n",
       "    </tr>\n",
       "    <tr>\n",
       "        <th>Digitized points</th>\n",
       "        \n",
       "        <td>65 points</td>\n",
       "        \n",
       "    </tr>\n",
       "    <tr>\n",
       "        <th>Good channels</th>\n",
       "        <td>204 Gradiometers, 102 Magnetometers, 19 Stimulus, 2 EOG, 1 ECG, 1 misc</td>\n",
       "    </tr>\n",
       "    <tr>\n",
       "        <th>Bad channels</th>\n",
       "        <td>None</td>\n",
       "    </tr>\n",
       "    <tr>\n",
       "        <th>EOG channels</th>\n",
       "        <td>EOG061, EOG062</td>\n",
       "    </tr>\n",
       "    <tr>\n",
       "        <th>ECG channels</th>\n",
       "        <td>ECG063</td>\n",
       "    \n",
       "    <tr>\n",
       "        <th>Sampling frequency</th>\n",
       "        <td>1000.00 Hz</td>\n",
       "    </tr>\n",
       "    \n",
       "    \n",
       "    <tr>\n",
       "        <th>Highpass</th>\n",
       "        <td>0.00 Hz</td>\n",
       "    </tr>\n",
       "    \n",
       "    \n",
       "    <tr>\n",
       "        <th>Lowpass</th>\n",
       "        <td>330.00 Hz</td>\n",
       "    </tr>\n",
       "    \n",
       "    \n",
       "    <tr>\n",
       "        <th>Projections</th>\n",
       "        <td>grad_ssp_upright.fif : PCA-v1 : off<br/>grad_ssp_upright.fif : PCA-v2 : off<br/>grad_ssp_upright.fif : PCA-v3 : off<br/>grad_ssp_upright.fif : PCA-v4 : off<br/>grad_ssp_upright.fif : PCA-v5 : off<br/>mag_ssp_upright.fif : PCA-v1 : off<br/>mag_ssp_upright.fif : PCA-v2 : off<br/>mag_ssp_upright.fif : PCA-v3 : off<br/>mag_ssp_upright.fif : PCA-v4 : off<br/>mag_ssp_upright.fif : PCA-v5 : off<br/>mag_ssp_upright.fif : PCA-v6 : off<br/>mag_ssp_upright.fif : PCA-v7 : off<br/>mag_ssp_upright.fif : PCA-v8 : off</td>\n",
       "    </tr>\n",
       "    \n",
       "    \n",
       "    <tr>\n",
       "        <th>Filenames</th>\n",
       "        <td>sub-12_ses-01_task-listen_run-06_meg.fif</td>\n",
       "    </tr>\n",
       "    \n",
       "    <tr>\n",
       "        <th>Duration</th>\n",
       "        <td>00:12:37 (HH:MM:SS)</td>\n",
       "    </tr>\n",
       "</table>"
      ],
      "text/plain": [
       "<Raw | sub-12_ses-01_task-listen_run-06_meg.fif, 329 x 758000 (758.0 s), ~1.86 GB, data loaded>"
      ]
     },
     "execution_count": 67,
     "metadata": {},
     "output_type": "execute_result"
    }
   ],
   "source": [
    "bids_path = mne_bids.BIDSPath(\n",
    "                subject=subject_to_debug,\n",
    "                session='01',\n",
    "                task=TASK,\n",
    "                datatype=\"meg\",\n",
    "                root=bids,\n",
    "                run = '06'\n",
    "            )\n",
    "\n",
    "print(bids_path)\n",
    "raw_bids = mne_bids.read_raw_bids(bids_path)\n",
    "\n",
    "raw_bids.load_data()"
   ]
  },
  {
   "cell_type": "code",
   "execution_count": 68,
   "metadata": {},
   "outputs": [
    {
     "name": "stdout",
     "output_type": "stream",
     "text": [
      "[[ 17501      0      1]\n",
      " [ 20843      0    128]\n",
      " [ 21013      0    128]\n",
      " ...\n",
      " [764356      0    128]\n",
      " [764496      0    128]\n",
      " [768099      0      1]]\n"
     ]
    }
   ],
   "source": [
    "events = mne.find_events(raw_bids, stim_channel='STI101', shortest_event=1)\n",
    "print(events)"
   ]
  },
  {
   "cell_type": "code",
   "execution_count": null,
   "metadata": {},
   "outputs": [],
   "source": []
  },
  {
   "cell_type": "code",
   "execution_count": null,
   "metadata": {},
   "outputs": [],
   "source": []
  }
 ],
 "metadata": {
  "kernelspec": {
   "display_name": "Python 3.10.6 64-bit ('meg-masc')",
   "language": "python",
   "name": "python3"
  },
  "language_info": {
   "codemirror_mode": {
    "name": "ipython",
    "version": 3
   },
   "file_extension": ".py",
   "mimetype": "text/x-python",
   "name": "python",
   "nbconvert_exporter": "python",
   "pygments_lexer": "ipython3",
   "version": "3.10.6"
  },
  "orig_nbformat": 4,
  "vscode": {
   "interpreter": {
    "hash": "1541b2a7ce6718fb850c7e31854a9840c1a445a51449da7ae9469c30a41f28d5"
   }
  }
 },
 "nbformat": 4,
 "nbformat_minor": 2
}
