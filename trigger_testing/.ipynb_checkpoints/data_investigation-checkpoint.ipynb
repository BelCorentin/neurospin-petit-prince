{
 "cells": [
  {
   "cell_type": "markdown",
   "id": "67af04f4",
   "metadata": {},
   "source": [
    "# Testing LPP MEG data's validity\n",
    "\n",
    "\n",
    "## Purpose\n",
    "The purpose of this notebook is to investigate the correct epoching and trigger time matching for the MEG recordings of the LPP paradigm.\n",
    "\n",
    "## Methodology\n",
    "- For each subject, get the 9 epochs corresponding to the first trigger (start of audio).\n",
    "- Average the MEG channels to see if there's an evoked response to the first audio stimuli\n",
    "\n",
    "## WIP - improvements\n",
    "Notable TODOs:\n",
    "- todo 1;\n",
    "- todo 2;\n",
    "- todo 3.\n",
    "\n",
    "## Results\n",
    "Describe and comment the most important results.\n",
    "\n",
    "## Suggested next steps\n",
    "State suggested next steps, based on results obtained in this notebook."
   ]
  },
  {
   "cell_type": "markdown",
   "id": "d8840fce",
   "metadata": {},
   "source": [
    "# Setup\n",
    "\n",
    "## Library import\n",
    "We import all the required Python libraries"
   ]
  },
  {
   "cell_type": "code",
   "execution_count": 3,
   "id": "646e0d4f",
   "metadata": {},
   "outputs": [],
   "source": [
    "# Imports\n",
    "\n",
    "import mne\n",
    "import mne_bids\n",
    "import numpy as np\n",
    "import pandas as pd\n",
    "from sklearn.discriminant_analysis import LinearDiscriminantAnalysis\n",
    "from sklearn.model_selection import KFold, cross_val_predict\n",
    "from sklearn.pipeline import make_pipeline\n",
    "from sklearn.preprocessing import StandardScaler, scale\n",
    "from tqdm import trange\n",
    "import matplotlib.pyplot as plt\n",
    "import seaborn as sns\n",
    "from pathlib import Path\n",
    "import matplotlib\n",
    "from joblib import Parallel, delayed\n",
    "matplotlib.use(\"Agg\")\n",
    "mne.set_log_level(False)\n",
    "import time\n",
    "import os"
   ]
  },
  {
   "cell_type": "markdown",
   "id": "8bb6c8fd",
   "metadata": {},
   "source": [
    "# Parameter definition\n",
    "We set all relevant parameters for our notebook. By convention, parameters are uppercase, while all the \n",
    "other variables follow Python's guidelines."
   ]
  },
  {
   "cell_type": "code",
   "execution_count": 7,
   "id": "f67a2c5a",
   "metadata": {},
   "outputs": [],
   "source": [
    "bids = \"/home/is153802/workspace_LPP/data/MEG/LPP/derivatives/final_all\""
   ]
  },
  {
   "cell_type": "markdown",
   "id": "cab1b82b",
   "metadata": {},
   "source": [
    "\n",
    "# Data import\n",
    "We retrieve all the required data for the analysis."
   ]
  },
  {
   "cell_type": "code",
   "execution_count": 23,
   "id": "58659e12",
   "metadata": {
    "scrolled": true
   },
   "outputs": [
    {
     "name": "stdout",
     "output_type": "stream",
     "text": [
      "['180131' '180517' '181017' '190506' '190513' '190611' '190621' '190715'\n",
      " '190717' '220628' '220707']\n"
     ]
    }
   ],
   "source": [
    "subjects = pd.read_csv(bids + \"/participants.tsv\", sep=\"\\t\")\n",
    "subjects = subjects.participant_id.apply(lambda x: x.split(\"-\")[1]).values\n",
    "subjects = np.delete(subjects,subjects.shape[0]-1)\n",
    "print(subjects)"
   ]
  },
  {
   "cell_type": "markdown",
   "id": "f4183a5b",
   "metadata": {},
   "source": [
    "Rename the fif files that have been preprocessed to the BIDS standart (*_raw.fif to *_meg.fif)"
   ]
  },
  {
   "cell_type": "code",
   "execution_count": 29,
   "id": "1d066345",
   "metadata": {},
   "outputs": [],
   "source": [
    "for subject in subjects:\n",
    "    subj_path = os.path.join(bids,'sub-'+subject,'ses-01/meg')\n",
    "    for filename in os.listdir(subj_path):\n",
    "        infilename = os.path.join(subj_path,filename)\n",
    "        if not os.path.isfile(infilename): continue\n",
    "        oldbase = os.path.splitext(filename)\n",
    "        newname = infilename.replace('raw.fif', 'meg.fif')\n",
    "        output = os.rename(infilename, newname)"
   ]
  },
  {
   "cell_type": "markdown",
   "id": "90209aec",
   "metadata": {},
   "source": [
    "Add the needed files (events, headposition & co) to the newly generated post-processing folders (done manually; faster than doing a regex)"
   ]
  },
  {
   "cell_type": "code",
   "execution_count": null,
   "id": "c45509f6",
   "metadata": {},
   "outputs": [],
   "source": []
  },
  {
   "cell_type": "markdown",
   "id": "aa01eb25",
   "metadata": {},
   "source": [
    "# Data processing\n",
    "Put here the core of the notebook. Feel free di further split this section into subsections."
   ]
  },
  {
   "cell_type": "markdown",
   "id": "4b5c8a1e",
   "metadata": {},
   "source": [
    "# References\n",
    "We report here relevant references:\n",
    "1. author1, article1, journal1, year1, url1\n",
    "2. author2, article2, journal2, year2, url2"
   ]
  },
  {
   "cell_type": "code",
   "execution_count": null,
   "id": "ac172b2c",
   "metadata": {},
   "outputs": [],
   "source": []
  },
  {
   "cell_type": "code",
   "execution_count": null,
   "id": "a6c2db78",
   "metadata": {},
   "outputs": [],
   "source": []
  }
 ],
 "metadata": {
  "kernelspec": {
   "display_name": "Python 3 (ipykernel)",
   "language": "python",
   "name": "python3"
  },
  "language_info": {
   "codemirror_mode": {
    "name": "ipython",
    "version": 3
   },
   "file_extension": ".py",
   "mimetype": "text/x-python",
   "name": "python",
   "nbconvert_exporter": "python",
   "pygments_lexer": "ipython3",
   "version": "3.10.4"
  }
 },
 "nbformat": 4,
 "nbformat_minor": 5
}
