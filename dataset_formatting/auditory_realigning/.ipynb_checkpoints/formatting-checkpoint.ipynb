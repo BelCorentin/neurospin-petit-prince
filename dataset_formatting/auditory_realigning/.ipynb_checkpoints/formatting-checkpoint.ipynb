{
 "cells": [
  {
   "cell_type": "markdown",
   "id": "cacffbea-9cb7-47e9-add6-fffba0ee10d2",
   "metadata": {},
   "source": [
    "# Realigning every listening subject\n",
    "\n",
    "There is, for every listen subject, both a stretch, and an offset that need to be considered.\n",
    "\n",
    "Let's build a dataframe with the information, for each run, of the offset found and the stretch.\n",
    "\n",
    "Finally, plot the un-stretched and with offset data, compared to the metadata."
   ]
  },
  {
   "cell_type": "markdown",
   "id": "a80f562d-7cf4-497e-b18e-0db365327765",
   "metadata": {},
   "source": [
    "## Generate audio ground truth to calculate stretch"
   ]
  },
  {
   "cell_type": "code",
   "execution_count": 1,
   "id": "07692220-3e6b-4d2a-8fa9-d5fc58c45c94",
   "metadata": {},
   "outputs": [
    {
     "data": {
      "text/plain": [
       "[607.15, 640.64, 695.36, 617.63, 574.5, 743.53, 651.27, 575.98, 659.02]"
      ]
     },
     "execution_count": 1,
     "metadata": {},
     "output_type": "execute_result"
    }
   ],
   "source": [
    "from utils import gen_audio_words_length\n",
    "\n",
    "audio_word_length = gen_audio_words_length()\n",
    "\n",
    "audio_word_length"
   ]
  },
  {
   "cell_type": "markdown",
   "id": "3277a377-0b69-434c-a847-75df7a2cc36a",
   "metadata": {
    "tags": []
   },
   "source": [
    "## Find the offset and stretch"
   ]
  },
  {
   "cell_type": "code",
   "execution_count": 22,
   "id": "bfd9b113-6677-4aac-967b-ea53b092b6a7",
   "metadata": {},
   "outputs": [],
   "source": [
    "from utils import get_raw\n",
    "dict_infos = {}\n",
    "\n",
    "dataframe = pd.read_csv('infos.csv')\n",
    "for subject in range(1,59):\n",
    "    for run in \n",
    "run = 1\n",
    "subject = 1"
   ]
  },
  {
   "cell_type": "code",
   "execution_count": 23,
   "id": "d2059b07-83f9-4310-b2c9-faee5f060b80",
   "metadata": {},
   "outputs": [],
   "source": [
    "raw, word_triggers, events = get_raw(str(subject), run)\n",
    "offset = word_triggers[0] - raw.first_samp\n",
    "meg_word_length = (word_triggers[-1] - word_triggers[0]) / raw.info['sfreq']\n",
    "stretch = meg_word_length / audio_word_length[run-1]\n"
   ]
  },
  {
   "cell_type": "code",
   "execution_count": 24,
   "id": "561e7ea0-7538-46d2-b4b0-7e872d6d3a2d",
   "metadata": {},
   "outputs": [],
   "source": []
  },
  {
   "cell_type": "code",
   "execution_count": 25,
   "id": "f330c33e-cfd8-4e16-9c3f-cfa18907bb2d",
   "metadata": {},
   "outputs": [],
   "source": []
  },
  {
   "cell_type": "code",
   "execution_count": null,
   "id": "190cdd28-fcda-4378-98d5-9d57c6f3019d",
   "metadata": {},
   "outputs": [],
   "source": []
  },
  {
   "cell_type": "code",
   "execution_count": 26,
   "id": "02d887aa-6ed9-4450-add1-20690e19d7d1",
   "metadata": {},
   "outputs": [
    {
     "data": {
      "text/plain": [
       "0.9999934118422136"
      ]
     },
     "execution_count": 26,
     "metadata": {},
     "output_type": "execute_result"
    }
   ],
   "source": [
    "stretch"
   ]
  },
  {
   "cell_type": "code",
   "execution_count": 27,
   "id": "3af3fcfe-ab3c-4d74-a019-bf12a4cdcc97",
   "metadata": {},
   "outputs": [
    {
     "data": {
      "text/plain": [
       "<MNEBrowseFigure size 1850x1016 with 4 Axes>"
      ]
     },
     "execution_count": 27,
     "metadata": {},
     "output_type": "execute_result"
    }
   ],
   "source": [
    "import matplotlib\n",
    "matplotlib.use('Qt5Agg')\n",
    "\n",
    "raw.pick_types(stim=True, misc=True).plot(block=True, start=0, duration=10., precompute='auto')"
   ]
  },
  {
   "cell_type": "code",
   "execution_count": null,
   "id": "83d4fa5a-8594-4289-8d11-0846a42f62eb",
   "metadata": {},
   "outputs": [],
   "source": []
  }
 ],
 "metadata": {
  "kernelspec": {
   "display_name": "Python 3",
   "language": "python",
   "name": "python3"
  },
  "language_info": {
   "codemirror_mode": {
    "name": "ipython",
    "version": 3
   },
   "file_extension": ".py",
   "mimetype": "text/x-python",
   "name": "python",
   "nbconvert_exporter": "python",
   "pygments_lexer": "ipython3",
   "version": "3.9.18"
  }
 },
 "nbformat": 4,
 "nbformat_minor": 5
}
