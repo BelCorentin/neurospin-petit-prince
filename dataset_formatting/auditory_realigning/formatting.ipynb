{
 "cells": [
  {
   "cell_type": "markdown",
   "id": "cacffbea-9cb7-47e9-add6-fffba0ee10d2",
   "metadata": {},
   "source": [
    "# Realigning every listening subject\n",
    "\n",
    "There is, for every listen subject, both a stretch, and an offset that need to be considered.\n",
    "\n",
    "Let's build a dataframe with the information, for each run, of the offset found and the stretch.\n",
    "\n",
    "Finally, plot the un-stretched and with offset data, compared to the metadata."
   ]
  },
  {
   "cell_type": "markdown",
   "id": "a80f562d-7cf4-497e-b18e-0db365327765",
   "metadata": {},
   "source": [
    "## Generate audio ground truth to calculate stretch"
   ]
  },
  {
   "cell_type": "code",
   "execution_count": null,
   "id": "07692220-3e6b-4d2a-8fa9-d5fc58c45c94",
   "metadata": {},
   "outputs": [],
   "source": [
    "# from utils import gen_audio_words_length\n",
    "import numpy as np\n",
    "\n",
    "# audio_word_length = gen_audio_words_length()\n",
    "\n",
    "# # Save this file to csv not to have to load it everytime\n",
    "\n",
    "# # Save it to numpy file\n",
    "# np.save('audio_word_length.npy', audio_word_length)\n",
    "\n",
    "\n",
    "audio_word_length = np.load('audio_word_length.npy')\n",
    "\n"
   ]
  },
  {
   "cell_type": "markdown",
   "id": "3277a377-0b69-434c-a847-75df7a2cc36a",
   "metadata": {
    "tags": []
   },
   "source": [
    "## Find the offset and stretch"
   ]
  },
  {
   "cell_type": "code",
   "execution_count": null,
   "id": "bfd9b113-6677-4aac-967b-ea53b092b6a7",
   "metadata": {},
   "outputs": [],
   "source": [
    "from utils import get_raw\n",
    "import pandas as pd\n",
    "from tqdm import tqdm\n",
    "\n",
    "df = pd.DataFrame(columns=['subject', 'run', 'offset', 'stretch'])\n",
    "\n",
    "for subject in tqdm(range(1,59), desc='Subjects'):\n",
    "    for run in tqdm(range(1,10), desc='Runs', leave=False):\n",
    "        try:\n",
    "            raw, word_triggers, events = get_raw(str(subject), run)\n",
    "            # Calculate the offset between the first word trigger and the first sample\n",
    "            offset = (word_triggers[0] - raw.first_samp) / raw.info['sfreq']\n",
    "            # And add the initial time between the first word trigger and the first sample (eg. 3.05 for run 1)\n",
    "            offset -= events.onset[0]\n",
    "            # Get the length of the recorded word triggers\n",
    "            meg_word_length = (word_triggers[-1] - word_triggers[0]) / raw.info['sfreq']\n",
    "            # Deduct the stretch factor\n",
    "            stretch = meg_word_length / audio_word_length[run-1]\n",
    "\n",
    "            # Append the offset and the stretch factor to the dataframe using concat\n",
    "            df = pd.concat([df, pd.DataFrame({'subject': [subject], 'run': [run], 'offset': [offset], 'stretch': [stretch]})], ignore_index=True)\n",
    "            # Save the dataframe\n",
    "            df.to_csv('infos2.csv', index=False)\n",
    "        except:\n",
    "            print(f'Error with subject {subject} run {run}')\n",
    "            continue"
   ]
  },
  {
   "cell_type": "markdown",
   "id": "5a160c62",
   "metadata": {},
   "source": [
    "## Testing the alignment! "
   ]
  },
  {
   "cell_type": "code",
   "execution_count": null,
   "id": "68c955fd",
   "metadata": {},
   "outputs": [],
   "source": [
    "import mne\n",
    "import logging\n",
    "from utils import save_multiplot\n",
    "# Set the logger level to WARNING to reduce verbosity\n",
    "logger = logging.getLogger('mne')\n",
    "logger.setLevel(logging.ERROR)\n",
    "\n",
    "for subject in tqdm(range(1,2), desc='Subjects'):\n",
    "    for run in tqdm(range(1,3), desc='Runs'):\n",
    "        save_multiplot(subject, run)"
   ]
  },
  {
   "cell_type": "code",
   "execution_count": null,
   "id": "190cdd28-fcda-4378-98d5-9d57c6f3019d",
   "metadata": {},
   "outputs": [],
   "source": []
  },
  {
   "cell_type": "code",
   "execution_count": null,
   "id": "3af3fcfe-ab3c-4d74-a019-bf12a4cdcc97",
   "metadata": {},
   "outputs": [],
   "source": [
    "import matplotlib\n",
    "matplotlib.use('Qt5Agg')\n",
    "\n",
    "raw.pick_types(stim=True, misc=True).plot(block=True, start=0, duration=10., precompute='auto')"
   ]
  },
  {
   "cell_type": "code",
   "execution_count": null,
   "id": "83d4fa5a-8594-4289-8d11-0846a42f62eb",
   "metadata": {},
   "outputs": [],
   "source": []
  }
 ],
 "metadata": {
  "kernelspec": {
   "display_name": "Python 3",
   "language": "python",
   "name": "python3"
  },
  "language_info": {
   "codemirror_mode": {
    "name": "ipython",
    "version": 3
   },
   "file_extension": ".py",
   "mimetype": "text/x-python",
   "name": "python",
   "nbconvert_exporter": "python",
   "pygments_lexer": "ipython3",
   "version": "3.9.18"
  }
 },
 "nbformat": 4,
 "nbformat_minor": 5
}
