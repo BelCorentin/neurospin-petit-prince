{
 "cells": [
  {
   "cell_type": "markdown",
   "id": "cacffbea-9cb7-47e9-add6-fffba0ee10d2",
   "metadata": {},
   "source": [
    "# Realigning every listening subject\n",
    "\n",
    "There is, for every listen subject, both a stretch, and an offset that need to be considered.\n",
    "\n",
    "Let's build a dataframe with the information, for each run, of the offset found and the stretch.\n",
    "\n",
    "Finally, plot the un-stretched and with offset data, compared to the metadata."
   ]
  },
  {
   "cell_type": "markdown",
   "id": "a80f562d-7cf4-497e-b18e-0db365327765",
   "metadata": {},
   "source": [
    "## Generate audio ground truth to calculate stretch"
   ]
  },
  {
   "cell_type": "code",
   "execution_count": 5,
   "id": "07692220-3e6b-4d2a-8fa9-d5fc58c45c94",
   "metadata": {},
   "outputs": [],
   "source": [
    "# from utils import gen_audio_words_length\n",
    "import numpy as np\n",
    "\n",
    "# audio_word_length = gen_audio_words_length()\n",
    "\n",
    "# # Save this file to csv not to have to load it everytime\n",
    "\n",
    "# # Save it to numpy file\n",
    "# np.save('audio_word_length.npy', audio_word_length)\n",
    "\n",
    "\n",
    "audio_word_length = np.load('audio_word_length.npy')\n",
    "\n"
   ]
  },
  {
   "cell_type": "markdown",
   "id": "3277a377-0b69-434c-a847-75df7a2cc36a",
   "metadata": {
    "tags": []
   },
   "source": [
    "## Find the offset and stretch"
   ]
  },
  {
   "cell_type": "code",
   "execution_count": 23,
   "id": "bfd9b113-6677-4aac-967b-ea53b092b6a7",
   "metadata": {},
   "outputs": [],
   "source": [
    "from utils import get_raw\n",
    "import pandas as pd\n",
    "\n",
    "df = pd.DataFrame(columns=['subject', 'run', 'offset', 'stretch'])\n",
    "\n",
    "for subject in range(1,2):\n",
    "    for run in range(1,4):\n",
    "        raw, word_triggers, events = get_raw(str(subject), run)\n",
    "        # Calculate the offset between the first word trigger and the first sample\n",
    "        offset = word_triggers[0] - raw.first_samp\n",
    "        # Get the length of the recorded word triggers\n",
    "        meg_word_length = (word_triggers[-1] - word_triggers[0]) / raw.info['sfreq']\n",
    "        # Deduct the stretch factor\n",
    "        stretch = meg_word_length / audio_word_length[run-1]\n",
    "\n",
    "        # Append the offset and the stretch factor to the dataframe using concat\n",
    "        df = pd.concat([df, pd.DataFrame({'subject': [subject], 'run': [run], 'offset': [offset], 'stretch': [stretch]})], ignore_index=True)\n",
    "        # Save the dataframe\n",
    "        df.to_csv('infos.csv', index=False)"
   ]
  },
  {
   "cell_type": "code",
   "execution_count": 24,
   "id": "97fe57bd",
   "metadata": {},
   "outputs": [
    {
     "data": {
      "text/html": [
       "<div>\n",
       "<style scoped>\n",
       "    .dataframe tbody tr th:only-of-type {\n",
       "        vertical-align: middle;\n",
       "    }\n",
       "\n",
       "    .dataframe tbody tr th {\n",
       "        vertical-align: top;\n",
       "    }\n",
       "\n",
       "    .dataframe thead th {\n",
       "        text-align: right;\n",
       "    }\n",
       "</style>\n",
       "<table border=\"1\" class=\"dataframe\">\n",
       "  <thead>\n",
       "    <tr style=\"text-align: right;\">\n",
       "      <th></th>\n",
       "      <th>subject</th>\n",
       "      <th>run</th>\n",
       "      <th>offset</th>\n",
       "      <th>stretch</th>\n",
       "    </tr>\n",
       "  </thead>\n",
       "  <tbody>\n",
       "    <tr>\n",
       "      <th>0</th>\n",
       "      <td>1</td>\n",
       "      <td>1</td>\n",
       "      <td>5157</td>\n",
       "      <td>0.999993</td>\n",
       "    </tr>\n",
       "    <tr>\n",
       "      <th>1</th>\n",
       "      <td>1</td>\n",
       "      <td>2</td>\n",
       "      <td>4633</td>\n",
       "      <td>0.999981</td>\n",
       "    </tr>\n",
       "    <tr>\n",
       "      <th>2</th>\n",
       "      <td>1</td>\n",
       "      <td>3</td>\n",
       "      <td>5127</td>\n",
       "      <td>0.999981</td>\n",
       "    </tr>\n",
       "  </tbody>\n",
       "</table>\n",
       "</div>"
      ],
      "text/plain": [
       "  subject run offset   stretch\n",
       "0       1   1   5157  0.999993\n",
       "1       1   2   4633  0.999981\n",
       "2       1   3   5127  0.999981"
      ]
     },
     "execution_count": 24,
     "metadata": {},
     "output_type": "execute_result"
    }
   ],
   "source": [
    "df"
   ]
  },
  {
   "cell_type": "code",
   "execution_count": null,
   "id": "44879c08",
   "metadata": {},
   "outputs": [],
   "source": [
    "# Printing the aligned triggers vs the original ones to make sure they are aligned with the stretch applied\n",
    "\n",
    "# Load the dataframe\n"
   ]
  },
  {
   "cell_type": "code",
   "execution_count": 23,
   "id": "d2059b07-83f9-4310-b2c9-faee5f060b80",
   "metadata": {},
   "outputs": [],
   "source": [
    "\n"
   ]
  },
  {
   "cell_type": "code",
   "execution_count": 26,
   "id": "dbaccccd",
   "metadata": {},
   "outputs": [
    {
     "data": {
      "text/html": [
       "<table class=\"table table-hover table-striped table-sm table-responsive small\">\n",
       "    <tr>\n",
       "        <th>Measurement date</th>\n",
       "        \n",
       "        <td>October 19, 2022  10:06:55 GMT</td>\n",
       "        \n",
       "    </tr>\n",
       "    <tr>\n",
       "        <th>Experimenter</th>\n",
       "        \n",
       "        <td>mne_anonymize</td>\n",
       "        \n",
       "    </tr>\n",
       "        <th>Participant</th>\n",
       "        \n",
       "            \n",
       "            <td>sub-1</td>\n",
       "            \n",
       "        \n",
       "    </tr>\n",
       "    <tr>\n",
       "        <th>Digitized points</th>\n",
       "        \n",
       "        <td>53 points</td>\n",
       "        \n",
       "    </tr>\n",
       "    <tr>\n",
       "        <th>Good channels</th>\n",
       "        <td>204 Gradiometers, 102 Magnetometers, 19 Stimulus, 2 EOG, 1 ECG, 18 misc</td>\n",
       "    </tr>\n",
       "    <tr>\n",
       "        <th>Bad channels</th>\n",
       "        <td>None</td>\n",
       "    </tr>\n",
       "    <tr>\n",
       "        <th>EOG channels</th>\n",
       "        <td>EOG061, EOG062</td>\n",
       "    </tr>\n",
       "    <tr>\n",
       "        <th>ECG channels</th>\n",
       "        <td>ECG063</td>\n",
       "    \n",
       "    <tr>\n",
       "        <th>Sampling frequency</th>\n",
       "        <td>1000.00 Hz</td>\n",
       "    </tr>\n",
       "    \n",
       "    \n",
       "    <tr>\n",
       "        <th>Highpass</th>\n",
       "        <td>0.00 Hz</td>\n",
       "    </tr>\n",
       "    \n",
       "    \n",
       "    <tr>\n",
       "        <th>Lowpass</th>\n",
       "        <td>330.00 Hz</td>\n",
       "    </tr>\n",
       "    \n",
       "    \n",
       "    <tr>\n",
       "        <th>Projections</th>\n",
       "        <td>grad_ssp_upright.fif : PCA-v1 : off<br/>grad_ssp_upright.fif : PCA-v2 : off<br/>grad_ssp_upright.fif : PCA-v3 : off<br/>grad_ssp_upright.fif : PCA-v4 : off<br/>grad_ssp_upright.fif : PCA-v5 : off<br/>mag_ssp_upright.fif : PCA-v1 : off<br/>mag_ssp_upright.fif : PCA-v2 : off<br/>mag_ssp_upright.fif : PCA-v3 : off<br/>mag_ssp_upright.fif : PCA-v4 : off<br/>mag_ssp_upright.fif : PCA-v5 : off<br/>mag_ssp_upright.fif : PCA-v6 : off<br/>mag_ssp_upright.fif : PCA-v7 : off<br/>mag_ssp_upright.fif : PCA-v8 : off</td>\n",
       "    </tr>\n",
       "    \n",
       "    \n",
       "    <tr>\n",
       "        <th>Filenames</th>\n",
       "        <td>sub-1_ses-01_task-listen_run-03_meg.fif</td>\n",
       "    </tr>\n",
       "    \n",
       "    <tr>\n",
       "        <th>Duration</th>\n",
       "        <td>00:11:44 (HH:MM:SS)</td>\n",
       "    </tr>\n",
       "</table>"
      ],
      "text/plain": [
       "<Raw | sub-1_ses-01_task-listen_run-03_meg.fif, 346 x 705000 (705.0 s), ~5.4 MB, data not loaded>"
      ]
     },
     "execution_count": 26,
     "metadata": {},
     "output_type": "execute_result"
    }
   ],
   "source": [
    "raw"
   ]
  },
  {
   "cell_type": "code",
   "execution_count": 29,
   "id": "561e7ea0-7538-46d2-b4b0-7e872d6d3a2d",
   "metadata": {},
   "outputs": [
    {
     "name": "stderr",
     "output_type": "stream",
     "text": [
      "/home/co/workspace_LPP/code/neurospin-petit-prince/dataset_formatting/auditory_realigning/utils.py:80: RuntimeWarning: This file contains raw Internal Active Shielding data. It may be distorted. Elekta recommends it be run through MaxFilter to produce reliable results. Consider closing the file and running MaxFilter on the data.\n",
      "  raw = mne_bids.read_raw_bids(bids_path)\n",
      "/home/co/workspace_LPP/code/neurospin-petit-prince/dataset_formatting/auditory_realigning/utils.py:80: RuntimeWarning: The unit for channel(s) STI001, STI002, STI003, STI004, STI005, STI006, STI007, STI008, STI009, STI010, STI011, STI012, STI013, STI014, STI015, STI016, STI101, STI201, STI301 has changed from V to NA.\n",
      "  raw = mne_bids.read_raw_bids(bids_path)\n"
     ]
    },
    {
     "data": {
      "text/plain": [
       "(620.0, 630.0)"
      ]
     },
     "execution_count": 29,
     "metadata": {},
     "output_type": "execute_result"
    },
    {
     "data": {
      "image/png": "[encoded data removed]",
      "text/plain": [
       "<Figure size 432x288 with 1 Axes>"
      ]
     },
     "metadata": {
      "needs_background": "light"
     },
     "output_type": "display_data"
    }
   ],
   "source": [
    "raw, word_triggers, events = get_raw(str(3), run)\n",
    "raw.pick(['stim', 'misc'])\n",
    "events = mne.find_events(raw, output='step')\n",
    "times = np.copy(raw.times)\n",
    "values = np.zeros_like(times)\n",
    "values[events[:, 0]-raw.first_samp] = 1\n",
    "# plt.plot(times, values)\n",
    "# plt.xlim(0, 100)\n",
    "\n",
    "wav_fs, wav = wavfile.read('/media/co/T7/workspace-LPP/data/MEG/LPP/PallierListen2023/download/sourcedata/stimuli/audio/ch1-3.wav')\n",
    "wav, wav_fs, wav_times = resample_signal(wav, wav_fs, raw.info['sfreq'])\n",
    "\n",
    "wav_triggers = np.clip(wav[:, 1], 0, 1)\n",
    "\n",
    "plt.plot(times, values)\n",
    "\n",
    "offset = word_triggers[0] - raw.first_samp\n",
    "# Get the length of the recorded word triggers\n",
    "meg_word_length = (word_triggers[-1] - word_triggers[0]) / raw.info['sfreq']\n",
    "# Deduct the stretch factor\n",
    "stretch = meg_word_length / audio_word_length[run-1]\n",
    "plt.plot(offset+wav_times*stretch, wav_triggers)\n",
    "plt.xlim(18, 20)\n",
    "# plt.xlim(20, 50)\n",
    "# plt.xlim(120, 170)\n",
    "# plt.xlim(200, 270)\n",
    "# plt.xlim(200, 210)\n",
    "# plt.xlim(620, 630)"
   ]
  },
  {
   "cell_type": "code",
   "execution_count": 44,
   "id": "43b651d9",
   "metadata": {},
   "outputs": [
    {
     "data": {
      "text/plain": [
       "[<matplotlib.lines.Line2D at 0x713c00954310>]"
      ]
     },
     "execution_count": 44,
     "metadata": {},
     "output_type": "execute_result"
    },
    {
     "data": {
      "image/png": "[encoded data removed]",
      "text/plain": [
       "<Figure size 432x288 with 1 Axes>"
      ]
     },
     "metadata": {
      "needs_background": "light"
     },
     "output_type": "display_data"
    }
   ],
   "source": [
    "plt.plot(times, values)\n"
   ]
  },
  {
   "cell_type": "code",
   "execution_count": 34,
   "id": "14d34086",
   "metadata": {},
   "outputs": [
    {
     "data": {
      "text/plain": [
       "[<matplotlib.lines.Line2D at 0x713c00a6f9d0>]"
      ]
     },
     "execution_count": 34,
     "metadata": {},
     "output_type": "execute_result"
    },
    {
     "data": {
      "image/png": "[encoded data removed]",
      "text/plain": [
       "<Figure size 432x288 with 1 Axes>"
      ]
     },
     "metadata": {
      "needs_background": "light"
     },
     "output_type": "display_data"
    }
   ],
   "source": [
    "plt.plot(offset+wav_times*stretch, wav_triggers)\n"
   ]
  },
  {
   "cell_type": "code",
   "execution_count": 33,
   "id": "cf0a8ac9",
   "metadata": {},
   "outputs": [
    {
     "data": {
      "text/plain": [
       "(200.0, 270.0)"
      ]
     },
     "execution_count": 33,
     "metadata": {},
     "output_type": "execute_result"
    },
    {
     "data": {
      "image/png": "[encoded data removed]",
      "text/plain": [
       "<Figure size 432x288 with 1 Axes>"
      ]
     },
     "metadata": {
      "needs_background": "light"
     },
     "output_type": "display_data"
    }
   ],
   "source": [
    "plt.plot(times, values)\n",
    "\n",
    "offset = word_triggers[0] - raw.first_samp\n",
    "# Get the length of the recorded word triggers\n",
    "meg_word_length = (word_triggers[-1] - word_triggers[0]) / raw.info['sfreq']\n",
    "# Deduct the stretch factor\n",
    "stretch = meg_word_length / audio_word_length[run-1]\n",
    "plt.plot(offset+wav_times*stretch, wav_triggers)\n",
    "# plt.xlim(20, 50)\n",
    "# plt.xlim(120, 170)\n",
    "# plt.xlim(200, 270)\n",
    "# plt.xlim(200, 210)\n",
    "# plt.xlim(620, 630)\n",
    "\n",
    "# plt.xlim(20, 50)\n",
    "# plt.xlim(120, 170)\n",
    "plt.xlim(200, 270)\n",
    "# plt.xlim(200, 210)\n",
    "# plt.xlim(620, 630)"
   ]
  },
  {
   "cell_type": "code",
   "execution_count": 25,
   "id": "f330c33e-cfd8-4e16-9c3f-cfa18907bb2d",
   "metadata": {},
   "outputs": [],
   "source": [
    "import mne\n",
    "import matplotlib.pyplot as plt\n",
    "import numpy as np\n",
    "import pandas as pd\n",
    "from scipy.io import wavfile\n",
    "from scipy.signal import resample\n",
    "from scipy.signal import correlate\n",
    "from tqdm import tqdm\n",
    "from pydantic import BaseModel\n",
    "import typing as tp\n",
    "mne.set_log_level(False)\n",
    "\n",
    "def resample_signal(signal, original_freq, target_freq):\n",
    "    \n",
    "    # Calculate the number of samples in the resampled signal\n",
    "    num_samples_target = int(len(signal) * target_freq / original_freq)\n",
    "    \n",
    "    # Resample the signal\n",
    "    resampled_signal = resample(signal, num_samples_target)\n",
    "    resampled_signal /= resampled_signal.max(0, keepdims=True)\n",
    "    \n",
    "    # Create the time vector for the resampled signal\n",
    "    resampled_time = np.linspace(0, len(signal) / original_freq, num_samples_target, endpoint=False)\n",
    "    \n",
    "    return resampled_signal, target_freq, resampled_time\n",
    "\n",
    "def gaussian_kernel(size, sigma):\n",
    "    position = np.arange(size) - size // 2\n",
    "    kernel_raw = np.exp(-0.5 * (position / sigma) ** 2)\n",
    "    kernel_normalized = kernel_raw / np.sum(kernel_raw)\n",
    "    return kernel_normalized\n",
    "    \n",
    "def lowpass(data, sfreq, wsize=20):\n",
    "    window_size = int(.500 * sfreq)\n",
    "    filter_kernel = gaussian_kernel(window_size, wsize)\n",
    "    out = np.convolve(data, filter_kernel, mode='same')\n",
    "    return out / out.max()\n",
    "\n",
    "def align_series(x, y, stretches, decim=1):\n",
    "    X, Y = x, y\n",
    "    if decim:\n",
    "        x = x[::decim]\n",
    "        y = y[::decim]\n",
    "\n",
    "    # pad\n",
    "    assert len(x) == len(y) # FIXME\n",
    "    if len(x) < len(y):\n",
    "        z = np.zeros(len(y)-len(x))\n",
    "        x = np.r_[z, x]\n",
    "    elif len(x) > len(y):\n",
    "        z = np.zeros(len(x)-len(y))\n",
    "        y = np.r_[z, y]\n",
    "    n = len(x)\n",
    "\n",
    "    R = []\n",
    "    for stretch in tqdm(stretches):\n",
    "        new_length = int(stretch * n)\n",
    "        y_hat = resample(y, new_length)\n",
    "        r = correlate(x, y_hat)\n",
    "        R.append(r.max())\n",
    "\n",
    "    best = np.argmax(R)\n",
    "    strech = stretches[best]\n",
    "\n",
    "    # offset\n",
    "    r = correlate(X, Y)\n",
    "    best = np.argmax(r)\n",
    "    offsets = np.arange(-len(X) + 1, len(Y))\n",
    "    offset = offsets[best]\n",
    "    \n",
    "    return strech, offset\n",
    "    \n",
    "\n",
    "def resample_safe(x, target_length):\n",
    "    idx = np.linspace(0., len(x)-1, target_length).astype(int)\n",
    "    return x[idx]\n",
    "    \n",
    "class Align(BaseModel):\n",
    "    stretches: tp.List[float] = np.linspace(.99, 1.02, 500)\n",
    "    decim: int = 1\n",
    "    freq: float\n",
    "\n",
    "    _stretch: float\n",
    "    _offset: float\n",
    "\n",
    "    def fit(self, X, Y):\n",
    "        X = lowpass(X, self.freq)\n",
    "        Y = lowpass(Y, self.freq)\n",
    "        self._stretch, self._offset = align_series(Y, X, self.stretches, self.decim)\n",
    "        return self\n",
    "\n",
    "    def predict(self, X):\n",
    "        Y_hat = resample_safe(X, int(self._stretch*len(X)))\n",
    "\n",
    "        pad = np.zeros(int(np.abs(self._offset)))\n",
    "        if self._offset>0:\n",
    "            Y_hat = np.r_[pad, Y_hat]\n",
    "        elif self._offset<0:\n",
    "            Y_hat = np.r_[Y_hat, pad]\n",
    "        return Y_hat"
   ]
  },
  {
   "cell_type": "code",
   "execution_count": null,
   "id": "190cdd28-fcda-4378-98d5-9d57c6f3019d",
   "metadata": {},
   "outputs": [],
   "source": []
  },
  {
   "cell_type": "code",
   "execution_count": 26,
   "id": "02d887aa-6ed9-4450-add1-20690e19d7d1",
   "metadata": {},
   "outputs": [
    {
     "data": {
      "text/plain": [
       "0.9999934118422136"
      ]
     },
     "execution_count": 26,
     "metadata": {},
     "output_type": "execute_result"
    }
   ],
   "source": [
    "stretch"
   ]
  },
  {
   "cell_type": "code",
   "execution_count": 27,
   "id": "3af3fcfe-ab3c-4d74-a019-bf12a4cdcc97",
   "metadata": {},
   "outputs": [
    {
     "data": {
      "text/plain": [
       "<MNEBrowseFigure size 1850x1016 with 4 Axes>"
      ]
     },
     "execution_count": 27,
     "metadata": {},
     "output_type": "execute_result"
    }
   ],
   "source": [
    "import matplotlib\n",
    "matplotlib.use('Qt5Agg')\n",
    "\n",
    "raw.pick_types(stim=True, misc=True).plot(block=True, start=0, duration=10., precompute='auto')"
   ]
  },
  {
   "cell_type": "code",
   "execution_count": null,
   "id": "83d4fa5a-8594-4289-8d11-0846a42f62eb",
   "metadata": {},
   "outputs": [],
   "source": []
  }
 ],
 "metadata": {
  "kernelspec": {
   "display_name": "Python 3",
   "language": "python",
   "name": "python3"
  },
  "language_info": {
   "codemirror_mode": {
    "name": "ipython",
    "version": 3
   },
   "file_extension": ".py",
   "mimetype": "text/x-python",
   "name": "python",
   "nbconvert_exporter": "python",
   "pygments_lexer": "ipython3",
   "version": "3.9.18"
  }
 },
 "nbformat": 4,
 "nbformat_minor": 5
}
