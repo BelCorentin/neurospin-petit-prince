{
 "cells": [
  {
   "cell_type": "markdown",
   "metadata": {},
   "source": [
    "# Purpose \n",
    "\n",
    "This notebook is meant to quickly understand why the decoding algorithm / other part of the pipeline didn't work for a particular subject / run, using the trigger channels, identifying the bad channels, etc.."
   ]
  },
  {
   "cell_type": "code",
   "execution_count": 2,
   "metadata": {},
   "outputs": [],
   "source": [
    "# Imports\n",
    "\n",
    "import mne\n",
    "import mne_bids\n",
    "import numpy as np\n",
    "import pandas as pd\n",
    "import matplotlib.pyplot as plt\n",
    "import seaborn as sns\n",
    "from pathlib import Path\n",
    "import matplotlib\n",
    "matplotlib.use(\"Agg\")\n",
    "mne.set_log_level(False)\n",
    "import time\n",
    "import os\n",
    "\n",
    "\n",
    "%matplotlib inline"
   ]
  },
  {
   "cell_type": "code",
   "execution_count": 55,
   "metadata": {},
   "outputs": [],
   "source": [
    "# CONST DEFINITION\n",
    "\n",
    "subject_to_debug = '1'\n",
    "bids = Path(\"/home/is153802/workspace_LPP/data/MEG/LPP/BIDS_final\")\n",
    "TASK = 'listen'"
   ]
  },
  {
   "cell_type": "code",
   "execution_count": 77,
   "metadata": {},
   "outputs": [
    {
     "name": "stdout",
     "output_type": "stream",
     "text": [
      "/home/is153802/workspace_LPP/data/MEG/LPP/BIDS_final/sub-1/ses-01/meg/sub-1_ses-01_task-listen_run-01_meg.fif\n"
     ]
    },
    {
     "ename": "ValueError",
     "evalue": "Could not find measurement data",
     "output_type": "error",
     "traceback": [
      "\u001b[0;31m---------------------------------------------------------------------------\u001b[0m",
      "\u001b[0;31mValueError\u001b[0m                                Traceback (most recent call last)",
      "Cell \u001b[0;32mIn [77], line 11\u001b[0m\n\u001b[1;32m      1\u001b[0m bids_path \u001b[39m=\u001b[39m mne_bids\u001b[39m.\u001b[39mBIDSPath(\n\u001b[1;32m      2\u001b[0m                 subject\u001b[39m=\u001b[39msubject_to_debug,\n\u001b[1;32m      3\u001b[0m                 session\u001b[39m=\u001b[39m\u001b[39m'\u001b[39m\u001b[39m01\u001b[39m\u001b[39m'\u001b[39m,\n\u001b[0;32m   (...)\u001b[0m\n\u001b[1;32m      7\u001b[0m                 run \u001b[39m=\u001b[39m \u001b[39m'\u001b[39m\u001b[39m01\u001b[39m\u001b[39m'\u001b[39m\n\u001b[1;32m      8\u001b[0m             )\n\u001b[1;32m     10\u001b[0m \u001b[39mprint\u001b[39m(bids_path)\n\u001b[0;32m---> 11\u001b[0m raw_bids \u001b[39m=\u001b[39m mne_bids\u001b[39m.\u001b[39mread_raw_bids(bids_path)\n\u001b[1;32m     13\u001b[0m raw_bids\u001b[39m.\u001b[39mload_data()\n",
      "File \u001b[0;32m<decorator-gen-612>:12\u001b[0m, in \u001b[0;36mread_raw_bids\u001b[0;34m(bids_path, extra_params, verbose)\u001b[0m\n",
      "File \u001b[0;32m~/.pyenv/versions/3.10.6/envs/meg-masc/lib/python3.10/site-packages/mne_bids/read.py:717\u001b[0m, in \u001b[0;36mread_raw_bids\u001b[0;34m(bids_path, extra_params, verbose)\u001b[0m\n\u001b[1;32m    715\u001b[0m \u001b[39mif\u001b[39;00m raw_path\u001b[39m.\u001b[39msuffix \u001b[39m==\u001b[39m \u001b[39m'\u001b[39m\u001b[39m.fif\u001b[39m\u001b[39m'\u001b[39m \u001b[39mand\u001b[39;00m \u001b[39m'\u001b[39m\u001b[39mallow_maxshield\u001b[39m\u001b[39m'\u001b[39m \u001b[39mnot\u001b[39;00m \u001b[39min\u001b[39;00m extra_params:\n\u001b[1;32m    716\u001b[0m     extra_params[\u001b[39m'\u001b[39m\u001b[39mallow_maxshield\u001b[39m\u001b[39m'\u001b[39m] \u001b[39m=\u001b[39m \u001b[39mTrue\u001b[39;00m\n\u001b[0;32m--> 717\u001b[0m raw \u001b[39m=\u001b[39m _read_raw(raw_path, electrode\u001b[39m=\u001b[39;49m\u001b[39mNone\u001b[39;49;00m, hsp\u001b[39m=\u001b[39;49m\u001b[39mNone\u001b[39;49;00m, hpi\u001b[39m=\u001b[39;49m\u001b[39mNone\u001b[39;49;00m,\n\u001b[1;32m    718\u001b[0m                 config_path\u001b[39m=\u001b[39;49mconfig_path, \u001b[39m*\u001b[39;49m\u001b[39m*\u001b[39;49mextra_params)\n\u001b[1;32m    720\u001b[0m \u001b[39m# Try to find an associated events.tsv to get information about the\u001b[39;00m\n\u001b[1;32m    721\u001b[0m \u001b[39m# events in the recorded data\u001b[39;00m\n\u001b[1;32m    722\u001b[0m events_fname \u001b[39m=\u001b[39m _find_matching_sidecar(bids_path, suffix\u001b[39m=\u001b[39m\u001b[39m'\u001b[39m\u001b[39mevents\u001b[39m\u001b[39m'\u001b[39m,\n\u001b[1;32m    723\u001b[0m                                       extension\u001b[39m=\u001b[39m\u001b[39m'\u001b[39m\u001b[39m.tsv\u001b[39m\u001b[39m'\u001b[39m,\n\u001b[1;32m    724\u001b[0m                                       on_error\u001b[39m=\u001b[39m\u001b[39m'\u001b[39m\u001b[39mwarn\u001b[39m\u001b[39m'\u001b[39m)\n",
      "File \u001b[0;32m~/.pyenv/versions/3.10.6/envs/meg-masc/lib/python3.10/site-packages/mne_bids/read.py:56\u001b[0m, in \u001b[0;36m_read_raw\u001b[0;34m(raw_path, electrode, hsp, hpi, allow_maxshield, config_path, **kwargs)\u001b[0m\n\u001b[1;32m     47\u001b[0m     raw \u001b[39m=\u001b[39m io\u001b[39m.\u001b[39mread_raw_bti(\n\u001b[1;32m     48\u001b[0m         pdf_fname\u001b[39m=\u001b[39m\u001b[39mstr\u001b[39m(raw_path),  \u001b[39m# FIXME MNE should accept Path!\u001b[39;00m\n\u001b[1;32m     49\u001b[0m         config_fname\u001b[39m=\u001b[39m\u001b[39mstr\u001b[39m(config_path),  \u001b[39m# FIXME MNE should accept Path!\u001b[39;00m\n\u001b[0;32m   (...)\u001b[0m\n\u001b[1;32m     52\u001b[0m         \u001b[39m*\u001b[39m\u001b[39m*\u001b[39mkwargs\n\u001b[1;32m     53\u001b[0m     )\n\u001b[1;32m     55\u001b[0m \u001b[39melif\u001b[39;00m ext \u001b[39m==\u001b[39m \u001b[39m'\u001b[39m\u001b[39m.fif\u001b[39m\u001b[39m'\u001b[39m:\n\u001b[0;32m---> 56\u001b[0m     raw \u001b[39m=\u001b[39m reader[ext](raw_path, allow_maxshield, \u001b[39m*\u001b[39;49m\u001b[39m*\u001b[39;49mkwargs)\n\u001b[1;32m     58\u001b[0m \u001b[39melif\u001b[39;00m ext \u001b[39min\u001b[39;00m [\u001b[39m'\u001b[39m\u001b[39m.ds\u001b[39m\u001b[39m'\u001b[39m, \u001b[39m'\u001b[39m\u001b[39m.vhdr\u001b[39m\u001b[39m'\u001b[39m, \u001b[39m'\u001b[39m\u001b[39m.set\u001b[39m\u001b[39m'\u001b[39m, \u001b[39m'\u001b[39m\u001b[39m.edf\u001b[39m\u001b[39m'\u001b[39m, \u001b[39m'\u001b[39m\u001b[39m.bdf\u001b[39m\u001b[39m'\u001b[39m, \u001b[39m'\u001b[39m\u001b[39m.EDF\u001b[39m\u001b[39m'\u001b[39m, \u001b[39m'\u001b[39m\u001b[39m.snirf\u001b[39m\u001b[39m'\u001b[39m]:\n\u001b[1;32m     59\u001b[0m     raw_path \u001b[39m=\u001b[39m Path(raw_path)\n",
      "File \u001b[0;32m~/.pyenv/versions/3.10.6/envs/meg-masc/lib/python3.10/site-packages/mne/io/fiff/raw.py:482\u001b[0m, in \u001b[0;36mread_raw_fif\u001b[0;34m(fname, allow_maxshield, preload, on_split_missing, verbose)\u001b[0m\n\u001b[1;32m    442\u001b[0m \u001b[39m@fill_doc\u001b[39m\n\u001b[1;32m    443\u001b[0m \u001b[39mdef\u001b[39;00m \u001b[39mread_raw_fif\u001b[39m(fname, allow_maxshield\u001b[39m=\u001b[39m\u001b[39mFalse\u001b[39;00m, preload\u001b[39m=\u001b[39m\u001b[39mFalse\u001b[39;00m,\n\u001b[1;32m    444\u001b[0m                  on_split_missing\u001b[39m=\u001b[39m\u001b[39m'\u001b[39m\u001b[39mraise\u001b[39m\u001b[39m'\u001b[39m, verbose\u001b[39m=\u001b[39m\u001b[39mNone\u001b[39;00m):\n\u001b[1;32m    445\u001b[0m     \u001b[39m\"\"\"Reader function for Raw FIF data.\u001b[39;00m\n\u001b[1;32m    446\u001b[0m \n\u001b[1;32m    447\u001b[0m \u001b[39m    Parameters\u001b[39;00m\n\u001b[0;32m   (...)\u001b[0m\n\u001b[1;32m    480\u001b[0m \u001b[39m    are updated accordingly.\u001b[39;00m\n\u001b[1;32m    481\u001b[0m \u001b[39m    \"\"\"\u001b[39;00m\n\u001b[0;32m--> 482\u001b[0m     \u001b[39mreturn\u001b[39;00m Raw(fname\u001b[39m=\u001b[39;49mfname, allow_maxshield\u001b[39m=\u001b[39;49mallow_maxshield,\n\u001b[1;32m    483\u001b[0m                preload\u001b[39m=\u001b[39;49mpreload, verbose\u001b[39m=\u001b[39;49mverbose,\n\u001b[1;32m    484\u001b[0m                on_split_missing\u001b[39m=\u001b[39;49mon_split_missing)\n",
      "File \u001b[0;32m<decorator-gen-261>:12\u001b[0m, in \u001b[0;36m__init__\u001b[0;34m(self, fname, allow_maxshield, preload, on_split_missing, verbose)\u001b[0m\n",
      "File \u001b[0;32m~/.pyenv/versions/3.10.6/envs/meg-masc/lib/python3.10/site-packages/mne/io/fiff/raw.py:81\u001b[0m, in \u001b[0;36mRaw.__init__\u001b[0;34m(self, fname, allow_maxshield, preload, on_split_missing, verbose)\u001b[0m\n\u001b[1;32m     78\u001b[0m next_fname \u001b[39m=\u001b[39m fname\n\u001b[1;32m     79\u001b[0m \u001b[39mwhile\u001b[39;00m next_fname \u001b[39mis\u001b[39;00m \u001b[39mnot\u001b[39;00m \u001b[39mNone\u001b[39;00m:\n\u001b[1;32m     80\u001b[0m     raw, next_fname, buffer_size_sec \u001b[39m=\u001b[39m \\\n\u001b[0;32m---> 81\u001b[0m         \u001b[39mself\u001b[39;49m\u001b[39m.\u001b[39;49m_read_raw_file(next_fname, allow_maxshield,\n\u001b[1;32m     82\u001b[0m                             preload, do_check_ext)\n\u001b[1;32m     83\u001b[0m     do_check_ext \u001b[39m=\u001b[39m \u001b[39mFalse\u001b[39;00m\n\u001b[1;32m     84\u001b[0m     raws\u001b[39m.\u001b[39mappend(raw)\n",
      "File \u001b[0;32m<decorator-gen-262>:12\u001b[0m, in \u001b[0;36m_read_raw_file\u001b[0;34m(self, fname, allow_maxshield, preload, do_check_ext, verbose)\u001b[0m\n",
      "File \u001b[0;32m~/.pyenv/versions/3.10.6/envs/meg-masc/lib/python3.10/site-packages/mne/io/fiff/raw.py:160\u001b[0m, in \u001b[0;36mRaw._read_raw_file\u001b[0;34m(self, fname, allow_maxshield, preload, do_check_ext, verbose)\u001b[0m\n\u001b[1;32m    156\u001b[0m ff, tree, _ \u001b[39m=\u001b[39m fiff_open(fname, preload\u001b[39m=\u001b[39mwhole_file)\n\u001b[1;32m    157\u001b[0m \u001b[39mwith\u001b[39;00m ff \u001b[39mas\u001b[39;00m fid:\n\u001b[1;32m    158\u001b[0m     \u001b[39m#   Read the measurement info\u001b[39;00m\n\u001b[0;32m--> 160\u001b[0m     info, meas \u001b[39m=\u001b[39m read_meas_info(fid, tree, clean_bads\u001b[39m=\u001b[39;49m\u001b[39mTrue\u001b[39;49;00m)\n\u001b[1;32m    161\u001b[0m     annotations \u001b[39m=\u001b[39m _read_annotations_fif(fid, tree)\n\u001b[1;32m    163\u001b[0m     \u001b[39m#   Locate the data of interest\u001b[39;00m\n",
      "File \u001b[0;32m<decorator-gen-34>:12\u001b[0m, in \u001b[0;36mread_meas_info\u001b[0;34m(fid, tree, clean_bads, verbose)\u001b[0m\n",
      "File \u001b[0;32m~/.pyenv/versions/3.10.6/envs/meg-masc/lib/python3.10/site-packages/mne/io/meas_info.py:1391\u001b[0m, in \u001b[0;36mread_meas_info\u001b[0;34m(fid, tree, clean_bads, verbose)\u001b[0m\n\u001b[1;32m   1389\u001b[0m meas \u001b[39m=\u001b[39m dir_tree_find(tree, FIFF\u001b[39m.\u001b[39mFIFFB_MEAS)\n\u001b[1;32m   1390\u001b[0m \u001b[39mif\u001b[39;00m \u001b[39mlen\u001b[39m(meas) \u001b[39m==\u001b[39m \u001b[39m0\u001b[39m:\n\u001b[0;32m-> 1391\u001b[0m     \u001b[39mraise\u001b[39;00m \u001b[39mValueError\u001b[39;00m(\u001b[39m'\u001b[39m\u001b[39mCould not find measurement data\u001b[39m\u001b[39m'\u001b[39m)\n\u001b[1;32m   1392\u001b[0m \u001b[39mif\u001b[39;00m \u001b[39mlen\u001b[39m(meas) \u001b[39m>\u001b[39m \u001b[39m1\u001b[39m:\n\u001b[1;32m   1393\u001b[0m     \u001b[39mraise\u001b[39;00m \u001b[39mValueError\u001b[39;00m(\u001b[39m'\u001b[39m\u001b[39mCannot read more that 1 measurement data\u001b[39m\u001b[39m'\u001b[39m)\n",
      "\u001b[0;31mValueError\u001b[0m: Could not find measurement data"
     ]
    }
   ],
   "source": [
    "bids_path = mne_bids.BIDSPath(\n",
    "                subject=subject_to_debug,\n",
    "                session='01',\n",
    "                task=TASK,\n",
    "                datatype=\"meg\",\n",
    "                root=bids,\n",
    "                run = '01'\n",
    "            )\n",
    "\n",
    "print(bids_path)\n",
    "raw_bids = mne_bids.read_raw_bids(bids_path)\n",
    "\n",
    "raw_bids.load_data()"
   ]
  },
  {
   "cell_type": "code",
   "execution_count": 72,
   "metadata": {},
   "outputs": [
    {
     "name": "stdout",
     "output_type": "stream",
     "text": [
      "(1616, 3)\n"
     ]
    }
   ],
   "source": [
    "events = mne.find_events(raw_bids, stim_channel='STI101', shortest_event=1,min_duration=0.001000001)\n",
    "print(events.shape)"
   ]
  },
  {
   "cell_type": "code",
   "execution_count": 76,
   "metadata": {},
   "outputs": [
    {
     "name": "stderr",
     "output_type": "stream",
     "text": [
      "/tmp/ipykernel_748599/3677838045.py:1: RuntimeWarning: This filename (/home/is153802/workspace_LPP/data/MEG/LPP/BIDS_final/sub-1/ses-01/meg/sub-1_ses-01_task-listen_run-01_meg.fif) does not conform to MNE naming conventions. All events files should end with .eve, -eve.fif, -eve.fif.gz, -eve.lst, -eve.txt, _eve.fif, _eve.fif.gz, _eve.lst or _eve.txt\n",
      "  mne.write_events(filename=bids_path.fpath,events=events,overwrite=True )\n"
     ]
    }
   ],
   "source": [
    "mne.write_events(filename=bids_path.fpath,events=events,overwrite=True )"
   ]
  },
  {
   "cell_type": "code",
   "execution_count": 75,
   "metadata": {},
   "outputs": [
    {
     "data": {
      "text/plain": [
       "PosixPath('/home/is153802/workspace_LPP/data/MEG/LPP/BIDS_final/sub-1/ses-01/meg/sub-1_ses-01_task-listen_run-01_meg.fif')"
      ]
     },
     "execution_count": 75,
     "metadata": {},
     "output_type": "execute_result"
    }
   ],
   "source": [
    "bids_path.fpath"
   ]
  },
  {
   "cell_type": "code",
   "execution_count": 6,
   "metadata": {},
   "outputs": [
    {
     "name": "stderr",
     "output_type": "stream",
     "text": [
      "/tmp/ipykernel_748599/2143477150.py:1: RuntimeWarning: The measurement information indicates a low-pass frequency of 330.0 Hz. The decim=10 parameter will result in a sampling frequency of 100.0 Hz, which can cause aliasing artifacts.\n",
      "  epochs = mne.Epochs(raw_bids, events,\n"
     ]
    }
   ],
   "source": [
    "epochs = mne.Epochs(raw_bids, events, \n",
    "                    tmin=-.3, tmax=.8, decim=10, baseline=(-0.2, 0.0))"
   ]
  },
  {
   "cell_type": "code",
   "execution_count": 52,
   "metadata": {},
   "outputs": [
    {
     "data": {
      "text/plain": [
       "array([[ 43907,      0,      1],\n",
       "       [ 47187,      0,    128],\n",
       "       [ 47558,      0,    128],\n",
       "       ...,\n",
       "       [654852,      0,    128],\n",
       "       [655011,      0,    128],\n",
       "       [658129,      0,      1]])"
      ]
     },
     "execution_count": 52,
     "metadata": {},
     "output_type": "execute_result"
    }
   ],
   "source": [
    "events"
   ]
  },
  {
   "cell_type": "code",
   "execution_count": 54,
   "metadata": {},
   "outputs": [
    {
     "data": {
      "text/plain": [
       "[<matplotlib.lines.Line2D at 0x7ff3d236d4b0>]"
      ]
     },
     "execution_count": 54,
     "metadata": {},
     "output_type": "execute_result"
    },
    {
     "data": {
      "image/png": "[encoded data removed]",
      "text/plain": [
       "<Figure size 640x480 with 1 Axes>"
      ]
     },
     "metadata": {},
     "output_type": "display_data"
    }
   ],
   "source": [
    "plt.plot(np.diff(events[:,0])[:300])"
   ]
  },
  {
   "cell_type": "code",
   "execution_count": 15,
   "metadata": {},
   "outputs": [
    {
     "data": {
      "text/plain": [
       "array([[ 86949,      0,      1],\n",
       "       [ 90157,      0,    128],\n",
       "       [ 90164,      0,    128],\n",
       "       ...,\n",
       "       [697296,      0,    128],\n",
       "       [697303,      0,    128],\n",
       "       [700533,      0,      1]])"
      ]
     },
     "execution_count": 15,
     "metadata": {},
     "output_type": "execute_result"
    }
   ],
   "source": [
    "events"
   ]
  },
  {
   "cell_type": "code",
   "execution_count": 7,
   "metadata": {},
   "outputs": [
    {
     "data": {
      "text/html": [
       "<table class=\"table table-hover table-striped table-sm table-responsive small\">\n",
       "    <tr>\n",
       "        <th>Measurement date</th>\n",
       "        \n",
       "        <td>October 19, 2022  09:34:52 GMT</td>\n",
       "        \n",
       "    </tr>\n",
       "    <tr>\n",
       "        <th>Experimenter</th>\n",
       "        \n",
       "        <td>mne_anonymize</td>\n",
       "        \n",
       "    </tr>\n",
       "        <th>Participant</th>\n",
       "        \n",
       "            \n",
       "            <td>sub-1</td>\n",
       "            \n",
       "        \n",
       "    </tr>\n",
       "    <tr>\n",
       "        <th>Digitized points</th>\n",
       "        \n",
       "        <td>53 points</td>\n",
       "        \n",
       "    </tr>\n",
       "    <tr>\n",
       "        <th>Good channels</th>\n",
       "        <td>204 Gradiometers, 102 Magnetometers, 19 Stimulus, 2 EOG, 1 ECG, 18 misc</td>\n",
       "    </tr>\n",
       "    <tr>\n",
       "        <th>Bad channels</th>\n",
       "        <td>None</td>\n",
       "    </tr>\n",
       "    <tr>\n",
       "        <th>EOG channels</th>\n",
       "        <td>EOG061, EOG062</td>\n",
       "    </tr>\n",
       "    <tr>\n",
       "        <th>ECG channels</th>\n",
       "        <td>ECG063</td>\n",
       "    \n",
       "    <tr>\n",
       "        <th>Sampling frequency</th>\n",
       "        <td>100.00 Hz</td>\n",
       "    </tr>\n",
       "    \n",
       "    \n",
       "    <tr>\n",
       "        <th>Highpass</th>\n",
       "        <td>0.00 Hz</td>\n",
       "    </tr>\n",
       "    \n",
       "    \n",
       "    <tr>\n",
       "        <th>Lowpass</th>\n",
       "        <td>330.00 Hz</td>\n",
       "    </tr>\n",
       "    \n",
       "    \n",
       "    <tr>\n",
       "        <th>Projections</th>\n",
       "        <td>grad_ssp_upright.fif : PCA-v1 : on<br/>grad_ssp_upright.fif : PCA-v2 : on<br/>grad_ssp_upright.fif : PCA-v3 : on<br/>grad_ssp_upright.fif : PCA-v4 : on<br/>grad_ssp_upright.fif : PCA-v5 : on<br/>mag_ssp_upright.fif : PCA-v1 : on<br/>mag_ssp_upright.fif : PCA-v2 : on<br/>mag_ssp_upright.fif : PCA-v3 : on<br/>mag_ssp_upright.fif : PCA-v4 : on<br/>mag_ssp_upright.fif : PCA-v5 : on<br/>mag_ssp_upright.fif : PCA-v6 : on<br/>mag_ssp_upright.fif : PCA-v7 : on<br/>mag_ssp_upright.fif : PCA-v8 : on</td>\n",
       "    </tr>\n",
       "    \n",
       "</table>"
      ],
      "text/plain": [
       "<Info | 25 non-empty values\n",
       " acq_pars: ACQch001 110113 ACQch002 110112 ACQch003 110111 ACQch004 110122 ...\n",
       " bads: []\n",
       " ch_names: MEG0113, MEG0112, MEG0111, MEG0122, MEG0123, MEG0121, MEG0132, ...\n",
       " chs: 204 Gradiometers, 102 Magnetometers, 19 Stimulus, 2 EOG, 1 ECG, 18 misc\n",
       " custom_ref_applied: False\n",
       " description: Anonymized using a time shift to preserve age at acquisition\n",
       " dev_head_t: MEG device -> head transform\n",
       " dig: 53 items (3 Cardinal, 4 HPI, 46 Extra)\n",
       " events: 1 item (list)\n",
       " experimenter: mne_anonymize\n",
       " file_id: 4 items (dict)\n",
       " highpass: 0.0 Hz\n",
       " hpi_meas: 1 item (list)\n",
       " hpi_results: 1 item (list)\n",
       " hpi_subsystem: 3 items (dict)\n",
       " line_freq: 50.0\n",
       " lowpass: 330.0 Hz\n",
       " maxshield: True\n",
       " meas_date: 2022-10-19 09:34:52 UTC\n",
       " meas_id: 4 items (dict)\n",
       " nchan: 346\n",
       " proc_history: 1 item (list)\n",
       " proj_id: 1 item (ndarray)\n",
       " proj_name: mne_anonymize\n",
       " projs: grad_ssp_upright.fif : PCA-v1: on, grad_ssp_upright.fif : ...\n",
       " sfreq: 100.0 Hz\n",
       " subject_info: 4 items (dict)\n",
       ">"
      ]
     },
     "execution_count": 7,
     "metadata": {},
     "output_type": "execute_result"
    }
   ],
   "source": [
    "epochs.info"
   ]
  },
  {
   "cell_type": "code",
   "execution_count": 94,
   "metadata": {},
   "outputs": [
    {
     "name": "stderr",
     "output_type": "stream",
     "text": [
      "/tmp/ipykernel_346973/3726710940.py:1: RuntimeWarning: This file contains raw Internal Active Shielding data. It may be distorted. Elekta recommends it be run through MaxFilter to produce reliable results. Consider closing the file and running MaxFilter on the data.\n",
      "  fif_321 = mne.io.read_raw_fif('/home/is153802/data/BIDS_final/sub-18/ses-01/meg/sub-18_ses-01_task-listen_run-01_meg.fif',allow_maxshield=True)\n"
     ]
    }
   ],
   "source": [
    "file1= '/home/is153802/data/BIDS_final/sub-18/ses-01/meg/sub-18_ses-01_task-listen_run-01_meg.fif'\n",
    "file\n",
    "fif_321 = mne.io.read_raw_fif(file1,allow_maxshield=True)"
   ]
  },
  {
   "cell_type": "code",
   "execution_count": 97,
   "metadata": {},
   "outputs": [
    {
     "ename": "TypeError",
     "evalue": "UpdateChannelsMixin.add_channels() missing 1 required positional argument: 'add_list'",
     "output_type": "error",
     "traceback": [
      "\u001b[0;31m---------------------------------------------------------------------------\u001b[0m",
      "\u001b[0;31mTypeError\u001b[0m                                 Traceback (most recent call last)",
      "Cell \u001b[0;32mIn [97], line 1\u001b[0m\n\u001b[0;32m----> 1\u001b[0m fif_321\u001b[38;5;241m.\u001b[39madd_channels()\n",
      "\u001b[0;31mTypeError\u001b[0m: UpdateChannelsMixin.add_channels() missing 1 required positional argument: 'add_list'"
     ]
    }
   ],
   "source": [
    "fif_321.add_channels()"
   ]
  },
  {
   "cell_type": "code",
   "execution_count": null,
   "metadata": {},
   "outputs": [],
   "source": []
  }
 ],
 "metadata": {
  "kernelspec": {
   "display_name": "Python 3.10.6 64-bit ('meg-masc')",
   "language": "python",
   "name": "python3"
  },
  "language_info": {
   "codemirror_mode": {
    "name": "ipython",
    "version": 3
   },
   "file_extension": ".py",
   "mimetype": "text/x-python",
   "name": "python",
   "nbconvert_exporter": "python",
   "pygments_lexer": "ipython3",
   "version": "3.10.6"
  },
  "orig_nbformat": 4,
  "vscode": {
   "interpreter": {
    "hash": "1541b2a7ce6718fb850c7e31854a9840c1a445a51449da7ae9469c30a41f28d5"
   }
  }
 },
 "nbformat": 4,
 "nbformat_minor": 2
}
