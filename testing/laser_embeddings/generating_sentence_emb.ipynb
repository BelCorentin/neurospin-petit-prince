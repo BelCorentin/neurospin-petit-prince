{
 "cells": [
  {
   "cell_type": "code",
   "execution_count": 7,
   "id": "620a449f",
   "metadata": {},
   "outputs": [],
   "source": [
    "from pathlib import Path\n",
    "import numpy as np\n",
    "path = Path('/home/is153802/github/LASER/tasks/embed')"
   ]
  },
  {
   "cell_type": "code",
   "execution_count": 8,
   "id": "9aedc33c",
   "metadata": {},
   "outputs": [
    {
     "name": "stdout",
     "output_type": "stream",
     "text": [
      "bash: /home/is153802/github/LASER/tasks/embed/embed.sh: No such file or directory\n",
      "bash: /home/is153802/github/LASER/tasks/embed/embed.sh: No such file or directory\n",
      "bash: /home/is153802/github/LASER/tasks/embed/embed.sh: No such file or directory\n",
      "bash: /home/is153802/github/LASER/tasks/embed/embed.sh: No such file or directory\n",
      "bash: /home/is153802/github/LASER/tasks/embed/embed.sh: No such file or directory\n",
      "bash: /home/is153802/github/LASER/tasks/embed/embed.sh: No such file or directory\n",
      "bash: /home/is153802/github/LASER/tasks/embed/embed.sh: No such file or directory\n",
      "bash: /home/is153802/github/LASER/tasks/embed/embed.sh: No such file or directory\n",
      "bash: /home/is153802/github/LASER/tasks/embed/embed.sh: No such file or directory\n"
     ]
    }
   ],
   "source": [
    "CHAPTERS = {\n",
    "        1: \"1-3\",\n",
    "        2: \"4-6\",\n",
    "        3: \"7-9\",\n",
    "        4: \"10-12\",\n",
    "        5: \"13-14\",\n",
    "        6: \"15-19\",\n",
    "        7: \"20-22\",\n",
    "        8: \"23-25\",\n",
    "        9: \"26-27\",\n",
    "    }\n",
    "!export LASER=\"${HOME}/github/LASER\"\n",
    "for run in np.arange(1,10):\n",
    "    ch = CHAPTERS[run]\n",
    "    txt_file = f\"/home/is153802/code/data/txt_laser/run{run}.txt\"\n",
    "    emb_file = f\"/home/is153802/code/data/laser_embeddings/emb_{ch}.bin\"\n",
    "    !bash /home/is153802/github/LASER/tasks/embed/embed.sh {txt_file} {emb_file}\n"
   ]
  },
  {
   "cell_type": "code",
   "execution_count": 9,
   "id": "714227f5",
   "metadata": {},
   "outputs": [
    {
     "name": "stdout",
     "output_type": "stream",
     "text": [
      "emb_10-12.bin  emb_1-3.bin    emb_20-22.bin  emb_26-27.bin  emb_7-9.bin\r\n",
      "emb_13-14.bin  emb_15-19.bin  emb_23-25.bin  emb_4-6.bin\r\n"
     ]
    }
   ],
   "source": [
    "ls /home/is153802/code/data/laser_embeddings/"
   ]
  },
  {
   "cell_type": "code",
   "execution_count": 9,
   "id": "b87933de",
   "metadata": {},
   "outputs": [
    {
     "data": {
      "text/plain": [
       "'/home/co/workspace_LPP/code/neurospin-petit-prince/testing/laser_embeddings'"
      ]
     },
     "execution_count": 9,
     "metadata": {},
     "output_type": "execute_result"
    }
   ],
   "source": [
    "pwd"
   ]
  },
  {
   "cell_type": "code",
   "execution_count": null,
   "id": "174514ed",
   "metadata": {},
   "outputs": [],
   "source": []
  }
 ],
 "metadata": {
  "kernelspec": {
   "display_name": "Python 3 (ipykernel)",
   "language": "python",
   "name": "python3"
  },
  "language_info": {
   "codemirror_mode": {
    "name": "ipython",
    "version": 3
   },
   "file_extension": ".py",
   "mimetype": "text/x-python",
   "name": "python",
   "nbconvert_exporter": "python",
   "pygments_lexer": "ipython3",
   "version": "3.10.4"
  }
 },
 "nbformat": 4,
 "nbformat_minor": 5
}
