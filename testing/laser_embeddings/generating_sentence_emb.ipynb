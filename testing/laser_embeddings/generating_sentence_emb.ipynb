{
 "cells": [
  {
   "cell_type": "code",
   "execution_count": 1,
   "id": "620a449f",
   "metadata": {},
   "outputs": [],
   "source": [
    "from pathlib import Path\n",
    "import numpy as np\n",
    "path = Path('/home/is153802/github/LASER/tasks/embed')"
   ]
  },
  {
   "cell_type": "code",
   "execution_count": 22,
   "id": "c561d791",
   "metadata": {},
   "outputs": [
    {
     "name": "stdout",
     "output_type": "stream",
     "text": [
      "env: LASER=/home/is153802/github/LASER\n"
     ]
    }
   ],
   "source": [
    "%env LASER=/home/is153802/github/LASER"
   ]
  },
  {
   "cell_type": "code",
   "execution_count": 24,
   "id": "eebec534",
   "metadata": {},
   "outputs": [
    {
     "name": "stdout",
     "output_type": "stream",
     "text": [
      "Collecting transliterate\n",
      "  Using cached transliterate-1.10.2-py2.py3-none-any.whl (45 kB)\n",
      "Collecting tensorboardX\n",
      "  Downloading tensorboardX-2.6-py2.py3-none-any.whl (114 kB)\n",
      "\u001b[2K     \u001b[90m━━━━━━━━━━━━━━━━━━━━━━━━━━━━━━━━━━━━━━━\u001b[0m \u001b[32m114.5/114.5 kB\u001b[0m \u001b[31m2.5 MB/s\u001b[0m eta \u001b[36m0:00:00\u001b[0ma \u001b[36m0:00:01\u001b[0m\n",
      "\u001b[?25hRequirement already satisfied: six>=1.1.0 in /home/is153802/.pyenv/versions/3.10.6/envs/meg-masc/lib/python3.10/site-packages (from transliterate) (1.16.0)\n",
      "Requirement already satisfied: packaging in /home/is153802/.pyenv/versions/3.10.6/envs/meg-masc/lib/python3.10/site-packages (from tensorboardX) (21.3)\n",
      "Collecting protobuf<4,>=3.8.0\n",
      "  Using cached protobuf-3.20.3-cp310-cp310-manylinux_2_12_x86_64.manylinux2010_x86_64.whl (1.1 MB)\n",
      "Requirement already satisfied: numpy in /home/is153802/.pyenv/versions/3.10.6/envs/meg-masc/lib/python3.10/site-packages (from tensorboardX) (1.23.2)\n",
      "Requirement already satisfied: pyparsing!=3.0.5,>=2.0.2 in /home/is153802/.pyenv/versions/3.10.6/envs/meg-masc/lib/python3.10/site-packages (from packaging->tensorboardX) (3.0.9)\n",
      "Installing collected packages: transliterate, protobuf, tensorboardX\n",
      "Successfully installed protobuf-3.20.3 tensorboardX-2.6 transliterate-1.10.2\n",
      "\n",
      "\u001b[1m[\u001b[0m\u001b[34;49mnotice\u001b[0m\u001b[1;39;49m]\u001b[0m\u001b[39;49m A new release of pip available: \u001b[0m\u001b[31;49m22.2.2\u001b[0m\u001b[39;49m -> \u001b[0m\u001b[32;49m23.0.1\u001b[0m\n",
      "\u001b[1m[\u001b[0m\u001b[34;49mnotice\u001b[0m\u001b[1;39;49m]\u001b[0m\u001b[39;49m To update, run: \u001b[0m\u001b[32;49mpip install --upgrade pip\u001b[0m\n"
     ]
    }
   ],
   "source": [
    "!pip install transliterate tensorboardX"
   ]
  },
  {
   "cell_type": "code",
   "execution_count": 27,
   "id": "9aedc33c",
   "metadata": {},
   "outputs": [
    {
     "name": "stdout",
     "output_type": "stream",
     "text": [
      "2023-03-23 00:48:06,276 | INFO | embed | spm_model: /home/is153802/github/LASER/laser2.spm\n",
      "2023-03-23 00:48:06,276 | INFO | embed | spm_cvocab: /home/is153802/github/LASER/laser2.cvocab\n",
      "2023-03-23 00:48:06,276 | INFO | embed | loading encoder: /home/is153802/github/LASER/laser2.pt\n",
      "2023-03-23 00:48:06,811 | INFO | preprocess | SPM processing run1.txt  \n",
      "2023-03-23 00:48:06,913 | INFO | embed | encoding /tmp/tmprciny7o3/spm to /home/is153802/code/data/laser_embeddings/emb_1-3.bin\n",
      "2023-03-23 00:48:07,638 | INFO | embed | encoded 134 sentences in 0s\n",
      "2023-03-23 00:48:10,364 | INFO | embed | spm_model: /home/is153802/github/LASER/laser2.spm\n",
      "2023-03-23 00:48:10,364 | INFO | embed | spm_cvocab: /home/is153802/github/LASER/laser2.cvocab\n",
      "2023-03-23 00:48:10,364 | INFO | embed | loading encoder: /home/is153802/github/LASER/laser2.pt\n",
      "2023-03-23 00:48:10,899 | INFO | preprocess | SPM processing run2.txt  \n",
      "2023-03-23 00:48:11,012 | INFO | embed | encoding /tmp/tmpvmp1hhb6/spm to /home/is153802/code/data/laser_embeddings/emb_4-6.bin\n",
      "2023-03-23 00:48:11,804 | INFO | embed | encoded 134 sentences in 0s\n",
      "2023-03-23 00:48:14,527 | INFO | embed | spm_model: /home/is153802/github/LASER/laser2.spm\n",
      "2023-03-23 00:48:14,527 | INFO | embed | spm_cvocab: /home/is153802/github/LASER/laser2.cvocab\n",
      "2023-03-23 00:48:14,528 | INFO | embed | loading encoder: /home/is153802/github/LASER/laser2.pt\n",
      "2023-03-23 00:48:15,060 | INFO | preprocess | SPM processing run3.txt  \n",
      "2023-03-23 00:48:15,177 | INFO | embed | encoding /tmp/tmpc_mir_1o/spm to /home/is153802/code/data/laser_embeddings/emb_7-9.bin\n",
      "2023-03-23 00:48:15,999 | INFO | embed | encoded 182 sentences in 0s\n",
      "2023-03-23 00:48:18,732 | INFO | embed | spm_model: /home/is153802/github/LASER/laser2.spm\n",
      "2023-03-23 00:48:18,732 | INFO | embed | spm_cvocab: /home/is153802/github/LASER/laser2.cvocab\n",
      "2023-03-23 00:48:18,732 | INFO | embed | loading encoder: /home/is153802/github/LASER/laser2.pt\n",
      "2023-03-23 00:48:19,267 | INFO | preprocess | SPM processing run4.txt  \n",
      "2023-03-23 00:48:19,379 | INFO | embed | encoding /tmp/tmpse2snkil/spm to /home/is153802/code/data/laser_embeddings/emb_10-12.bin\n",
      "2023-03-23 00:48:20,141 | INFO | embed | encoded 171 sentences in 0s\n",
      "2023-03-23 00:48:22,864 | INFO | embed | spm_model: /home/is153802/github/LASER/laser2.spm\n",
      "2023-03-23 00:48:22,864 | INFO | embed | spm_cvocab: /home/is153802/github/LASER/laser2.cvocab\n",
      "2023-03-23 00:48:22,864 | INFO | embed | loading encoder: /home/is153802/github/LASER/laser2.pt\n",
      "2023-03-23 00:48:23,395 | INFO | preprocess | SPM processing run5.txt  \n",
      "2023-03-23 00:48:23,510 | INFO | embed | encoding /tmp/tmpiebicdr1/spm to /home/is153802/code/data/laser_embeddings/emb_13-14.bin\n",
      "2023-03-23 00:48:24,200 | INFO | embed | encoded 177 sentences in 0s\n",
      "2023-03-23 00:48:26,939 | INFO | embed | spm_model: /home/is153802/github/LASER/laser2.spm\n",
      "2023-03-23 00:48:26,940 | INFO | embed | spm_cvocab: /home/is153802/github/LASER/laser2.cvocab\n",
      "2023-03-23 00:48:26,940 | INFO | embed | loading encoder: /home/is153802/github/LASER/laser2.pt\n",
      "2023-03-23 00:48:27,472 | INFO | preprocess | SPM processing run6.txt  \n",
      "2023-03-23 00:48:27,578 | INFO | embed | encoding /tmp/tmp1g1wl93m/spm to /home/is153802/code/data/laser_embeddings/emb_15-19.bin\n",
      "2023-03-23 00:48:28,396 | INFO | embed | encoded 195 sentences in 0s\n",
      "2023-03-23 00:48:31,130 | INFO | embed | spm_model: /home/is153802/github/LASER/laser2.spm\n",
      "2023-03-23 00:48:31,131 | INFO | embed | spm_cvocab: /home/is153802/github/LASER/laser2.cvocab\n",
      "2023-03-23 00:48:31,131 | INFO | embed | loading encoder: /home/is153802/github/LASER/laser2.pt\n",
      "2023-03-23 00:48:31,664 | INFO | preprocess | SPM processing run7.txt  \n",
      "2023-03-23 00:48:31,779 | INFO | embed | encoding /tmp/tmphuho_873/spm to /home/is153802/code/data/laser_embeddings/emb_20-22.bin\n",
      "2023-03-23 00:48:32,530 | INFO | embed | encoded 179 sentences in 0s\n",
      "2023-03-23 00:48:35,251 | INFO | embed | spm_model: /home/is153802/github/LASER/laser2.spm\n",
      "2023-03-23 00:48:35,251 | INFO | embed | spm_cvocab: /home/is153802/github/LASER/laser2.cvocab\n",
      "2023-03-23 00:48:35,251 | INFO | embed | loading encoder: /home/is153802/github/LASER/laser2.pt\n",
      "2023-03-23 00:48:35,784 | INFO | preprocess | SPM processing run8.txt  \n",
      "2023-03-23 00:48:35,900 | INFO | embed | encoding /tmp/tmppcbx6ob_/spm to /home/is153802/code/data/laser_embeddings/emb_23-25.bin\n",
      "2023-03-23 00:48:36,625 | INFO | embed | encoded 142 sentences in 0s\n",
      "2023-03-23 00:48:39,365 | INFO | embed | spm_model: /home/is153802/github/LASER/laser2.spm\n",
      "2023-03-23 00:48:39,366 | INFO | embed | spm_cvocab: /home/is153802/github/LASER/laser2.cvocab\n",
      "2023-03-23 00:48:39,366 | INFO | embed | loading encoder: /home/is153802/github/LASER/laser2.pt\n",
      "2023-03-23 00:48:39,900 | INFO | preprocess | SPM processing run9.txt  \n",
      "2023-03-23 00:48:40,015 | INFO | embed | encoding /tmp/tmphv0ni_4b/spm to /home/is153802/code/data/laser_embeddings/emb_26-27.bin\n",
      "2023-03-23 00:48:40,832 | INFO | embed | encoded 196 sentences in 0s\n"
     ]
    }
   ],
   "source": [
    "CHAPTERS = {\n",
    "        1: \"1-3\",\n",
    "        2: \"4-6\",\n",
    "        3: \"7-9\",\n",
    "        4: \"10-12\",\n",
    "        5: \"13-14\",\n",
    "        6: \"15-19\",\n",
    "        7: \"20-22\",\n",
    "        8: \"23-25\",\n",
    "        9: \"26-27\",\n",
    "    }\n",
    "\n",
    "for run in np.arange(1,10):\n",
    "    ch = CHAPTERS[run]\n",
    "    txt_file = f\"/home/is153802/code/data/txt_laser/run{run}.txt\"\n",
    "    emb_file = f\"/home/is153802/code/data/laser_embeddings/emb_{ch}.bin\"\n",
    "    !bash /home/is153802/github/LASER/tasks/embed/embed.sh {txt_file} {emb_file}\n"
   ]
  },
  {
   "cell_type": "code",
   "execution_count": 9,
   "id": "714227f5",
   "metadata": {},
   "outputs": [
    {
     "name": "stdout",
     "output_type": "stream",
     "text": [
      "emb_10-12.bin  emb_1-3.bin    emb_20-22.bin  emb_26-27.bin  emb_7-9.bin\r\n",
      "emb_13-14.bin  emb_15-19.bin  emb_23-25.bin  emb_4-6.bin\r\n"
     ]
    }
   ],
   "source": [
    "ls /home/is153802/code/data/laser_embeddings/"
   ]
  },
  {
   "cell_type": "code",
   "execution_count": 9,
   "id": "b87933de",
   "metadata": {},
   "outputs": [
    {
     "data": {
      "text/plain": [
       "'/home/co/workspace_LPP/code/neurospin-petit-prince/testing/laser_embeddings'"
      ]
     },
     "execution_count": 9,
     "metadata": {},
     "output_type": "execute_result"
    }
   ],
   "source": [
    "pwd"
   ]
  },
  {
   "cell_type": "code",
   "execution_count": 16,
   "id": "174514ed",
   "metadata": {},
   "outputs": [
    {
     "name": "stdout",
     "output_type": "stream",
     "text": [
      "\u001b[0m\u001b[01;34macas_participation\u001b[0m/  \u001b[01;34mDesktop\u001b[0m/    \u001b[01;34mgithub\u001b[0m/     source_reconstruction.ipynb\r\n",
      "\u001b[01;34mafer\u001b[0m/                \u001b[01;34mDocuments\u001b[0m/  \u001b[01;34mmatlab\u001b[0m/     \u001b[01;34mtmp\u001b[0m/\r\n",
      "\u001b[01;36mcode\u001b[0m@                \u001b[01;34mDownloads\u001b[0m/  \u001b[01;34mneurospin\u001b[0m/  \u001b[01;34mvideos\u001b[0m/\r\n",
      "\u001b[01;36mdata\u001b[0m@                \u001b[01;34mexpe\u001b[0m/       \u001b[01;34mph\u001b[0m/         \u001b[01;36mworkspace_LPP\u001b[0m@\r\n",
      "\u001b[01;34mdecode\u001b[0m/              \u001b[01;34mfun\u001b[0m/        \u001b[01;34msnap\u001b[0m/       \u001b[01;34mZotero\u001b[0m/\r\n"
     ]
    }
   ],
   "source": [
    "ls /home/is153802/"
   ]
  },
  {
   "cell_type": "code",
   "execution_count": null,
   "id": "71c3719b",
   "metadata": {},
   "outputs": [],
   "source": []
  }
 ],
 "metadata": {
  "kernelspec": {
   "display_name": "Python 3 (ipykernel)",
   "language": "python",
   "name": "python3"
  },
  "language_info": {
   "codemirror_mode": {
    "name": "ipython",
    "version": 3
   },
   "file_extension": ".py",
   "mimetype": "text/x-python",
   "name": "python",
   "nbconvert_exporter": "python",
   "pygments_lexer": "ipython3",
   "version": "3.10.6"
  }
 },
 "nbformat": 4,
 "nbformat_minor": 5
}
