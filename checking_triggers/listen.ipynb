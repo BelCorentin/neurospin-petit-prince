{
 "cells": [
  {
   "cell_type": "markdown",
   "metadata": {},
   "source": [
    "# Veryfying the trigger LPP Listen"
   ]
  },
  {
   "cell_type": "markdown",
   "metadata": {},
   "source": [
    "## From Audio file"
   ]
  },
  {
   "cell_type": "code",
   "execution_count": 5,
   "metadata": {},
   "outputs": [],
   "source": [
    "import wave\n",
    "import numpy as np\n",
    "import matplotlib.pyplot as plt\n",
    "\n",
    "# Ouvrir le fichier audio\n",
    "filepath = '/media/co/T7/workspace-LPP/data/MEG/LPP/PallierRead2023/download/sourcedata/stimuli/audio/ch1-3.wav'\n",
    "\n",
    "with wave.open(filepath, 'rb') as wf:\n",
    "    # Obtenir les paramètres du fichier\n",
    "    num_channels = wf.getnchannels()\n",
    "    sample_width = wf.getsampwidth()\n",
    "    frame_rate = wf.getframerate()\n",
    "    num_frames = wf.getnframes()\n",
    "    \n",
    "    # Lire les données audio\n",
    "    raw_data = wf.readframes(num_frames)\n",
    "\n",
    "# Convertir les données brutes en tableau numpy\n",
    "data = np.frombuffer(raw_data, dtype=np.int16)\n",
    "\n",
    "# Séparer les canaux (en supposant un fichier stéréo)\n",
    "if num_channels == 2:\n",
    "    channel_1 = data[0::2]\n",
    "    channel_2 = data[1::2]\n",
    "else:\n",
    "    raise ValueError(\"Le fichier doit être stéréo (2 canaux)\")\n",
    "\n",
    "# Définir un seuil pour détecter les créneaux (à ajuster selon vos besoins)\n",
    "threshold = np.max(channel_2) * 0.5\n",
    "\n",
    "# Trouver les indices où le signal dépasse le seuil\n",
    "creneaux = np.where(channel_2 > threshold)[0]\n",
    "\n",
    "# Trouver les débuts des créneaux (en ignorant les valeurs consécutives)\n",
    "debuts_creneaux = creneaux[np.insert(np.diff(creneaux) > 1, 0, True)]\n",
    "\n",
    "# Convertir les indices en temps (en secondes)\n",
    "timings = debuts_creneaux / frame_rate\n"
   ]
  },
  {
   "cell_type": "code",
   "execution_count": 11,
   "metadata": {},
   "outputs": [],
   "source": [
    "# Open the metadata file and extract the triggers \n",
    "filepath = '/media/co/T7/workspace-LPP/data/MEG/LPP/PallierListen2023/download/sub-1/ses-01/meg/sub-1_ses-01_task-listen_run-01_events.tsv' \n",
    "import pandas as pd\n",
    "df = pd.read_csv(filepath, sep='\\t')\n",
    "# Compare the timings with the df.onset\n",
    "timings_metadata = df.onset\n"
   ]
  },
  {
   "cell_type": "code",
   "execution_count": 13,
   "metadata": {},
   "outputs": [
    {
     "data": {
      "image/png": "[encoded data removed]",
      "text/plain": [
       "<Figure size 432x288 with 1 Axes>"
      ]
     },
     "metadata": {
      "needs_background": "light"
     },
     "output_type": "display_data"
    },
    {
     "name": "stdout",
     "output_type": "stream",
     "text": [
      "[0. 0. 0. ... 0. 0. 0.]\n",
      "1.9614456251169395e-06\n",
      "6.284727779849602e-06\n",
      "-18\n",
      "18\n"
     ]
    },
    {
     "name": "stderr",
     "output_type": "stream",
     "text": [
      "<ipython-input-13-09f2e627441f>:10: FutureWarning: Support for multi-dimensional indexing (e.g. `obj[:, None]`) is deprecated and will be removed in a future version.  Convert to a numpy array before indexing instead.\n",
      "  distances = cdist(timings[:, None], timings_metadata[:, None])\n"
     ]
    }
   ],
   "source": [
    "# Compare the two\n",
    "plt.figure()\n",
    "plt.plot(timings, np.zeros_like(timings), 'ro', label='audio')\n",
    "plt.plot(timings_metadata, np.zeros_like(timings_metadata), 'bo', label='metadata')\n",
    "plt.legend()\n",
    "plt.show()\n",
    "\n",
    "# Get a metric of the matching \n",
    "from scipy.spatial.distance import cdist\n",
    "distances = cdist(timings[:, None], timings_metadata[:, None])\n",
    "min_distances = np.min(distances, axis=1)\n",
    "print(min_distances)\n",
    "print(np.mean(min_distances))\n",
    "print(np.std(min_distances))\n",
    "\n",
    "# Get number of non-matching triggers\n",
    "print(len(timings) - len(timings_metadata))\n",
    "print(len(timings_metadata) - len(timings))\n",
    "\n"
   ]
  },
  {
   "cell_type": "code",
   "execution_count": null,
   "metadata": {},
   "outputs": [],
   "source": []
  }
 ],
 "metadata": {
  "kernelspec": {
   "display_name": "meg",
   "language": "python",
   "name": "python3"
  },
  "language_info": {
   "codemirror_mode": {
    "name": "ipython",
    "version": 3
   },
   "file_extension": ".py",
   "mimetype": "text/x-python",
   "name": "python",
   "nbconvert_exporter": "python",
   "pygments_lexer": "ipython3",
   "version": "3.9.18"
  }
 },
 "nbformat": 4,
 "nbformat_minor": 2
}
